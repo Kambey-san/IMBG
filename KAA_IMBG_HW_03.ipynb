{
  "nbformat": 4,
  "nbformat_minor": 0,
  "metadata": {
    "colab": {
      "provenance": [],
      "authorship_tag": "ABX9TyMtondG4e8/xOClWllYIwp9",
      "include_colab_link": true
    },
    "kernelspec": {
      "name": "python3",
      "display_name": "Python 3"
    },
    "language_info": {
      "name": "python"
    }
  },
  "cells": [
    {
      "cell_type": "markdown",
      "metadata": {
        "id": "view-in-github",
        "colab_type": "text"
      },
      "source": [
        "<a href=\"https://colab.research.google.com/github/Kambey-san/IMBG/blob/HW_lesson_03/KAA_IMBG_HW_03.ipynb\" target=\"_parent\"><img src=\"https://colab.research.google.com/assets/colab-badge.svg\" alt=\"Open In Colab\"/></a>"
      ]
    },
    {
      "cell_type": "markdown",
      "source": [
        "## Введение в молекулярную биологию и генетику\n",
        "### Урок 3. Мутации/ДЗ\n",
        "\n",
        "В таблицу гена, полученную по итогам практического задания первого урока, добавьте следующую информацию: количество rs для избранного гена.\n",
        "\n",
        "Сделанное практическое задание предоставляется в формате .ipynb.\n",
        "\n",
        "https://colab.research.google.com/drive/1VlaBiTicFWCul2kExwadAJ1UfaNUPlvS"
      ],
      "metadata": {
        "id": "xZO3DNKjBzES"
      }
    },
    {
      "cell_type": "code",
      "execution_count": 2,
      "metadata": {
        "colab": {
          "base_uri": "https://localhost:8080/"
        },
        "id": "6sQnewxd0fN6",
        "outputId": "0695e609-9aac-463e-f4e2-2277599c49ff"
      },
      "outputs": [
        {
          "output_type": "stream",
          "name": "stdout",
          "text": [
            "Collecting biopython\n",
            "  Downloading biopython-1.83-cp310-cp310-manylinux_2_17_x86_64.manylinux2014_x86_64.whl (3.1 MB)\n",
            "\u001b[2K     \u001b[90m━━━━━━━━━━━━━━━━━━━━━━━━━━━━━━━━━━━━━━━━\u001b[0m \u001b[32m3.1/3.1 MB\u001b[0m \u001b[31m30.0 MB/s\u001b[0m eta \u001b[36m0:00:00\u001b[0m\n",
            "\u001b[?25hRequirement already satisfied: numpy in /usr/local/lib/python3.10/dist-packages (from biopython) (1.25.2)\n",
            "Installing collected packages: biopython\n",
            "Successfully installed biopython-1.83\n"
          ]
        }
      ],
      "source": [
        "try:\n",
        "    import google.colab\n",
        "    # Running on Google Colab, so install Biopython first\n",
        "    !pip install biopython\n",
        "except ImportError:\n",
        "    pass"
      ]
    },
    {
      "cell_type": "code",
      "source": [
        "from Bio import Entrez\n",
        "Entrez.email = \"A.N.Other@example.com\"\n",
        "from Bio import SeqIO\n",
        "from Bio.Seq import MutableSeq\n",
        "from Bio.Seq import Seq\n",
        "from Bio.SeqRecord import SeqRecord\n",
        "import pandas as pd\n",
        "import xml.etree.ElementTree as ET"
      ],
      "metadata": {
        "id": "p2lPfHfY0pvm"
      },
      "execution_count": 3,
      "outputs": []
    },
    {
      "cell_type": "code",
      "source": [
        "from google.colab import drive\n",
        "drive.mount('/content/drive')"
      ],
      "metadata": {
        "colab": {
          "base_uri": "https://localhost:8080/"
        },
        "id": "xyYTesLu1Plu",
        "outputId": "8178bdba-5c98-414c-abcf-17c3a61f760b"
      },
      "execution_count": 4,
      "outputs": [
        {
          "output_type": "stream",
          "name": "stdout",
          "text": [
            "Mounted at /content/drive\n"
          ]
        }
      ]
    },
    {
      "cell_type": "code",
      "source": [
        "%cd '/content/drive/MyDrive/Data since in Healthcare/IMBG'"
      ],
      "metadata": {
        "colab": {
          "base_uri": "https://localhost:8080/"
        },
        "id": "HBZU7FiS1fu7",
        "outputId": "0c574e1f-6786-4b2a-fa70-afdfe93e479a"
      },
      "execution_count": 5,
      "outputs": [
        {
          "output_type": "stream",
          "name": "stdout",
          "text": [
            "/content/drive/MyDrive/Data since in Healthcare/IMBG\n"
          ]
        }
      ]
    },
    {
      "cell_type": "code",
      "source": [
        "dis = pd.read_table('gene_disease_associations.tsv')\n",
        "dis"
      ],
      "metadata": {
        "colab": {
          "base_uri": "https://localhost:8080/",
          "height": 669
        },
        "id": "NiizH2dO1yrt",
        "outputId": "a4259e75-119f-4226-d580-b3f833ee496c"
      },
      "execution_count": 6,
      "outputs": [
        {
          "output_type": "execute_result",
          "data": {
            "text/plain": [
              "         gene_pli  score diseaseid  gene_dsi    protein_class_name  geneid  \\\n",
              "0    1.643200e-05   1.00  C0001080     0.391                Kinase    2261   \n",
              "1    1.040000e-05   0.80  C0000744     0.505           Transporter    4547   \n",
              "2    9.973100e-01   0.80  C0001193     0.380                Kinase    2263   \n",
              "3    5.323500e-01   0.70  C0001418     0.236  Transcription factor    7157   \n",
              "4    8.460200e-01   0.69  C0001126     0.522           Transporter    6521   \n",
              "..            ...    ...       ...       ...                   ...     ...   \n",
              "453  1.047800e-06   0.30  C0001430     0.578                   NaN    6948   \n",
              "454  2.095700e-32   0.30  C0001430     0.419           Transporter    9429   \n",
              "455  1.000000e+00   0.30  C0001546     0.552  Epigenetic regulator   10014   \n",
              "456  8.919400e-01   0.30  C0001618     0.636      Enzyme modulator    2771   \n",
              "457  9.998500e-01   0.30  C0001618     0.401                   NaN    5573   \n",
              "\n",
              "       disease_class disease_type uniprotid  \\\n",
              "0            C16;C05      disease    P22607   \n",
              "1            C16;C18      disease    P55157   \n",
              "2            C16;C05      disease    P21802   \n",
              "3                C04        group    P04637   \n",
              "4    C16;C18;C13;C12    phenotype    P02730   \n",
              "..               ...          ...       ...   \n",
              "453              C04        group    P20062   \n",
              "454              C04        group    Q9UNQ0   \n",
              "455              F03        group    Q9UQL6   \n",
              "456          C04;C19        group    P04899   \n",
              "457          C04;C19        group    P10644   \n",
              "\n",
              "                                    disease_class_name  \\\n",
              "0       Congenital, Hereditary, and Neonatal Diseas...   \n",
              "1       Congenital, Hereditary, and Neonatal Diseas...   \n",
              "2       Congenital, Hereditary, and Neonatal Diseas...   \n",
              "3                                            Neoplasms   \n",
              "4       Congenital, Hereditary, and Neonatal Diseas...   \n",
              "..                                                 ...   \n",
              "453                                          Neoplasms   \n",
              "454                                          Neoplasms   \n",
              "455                                   Mental Disorders   \n",
              "456            Neoplasms;    Endocrine System Diseases   \n",
              "457            Neoplasms;    Endocrine System Diseases   \n",
              "\n",
              "                 disease_name          el  year_initial   source     ei  \\\n",
              "0              Achondroplasia  definitive        1994.0  CURATED  0.974   \n",
              "1        Abetalipoproteinemia         NaN        1985.0  CURATED  0.982   \n",
              "2              Apert syndrome         NaN        1994.0  CURATED  0.976   \n",
              "3              Adenocarcinoma         NaN        1986.0  CURATED  0.975   \n",
              "4      Renal tubular acidosis         NaN        1996.0  CURATED  1.000   \n",
              "..                        ...         ...           ...      ...    ...   \n",
              "453                   Adenoma         NaN        2007.0  CURATED  1.000   \n",
              "454                   Adenoma         NaN        2011.0  CURATED  1.000   \n",
              "455      Adjustment Disorders         NaN        2007.0  CURATED  1.000   \n",
              "456  Tumors of Adrenal Cortex         NaN           NaN  CURATED    NaN   \n",
              "457  Tumors of Adrenal Cortex         NaN           NaN  CURATED    NaN   \n",
              "\n",
              "     gene_dpi protein_class  year_final gene_symbol  \\\n",
              "0       0.846  DTO_03300101      2020.0       FGFR3   \n",
              "1       0.846  DTO_05007405      2019.0        MTTP   \n",
              "2       0.808  DTO_03300101      2019.0       FGFR2   \n",
              "3       0.962  DTO_05007542      2020.0        TP53   \n",
              "4       0.731  DTO_05007405      2013.0      SLC4A1   \n",
              "..        ...           ...         ...         ...   \n",
              "453     0.615           NaN      2007.0        TCN2   \n",
              "454     0.885  DTO_05007405      2011.0       ABCG2   \n",
              "455     0.769  DTO_05007378      2007.0       HDAC5   \n",
              "456     0.577  DTO_05007584         NaN       GNAI2   \n",
              "457     0.846           NaN         NaN     PRKAR1A   \n",
              "\n",
              "                disease_semantic_type  \n",
              "0              Congenital Abnormality  \n",
              "1                 Disease or Syndrome  \n",
              "2              Congenital Abnormality  \n",
              "3                  Neoplastic Process  \n",
              "4                 Disease or Syndrome  \n",
              "..                                ...  \n",
              "453                Neoplastic Process  \n",
              "454                Neoplastic Process  \n",
              "455  Mental or Behavioral Dysfunction  \n",
              "456                Neoplastic Process  \n",
              "457                Neoplastic Process  \n",
              "\n",
              "[458 rows x 20 columns]"
            ],
            "text/html": [
              "\n",
              "  <div id=\"df-905d7176-401c-4d27-ad57-e4ca0ad28463\" class=\"colab-df-container\">\n",
              "    <div>\n",
              "<style scoped>\n",
              "    .dataframe tbody tr th:only-of-type {\n",
              "        vertical-align: middle;\n",
              "    }\n",
              "\n",
              "    .dataframe tbody tr th {\n",
              "        vertical-align: top;\n",
              "    }\n",
              "\n",
              "    .dataframe thead th {\n",
              "        text-align: right;\n",
              "    }\n",
              "</style>\n",
              "<table border=\"1\" class=\"dataframe\">\n",
              "  <thead>\n",
              "    <tr style=\"text-align: right;\">\n",
              "      <th></th>\n",
              "      <th>gene_pli</th>\n",
              "      <th>score</th>\n",
              "      <th>diseaseid</th>\n",
              "      <th>gene_dsi</th>\n",
              "      <th>protein_class_name</th>\n",
              "      <th>geneid</th>\n",
              "      <th>disease_class</th>\n",
              "      <th>disease_type</th>\n",
              "      <th>uniprotid</th>\n",
              "      <th>disease_class_name</th>\n",
              "      <th>disease_name</th>\n",
              "      <th>el</th>\n",
              "      <th>year_initial</th>\n",
              "      <th>source</th>\n",
              "      <th>ei</th>\n",
              "      <th>gene_dpi</th>\n",
              "      <th>protein_class</th>\n",
              "      <th>year_final</th>\n",
              "      <th>gene_symbol</th>\n",
              "      <th>disease_semantic_type</th>\n",
              "    </tr>\n",
              "  </thead>\n",
              "  <tbody>\n",
              "    <tr>\n",
              "      <th>0</th>\n",
              "      <td>1.643200e-05</td>\n",
              "      <td>1.00</td>\n",
              "      <td>C0001080</td>\n",
              "      <td>0.391</td>\n",
              "      <td>Kinase</td>\n",
              "      <td>2261</td>\n",
              "      <td>C16;C05</td>\n",
              "      <td>disease</td>\n",
              "      <td>P22607</td>\n",
              "      <td>Congenital, Hereditary, and Neonatal Diseas...</td>\n",
              "      <td>Achondroplasia</td>\n",
              "      <td>definitive</td>\n",
              "      <td>1994.0</td>\n",
              "      <td>CURATED</td>\n",
              "      <td>0.974</td>\n",
              "      <td>0.846</td>\n",
              "      <td>DTO_03300101</td>\n",
              "      <td>2020.0</td>\n",
              "      <td>FGFR3</td>\n",
              "      <td>Congenital Abnormality</td>\n",
              "    </tr>\n",
              "    <tr>\n",
              "      <th>1</th>\n",
              "      <td>1.040000e-05</td>\n",
              "      <td>0.80</td>\n",
              "      <td>C0000744</td>\n",
              "      <td>0.505</td>\n",
              "      <td>Transporter</td>\n",
              "      <td>4547</td>\n",
              "      <td>C16;C18</td>\n",
              "      <td>disease</td>\n",
              "      <td>P55157</td>\n",
              "      <td>Congenital, Hereditary, and Neonatal Diseas...</td>\n",
              "      <td>Abetalipoproteinemia</td>\n",
              "      <td>NaN</td>\n",
              "      <td>1985.0</td>\n",
              "      <td>CURATED</td>\n",
              "      <td>0.982</td>\n",
              "      <td>0.846</td>\n",
              "      <td>DTO_05007405</td>\n",
              "      <td>2019.0</td>\n",
              "      <td>MTTP</td>\n",
              "      <td>Disease or Syndrome</td>\n",
              "    </tr>\n",
              "    <tr>\n",
              "      <th>2</th>\n",
              "      <td>9.973100e-01</td>\n",
              "      <td>0.80</td>\n",
              "      <td>C0001193</td>\n",
              "      <td>0.380</td>\n",
              "      <td>Kinase</td>\n",
              "      <td>2263</td>\n",
              "      <td>C16;C05</td>\n",
              "      <td>disease</td>\n",
              "      <td>P21802</td>\n",
              "      <td>Congenital, Hereditary, and Neonatal Diseas...</td>\n",
              "      <td>Apert syndrome</td>\n",
              "      <td>NaN</td>\n",
              "      <td>1994.0</td>\n",
              "      <td>CURATED</td>\n",
              "      <td>0.976</td>\n",
              "      <td>0.808</td>\n",
              "      <td>DTO_03300101</td>\n",
              "      <td>2019.0</td>\n",
              "      <td>FGFR2</td>\n",
              "      <td>Congenital Abnormality</td>\n",
              "    </tr>\n",
              "    <tr>\n",
              "      <th>3</th>\n",
              "      <td>5.323500e-01</td>\n",
              "      <td>0.70</td>\n",
              "      <td>C0001418</td>\n",
              "      <td>0.236</td>\n",
              "      <td>Transcription factor</td>\n",
              "      <td>7157</td>\n",
              "      <td>C04</td>\n",
              "      <td>group</td>\n",
              "      <td>P04637</td>\n",
              "      <td>Neoplasms</td>\n",
              "      <td>Adenocarcinoma</td>\n",
              "      <td>NaN</td>\n",
              "      <td>1986.0</td>\n",
              "      <td>CURATED</td>\n",
              "      <td>0.975</td>\n",
              "      <td>0.962</td>\n",
              "      <td>DTO_05007542</td>\n",
              "      <td>2020.0</td>\n",
              "      <td>TP53</td>\n",
              "      <td>Neoplastic Process</td>\n",
              "    </tr>\n",
              "    <tr>\n",
              "      <th>4</th>\n",
              "      <td>8.460200e-01</td>\n",
              "      <td>0.69</td>\n",
              "      <td>C0001126</td>\n",
              "      <td>0.522</td>\n",
              "      <td>Transporter</td>\n",
              "      <td>6521</td>\n",
              "      <td>C16;C18;C13;C12</td>\n",
              "      <td>phenotype</td>\n",
              "      <td>P02730</td>\n",
              "      <td>Congenital, Hereditary, and Neonatal Diseas...</td>\n",
              "      <td>Renal tubular acidosis</td>\n",
              "      <td>NaN</td>\n",
              "      <td>1996.0</td>\n",
              "      <td>CURATED</td>\n",
              "      <td>1.000</td>\n",
              "      <td>0.731</td>\n",
              "      <td>DTO_05007405</td>\n",
              "      <td>2013.0</td>\n",
              "      <td>SLC4A1</td>\n",
              "      <td>Disease or Syndrome</td>\n",
              "    </tr>\n",
              "    <tr>\n",
              "      <th>...</th>\n",
              "      <td>...</td>\n",
              "      <td>...</td>\n",
              "      <td>...</td>\n",
              "      <td>...</td>\n",
              "      <td>...</td>\n",
              "      <td>...</td>\n",
              "      <td>...</td>\n",
              "      <td>...</td>\n",
              "      <td>...</td>\n",
              "      <td>...</td>\n",
              "      <td>...</td>\n",
              "      <td>...</td>\n",
              "      <td>...</td>\n",
              "      <td>...</td>\n",
              "      <td>...</td>\n",
              "      <td>...</td>\n",
              "      <td>...</td>\n",
              "      <td>...</td>\n",
              "      <td>...</td>\n",
              "      <td>...</td>\n",
              "    </tr>\n",
              "    <tr>\n",
              "      <th>453</th>\n",
              "      <td>1.047800e-06</td>\n",
              "      <td>0.30</td>\n",
              "      <td>C0001430</td>\n",
              "      <td>0.578</td>\n",
              "      <td>NaN</td>\n",
              "      <td>6948</td>\n",
              "      <td>C04</td>\n",
              "      <td>group</td>\n",
              "      <td>P20062</td>\n",
              "      <td>Neoplasms</td>\n",
              "      <td>Adenoma</td>\n",
              "      <td>NaN</td>\n",
              "      <td>2007.0</td>\n",
              "      <td>CURATED</td>\n",
              "      <td>1.000</td>\n",
              "      <td>0.615</td>\n",
              "      <td>NaN</td>\n",
              "      <td>2007.0</td>\n",
              "      <td>TCN2</td>\n",
              "      <td>Neoplastic Process</td>\n",
              "    </tr>\n",
              "    <tr>\n",
              "      <th>454</th>\n",
              "      <td>2.095700e-32</td>\n",
              "      <td>0.30</td>\n",
              "      <td>C0001430</td>\n",
              "      <td>0.419</td>\n",
              "      <td>Transporter</td>\n",
              "      <td>9429</td>\n",
              "      <td>C04</td>\n",
              "      <td>group</td>\n",
              "      <td>Q9UNQ0</td>\n",
              "      <td>Neoplasms</td>\n",
              "      <td>Adenoma</td>\n",
              "      <td>NaN</td>\n",
              "      <td>2011.0</td>\n",
              "      <td>CURATED</td>\n",
              "      <td>1.000</td>\n",
              "      <td>0.885</td>\n",
              "      <td>DTO_05007405</td>\n",
              "      <td>2011.0</td>\n",
              "      <td>ABCG2</td>\n",
              "      <td>Neoplastic Process</td>\n",
              "    </tr>\n",
              "    <tr>\n",
              "      <th>455</th>\n",
              "      <td>1.000000e+00</td>\n",
              "      <td>0.30</td>\n",
              "      <td>C0001546</td>\n",
              "      <td>0.552</td>\n",
              "      <td>Epigenetic regulator</td>\n",
              "      <td>10014</td>\n",
              "      <td>F03</td>\n",
              "      <td>group</td>\n",
              "      <td>Q9UQL6</td>\n",
              "      <td>Mental Disorders</td>\n",
              "      <td>Adjustment Disorders</td>\n",
              "      <td>NaN</td>\n",
              "      <td>2007.0</td>\n",
              "      <td>CURATED</td>\n",
              "      <td>1.000</td>\n",
              "      <td>0.769</td>\n",
              "      <td>DTO_05007378</td>\n",
              "      <td>2007.0</td>\n",
              "      <td>HDAC5</td>\n",
              "      <td>Mental or Behavioral Dysfunction</td>\n",
              "    </tr>\n",
              "    <tr>\n",
              "      <th>456</th>\n",
              "      <td>8.919400e-01</td>\n",
              "      <td>0.30</td>\n",
              "      <td>C0001618</td>\n",
              "      <td>0.636</td>\n",
              "      <td>Enzyme modulator</td>\n",
              "      <td>2771</td>\n",
              "      <td>C04;C19</td>\n",
              "      <td>group</td>\n",
              "      <td>P04899</td>\n",
              "      <td>Neoplasms;    Endocrine System Diseases</td>\n",
              "      <td>Tumors of Adrenal Cortex</td>\n",
              "      <td>NaN</td>\n",
              "      <td>NaN</td>\n",
              "      <td>CURATED</td>\n",
              "      <td>NaN</td>\n",
              "      <td>0.577</td>\n",
              "      <td>DTO_05007584</td>\n",
              "      <td>NaN</td>\n",
              "      <td>GNAI2</td>\n",
              "      <td>Neoplastic Process</td>\n",
              "    </tr>\n",
              "    <tr>\n",
              "      <th>457</th>\n",
              "      <td>9.998500e-01</td>\n",
              "      <td>0.30</td>\n",
              "      <td>C0001618</td>\n",
              "      <td>0.401</td>\n",
              "      <td>NaN</td>\n",
              "      <td>5573</td>\n",
              "      <td>C04;C19</td>\n",
              "      <td>group</td>\n",
              "      <td>P10644</td>\n",
              "      <td>Neoplasms;    Endocrine System Diseases</td>\n",
              "      <td>Tumors of Adrenal Cortex</td>\n",
              "      <td>NaN</td>\n",
              "      <td>NaN</td>\n",
              "      <td>CURATED</td>\n",
              "      <td>NaN</td>\n",
              "      <td>0.846</td>\n",
              "      <td>NaN</td>\n",
              "      <td>NaN</td>\n",
              "      <td>PRKAR1A</td>\n",
              "      <td>Neoplastic Process</td>\n",
              "    </tr>\n",
              "  </tbody>\n",
              "</table>\n",
              "<p>458 rows × 20 columns</p>\n",
              "</div>\n",
              "    <div class=\"colab-df-buttons\">\n",
              "\n",
              "  <div class=\"colab-df-container\">\n",
              "    <button class=\"colab-df-convert\" onclick=\"convertToInteractive('df-905d7176-401c-4d27-ad57-e4ca0ad28463')\"\n",
              "            title=\"Convert this dataframe to an interactive table.\"\n",
              "            style=\"display:none;\">\n",
              "\n",
              "  <svg xmlns=\"http://www.w3.org/2000/svg\" height=\"24px\" viewBox=\"0 -960 960 960\">\n",
              "    <path d=\"M120-120v-720h720v720H120Zm60-500h600v-160H180v160Zm220 220h160v-160H400v160Zm0 220h160v-160H400v160ZM180-400h160v-160H180v160Zm440 0h160v-160H620v160ZM180-180h160v-160H180v160Zm440 0h160v-160H620v160Z\"/>\n",
              "  </svg>\n",
              "    </button>\n",
              "\n",
              "  <style>\n",
              "    .colab-df-container {\n",
              "      display:flex;\n",
              "      gap: 12px;\n",
              "    }\n",
              "\n",
              "    .colab-df-convert {\n",
              "      background-color: #E8F0FE;\n",
              "      border: none;\n",
              "      border-radius: 50%;\n",
              "      cursor: pointer;\n",
              "      display: none;\n",
              "      fill: #1967D2;\n",
              "      height: 32px;\n",
              "      padding: 0 0 0 0;\n",
              "      width: 32px;\n",
              "    }\n",
              "\n",
              "    .colab-df-convert:hover {\n",
              "      background-color: #E2EBFA;\n",
              "      box-shadow: 0px 1px 2px rgba(60, 64, 67, 0.3), 0px 1px 3px 1px rgba(60, 64, 67, 0.15);\n",
              "      fill: #174EA6;\n",
              "    }\n",
              "\n",
              "    .colab-df-buttons div {\n",
              "      margin-bottom: 4px;\n",
              "    }\n",
              "\n",
              "    [theme=dark] .colab-df-convert {\n",
              "      background-color: #3B4455;\n",
              "      fill: #D2E3FC;\n",
              "    }\n",
              "\n",
              "    [theme=dark] .colab-df-convert:hover {\n",
              "      background-color: #434B5C;\n",
              "      box-shadow: 0px 1px 3px 1px rgba(0, 0, 0, 0.15);\n",
              "      filter: drop-shadow(0px 1px 2px rgba(0, 0, 0, 0.3));\n",
              "      fill: #FFFFFF;\n",
              "    }\n",
              "  </style>\n",
              "\n",
              "    <script>\n",
              "      const buttonEl =\n",
              "        document.querySelector('#df-905d7176-401c-4d27-ad57-e4ca0ad28463 button.colab-df-convert');\n",
              "      buttonEl.style.display =\n",
              "        google.colab.kernel.accessAllowed ? 'block' : 'none';\n",
              "\n",
              "      async function convertToInteractive(key) {\n",
              "        const element = document.querySelector('#df-905d7176-401c-4d27-ad57-e4ca0ad28463');\n",
              "        const dataTable =\n",
              "          await google.colab.kernel.invokeFunction('convertToInteractive',\n",
              "                                                    [key], {});\n",
              "        if (!dataTable) return;\n",
              "\n",
              "        const docLinkHtml = 'Like what you see? Visit the ' +\n",
              "          '<a target=\"_blank\" href=https://colab.research.google.com/notebooks/data_table.ipynb>data table notebook</a>'\n",
              "          + ' to learn more about interactive tables.';\n",
              "        element.innerHTML = '';\n",
              "        dataTable['output_type'] = 'display_data';\n",
              "        await google.colab.output.renderOutput(dataTable, element);\n",
              "        const docLink = document.createElement('div');\n",
              "        docLink.innerHTML = docLinkHtml;\n",
              "        element.appendChild(docLink);\n",
              "      }\n",
              "    </script>\n",
              "  </div>\n",
              "\n",
              "\n",
              "<div id=\"df-35f24da4-53a6-4d0f-90cc-b3d779830a3f\">\n",
              "  <button class=\"colab-df-quickchart\" onclick=\"quickchart('df-35f24da4-53a6-4d0f-90cc-b3d779830a3f')\"\n",
              "            title=\"Suggest charts\"\n",
              "            style=\"display:none;\">\n",
              "\n",
              "<svg xmlns=\"http://www.w3.org/2000/svg\" height=\"24px\"viewBox=\"0 0 24 24\"\n",
              "     width=\"24px\">\n",
              "    <g>\n",
              "        <path d=\"M19 3H5c-1.1 0-2 .9-2 2v14c0 1.1.9 2 2 2h14c1.1 0 2-.9 2-2V5c0-1.1-.9-2-2-2zM9 17H7v-7h2v7zm4 0h-2V7h2v10zm4 0h-2v-4h2v4z\"/>\n",
              "    </g>\n",
              "</svg>\n",
              "  </button>\n",
              "\n",
              "<style>\n",
              "  .colab-df-quickchart {\n",
              "      --bg-color: #E8F0FE;\n",
              "      --fill-color: #1967D2;\n",
              "      --hover-bg-color: #E2EBFA;\n",
              "      --hover-fill-color: #174EA6;\n",
              "      --disabled-fill-color: #AAA;\n",
              "      --disabled-bg-color: #DDD;\n",
              "  }\n",
              "\n",
              "  [theme=dark] .colab-df-quickchart {\n",
              "      --bg-color: #3B4455;\n",
              "      --fill-color: #D2E3FC;\n",
              "      --hover-bg-color: #434B5C;\n",
              "      --hover-fill-color: #FFFFFF;\n",
              "      --disabled-bg-color: #3B4455;\n",
              "      --disabled-fill-color: #666;\n",
              "  }\n",
              "\n",
              "  .colab-df-quickchart {\n",
              "    background-color: var(--bg-color);\n",
              "    border: none;\n",
              "    border-radius: 50%;\n",
              "    cursor: pointer;\n",
              "    display: none;\n",
              "    fill: var(--fill-color);\n",
              "    height: 32px;\n",
              "    padding: 0;\n",
              "    width: 32px;\n",
              "  }\n",
              "\n",
              "  .colab-df-quickchart:hover {\n",
              "    background-color: var(--hover-bg-color);\n",
              "    box-shadow: 0 1px 2px rgba(60, 64, 67, 0.3), 0 1px 3px 1px rgba(60, 64, 67, 0.15);\n",
              "    fill: var(--button-hover-fill-color);\n",
              "  }\n",
              "\n",
              "  .colab-df-quickchart-complete:disabled,\n",
              "  .colab-df-quickchart-complete:disabled:hover {\n",
              "    background-color: var(--disabled-bg-color);\n",
              "    fill: var(--disabled-fill-color);\n",
              "    box-shadow: none;\n",
              "  }\n",
              "\n",
              "  .colab-df-spinner {\n",
              "    border: 2px solid var(--fill-color);\n",
              "    border-color: transparent;\n",
              "    border-bottom-color: var(--fill-color);\n",
              "    animation:\n",
              "      spin 1s steps(1) infinite;\n",
              "  }\n",
              "\n",
              "  @keyframes spin {\n",
              "    0% {\n",
              "      border-color: transparent;\n",
              "      border-bottom-color: var(--fill-color);\n",
              "      border-left-color: var(--fill-color);\n",
              "    }\n",
              "    20% {\n",
              "      border-color: transparent;\n",
              "      border-left-color: var(--fill-color);\n",
              "      border-top-color: var(--fill-color);\n",
              "    }\n",
              "    30% {\n",
              "      border-color: transparent;\n",
              "      border-left-color: var(--fill-color);\n",
              "      border-top-color: var(--fill-color);\n",
              "      border-right-color: var(--fill-color);\n",
              "    }\n",
              "    40% {\n",
              "      border-color: transparent;\n",
              "      border-right-color: var(--fill-color);\n",
              "      border-top-color: var(--fill-color);\n",
              "    }\n",
              "    60% {\n",
              "      border-color: transparent;\n",
              "      border-right-color: var(--fill-color);\n",
              "    }\n",
              "    80% {\n",
              "      border-color: transparent;\n",
              "      border-right-color: var(--fill-color);\n",
              "      border-bottom-color: var(--fill-color);\n",
              "    }\n",
              "    90% {\n",
              "      border-color: transparent;\n",
              "      border-bottom-color: var(--fill-color);\n",
              "    }\n",
              "  }\n",
              "</style>\n",
              "\n",
              "  <script>\n",
              "    async function quickchart(key) {\n",
              "      const quickchartButtonEl =\n",
              "        document.querySelector('#' + key + ' button');\n",
              "      quickchartButtonEl.disabled = true;  // To prevent multiple clicks.\n",
              "      quickchartButtonEl.classList.add('colab-df-spinner');\n",
              "      try {\n",
              "        const charts = await google.colab.kernel.invokeFunction(\n",
              "            'suggestCharts', [key], {});\n",
              "      } catch (error) {\n",
              "        console.error('Error during call to suggestCharts:', error);\n",
              "      }\n",
              "      quickchartButtonEl.classList.remove('colab-df-spinner');\n",
              "      quickchartButtonEl.classList.add('colab-df-quickchart-complete');\n",
              "    }\n",
              "    (() => {\n",
              "      let quickchartButtonEl =\n",
              "        document.querySelector('#df-35f24da4-53a6-4d0f-90cc-b3d779830a3f button');\n",
              "      quickchartButtonEl.style.display =\n",
              "        google.colab.kernel.accessAllowed ? 'block' : 'none';\n",
              "    })();\n",
              "  </script>\n",
              "</div>\n",
              "    </div>\n",
              "  </div>\n"
            ],
            "application/vnd.google.colaboratory.intrinsic+json": {
              "type": "dataframe",
              "variable_name": "dis",
              "summary": "{\n  \"name\": \"dis\",\n  \"rows\": 458,\n  \"fields\": [\n    {\n      \"column\": \"gene_pli\",\n      \"properties\": {\n        \"dtype\": \"number\",\n        \"std\": 0.4123825421584904,\n        \"min\": 2.7904000000000004e-54,\n        \"max\": 1.0,\n        \"num_unique_values\": 286,\n        \"samples\": [\n          1.0,\n          0.089515,\n          0.95571\n        ],\n        \"semantic_type\": \"\",\n        \"description\": \"\"\n      }\n    },\n    {\n      \"column\": \"score\",\n      \"properties\": {\n        \"dtype\": \"number\",\n        \"std\": 0.06449134821976663,\n        \"min\": 0.3,\n        \"max\": 1.0,\n        \"num_unique_values\": 20,\n        \"samples\": [\n          1.0,\n          0.32,\n          0.34\n        ],\n        \"semantic_type\": \"\",\n        \"description\": \"\"\n      }\n    },\n    {\n      \"column\": \"diseaseid\",\n      \"properties\": {\n        \"dtype\": \"category\",\n        \"num_unique_values\": 29,\n        \"samples\": [\n          \"C0001364\",\n          \"C0000809\",\n          \"C0001231\"\n        ],\n        \"semantic_type\": \"\",\n        \"description\": \"\"\n      }\n    },\n    {\n      \"column\": \"gene_dsi\",\n      \"properties\": {\n        \"dtype\": \"number\",\n        \"std\": 0.1326263029458147,\n        \"min\": 0.231,\n        \"max\": 1.0,\n        \"num_unique_values\": 207,\n        \"samples\": [\n          0.578,\n          0.534,\n          0.457\n        ],\n        \"semantic_type\": \"\",\n        \"description\": \"\"\n      }\n    },\n    {\n      \"column\": \"protein_class_name\",\n      \"properties\": {\n        \"dtype\": \"category\",\n        \"num_unique_values\": 17,\n        \"samples\": [\n          \"Kinase\",\n          \"Transporter\",\n          \"Signaling\"\n        ],\n        \"semantic_type\": \"\",\n        \"description\": \"\"\n      }\n    },\n    {\n      \"column\": \"geneid\",\n      \"properties\": {\n        \"dtype\": \"number\",\n        \"std\": 50812,\n        \"min\": 25,\n        \"max\": 574456,\n        \"num_unique_values\": 326,\n        \"samples\": [\n          51554,\n          50511,\n          7037\n        ],\n        \"semantic_type\": \"\",\n        \"description\": \"\"\n      }\n    },\n    {\n      \"column\": \"disease_class\",\n      \"properties\": {\n        \"dtype\": \"category\",\n        \"num_unique_values\": 18,\n        \"samples\": [\n          \"C16;C05\",\n          \"C16;C18\",\n          \"C13\"\n        ],\n        \"semantic_type\": \"\",\n        \"description\": \"\"\n      }\n    },\n    {\n      \"column\": \"disease_type\",\n      \"properties\": {\n        \"dtype\": \"category\",\n        \"num_unique_values\": 3,\n        \"samples\": [\n          \"disease\",\n          \"group\",\n          \"phenotype\"\n        ],\n        \"semantic_type\": \"\",\n        \"description\": \"\"\n      }\n    },\n    {\n      \"column\": \"uniprotid\",\n      \"properties\": {\n        \"dtype\": \"string\",\n        \"num_unique_values\": 320,\n        \"samples\": [\n          \"Q8TCB0\",\n          \"P13591\",\n          \"P04626\"\n        ],\n        \"semantic_type\": \"\",\n        \"description\": \"\"\n      }\n    },\n    {\n      \"column\": \"disease_class_name\",\n      \"properties\": {\n        \"dtype\": \"category\",\n        \"num_unique_values\": 18,\n        \"samples\": [\n          \"   Congenital, Hereditary, and Neonatal Diseases and Abnormalities;    Musculoskeletal Diseases\",\n          \"   Congenital, Hereditary, and Neonatal Diseases and Abnormalities;    Nutritional and Metabolic Diseases\",\n          \"   Female Urogenital Diseases and Pregnancy Complications\"\n        ],\n        \"semantic_type\": \"\",\n        \"description\": \"\"\n      }\n    },\n    {\n      \"column\": \"disease_name\",\n      \"properties\": {\n        \"dtype\": \"category\",\n        \"num_unique_values\": 29,\n        \"samples\": [\n          \"Massive Hepatic Necrosis\",\n          \"Abortion, Habitual\",\n          \"ACTH Syndrome, Ectopic\"\n        ],\n        \"semantic_type\": \"\",\n        \"description\": \"\"\n      }\n    },\n    {\n      \"column\": \"el\",\n      \"properties\": {\n        \"dtype\": \"category\",\n        \"num_unique_values\": 3,\n        \"samples\": [\n          \"definitive\",\n          \"strong\",\n          \"moderate\"\n        ],\n        \"semantic_type\": \"\",\n        \"description\": \"\"\n      }\n    },\n    {\n      \"column\": \"year_initial\",\n      \"properties\": {\n        \"dtype\": \"number\",\n        \"std\": 6.881236560755279,\n        \"min\": 1974.0,\n        \"max\": 2020.0,\n        \"num_unique_values\": 39,\n        \"samples\": [\n          2011.0,\n          2017.0,\n          2000.0\n        ],\n        \"semantic_type\": \"\",\n        \"description\": \"\"\n      }\n    },\n    {\n      \"column\": \"source\",\n      \"properties\": {\n        \"dtype\": \"category\",\n        \"num_unique_values\": 1,\n        \"samples\": [\n          \"CURATED\"\n        ],\n        \"semantic_type\": \"\",\n        \"description\": \"\"\n      }\n    },\n    {\n      \"column\": \"ei\",\n      \"properties\": {\n        \"dtype\": \"number\",\n        \"std\": 0.03608767320948116,\n        \"min\": 0.5,\n        \"max\": 1.0,\n        \"num_unique_values\": 36,\n        \"samples\": [\n          0.5\n        ],\n        \"semantic_type\": \"\",\n        \"description\": \"\"\n      }\n    },\n    {\n      \"column\": \"gene_dpi\",\n      \"properties\": {\n        \"dtype\": \"number\",\n        \"std\": 0.19251039933782835,\n        \"min\": 0.038,\n        \"max\": 0.962,\n        \"num_unique_values\": 24,\n        \"samples\": [\n          0.769\n        ],\n        \"semantic_type\": \"\",\n        \"description\": \"\"\n      }\n    },\n    {\n      \"column\": \"protein_class\",\n      \"properties\": {\n        \"dtype\": \"category\",\n        \"num_unique_values\": 17,\n        \"samples\": [\n          \"DTO_03300101\"\n        ],\n        \"semantic_type\": \"\",\n        \"description\": \"\"\n      }\n    },\n    {\n      \"column\": \"year_final\",\n      \"properties\": {\n        \"dtype\": \"number\",\n        \"std\": 4.92704599251596,\n        \"min\": 1990.0,\n        \"max\": 2020.0,\n        \"num_unique_values\": 23,\n        \"samples\": [\n          2012.0\n        ],\n        \"semantic_type\": \"\",\n        \"description\": \"\"\n      }\n    },\n    {\n      \"column\": \"gene_symbol\",\n      \"properties\": {\n        \"dtype\": \"string\",\n        \"num_unique_values\": 326,\n        \"samples\": [\n          \"ACKR4\"\n        ],\n        \"semantic_type\": \"\",\n        \"description\": \"\"\n      }\n    },\n    {\n      \"column\": \"disease_semantic_type\",\n      \"properties\": {\n        \"dtype\": \"category\",\n        \"num_unique_values\": 6,\n        \"samples\": [\n          \"Congenital Abnormality\"\n        ],\n        \"semantic_type\": \"\",\n        \"description\": \"\"\n      }\n    }\n  ]\n}"
            }
          },
          "metadata": {},
          "execution_count": 6
        }
      ]
    },
    {
      "cell_type": "code",
      "source": [
        "# Формируем таблицу генов по наименованию болезни\n",
        "disease_db = dis.loc[dis['disease_name'] == 'Apert syndrome']\n",
        "disease_db"
      ],
      "metadata": {
        "colab": {
          "base_uri": "https://localhost:8080/",
          "height": 202
        },
        "id": "-FtDsUsY13xx",
        "outputId": "9c99822f-d9dc-4919-9b27-196f192bb28d"
      },
      "execution_count": 7,
      "outputs": [
        {
          "output_type": "execute_result",
          "data": {
            "text/plain": [
              "     gene_pli  score diseaseid  gene_dsi    protein_class_name  geneid  \\\n",
              "2     0.99731   0.80  C0001193     0.380                Kinase    2263   \n",
              "126   0.34491   0.31  C0001193     0.397  Transcription factor    7291   \n",
              "\n",
              "    disease_class disease_type uniprotid  \\\n",
              "2         C16;C05      disease    P21802   \n",
              "126       C16;C05      disease    Q15672   \n",
              "\n",
              "                                    disease_class_name    disease_name   el  \\\n",
              "2       Congenital, Hereditary, and Neonatal Diseas...  Apert syndrome  NaN   \n",
              "126     Congenital, Hereditary, and Neonatal Diseas...  Apert syndrome  NaN   \n",
              "\n",
              "     year_initial   source     ei  gene_dpi protein_class  year_final  \\\n",
              "2          1994.0  CURATED  0.976     0.808  DTO_03300101      2019.0   \n",
              "126        2005.0  CURATED  1.000     0.846  DTO_05007542      2013.0   \n",
              "\n",
              "    gene_symbol   disease_semantic_type  \n",
              "2         FGFR2  Congenital Abnormality  \n",
              "126      TWIST1  Congenital Abnormality  "
            ],
            "text/html": [
              "\n",
              "  <div id=\"df-f68abc4e-3055-4810-8769-70f0df31d0c4\" class=\"colab-df-container\">\n",
              "    <div>\n",
              "<style scoped>\n",
              "    .dataframe tbody tr th:only-of-type {\n",
              "        vertical-align: middle;\n",
              "    }\n",
              "\n",
              "    .dataframe tbody tr th {\n",
              "        vertical-align: top;\n",
              "    }\n",
              "\n",
              "    .dataframe thead th {\n",
              "        text-align: right;\n",
              "    }\n",
              "</style>\n",
              "<table border=\"1\" class=\"dataframe\">\n",
              "  <thead>\n",
              "    <tr style=\"text-align: right;\">\n",
              "      <th></th>\n",
              "      <th>gene_pli</th>\n",
              "      <th>score</th>\n",
              "      <th>diseaseid</th>\n",
              "      <th>gene_dsi</th>\n",
              "      <th>protein_class_name</th>\n",
              "      <th>geneid</th>\n",
              "      <th>disease_class</th>\n",
              "      <th>disease_type</th>\n",
              "      <th>uniprotid</th>\n",
              "      <th>disease_class_name</th>\n",
              "      <th>disease_name</th>\n",
              "      <th>el</th>\n",
              "      <th>year_initial</th>\n",
              "      <th>source</th>\n",
              "      <th>ei</th>\n",
              "      <th>gene_dpi</th>\n",
              "      <th>protein_class</th>\n",
              "      <th>year_final</th>\n",
              "      <th>gene_symbol</th>\n",
              "      <th>disease_semantic_type</th>\n",
              "    </tr>\n",
              "  </thead>\n",
              "  <tbody>\n",
              "    <tr>\n",
              "      <th>2</th>\n",
              "      <td>0.99731</td>\n",
              "      <td>0.80</td>\n",
              "      <td>C0001193</td>\n",
              "      <td>0.380</td>\n",
              "      <td>Kinase</td>\n",
              "      <td>2263</td>\n",
              "      <td>C16;C05</td>\n",
              "      <td>disease</td>\n",
              "      <td>P21802</td>\n",
              "      <td>Congenital, Hereditary, and Neonatal Diseas...</td>\n",
              "      <td>Apert syndrome</td>\n",
              "      <td>NaN</td>\n",
              "      <td>1994.0</td>\n",
              "      <td>CURATED</td>\n",
              "      <td>0.976</td>\n",
              "      <td>0.808</td>\n",
              "      <td>DTO_03300101</td>\n",
              "      <td>2019.0</td>\n",
              "      <td>FGFR2</td>\n",
              "      <td>Congenital Abnormality</td>\n",
              "    </tr>\n",
              "    <tr>\n",
              "      <th>126</th>\n",
              "      <td>0.34491</td>\n",
              "      <td>0.31</td>\n",
              "      <td>C0001193</td>\n",
              "      <td>0.397</td>\n",
              "      <td>Transcription factor</td>\n",
              "      <td>7291</td>\n",
              "      <td>C16;C05</td>\n",
              "      <td>disease</td>\n",
              "      <td>Q15672</td>\n",
              "      <td>Congenital, Hereditary, and Neonatal Diseas...</td>\n",
              "      <td>Apert syndrome</td>\n",
              "      <td>NaN</td>\n",
              "      <td>2005.0</td>\n",
              "      <td>CURATED</td>\n",
              "      <td>1.000</td>\n",
              "      <td>0.846</td>\n",
              "      <td>DTO_05007542</td>\n",
              "      <td>2013.0</td>\n",
              "      <td>TWIST1</td>\n",
              "      <td>Congenital Abnormality</td>\n",
              "    </tr>\n",
              "  </tbody>\n",
              "</table>\n",
              "</div>\n",
              "    <div class=\"colab-df-buttons\">\n",
              "\n",
              "  <div class=\"colab-df-container\">\n",
              "    <button class=\"colab-df-convert\" onclick=\"convertToInteractive('df-f68abc4e-3055-4810-8769-70f0df31d0c4')\"\n",
              "            title=\"Convert this dataframe to an interactive table.\"\n",
              "            style=\"display:none;\">\n",
              "\n",
              "  <svg xmlns=\"http://www.w3.org/2000/svg\" height=\"24px\" viewBox=\"0 -960 960 960\">\n",
              "    <path d=\"M120-120v-720h720v720H120Zm60-500h600v-160H180v160Zm220 220h160v-160H400v160Zm0 220h160v-160H400v160ZM180-400h160v-160H180v160Zm440 0h160v-160H620v160ZM180-180h160v-160H180v160Zm440 0h160v-160H620v160Z\"/>\n",
              "  </svg>\n",
              "    </button>\n",
              "\n",
              "  <style>\n",
              "    .colab-df-container {\n",
              "      display:flex;\n",
              "      gap: 12px;\n",
              "    }\n",
              "\n",
              "    .colab-df-convert {\n",
              "      background-color: #E8F0FE;\n",
              "      border: none;\n",
              "      border-radius: 50%;\n",
              "      cursor: pointer;\n",
              "      display: none;\n",
              "      fill: #1967D2;\n",
              "      height: 32px;\n",
              "      padding: 0 0 0 0;\n",
              "      width: 32px;\n",
              "    }\n",
              "\n",
              "    .colab-df-convert:hover {\n",
              "      background-color: #E2EBFA;\n",
              "      box-shadow: 0px 1px 2px rgba(60, 64, 67, 0.3), 0px 1px 3px 1px rgba(60, 64, 67, 0.15);\n",
              "      fill: #174EA6;\n",
              "    }\n",
              "\n",
              "    .colab-df-buttons div {\n",
              "      margin-bottom: 4px;\n",
              "    }\n",
              "\n",
              "    [theme=dark] .colab-df-convert {\n",
              "      background-color: #3B4455;\n",
              "      fill: #D2E3FC;\n",
              "    }\n",
              "\n",
              "    [theme=dark] .colab-df-convert:hover {\n",
              "      background-color: #434B5C;\n",
              "      box-shadow: 0px 1px 3px 1px rgba(0, 0, 0, 0.15);\n",
              "      filter: drop-shadow(0px 1px 2px rgba(0, 0, 0, 0.3));\n",
              "      fill: #FFFFFF;\n",
              "    }\n",
              "  </style>\n",
              "\n",
              "    <script>\n",
              "      const buttonEl =\n",
              "        document.querySelector('#df-f68abc4e-3055-4810-8769-70f0df31d0c4 button.colab-df-convert');\n",
              "      buttonEl.style.display =\n",
              "        google.colab.kernel.accessAllowed ? 'block' : 'none';\n",
              "\n",
              "      async function convertToInteractive(key) {\n",
              "        const element = document.querySelector('#df-f68abc4e-3055-4810-8769-70f0df31d0c4');\n",
              "        const dataTable =\n",
              "          await google.colab.kernel.invokeFunction('convertToInteractive',\n",
              "                                                    [key], {});\n",
              "        if (!dataTable) return;\n",
              "\n",
              "        const docLinkHtml = 'Like what you see? Visit the ' +\n",
              "          '<a target=\"_blank\" href=https://colab.research.google.com/notebooks/data_table.ipynb>data table notebook</a>'\n",
              "          + ' to learn more about interactive tables.';\n",
              "        element.innerHTML = '';\n",
              "        dataTable['output_type'] = 'display_data';\n",
              "        await google.colab.output.renderOutput(dataTable, element);\n",
              "        const docLink = document.createElement('div');\n",
              "        docLink.innerHTML = docLinkHtml;\n",
              "        element.appendChild(docLink);\n",
              "      }\n",
              "    </script>\n",
              "  </div>\n",
              "\n",
              "\n",
              "<div id=\"df-ca60ccc6-1987-426f-88e3-18417ba92c42\">\n",
              "  <button class=\"colab-df-quickchart\" onclick=\"quickchart('df-ca60ccc6-1987-426f-88e3-18417ba92c42')\"\n",
              "            title=\"Suggest charts\"\n",
              "            style=\"display:none;\">\n",
              "\n",
              "<svg xmlns=\"http://www.w3.org/2000/svg\" height=\"24px\"viewBox=\"0 0 24 24\"\n",
              "     width=\"24px\">\n",
              "    <g>\n",
              "        <path d=\"M19 3H5c-1.1 0-2 .9-2 2v14c0 1.1.9 2 2 2h14c1.1 0 2-.9 2-2V5c0-1.1-.9-2-2-2zM9 17H7v-7h2v7zm4 0h-2V7h2v10zm4 0h-2v-4h2v4z\"/>\n",
              "    </g>\n",
              "</svg>\n",
              "  </button>\n",
              "\n",
              "<style>\n",
              "  .colab-df-quickchart {\n",
              "      --bg-color: #E8F0FE;\n",
              "      --fill-color: #1967D2;\n",
              "      --hover-bg-color: #E2EBFA;\n",
              "      --hover-fill-color: #174EA6;\n",
              "      --disabled-fill-color: #AAA;\n",
              "      --disabled-bg-color: #DDD;\n",
              "  }\n",
              "\n",
              "  [theme=dark] .colab-df-quickchart {\n",
              "      --bg-color: #3B4455;\n",
              "      --fill-color: #D2E3FC;\n",
              "      --hover-bg-color: #434B5C;\n",
              "      --hover-fill-color: #FFFFFF;\n",
              "      --disabled-bg-color: #3B4455;\n",
              "      --disabled-fill-color: #666;\n",
              "  }\n",
              "\n",
              "  .colab-df-quickchart {\n",
              "    background-color: var(--bg-color);\n",
              "    border: none;\n",
              "    border-radius: 50%;\n",
              "    cursor: pointer;\n",
              "    display: none;\n",
              "    fill: var(--fill-color);\n",
              "    height: 32px;\n",
              "    padding: 0;\n",
              "    width: 32px;\n",
              "  }\n",
              "\n",
              "  .colab-df-quickchart:hover {\n",
              "    background-color: var(--hover-bg-color);\n",
              "    box-shadow: 0 1px 2px rgba(60, 64, 67, 0.3), 0 1px 3px 1px rgba(60, 64, 67, 0.15);\n",
              "    fill: var(--button-hover-fill-color);\n",
              "  }\n",
              "\n",
              "  .colab-df-quickchart-complete:disabled,\n",
              "  .colab-df-quickchart-complete:disabled:hover {\n",
              "    background-color: var(--disabled-bg-color);\n",
              "    fill: var(--disabled-fill-color);\n",
              "    box-shadow: none;\n",
              "  }\n",
              "\n",
              "  .colab-df-spinner {\n",
              "    border: 2px solid var(--fill-color);\n",
              "    border-color: transparent;\n",
              "    border-bottom-color: var(--fill-color);\n",
              "    animation:\n",
              "      spin 1s steps(1) infinite;\n",
              "  }\n",
              "\n",
              "  @keyframes spin {\n",
              "    0% {\n",
              "      border-color: transparent;\n",
              "      border-bottom-color: var(--fill-color);\n",
              "      border-left-color: var(--fill-color);\n",
              "    }\n",
              "    20% {\n",
              "      border-color: transparent;\n",
              "      border-left-color: var(--fill-color);\n",
              "      border-top-color: var(--fill-color);\n",
              "    }\n",
              "    30% {\n",
              "      border-color: transparent;\n",
              "      border-left-color: var(--fill-color);\n",
              "      border-top-color: var(--fill-color);\n",
              "      border-right-color: var(--fill-color);\n",
              "    }\n",
              "    40% {\n",
              "      border-color: transparent;\n",
              "      border-right-color: var(--fill-color);\n",
              "      border-top-color: var(--fill-color);\n",
              "    }\n",
              "    60% {\n",
              "      border-color: transparent;\n",
              "      border-right-color: var(--fill-color);\n",
              "    }\n",
              "    80% {\n",
              "      border-color: transparent;\n",
              "      border-right-color: var(--fill-color);\n",
              "      border-bottom-color: var(--fill-color);\n",
              "    }\n",
              "    90% {\n",
              "      border-color: transparent;\n",
              "      border-bottom-color: var(--fill-color);\n",
              "    }\n",
              "  }\n",
              "</style>\n",
              "\n",
              "  <script>\n",
              "    async function quickchart(key) {\n",
              "      const quickchartButtonEl =\n",
              "        document.querySelector('#' + key + ' button');\n",
              "      quickchartButtonEl.disabled = true;  // To prevent multiple clicks.\n",
              "      quickchartButtonEl.classList.add('colab-df-spinner');\n",
              "      try {\n",
              "        const charts = await google.colab.kernel.invokeFunction(\n",
              "            'suggestCharts', [key], {});\n",
              "      } catch (error) {\n",
              "        console.error('Error during call to suggestCharts:', error);\n",
              "      }\n",
              "      quickchartButtonEl.classList.remove('colab-df-spinner');\n",
              "      quickchartButtonEl.classList.add('colab-df-quickchart-complete');\n",
              "    }\n",
              "    (() => {\n",
              "      let quickchartButtonEl =\n",
              "        document.querySelector('#df-ca60ccc6-1987-426f-88e3-18417ba92c42 button');\n",
              "      quickchartButtonEl.style.display =\n",
              "        google.colab.kernel.accessAllowed ? 'block' : 'none';\n",
              "    })();\n",
              "  </script>\n",
              "</div>\n",
              "    </div>\n",
              "  </div>\n"
            ],
            "application/vnd.google.colaboratory.intrinsic+json": {
              "type": "dataframe",
              "variable_name": "disease_db",
              "repr_error": "0"
            }
          },
          "metadata": {},
          "execution_count": 7
        }
      ]
    },
    {
      "cell_type": "code",
      "source": [
        "# Получаем список ID генов по наименованию болезни из таблицы\n",
        "gene_id_list = disease_db['geneid'].tolist()\n",
        "gene_id_list"
      ],
      "metadata": {
        "colab": {
          "base_uri": "https://localhost:8080/"
        },
        "id": "yxUrf2Bq2BK6",
        "outputId": "2e707c51-5f6c-46d3-9ade-7581d8aee134"
      },
      "execution_count": 8,
      "outputs": [
        {
          "output_type": "execute_result",
          "data": {
            "text/plain": [
              "[2263, 7291]"
            ]
          },
          "metadata": {},
          "execution_count": 8
        }
      ]
    },
    {
      "cell_type": "code",
      "source": [
        "# Запрашиваем ID хромосомы из NCBI через параметр 'gi_id'.\n",
        "# Эта процедура применяется в общей процедуре сбора информации по генам(см. ячейку ниже)\n",
        "def search_chromosome(gi_id):\n",
        "    handle = Entrez.esummary(db=\"nucleotide\", id=gi_id)\n",
        "    record = Entrez.read(handle)\n",
        "    handle.close()\n",
        "    return record[0]['AccessionVersion']"
      ],
      "metadata": {
        "id": "BtG1ZYWy2FDU"
      },
      "execution_count": 9,
      "outputs": []
    },
    {
      "cell_type": "code",
      "source": [
        "def search_gene_name(gene_id):\n",
        "  handle = Entrez.esummary(db=\"gene\", id=gene_id)\n",
        "  record = Entrez.read(handle)\n",
        "  handle.close()\n",
        "  return record['DocumentSummarySet']['DocumentSummary'][0]['Name']\n",
        "  # print(record['DocumentSummarySet']['DocumentSummary'][0]['Name'])"
      ],
      "metadata": {
        "id": "pE0X0Vhq2JXV"
      },
      "execution_count": 10,
      "outputs": []
    },
    {
      "cell_type": "code",
      "source": [
        "# Получаем из NCBI информацию о генах из списка 'gene_id_list', в том числе ID хромосомы.\n",
        "def get_gene_info(gene_id_list):\n",
        "  gene_info = []\n",
        "  for gene_id in gene_id_list:\n",
        "    handle = Entrez.efetch(db=\"gene\", id=gene_id, rettype = 'xml')\n",
        "    gene_locus = ET.parse(handle).getroot().find(\"Entrezgene/Entrezgene_locus\")\n",
        "    region = gene_locus.find(\"Gene-commentary/Gene-commentary_seqs/Seq-loc/Seq-loc_int/Seq-interval\")\n",
        "    start = int(region.find(\"Seq-interval_from\").text) + 1\n",
        "    end = int(region.find(\"Seq-interval_to\").text) + 1\n",
        "    gi_id = region.find(\"Seq-interval_id/Seq-id/Seq-id_gi\").text\n",
        "    strand = region.find(\"Seq-interval_strand/Na-strand\").get(\"value\")\n",
        "    # print(gene_id, start, end, gi_id, strand)\n",
        "    gene_info.append({'gene_name':search_gene_name(gene_id), 'gene_id':gene_id, 'interval_from':start, 'interval_to':end, 'gi_id':gi_id, 'nucleotide':search_chromosome(gi_id), 'strand':strand})\n",
        "  return gene_info"
      ],
      "metadata": {
        "id": "4nIuMltQ2Ugi"
      },
      "execution_count": 11,
      "outputs": []
    },
    {
      "cell_type": "code",
      "source": [
        "%%time\n",
        "# Формируем список по всем генам\n",
        "gene_list = get_gene_info(gene_id_list)\n",
        "for i in gene_list:\n",
        "  print(i)"
      ],
      "metadata": {
        "colab": {
          "base_uri": "https://localhost:8080/"
        },
        "id": "Vk5FblH52Wp-",
        "outputId": "cab1c101-fb72-49f0-f256-9d64be4b18c5"
      },
      "execution_count": 12,
      "outputs": [
        {
          "output_type": "stream",
          "name": "stdout",
          "text": [
            "{'gene_name': 'FGFR2', 'gene_id': 2263, 'interval_from': 121478330, 'interval_to': 121598458, 'gi_id': '568815588', 'nucleotide': 'NC_000010.11', 'strand': 'minus'}\n",
            "{'gene_name': 'TWIST1', 'gene_id': 7291, 'interval_from': 19113047, 'interval_to': 19117636, 'gi_id': '568815591', 'nucleotide': 'NC_000007.14', 'strand': 'minus'}\n",
            "CPU times: user 402 ms, sys: 44.2 ms, total: 446 ms\n",
            "Wall time: 2.36 s\n"
          ]
        }
      ]
    },
    {
      "cell_type": "code",
      "source": [
        "# Предоставляем список генов в виде таблицы\n",
        "df = pd.DataFrame(gene_list).head(1)\n",
        "df['accession'] = df['nucleotide'].apply(lambda x: x.split('.')[0])\n",
        "df['version'] = df['nucleotide'].apply(lambda x: x.split('.')[1])\n",
        "df.T"
      ],
      "metadata": {
        "colab": {
          "base_uri": "https://localhost:8080/",
          "height": 332
        },
        "id": "uxChcpwH2diu",
        "outputId": "f9b23145-5d33-4615-8e52-75eee4da1097"
      },
      "execution_count": 13,
      "outputs": [
        {
          "output_type": "execute_result",
          "data": {
            "text/plain": [
              "                          0\n",
              "gene_name             FGFR2\n",
              "gene_id                2263\n",
              "interval_from     121478330\n",
              "interval_to       121598458\n",
              "gi_id             568815588\n",
              "nucleotide     NC_000010.11\n",
              "strand                minus\n",
              "accession         NC_000010\n",
              "version                  11"
            ],
            "text/html": [
              "\n",
              "  <div id=\"df-5dc9fe37-8865-4657-804d-99c2e8d158c6\" class=\"colab-df-container\">\n",
              "    <div>\n",
              "<style scoped>\n",
              "    .dataframe tbody tr th:only-of-type {\n",
              "        vertical-align: middle;\n",
              "    }\n",
              "\n",
              "    .dataframe tbody tr th {\n",
              "        vertical-align: top;\n",
              "    }\n",
              "\n",
              "    .dataframe thead th {\n",
              "        text-align: right;\n",
              "    }\n",
              "</style>\n",
              "<table border=\"1\" class=\"dataframe\">\n",
              "  <thead>\n",
              "    <tr style=\"text-align: right;\">\n",
              "      <th></th>\n",
              "      <th>0</th>\n",
              "    </tr>\n",
              "  </thead>\n",
              "  <tbody>\n",
              "    <tr>\n",
              "      <th>gene_name</th>\n",
              "      <td>FGFR2</td>\n",
              "    </tr>\n",
              "    <tr>\n",
              "      <th>gene_id</th>\n",
              "      <td>2263</td>\n",
              "    </tr>\n",
              "    <tr>\n",
              "      <th>interval_from</th>\n",
              "      <td>121478330</td>\n",
              "    </tr>\n",
              "    <tr>\n",
              "      <th>interval_to</th>\n",
              "      <td>121598458</td>\n",
              "    </tr>\n",
              "    <tr>\n",
              "      <th>gi_id</th>\n",
              "      <td>568815588</td>\n",
              "    </tr>\n",
              "    <tr>\n",
              "      <th>nucleotide</th>\n",
              "      <td>NC_000010.11</td>\n",
              "    </tr>\n",
              "    <tr>\n",
              "      <th>strand</th>\n",
              "      <td>minus</td>\n",
              "    </tr>\n",
              "    <tr>\n",
              "      <th>accession</th>\n",
              "      <td>NC_000010</td>\n",
              "    </tr>\n",
              "    <tr>\n",
              "      <th>version</th>\n",
              "      <td>11</td>\n",
              "    </tr>\n",
              "  </tbody>\n",
              "</table>\n",
              "</div>\n",
              "    <div class=\"colab-df-buttons\">\n",
              "\n",
              "  <div class=\"colab-df-container\">\n",
              "    <button class=\"colab-df-convert\" onclick=\"convertToInteractive('df-5dc9fe37-8865-4657-804d-99c2e8d158c6')\"\n",
              "            title=\"Convert this dataframe to an interactive table.\"\n",
              "            style=\"display:none;\">\n",
              "\n",
              "  <svg xmlns=\"http://www.w3.org/2000/svg\" height=\"24px\" viewBox=\"0 -960 960 960\">\n",
              "    <path d=\"M120-120v-720h720v720H120Zm60-500h600v-160H180v160Zm220 220h160v-160H400v160Zm0 220h160v-160H400v160ZM180-400h160v-160H180v160Zm440 0h160v-160H620v160ZM180-180h160v-160H180v160Zm440 0h160v-160H620v160Z\"/>\n",
              "  </svg>\n",
              "    </button>\n",
              "\n",
              "  <style>\n",
              "    .colab-df-container {\n",
              "      display:flex;\n",
              "      gap: 12px;\n",
              "    }\n",
              "\n",
              "    .colab-df-convert {\n",
              "      background-color: #E8F0FE;\n",
              "      border: none;\n",
              "      border-radius: 50%;\n",
              "      cursor: pointer;\n",
              "      display: none;\n",
              "      fill: #1967D2;\n",
              "      height: 32px;\n",
              "      padding: 0 0 0 0;\n",
              "      width: 32px;\n",
              "    }\n",
              "\n",
              "    .colab-df-convert:hover {\n",
              "      background-color: #E2EBFA;\n",
              "      box-shadow: 0px 1px 2px rgba(60, 64, 67, 0.3), 0px 1px 3px 1px rgba(60, 64, 67, 0.15);\n",
              "      fill: #174EA6;\n",
              "    }\n",
              "\n",
              "    .colab-df-buttons div {\n",
              "      margin-bottom: 4px;\n",
              "    }\n",
              "\n",
              "    [theme=dark] .colab-df-convert {\n",
              "      background-color: #3B4455;\n",
              "      fill: #D2E3FC;\n",
              "    }\n",
              "\n",
              "    [theme=dark] .colab-df-convert:hover {\n",
              "      background-color: #434B5C;\n",
              "      box-shadow: 0px 1px 3px 1px rgba(0, 0, 0, 0.15);\n",
              "      filter: drop-shadow(0px 1px 2px rgba(0, 0, 0, 0.3));\n",
              "      fill: #FFFFFF;\n",
              "    }\n",
              "  </style>\n",
              "\n",
              "    <script>\n",
              "      const buttonEl =\n",
              "        document.querySelector('#df-5dc9fe37-8865-4657-804d-99c2e8d158c6 button.colab-df-convert');\n",
              "      buttonEl.style.display =\n",
              "        google.colab.kernel.accessAllowed ? 'block' : 'none';\n",
              "\n",
              "      async function convertToInteractive(key) {\n",
              "        const element = document.querySelector('#df-5dc9fe37-8865-4657-804d-99c2e8d158c6');\n",
              "        const dataTable =\n",
              "          await google.colab.kernel.invokeFunction('convertToInteractive',\n",
              "                                                    [key], {});\n",
              "        if (!dataTable) return;\n",
              "\n",
              "        const docLinkHtml = 'Like what you see? Visit the ' +\n",
              "          '<a target=\"_blank\" href=https://colab.research.google.com/notebooks/data_table.ipynb>data table notebook</a>'\n",
              "          + ' to learn more about interactive tables.';\n",
              "        element.innerHTML = '';\n",
              "        dataTable['output_type'] = 'display_data';\n",
              "        await google.colab.output.renderOutput(dataTable, element);\n",
              "        const docLink = document.createElement('div');\n",
              "        docLink.innerHTML = docLinkHtml;\n",
              "        element.appendChild(docLink);\n",
              "      }\n",
              "    </script>\n",
              "  </div>\n",
              "\n",
              "\n",
              "<div id=\"df-37b72df0-da71-4280-be9e-fc788bc6b781\">\n",
              "  <button class=\"colab-df-quickchart\" onclick=\"quickchart('df-37b72df0-da71-4280-be9e-fc788bc6b781')\"\n",
              "            title=\"Suggest charts\"\n",
              "            style=\"display:none;\">\n",
              "\n",
              "<svg xmlns=\"http://www.w3.org/2000/svg\" height=\"24px\"viewBox=\"0 0 24 24\"\n",
              "     width=\"24px\">\n",
              "    <g>\n",
              "        <path d=\"M19 3H5c-1.1 0-2 .9-2 2v14c0 1.1.9 2 2 2h14c1.1 0 2-.9 2-2V5c0-1.1-.9-2-2-2zM9 17H7v-7h2v7zm4 0h-2V7h2v10zm4 0h-2v-4h2v4z\"/>\n",
              "    </g>\n",
              "</svg>\n",
              "  </button>\n",
              "\n",
              "<style>\n",
              "  .colab-df-quickchart {\n",
              "      --bg-color: #E8F0FE;\n",
              "      --fill-color: #1967D2;\n",
              "      --hover-bg-color: #E2EBFA;\n",
              "      --hover-fill-color: #174EA6;\n",
              "      --disabled-fill-color: #AAA;\n",
              "      --disabled-bg-color: #DDD;\n",
              "  }\n",
              "\n",
              "  [theme=dark] .colab-df-quickchart {\n",
              "      --bg-color: #3B4455;\n",
              "      --fill-color: #D2E3FC;\n",
              "      --hover-bg-color: #434B5C;\n",
              "      --hover-fill-color: #FFFFFF;\n",
              "      --disabled-bg-color: #3B4455;\n",
              "      --disabled-fill-color: #666;\n",
              "  }\n",
              "\n",
              "  .colab-df-quickchart {\n",
              "    background-color: var(--bg-color);\n",
              "    border: none;\n",
              "    border-radius: 50%;\n",
              "    cursor: pointer;\n",
              "    display: none;\n",
              "    fill: var(--fill-color);\n",
              "    height: 32px;\n",
              "    padding: 0;\n",
              "    width: 32px;\n",
              "  }\n",
              "\n",
              "  .colab-df-quickchart:hover {\n",
              "    background-color: var(--hover-bg-color);\n",
              "    box-shadow: 0 1px 2px rgba(60, 64, 67, 0.3), 0 1px 3px 1px rgba(60, 64, 67, 0.15);\n",
              "    fill: var(--button-hover-fill-color);\n",
              "  }\n",
              "\n",
              "  .colab-df-quickchart-complete:disabled,\n",
              "  .colab-df-quickchart-complete:disabled:hover {\n",
              "    background-color: var(--disabled-bg-color);\n",
              "    fill: var(--disabled-fill-color);\n",
              "    box-shadow: none;\n",
              "  }\n",
              "\n",
              "  .colab-df-spinner {\n",
              "    border: 2px solid var(--fill-color);\n",
              "    border-color: transparent;\n",
              "    border-bottom-color: var(--fill-color);\n",
              "    animation:\n",
              "      spin 1s steps(1) infinite;\n",
              "  }\n",
              "\n",
              "  @keyframes spin {\n",
              "    0% {\n",
              "      border-color: transparent;\n",
              "      border-bottom-color: var(--fill-color);\n",
              "      border-left-color: var(--fill-color);\n",
              "    }\n",
              "    20% {\n",
              "      border-color: transparent;\n",
              "      border-left-color: var(--fill-color);\n",
              "      border-top-color: var(--fill-color);\n",
              "    }\n",
              "    30% {\n",
              "      border-color: transparent;\n",
              "      border-left-color: var(--fill-color);\n",
              "      border-top-color: var(--fill-color);\n",
              "      border-right-color: var(--fill-color);\n",
              "    }\n",
              "    40% {\n",
              "      border-color: transparent;\n",
              "      border-right-color: var(--fill-color);\n",
              "      border-top-color: var(--fill-color);\n",
              "    }\n",
              "    60% {\n",
              "      border-color: transparent;\n",
              "      border-right-color: var(--fill-color);\n",
              "    }\n",
              "    80% {\n",
              "      border-color: transparent;\n",
              "      border-right-color: var(--fill-color);\n",
              "      border-bottom-color: var(--fill-color);\n",
              "    }\n",
              "    90% {\n",
              "      border-color: transparent;\n",
              "      border-bottom-color: var(--fill-color);\n",
              "    }\n",
              "  }\n",
              "</style>\n",
              "\n",
              "  <script>\n",
              "    async function quickchart(key) {\n",
              "      const quickchartButtonEl =\n",
              "        document.querySelector('#' + key + ' button');\n",
              "      quickchartButtonEl.disabled = true;  // To prevent multiple clicks.\n",
              "      quickchartButtonEl.classList.add('colab-df-spinner');\n",
              "      try {\n",
              "        const charts = await google.colab.kernel.invokeFunction(\n",
              "            'suggestCharts', [key], {});\n",
              "      } catch (error) {\n",
              "        console.error('Error during call to suggestCharts:', error);\n",
              "      }\n",
              "      quickchartButtonEl.classList.remove('colab-df-spinner');\n",
              "      quickchartButtonEl.classList.add('colab-df-quickchart-complete');\n",
              "    }\n",
              "    (() => {\n",
              "      let quickchartButtonEl =\n",
              "        document.querySelector('#df-37b72df0-da71-4280-be9e-fc788bc6b781 button');\n",
              "      quickchartButtonEl.style.display =\n",
              "        google.colab.kernel.accessAllowed ? 'block' : 'none';\n",
              "    })();\n",
              "  </script>\n",
              "</div>\n",
              "    </div>\n",
              "  </div>\n"
            ],
            "application/vnd.google.colaboratory.intrinsic+json": {
              "type": "dataframe",
              "summary": "{\n  \"name\": \"df\",\n  \"rows\": 9,\n  \"fields\": [\n    {\n      \"column\": 0,\n      \"properties\": {\n        \"dtype\": \"string\",\n        \"num_unique_values\": 9,\n        \"samples\": [\n          \"NC_000010\",\n          2263,\n          \"NC_000010.11\"\n        ],\n        \"semantic_type\": \"\",\n        \"description\": \"\"\n      }\n    }\n  ]\n}"
            }
          },
          "metadata": {},
          "execution_count": 13
        }
      ]
    },
    {
      "cell_type": "code",
      "source": [
        "# Получаем нуклеотидную последовательность гена. Параметры берем из 'gene_list'\n",
        "def get_dna_sequence(gene_seq_keys_list):\n",
        "  for nucleotid in gene_seq_keys_list:\n",
        "    nucleotid_id = nucleotid['nucleotide']\n",
        "    start = nucleotid['interval_from']\n",
        "    end = nucleotid['interval_to']\n",
        "    handle = Entrez.efetch(db=\"nucleotide\",\n",
        "                        id=nucleotid_id,\n",
        "                        rettype = 'fasta',\n",
        "                        retmode = 'text')\n",
        "    # загружаем нуклеотидную последовательность хромосомы\n",
        "    chromosome = SeqIO.read(handle, 'fasta')\n",
        "    gene_sym = chromosome.seq[start:end]\n",
        "    print(f'Gene ID: {nucleotid[\"gene_id\"]}')\n",
        "    # print('Chromosome description: ' + chromosome.description)\n",
        "    # print('Gene sequence: ' + gene_sym)\n",
        "    # print('Gene sequence length: ' + str(len(gene_sym)) + '\\n')\n",
        "    # print(('=' * 100) + '\\n')\n",
        "    return gene_sym"
      ],
      "metadata": {
        "id": "_qZQINet2kvP"
      },
      "execution_count": 14,
      "outputs": []
    },
    {
      "cell_type": "code",
      "source": [
        "%%time\n",
        "gene_seq = get_dna_sequence(gene_list)\n",
        "print(gene_seq)"
      ],
      "metadata": {
        "colab": {
          "base_uri": "https://localhost:8080/"
        },
        "id": "l5PBbMJM2pQJ",
        "outputId": "ba87d96f-6f90-421d-bd9a-f7764a091d30"
      },
      "execution_count": 15,
      "outputs": [
        {
          "output_type": "stream",
          "name": "stdout",
          "text": [
            "Gene ID: 2263\n",
            "ATTAAAAAAATAAGTTGCGTGACATTTATTTTGTCTTGTTAACATTAATATCTGTAGAAACATTTTTATTGTCAGTATAAAAATTAACAGGTTTTATTAAATACTTTCTCCAATTTTGTAACACATAAGATCAGTGTAATCTGCATTCATCTTGCACGGCTATTGCAAAGTGAGTGGGTGTTTCCAAAGCAAAACACAATACTTTAGTACAGAAGGAACAACGGCGATATTTTGTCTGATGTAGGTATGAGGCTGGATCTTTTGGTGAGGTCCTGCCAGAATTAGATGAAAGCAATCCCTTAAAAAGATGGACGTATCCCCAAAACTATCAGCAGAACAACTCTGTGTTTCAATTTTCTATGATGGGACTTGAAGATCCTAACAGGCGTCTCCAACGCCAAAGAGTCTGGAAGCCATTATCAAAATTCACTGAAGAGAATACAGGCTAATCTGATTAATGTGCAACTCAGAAGCAGAAGGCCAGCTGCCAGAGAGAAGCACATTCTGCTATCATTTCAACTAAGGTCTGTCCTCAAGGAATGGATTAAGGCATCTTTTAAGAGGACGCTGGTACCATTTATCTTGGGAAGTCCAGTTAGACGTTGCGTTGACGTAATGACAGGGTTGCACACCAAAATGAAACACCTTCCTATGAATGAGTTCTTTTAATATGGGGCATTTAGGAGGTCTAAGAACAATCGTCTGACAGCAGCATTTAAACACAAATAAATCAAAACTTCATTTTCCCCAAATTAGTCATATATTGTAAATATTCTCTTTTCAAAGGATCTGATAACTAGTTAAGTCCAAGCAATAGATTAACTAGTCTGCTGTGCTGCCTGCATAGAAATGCCACTTAAATTACAAAAAAAACTATAAATGATTAATTGTTTTGTATATTACCAATTTATTAATAAATTAACGTTATACCATTTTCCCTGAAAGCAAAAGTATTTTTCCACCTCTGCTCGGTGAAAATTAAGAAATTATGTGTAAGAACAGCATTTAGCAAATAGCTATTAAAAAAAGAGAGACCAATTTTCTAGGTGCATTGGGACATCCATTTAAAATCAATACAAAAAATAACTCCTTGTAAATATATAATATATATTTATACATAATTTGAATATATTTACATACATCCAGCACCTATATACTGCATTTGTGCTCTGTAAGTGTGTGCTGACATAAATCTTCTCCAATTATTACAAAATTAACAAGGAAGGCAGAACGCACGTCCACCTTGAGTCCTACTGGTCCACAGCCAGTACGCACGGCAGGTGAGAGGGGTTACATGGTGGCTTGTGGCAGTCCACTGCTCCAGAAACCTTCTTCTCCTCCTGGGGAAGATTACAAGTTTTCAACTGTATAAATCTTTACACATATGCTGATTACTTTTCCAATTATTTACTCCTCTGATCCATATATACAAGTGGAGACAACAAGCTCTGGGAGGCATGGTCTCCCTGCTCAGTGTAGCTAGGTTCCCAGTGCTGTCCTGTTTGGGGACAGGCAGACACAGTCATTCATGTTTTAACACTGCCGTTTATGTGTGGATACTGAGGAAGGCATGGTTCGTAAGGCATGGGGTCTGGAGAAAAAACAGAATCATCTCCTGAAGAACAAGAACTTCTTGTGTCAGGGTAACTAGGTGAATACTGTTCGAGAGGTTGGCTGAGGTCCAAGTATTCCTGAAAGAAGGGAAGAGAGACGTTTTATTTCATCTTGGGTCAGGATAACAAGGTGAATACGGTTCGAGAGGCTGACTGAGGTCCAAGTATTCCTGAAAGAAGGGAAGAGAAGAGTTTTATTTCAAACACAAACTCTTGAGATGTGGGTATTGGACGTGGGACAGGACAGGAGACCCCTAGAAGGTGAACAGAGACCCAGCCCACCTGACTTCCACGAAGACCTCCCTGAGACCACGTCTGATGTACCCCAGGCTGTCCTTAGCTTTTCTCTTGGAATCCATCATAAATCAACTATTGACAGGTAGAGAACAATAAAACCTAGTTGAGCTATAGGTGCTGGGCAGGCAACTCGGCTTCACACGGACCTAAATAACCCGCTGAGTCTACACCACCTCCTCACTAGAGCCCTTGCTTCAAATGCGAGCCCCAGCAAAATGAAAACCGGTAACATGTTGTGGGTCCCCAGACCCCCTTTAAGTAGTTGAGACTATGAATATTTATTTTCTGAATTACATTTTACTATTGTAGTTTCGGGGATAATTGAAGGGGAATACTTCTTCATTCAGTGGGTAATTTAACAGATGTAACTGATTACTCTCAGAAGCTCTCCGAGTTGAAAATGTAAACAGGTTCAAAAAAGGCTTAGACATACTCATGTATGTTAAATCCATAATGCACTGTTAAAGGAAACTTCAGGAAAATATCGGTTAAGTTTCAAAGTTTTGAAGGTTCGAGATTCAGAAAGTGTCCTTTGCTCCCCAAGGCATCCAGTGCTGGTGCTGCAAAAAGCCCTCTGGATCACCCCAGGGTGACACTTCCTCCGACTTGGGTGCCCACAGACGACTTTGTATGGCCTGAGGGCTAAAGATGGTCTTTAACATTGGTAAGCGGTTGAAAAAAAAAATCAAAAGAAGAAGAATATCTTATAGGATTAAAATGAATAAAATTTATATACAATTATATAAAATTCCAATTTCAGGATCCATAAAATTTTACTAGAAGACAGACTAGAACACATCTATTTACATATTGTCTGTGGCTACTTTGAGGCTACAGTGGCGAAGTTGCAACAGAGACCACAGGGCCGGCAAAGCTGAAAATATTTACTCCCTGGCCCTTTACAGAAAGCAGTTGCCGACCCCTGTTCTGAAGCTATGAAAAGCTTTCTAAATTGGGAACTTGTGGGTCTCTCTGCCTCCACTGGGCTGGCACAGTGGGGCAGTTCTGCTCACACATCCAGAAGCCAACAACTATTCTATGACATGTGGTTTTGCTGAGAGGGGGCAAAAAGTGCAGACCACAGCACAAACAGCCTCAGTGTTATCAGAAAAGAGCCCATGGAATGTTGGCAACTAGACATTTTTAAAGACACACACACACACACACACACACACACACACAAAACCCTCTAATTCATCACCAGGGTTGGCAAGAGAAAGAGTCCCCATCCCAGCATCCCAGAAGGGGAATGTATCAGTTCCAACAACATCAGCATTAACCACACAACTGGAAACAAACACGCCCACCACATCAAAAGAGAACTTTTTGCTTACAATGATAAAAACGAAATTTTGTCCTAAATGGAACCGTTTTTCTTGAGCATATGGTAATGATTTTCAGAAGGAAAGAAACTTCGATTTTTATATCCACCAGACAATATGGCATTCTGCTTTTTTATTTTAGGGTACTAGATACAAATTTCAGTATCAACGGACCCACTCTACATGTAAATATATAAATAAATCACTTTGAGCATAGACATGAGATCATTAAAATAGAACTTTAGTGCTTTTCCCGGTTTCTTTCTTTTTTATTTTTATTTTTTTTTTTTTTGAGACGGAGTCTCGCTCTGTCGCCAAGGCTGGAATGCAATGGCATGATCTCGGCTCACTGCAACCTCCGCCTCCCCGGTTCAAGTGACTCTCCTGCCTCAGCCTCCCGGAGTAGCTGGGATTACAGGTGCACACCAACACGCCCGGCTAATTTTTTGTATCTTTAGTAGAGACAGGGTTTCACCATGTTGGCCAGGCTGGTCTGGAACTCCTGACCTCATGATCCGCCTGCCTCGGCCTCCCAAAGTGCTGGGATTACAGGCATGAGCCACTGCGCCTGACCAACTTTTCCCAGTTTCTCAATGAAGCCATAAACTTTCAGATCTGATAGGAAAAAAACAGGGATATCAGTAGATTCCAAGTCTACAGTTAAAGGAACTTATACTAGAAACAACAATTTTGGCAGAAGAAGAAAGTTGGTTTCTTCCCCCCCTTGAACCGTTCCTTTCCTTTCAACTTCTGAAGGTCAGCTGTATTCATTTAAGTGCAATCTCTTCCTTTATCCAGCACAGGCCACAGTCAGACGCATAAGATAAAGCTGCTGAGCTAAGACTTCATATCACTACATTTGATTATTACTTTTTAAAAAATCACTCTAAAACTATTTCCTAAATCAGAAATTAAGTGTATTATTTTCCTTCTAAAATACTTGGGGGACTTTAACTTTTTTCTTGTTGAGACAATTGCATGGTTTGGAGTTAGTTTCCTGTGTAAAAGAACACTATTGTGCATCCTCATTAAATATCTCAAAATACATTCATTAACAATTTCTCTATCTTAAGATTTGACTAGACTTGATGGGTTTATCATCTTTCCTGCTCAGAGCATATGCTTTCCATAATTATAAAAGGCACTCTATCTGCATATTGAAGGAGCCACTGACATGGCTAAATTTGCACAGTGAGTGACAGACGAGTGTTTATTTTGTTGGCAAGGATCATAAATTATTATTATTTTCTTTTTGAGATGAAGTCTTGCTCTGTCTCCCAGACTGGAGTGCAGTGGCGCAATCTCAGTCACTGCAAACTTCACCTCCTGGGTTCAAGCGATTCCCCTACCTCGCCTCCTAAGTAGCTGGGATTACAGGCACATACCACCACATCCAACTAATTTTTGTATTTTTAGTAGAGACAGGGTTTCGCCATGTTGGCCAGGCTGCTCTCGAACTCCTGGCCTCAGGTGATCTGCCCTCCTCGGCTTCCCAAAATGCTGGGATTACAGGCGAGAGCATAAATATTTTAGGGAAAATAAATATTTTAACAAAAGGTACATGTTTTTATGTAAAAATCATGTAAGTTGCTCATTGTAGAAAACAGTGTATGTTTATATACACCTAGAAAGAGGCTGCAAGGCATATAGCATTACCAACAGGATCACATAGGATAGTACTGTGGTAACAGAAGCTGGTGTTAGAAAACTTCATTGTATTCCATCAAGCAAATGATGACGAACATTATCAGTTTACCCACTAATGACCAAAGCACAGAATCAAACTTGCACAGGAATCCAAGCTTTTTCCCATGCACACCAAAATGCAAGTGAATACTGCTTCCCCTTTCCCACTCTCCCACATACCCCGGACTGCTCCACCAGCAGCTACACTGAAGGCAGCCTCGGGGATGTCCCTCTGTCTTTGGTTTCATGAGTCAGAACTCACAAAATGAAGTTCTGAGAAAAATCATGATTTGAGAGGAACCCATAGTTGAACTATCTGACCCTATGGAAAAAGAATAAACAAGACCACAGACTCCAACCAACAGCCAACAGGGGAGTGTGTGTGTAAAACACTACGCATGTCTCACAAGACAACCAAGGACAAGGGGCTTCTAGAAGGAAGTTCTTACCTCATTGGTTGTGAGAGTGAGAATTCGATCCAAGTCTTCTACCAACTGCTTGAACGTTGGTCTCTGGGAGGGCACTGCATGCCAACAGTCCCTCATCATCATGTACCTGGGAAAAATGGATTTCCTTGAATTAATTTCATATGCACTGGGTACGTGGTTATAGTCAGTTTTAATAGGCAATATGGGGACGTGGTGTAAATTAGGAAAATGCATCAGAACCTTCCAAGCAACTAGATTAGGGGGTCATGAATCACTTTCCCAAAAGCTTCCCTGCCAGTTCCTCCGAAAGGCACTTTGACTTACAAAAACATGTTAGAAAGGCATCGAAGCCATCAAGAAAGACACAGCTATGTGTTTTCCCTGGTAACCCTGGGCCACAGTGACATCTCACAATGGCGTCACACCCTAAAGATGCTTTGGAGGCTGAAGGAAAATGCGTATTTCCATGGGCTGGTCTCCAGTCTTCCCTCCCCTGACACCCTGCCCAGCACCAAAGCAGCTCCACTATTTATCTGCCCGGTGCTTTGGGTCTTAATGATTCTAGTTGACACAGCTTCCTGAGTTAAAAAAAAATTAAATAAAATTTGAAAACTACAACTTCAAGTTTTTGATGAATTAATCTGCCACCACTGGGCTGCACACTAACTTCCTGATTAACTCTTAGATAGGCTTAGCTTCCCAGGTCTTATCTTGATTTTGGGTTTCGACAGATCCTCTACGTTACAAAAGAAAAAAAACAATAGGAATGACAAAGAGCACAATAAATGCCTTTATATAATATGCTATAAAATGTGGCCATTCATCAGACATCCACGGTACACCGAAAAGCACTCACGGGATTACTGATATAAAATCCCCATGAAATGATACACAATAGACCGCAGTTTCTGGGACAATCACTCTTCTTAGTTAATCCTGGAGGGGTTGAGGCAGGAGGCAGAGAGACTCCTTTCAAAGCACTGATTCTATTGCACCAGGCACACGTCACAAACACAACATAACTCCACTTAAAGTGTGAGGCAGGTTTTGCTACAAACCAGTTCATGGTTTTACAGGCAGATCTGGTACAGTAAGGAGGGCGCCTGGACACATGTTTAATTCTCTGCACTAAAACACAAGTGAGACCTAGGTAACCAAACACGAGTTCCTTCGCTCTGAGGAAATGTGGTTGGCGTCAATCTGTAATGGCAATTTTCAATGGTTCGAGAAGTTCTGGAAACACCGATTCTCTACTGGCCACGATGGGGCCAGGCGGGGGCCAGGCACAACCACCAGGGAAAGGCTGTGTTGGTTCCTTAATCCTACACCCTGCAGGGCGGCCCCGCGGCTTTCTAGCTTGTTTCCTGACCCGTGGGTCTTCCTGTCACTCCACGGGAGACCGCAGAAGGTGCAGCACAGTGGCCCAGGAAGACCACTCCTGCTGGCTCTGCAAAGTCAGGAGCCCTCAGCCAGGCAGCCAGACACCCTCTGATCCAAAGCCCTCTCCATACTCAGAATAATGTTCTTTCTCTCAGACAAGTAATGGTTGTCGGTGTCGCTATGTATCCCAGCTCTGGATTGAGCCCAGAGAGCTTCAGCCATTCTTCTTAGAGCATGTTTAGGAAACCAGGGGCCTTCAAAAACGAGATACATCAGGAGAGGTATTACTGGTGTGGCAAGTCCACTGGGGCACCGGCAGGAAAGACAACAGCCCTTACAGTTCGTTGGTGCAGTTGGCTGGCTTATCCATTCTGTGTCCTTCCTTCAGCAGCTTAAAAAGTTCCTCCACGGGAATCCCTGGGTAGGGCGAGCCCCCTAAAGTGAAGATCTCCCACATTAACACCCCGAAGGACCAGCTGCAACAAAAGGAGAAAGCACGGCATTACTAACCCATCCACGTTGCCAAAACCTAAACACGCCCAGCTGAGACATAAACACCTCCTCACTTCTGAAGTTCAAAGACAAATGGGCCCTCCTGCAGTTCCTCCTATGTGCTCTTTCCTGCCCTGCAAGAGCATCCCCGAATGATGATGACACGGGGATGTGCTGATGGAATTTTCCATCAATAGACAAAAAGGCAAACTGCCATCACTCTGGAATAGAGCTGCTTGTCTTAAATGTGGTGTTAGCAATGCAAGGATCTCAGTTTCTCAGTTTCAAAGCCTTTACGCTCCTTTCCAACTCCTTATGTGCCTGACCCAAGGGTTGTGATCTACCAGGATGGGCAGTTGACAGAATAAGGCCAGCAAGCCAACTCCGCAGGATCACAGCTGCCCTGTGTGGCTGGCGGAACATCTGCTGCACAGAGGCTCTGGAACTTACTAAGATCGCAAAGGCAATCAGCACTGGGCTGGGGTTAGGATGAGGAATCACATGCCCCAGATGAGTTGCACACAACAAAACTGAACACATCTCACAGGCCATAATTTATTTACACTTGACTCTTCAGAGATTTGGACTTCCTGTGCCAAGTTCAGGAGGCTCAATCTCTGGGAGGAGCAAGCTGAGAGAGCCAGGTTTAGCTACATCATGGTCGTTCTGGAAACTCAACCTTCTGTACTCGATGGTGGTGTTTCACTCCGCAGTTTTCTACAGAGCAAAAGCAGCAGCACAGGACAGGCAGAACAGCCTCTGTGCCTCAGTTGCTCACAGCAAAAATGGGATAGTCATGTCTTTTTTTTAGGATTGTTGAGAGGACCAACTATGGTAGCACAGAATTAATGCCTACCCAGAACTCCTCCTGCTCATACAAATAAAAAATAGTTCAAGTGATTTTTTTTTCCCCAGACAGAGTCTCGCTCTGTTGCCAGGCTGGAGTGCAGTGGCACAATCTCAGCTCACTGCAACCTCTGACTCCCAGGTTCAAGCGATTCTCCTGCCTCAGCCTCCCAAGTAGTGGAGATTACAGACACGCATAACTACGCCCAGCTAATTTTTGTAGTTTTAGTAGAGACGGGGTTTCACCATGTTGGCCAGGATGGCCTTGATCTCCTGACCTCGTGATCCACCCGCCTTGCCCTCCCAAAGTGCTGGGATTGATTACAGGTATGAGTCACTGCACACAGCCTTCAACTGAATTTTCAAATCTAAAATATCAGTTGGAGCCTGACCCCACTGGTTTTGTCAGTATATCATAATAGAAATATTCTACTGTGTTTCTAGAATGCTATCAAGGATGCCAAAGCAAGATCAGACCTTTTTGTTGAGGGATAAACATAGAGAGTAGACCCTGTGGAGGTCCCCAGCCTGGACCACATCTCACTCAGCTCCACTCTTTAAGGACAAATCTGGGTTAGAGGGAAATATGACAAACTACTCGTAAGTGGGAAAAGCTCCAGGATTACTCCTTTAATGGAGTGAAGAACATGCCAAGAGCTTGGCGAATTAGATAACCGCTTTGTAGTTGCACATCCATGAATATGTTCAAGGGAAGGACTTCCGCTCTGGCAGGGGGAGGTCAGCAGTTCCACCTTCTGTGCTCTTTGAAGCCAGGCAGATTAGTAACAGAGCATTGGTTATCAGCCTACCATAAAATCTGTCCTTTCTAAGGCCAGCTCCTGCACCTTCTACGAATGTGTGAAATGCAGCAGCCACTAAAGAAGGAAGAAAGGTGAAGTACGTACAGTATTTTTGCAGCTCAAGCCCAGGAAAAAGCCAGAGAAAAGAGAGTTACTCACACATCACTCTGATGAGTGTATACTCTATCAAACAGGGCTTCTGGAGCCATCCACTTGACTGGAAGCCGCCCCTGCAAATGTAGAGGAAAATGCAAAAACTAAATATATTTAAAAGAATTTATCTTAGCAGGCTCAATAGGGCTATGCCCTGTTTAAGAGCTGATATTCTCGGTTTTTACTAGTCAGTCAATAGAGCAGAAATCAGTCCCAATGAGGACCATGAACAATGTGTGAGATGCACAGGTCTGGGCCGTTAATAAAATGCCATCTCCTTGGATTCTATCCTTTATCTCCCTAGCACACAGATGCTCCTTGACCAGTTATTAGGCAAAAATTAAACCAGTAACTTCCAAGCTGTAGTTTTTGCTATGAAAGTTCTTGATGAGAACCATAAGAAAATCCTAGCGGTTGCTGATTATTCTGTATATAAGTGTTTCACATTTACTAAAATTGACATAATAGAGGCTAAATTTGCATATTGAGAGTTTGTGAATAGTAAGTCAAAAGAACGGGAATCGGGGCAGGGGAATGGGTCCCCAGCCATCCCACCCAGCTCTCAACATTGACGGCCTTTCTTCCTGGAACATTCTGAGCCTCACCCCCGCCCCTGCCCACTGTGTTACTGCCATCGACTTACATTGGTGGTCTTTTTGTAATAGTCTATATTGTTGATATCTCTGGCGAGTCCAAAGTCTGCTATTTTCATCACATTGTTTTCTGTTACCAAAACATTTCTGGCTGCTAAATCTCGATGAATACACTGAAATCAAGAAAGAAGCAAGAGAAATAACTAATTTCAAAACACCGCCAGAACAAAAAGGAAATATGTTCATTTCTTAAAATGCAGATAGAAAATATAGCTGATGTTAAAAACCAGTTGCGGTATACTATAAGAAATACAGTGTGGCCGGGTGCGGTGGCTCATGCCTGTAATACCAGCACTTTGGGAGGTCAAGGTGGGCGGATCACTTGAGGTCAGTAGTTCGAGACCAGCCTGGCCAACACGGCAAAATCCCATCTCTGCTAAAACTACAAAAATTAGCCGAGCGTGGTGGTGTGCACCTGTAGTCCCAGCTACTCAGGAGGCTGAGGCACAAGAATCACTTGAACCTGGGAGACAGAGGTTGCAGTGAGCTGAGATCACGCCATTGCACTCCAGCCTGGGTGACAGAGTGAGACTCTGTCTCAAAAAAAAAAAAAAAAAAAGAAAGAAAAGAAAAGAAAACGCAGTGTGGCTCTAAGATTAAGAAGACAGGTCAACTGGGATCATCGGAGAGCCTGGATCACGACATGTATTTGTTTTGGAATTATAAATAAATAGAATGATCATTTTGAAGAGCGAAGGTAGACTAAATAACCATATTCTCTTCTACCTCCAGTTGTCCAGCCACACCAGTGTCTTTCTTTCAGCTGCTTATAGATCTGTATCTGATCATCCTAAAATCTTTTCTCTCAACACTTGCTCTCCTGCCCTTTAAACCTGAATTTTCAGAAGCGTTGGTTAAAATCCAACATTGTGTCTTCTTCATTCCTGGTCACTTCTCAAACATTCTAATCTGTGTTCCACTCTTGCCTCTCCTGAAGCTTATGAAGAACCTCTGAATTGTTAGACGCAAATGACGTCCTCCAACTCCTCAGTTGTTCCTCCTCTGTGGCTTCAGATGCTATTGATTTCTTGCTTGTTTTTTAAAATGGTCCCTCTGTTTAGGTTTTCTTGTTTTTGTTTTTTTTGTTTTAACATGGAGTCTTGTCCTTGTCGCCCAGGCTGGAGTGCAATGGTGCGATCTTGGCTCACCGCAACCTCCGCCTCCTGGGTTCAAGCGATTCTCCTGCCTCAGCCTCCCGAGTAGCTGAGACTACAGGTGCCTGCCACCACACCCGGCTAATATTTTGTATTTTTAGTAGAGACGGGGTTTCACCATGTCGGTCAGGCTGGTCTCGAACTCCTGACCTCAGGTGAGCCATCCGCCTCGGCCTCCCAAAGTGCTAGGATTACAGGTGTAAGCCACCACACCCAGCCCCTCTGTTTAGTTTTATCCCGTCCCCTTCCCTCAGCTGCCTCTCTGTCTCTCCCTGCCCTCTTAGAATCTCTGGCTGGCTCTTCTCTTTTTCTGTCCCTTCAAATAGAGGAATTGTTCCATTAAGTTTATGTATTTCCATATATCCTCAAGGCATTAATTCTAAACACATACAAAATATGCGCAAGTTCGTATCTCCATCATGACCTCCCTCCTGAGACCCATGTTCTCATTTTCAACTGTCTATGGGACACTTCCCCACTGACATTCCCTTGACGTCTCAAATTCAAGGTTTCAACTCCTCCAATGCTTTGTCTCTCTTAATCGGAGAGCTATACACCGGTATTCTTTACACATTCCTCCCAAGTCCTGTTGATTTCAACTCCAAAATGCCTTCCCATGTGTCCACACCATGCCTTTCCCACTGCTAATGCCTTAGTCCAGGCCATCTTCACTGTCTGCCCCTCCCCCTGAGACTTCCACACTGCCCGTCTAGCGGGTCTCTACGCTTCCAAACTTAGCCCTGTTGTACCTCCTCCATGTCCCATGACTAAGGTTCCTGAAATGACTAGTCATGTCCTTTCTTGGTCTCTACCATGGCCAATGCCCGTCTATCCACGTTCTCAGTCCAGTTTCTCCTAACACCTGGCCTCAGCCTGAATGTGCCACATACACTGATTCTAAACACTGAAATATTAAATACTTGCTGCAGAACAGCTAATTTATTGTCTTGACACTAACTCTTGGGTCTCAGAAAGATCTAGCTATTACGACTTTTCCTTCTTTTTTTTTTTTTTTTTTTTTTTTTTGAGACGGAGTTTCACTCTTGTTTCCCAGGCTAGAGTGCAGTGGCACGATCTTGGCTCAATGCAACCTCTGCCTCCCAGGTTCAAGTGATTCTCCTGCCCTCAGCCTCCCAAGTAGCTGGGATTGCAGGTGCCCACCACCACATCAGGCTAATTTTGTATTTTTGGTAGAGATAGGGTTTCACCATGTTGGTCAGGCTGGTCTCAAACTCCTGACCTCAAGTGATCCACCCGCCTCGGCCTCCCAAAGTACTGGGATTATAGGCGTGAGCCACCACGCCCGGCCTATGATTTTTCCTTTCTACAAATGATACGCTACTGTGAGCTGCTGCATTTTTGTTACACTTTCATATAGCAAGATTTCCACAAGATACAAGGTAATTAGGGTCTCCAATCATCACCTTCTATTTTGGGAAGAGATAAGACACAAAGAAGCAAATATCACCACCGAAGCCTTTTACACTGGTTATTGGCAAAGGTTAACTATCATACGAAGCAGAAAGTCTTATCAGTCCATTCAACAAGGCTGAAATGGGGGCGATCTTAGGCACTCCACGAAATGGACAATTAAAAAAGGGGCAAGCTACGTGATCCCTGAAATATAAATAAGGAATTATTTGATTCCACCCCGACCCCTAGCTATTCCTTGTGTTCACACACTTCTGGGCCTCCCGGGTAGCCTAAGCCCAGAAGCGGGAAAGCAAGAAAGCCACGCAAGCTTGCAATCCCTGGCCAGGTTGGAAGCAGGAAACATGAGAGCTCACAGAAGCTGCCTGGAGATTCGTCTGGGGCTGCAGCCCTGTTCCCAGTTTTGGAGGCCTGTTCAAATTGAACTTCCAAGCCCCGGGCCAAACTCTCCCGGTGGTGTGCTCCTGCCGACACGCGCTCTGTGTGTCTGGCAAGCTGTGTGGTCAGAAGAATGTGCTTCCCACGCACTGGGCTCCAACTATGCATTAGGGCTCAGCTTGCACAGAGACACTGCTGACGGCTCCCTCCACCATCTTCTCAGCGAAAGCCAGAGTCTAGCGTGGCCATCCCTCATCCCAGGGGCTAGGAAACATCAAACCCCAGCCTCTGGGTTGAATAAGAGGAGACTTGGAACCCACACCCGAGAAAAAGAAAGTAATCAAAGGCAAGCCAAATCCCCGTCATCCACAGGAATGTCAGCCGTTCTCCAGCACAGGGAGCTGACCATTTTATACAATTAGGGCCCTGGGACAGTTTGGTGTTCCATAGGTGAAGGTCAGTGGGTCACTAAGGGAAGGAAGACCAACATCCCTATGATGTAGACAGTATGCCCTGTGCCCAGTATGGCTGATGACATCGAATTCCTGCGGCAACCTATGACATGGATAGTGTTATACCCATTTTACAGGTGGGGAAGCTGGGGCTTCACTAAAAAAACTGCTCAGGCTGAGCGTGGTGGCTCACACCTGTTATCCCAGCACTTTGGGAGGCCAAGGCAGGCGGATCCCGAGGTCAGGAGATGGAGACCACCCTGGCTAACACAGCGAAACCCCATCTCTACTAAAAACACAAAAAATTAGCCGGGCGTGGTGGCAAGCGCCTGTAGTCCCAGCTACTTGGGAGGCTGAGGCAGGAGAATCGCTAGAACCTGGGAGGCAGAGGCTGCAGTGAGCCGAGATAGCGCCACTGAACTCCAGCCTCGGCAAAAGAGCTAGACTCTGTCTCAACCAAAAAAAAAAAAAAACTGCTCAGGGCCAGGCGCAGTGGCTCATGCCTGTAATCCCAGCACTTTGGGAGGCTGAGGTGGGCAGATCACTTGAGGTCAGGAGTTCAAGACCAGCCTGGCCAACATGGTATGGTAAAACCCCGTCTCTACCAAAAAATAGCCAGGTGTGGTGGTACATGCCTGTAGTCCCAGCAACTCAGGAGGCTGAGGTGGGAGAATCACTTGAACCCAGGAGGCCAAGGCTGCAGTGAGCCAAGATCACGCCACTGCACTCCAGCCAGGTGACAGAGTGAGACCCTGTCTCAAAAACAAAAACGAAAAACAAACTGCTCAGGTTTAACACTTTGAGGGTTAACTGGGTTTGGGATTTGGTTAAAAAAGTAAAATTAGTGTGATTTGAGCTAAAAATAGTAAGGATTTTATAAATTGTGTAAGGCTCAAATACCCTATTACCTAATTGCATTGCTATATACACCATGGTGTTTTTTCACTTCTCTGTCTCCAATCCCCAACCCCTACCCCAACACTCACACACTCACGCACACACACACATGTACACACACAACTGAAAGCTGCTGGAGGCCAGGCACTGTGTGTTCATCTCAATCGGCCCAGCGCTGAGCACAGATGAACCCAGTACATCAGTAACGATGTAATCAACAGTTCTCTTTTGCCCCTTCCTTCAGGCAAGCAGGTCTCTCACAAGCCCATGGCTCCCCATTGTGAGGGGATGGGTGTGGGAAAGCCAGGGCCGGACCCTTTGCCTGGTTCTTCATTCTCCACTTTCAAGAATAAGCCCTCCATTTTTGGAAGCAGAGCCCTCGCAAGGGGACCATGCTTAACATCTTCATCTACCTCCATTTTCAAACCTATTCTGGGTCCTTAACTGCAGGTGGCCTCCAGTAAGTGGCTTTGGAACCATGCCATGTCTTAAAGGCCCATACAATATCCCTTTTACCTTGGGCTGTTATTCAATGTAGAGACAATGAGGCCACACTGGGGCACTAAACAACCCCTCACCCGCCCCCCACGTGGAATCTCATTGGTCTTGCCTCAGTTTAGAGAGAGTTAGGGGCCTCATGAGAGCAGGAGACAGCTGAGTGGGGGACCAGGAGACCTAGGTCTGGGACCTGCCACTCCACTCTTCAGACCTACAAGTCCGCTTCTCAGAAGTGAGGACATCTGAGTCCTCCTGACACATCTGGTCTCAAACCATTCATGCTGCTTCCTCATCGTCCTCCCCCATACAATGGGGATCCAAATCCCACCTATTTCCGGGTTGTTCTGAGGGCTACGTAAGATGCTTTATGTCAAATGCTCTGCCACGGTGCCTGGAAGATGGTTAGCTTCTCCCGGAGGGGTCAGTAATTAATAATAACGATAGTTACTATTATCACAACACTTTAATATGGGTACTTCCGTTCTTCCACGATTAAATGGATGCATTTGCCCTGCTTAGCAAAGTTCGTCTCTTAGTTTTCTCTCTGCCAGCTCCAAAACAGGAAGGAGCTCTGGGTCCTCAGGGCTAGGGTGGGCAGGGGTACCACCACTGCCTCTAGGACCAGGACTCAACACCCGTGCTTCTCACCAGTCTGAGCGCCGAGGCTCTACTACCTGCCCCCTCCTTCCTGAAGCTCCCATGTGGGGCCTCTGTGCTCCGTGTCCTGATTTTCCTACTGCTCAGGCTGTGCCTGCTCGGCCTCCGCTGCTGTTTCTGGTGCTTTCAGTCAATCTCTAGATTTGAGAATTTTCTCAGGACCTGACTTCAGGCTTCTATTCTCCTCTTCCAAGCTTCTCCGCAGATGAGTTTGTCCACGCCCATGGCTTGAACTCACAGCTCCCTTTGCTGCCTCCCAGCTGTTAGCCCACCCTCAGAGCTGAGCTGCTGCCTGCAGCTTCTTCATTATCTCCCCTTGGATGACTCAGATACGCTCAAGACGAGCTCGGATTTTCCACCCAAATCTATGCCCCCTGCCCCAGCCCTGATTCCCAAGTCCTCCCAGACTTGGAAGCTGCACCACCATCCAGTTTTTCAAGCTGGAAATCCAGAAGTCACCCTTGATCTCTCTTTCTCTCCCTCCTATCTAATCAATCCATTCATTATCCCAAGAGCAAAATATGTCCAACATCAGCCCACCAGCTTTTCTCGGTGTCTTTGGACCCAACAGACCCTAGCCCAAACCATCATCACCTTTGACAGGGGCTCAGCCTTCCCATTCACCACACAAGCAGCAGTGAGAGGCATTTTTGAAGCACTAACTGATCCTCTTCCTCCCCCTCAGAGGCTTCCATGGCAGTGACAGCAAAGTGCAGCGTCCTGGCATGAGTAAGGCCTTATCCCCCTGTTTCCTCCATGGCACCTTTTTCAATATTTTTTTACAACCTTATTTTCATTCCCACATTTACAGTCAATTTCTCTTACTGTCACCCATGGTTCTTGCCCCAGGAGGTCAAGGACTATGTCTCTTCTGGCCACTTCGCTGGAGAGCCTGACCAAGGGCATGAGACATCGGGGGTGCTCTAGGAGTAGATGTTGAAGGATTTAATAAAATGACTGAGCCAGCCCTCCTACCACATTTCCCCTAGTAGCACCACCCTGCTGGGTGCAAAACTGCTTCCCCTATCTCCCACACAGGTAGGGCAGGGAGTGATCAAGACCAGAATATCAAAATAGGCAGCCTACAGATGGGCTACCCTCCCCAGGCTTATTTAGGAAGAGTTCACAGCTGCAGAAAAGGAGGGATGGCACAGTGAGTATCCACCACTGCTGGGTTTGCTTGTTACACCTACTCAATCACTTGCTGTCTCCATGTCCTGCCCCACCTGCCCCCACACACATACACACTTGGGATAGTGAATGGATTGATTATATTTTATGGCTGGACCACTTAAAACTGAGCTGCAGGCATCACTGATACTTCACAAATCTCAATTCTTCAGCGTATTTCTCCTACAACAGATACCACTGTCACCACCCCCGGCAAATTCAACACTGATACAGAAATATAACCAGTAATATTATACAGTCCATATTCAAAGGACACTCACAAATGTCCTTTCTAAGAACTGGCCACCCTCCCCGACCCACAGGATCCAGTCCAGGATCCCACTTTTACACTTAGGAATTGTCTCATCGGCCCCCTTTTATCTGGAACCGTCTCCCCAGCAGTTTTTGTCTTTCGAGACACTGACATTTGGAAGCGATATCTTGTCAAATGTCCCATGTTCTGGATCTGTCTGGTTGTCTCTGGATGCCAAATAGATTGGCAAACTACCCTACATACACGCACACACACGCACGTGTACGTAAACACAATCACAGAAGTCAAAACTGTGTTTAATTAGTTTCCCAAAACCTATATATTGGGAGATTTTTATACGAAAAAGATCTGAAAAAGTCTTAAACTCTAAACTCTCCTGAAAAAATGTTTTTAAAGTTTTTCTTAAATTAAAAAGAAAAAAGGCAAAACCCCGTCTCTACCAAAACAAAAAACAAAAAACACAAAACTTAGCCAGGCATGGTGGCACATCCTCGTACTCCCAGCTACTCAGGAGGTTGAGGTGGGAGGCTCACCTGAACCCAGGAGGTCAAGGCTGCAGTGAGCTGTGATTATGCCACGGCACTCCAGCCTGTTTGAAAGAAAGAAAAAACCATCCAGAACATGGGGTAGCTCTGGGCCATGTTCCTATGTGGCCAGAGAGTAGAGCTGAGGTGCAGCCATCCCTCGAATCTCTGCACTCTGAGTGATCCGCAGGCCTTGGTGGTGTGACTGGCATGGCCCCATGGAGACTTGAGTTTGTGACTCTTCAGGCAACCCAGACCCCCAGTGACAGAGGGTGCACGCCGACCAGAGGATCTCACCTCTTTGGGGACCCAAGGAATTCCTGGCACTGCAATAAACTGCAATGCAGGTAGGAGCAAGGCCCACCTCTGCACAGGAGGCAGCTCCGCCCCTCCGCTTCCCTATGTGTGGGGCTGACAAGGGAGTTTTGGGTCATCCAAAATGCCTCCGAGGACATCTGGGCACCTGTCTAACTACTCTCAGAATAACTGAAATGTTTCAAGTTCCACGGTAAGTGGCACGCCTGGAATGCAGGCAGTCCACCTCAGGGGACCTGGCCAACTTCTAACCACAGAGGGTCACCCGCCAAACGAGGCAAAATAAACGCAGAGCTCCAGGACGCAAGGTTACTAAAATACCCCTTTGTTTGACCTTTACTCTTAGAATATTTAATGCCATATCAAACCCAAAACACTAAACACCTAAAGTCTATGTTCAAAAACTCAGTAACCACAAAATAAATGAAGCTTAAGAAAAAAAAAAAAGAAAGAAAGAAAATCATCCGAATTAAAGGGGGCCTTTAAAACCATCCATTTCCCACCTGGAGAGCTGAATTCCGAGGGAAATCACACATGGTCCTGTCTCAAAGAAGAGGTATCTTTTCTGCTCATCTCTGCAGCGATGCTATAGGTTTATGAGGCTGCTTTGGTTTTAAACAGTTCATTAAACTCAAATGGGAATAACGCAATAAATATTTTCCAGGTTGTACAAGACATGCGAGGGCTTGATCTAGCAAATGAGCATGTCCAAATTGCCTGTTTTCTTTAAAGACATTTTTAGTTGGATTCCACCCAGCCAAGTAGAATGTGAAAGACTCACTTTTTGGGAAGCCAAGTACTCCATGCCTCTGGCCAGCTGGTAGGTGCATGACACCAAGTCCTTGAAGGTCATCTGCTCCTCAGGAACACGGTTAATGTCATAGGAGTACTCCATCCCGGGTGGCCTCCGGGCTCGGAGGTATTCTCGGAGGTTGCCTTTAGAGGCATACTCAACTATGACATAGAGAGGCCCTGTTGAGGAAGAAGAGAAGCTCCCTAAAGAGAGAATCCAGGGTCTCCCCTTGGGCAATTCAGCAAAACATTTTTAGTTATTACAACCCATGCTTTTTTTTTTTTTTTTAAAGTTTAACATACAGCGGCTGGGCGTGGTGCCTCATATCTGTAATCCCAGCCCTTACAGAGGCCGAGGCAGGTGGATCACATGAGGCCAGGAGTTCAAGACCAGCCTGGCCAGCATAGCGAAACCTCGTCTCTACTAAAAATACAAAAATTAGCTGGGCATGGTGACACACACCTATAGTCCCAGCTACTTGAGAGGCTGAGACAGGAGAATCGCTTGAACCCAGGAGGTGGAGGCTGTAGTGAGCCGAGATCACACCACTGCACTGCAGCCTAGGCAACAGAGCGAGACTTTGTCTCAAAAAAAAAAAAAAAAAAAGAAGAAGAAAAAAGAAAAAGTTTTAACATACAGAAAAGCACACATAAAAATATGATTATAATCTCTCCAAAATGATAAATAAGCCCTTGGTCATGATAGCCTCAAAAGGCACAGAGACACAGTTGACGTGCTCTTCCCTGTCACTCTCATGCTGTCACCTGCGCCCTCTTGGAAAGCAATGGATCCCTCCACTCTATCCTTTTGGTTCATTTTAACTATTCAATAAGTAATATATTATTTTTAATCACATAAATGAATAATAAAGCTCTTAGATCTTTGCAACATTTTTTACCCATACATTATCCTTTTGGAACCTGTTGGGCTTATAAAAACAAAACCAGATCATTCCTTTTCACAGCTGCATATACTGTATCGTATAAACACACCACACTTTATTTATCCATTCCCTTATATGCATAGGCATTTGCTTCCAGGTTTCAGCCATAACAAACAGTAGGCAATGAACATCTCTGTACATGTTCCCTTACACACGTGTGCAATAATTTCTCCATGGTATAGGCTCGGGGTTGGCAGACTACAGCCTGCAAGCCAAATCCTGCCTACCGCCTGTTTGGGTAATTAAATTTTATTGGCATGCAGCCAGGTCCATTCATTTCTGTACTTCTAGCACTGCTTTCTCACTACTATGGCAGACACGAGAAGTTGCGACAAAGACCATACGGCCCACAAAAGTCTAAAATATCTACGACCTCCCTTTACAGAAAAAGTTCACCAATTACTATATAGACCTACAAGAGAAATTGCTAAGTCAAAGATAGGCGTTTTCAAGTTTACTAATTACTTAGCAAATTGATTTCAAAGTGCCAGTAAACATTCAATGGAAGAAGCCAGGGTCTCTCTCCCCCAGGGAAAATAACGTATTCCTTCATACCGCTTTCTCCTCTTTTAAGCTATTCTTGGGAGCTCAGCCATCTGTGACCCACAGCAAGATGTGGATTCTTCAATCCCTGTTTTAAGGGAAGAACTTCTCAACCAAAACATAGGATCTTATTCTGACAAATCTCTCTTAGCACTTACAAAACAAAAACATAAGGAGGCTGCCTTTTCCAAAACCCCCTCCAGGTTATGACCTAGAAACAGCAGCGCCCTCTAGGCCCTCAAATCCAAAGTCACCTGCACCCTCCTTTCCACTGGCCCCCAGGTACGGGCACAGACCCTTCTTTGTGTTCATGGCTAGGAACATCTTCCAATGGGGATTTTAAAAAGAACTTTAAACATGCACACAGGGTGCTCTGGGAGCAGGATCTGGAAGCCCAGCCATTTCTAAAATGATTCAATCAAACTGCAGAGTATTTGGGCGAATGCAGTTTTTCCTCCTACTCACCATCCTGTGTGCAGGCTCCAAGAAGATTTATGATATTCTTGTGTTTCCCAATCATCTTCATCATCTCCATCTCTGACACCAGATCAGAAAGGTCTTTCTCTGTGGCATCATCTATGAACAGTAGGCATATTCACAAATCAGTTCATTTCCTCTAACTCATGGGCAGCTACTGTTAGTTGCCAAAGACTTAGTTGAAACAGCATGAAATTGAATTTCAGAATCAGAAAAGATTTTCCAAATCATCTCCCTCATTTTATCGAGGAAGGGACAAAGGCCTACACAGGGAACTGCCTCACTCTGTGTCAAAGAGCTCACTGGGGGGCCAATGGGGCCAAGAGTCAGGACGAGAGCAGGGGCTTCTGACACTAATGCCAATTCTTTCCTAGACCATGAGATAATCTCATCCTCTGCCATATCTAAGGCGTCTCAGAAAACCACACCAAACTTCATGGTGCCTGAAACCAGCGAGGAGACCGAGGGTAGGGCCATTTCAAATCACTACAGACTTGCTCCCGACCAAGCATTCTTAACCCAGCCCCTCGAGGCCCTTAGAGCGTTCCGAGGTGGGTTCAGACGGTTCCCCATAAACAGGGCCATAAACGTGTGTGCATGTGCATTCTGAGCAGGTAAAGGGCTGCGACTTCTAGTGGCTTCTCAGAGGGCACTGCAGTTCCCATCCTAAGAAAAGTTACATAAACTTCCGCTCTGTAATTTCAAGCAAGAATGGCACAGGTTCCACATACGCGGGCTCGCAGTTAGCTTCTCTTAGATTCTCCTAAGTGGCAAGACTTTCCCATGTGCCCTCCACCTCAAGCTAATTCAGTATGGAAAAATCTGGGTTTCCTTTAAAAAAAAAATGAAATATGGGCATGGATAAGAACCATGTTGCAAACAGTTTTTTAGCTTCACAAAAGGAAGATCAATACAAGTGACTGTGTGTGCAAAATTTACACTGATGTATGTGAAGGAGGGAGCCACGGGCCATGAGGAGGGAGGGAGACACAGCCGTGGGCTGTAAGAAAGGACACGCCACAATGGCTTGGGGACTAATATCCTTCTGTGTCCTTACAGGGAAGGCTGCCAGCCTGGGCATCACAAGAGAAAGAGAACTCCCAGACCTCCCTTTTTGCAATATCCCATGTAACTCTGAGCTCCATTAGCAAAACCAGAAGTTCCGCCAAAAGAGATGAGAAGCCTGGGTCCTCCCCACACCTGGCCCTGGTACGCAGCCAGGGGCTGCCTCAGTCAGTGGTGCCATGACACCTGGGGCAAGACAGCACAGTGTTCCTCCCCGGCATCAGGCTCCAAGGTGGGGAACATCTCAAAGCACTCTAGTTTTCCTTGGGAGTCACTCAGATAAACAGCCTTTTAAAAAACCCAAAAAACAAAATGCACATCTTGTTGACAAAGTCCAGCCTGCTACTTCCCCTTGGGAGGGATGTGATGACTATCCCATGAGAACCCACAAAAGAAAGACAAAGCCTAACTCCAGAGCGCCTGCGACATGCCCAGCACCATATCCCAAGGATGGGCCTCTCTGCCTGGAAACGTGGGAAACACTCGGCATGGGATCTTCTTTCCGAGATCCCTACAAGAGGATTTATAATGTGACAGTTCCCTATAACTCTTCTCATAAAAGAATACTGCAGGACGAATAAGTTAATGGTTAAAAGTTCTTTAAGTTCTTTGGACATGGGCATGAAGCAGGGTTGGAAGGTTAACGTAGAAGTGTTCACAGTCCCACAAACACAACACGACATTTACATCTCAGGGTAATTGTTTATGTGTCCCAGGAGGCTCTGCACCAGCCCTGATCCTGTTCACTCCTTCTCAGCTTCTAAGTGACTCTCCCAGACCAGTGTCATTTCTGCTTTGTTCCTCACGCAAAAGAGAAGGCTTTCTGCTCCCTTACGTCTCTTCGTTCCCTCCAAAAACACAAATTTTCTTGTACTTGTAAAGTTAAGGTTTAAGTCCCAAATCTAACACACCAACTCCTAGCTAATAAATTCAATTATATGTGAGTTGATAATTTCTAAGCACATAAAAATACAGAGAGAATGAAGAATTGTGGTCACGAAGAAGGAGTCAAAGAATAACTCTATGTAGGAGGCTACCGCTTTCTAACAAAACTGGCTTTTCTTTATAAGTACACACAGCTCAAGATAAATAGTCTGTCCGAGATGCTGATTTATACCGAAAACTTCTCAACCCCTAGGTCAACTATGTGCTCTCTGACCCCGTGCCATGATAGAGTTCACATGCCACAAAAGGAACTTTCTTGATAAGACTCTCCACCCAGCCCCTCCCCGAGCCTCCCGCCTCCCCGCTCACCTTTCAACATCTTCACGGCCACGGTGACCGCCTCCTTGGGCTTGTCTTTGTCAATTCCCACTGCTTCCGCCATGACCACTTGCCCAAAGCAACCTTCTCCCAGGGGCTTGCCCAGTGTCAGCCTAAATGTGTAAATAGGGGATTAGCACATAGCATCTGGTGATGGGGTGTAGTGAGGGAAATTCCAGAACTAAATATAAAAATCTTTCAGCGGCTTACTAAAGCATGGAGTGCTTATCATATGGAACTAATGAGACTTAGGGTACACACGCGCCTGAGTATTTTCCTAGTGACGTTTTAGAGAATGTCAATTACTGGTGGAACGGCTATTAAATTTCACATTGGTATTCTCGGTTTATTTTCTTTAGGGAAGGTATCCTTGCTAGTGCGGTGGTCAGCTTTCCTAAGTGCCAGAGAAGAGCTTTTGATCTTGAGCCAATTAAATATTTGTAATTTAGAATGGCTCAAAGAAAAAACGTTAAGACTGTTCTTATTTTTTTGTCCCTGTAAAATGGTGGCTTTAAAATTATTATTCAAATACCAATGGATTTTATGGTCACATTCCTTGCCAAGTTACAGGATATGCCTCTTAAAAGCATTTCAAGGAATCTCTAATTTTTTACTAAAAAGAAAATTCTAAAAAATTGGGGACTTTTTTTTTGACATAAGTTTAAAAGTCCTTATGACTACATAAAATTAACAATGAAGAAAATCCAAAGTGAACACCACAAATTAAATTTCTAAGATTACAAGGTCTATGCACATCGGACGAATAGCCATATATTGTCCTTGTGCATTCCAGAAACCAACAAAACGCAAAAGTCTTTGGAATACTTATGAATACGGCTCTTTCTAACTTAAGCATAACACAGCAAAGCATGGAGCTGCCATTAGTAAACAGTATTTAAGGTAAGTACACAATAGTTTGCAAAAGTGCAGCATAAAGACTAAGGGCAGCATGTGCTATGCTGAGGTCATTTTGTTTCTACCCAGAACGAAAATTAAATTTAACATCTTGGCAGAAAATAAATATTTGCATTGGAAAAATGGCTAATTTATGTCCCACCGCCTTGCTACTACAAGCATAACAATCCTTTCTTTGTATAACTTCTGCCTCCGATCTAATAAACTGCTTCTAAATAGCCTTCATTCATTGGAAATCTGTTCCACCTACGTTTGCGCTAAACACTGTTTTGAAATGTTTAGCACTCAGATTTTCCACACTCAGGGTACCCCGGGTGGGAGGTAACAGTTGGGCACATACAGACTTCCACTGTTGACTGTGGTGTCACAGGTGGCAAAAACTATGGACTAAACCCGAAAGCTGCAATTTCTTAAAATATGATCACAACTCCCCAGTTCAGTTATATATATAGGAATGTGCACATGAACCTATCTGTGTATATAATCACACACAAACTAGGGCTGGCGGAGTTCACAAGAAACATCCATTTCTCCACATCCTACAGGTAAAGAAACCATTCTTTGTGTTTTCTCTGGTGCCCCACCAGTAAATGTCCAATTAACATGCCTTGAGTGAATGAATAAGTGAATGAGTGAGTGGTCTTTTCACTACAGTATACAAATCAACTGGAAATTACTTCCATTAACACTCTAACCAAATAATATCCATACAATTATTCAGTCCTAGCTAACGGTACACATCTCTAAATTGGCACTTGGGAAACAAAACTGATGTGACATCACGTGAATCAAAATCAGAAGTGCCAGCCACATAAGCTACCTCTCCCTTCCAAATAGAGCTCATCAGATCAGTCTCTGGAAGAGCTTATCTTTGCATTTCCAAATGTGTATAGGTACACATGAGAAGTGTATATAATCTGAGGAGCTACTGAAAATGTCAAGGCAAACAGGGTAGCTGCTTATAAGCAAGTCAAGAGCTTATTCCAGTGTATGTGATGCAGAAGTAGTCAGCATTTCCACCTTCCCGTACTCTCAAGCTGTGACGACAAAAAGTACCCCAGAAGTGAGTGGACAGCCCTACAATGACCACTGCACTTCCTTTCATAAGGAGGATCTAGGGGTCGGTCCCTGCCTAGAGGACGAGGGCTAGGAGCTCAAATTCTGCCCACTGACTCCATGCCCCACACGATGATCCTGCTGAGGTTTGCAGTTCAGAGCTCCCAGGTTACCACCACGTGAAGGGAAATGAAAGGAAAACTCGCACAAGCCAAGAACTCTGCTCAGTCCTGGGAGGTCTGAACCACCACCCTCATTTTATGAGAATGAATTTCAGAGAATCAGGTGCCTCACCCGAGGTTGCCCAGCCACTGTCTGGCAAAGCCAGGATTCAAATGCAGCCCAACGGAGCTCCAGTACGTGGAGTTCAAGCGAGACCAAGAGATACGTAGCCCCAACACCACCCAGGTGGCCATATTTTGACTAAACATCTGATTGGCACACCTCTGTATCATCCAACAAGGAAAATATTATGGATCACAGAAATTAGATGTCAGGTACCATATTTGAAGCTTTTCAGCCCAATATGACATTAATAACCAATGAGAACAGCAACACTGGGTAGCGGTCCTTAAGGCCATTTATATTCTGCATCTAATTTCTCCACAGAAGTGAACAGAGAACAGTCTTGTTCTAGTAACCAAAAGCTAGAATGTCAGATCTGTTTTATAAATTGGATAATTCTACTTTTATTCCATTTGACGGAGTCTGAATTGCCCAGACACTTAAAAAATGATAACCAGATGCCATCTTCTTTGGGGACCAGCCAGGGGCAAGTAGCTCTGCTTTCAAGGAGTTATTTTTTTTTTTAAATCCATTTTTTTCTTTTCCAGGAGTTGGTTATTTAGAAATACAATCTTACTCCTGCTGACATCATCACACCAAGACCTTTGTGGCTAAGGGTCATAAAAAGAAAATGTTAATCCAATATCCCCATTTATAGCTGAGTCTCCATCCTGGGACATGGCCAAGAGAAGTACTCACTTATCTCTTGGAAACTCCCATTTTGGGTCCTCTGGAAGTTCATACTCGGAGACCCCTGCCAGCATGGGGGTGTCTGCCGTTGAAGAGAGGCGTGTTGTTATCCTCACCAGCGGGGTGTTGGAGTTCATGGAGGAGCTGGACTCAGCCGAAACCTGGATACAAAATGCAAAGACACAGATGTAATCCTGGCTCCATCTGAGAAGGCTGGAAGTCAGCCAGAGCCCAGCCAGAGTATCGAATCTTAGAAAGGAATGGGTTGGGGGCTGGCAGAAGTCAGAAACCAAATTAGAAAACCACTGGAATCTAACTCCTCTGCCCTCCAGTCCATGCAGTACCAGATTTCATCCAAATTTTATGTTCCTATGTTCAGGTTTTTCTATGAAATTTTTCTATACCATCTGATCACAATGTAAATTTTCTTTCTGTCCTAATTCCTCCAGAGAGTCACTTGAGGACATGCAGACAGTCCTCTCTGGCTTCATTAGTGCCTTTATGGTTGTACCTGCACCTGTACTGGAGCCCTGGATAATGGATCCCCTCTCAGACCACCCGGATCATGGATCAATGCTGTGCTTATGAAATTCTACGAAAACTTTTAGGAAATTGGCTCTACCATATTTCCTCTGTCTTTGGAAATGTAAAGTGGAATATCTCAAGGAAAGAGTTCTAGGACTTGAATGTGGAAGACATTCAGTAGCTCCGAGTCCCTTTAACTCAAAATAACCCCAGACCCCAGCATTGGGGGCCATTCTTTGTTTCTCCCCAGTCCTTCTGGAAACTTATTGATGGCCAGGCTATTCAGTGGAAATGGGCTGCCTCTTGTCTTCGGTTTCAGAAACCAGTGCACTAAACACGTGGGATGAAGCATCAATGGAAAGAAAATACACCTTTTCCCATAACCACACAAGAGAACTCCTCTCCCACCTGGCAGTACACAGGGCTCCACCGAGTTACTTTCTTGTTTATCCTGATCCATTTCAGTGTGTCTGATAAAATGATTATTTCTTAAATATATCACTGTCCTTTGGCTGGTTTCTATGGAAAAAAAAAGACTCACACAGAGCACACTGGAAGGCCACTTTTGAGGATGACTACGCAATCTTAGTCTGACCACAGGCTGCTTGAACACTGTCTTATTCTAAACCATGAACAAGACTTTGGCCCAAGAGAACAAGAATGTGAAGTTAACCACGATCCATCTCCAAGCAGGCAACTAGCCCACCCTGGGCTCTGTCTCCTGCGTGACTGCCCAGGTGGATAGTACTCCTGGATGTGCTTACAAACGCCTTCAATCACACTGGCAAAGACTGAGTCCAGATGAACAAATTTAGGTGGGATGAACTTTCACAGGGTGGGTCCTGGGCTCTTCTCACAGGGAACCAGAGGACCTGTCCTGTTTGAAAAGCTTTGAATCTCGCCTTTGTAAACCCAGACTTCCCTCAAAGCAGGCTGGAAATTCAAGAAGATGCCCAAGAATAGATTAGGGGAAGAAAATCATTTTAGGATTAGGAAGTTGTTTTCAGTATTAAAATAAAGAAGTGGGCCATTTTTCACATAGAATTCCTATTATCTTTTAAAACGTACATGAGCACTTCCTGAGCCTTCCATTCAATCTTTTGGCAGGGGGCAGTTATTCCTAAACTTCATTATGCAGATAGTATGAGCAACATTTATTCATTGTATGGTCAAAATGTTTTAAAAGCGGGAACTAAAGAATCATTAATTGTGGAGCTGAGATCCTCACACCCAAGTGTCTGGGTTGCACAAGCAAATGGCAGAAGCAAGCGGGAAAAGACGAGAAGGTAAATGTGGGTGCTCCTGGGGAATCCGTCCTGCTCCCCACTGAGGTCACAGACTAGGCATAAGCCCCACCCTGGATGAAACAGACAACTTTAAAGTCCCCGCCATGTGGTATCCAACCTCACTGTAGTGAGCTAACCTCGTCTGCGGGACACATCAGAAGCCAGGAACTTTCAGAGAACATCAAGACTTCCAGTTTGCATTGGTCCACAGGAACATCTCAAGCTCCACCTACAGAGCTCAGAAAGATTCAGGAGCGGGTTTAACGGCCAATGATGCTTCCCCAAATCTTTCTGTCCTCCTAATTCATTCTGCATCAGGGCCGTGTGCTGTGGATGCTTAAGTACGCAGGTGTTTTCAAGACTAAGAAGGTCTTCTGAAAGTTCTTCCCCATGAACAGGCAAAAATCACCACTCATTGCAGGGGGACCTTATGCTTGAGGATATCATGGGCAAGAAGCTCCAGCCAAACTAGTAAGAACCGGCCGGCCAGGCGCGGTGGCTCACGCCGTAATCTCAGCACTTTGGGAGGAGGAAGTGGGCAGATCACTTGAGGTCAGGAGTTTGAGACCAGCCTGGCCAACATGGTGAAACCCTATCTCTACTAAAAATAAAAAAAATGAGTCGGTTGTGGTGGTAGGCGCCTGTAATCCCAGCTACTTGGGAGGCTGAGGCAGGAGAATCGCTTAAACCCAGGAGGCAGAGGTTGCAGTGAGCTGAGATTGCACCACAGCACTCCAGCCTGGGCAACAGAGCAAGACTCCGTCTCAAAAAAAAAAAAAAAAAAAGAGGCCTAGCAATGGGACGACTTCCGCAAATGGCCAGGGTCTGGCAGGTTGTACAGCCAGAACACTCTCTGCATGGCCTGCAGCGTAGCCCCTCATCACTGGATACCAGTTTCCAGGATTCCACTATGGGGTGCATAGGAAGCTGCAATCAATAGAGGAGTGGGAACCGATTAAGCAATTGCTTGGGACCGCAGTCCTGGATGACGTTAACACCCAGCAGAGGCAGAGGCATGGCTGGGCTTCTGTGCCTCCTCCCTGAAAATCACCGCTCTCATCAGCGAGGCTCACAGAATAGGATGTGGGGAAGGCAGCTGTCCCACAGCGAGGTGTGAGAACAAGGGCACTTAAACGTTTCTGGAAGGATATATAAGAGACTTAGCAGTGATCACCTGTGGGCAGAGAGATTAGGAGTTGAGAGAGGGGGTAGAAAATACATTTTATTTCAGAACTTTCTAGACCATTTGGATTTTATGACCATGTGTATGTAATTCTTTTATGTTCTAGAAGAAGTACTTTATTTAACAAAAATATTTTTTAGAATAATAAGGATCTGAGCTGAGGCATGAACAACGGAAAAGAAAACGAAGGGCATATGCTTGAAATATGCTGACTTCTAAAATGAGTGAAAACTTACAAGATCACTGCTTTCGGCCCTTCCTTCTGCTACCAGGCTAGGTTTTGTGGCATCTCTGCATCCTTCGATGTGGGCAACAGCCAATCCCGTTGCTGCCCTTCCTGTGCTCATCATTCACAACATGAGGCCCCGCATTAGGCAGGCTGCATCCTGACCAACTGCAATAACATGGGACTGTGCGGTCAGATTGTCAGGGTCCCTGTCCCAGTTTGAGCACTCACTCACTGTGTGAGCTTTGGGAAATCACTTAACCTTTCTAGACCTGGGTTTCCTCATCTGTTAAAAACAAGACAGGGGCCAGGCAGAGTGGCTCACACCTGTAATCCTAGCACTTTGGGAAGCCAAGGTGGGCAGATCTTCTGAGGTCAGGAGTTCGAGACCAGCCTGACCAACATGGTGAAACCCTGTCTCTACTAAAGATAGAAAAGTTAGCCGGGCATGGTGGTGAGTGCCTGTAACCCCAGCTACTGGGGAGGCTGAGGCAGGAGAATTGCTTGAACCTGGGAGGCAGAGGTTGCGGTGAGCCGAGATGGTGCCACTGCACTGCAGTCTGGGCGACAGAGCAAGACTCCATCTCAAAAAAGAAAAGAGGAGACAGGAACAGGTCCAACTGCACAGCATTAATGTGATGATAAAATGAGGGAAAAAAAAACTGATGAAGTGCTTAGTGCTAGGCCTGGCACTAAGAGCTCAGTTAATGTCTGCTACCAACACTGCAATATTTTCTCTTAGTCCCTTTAGAATCATTTGCTGCCCAGATCTGAGAGAACAGACAAAGACACTTCTCTCTGGGTAACTTGGAGCGTTTGGAGCCTAGGGTGGTTCTGTGTGTAAGATACAGTCAGTCCTCCATATCTGTGGGTTCCGCATTCATGGTTTCAACCAATCACAGATCAAAAATATTTGAAAGCTAATTAATAAAAAATAACAATACAACAATTTTAAAATACAAATAAAAAACAATACAGTATAACAACTATTTACATAGCATTTACAACGCGTTAGTTATTACAGGTATCACTAGAAATGACTAAGTATATGAGAGGATGTACACAGTTCATATGCAAATACTACACCATTTTAAATAAAGGTCTTGGGCATCCACAGATTTTGGTATATTCGGGGTTGTTAGAACCAATCCCCAACGCATACCAAGCGACGATTGTACTGTCAAACTGTGTGCAACCAGGAAGATAACCCAGTGACATTAAAGGCTGACTGCAGAAGATATGCCTTAGTGGGCATGTCTGATTTGCTAGATGAGGCCCTCTGCTCACTGCCAAGGATGGGCTGGGGTTCTAGTAAGCAGGAGATGAAGAATCCAGGAGTCAGGGAATCATCTCAGGGCAGGAGGAAAACTGGACAGTAAGAGGGTCCTAATGACAAATATGGCTTAGGGGTTACCTCAGAAGAGAAAAATTTAACATTCAGTCTGAAGTTCACCCCTCTATGGCTCACCCATGACCCCAAAGGAATCTGCATCCACAAACCCCTGGCAAAAGTTCACATGTATCTACACCATCCCCCAAACAGACTGTCTCGAGAAGATTTTCATGTGACAGCTTTTCAAATGGAAAGCCTAAAAATAAATAAATAAGAAAGCCTTTATCAACTTTATTGTCATTATTATTAGAATTTTAAAAATGAGGTCTACAAGAAGGATGACTTACGGGAATTTTGTTCAGATGAAGTACGGAGATTCAGATTAAATGTACAAACCTGGAAAATACTTTTATAAGAACACGAAACGGGGGAAAAGGGTAAGAAAACGTGCAAAGTCTAAGAAACTATAGAATTTGATTGCTCTGTCTACTGAGGTATATCTTAATTTTACCTCCATGCATTTTTACTATGCTTTTAAAATCCCCTCTGGGGCTATAAAATACGGCTGGCTTTCTCTTCATTCCCTTCCACTCCAAGAGCGAGCCTGTGTTGGGGGCTTGGCCCGGTCCTGGGCAGGCCATTCCCCTGTGGGACTCCATGTTTTACTGGGCATCTTTCCTCTGAATCAGGAACCTCAAATAACTCCCACTGCTCATCTCTGAAATCCTTCTACTTCTTTAGCACTATTAAATTCTCTTTTCTTTTGCACAAAATCATAATCTTCCTTATTCTTCAATTCCTACCTAGAAACTTCAATTCCAGAGTTTCATTCCTAACCAATTTTAACATATTCTCTTGTTAGTGATAAGTGAGTTACTTATAAACAATCAACACGAACACTCTAGTAAACTGTTTTCCCACTCCCGAATCTTGGCAGGCATTTTTTTTTAAGCATGTATTTTCACAGACTCCAATTCCATTTCCTCACTTTCCGGAATCTCTCCAGCATGTGCCATAAGTCAAGCTTTTAAGTAAATGTGCTTTTCGTACATTTCCATAGTACATATGGGAGATTAAGTGAGGAAGTGTTTTTTTTTTTTCCTTTCTTTTTAAAGGGCCACCAAGAAACAGTGTTATCTGTTTCTTTTCTTTTTTTTTTTTTTTTTTTTTTTTTTTGGTTTGAGACAGAGTTTCACTCTCATTATCCAGGCACGATCTTGGCTCACTGCAACCCCCGCCTACCGGGTTCAAGTGATTCTCCTGCCTCAGCCTCCCAAGTAGCTGGGATTACAGGCATGTACCACCACGCCCAGCTAATTTTGTATTTTTAGTAGACACATGGTTTCATCACGCTGGTCAGGCTGGTCTCGAACTCCTGACCTCAGGTGATCCACCTACGTCGGCCTCCCAAAGTGCTGGGATTACAGGTGTGGGCCACTGCGCCCGGTCTAACAGTGTTATCTCTTTATACTGAATTAAATTTACCATCTAGAGGGGATTTCTCAGAGAACAGAGCAAGCAGAAGCAAAGATGTTCCAGGGAGAAGAGACGAATTAATATTTGTGTGTTTACTCCCCAGGACTGACAAACACACTTGGACCACAGCCTGCCAAACAGGCCCTGTGACTCTTAGGCTGCAAACCACCTTCCCCCACAAGAACACGAGGCTGGCATTAACATACTTCTGCTCTAATATAAGCCTTGCCCACCACTCCCCTATGGCCAAACAAAATGCTTTCACCACCGCAAGCTGGGTGCCTGAGATAAACCTTCAAAGGCTTCTGAAGTTGCATTTTTAATTCCTCCATAACAAAATTTAGGTAATTAGGCAAGGCAGTTCATCAGACACTCACTTTTCTCCCATAGCGAGTCTCTGCCTCCCGCAGGCCTTTCCCTGGGACTCTGTGAGTAAACCTATCAGAGCCATGACGCACCAGCCCCAGATGCGCTGGCTCTGCTCGAGAGATCGCATCAGCCAAGGTCCAGGTCAGATCTTGGGCAAACTGTCATGTCCTTTGGAGGCTGAGAGAGGAGAAAAGGGAGCAGCGAAATAGGGGCAGGGAGGATGAGGTGCCCACATGAAAGGGCAGATTCCAGTTAAGTCATCCGTGACCACTCTAATTACCCAAATGTTTTCTGGAGCCGGTAAGGTTTAGACCACCTGATTGACCAAAATACAGAGAATATTCCCAGATCATGATGTTCAGCTGCCAGGCAGTAAACGAGCTTCTGGGAGTAGAACATCCATCCCCCTTCCCGGAATTTGGCATATGTTTGAGGATCACTAACACTGGACCTGAGAACTGGCTACTGAGTCACACATTCCTCCCCCGAGGCACCCGCTCCGCTCCTCCCCCTTCATCTTGGTCCTATTCCTAACGTCCCCAGGAATATGCCATTTGCCTCAAAAGTATTGCTACAAAAGGTAGCCTTCACTGCCCTTGATTTATTTTATTTTATTTTATTTTATTTTATTTTATTTGTGTGAGACGGAGTATCACTCTGTCACCAAGGCTGGAGTGCAGTGGCGCGATCTCAGCTCACTGCAACCTCTACCTCCTGGGTTCTAGTGATTCTCCTGCCTTAGTTTCCCAAGTAGCTGAGACTACAGGCATGCATCACCACACCCAGCTAATTTTTGTATTTTTTAGTGGAGATGGGGTTTCACTATATGTTGGCCAGGCTGGTCTAGAACTCCTGACTGCAGGTGATCTGCCTGTCTTGGTCTCCCAAAGTGCTGGGATTACAGGCATGAGCCACGGCACCCAGTCTGCTCTTGATTTTTCTCTGGTTTTCAGCCTACCTATATCAGCAGCTGAGAAGGTGAAACTAAAGTCTGAAAAAAACAAAAAAAAAACCACCCTGCAGCCTCTTGTACCATGCTGACGGCAGTGAGAGAGGGTGTAAGCTGCACAGGAGATGAATTTATCTGGACGGAGCCAACCATAAGACAGTTAAATCTCCATCCTACCCTATGGAAGCTTCAAGCCCCAGAGAAAGAAACTGATGTGCTCGATGTAAAACTGATTCAGCAAACCCAGCAACACCGCACGTCTCCTAAACAGGCATCCTCAGTTTCCTCTGCACTCCATCCTCCACCCACCCCTACACCTTCCCCCACCACCCAATTGATGTGTGGAAAACACAGAAAGTAATGCTGCCCCCTTTAACTCACAAAGGCTGCTTCACACTGGTCACTGGCTGTCCAGCATACCTGTACCAGAACCAACACGCTCACAAAGATGCCCCTCTCTGGGCTGGCTGTTGTTGGTCTCATTTAACTCGCTGGGCACCAAAGGAGTGGGAGTGGGTGAGCAGTGTCTGGCACGGTGCCCAAGCCCTGACACTGAATGTGACATGAGCCTCCATCAAAGGACACAGGGAGATGCCACCTGCCATCTGCCTCCCACCACCCAAAAGTTGCTTCTCCTTCTTCAACCATGTGCATACAAAGTCTCAAAAAATTCACGCTTACTAGGAAATGATTGCAAGGAATTTCTTCTTTGGTACTGGAAAAAAATATTTTTGCTCAAAAAAATAACATAAACTGAAACGTCTGTGTTACACCAGTAAGTCTAGTGCAAATTAATAAATGCCAAGAAGGAAAAACTCACAGGAGGAACGAAAACCCAACTTTTCTTGTCCTGAAAAGAGAACAAGGATGGACTGAGGGACCTGAGTGAGACGCTGTGTGTGTATGGGTGTTGGAGAGGGAAAGAGTCAGGGCCATGGAGACACTGAGTGATCCCTGTGTCCTAGAGGAGACTGGCCAACACAGAATAAAAAGTGGCCTCATAAATGCCTAGAAACAACCCATCCTTGACACATCTGATTAGAGGCTCAGGTAAAGGCATGCTTGGCATCCCTGTGGTATTTGCTCTGTCATCAACGTATCTGCAGGCCTTTCTGGGGCTTTTCATTCCAGCTCCAGTCCAATAACCCTCTTTTATCCAGATACCCGATAAGCATCTCTTTCTCTACCAAAGGGGCCATGCGTACTGATGAAACATTCTTTGTGAAGATCCAATAATGTACCCCACTTGGACATGTAGAAGGAGCTGAGGTGTGTCAACATTCCCCCCAAATAAATTAATCTCGCAGAGATGTACTTTTCCAGGGAACTGGTATTTGCCCCCTTTCCTCTGCTTCTGTTATACTCCTCGGCCCTACTGAACACAAGCCAATTACATTTTCTTTTTTTTCCCACTTTGGGTTTTTGTTTTGTTTTGTTTTGTTTTGTTTTTTGAGTTGGAGTCTCGCTGTGTTGGTCAGGCTGGTCTTGAACTCCTGGGTTCAAAGGATCCTCCCGCTTCAGCCTCCTGTGGAGCTAGGATTACAGGCATTTACCATCAAATAACCTTGGAACCACTGGTGAATGTGACAGGCTGTGTCTTACATGTAACCTGATTTATACCCCGCACTTAGTAAATTATGATGAATAAATAAAGGAAGGAGGGAAGAAAAAGAGGAAGGAACTCTGATGTTCCCTCTGGTAACACAGGGAAGAGAGGAAAAAGGACCAACTTAGGCTGAATTCTCTCTCTTTTTTTTTAAAGACGGAGTTTTACTCTTGTTGCCCAGGCTGGAGCGCAATGGTGTGATCTTGGCTCATTGCAACCTCCACCTCCCAGGTTCAAGTGATTCTCCTGCCTCAGCCTCCCAAGCAGCTGGGACTACAGGCATGCACCACCACACCCAGCTAATTTTTGTACTTTTAGTAGAGACGAGGTTTCAACATGTTAGTCAGGCTGGATGGTCTCGAACTCCTGACCTCGGGTGATCCACGCGCCTCAGCCTCCCAAAGTGCTGGGATTACAGGCGTGAGCCACCACGCCCGGCCAGGCTGAATTCTCTTAAAGAAAAAATATAAATGGTATTGCATGTGAGTATACATATAATTACTTAATTTAGAACATTCTTATGTCAACTTCCAATGTCTGCCCTCTTCTTAGTCCTCAAGGATCCATCCACAAGCAGTATATTTCCAAATACTATTTTTCTCAAACTGTATTCTTAGATGGACAGTGAAGAAAAGCCAGCTGGCACTGGGGAAAGAAAACACGATGACTGTGGCTGAGTCAGGGGGATTTTAAGGGCATCTTACCCTTCTATATTAAGTAAAAAGAAAAGCATTTTAACAGTTGCAGAAAAAAAGATGATGAGATAATTAAGGGGCAGTGGCCTAGCTATGCCAAATTACAAGTTGCCTCCAGAAGTTACCATTTTTCCCTATTAGAAAAAAAATAATAGAAACCATGTAAGAGTTATCTCAGGACTGGACTCTTCTAGAAACTGGTTGGCCAACTGGCCTCATCTTTGCTTTCCTGGCCCCAAGAAAGATAATCATGTCACTCAAAATGACAACAGCATTCTTGGTGGCAGACGTGACCCAACAGGCCCCTCTTTTCCATGCTGTTAACACAATTTGGTCATTCGCCTACGCTTGACACACACTTTAAATTCTATCCTCCGTCTCCACAAAGAAAGACCTGCTTGAAACATGGCTTTAGAGAAGTTAACAAGGACCCATTCAGCCAGGAGTTTGAAGCTGGGTTGTGAACAACCAGACCCATTCCAAAACCACTGCTGACCAACTGGTTCCTAATCCTTCCTAATGCCTTGTCCAGAAAATGTCATTCCTACCTGAAGTCCCGGGAGAGGCATGCCTGGAATTAACCTGGAGTTTCTCAAAGTGCATTCTAAAATCACCATAGGGCTTGTGTAAAATGCAGATTCCTGGCCCTATCCAAGATGACTGAACAAGAATCTCTGGGGCTGAGACAAAGGAATCTGAAATTTTAACAAGCACCCCGTACATTTTACTAAAATACACACTGAAATAGAGCCAATGAGTTTGCTGTTTTACTTGCTATTTCAAAAGAAACCTTTATCAGAACCAAGTTTCAAATGCTTTTGTAAACGTTCTGCATCTACATCTGCCTTCCGCTTCCATCTCTGTGAATAAGCAGAAAAGAGCTGAGGCATTTCCTGTCCCACCTACCTATGCAGGGCTTTGGTTTACACCAGAGGCTCCATCTTGCCCCATCTCCCCCAAAGCAAAATTAAACCAATCAGGAGGCACACACAAGCAAAAAGCAACCACCAAAGACCAAGTTGGTGGTTAAAAACAATCTGTTGCTGGTTCCATACAAATATTCTACTAATAAATCCACAGCCACACCTGTGAACTACTAACAATGAGACATAATAGATGCATACAATTCTATTGTAAATTGCAAAGAGGTTAAGCCAAAATTCTGTGTAGAAAGTTATTGTGCAACAGTTTAAATCAAACAGTTCAGATGCACCCCCAGGGCATAAGATACTGATCTTGACTTTAAAAAATAAGTCAGAGAACTTAGAGTCTCTTTCGTACTAGTGGCATAAGTCCCAAGCGAATGTTCATGCTTATCTTAAAAAAGGTATTAGATCACAGGACACGAATGTGGCTAAAGCTTCGAAGAGACCGCTGTACTTGAGTCTGATCAAACACACACAGGGGGATTTGCCTCCAGTTATTTCCAGTCCTGCTGATTAGTTTTCTGATTCTGACAGTATTGTCCTTTCTTGCCCTTGGAACTGGACCCCATTGATCCAAGCAACGCACCATGACTAGACTCTCCAAGCTCCAAACACTAACTGGGTGACCGCCAAGCATCACACCAGAATCACTCGCACATGGAAGCTCACAGAAGTCGATGGCATCAAAGCAGAGGACAAGATCCACAAGCTGGCTGGGTCATGGGGGAGGAGTAAATTTCTTTAAACTCTTTATCTACTTTCTGTTACCTGTCTCCGCAGGGGGATACGTTTGGTCAGCTTGTGCACAGCCGGCTGGCTGCTGAAGTCTGGCTTCTTGGTCGTGTTCTTCATTCGGCACAGGATGACTGTTACCACCATACAGGCGATTAAGAAGACCCCTATGCAGTAAATGGCTATCTCCAGGTAGTCTGGGGAAGCTGTAATCTCCTTTTCTCTTCCAGGCGCTAGATTGCAGATCACAGGAGGAGGAACAGATAAGCAGGCCATAGAGTTAGCACACCAGACTGACGCATCATAGCACAACCAAAGGAACCAAAAGGCGACGACCATTCTCAAGGCAAGGTGGGCTTCCCAAAAACTCCCAAATGAAAATGAATAACCAGGGGTCCATCATTTGACCACCAGGACCCAGGTAGTCACTGTCACTAGCCTCAGTGGGCACCTGCAATCCAGTGAGTGGTTGACACCCAGTTGCACAGGGCAGGCTATGAGGCCACATTTTGTTAGACATTTCAGTGGAGGACGACCAACTGTACCCACAATGAAAGGATTATCTTTCATGATCGTCTGTGAATGCAAACCAAATAAAAAATTCTGAAATATCAACGATGCCCACTTTTGTTTCTAAGGAGACAGTGACAATGCTTCAGTCTTACATGGGTAGGCTCTTCCAAAGGAAGACTCCACAGGATAATTTAACCCGGATGAACACAATTCCATATGAAACTGATGTTCATCTAGTAGGCTGGTCTGAAAAAGTTTTGGTGAATTCCTTAATACCATCTAGTCCATAAACAAACCAATGCATTAAATACACAGATTGAATTGCTTATAATATAGAACCATTAGATCCATAATACATAAAGATTATAATATTCTTTAATAACCTTTTAAGTTTATACATATCCGGTTATATTGTTATGTCACTACAGCTTTTCTCTTAAAGAAAAAACATAAAGGTATTATGTGTGAGTATACATATAATTACTTAATTTAGCACATTTTTATATCAACTTCCAATGTCTGACTTCTTCTTAGTCCTCGATGATCCATCTACAAGCAGTGTATTTCCAAATAGTGTTTTTCTCAAACTGCATTCTTAGTTAAGTGCTAGCACTGTCAGGCAAACTGGTTAAGAAGTGCCAGTTAGGCACCACAGAATGCAGTACTGCAAATAAAAGCAAGCTTCAACATAAGAGACATCTCTTTGTTTCAAAGCAAATATTCACAGAGCAGATTCGCAACAAAAGGAAAAACGGATGCAATGGTATTATTGAAAGCTTATACATTTTAATCAGAAAAATACTTGCAAGATAGTCAAAACTCTCAGCAGCAACAGCACAAAAATGAAACGATCTATTTTATTTTTACTAGATGTAAAATAAGCATGCAGGTAAGCACTGTACTCTAAAAACAAGGAATTAATAACTGGAGTGGAACATCATAAGCTAGCAAACCACAGTCTCTGCAGTTTCACAAAGGAAATGACAAAGAGGCAGATGCATCAGAGAGGACAGTGTTTAATTTCAAGAAAGTTTCACTAGAATAGAGATGTCGGTTAAAGATTCAGACAGCAGCAATGTTTAGGCAACAGGGCTGCAATGATGTTTATTTCTCTGTGAGGCAGAAATAACATCAAGCCCAAGATGGCAGGAGCATGCTTTGCAATGAAAGCAAACCGAAAGTCCATCCTATCGCAACATGCAGCAAGCCACCGATCCCCAAGGTAGGCAACACACTGCTTCTGTGCATCTGACATTCAGAGGTGCCGCTCCCCAGGCTCCTCCATACACATCCCTCTATTTACATCTCGTTAAAAATACAAAGTGGGATGAAAGCAATAAAAACACATACAGGATTTTAGCAAAATGGAATTTGAAATGAGAATAAATTACTTTGAATTTTACCAAAGTAATGGCAACTTGTTCCTTAAGAGAAAGGGGGATGGGCTAATTTATACATTGGCTCAATGACTCACTAAAAATATGAGATCCCTTCAGGTTTTAAGGGTGAAATTTCCCTTGATCATAAATGTGAGTGTGGGATCTCACTGTGTGTGAATTTCCAAGGCAGTTTTCTTATCCCTGAGGGATCATTTTTAACATTTTTTATATCTTTATGCAAGGATAAAAGGGGCCATTTCTGATAACAGAAGCTGTGTTAATTTTATAGCAGTCAACCAAGAAAAGGGAAAAAAACCCAGAGAGAAAGAACAGTATATACCTGGCAGAACTGTCAACCATGCAGAGTGAAAGGATATCCCAATAGAATTACCCGCCAAGCACGTATATTCCCCAGCGTCCTCAAAAGTTACATTCCGAATATAGAGAACCTCAATCTCTTTGTCCGTGGTGTTAACACCGGCGGCCTAGAAAACAAGGGAAGCAAAAGAAAAGGCTAGACGACACAGGAATGATTGTGGAGGGGGCTGTGGAACCACAAGGCGTCGCACCGGGGGCTTCAGGGGGTGCTGGCCACTGGGAGATTCCGACTGCAGCCCATCCACAAAGCCCACAACCGAGAGACACGGAGCAACACTGACCAGCTCACCTCCACAGGCCCGTCACCACACCGGCTTCACCTCCTACACATGCACGCAATCAAACGCATGGAAAAAATCAACCCACAGAGGTCCGTTCTCTTGGCCTGTGCTTTGGTTTGCATTTAGGGGTGGTTTTCCAAAAGTATGGTGCCCAGAAGGCCAAGCTGGTTCTGGTCCTGTTGGCTGCAGACTCCCACCAAGAGGAAAGGGTAGTTCTATCTAAATTGCTGTGTTTTAAGACAACACACTGCACATAAGCCCAGATGGACACCTCACCCATCCTCCTGGCCCTGTGGGAACCAATTGGGGTGGAAGGTTGTCTTGGTTACCAGGCTCTGGTTATTTTTACTTCTGCGATACCATCTTGCCCTACATAGCATTGACAAAAAGAAATGGAAGCAAGCATCATCTTGGTAACCAAAAAAACTGGGCTTTTTCTCTTTTCATTAATAAACATTTGGATGTGAGTCATGACAAACCTAAAAAGTCAACCTTTTGCCTTTAGTAGCGTCCAGTAGTACATTCATTAAGATGAGCTCCCCTCAAATTTGGTGCAACAAGGTCAAGAACAGCAACTCATAAGGATCAACCATGCAACCAAAGAAATGATGCTTTGTTGAACAAATTGCATCTTGCCAATATTTCCCTAAAAACTTGAAGTAGAAGGAGACAAACTCTGCTGATACTCAAATGCCCCGTATTAAACAGGCATGGAAGCGTGTGTTTTAAATGGTGTTAATGTGCAGTAATGATGGGAAATGTGCAGCCTAAACAAGATCAACCAGAAGGAACAACTTAAAAACTGGGTGGGGGTGGAGGCTAATCTCTAGAAGAAATTGGAGCAAGCACTTTGAACGTTGTGGGCATTTTTCCATGGCTACTGGCATCATACCAGCTGCATCACCGAAGAAAGATTATTATAAATATACCAAGGCCACAAGAGTTATCCTATAAGCTGCCTGCAGTCTCCCAAAGCACCAAGTCTTTTCAGCTTCTATATCCAGCTTTCTTTTTAAAAAAAGACAAAAATGAAAGCATTGTTACCTTGCTGTTTTGGCAGGACAGTGAGCCAGGCAGACTGGTTGGCCTGCCCTATATAATTGGAGACCTTACATATATATTCCCCAGCATCCGCCTCGGTCACATTGAACAGAGCCAGCACTTCTGCATTGGAACTATTTATCCCCGAGTGCTAGAACAGACACAGGAGAACAATATAACGGCCAACCAGGAAGGTCTTAGCATTGTCTATGGTCCCACCACCAACACACCGCAAGAAAACAAACTCCATTACGTCTAAACAGCGGCATTAAAGGGCTGCGGATTTTAAAGAACAAAATCAGTCCAGTGGTGGACAACGGAAAGACCTGGTGGAGAGAAGGGCAGGAGGGTGTGAGCGATAGCTAACTGGATAGGTCGGGTGGGTCCCCAGGTTGGTCATCTTTTCCCAATGCCTTTGATCCTTGGAATTATTAGCTGGTGAGAACACTTCATTGGCTGAAAGTTCTTAGCTGGGTCACCTATGGTTCTACTGGAAGAATGTTCTTCTTAAGGACATTCATTCTCCATGAGCAACTAGACATGGGAGGCGTGGTAGGCAAGGAGTTAAGAGCCAGCTGTACAGACTTAGCTGCCCCTGTCCTCAGTCTCCTGAAGAGCAAACCTAGATCTAAAAAAGAGGCAGATGCTATGAAAATGGGGGCTTGCAAATAAGAAATAAGGAGGGAAAGATATTTTCCTTGTTCAACATTTCACTGGTGCAGAAATATGACCTAGAGTTTATTGTCTAAATCACCTCTGAATGGATTTCAAAGGTCAGGGTTTTGTTTTGTTTTGTTTTTGTTAAAAAAAAAATCCAAATTGTTTCTAAAACGTGGCTACTAAAATTGGATCCTAATGTCCTATTAATAGAAAACAACATCAGAGTAACAATCAACACTGGCACAATGCCTTGAGCCTACAAAGCTCTTTCCATCCACTCCATCCCATTTATTCTGCACAACCGCCCTATGGGGGACAGAGTATCACGATCTCTACTTTTATAGAGGCGCAGCTAAGCCTAAATGTCTGCGATCTCAGGGCTGATAAATAGCTGAACTATTCTCTCTCCAAGTTTAGTAGTTCTTCCCCAAGTTTAGTAGTTCTTCCCCTACTCCATAGTTCCCTTCTGAAATTCTACTAGCAAGTGTAATGATCTGTTAATTCCTTAGAACACTCTCTGCTGGCTAGTCAAAAAAGAGAATCATCCTCTCTCAACTCCAACAGGAAATCAAAGAACCTGTGGCCAAACCCATGAAGGAGACCCCAGTTGTGGGTACCTTTAGATTCAGAAAGTCCTCACCTTGAGAACCTTGAGGTAGGGCAGCCCGTCGGGCCCGTATTTACTGCCGTTCTTTTCCACGTGCTTGATCCACTGGATGTGGGGCTGGGCATCACTGTAAACCTTGCAGACAAACTCTACGTCTCCTCCGACCACTGTGGAGGCATTTGCCGGCAGTCCGGCTTGGAGGATGGGCCGGTGAGGCGATCGCTCTGGTGGAGAGAGGGAAGAAAGGAGGAGTGGGGATGGGAGAATGAGAGACCAATAAATAAGCTGTGTTGTCCAGAGGGCTGTCAGTGACCTCATGCCAGAAAAGCCTCAAGCCTGCTGGCTGACACCTTTGAAATAACACTGTGGCCCCATGAATAACAGAAACGACTTCAAAGGAGACTGCCGGAGCGCGACCCTTGTAAAAAGAACACTTACTTAGAAAATTGAGAAAAGAACTTATTACATCCCAGGTTATTGGCTGTCCACTGCCACCTGATGAATACGGGAAGAAATTCTACTCTGACAATCTAAGTGACAAATGGTAGGGGAGGGAAGCTTCTTCACTTATCCTATTTGAGATAATCTCAAAAACTCACCTCAACCACAAGCTTAACATCACAGGCAAATGACAAGACTAACTTTAAAGACACTCTGAATACCAAAAATGGTTTCAATAGGCACATGTCTCCCAATACATTTTTTTTTCTTTTCTCAGACGGGGTCTCACTTCATTGCCCAGGCTGGAGTGCAGTGGCATGATCACGGCTCACTGCAGCCTCAGCCTCCCAGGCTCAGGTGATTCTCCAACCTCAGCCTCCTGAGTAGCTGGGACTACAGGCAACCGCCACCACGCCCAGCTGACTTTCAAATGTTTTATAGAAAGAGGATTTCATCATGTTGCCTGGGCTGGTCTCAAACTCCTATGCTCAAGCGATCCACCTGCCTTGGCCTCCCAAATTGCTGGGATTACAGACGTGAGCCACCACGCTCGGCTCCAGTACATTTCTAAGATGCTCTGAGAAGACTTCCAACCTTTGTTTTAAAAATTAAACTAAAGCCTAAAGCCCAAAGTTATGAACAGATTTGATTAATAATGGGATTCACCTCTTTATTGTGGAATTCACTCCATTCATTCATTCTTTATTCACCCATTTAGCTCTTTGATGAATATCAGGTGTTACTCTATGCCAGTTACTAAATGCACAAGTAGATGTTTCTTAGCTTATTCCAATATGGCACTGAATGAAACATAAGGAGATGCTGGTTTCCAACTCCTGGCTATGTTTTAGACTGCCCTATAAAAGGGCAGAGATGGTATCCCAAAATTACTTCCTAGCTTCACTTGTCTTGCCTCTCTCTCCTTCGAGAACACGTTCTCAACAAAGAATACACCCTCTCATCTTATGCCTGGAAAGGCTTCTCTCCAGCTAAGAGGCGGTCTCTGCAAAACTTTTGTGGAGACAATCAAGCCAAGGTGTGCTAGCAACCACACATGAGACTCCTCAAGTGTTAAGTAATACCCATGGAAAAATGGGCTAAGGACTTAACTATGCATTTCTCCAAGACACAAATGGCCACTAGGTGTATGAAAAGTTTCTCAATGTCACTAATCATTAGAGAAATGCAAATCAGACGAGATCGGGCGCGTTCCAAATCAAAACCACAAGGAGCTATCACATGACACCTGTCAGGATGGGAAGAAAAAAAAAAAAAGACAAGTGTCGGCAAGGATGTGGAGACACTGGAACCCCTGCGCACTGTTGGTGGGAATATAAAATGATGCAGCCACCATGGAAAACAATATGGAGGTTCCTCAAAAAATTAAAAACAGAACTACCCTAAGATCCTGCAATCCCACTTCTCTATTTATCTAAAAGAACTGCAATCAGGATCTGCACTCCTATATTAATTGCAGCACCATTAACAATAGCCAAGAAATGGAATCAATCTAAGTGTCTGCCAAAGGATTAATTTTTACAATGTGGCTATATACACAACGGAATACTATTCAGCCATGAAGAAGGAGGAAATGGTGCAATATGTGACAACGTGGAAGCCATGATGCTAAGTGAAACAGGATAGTCACAGAAAGACAGACACTGCCTGACTCCACTGATATGAGGTATCTAAATTCATCGCATTCATAAAATCAAAGAGCGGAACGGTGGTTGCCAGGGGCTGGGACAGGGAAGGAAATGGTGAGTTGCAATCAAGAGGCATAAAGTTTCAGTAAAGCAAGATGAGCAAACTCTAGAGACCTGCTGCACAGCATCGTGCCTATAGTCAACAACAACGTATTGTACACTGAAAACTTAGTTGAAGACCAGGCGCAGTGGTTCATGCCTTTGAGCATAATCCCAGAACTTTGAAGGCTGACGCAGGAGGATTGCTTGAGGCCAGGAGTGTGGGACCAGCCTGGGCAACATAGCAAGATCCCTATCTCTACAAATAATACAAAAGTTAGCCAGACATGGTGGTGCATGCCTGTAGTCCCAGGTACTTGGGACTGAGGTGAGAGAATGGCTTGAGCCCAGGAAGTTGAGGCTGCAGTGAGCCACGATCATGCCATTGCACTCCAGCCTGGGCAACAGAGTGAGACCCCGTCTTAGAAAAGAAAAAAAACTTAGGTGAGATGGTAGTTCTCATGCTTAGCATTCTTGCAACAATAAAATGAAATAAAATAAAAAGAATTAAATAACCACCAGACCACCAGACTGCTACCTGATCTTGTCGTACAAACTTACTGGAACCTTCCTACACAGATCTGTCAAAAGCCACACAAAACACAATCATGTGTCCATACATGAATACAACTCCATCCCAACAGGCCTGCACTTACCAGCCTCCTCCCTCTCTTCCTCCCCTAGGTGTGGGTACCACTACCCTAACCTCCAGTGTTAAAAAACAACTGAGGGAAATGAGGAGAACTCAGCCAGCTCAGCACACCAAGGATGTCTCTGCACTGTACCTGAGAATCACCATGCACTGGGCTGGAAACAGCAAATTAGAACAATAGATATCTACATCATTGGACCTTTCAGATTAAAACATCATCTAGTGGAATTTGTTGGACAAGAGCCAGACCATGTGCAAATTGACTTTACTGCATAAGCCTGTTGCTGGTCTTTAAAAAGAAAGAAAAAGTGCTAGTGGTTACTCTTAGCACATTTCATTCCAGAATCTCCCATCACTTTACAGACATCTATGTTTTCACATTATAAAGATAAGGATACTGGAGCCGCAAAGAAATCATTCATCTGCCCCTATATTGCCCATGTAGGCTGAGCAAAGAACCTGAAGTTAAGACTTCTGGTGTTGGTGGGCAGAAAATCTCAAAGCTGGGCCCCTTCAGACGTCAGGTGAAACCCTTGCTCTCTGGCTCATACAATGACCCAGGGATGGGCCCCAGCAAGCCTCCTGGTCAGGCCTAGCAGCTGGCTGGACACCCCAGGGACCTGTCCACAGCGGGCAGTGACCGAGGTCTGATTTAATCCCAGCTGGCCTCATCCATGTGGGAAGGGCAGAGTTAAGTCCGCGCACGAACAGACACACGCTCCTCTCCTCCCCAGGCCTCCTACCAAGAGACTTCACAGCACGAGGGGAAGCTGTCCTCTGGGCTAGATCCTGCCAGACAAGGTCACAAACTATGCTCCTATGCACCTAGCAAATAGTAAGAAGGTTTATTCCTTCACACAGAAATGTGAACTTTAGTATCAATTCATGCCCTGGCTCCGTTTTCCAGTTTTGCACTTGTACATGCATGTGTGTGTGTAGTGTGGGTGCGTTTTAAGATAAATATTTACAGTGGGCCTACACATCTATTCTTAGAAACAAAGGTCATAAAATCTTAAATGTCATAAGCCAGATCAACTGAGTTTCAAACCAAGTCCTCTTTCTTAAACATATTTGTTTCTAATAAATCGTTTCACAAGTAAACATTGTGCATGCAGTACCAAACCATGATGCCCCGTGAACAATGAGTGCTTTCATCCCGCCTGACATCTCTGGCCTGCGCCAGGCTTCGGCAGGGAATTTAGTCACTGAGGCAACACTGGCAGGGCCCACTACAGAGCTGCAGTCTTGTTTTCCTTGTGGTCAAAGTGCTGCTGAGCTCCAGTTATTAAGTTATTCCAATGCTATCCCGGCTATGTATACACACACACACACACACACACACACACACACACACACACACACACCCCAAGTTTGCAATGGTTTAATGTTATTGCATTTGCAAATTACAGCATACCAAATGTTACACGCTTGCAGTCTTGAATTCATCTTTTCAAATTTTCTCACCTTATACAAAATAACCTCTTAACCACCTCCACTCCCCCTCCGCCCTTTCTCACTTCTGGTAGAAAAACTGCAAGCAGGATTGTTCTGTAATAGAAACCTTACACTGTCTTCCAAACTTATTACAGCTGCCTTCAGTATAAAATGAAACCTTAGAGAATGTTATTTAAAATGTTTTTAAAAAGTCAGTAGGTCTCATGTTTCATTTCTCCACATCAGGCTTTGATTTCCTTTGCAACCTTATTCTCTGCCCTTAAACAAGTCGGAGGAGGAGGCCTGGACGTCTTGGAAAAGGGCCCAGGATGCCAGCATCTGCCGAACGCTGCGCTCCTCCTCTCGAACCCTTCAGCGATCCACCACCCCTCGGAATCCCTAAGAACCTCAGAAACAGTGAACAGTAAGTGGATGACAGCGCCTGGACTCCTTTCCTAACTTCTGAAAAACCGAGGTGATGGCAGGGTGCAGATGGTGGACGAGGATGCAGGCTGGGCAGAGTGGGGGCCCCCTTCGTGGCCTGGCCCAGCGGGCACTACGGCAGAGACAAAGGGGACGATGACCCAAAGAGCTCATGTGTTCTCCCCACCAGGAACCTCCCCGGTCCCTGGGCAAACCAAACCCCTCAAGTTTGCAACTTTTTTGCAACAAACTGATATAAAAAGAATCCCCTGATGTATTATCTCTGGGCGAGAGACTAAAGCCCAGTGCTAGTTCATCTCTTCTTCTATGTGATAACAAAAATCACATCTTCTCCACCAGGAAGGACAGGAAGGATTTACAGTTTTAGGCAAGATTCTCTTCTAGCATGTTTAACTCTCAGATATTATATAAAACAGATTTTCCTTTTTACAAAGGGAGTGAGATAAACACATGGAAAATAGGCTGATGAGTAGCTCCTCTGTTTACTGTAATTTTAATTACATATATACACATATAAGAATAGACGTTCTGAGGTTCAGCAGGTTGCAAATGCACAGTGCATGGACCTGGAACAAGATGAGAACCTTCAAAAGAGTGATTGGAAGGTGGCTGTGTGAATTCCAAATTAAGACGGAATGGAAAGCAGTCCAAAGGGTGCGGCCACTGCTGCCGGGACAGTTGGCTGCACTGCTGGAATGAGGTTCCACCAAATAAACGCGTAGTAAACACAGGCTGAAGTGCTTTAAAAAATACATTCTCTCCCAGCGTTCTCTCTCTCTCACTCTCGGTCTCGCCCCCTTTCTTCAAGTGTCCACTCTACTAAAGCAGAAAGCCCAGCTGCTAAGAATTGAAATATCAGGATGGGCTCTGTCAAGCCCTGCTCTGTAGCTGGGAGCCATAACCCACCTAAAGACTGCAGCAGGAAAGCACAGCCTGCTTCCTTCCAAGAGGTCATTATTGAGGGAGAGAGAGAGAGAGAGAGAGAGGAAAAAAATACCTGAGTGACAAAGAATAAATCTTTGTTAATTGACCATTGAAATTTTATAACATGCCAGTCCTCCTCTGGACATAGTAATATGTTTGCTCATAAGAGATCTACAACTTTTGCTCTGACATAGCAAAGGCCATAAAAAATGTCCACCGAGCCGAGAGGCCTCATGTCTACAGGCTCAGTAAACATGCATCCCGGGGATCAGAAGGAGAACCAGGCTCTTAAATTACACCTATAAATTAATCAAGCACAGAGTGGCTGGTTTCCCAGCTCACACTGGTCTCCTGAGCATTTCTCCCCAAAAGTTAGGCAGTACTTGCCACAAAGAGCCATTTCAAAGCCACCTCTCTCCGGCAGTCACACACCAAGAGACTCGAATCACACGGAGTTCCCAGTATTGATCTGGAAACAGCCAGTCTCCTGCTCTCAGGCCCCCATTCATGTAAGGAGCGTGGATAACCTCGCTTGCTCTGTCTTTAAATTAAAATCAAAATTTAATTACCTTTCCTCCAAAATGGCAGTCTCTTAGCAACGCCAAAGAGCTGAAAAGGGAAAGAACATTCTGCGATTTGGAGGACAAGTGAAAACAACTGAGAATTCTTTTTCTAAAGCCTGCCTAGCTTTTTTCTAAAGAGTAGGCGGTGGTTGCTTTTGTTGCATAAAAACGCACTAAACCAGTTAGCATGAGGCATGGTTATTAGGAGGAGGAGGAGGCCGATCAAAGCTCTCTGAAGTCTGAGGAGCCCAGAACTTGCTAAAGGCCCCACGCTAATTACAATTAGTAGAATGAGTTCATTGCCTTGTCAAGACTCCACCTAACGCACTCAAGCCTGACAGGCTAAATCTCGTTGGGTTCTGAGTTTTGTTTTGTTTTCCCAGAAATACGAAGCTTTCTCCAGCTTCTGAAGATCAGCACAAAGGAAGGTCAGAACTAAAAATGATTAGCAGAAAAAGGGAACGCTATGACGGCCAGGAAGACCACCTTCAGAAAGAGCCCAGGTGCCCACAGCCAGTATCTTGGCTTGTCACCTCCTAGAATAGATGAGTGGGCTGGGATGCTGGGCACCCAGAATCACCTGTTTTGTTTTGTTTAAACACATTTCTGTGGAAGGTCACTGGTTTGTTGCCCTTTCTCCCTCACAGGCTTGGCACATGCTCGTTTTGTTCTTTCCTCTTCGCTGTCTGGTCACCCAGGTGTCCGCATCTTCTGTCTGGATATCTGACTCTCGGAAGTCTTGCAGAATCGGCTGGGGCTCCCACTTCCTCTAAAACACACACGTCTCTTTGCAGAGAGAGTGAAGTCTGCGGAACAAACTTGTTTGGGTAAAAATGAAGTGTCCTCCCTCCAGCACTAAAGTCACAAAGTGACTTATGGAGGCTGCACCCTGTGAAATGCTAGAAGCAAAACACCACTAATGCCTTTGTGCTTGCTCGATGAAGTGAAGAAGAGAGTAAAGTGCTGGCTGGGCTCAGGGCCTGGGAAGACCAAAGCAGGTGGAGGCAAAGTACCTTCCCTAATTAATGTTACAGGCTGTATTATTAGTACCTTCCCTAATTAATGTTACAGGCTGTATTATTTGGCTTGGGGTTGAGTGGCTTCTACCAGCTGGGTATCAATTTGGGTCTTCTTGGGCGAATTACAGGAGTAGGGCTGTGTGTTATTTACACCCCAAGTGTTTAAGACACTCTGAGCTCTCTGCCTTCAAAAAGTTTCACCAGAACTGAAGATTCTTTGGTAACCAGAGAGTTATTATGCCAAATTTACGTTCGAAATTGGTCTCTTTTGCTAAAAGGAGTCATGGTTTGGGGATGATGGAAAAGTCCTGGAGATGAACAATAATGATAATTGCAAAACAAATTGAATGTACTTAATGTAAATGAATTACACATTCAAAAATGGTTACAGAGGTATATTTTATGTTATGTATATTTTACCACAATTTTTTTTTAAAAAGGAGACATAACAAAGGTGACAATATCTCAGAGTGAACAAGATCAATTTCTAGGGTCATGGAAAACCTACCTTCTCAATCAGCGAGGTATATTGACCTTGTCCAGTTTACTCAGTGAGAGCTTTTCTATCTCCTGACCCACACACACTAGGCAGGAGGTCCCTCCCTAGGTTGTGCTTGGGTTTTGACACTGATGTAAAACTCAGGCGTCAGTCTCCCAGGCTCCCTCCCGAGGAGCTGAGGTAAACACAGCTGAGAGCGTTCATGCCTGGGAGTCACGTCAGAGCCTCAGCAGCCGCCACTTGCCATAGGGGTGCAACATCTTTCAGGAATGCAAGATTATCAGCTGGTGTCTGCATAGCTGGGTTTCCTTCAGGGGAAGAAAATGTTTCCTTCGAGCTGGAAAAGTTTGTTCTTTTTTAATGTCCAGGAATTAGGTATACCCTCTTATTACAATGGGTGAACTCCCAATTAGAGTATCTTCTCTCAAATGATTTGCAAAGAAGCTAAAAACCAAACCACAGGGGAGCCCTCCGTCAAAGACAGCAACCACTCCAAGTAAGTAAGGCCCCTTAGCTTTAAAATGTTTGACTGAAATCTATCAAAAATGATCCAGTTAACCAACCTTTACAAATCTGTCCTAGAAAAATATTCACACAGATGCCCACTAAATAAGTGTGGACAAAGCTTGTCGCTGTAGGGTTTTTTTTACTGGAAAACAAAAGATCTGCACAACAATCATATTGTTTAATATGATTAAACGAATTGTACTACATCCGTGAAAGAAGAGCATATTGGCCACTAGTAAGAATGAAGGAGATTGAGATGTGCAGACATAGAGGGATGTCCATTGTAAAAATGCTGGCAGGTTTCATCAACCTTCACCATCTAAAAAGCCTTTCTTCTAGAGAAGTCTAGAAAATCTATCATGCTCATCTCTCTCACATGCCTTGTTTTGCTCCTAGGGCGGTTCGAGCAGAAGTAAAAGCTTTCAGCCCATCTGAGCAAACAAGAAATGCCTCCCTTTGATAGGAATAACATGAGAGGCTGAACAATAAATCCCATTTGTTTTCTTGGAGATGAAACTCAGAAACTGAAAATAATCACGGTTCTAGATACTTCTAAGTACAGCATGACCTAAAGAGAAACTTCAAAATAGTCACCCAGATCACAAAAGCCTTCAATCCAAACGCCACTGCTCTTCTCACTGTCCAAGCCAGATGGGAAGCCTCAAGTCAGGCCCCAGCCCCAGTCCCTCCCTATGAACACTCGGTGAGAGTCTCACATACAGAATGGTTTTGTTTTTTCAGTCCAAAATGTAAAATTTATTTATTTATTTTGAGATGGAGTCTCGCTCTGTTGCCCAGGCTGGAGTGCAATGGCACAATCTCAGCTCACTGGAACCTCTGCCTCCCGGGTACAAGCAATTCTCCTGCCTCAGCCTCTAGAATAACTGGGACTACAGGTGTGCACCATGACGCCTGGCTAATTTTTAATATTTTAATTTTTTTTGTTTGTTTTTGAGAAGGAGTCTCACTCTGTCACCCAGTCTGGAGTGCAGTGGCACAATCTCAGCTCACTGCAACCTCCGCCTCCCACGTTCAAGTGATTCTCCTGCCTCAGCCTCCCGAGTAGCTGGGATTACAGGCACACAACACCACGCCTGGCTAATTTTTGTATTTTTTAGTAGAGATGGGTTTTTACCATGTTGGCCAGGCTGGTCTCAAACTCCTGATCTCAAATGATCCACCTGCCTCAGCCTCTCAAAGTACTGGGATTTCAGGCGTGAGCCAGCACACCCGGCCAAAATGTAAAATTTAAAGGGCTAAGTCCTTTACCTTTCAGTTTCAGTCCAGAGTGTACACTGAACCAGTAAAATGAAAAGTTCCTTTTTCTAATAGAGCATAATTTCCAAAAGATCCTACTAGAATAATATTCAATGTTTGTCTCTCAAAAGACCACAATCTCCCTGATCCAGTGGGGAATATGTCTGGGGCACCATTTGACCTGTAGATTTGCATACTTATTTGGGATGGACAGAATTCCTGCCAGCCTTGTTTGAGAGAATCCTGTAATCCAGAGGCTTTGAGAAAGAGAGAAAAAGTTGGAGTTCCATCAAGATCTAGAAATTTCCATCCCAATTTATGGTCTTCGACCTCAAAATGTGACCTGAGGAACTCCATGAGGGCAAAGCCTTATACCTCATTCAAGTGACTGTCACCCTCTCGACCACATAAAGGCTGCGTGAGCGTGCCACGTGCTTCAAGGATAGAGAATTAACCACTGCAACTCAGCAAATACACAAAATCCCAGCTAGAGAGCTCTGCTCTATTTTCTCCCTCCAAGCCAAAGCAATGAGGCTCCCATTGCCTCATCGCCTCATCTGTCTCTTCTCAGAAGAGGAAACAGAACAACCTCCCCACAGCAACACCGACACCCTTGGCCATCTATTTCCCACAGACACCCACATTTGACCAGCTATCATGAAAGACGCACAGTGGTTCTCTGATGCCACCCTTCCAAATCTCTAAGTAAGGAGCACATCCTACCTGTAGGTAGAACCCTACAGCATCCTACCTTCTCTGACTGTGAAAACAAACCAAGCATGAAGACCATGAATACAACAGCCGGGTCTCCTAAGGGAGAGGGAATCCGTGAAAGCAAACCAACAGACACATCTTTTAAAAGGGGAAGAACACACAGCATTCCACACTCACATCTTAACAAGAGTTGGCAGGCCAGGTGCGGTGGCTCATGCCTGTAATCCCAGCACTTCGGGAGGCCTGCGCGGGCAGATCATCTGAGGTCAGGAGTTCAAGGCTAGCCTGGGCAACATAGTGAAACTCCATCTCTACTAAAAATACAAAAATTAGCCAGGCATGATGATGTCCGCCTATAATCCCAGCTACCAGGAGGCTGAGGCAGGAGAATCACTTGAACCCAGGAGACGGAGGTTGCAGTGGGCCAAGATCATGCCACTGCCCTCCAGCCTGTGCAACAGAACAAGACTCCGTCTCATAAAACTTCCCAACTGAGGTCTTTCGGTTTACAAAGGCAGCCGTTGATAAAGCCACATGAGTAAATGAGTTTAGAGAGAAACTCTAATTTCTTGCTTCAGAATTTGCAATGTTAAGAACCACAAAACTCCAAATATAAGCAACTTATTAAACTGTTTTTTGATTATTTCAATTCAGCACACGCTGATAGAAACCTCGCTAAGTTCCAGCACATTACTGCACACTCTTACTGCCATCACTAAATTGACATTTCATGGCAAGTTTATTTGCCCAAGCTCTGACAGAAGCAGCTTTCTCTCTGCCCCATCCTCACCTGAATCTCCAGGTAACCTCTTCTTACATAAAACTGTAAGATATTAACTTGATTTTAACACTTCTACATCCTCTTTGCCCACACCATAAATGAAATGCCAAGATTAAATGCCAGACCAAATATTAGCCCTCTCTCCAGCCACCTCACCCAGGCCCCCTGCAAGAATCGAAAGCAATCAATAAGGCTTCCTTCCTCAATGGTGGGGCAAAGGACAACGGGTAGCCTGCAGAGAATGTGACAAAAAAGCTGACATCGCAGAGTTCTACCATGCCCCATCCAGGCTGGCGTGTGCCTGCTCCCACCCCAGGGAGCTGGCACCCGCAGAATACCACCTGCTCCCAAAGGCTTCTTGCTGGGGTCAGTTCTGCGGGAGAGTCTGTATTTGCCAGTCAGTACGTTTGGAGTGATCTAGCTGCCACTAACCAGCCTTTGCCCCCCGGGATCCCTGTTGTGAAACAGGAATGAAAAGCTGCTTTGTAGCAATCAAAAGCTCATTAAACAGTAGCTACCAAAGGAAGTTTTGAAATCTCTATCCTGGAGGAAAGGACAGGACTGACCCCTCCTTTCATCAGGATGGGCTCAGGGTGCACGGCTCTGTCTGGAGATGCAAGAGGAAGTATGGGACCAACGCACAATAACGACTAACAGTTGCATGGTACTATTATTTAAAAGCGCTGCCTCTCCTACCACCTCCTCCTCCCCATAGTGCTACAAGGAAACAGTCATCACCCCATTTTACAGGCAAGGAAACTGAGGCTCAGAGGTTCCATGCCTTTTCTAAGGCCATAGAGTTAGCAAGGGTGGAAACAGAACTTGACACCCCTCTCCACGTAATTTCCACCTGAACCTCCAGAGAGGGCATCTGGCACAGAGTAGAGACCCTTAGGGGTTGTCTGTGACAGCGATGGTTTATAAGAACAGGATGAGATGGCTGCTGGGGACACGAAAGCGGCAAAAGGAAGGTGCTTCCTCCTCAACTCCGCTCCGGTTCCGTGATCTGTCAACTAAATAAGCCCACTTAGAAAGGCTGTCGCTGTGACCCATTACCTGGCACGCCACCCCAATCCCTTCTCAACAGAGGGGCTTTCTGCCCCCCTCCGGTGAGATTTCGCAACTCTAGAGCTGGCATGCAGAGCCCGTGTCAGGGTAGGACACCAAGTCTTACACTCAGAGCAAGAAATGGAAAAGAATTCACTGGCAGCAAAGTCAGGAGTATGGAAAATCAAATGAGCCCTGGCCAGGAAGCCTCTAAGTCAAGAGGCTTCAAGTTCAGAACCCCACAGGGCTCTACGGAGCCGAGACCTTGTGCCAGGAACAGGTACAAGCATGACAACCTAAAAGGTAATGGTCAGGCTTTCAATATCCTAACGTCTCTGGACGTGCAGAATCATGTCATTTAAATGATGCCACCACAGCCACTCCTTATCACACACAGAAACAAAAATTCCATCCAGAAGCCACAGTGTGATGGAAGCCGAGACTGAGATGCAGCCTTCCATCACGAGCAAGTGAGCAGGAATGACTGAATCTTGACAGCTTCAGTAATGAATTAACAGGTTAATTAATTAACTAGGCCACCGCTTCTTCATTTACTTAACCACTACTTTGTTCCCAACCCAGGAGACAGTCCAAACTTCACACTCCAGCTGTGGTTTGAGGGACTCCGCCGTGCCTCCGTCCCCTGGCCCCAGCTCAGCTATCACACTGGAGCCTTTGTCTTCCTGGGACAGAGGCTGCCCCAAGCAGTCAACAATTTCAGCCATTCCTCCTTCTTCCACTGGGGATGGGCTGCCAAAAGCTCCCAAAACTCCCTTCCAGGTGTCAACTCCACATTCGAGCTTATCAGTCAGTGCTTGGAATAAAAGACGCTTCATTCTTGAACACACACCTGAGGGGGGACTTCGCTCTGGTACGGATTCCTGTGCGCTTTCAGGCTGTGTCCTATCATGTCTGGGGCTGAGTTACAACAGATTTATGTCAAGGGCTAGTTGACAGTGCCATGCTGATCTGCCGCCATCAAGTCAGGGCTGGTAGTGATGCCTGACCCATCCAGAAGTGACATGCGGCCTCTGATGGGCCCCCAAACAACAACTGCCTGCTGCTTACAGCTTTCATTTGAAGGGATGCGGACAGGCAGGGGGAACAAATTTCTGGAAAGTTAAACTGATAAAAGACCGGGCACGGTGGCTCATGCCTGTAATCTTGGCACTTTGGGAGGCCGAGGCGGGCGGATCACTCCAGGCCAGGTGTTCGAGACCAGCCTGGCCAACATGGTGAAACCCCATCTCTACTAAAAACTACAAAAACTAGCTGGGCATGGTGGCACATGCCTATAATCCCAACTATTCAGGAGACAGAGGCAGGAGAATCACTTGAACCTGGGAGGCAGAGGTTTCAATGAGCCAAGATCATGCCACTGTACTCCAGCCTGGGCAACAAAGCAAGACTCTGTCTCAAAAAACACAAGGAGTGGAGAGAAGACATATCTGGCCTTGACAAAACCAGAGGCACCATTTCCACTTCCACTGTACTTTGCCCCCAAAATATCAAATGCCAGGCAAAAAGCTTGACATACCTGAGGGTCTCTGGAAATGCAGAACTGGAATGCCCAAAAGAAGCAATAATTCACGATTCAAAGCCAAATCGTCTACATGAGTGAGGAAGAGCAACTAGTCTTTTAAGGTCCCATCTTTCTCCCGCACATTCTGTCTTCTGCAGCAAAGAACTGAAAGCAGGGTGGGGTGACAGCAGCACCTCCTTAGAGTCGGGCTGTGGCAGTCACTACTGAAACACACCACAGTGAACATCAAATGAAGAAGTCCGCTTGGAGAGCAAGGAGCATTCATACAGATAGGCGTGGAGAACACCCAGATGGAGGCCCCAGCTCCAGAATGCCTGCTCCAAGCCCTTACTTAGCAAATCACTTACCCCAGCTGAACCTGAACTTCCTCCACTGCAAAGTGGGGGAGGGGAGGGGTGGGCGTAAAGAAGCCAACTCCATGAACTTCAAGTCCTCAAACTCCACACCCCTCTCCTGCAAGTCCAACAGCCAAATCAGTCTCAGGATGGCCTTGATGACAGCATTAATCAAAGGTGGAAACCTCAGCAGGAAATGTCAATGTCAGCCTCTGGCCACGTCTGTAGGTCCCAAAATGGCTTTTTTTTTTTTTTTTTTTTTTTTTGAGACGGAGTCTCACTTTGTCGCCCAGGCTGGAGTGCAATGGCACAATCTCAGCTCACTGCAACCTCTGCCTCCTGCGTTCAAGCGATTCTCCTGCCTCAGCCTCCTGAGTAGCTGGGATTACAGGTACCTGCCACCACCCCTGGGTAATTTTTGTATTTTTGGTAGAGACGGGGTTTCACCATGTTGGTCAGGCTGGTCTTGAACTCCTGACCTCATGATCTGCCTGCCTCGGCCTCCCAAACTGCTGGGATTACAGGTGTGAGCCACCGCGCCCGGCTTTCTTTTTTCTTTTTTGAGATGGAGTTTCACTCTTGCTGCCCAGGCTGGAGTGCAATGGCATGATCTTGGCTCACTACCACCTCCACCTCCCAGGTTAAAGCAATTCTCCTACCTCAGCTTCCCGAGTAGCTGGGATTGCAGGCGCCCACCACCACACCCGGCTAATTTTTGTATTTTTAGTAGAAACGAGGTTTCACCATGTTGACCAGGCTGGTCTCTAACTGCTGACCTTAGGTGATCTGCCCGCCTCGGCCTCCCCAAGTGCTAGGTTACAGGTGTGAGCCACCATGCCCAGCCCCAAAATGGCATTCTGTTTGTTTAATAAGACTTCTGATTGAGACTAATAAAAGCTATTAAAGATCCATTCTAACCCTCAAAAGAATCCTGGTTTGGAAGGGAGGAAACCAGCATTTGTTGCTGGCCACCTACCTGCCAGCCTGATGTTTTCATCTGCTAACCCAACTGATGCCTCGTAACTAATGTAGTGAGCTGAAGGGTGACCTTTGAGAAGGTACGTCCACGTCCTAAGCCTTGGAAACTAGGAATGTGACCTTATTTGAAGAAAAAGGTCTTTGCAAAAGTACTTAAGTTAAAAATATCAAGGTTAGCTCATCCTGGATTTACGGTGGGCCCTAAATCCAGTGACAGGTGTCCTCACAAGAGGAAGACAGAAGGAGATTTTGAGACACACAGTGAGAACATGACTACATGAAGATGGAGGCAGAGATTGGAGCGGTGCCTCTACAAGCCAAGGACAGCTACCAGAAGCTGGGAGAGGGGCGTGGAACTTGCCAACACCTTAATTTTGAATTTTTAGGCTCCAGAACTGTAAGAGAATAGATTTCTTTTGTTTTAAGCCAATTAGTTTATAGTAATTTGTTAGGGGTACCCTAGGAAACCTAATACAACCATCATAGGAATGAGGTAAGTATCATCATTCCGATTTTACTGATGATAAAACAGAGCCTCAGAAAAGCTAAATAATTTGTCCCAATTCACTAGGGGCCCCAGGTATGGCCACGGACAAACCTGCTGTTCATTCCACGGCATAAGCCGCTTTTTTTGTTCTAACATTCATGAGTTCCAGTTCCTTCATTTTTGGACACAAGGAAAGTGCAATGAGTCATCCCAGCATTGTAGCTTCACAGTGACAGGACCTCAGTCAGAATCCAGGGCTCTGGTACCACTCAATGATGAACGATGGTGAAGGCTCGCCACCTCCCGGAGCCACAGCTACTTTAGGGGAGCCCATTTTATTATCGCCACAATTACCAAAACGTGGAGCATCACACTAATTTTCCCTTGCAGTAAATAGCTGAAAAGTAATGGTGTCAATTTTAATGAGGATCAAGCCAGGCTCCTAAAAGGGCTCCCATAAATGAAAGCATTTCCCTTACACACAACAATGGCTTGCCGTTTAATTCTAGAACACAAGAATGTCACTTAAATTACACGGCTTTTACATTAAAGTGCTTATGGGAATGCCTTTCCAAGGAAGAATTTCAATAAAAAGATCTCACCCATCTTGATGCTTCATAATATCTGAACCACAATCTATGTATCATAGAAACAAAAATAAAACCCCAAAGAATGTGGGCAAGAATGGGACTTCGCTTTCACTGGGAAAGGGTTTCTGATTTTCTGTGAAACAGAGAGGTGGCTGAAAAGCTGTTATCACACAGCAGTGTATCACATTTGGGCCTGTGGGCTACCAGAAATTCACTGCTTAAGCTTGAATCCTTTTTGTTTCCACTTGCTGAGATGTTCAGAATGACTGCCAACCCTGTACGTCTATATGAGCCTCTTTAGCTGACTCAATTCTTATTTTATTAGTGCTTCGCAAAGCAATTACTAGGGTTTTGAGCAGAGATGAGAGTATTTCACACTTCCATCTTTACTGAAAATGCCTTTTACTCCACTGACTTTTGGCTTCTATTTATAAAGAAGGTTCAAGGCTTGGAAAATTATTGGAGTTGAGCTTTAATGGATATTCCCAACCAGCATTGTGTCATTATTGGCCCGTGTTTAGCTGGGCGATCTCCCAAATTTGTGACATAATCAGGCCTCTCTCTGCATTACTCCATACACTCCACGCTCTCTCTACATTACACCACTGAATCATACGCTCTTTTCAACAAGACTGATTGCCAGGGGATTAACATTAGACAGCACAATTCCATTATTCAGCAGCCCAATTCAAATCCCAACCCTAAACTCTAAGAGAGATTTCAGGGCTTCACAGGGATGAGCCGCCAGAAAGCTCAAAGGGGAGGTGGGGTGAGGGGCTTTTGAATGTTTTACATAACAACTCAACCTAAAACTTGCTTTAAGCAAGAGCCCAGACCGGAGTGGCCGCCATCTGACTCCACGATGCCTAGAATGGCCCCAGCCCAGCCTAATGAATGATGTGTAGACCTATGCAAAGCTATAATCCCAAAAGACTGCTATAGCTCAATTATTTTTTCCCACAATAAATTACTTAATTTCAAAATTAGGTATTTAGAACATTTAGCCCAAAATCTCTCTTTCCCTAAATAGAAATAGTTTTACGTCACATTCGGTACACACAGGAACCCAGGTAAAGGCCAAGTCATATGCTCTTTGATCAATGGATTTACAGTGTATCAATGCCAACACAAATGTTAATCATTTTCTTCTCAAATTTGAGTGTTACTTCTCTTTTTGTTTGTTTTGTAAAATATCTGAACATGGTAATTCTCACTAAGAAACATGCCACATGTTTTCTCTATGGGGAAAGAGCTCTAAAACTCACTCTTTTATGAATATCTATAGGATCAACATTATTCAAGGACCTATCAAATTTCACATGAAGGCTTCTGAAGAACAAAACTCAAATCTTCGAATAAACACTATTTTCCCTGAATGCTTATATGCAAATGGAAGTAATGGTTATATCATGCTTTCTAAGGCAGAGTGTCTCGTAGATCCAATTCCATTTAACTTGACAGAAAATCAAAATAGTTTTGTTTACTTTTCAGTTAACCTAAAATTTTAATTAACCAAATCTTTGCAATTTGGTTAATCAAGCTTTTGGATTATTTTTTTAGTGGCTTTTTGGGCAATTCCAATATGTAACGGGGTCTCCCTCTTCAAAGATGTTTTATTGAAGGAGACCCACACATGAGATGATACTAGGCACACACGCACAGGCTATGATGTAGGAGACACTTCGTTTACAGAGGCACAGTGGGTGGTGTGGGCTTGTGGAATTACCAACAGTCACATTACGGCAAAACGTGAGTGTGAACTGAGTTGAGTCTACAGCAGAAGATAGCAACCTGTATTTAGGGGAGGACAAACCAAAAGAAGGCTCAAGGTGGCAGGTTGAAAGTCAAGGCACATGACAGGAAAGAGAAAAGATGGCCCCTACATGGAAGGGATCTTAACCTGCCATCCTGCAACAATGAAGTATGTCTTGGGTAGAGTTCCATATGTTAGCAATCCTCCAAGACACAGAAACCTCCTTTCTTCATTAGTTACAACAAAGCCCCATCATCACAGGCAAAACCTGGGAAGAAACTTGAATTTCCAAGACAACAGGCGAGGTGGTCTTCAATGTTTAATTAAAATGGCCTACTTATCTGTGCACTCTGACAAAAATGTATTTATAAGCTCATATACATGGTTCCCTTTGCACAGAGGAAATAGATGCCAGGAACAGACACTGAATTGGTACCGTCTAATGACTTTCTTGTGATGGAAGTGAAGGGCCCTCAACATTCACCTTTTTCCAGCCAGCCACAGGCTCAGTCCTCAGACCTTTTCCTTTACTCTTCAGCTGGCCTTCTACAGTTGCCCTGTTGGGGAAATGATGCTTCTCTTTTAAAACCAAAGGTCTGCTACAGCACATCTGTACCCTTTTCACCTGCCCAATTAACATTTTCAGAGTAATCTCAGCTTCCAAAATGTCAGACATTTCATACCACGTCCACTTTACACAGATGACGCTTGGGAACCATGAGGATCATGCAAAGCTCATAAACCCTGGCTGCCTGGAAAACAGAATATTGTCAGATGACAGAAGCAGCCTTGTAAAATGATAGTAGAAAGAATAAGAATGAACCAATTCTCCTGAAACTTATGGGAGAAACAGGACTTAACGTTCATGCTTTCAAACGAGTCAAGCAAGAATGGGCTGGTATGCAGCCGCCACACGAGGAGAGGCAAACTCACCCACAACATCCAGGTGGTACGTGTGATTGATGGACCCGTATTCATTCTCCACTACACAGGTATAATTTCCCTTGTCAGATGGGACCACACTTTCCATAATGAGGCTCCAGTGCTGGTTTCGTACCTGAAAAGATCAAAGCAAAGGCGGTTATTTAACAATCCTAGCACAGAATACCAAGTACTGTGCTTTCTTGATTTAAAAAGAAGCTGAAGGAGGCAAGAAAGGTATGGAAGAATCACCTAAATTCTAAATTGATAACTGTCATTAAGAATCGTGAGAAATGAAAACCATCATCATCATCATGGTGAACACCTGTGAAGCAAATATTGACATATTCAGATCTGCAGGAGTATTCGGCAGTGTACAGCGTGGGTCTGTTACCATAATGGATTTGAGGGCTCCTCTAGGAGAGGCCAACTGGCCAGGGAGCCTGAACACCAGCCAGCCTGGTACCAATGGCCACGGGCAGGCGAGCTACCAGTTTGCCCATCCACTAGGAAGCCTCAGCCTCTATGGCATCACAGAACCATGTAGAACTAACATTTATAGTGAGCATTTACTATATGCCAGGCACTGCTCCAAGCCCTCTGTGCTGCCGTAGCTAATTCATTTCTCCTAAGGGGCTCATAGTTCTCAGATGTTGTCTGGATGTCTCAAGAAGTTTCAGCTGGGAACATCAGTCTGCCCTTCCCATCTCTGGTTGTGGCTGAATAGATATACATGTTCCTCAGAGAAATACCCAGAATTCCAAATATGGCGGCAATGAATCCTTACAAAACTCAAGTTGTATATCCGTCCGTTCACAAACTTCTTGAGACTTTTCAAAGATAAGCAGCACATGTGAAAATCAGCTGTTGTGACTCCTACCCAAGGTACCATCAATACACAAAGAGACGCCATTCTTATGTTCTCCCCCTGCTTTTCAAATATTTCCATAGACTCAAATTTTCAAACTTGCGAGAGTTTTCCTTACCACAAAATGCAACATCTTGTATCTTCAGGGTTTGAGGCTTTAGTATTTCTATCTGAATCCAAGTCATTCTCTACAGGTGTTTTGGACAAGGCACTCCAGTGAAACGAAATGAAAAAATAAACAGTCAAGGCCTACTAACCTTAGCTATCATTTCAGGAATTTCAACTGACCTTCTGAGCCATGCCCTGGGCATTGCAAGTGTTTTTGGGTTAATCACGTAAAAAACAAATACAGGCAGAGCATCTGCAAGCACATGAGTGATATAAGAAACTAGAGAATAAAGAAAATCATCTCGTAACCACTCCACTATAAAAACAGGAGGGCAGAGCAGCTGTCCACTTTGCAAAGCAGCGCCAGTGATTAGCCTGCCAACAGAGTTAAGAGATGCGAAGAGCACACTGGAGTGCCACGGTTTTCATGTCAGCCACTCAGTTCTATGCAAGCCATGACTGCAGGGTGGAGGTACTGCTGCTGAGTTCTAAAACGAGGTCGCTGCTCATCACTGACAGTCTTAGAAAGGATCACTGGATGAAGGTTGGCCTCCTTCCTCCTTAACAGAGTACAAGCAGTGAGTTAAGATAGTTCTGGTCAGCCACTTTGCTGGGCTGCTGCAGTCATCGACAACTACGAAGGTAGTTTCAGAGTCTAACAGCCTGGAGCTGGTGATGGGAAACTGATCCTCACTGTCGCAGGTAAAATGTCTGGCAGAAAAATGAATCTACGGGCATCTGATCGACAGTGGAGAGTCTTTACTGTATGACAAAGACTCGCTTTCTGCTCTTGGTTGAGCCGTAGACTTGTAACAGGACCCAGACAACATGCTAGCGCGTCTCCCCTTAAGAGAGATAAGCACCTTCCATGCAGAATGTGTCTTCTGAAGGAGGAGGAGATATGGATGCTAAATCTTCCAGCGCAATGAGAATTCCCTACCTAAATCCTGGATCCCTGGGTGCTACAACGGCATCGTTATGCTAAGAGCATGGGACACATAGGTATAAGCTCCTTGATTTTACTTGAGGTCCACAGACCCAAAAGGAGACCCTCCCTTCACCTCAAGCTCTCAAGGGTAACAGAAATGATTCTCTCTTTGCCTACGGGGAACCAGTCATGTGGCAGGTAACTTAGGGATGTAGCCACGGGTCCCCACGTCACCAAGCCATGTAATCCAGCATTTATCCCTGCTGTAAATATTCAGTTCTTTGAGCCCCCGCTCAAATGTCATGCCCATAAGCCCTTAATCACGGCTAGTGCCTGTCTCTGGACCCCATTCAAACTGTCAATGTCTTTCTTGTGCCTGGATCCAGATTTGGCACATGGAGTATTCCAAATGGAGCTGAACCTGAACTGCACAGGGAGGGGACATCGCCTGACTCGGCTGACACATTAAATCTTGGCATATGCAGCTTGGCTCACTGCTCCCTTTTTTTAACCCCAGGGGATATGGTCAGCTCAAGTCTCTCACTGGGGCCATGGCATTCCATACAAGATCCCTCTTCAAGAGCACGTGCTCTCTGAATATTTACTTCCTGGAGATGCACTACAAATATTAATAAGTTAACGTTTATAAAAATGTTTTTACAATGAGAAGCACAATTACCAAACAGGGTGTTTCTGTCCATCCAGAAATCTTGGTACTAGATCAATATTGCCCCATGCAGTGCTGTTAATATTTATTTTCTTACACCATTGCTCCAGTATTTGATTTATTGACCCAAATTTTATGAGCTGTAGCATTTTCCAAATGGATGCTCTTAAATCCACCAACAGTGGGACTGCTGGACACTTTTGTAGGGGATATCCTACCATTGATTAGTGGTTGCTTAATAGCAAGCTAAGAAACTACAATAGTTAACTTTATAAAGATGGCAAACAAAAGCACAAAGTTTGGGGGTTTTTTTTCATTACTCTATTTCCATATGGAGATTCAGAATAAACCTAAAGAAACCACTCTTCCGACGTAATATATACAACGCGTGTTTCTAAATTCCTCAGATTTTCAGTGCTACAATTCTTTTGCCAGTTAGGCCAAATGCACATACACCGTCTTTGCTTTCAGAGAAGAGGGAATGTAAATACCCAATAAACATATGAAAAGATGCTTAACCTCATTAACGATCCGGGAAATGCAAATTAAAACAATAATGAGACACTGTTATTCACCAGCTGATTAACAAAAATTAGAAGGATCAATGTTATTCAGTACTTGGTGAATGTGTAGGGAAATAAAAGATTCCAATTGAGAATGGGAACATAAATTGAGAAAAACCTTTGTGTAAAATAACTTGCTGGTACCTATTAAAATTAGCAGCACACATTTTTTTTGATCTAGTTAATTCTACTTCTAGAAAGCTAGCCCACAGAAAATAGCACAATTACTTCAAGGCACATGAACAAAACTGCTGCTTCAAGCACTGCTTGTAAGAGCAAAAAACTGTCAAGGAGAGAGACATTAAGAATGCATAGTTCATCCTGTATGAACTGATGGAAAGTTCATTCAAACAGCGTAGTCTATAGTCATAAAAAGAATGAAGTATTATGTTCAGACCTGGTAAGGTATCATTAAACAGTTATTGATAAATGAAAAACAGTTAATTCATGATTCCAATTTATTTAAAAAAAAGAAAAAAGCAGACACATTTACCACCCTAAAGATGCATATAAAACTGAAAGTATAAGCCTGACTATAAACACAGCTAAAATCAGAAAGAAAATATACCAAATTGTTAGCAATGTACTTTATATAATTAAGCAGTGGGATTATGGGTATTGCCTACTTTTTTCTTATTTCTACCTTTCAAACAAACAGAAATCTCAACACACACAACAAAAAAGTATAATAAAACAGATCCTTAGATAATCATTCAATAGTAGCTACCCCCTGCAGAACCAATGGATCTGGCAAAACAAACACAAAAGCCAGTGAGAGAAGAAATTCTGCACCAACCAACACAAGCACGACTCTTTTTCTTTCCTGCTCATGGCCAAATCTTTGTGGAATTCATCATTATTTTTCATCTGCCAAGTAACAGAACAGGAGAGCATGGACTTCAAAACTATGTTCACTAAAGACTTTTTTAAAATAACATTTCAATATTGAAACAAAGCAGACTGAAGCAAAATGGCCTAAACTCCCAAGTATAATACAAGAAGCGGATTCCATGAACATTCCACACCCTATCCACACAAAGACACAAGGTGGCCCAGACAGGTTTTTCGGAATTCTTCTGTTACCTTCATTCCCCCAAAATGCCTATTAAATCCCAGGCTACCCTCAGGTGACAACTGGGAATGTAGATTTAGTTTGTTGACACCAAAACACCGCAGTGAAAGGTGAAGGGTGAAAGGTTAAAGACCCAGGCTGTCACCTGGATATTTACCTTCCACATTGCAAAAAAATCCAGACATTTCCAAATACTCAGGTGTTCGATAACAAGCAGAATAAACATGCAGAAGGTGATACAAAGTTTTATTCTGTGCCAGGTAGAACGCTGTGTCCATGTGATATCAGAAAGATATTCCCAAGCCTTTCTCCCGCCAGTATCAGCACCCAATTTTCCCAGGAAGACAGCAATCTCTTGTAATCCTGGCCTTCACAGAGGCACCCACCCCATGAACAGATCAGTTCATTCAACAGGTGAGTTGCCATTAAAATGCAAAAAATCTGCCAGGTGCAGTGGCTCACGCCTGTAATCCCAGCACTTTGGGAGGCCGAGGCGGGCAGATCATTTGAGGACAGGAGTTCGAGGCCAGCCTGGCCAACATGGTGAAACTCTGTCTCTACTAAAAATATAAAAATTAGTCAGGCATGGTAGCAGGTGCCTGTAATCCCAGCTACTCAGGAGGCTGAGGCAAGAGAATCGCTTGAACCCGGGAGACAGAGACTGCAGTGAGCTGAGATCATGCCACTGTACTCCAGCCTGGGTGACAGAGTGAGACTCTGTCTCAAAACAAAACAAAAAACAAAAAATGCATAAAATCTTATTCTCCCATCCCAGTCCCCCACTTTCAGCAGGTGCCTGGGGGACTTGAAGCCATCCTTTCTGAAAGCATTTGTGCCAACTAACCTTGCATGTCAAGGACAGAGGTACCTGCTGTTGCTCACCACCATGCAGATGTGGAGGCAAACACCTGTTAATGCTTAAACTCCAACATTGATACAAGAAGTTTGCTTTTCAGGAGGTGTCCAGAGAACAGGGCCGGGCAATCTGATCCTCGGGACCAGTGGCAGAAACTCTTCCCTCTGCTCGGTAAACAACCACTGGATCTCTCCAGAGGAGGTGGGAAGTGAATTACAACAAGCCATGTTTTCTTAGAGGCCCGTTGCTTGTCGGTGCTCACAAAGGTGGCTGCGGCAGGACATCCACCGCCTGTTGAACTTAGCTCTTTAAAAATGTCACGATCTTCCCCATTTTTGCTTTTGCAAAACAGACAAATGCCATATGGTCCTGCAATTCCACTCCTAGGTATATACCAGAGAAACTTATAGCAAGGACTGGGACAGATACTTGTACACCAATTGCTACAATGGCTATTCACAATAGCCAAAAGGTAGAAGCAACCCAAGTGATCATCATCAGATGAATGGATAAACAAAATGTGGGGCCGGGCACAGTGGCTCATGCCTGTAATCCCAGCACTTTGGGAGGCTGAGGTGGGTGGATGGCAAGTTCAGGAGATCGAGACCAGCCTGACCAACATGGTGAAACCCTGTCTCTACTAAAAATACAAAAATTAGCCGGGCATGGTGGTGAGCACCTGTAATCCCATACTCAGGAGGCTGAGGCAGGAAAATCGCTCGAACCTGGGAGGCGGAGGTTGCAGTGAGCCAAGGTTGCACCACTGCACTCCAGCCTGGGCAACAGAGTGAAACTCCGTCTTAAAAAAAAAAAAAAAAAAAAGTGGTATATCCATACAATGGAATATAATTCAGCCATAAAAAGGAATAAAGTTTTGATTCATGCTACAATATGGATGGACTTTTGTTAAGTGAAATAAGCCAGACACAAAAGGAAAAATATCCTGATTTCACTTATATAAGGTACACAGAATAGGCAAATTCATAGACACAAAAAGTAGGTTAGAGGTTACCAGGTGCAGTGGGGGAGGGGAAATGAGTACTTACTACTTAATGGGTACAAAGTTTCTGTTTGGAGAGATGAAAAAGTTTTGAAAATAGTGGTGATGGTTGCACAACACCATGAATGTAATTAATGCCTACTAAACTTGATAATGACTTAAATGGTAGATTTTATGTTATGCATATATTACCACAATAAATGTAAAAACCTCATAACCAGCTGGGCACAGTGTCTCAAGCCTGTAATTCCAATACTTTGGGAGGTTGAGGTGGGAGGATCACTTGAGCTTACGTGTTCGAAGCCAGTCTGGGCAACCAAGTGAGACCCCGTCTCTACAAAAAATTTAAAAATTAGCCAAATGTGGTGCCATGCACCTGTGGTCCTAGCTACACAGGAGGCTGAGGCAGGAGGATCACTTGAACCCAGGAGGTCAAGACTGCACTGAGCCATGTTCGTACCACTGCACTCCAGCCTGCGCAATATAGAGGGACTCTGTCTCAAAAACAAACAAATAAATAACCCACAGAGGTCTTGGAAGTTGAAAGAACAGCATCATATCCCCAACTTTGCTCTCAACTGTATACCATGGGCTAGATCTTTGCATGCTTTTGGGGAGCCATTACTTTCATTATGTTTCTCATTCAACAGCAACAGTGTTTTTACAAAACACGGAACTACATTTGAAGCAAGCAGTTTAGCAAGAGCATAAATTCTGGTGCAAAACCACGTAGGTCCAAATGGCAGCTGTGCCACCTATGAGGTAGGGGTAGGGCAAGCCCTCAAATGTAAAAGGGCAAAATAACAGTGTCTGCCTCTTTGGGCTGTGGAAGGACTGAGCAACTTGCTCCATGGGAGGCACCTGGTAAGTCACGACGCAGGGGAGCAGTCCATAAACGTTGGCTAATACAAACATATACCTGTGTCCTCATCAAAGACTGCTTGATGTGGGATTAAAGCTGAAATGTCTTCACTGAAAAAAAATCTCCATAAAGTATAAACATGCTGATAAGTACATTAGTCATGATTTCTCCCCCTAAACATACTTGTGGATTAAGCATAACATTTCATCAAAAAGTCTTTAAAATGACATCTAAGTAACTAACCTAGAAAATGTAAATCTAATTAACCTATGCTTCAAAACAACCAGTTTAGTAGTGATTATAACAAAAGTTTTAAAAATCATCTTTTCTTAGATCTGAAATATACTTGGTTCATGCTCAATAATGCTTTACTCTCTGCTGAGGGGCTCCAGGGGAACCTGAACCCCTGTAATACCCAACGCTGAGGGCTTCTGTGCCAATTTCACAGTCACGTTGAATGAGCCCTCTGTCCTGCGATCTCTCTTGGTCTATGCAGGCACTTCGAAGTGGCATAAAAGATGGTTTTTAAGAACCCCCTATGCCTAAATAATTACCTACGAAGGAGGTGAGAATTGAGGTGGTCTATTAATTATCTCAGCCAGCTTCTTGCTTTTCTGCATTAAATTGCAATAACTGTCCTGAGCCCTGTGAAATATCTAGCCATGAAGGTAACCTCTTTATTAAAAAAAAAAAAAAAAAATCTGTGCTGTTGTTTAAGAAGAGAAATGGCTGATGCTACACGATGGTGATACTATTAAATTATGGTTCTCAGAGCCTGAAGGGATCAGGATTATTCAGCCAATCTTCCCATTTTAAGGCAAGGGATTCTGGGGCACAGAGAGCTGAAAAAACTTGCCCATGGTCAAGACTGACGCAAAAGCCCAGGAATAAGTATGATTAGGGAGATAGAGTTATGATTCAAGTCCTTTACTATTATATCAATCACATATTAATAACATCCAGCAAGACTTTGCTCATGCACTTTAAAAATAATAATTTGATTCTTAATCACCTAAGGATGGCTCAGCATGGGTTCTTTGATAAACAAGACTGAACTGCCGAATTCCAAATAGTTCTATTGGTCATTTGAATGAAAATGAGCTTTCTGTCACATTTCATAATTCTCTTTGACTTTGTTTTGCTTTTTTTGTCTTCCCTCCTCCCTTTATAGGCCGCACATGCATGCCATTTCAAAACAAGCTGTAATGCAGGGGATGGCTGCCGAGGTGCCCAATCCATAAACGGGTAGAAAGAATGAGATGGACAGGCCACCAAAGCACAATCATAGTTTATGGAATGAACAGAATTATAAAGGAAAAAGAAAAATTGCAGAAATAACACACATTTGTTTGAAGAAGTTTTTCAGGTATTTGCTTTCTGGAAAAATGTATCTTGGAAAACTTGACATTTTGCTTCTTCATTAAATAAACTGGCAAATGGGACGGGTGCAGTAGCTCATGCCTGTAATCCCAGCACTCGCAGAGGCCAAGGAGGGTGGACCACTTGAGGTCAGGAGTTCGAGACCAGCATGACCAACATGGTGAAACCCCATCTCCACTAAAAATACAAAGTTAGCTGGGTGTGGTGGCGGGCACCTGTAATCCCAGCTACTTGTGAGGCTGAGACAGGAAAATCGCTTGAACCCGGGAGGCAGAGGTTACAGTGTGCTGAGATCATGCCATTGCACTCCAGCCTGGGCAACAAGAGCAAAACTCAGTCTCAAAAAATAAAAATAAAATAAAGCAAAGTGGCAAATGGACAGGAGTCAGGAATGAATCAGTTAGATGTCAGGCCCTCTGAGTTTCAATTAGGTCTCTTTGCTTTTGAGGAAGTGCCGAGGAATGAAAATAACAATATAGTTCCCTGAAGTCAAATGTGCAAAGGTACCTTTTTTTTCTTTTTTTTTTTTTTGACAGAGTCTTCCTCTATCATCCAGGCTGGACTGCAGAGGCATAATCACAGCTCCCTGCAGCCCCAAACTCCTGGGCTCAAGCGATCCTCCCACCTCAGCTGCTTGAGTAGCTGGGACTACAGGTGAGCACTACTACGCCCAGCTAATGGTTTAAATTTTTTGCAGAAATGGGGGTCTCACTATGTTGCCTAAGTTGGTCTTGTGCTCCTGGCCTCATATGATCCTCCTGCCTCAGCCTCCCAAAGCAGTGGGATTACAGTGCCACTGTGCCCAACCCAGAGGCACATTTCTTTAAGTCTACGTAGGTAACGAAGAAAATATCAGAGAGAAAACCCAACACCAGGGACCATTCTCCCCAAAGTCTGCCTTGGTCAGGCCCCAACAAGGACTCTCTGAGGCAAACGCAGGCCATAGCCAGCCAAGGAGCTCCCCATGGGGGAGGCCCACAGGTGGGAATGAGCCTCTTTGAGCTCCAGTGACTCCAGGACCTGGGGTTGGCTTAACACATCATTAGCGAAGATGATGCCTTAGGTAACTGAAGGAACCTTCCCAGGAGATGAGAAATGTGTCTTTCCTTTTCAAGTCCCGGAAGCCCTTGGGACTCAGTGGAATTTCTAAGAGTTTCTGGCATCTCCAAAATGAACGTTCAATGCCACTGCTGTTGTGAAAAGCCCTTGATCAACCTAGGCTGACCACCTCTGCAACTAGCGGGCCAACCTCCCAGGCCGCCCCACCCTACAGCCATAGCCTTTCTCCACCAGAGAACCAGAAAGGAGAGGACCACGCCAGCACACTGCATCCAAATGTGTGGCCCTCTGCCGCTTTTGGCCTTTTTTTTTTTTTTTTTTTTTTTTTTTTTTTTTTGGTAAAGCAAAATATATTTTAGGTTTTTGTCCCACACACTGAAATTCCATTTCCTTTTCCCTCCAGAAACGGCTCAGCGTGATACAACAAAATCACTTTGGTCATCTGCACTCCACAGGGGCAGGCTAAAGGCTTTCTGCTGGGAGTCCTCATTTTGCTTTTAGAACATAGGTGCTCTTCATCTAGCGAAATGTTGGAATCAATAATTAACACTGAACTGCACCTGTTAAAAATCAGGCAGCATTTTCTCATTAGGCCCTCTTAGTCTCTTAGCATATTTGTAATCACTAATTCAGATTTGCAAAAAGCTCCTTCCCCATAATAATGATGTCGGTTCCATTTATTTTGAGCCCAGGGGTCTCTGGAGCCTCATCAGCTCCTCTTTGTACTTATTTACAAGGCTGTCTTAATTGACAAAATTAGTTAACCACCAGGATTTTGACCACCATTCTCACACTCAGATTGTATTTAAATAAATCATTGGAACTGCATCAATTATGTGAGTTTCAGAAAGCATTTGGTGGTTAAAAACAATCCCAGGGGCCGTGATTTTAGTGGCTTAACTCTTCCTTTCTAACCAGCATCCCCCCATGAAATCCTTAACTTTTTTTTTTCAAAAAGATTTCTTTTAAAAGGGCCAACCTTTGAATCTCATCGTATCTGGTCTAAGGACTGAACTAAGAACAGAAGGACAAATCACCCCCTGCCTCCTGCTTCCACCACCAAGTAGGAGTTGTGGAAAACAACCAAAGTATTTCTACTTTCAAGCTTCAACAGTACCCACCTGCTAGCAGATCTGCCTCATAACTGTTTCACATGTTCACTGCCCACCATGCGTTCTTAGAAACTTACTCATAGGCTGTCCCCATTTTCCTCTGAATTTTGGCCTCTAGATGTTAATTTCTAAGTGTTAAAACAAAAAGGCAAAAACTTTTGCAGAAGAAAATAATCCTTTAAAGATGAATAACTGTCTAAGAAATTTCAGAAAAGGGTTGCAGGGCATTTTTAGGTGGAAAGGAGGCTCATTTACCTACAGCAATGATGGAGCTAAAGTGATGCTGGTGTGTTAAAGACACGTGAGACACAGTCCTGGACACCCCACTGCTGCTACTGAGGAATCCTCCCTACCTGGCTGTAAAGGACCTGAGGTCTGAGCTAAAGAGCGTCTTCTATTCCTCCCACCATGCAGTTTTCCCAGATGGGTTCCGGTGATCCCCTTGTCTCCTGGCATTCAGGTCCTTGGGCAACCTCCTCCCTAGTGTCTTGCTTAATAATGGAAAAAAGCAAAAGTGGTGGCTGTCCCTTCCAACACTAGGTTACAAAAGGCTCTGACTTCTGCGATCCTGCTCTCTCTCTCTCTGGCTCCTCCTTTGCTCAACCTGATGACAGCAGCTGCCCTATGAAGAGGCCCGTGTGGCATGGAACAGTGGGCAGCCCCCAGCCAACAGTCAGTGAGGAACTGAGGCCCTCTGCAAGGAAGTGAATCCTAACAGCAACCACATGAGCAGTTCCTTCCCCAATTAACCCTTCCAATGAGACCTCAGCCTCAACCCTTCCTTGCTTACAGTCCTGTGAGACAGCTGGAGATGGAAGACCCAGCTAAGCCACACCTTCATTCCTGATCCAGGCAACAATGAGGTAATAAATGTTGCTTAAAGCTACCATACCTTGGGGCAATTTATTATGCAGCAACAGGTAACTAATATGCCCACTTATGTTCCAAATGCATCAGAGAATTTCATCATAAGGTTTCCTTCAGTCCTTTTCATATGCTCAATTATTACAGTTCTCTCCTTCCATACTAAATAATTTGGAAATTCCATCTCTCTCTTTCTGAGACATCTTTCCTTCCAACTCAGACCTGAATCCTTTCCTGACCTCCTTTCTCCTTATTCTTCCAAACGCCAATCCAATATCACCTTTCCATGTACATCCATGGGATGCAACATGCTCCTGCAACTTCAACCAAACCTGTGTCCCTCCCATTGCCAGAGTTCTCCTCTGCCTCTCCTGCTGGACTGGACTAAGAGCCCCTTGGAGCTGGGGCCATGCCTCACCCTCTCATCTCCCCAGAGCCCAGGAGTGTGCCTGGCACACAGGGTGCTCAATCAATGTCTGCTAAGTGGATGAACAAAGGCTAGAGGAGCATGCGCGGGCATCTGCAGGGAGACAGCTGCCAATTTCAAACTCCCTAGGGAGTGATGAGACTAAAATTTCATGGCATTGTGTGACGTGCTCTCAAGAATCCTTCAAGGAGGACAGCAGATTGCCACTGTCATCTCCACGCACTCTCCCTTAATGCATCATATTTCATACTCCAGTCTCTAATCCAAGTCCCCTCACTATTCATGCAATCCTGCTCTGACAGGGAAACTATACTGACGCTTCTCAAACTCCACACCCGTTTTAGTTTTATACACTATAAAGCATATAGAAAACAGACTCTCAACTTTCGACCCTTCTGTTATTAAACTCTCCTCATATGAAGAACAACACAAACGGGAATTGTACTTTAAAATTACACGCAAGTCCGGGGTAATATTTTTTTTTAATATCAAACCCTGACATGGGCAATTGTGACAATTATTGATTCTTGTTAAAGTATTCCTTCTAATTCCTGCTAACTTTTGAGCACTTCAAAAAATAAACAAAAATGTAGGGCTGGGCATCGTGGCTCACACCTGTAATCCCAACACTTTGGGAGGCCGAGGCAGGCGGATCACGAGGTCAGGAGATCAAGACCATCCTGGACAACACGGTGAAACCCCGTCTCTGCTACAGATACAAAAAATTAGCGAGGCATGGTGGCACACACCTGTAGTCCCAGCTACTCGGGAGGCTGAGGCAGGAGAATCGCTTGAACCTGGGAGATGGAGGTTGCAGTGAACCGAGATCGCACCACGGCACTCCAGCCTGGGCGACAGAGCGAGACTCCATCGCAAAAAAAAAATGTAAATAAATAAATAAACAAAAATGTAAGAAATGTGATGTTCTGAAAGCTTAATTCTACCTTGTAGCCTCCAATGCGATGCTCCTGCTTAAACTCCTTCCCGTTTTTCAGCCACCGCATGGTTGGCATTGGGTTCCCCCCGGCTGGGCAGCGAAACTTGACAGTGTTGGCCGCAGGCACAGCATGGAGCCGCTTTTCCATCTTTTCTGTGTTGGTCCAGTATGGTGCTCCTGTTTTGGAAAACAGTATTAGAATGTATACTGATGGACAGCTTCCCCTCCATGAGTAAACTCCAAACAGGTAAGATCATTTCGCTTTGCATGTAAATGCTAGGCTATTTTTTAAATCTTTGGGTAATATTTACATTTGGAAAATATTTTCAGAAGTCTAATCCAGCTGGCTGAGCAGAAGGTCCCAGAGAGGGATGGTTCATGTCTACCAACAGGAAGAAAAAAAAAAAAGTGTTTGAGGCCCCTTCTCTCTCTTGTTCTTGATGCCAGAAAATAATTTCATGCCAAATCATGTTTTAAAATGCTATTTTATAAACATATGAACAACATATACAACTGCGACAGCTCAGTCCTCCAAAAATAGATCATTTTGGATTGCCACACCTATTAAATGATCACATATACACACTAGTAAAAGCAAGTTGTTCTCAAAAGCCCTATCAACTTATCCATTGGAGCCTTACTTTAAGGGCAATCAATAGTATAAATTGTCATTCTAATATAATAAAATAACCCAGAGAGTCATTCGTACATTTCTCAGAACTTATATACAAACAAACAAACAAAAAAAAAAACTGTATCACTAAATACATACTAACTTTTTTAATTAAAAAAAAAATTTCTTTCCAATGGTGGTTATGAATGCCATAACCCTACCACCCCACCTAATGATAACTTAAGAGGAGGCTACCAATTAAATGATATGTTAAAGTTATGCCCTCCAGATGTCCCCGAAAGTCATAAATACAAGTGATTTTTTAAAGTCAAGAAAAAAGTTTTAAATCACAAAGTAAAGTATATTTTTTCTAAATAAAAGCCACAACATCAAGCCAGAATACCACTGTAAATTCTTCATGTCTGCTAATAATGGCGAATGACTACTACCGACTGAAAGCTTCTACTTTGCCAAGCACTGCTCAAAGAGTTTTTACATGTCAACACATTAATCTTCACAATGCTTCAACAAGAAAGGCACTATCATAATCTTGGCTTCCAAGTGGGGAAACTGAGGCACAGAGCAGTTAAGTAACCTGCCAAAAGCCACAAAGCTTGGAAGAGGTGCAGCCAAGATTTGAACCACATCAGTCTGATGCCAGAGCCCACTATCTTCAACCCTACTCTCCACTGCTAAGAAGATGCAGCTTCTCCACGAGGTTGGAATCCGTACCTTCCACCAATCTGATGTTTAAGGCTGAAGTCCGGGAAAGCCAGCCTGGGTCAAGGCACACGTCCTCCTTTTTTCCTGTCCAGAACCTCTACTGTACAGCAATTTAACTATTCACATATATGTTTCTGTCTTAGCAAAGTAGTAACCAAAATCCCTGTATTCCTCTGAAACAGCCACCAACAGGGACTTGAACATTGTAGAAGGCTAATTCATAACTATGCTTATTTCTGATGAAGGCTAGACTGAACAACAGCACACACAGTTCACAAACCCAAGGCAAAATGGCCCTAGGCAGGGGCTTTGTCTCTGATGCATATTTAGAAGTCTCCTCTATTCTACGGGTGTAGAGCACGTCCCTGGGGGATAAGGATCCCCTTCACTTAGCAGCCAGACTCAGGGTACAATCAGGAATTGAAATCGCTGCATCCAAACACCTACCCCAATTAGCCTTCACGCTTGCTCTTGAAACCTGTTGTCAAAGGTAGAGCTGAGATTTCTTTACAAGGCCATGCTGTATCTTTATCCCTGTGCTTATCTAAGTGTCAAAGTGATGGGATTTAGGTGCACCCATATGATGCTGAAACAGTGGGAAGAGGGGCAAAACTATCGAAGCCAGGAGAGAAGAAGAGGAAGGAGGAGAAAGAAGGAACAGGGGCTGAATTCCTTCCTTTGAATCCAGTTGCATTTGCAACCTGGGTAGACATTTGGCTCTGGGTGTTGAATGCCCATAAACGCACCTATTCTTTTGAGGGTTCACCAGGGAGTACTTGATTCCCATTCATCCCAAGACTCTCAGGGCCTGGCATATACTGAAACAATTTCAATAAACTTTCATTTTAAAAGCTTCTACTTAGAAAAATCCATCCACAGCCACAGCCACTAAAAAGAAACCATTGAGAGCACAAAACAAATAATGAGCTTTGTCACTACACAAAGACGTTTACAAATCTAACCTAAATGAAAAGCATACCTCATGCTGTCAGGTGTCTGCACTCATGTCATTTGTTTAAGTAAACACAATAGCCTATTCATATGAATTAGCTAAATATTAATGCAGTAACTCTTTCAGATAACATCAATTACTGCTGAGCTGATCCTGTGGAATGTCTTTTCTTTTTTACATAAAAGAAATCAACAGATATGTGCTTACATACCATTAGGCATGATTTTTATGTTCCCTAAAAAAAAAGTGGGATTTAGCTGAAGGAACTAGGAATGTTGTTCTTTTCTGCCCTCACTGGGCCAAGCCATGGGTGAGTCTGTAACAGCCCAGGGACCGGCCCAGACCACGCGCACCTATGCAGGCCTGACCTGTGGCAACAGCCCATGGGCAACCCGCACCTTTGTCTTGGTGCCTCGGGAGTGATTTAAGGACTAAGGTGAAATAATGTTGCTGGAATTTCTGGCAGGTAGCCACTTCCCTCGGGTGATATTTCAATCATCAAAGCTACACCTATAAAATCTGCTTCTGCAAAACACAGACACAGCCATACAGCAGGGTACGGGTGCAGTGCTGCTCATCTAGGTCTCAGAGATCCAAGGTTGGGGGCCACCATAAAAAATCCAGGCACAACCCTCCACCCAGGCTCCCATGTGTGACCAGCCCCACCCTGGTGACTGCTAACATCACACCAGCACACAGCCTCTCTTTAAATATCAAGCTCACAAATATGTTTAATGAACTTGATACGGGAGGGGAGGAAGTCTTTTTTTTTTTTTTCCTTTTTTTGAGACAGCGTCTTGCTCTGTTGCCCAGGCTGGAGTGCAGTGGCGCGATCTTGGCTCACTGCAAGCTCTGCCTCCCGGGTTCACGCCATTCTCCTGCCTCAGCCTCCCGAGTAGCTGGGACTACAGGTGCCCGCCACCATGCCCGGCTAATTTTTTTTTTTTTTTTTTTGTATTTTTAGTAGAGACAGGGTTTCACCGTTTTAGCCAGGGTTTCACCGTTTTAGCCAGGATGGTCTGGATCTCCTGACCTCATGATCCACCTGCCTCAGCCTCCCAAAGTGCTGGGATTACAGGCGTGAGCTACCGCGCCCGGCTGGAACTCTTTTATAATTTTACAATAGCTCTTCCTAAAATACACTAGCTTTATGTGAACCTTGAATCTGTAAGATCTAGAAAAATAATAATACTATAAGATAGCCCTACTGTGTTTCCTTCATCAGCAGCCTTGTGTCCTCTGTATGTTTTTGCAGTTGGAAAGGACACACATGGAAATGCCAGGGCCTCCCAAGAACTGCAAAACAGCTGGAGACAAACACCATCCAGGCACTTAGAACGGGCTCCTCTACCTAAGGAAGCCCCTTTTATACCAAGGCTCGTGAACAGCTTTAACAACTCTCATTTGGAGAAGGAACTCATGTACCAAATTAAAGATCTACTGAAGCAGAGATCAGCCTTGTCCATAGTAGATGCTTAACAGGGATGTTTACTCAACAATCTTATCTAAAATGAATCTGCAGGCCAGGCGCGGTGGCTCACGCCTGTAATCCCAGCCTTTGGGAGGCCGAGGTGGGCGGATCACCTGAGGTCAGGAGTCCGAGACCAGCCTGACCAACATGGTGAAACCCCGTCTCCACTAAAAATGCAAAAATTAGCTGGACATGGTGACGCATGGCTGTAGTCCCAGCTACTAGGGAGGGTGAGGCAGGAGAATTGCTTGAACCCAGGAGGCAGAGGTTGCAGTGAGCCGAGATCATGCCATTGCACTCCAGCCTGGGCGACAAGAGCAAAACTCTGTCTCAATCAATCAATCAATCAATCAATCAATCAAATGAATCTGCAAGCTAAGGACACATGAGTTTCCCTGAACTTTATATACCTTAGAGGTGTATGAAGAGCGGGCTTAAAGTCAGCTAATAGAGACGTGTGGTATAAACTTCCAATGGCATTCAAAATGAATGACACTAATCCACCTGTAAAGGAAACAAATTAACCTCGATGAGAGGTATGGTTCCTTTGGCTCTGACATTCTTAGACCTTCTGATGTAATAGGTACCACAAGAATGATGTTCTCCTAATCATCAAATACTAAGAATGAGCTGGTTAAAGAACAGTCAGACCTAGCCACAATCAATCAATCCCATCCCATCAATTAAATCCCATCACCAGCATATAGCATACCTACTCATTATCATTTTCTACACTGTAACAGTCATTGCACATTAGTAATAATATTAAGTAGAATTTTACTTTAAGACAACAGAAGTCTTTTAAGATGCAATGAGTTAAAGAGAGATTTATAAACCCACAGAAACTTCCTTCAAAGGACTCCAACACAGCCTTTATTATTCCCACCCTAGAGCCAAGTTATTCTTTCTCAGGGCCCCTTCTTTGTGATAGATGTGTGCTTCCAACATTAGTGTCTCTGTACTGAAAAATACTCCTTCTGATGCTGACCAACAACAGTAGGGCACCTGGAGGGTACAGCTGGAGTTGTCTTTAGCCTATGGAGTAGGCACTCAAGCGTTATTGGATGGATGGATGGATGGATGGATGGACGGACGGATGGATGGACGGATGGATGACTATTAAAAGCTTTAGCTATAAAATGAAGTAGTTGCACTGATTAAGGTCCCCGCCAGTTCGAACATACTTTCCAGGTATCTATGTGCTAGACAGGTATTGATTCTGTCAACAAATGGTAGGATTATGTGATTTCTTTTGACCCTGCAATTTAAACTTAGTGAGAAACCATAGGCTGCTGGGCCTGCCCCCACCAAAACCCTTGCACATCTCAATGCTGACACCTAAGGTTTATAATCTACTCTCTCTCTCTCTCTCTCTCTCTCTCTCTCTCTCTCTGGAACCAAAAAACAGAGAACACGGCCCAATGATTTAAAGGAGAAACATGGAATCATATTACCAGGCTGTACCAAAAGAGACCTCGGTGACCATCTGGCCCAACGACTGATGATATCAATGTCATCCAGAAAGGTTAAGTGATTTGATCAAGGTCACACAGCCAGAGGCCGGGCTGAGGCCAGGCCCATCTCCAGCTCCCTGAGCAGTGTTCCTTCAACCACTCCAGCCTGCCCTTTGAACTCTCCCATGGTAATTAAGTCAAAAGTTCAAGATTTATGTGAGCCGCGGCCACCAATGACTGCCAACTGTATTTTTATGGATGCAAAAAATTTTAAAAACACAGCCTGTTCCAGCTCCTAGATTAAGTCTCACAAACTCTCTAAAGCCCCACTAAAGCCTCTGTCTCGAGTCTATAATTAGGGCTTTTAAAAATATCACTAATCAGGACATTTGAATGCTTTGACTCCTGACAGGGGAAAAATGTCTCAGAGCTCCCCACTACCCTGCAGTTCTGCTTTCAGTTTGGTATAAACTAAGAGAAAACAAATCTAACAAAATACGGAGATGTGAGTGAGGATATGATTATGAGGGGGTATGTCTGTGGCTTTGAGAAATCTCATTAAAAACTTGCTAACCAGCCAGGCATTCAATCAGAAATATATGTTTTCAAAACCAAGCAAGTTAACCACAAGTGAAAGAACTGAGCCCACTAGCAGACCAGTTAGCCCATGGGAATTCCCAAGATCTGCCTTCAAAGGAAACTTCTCCAATCATTGGCTATGCTGTTTGACCAAGGAGGAGACTGAGAAAGATATTCAGTCCAACCATTGGATGGAACACCATCAACAGTATTTGTGATAAAATACCAAAAGCAGCTTTTTCTTCTTTTTAAGAGACAGGGTCTTGCTCCGTTGCCCAGGCTGCACTGCAGTGGTACAACCACAGCTCACTGCAGCCTTGACCTCCTGGGCTCAGGTGATCCTCCCACCTGAGCCTCCCAAGTAACTGGGACTGCAGGCATGAGCTACCACACCTGGCTAATCTTTTATTTTTTGTAGAGATGCGGTCTTGCTATGCTCCCGAGGCTAGTCTCAAACTCCTGGGTATACACGATCCTCCTGCTTCGGCCTCCCAACTAGCTGGAATTACAGGTGCGAGCTGCTATGCTGGCCCAAACCAACTTATTGATGATGTTTTCATTACAAAGGGAATTTCTAAAAATTTGCAAAGCCTGTGTGGGTTTTTTGTTGTTTTTATTACTGATATTGTTCTTTTCAATTCCTAGAAACTTCAACACAACTAAGAAGCCTGCTGTTACCAACTTAGGATCTCTACCAAGTAAAAATCCCAATTAGAACAAAGGTGACTTTGAACTGTTATCGGCAGGTTAATCAATGAAATGAGTTTGGAATCTCAGGCTAACTACCTTCATTTTCCCTAGGTACTTCCAAAAAAAATAGCCTTTCTCCCTGACATGGAGTGTGGGCATCTGCAGGTCTCAACAGGAATGAAACCAAAATAGAAAATTACTTTTTCTCTCATCACTCGAGAGAAAGAACCACTTTAGCAGCAAGAGTCTTGATGCAACTGTCTCTCCATCACTTCCCTCGAGTTAAGCAATGGACCTGAACTTTTCGTCCATCATGATCTTCTCAAAAACTAAGTCTCAAGCTCTTCAGAAACATTAATCACCGAAACAAGCTGGAAACAATAAAAATCCCTCGAACAAATGGGTATATGCATCTACCTAGTTGCTGCCAGATAACCCATTAACATACCTAGTACCTAGGGAAGGCAAGAACTAGTTAACTTATACTTTTCTATGCGAAAGGATAAATTCTCAACCCTTCAAAACCCTCAACCTGGATGCATTTCAAAAATTAGCATATGAAACTGCAACTTTCTTTCTGGAGAAAATGTGTTGCACCGAGGGGCATATGTAACAGCATTATTTCCTGGCAACCAGGCTTGTAATGACATCACAGGACTGTTCCACTTGGAAACATCTAGTGCTGGTACCATGTGAGGTCATCAGCTAGTCAGCTGCTAAAATATGACCAGAGAATGCCCTGCACATCTGTGATGAAGAAACCAACTTAAAAAGATCAATCAAATCAGCCCATGGCTGGGTTTTTCAATGCATGTACAACATGATGTTAATAGATACAGTTTTTTGTTTTTTTTTTTTTTTGAGACGGAGTCTCACTCTGTCGCCCAGGCTGGGGTGCAGTGGCACAATTTCGGCTCACTGCAACCTCCACTTCCCGGGTTCAAGTGATTCTCCTGCCTCAGCCTCAGGCGCCCGCCACCAAGCCCGGCTAATTTTTATATTTTAGTAGAGATGGAGTTTCACCATATTGGCCAGGCTGGTCTCGAACTCCTGACCTTGTGATCCGCCTGCCTCGGCCTCCCAAAGTACTGGGATTACATCCATGAGCCACCGCGCCCGATCTTTAATTCTTCATTGTTATTTTTGCCATTGTATTTGGCACCCAAGCTTTTCGTACTCTGTACAGAATCTAAAAAACACTCTAGCAGGCAGCTGAGCTTGCCTTCTTATGTTAACCAACAAAATTAGATCAATAATCTAGCAAATCAGCAGAGGGAATAACCTGCAATATATTTTTCCAACTGGAAGATACAGAACTAAATTTTCAATGTCTCAATCCAAAAGGAGAAAAAAAAAAAAAAAAAAAAAACTCAAAAAAGCCCAAAAACGTCACCATCAACACAGGGTCACTGGAGCATCATTTGTCAAAGTTCCTAAAGAAGAACATACAAACACACCCCAGTGGCATTTTCAGACAATCAGAAGGCACCAAAGAAATCAATCTGGACACATGAGTGTTTTCCAGGTGGCTGAAAATACAAAGAATTTGGTGCTTCTGCAATTTTCCCTATTAATCGGGTCAGGCATTTGACACTTGAGGTGGCAAAAAATTGTTTTAATGGCAACGTCCCCTTTCCTGCCTTGCCAATTACCCCGGCCGTGGCATTCCTCTGTCCACACAGACCACAGCTGCTTAATCTCAGCCGCCCCAGGCTGCACCTGTGAATCAGACCAGCCTAATCACACTAACAGATGGCAGAGGCCAAGTAGCCAGCTAAGAACCGCTATCACTTTAAATAGCATCTAATGTTTCACAGACACCAAACAGAGGCACCTCCTCACAGCAGTATCTCCCTGGTACAGCTAACACTAGCCCTTAATCACTGCAGAGCACCCATTTCAGGGGCAGAGTTGCTGTCATTCGAGAGCTAATTACAAAAGAACCCTGCTTGCAAGGTGAAGGCATGGCAAGTACACTGTTGGTTGGCATTCATCACATGGGTGCTCTACCCCCTGGCCCTTCTGCATGGGCGCTGGGCAGTTAGGAACACTGTTCACAATGCAAAGCATAAGGTCCACAGCATATAATCCTTCTGAACCACTCAGCCTGCCTGTCATGTAATCCATACCTTGCTGTTGCATTCTATTGCTTCACATGGTTTCACGGTAACCTGCTATTAGGCAGGTAGCCGACAACCAGGACAACGCAGTTCCCCAGGCATCCAAAAACCAAGCTGACAGAATCTGATGTCTCAATCCATAGCGAGGGCACCCACATACAGTAAAACTGGAGAGCTGTAAACACCTGTACAAGCATTCTCACTCCACCCCCATCGTGACCCTAGGATGCTCTCAGGCAACAGGCCTACAACTGAAACGCAGCCCTTCTTTTGCTTGCTAAGCCACAATTTTCCATTCAATAAAGCAAGAATAAATACTCTCTCCACCTGATCGGGTTATTGGTGGCATGGACGGAACCAGCAGCCAGCACAGAGCCTGTCTAGTGCAGGCCCTCAGCATCTTTGCCTCCAGCTTCATGCCAGAGCCACTGGCCAAAAGAAGTGAGTGGGCCAGGTGCCGTGGCTCACGCCTGTAATCCCAGCACTTTGGGAGGCCGAGGCGAGCAGATCACGAGGTCAGGAGATCGAGACCATTCTGGCTAACATGGTGGAACCCCATCTCTACTAAAAAATACAAAAAATTAGCCGGGTGTGGTGGTGGGCACCTGTAGTCCCAGCTACTCGGGAGGCTGAGGCAGGAGAATGGCGTGAACCCGGGAGGCGGAGCTTGCAGTGAGCCGAGATAGCACCACTGCACTCCAGCCTGGGCAACAGAGCAAGACTCCGTCCCCAAAAAAAAAAAAAAAAAAAAAAAAAAGAGGCGAGTGACATGCTCCACTTATCAGTGCTTTTTATTAAATAACAATAATGATAACCTCTTTAGAAGGCTGGTACAAATCACAGAAGATACTTCCACTCACCTTATTATCCACTGTTTTACGAACAAGACCACTAACAGTAAGCTCCCATTCAGGGCAGACCTCCACGTGCAAATTCTAAGCCAGTGGTTCTCGCATTTCAGTGTGAATCAGAATCAGCCCCAGAGTTTCTGAGGCAGTGGGTCTGAGGAGGAACCTGAGAATCTGCATTTCGAGGGAGTTCTCAGGTGATGCTGATGCTGCTGGTCCAGGAACTTTACTTTGAGAACCACTGCCCTAAGCTTCCTCTTGACAAAAAGTAAAAACTGCACCAACCAAAATATTTCTCTTTTGCCCCAGCTGCTAGGAGACTCAGGGACAAATCTAAGTCTTCACTTAAGTAACTCATTTATCCGAGGCACCTACCAATATCTATTTTATCTTTTTCCTTTAAGAAGACAGGCCGGGCGCAGTGGCTCACACCTGTAATCCCAGCACTTTGGGAGGCCGAGGCAGGCAGATCACCTGAGGTCGGGAGTTCCAGACCAGCCTGACCAACATGGAGAAACCCCGTCTCTACTAAAAATACAAAATTAGCGGGGTGTGGTAGCATGTACCTGTAATCCCAGCTACTCAGGAGGCTGAGGCAGGAGAATTGCTTGAACCCGGGAGGCAGGGGCTGCGGTGAGCTGAGATCGCACCATTGCGCTCCAGCCTGGGCAACAAGAGCGAAACTCCCATCTCAAAAAAAAAAAAAAAAAAACCTAAAGGACAGTCTTTTCAACAAATAGTCCCAGAACCACTGGACATCCACAGGCTAAAAAGTGAATCCACACACACACCTTACATCCTTTACAAAAATTAACTTAAAATAGATTACACACATAAATACAAAATACAAAACAATAATACTCCTAGGAGGTAACATAGGAGAAAATCTAGATGACCTTGGGTTGGGTGATGACATTTTAGGTATAACACCAAAGGCACCATCCATAAAAGAAAAACCAGACTACATGAAACTTAAAAATTTCTGCTCTGCAAGAGACACTGTCAAGAGAATGAAAAGGCAAGCCACAGGTGAGGGGAGAAACTATTTGCAAAAGAGATGTAATAAAGGACTGTTATCCAAAATATACAAAGAACTCTTATAACTCGACAGTAAGAAAACAAACAACCTAATTAAAAAATGGGCCAACGGCCTTAACAGACATCTCACCAAAGAAGATACATGGATGGCAATTAATCATATGAAAAGATGCTTCACATCATCTGTCATCAGAGAAATTTAAATTAAAACAACAAAATACCATTACACACCTATCAGAATGGCCAAAATCCAGAACACCAAGCACATCGAATGATGTGGAGCAACAGGAACTCTCATTCATTGCTGGTGGGAATACAAAATGGTGCAGCCACTTTGCAAGGCAGCTAGGTGGTTTCCTACAAATCTAAACATACTCTTCTCACATAATCCAGCAATCACACTCCTTAACATTTACCCAAAGTAATTGAAAACTATGTCCCCACAAAAACCCGCACAAAGATGTCTGTAGCAGCTTTATTTGCAACTGTCAAAACTTGGAAGCAACAGAGTTTGTTTTTTTTTTTTTTGAGATGGAGTCTCACTCTGTCACCCAGGCAGGAGGGAGTGCAGTGGTGTGATCTCGACTCACTGCAACCTCCGCATCCTGGGTTCAAGTGATTCTCATGCCTCAGCCTCCCGAGTAGCTGGGATTACAGGCATGCACCACTACACTTGGCTAACCTATGTATTTTTAGCAGAGACAGGGATTTTGCCATGTTGGCCAAGCTGGTCTCGAACTTTTGTTCCCAAGTGATCCACCCGCCTCGGCCTCACAAAGTGCTAGGATTACAGGCGTGAGCAACGGTGCCCAGCCGAGATATCTTTTAGTAGGTAAACGGGTAAATAAACTTTGATACATACAAACAATGGAATACTCAGTGCTACAAACAAATGACCCATCAAGCCATGAAAAGACATGAGAGAAACTTACATGCATCTTACTAAGTCAAAGAAGCCAATCTGTAAAGGCTACACACTGTATGATTACATACCCTAAAGTCAACCACACACTTTGGGTGATAATGATGGCAGTGCAGGTTCATCAACTGGAACAGATGTACCATTCTGGTGGGGATGTTGATAACAGGACAGGCTATGCATGTGTTGGGGAAGATTATATGGGAAATCTTTGTTCCTTCCTCTTTATTTTGCTGTGGACCTGAAACTGCTCGAAAAAATAAAGTATTGCCAGGCGCAGTGGCTCACACCTGTAATCCCAGCACTTCAGGAGGCTGAGGCGGGTGGATCACTTGAGGTCAGGAGTTCAAGACCAGCCTGGCCAACATGGTAAAACCCTGTCTCTACTAAAAATACATAAATTAGGCTGGGCACGGTGGCTGACGCCTGTAGTCTCAGCACTTTGGGAGGCCGAGGCAGGTGAATCACAAGGTCAAGAGTTCGAGACCAGCCTAGCCAACATGGTGAAACCCCATCTCTACTAAAAATACAAAAATTAGCCAGGTGTAGTGGCAGGCCCCTGTAGTCCTAGTTACTCGGGAGGCTGAGGCAGGAGAATTGCTTGAACCTGGGAGGTGCAGGTTGCAGTGAGCCAAGATGGCGCCACTGCACTCCAGCCTGGGTGACAGAACAAGACTGCATCTCGGGAAAAAATATATATATATACATAAATTAGCCGGGTGTGGTATATTACTTAGGCCTTGTTTAAATGTACCAAATTGACTAAAATCCTTTTAAGAAAAATGTAGAATATACCATGTAAGCAGAGAATCCCAATACCCTATGTACAAACACTTTAGGAACATTCTAGCCAAGTCATTGGAAAATGCAAGTAATGCTATATTGTATTTTGTGTATTGAATAAACATTTGCAAGCAACCACTCTTCTGAGCACTATACAACTAGGAACTCATGTAATCCTCATAACAACCCCAGAAAATAGTATTATTATTATTACTCCCATTTTATAAAGAAACTAAGGCACAGAAGTGAAATGAGCAACTCAGAAGTTGTGGAGCAAGATTCAAACCCAGGTTGCCCAGCTCCAAGAGGCTACGCCATGTTCTTCCTCGCAAGTAAATGGCCTCTCCCATGTTAGCGCTCAGTGTTCATGGCCCTCATTAAGCAAGCCACCCTTGGCTCCCTTTTCAATCGTGGTCTACAAAGTAAGGCACACGTCCTTCATTTTCACTCAGCATGAGGTGTGTGTTGTAGGAGGCCGGGTTTCTCACCCTAGGGATGATTGACATCTTGGACCAGATAATTCTTTGTTATGGGGCTGTGCTCTGCATCCCTGGCCCCTCCCCAGCTAAAGGCCACCAGCACCCCCTCCCTCTGTTGTGACAACCAAATATTGCCCAATGTGCCGGGAGAGCAAGAATAGGCAATTGCCCCAGTCACACACCACTGGATTAAACCAAGCACAATCACTGATTACAAGGAAAACCAAGATGTTACATGGTTCTACTATTCTTATGTCTCTGAATAGGGAGAAGTCAAAGGGAAAAGGGAAAATCAAGGAAAGAAAAGTAGTAACTGCTTTGAAAAACGAATGACCAGTGACACGAGAAGAAAGGACAAACGATAGAGAAGGCTGTGCAGCAACACTGGTTTATTCTCAGGTTTGAAAGTCAGGAAAGTAGACACAGCGGGGAAAGGCAAGGGCCGCGGGACACAGCATGGCGCAGAAGAGTCGACAAGAAGACAGGTGACAGGCAGAACTTCCCTCCATGCTCCTCTCTCGGGGACCATCGGAGCCGGGCAGTTACTTACTCTTGTTGTTACTGTTCTCACTGACAAAATCTTCCGCACCATCGGTGTCATCCTCATCATCTCCGGATGAGATGGCATCTGTATGCAAAAGAACATATTCCATGGATGTGTTTTTTGCAAAGCAAAAAGGTTGCAATTATCTACAACTGAGACCTTCTCCATAGCAAAGTCAACAACCCAGGAACCCTCGCAAAGAGCCTGGGATTGTTTTCAGTTAAGATAGTTTTAATGGCTTAAATTTTCCCTCCATGATGACAGTTGGTCTATGTTATGATTCTCAATGTTTTCTGCTTTCACGCTATTTAAACAGGCTATAAAATTGGATATATGAGAACTGGATTTCAAGCTTCAAACAGTATTCAAGCCCCTGACAAATTTACCAATTGTGTAGCACCCAAAGACTCTTTTTCCAACATTAACCTTTCAGTATGCGGGGTCTCCTTGAAGAAAGAAATTGATCCCTAACAAAACTCAGTCCCTGTGTGGCCCTTCTCATCGTCAACTAACATTCTGAAAGCAGAACTTTAAACTCGGCCACAAAGGGGGCCTGTTCTGTCCCGCTCACTGCATAGAAGGAAATCATGGAGAGAAACTCAAACTCTAATAAATGAATCAGAAATCTTGAGTATCCAAATTTCAACCCTATATTCTAAATGCCAGAGATGTCAGTGGTACAAAAAAAAAAAAAAAAAAGCATGTATTTACTTAAATAAAAGCGTACTATCTTAAGAAAAATGTTACTTTGTGCACAAGAATTCTATCATTCTTAATGATCGGCCTTTCTGGTGCACCAGGTCCCAAAGAAGAATTTCAAAAACTATGAAGCTGTATGCCTGGCATCCAATTACAATTAGAGATCTCACTACCTTTTCACTTGGCCAAAAAAATGTAATGGCTACAGAGAAGAGAGAGCATAGTGCTGGCGGGCCAACTCACCTGTGACATTCACCATGAAGTACCAAGTTTCACTGTCTACAGTCCTACTGGCAGTACAAGCATAGAGGCCGGAGTCTCTAGGCGTGGCGCCCTTTATCTGCAAGTACTCCCCAATAAGCACTGTCCTATTGTTGGGCCCCAAGTGCACCCCATCCTTAGTCCAACTGATCACGGCGGCATCTTTCAACAGGCAGCGCACCTCTAGCGACTCCCCTGGCGCAGCCACGTACACTTCTGGTTGAGAGATTTGGTATTTGGTTGGTGGCTCTGCAGAAAGGTGGGAGAGAGAAGACGGAGACAGATGGGAAGGAGGGAGAGGAGAGAACGTCCAACAAAGGTCAGTGGAGGCCTGCTTATTCCCAGGAGAAGCTGTTCTTGCTCTGCAAATGGCCCCAGCAGGCATCCACCTCTCCCCAAGCCCCAGGAAGTCAGGAAGTATCTGGAAGAGCAACCAGAGGATACCCCCAGAAAATCTGTCCTGACTTAGTTTCCACATCCTATGGGGCTTTAGAAACAAACCAAACCATAGCATGGAAGAATATTCCACAAGAAAATGTTTAAATTGATTGCCAAAGCGTGCTTGCACTGTAATACCTGCAAAAATCTGTTATTGTGGTATGTTTTATTTGTAAGAATGCCGAGTTTTACACATTTGTACGTGAAACGTGACTGTGCGCCACACACACATACACTCTTTATTATTTGTGCTAGACTTGGTCTGTTGCCCCAAGGCCAAGCTTCTTAAAATGAAATGTCTCAAACTCAAGGAAAACTAAGGGATCCCTCTACAAGATTTTTTGCCATCCAGAGTTTTCATGAGCTCTCATGTTCAGATCAGTACTTTGCCGGTTTAGAGACCTAATTCTGTGCTGGGTGAGCTGAGACCTGCTGTTTTCCCAAAATGATAAAAGCCTAGAGGCCTTAACACCAAAAACAAAAAGAGCAAAATGCCCAGACAGCTGCAAGGCAGTCTCCGTTGCACTTACAGGGGTCCTGAAATGAAGCCGCTGGGTGCTGTGTGCCCCCGACTCCACACGACAAAGCTGAGTCCCACCCTGCTCACCAACACCCACCACACATGTCCCAGGCTTCTTCTGTAGGGACAGTCCTTCCTCCCTCTCTTCCCTGTCATCCACCCTCCAAGACCCAAATCAAGCAGGGTCCTCCGTGATGGGAGTCACCTTGCATCAGTCCCCCTGGGCGGAAGAGCACTGGCTCCCTCCCCCTCCACCATACACCTGCCCACTTTGCCAGCTCATGGGATGCACCATATTCTCATGAATGCATCCCATCTCCCCACGGAGACACCAAGACCCTAGAGAAAAGGCGTGGGTCTCATGGTTCTCTGTGCTTCCCGCCACCGACCCCATCCTGCTTGGCAGACACATGGCCATGTCAAACAAGGTCACAGTTCCCAGATATGCAGCACGGGATTGGACCCACAAGGATCCAACCCACACAACCTCTCCACTGGAGTTGAGAGGACACCACTGGCATTTATTAATAACAACAGCTGGAGCGGCCAGCTGGGATGGCCACGAGGGCCCAAGAAGGAGGCTTTCATCCCTCCAGTGAGAAGTGTGAATGGGACCCAGAGTTCCAGGCCTAGAAAATGCAAAGCTTCCCAGCACTGAGACAGCACCAAATCAGGGCAGGATCAAAGGCAACTGTTTTGCCTAGACACCCCTCAGAAGAACAAATCTCCCACAGGAGACTGAAATCAAGTCAATCTGTGTTTCAGTCCCACTGTGAAAGGAGCAAGGGCCACATGCATTGGGGACAAGAAATCCCCCTCACCACCACCATCAACAGCCACACAGGAGGCCCGGGGCTTCTCAAGGGGGCATCACCAAAGGCATGCATGCCAAGCCCCAGATGCCAACTAGCACGTGAACACAAAGAGAGAATCACAACAAAAGGAGGAAAATAGAAGCTAAATGTAACATGGACAAATGCACCCCAAAGCAAGGAAAGCCCAGCTGACGGGCAGGTTATGTTTCTAACATTTGTTTTCTCACTCAGTAATTATTTACTGCATGTCTACTATACAACAAGCCTATTCTGGAAGCTCCGCAGCAAGAGGAGACAAGATAAAGACCCTGCACTTGTGGAGCGTCCATTATGGTGGGGGTGACAGACGATAGATACAAAATCTACAAAAAATACAGTGTTCTTGCTTAAGCATTAGGAAGAAGGACATGGCAAGGTACGGGCACACACAGCAGTGGCAGAGGAGGGCTGGTCCCTTGGCAGGAGGTGGCGGATGATGGCCCGCGGGCCAAGCCAGCCGCAGCTTGTTTTTGTAAACAAAGCTTTATTAGAACACGGCCATGCCCATTCCTTATTGTCTGGCGCTGCTTTTGTGTGTTACAAGGGCAGAGTTCAGTCATTGCAACAGAAACCCTGTGGCCTGCAAGCCCTACAATATTTGCAGTCTTGCCTTTGCAAAAAGTGTTTCAATCCCTGTTGTATAAGACAATCAGAGAGACTTCTCCAAAGAACAGGCATTTGAGCTGAGAAGTGAAGGACAAAGCGAAGTTTAAAAGATGTTGGGAACTTAGTTTGAAGGCTCTTAGAGCAGGTCTCTCAAGGCTGGTTAAGTCAAAATGCGGCTGAATTGAGTGACTAATAGAAATACTTTAAACTATGGAGACCAAACAGAAAAAAGAAAGGAAGAGAAATATGAGAAGGAGGAGAAGACGGCAGGGATTCAGTCTGGTCCCAAATCTTGGCCCATCTCCCACTCCCAACATCCTAGAGTCACAGATTCACTCAACATGAGAGCTGAAGGGGCCCCAAACGCTATTGGTCCAACCCCTTTGACAGCTGGCTAAGGCAAGGACCAGATGTCCTTTGAGTCCCAGGTCTCCAACAACTCATTGCTGAAACAGCACCCACCATGTTAGAATGAATTTACATTGGATCAGTCTGGGTCATAAAATGATCAATGTCTATTATGACAACATCACATGATCAGCAAGTCACCAGAAATGTTATGGAATGTACTTTCCTCTTAGCCAGAATTGATCACCAGGGCAGCCGCTGAGCAGAAGCAGCAAAGCTTCCCTCCCTCACAGGGAAGGCACCTGGGACCCACACACCAATCTGCTCCATCCTGACCCTCAGATAAGGTGCAACCATGTCCCTATGTCACGCAGAGGAATGCTCTAAGACTCCATTAGGGGGAAAAAAAGAAAAAAAAAAGATAAGCAAGGCATTTGCAATTGTGATGCAGAAAAAAATCTCTCTCCCGGCAAAGGAGGAGTTATGATGTATGATTTCCTGTTTTTAAATGAAAGTGTTTTCATTGAGAATCCTTTCCTTCACCTAAAATCAGTAAACCCCAAAATCTTGCTGAAACTGGGGGTATCTGAGCTGCTGGACTACCACGTGCTGTTCTAGAAGGAAGTACAGGGGACAGCGAGGACCTGTGTCTTATTTGGAGCTGGACATGGGAGATGCCTGGTGAAGGGTGCTGCCCTGGACGAGAAGAGGATGAAGCCCTGAGTTCCCACGCCTCTCCATTCCTGCTTAACCTTTTGGCCTGGTGTTCCCCATCTGTTGCAGGGTAAGAGTACCCAAATACTGGTTTATTATTGGTAAGATTCCAATGAGCCAACGAAGATGAACCTGATCATCAACTACAACATGTCGGGCTAATGACTGTCACTATTACTGTTACTCTTCAAGGCGGAAGATGCTTGCCGTGATTTTTTAAGCACCACGATTTTCAGAGGATAATCACAGAACATCTGGGTTTCTTTTTCTTTTCTTTTCTTTTCTTTTCTTTTTTTTTTTTTTGAGACAGAGTCTTGCTCTGTCACCCAGGCTGGAATCCAGTGGCACGATCTCGGCTCACCGCAACCTCCGCCTCCCAGGTTCAAGTGATTCTCCTGCCTCAGCCTCCCAAGTAGTTGGGATTACAGGCGTGCACCACCACACCCAGCTAACTTTTTTGTATTTTTATGAGAGACAGCGTTTACCATATTGGCCATGCTGGTCTTGAACTCCTGACCTCGTGATCTGCCCGCCTCGGCCTCCCAAAGTGCTGGGATTATAGGCGTGAGCCACTGCGCCCAGCCAGAACACTTGGATTGCTATCTCCAGATACAAAGTGATTTTACAGGAGTCCCATCTCAATGGACAGTTAAGATGACTTGACGTACTAAAACTGCTTTTGATCCCAGTAAAACCAGATCAAAACTGTCATCTAGATATCCAAGCTTCAAGGATAGTAAAATATCACCCCCTAAAATACACCAATGAGATAATGATGTTTATCCATAAAAATCAAGCCATCCTGTCTTCAAAGTCTCAAACCAGTAACTGCTGTCTTGGTAAACTGAGAAAGCAAGGACTCCTCCCTCCACCCCTTCAGTGGTCATTTCACAAAGGGCCCATTTTGGGGATCAGCGGTGCCTTTAGTAAACATGCCAGTAATACCCCTGGGTATCCCAGAAGACTCTGCAAGCACATGTTAGGGAGAATGCATGAATAAACACACAAGAGAGAAAGAGGTTGGGGAGAATAAAAAGAGGAGGATGTAAGTAAGAAGAGAGGCAGGGATGGGGTGGGGCCATACGCTGGGGAGGGGCCAAATGCCACACTGGTAGCCTCCCAGGCCACCCAGTGGCCCCCCAAGCCCAGCCTGCAGGGCCCAGCACACACGACACATATCAAAGACAACCCCGGCCAGGGGGCCAAGAACACAAGCACCTAACAGCTGGCTCAGTGGAAGCAGCTCTGTCCCTGCCCGTGTCCTTGGGTCCATTTGCCGTCCACAGGGCTTAGCTTCTCTTCTGGGTTTGAATGCTGCAGGTGACCTGACCCGCTGCCCACTCCCTGCAAACATGCACTCCCTGAGCCCTCCATGTTCATCCCCACAGTTGTACTGACCTGGCCCCAGGCTGCGCGGAGCCAGGACAATCAGAGAATCCCCTGTGCCTGCATGTGCAAAGGGGCCTCCCTAACTCTGGTCACCCCCCATGGATGGACAACCTCTCCCTGACTCCACCAGGCTGCACAGCCTGCTCTGTGAAAGAGCAAAGAATTCCCCAGGAAATGTACATAACTCCTTTTATAGTCATGTGAGCACTTCCTGGATTTACTTTTTCCCATTGCTGTGGCATACTTTTCACCTTTCCTGTGCGAATCCACCAGGGGTGCACAGCCCAACATCTCCCTCATCTCCTGCCAAAACGCAATGGGGAGAAGGTTCCAGAAGCCGCCTTGCTATGCACAAATGCTCTTTCAGAGGCTTCCACAGACAGAGAATATGTTTCCATGTATTTTTCACAATATGAATTAAAAGTCGAAAAGAAGCAAGCAAGCTTCACAGTAGTATTGGCCAATCTTTGTCACTGTTTCCTAAAACTGGTAAACAAACAAGGCACCAAGTCTCCTTCCTGGGACACAGCTCAACACTCGTTTCTACTGCCGTGGCCACACTACTGCAGCCCTGCTGCATAAAGCTCAGTTGCATCCACGTGAATTTTCTCCCAGAAGTTTCAAATACTTGGGAAGTACCAGCAGCGTGTTAGCAAGCAGCCTTTTTTTTCTTTTTTTTTTTGAGACGGAGTCTGGCTTTGTCGCCCAGGCTGGAGTGCAGTGGCGCGATCTTGGCTCACTGCAAGCTCCACCTCCCGGGTTCACGCTATTCACCTGCCTCAGCCTCCTGAGTAGCTGGGACTACAGGAGCCTGCCACCACACCTGGCTAATTTTTGGTATTTTTTTTAGTAGAGACGGGGTGGGTTTCACCATGTTGGCCAGGATGATCTTGATCTCCTCACCTCGTGATACGCCCACCTCAGCCTCCCAAAGTGCTGGGATTACAGGCGTGAGCCACCGTGCCTGGCCTTTTTTTTTTTTTTTTTTTTTTTTGAGACGGAGTCTCGCTCTCTCCCAGGCTGGAGTGCAGTGGTGCGATCTCGGCTCACTGCAAGCTCCACCTCCTGGGTTCAAGTGATTCTCCTGCCTCAGCCTCTGGAGTAATGGGATTACAGGTGCATGCCATCACGCCTGGGAATTTTGTTGTTGTTGTTGTATTTTAGTAGAGACAGGGTTTTACCACGTTGCCCAGCCCAGTCTCAAACTCCTCAGCTCAGGCAATCCACCTGCCTCCGCCTCCCAAAGTGCTAGGATTACAGGTGGTAGCCACCGCACCTGGCCACAAGCAGCTTCTTTAAAAACAAACAAACAAACAAACAAACAAACAAAAACGACTGGCCGGGCGCGGTGGCTCGTGCTTGTAATCCCAGCACTTTGGGAGGCCGAAGCGGGCGGATCACCTGAGGTCAGGAGTTCGAGACCAGCCTGGCCAACATGGAGAAACCCCGTCTCTACTGAGAATGCAAAATTAGCTGGGCATGGTGGCGCATGCCTATAGTCCCAGCTACTCGGGAGGCTGAGGCAGGAGAATCGCTTGAACCCAGAAGCTGGAGGTTGTGGTGAGCTGAGCTCACGCCATTGCACTCCAGCCGGGGCAACAAGAGCAAAACTCCATCTCAAAAAAAAAATAAAAAAAAAAATTGACTGTTTTGATACTTTAAAAATGAGAGAGACAGGTACTTGTACAGCTAATCAAAAAATAAATGGGCCAGGCACAGCAGGTCATGCCTACAATCCCAGCACTTTGGGAGGTCGAGGTGGGAGAATCACTTGAGGTCAGGAGTTCAAGACCAGCCTAGGGAACATAGTAAGATCCTCTCTCCACAAAAAATGAAAAAAAAAAAAAAAAAAAGCCGGGAATGATGATAAACACCTGTAGTCCCAGCTACACAGGGGGCTGAGGTAGGAAGATCGCTTGAGCCCCAGAGGCTGCACTGAGCTATGATCGCGCCACTGCATTCCTGCCTGGGTGACACAGCGAGACGAGAACCTGTCTCCAAAAATAAATAAGTAGCCCAGGCACAGTGGCTCATGCCTGTAATTTCAGCACTTTGGGAGACCAAAGCGAGTGGATCACCTGAGATCAGAAGTTCGAGACCAGCCTCACCAACATGGTGAAACCCATCTCTATTAAATATAAAAAATTAGCTGGGCGTGGTGGCATGTGCCTGTAATCCCAGCTATTTGGGAGGCTGAGGCAGAGGAGAATCGTTTAACCCAGAAGGTGGAGGTTGCAGTGAGCCGAGACCATGCCATTGCACTCCAGCCTGGGCGACATGAGTGAAACTGTCTCAAACAAAAAAAAAACACAAATAAATAAATAGTATGAATAACAACAGGCATCTGCACATGAGCTGTGAGTAATTCCTGCCTTGACCTGGCCTTCCTTCCCTAAGAAAACCATCCTGTTATTCCTTGGGAGCTCATAGGACCTCTGACTGGGGAGAGAGAGAAACTGAGGCAGGGGCTGCCTGACTCTCCGAGCCCCTCAGCAGACCATTTGACATCACACAGAGTGCCACTAGCCACAAGCTGCATGAATTTACCTCTCTATAAGTAAACAGAGAGAAAAAAATCCTCGCTGTGTGTGAAGATAGCCCCAGGAGGGGGAAATCTTGTAAAAGTCAAAAAAGGCTGTGACTTATGTGACTTCACTGCACACATCCAGCTGGACTTCTCACCCATCTCAGCGGGAGGGTTGTCTTGAGACAGTTGAAACAGCAAAAGGGTTTGGAAACGGTAAGCTATTTCAGGTAACACTTTACGTTGCCAAACCAGCGATAGCAGCACTTCAGACTGTCACTTTTTATAATGTTTGCCTATAAACTTTTCCCGTGTGGTTTTTGAAATGGCGCCCAAATGCAAACAGAGAACAGATGGGAAACCTGAGTCTTGCCCCGTCCAATCACTTCACGGAGAATGGACGACAGATTTAAACTGTTAAGGAAGAAAAAAGCAGTTTCTACCAACGGCACAGCTCCCTCCATTACTTTTCACAAATTAAGCCTTTTCTGGGGTTTCCCAGGGATGGTGTCTTTTCCAACGTCTAGATCATCCTAGTTCCAAGGATGCGGTGGGGTCGTCCTGGAACCCATCCCACTGAGGTTTCTCCCTCCTCCAAAGTCAGAGGTGTCCAATCCCTAAACACATTCCTCCAGGAAGAAGAAAGAGAGAAAGAAATCCCTGAACAGACTCCTCTGGAAGAGACAGAAGGATGAAAGAGAGGGAGAGGGGGAAAAAGGAGAGGAGAGACGGAGACAAGGAAAAGGAAGGGAGAGAAACAGAGGGAGGGAGAGGAAAGAAGAGGAAGGCAAGAGGAAGAAAGAGAGGGGAAGGGGAGAGGAGAAAGAGGGAGGGGCAGAGAGAAGAGGCAGGTTAGGAGCACACCCGGGAGGCATGTCCTGTCAGGGTTGTGGGTTGCAGGAAGAAACCCGTTTGTACCTGGAGGCACAGCTGGGACTCCCACAAGCACTGTAACAGGAGCGCTGCGGGAAGGGTAGTAAAATGGCCTTCGGTTCCCGGTGCCCTCCCACACCTCCTGCCACCTTGTACAGAGTAAATGTCACGGCTGTAGGGCTGTAGGGCTGCCAGTGTCTCTACAGGAGAAACACAGTCCGGCTGCAAATGTCGCTACATAGTCACTGCACACAAAGCACATGGCAAGTAAGTGGCCGCCACTGTCCTCCCTGGTCCAGTAACCCCCAACTGGCCCTCTTAGTCTGGAAGATGTCCTGTAGTGGCCACGCCCAGTCCCAGTAAGAAGTCCTCACTGGTCAATACCCAATTCTCTGTCCGTAGGAACAGAAGAGAGATTTCTGCAAGATAGGGTTTCTGGAAGAGCCCAGCCCCCTCTTTCCTATGGCACAATCTGGGTATCACTGGCATCAGAACTTATCAGCAGAAAGAAATAAAGGCAATGGAGGCCAGGTGCGGTGGCTCATGTCTGTAATACCAGCACTTTGGGAGGCCCAGGCAGGTGGATCACTTGAGGTCAGGAGTTCGAGACCGGCCTGGCCAACAAGACGAAACCCCGTCTCTACTAAAAACACAAAAATTAGATGGGCATGGTGGTGTGTGCCTGTAGTCCCAGCTACACGGGAAGCTGAGGCAGGAGAATTGCTTGAATCCGGGAGGCGGGGGTTGCAGTGAGCCCAGATCGCACCACTGCACTCCAGCCTGGGTGACAGAACTAAACTCCATCTCAAAAATAATAATAATAATAATAATTAAATTAAAAAATAAAGGCAATGGAGTCCCGCCATTGAAGTCAGAACCAACCACCTTTGCATGCCCTGCCATGAGGGCTGTGTACACAGCAACGAAGACAGCCTGCTGCAGCCCAGACATCCTCAAAGCCTCCCCTCTGCAAGAGCCGACTTGCAAGAAGACCAAATTCCTCACATCAAACAGAGACCTTATAAGGCATAGGTACTACGTGTTCTTTAAGGGGGCGAGGAAGGGACAAATACTCCGCACAATATAAAGGTGAAAGTTCTCTACCTCGAGAAATACTGCCAACATAAAAACGGAGAACAAAAAGAAGTCAAAGCAACAAACAACAGATAAGTACGCAGGATGAAAGGGTGCAGTCCTCTCTTTCTAACCAGTTGTCAGGGTGTCTGGTAGACACAAGTCGGGACTGAAACCTCCCTGGTCGCTAACAAGGATGCCGGTAACAACAGCTAACAGCCGCCTCTGCAGCGGTAGCTGGATTTCTCCAGAAACTCCAGACTGGCTCATGTTCCTAGTCATCAGATGGGATCATGGCTAATGTTTCCAATATGGTAACCATTAAAAATTATATATTTAGGCACACCCCTCATATCATTTAAGTCTGCCTTTGAGAAACATGCTGGATGGCTCTTCATGTTTGAAAGAAATTATATTGTTGCCCATGAGAAAATAAAAATGCACACAGAGTAAAGAGCCTAAGAATGCACTTACTGAGGAGTGAGTCACCGTGTCTCCCAATGTCCCCACCCACAGTGGAAATCCGCACTCCCTGTTTTGTCAGTATCCCTCTTGCTTTTGATCTGATGTTTTCGGCTGTTCATGACAGTGTTCTCCAAAAAAAGATGCACAGAGGGAAGGTTTTCTCTCTGGTCCCAACACGTGTATTAAAGTCATATTTCATGAGTGAAAAATTCCTGATGGACCACTAAGACGCAGGTATTGAATCAGTACTGTGTGCATAAACTCCTAGATATGGGCAGCTTTGCTTGCATAAGAACTTCAAAATTGAGTCCTGGCCGAGTGCGGTGGCTCATGCCTGTAATCCCAGCACTTTGGCAGGCCGAGGCGGGTGGATCACCTGAGGTCAGGAGTTCAAGAGCAGCCTGGCCAACATGGTGAAACCCCATCTCTACTAAAAATACAAAAATTAAGCCAGGCATGGTGGTGCACCCCTGTAATCCCAGCTACTCGGGAGGCTGAGGCAGGAGAATCGCTTAAACCAGGGAGGCAGAGGTTGCAGTGAGCCGAGATCGTGCCACTGCACTCCAGCCGGGTGACAGAGCGAGACTTCATCTCAAAAAAATAAATAAATAAATAAAAATAATAATAATTTAAAAAAATAAAAGGCCGGGCGCAGTGGCTCACATCTGTAATCCCAGCACTTTGGGAGGCCAAGGAGGGTGGATCACCTGAGGTCAGGAGAGTTCAAGACCAGCCTGACCAACATGGAGAAACCCCGTCTCTACTAAAAATACAAAATTAGCCGGGCGTGGTGGCACACGCCTGTAATCCCAGCTACTAAGGAGGGTGAGGCAGGAGAATCGCTTGAACCTGGGCGGTGGAGGTTGCCGTGAGCCGAGATCACGCCACTGCCCTCCAACCTGGGCAACAAGAGCGAAACTCCGTCTCAAAAAATAAATAAATAAATAAATCGAGTCTTTTGTTCAGAAAGCATTTCCCAAAGCGACAGGCCATTAGATCATGTAGCGCCCAGGAAATAGATACTTACGTTACAAGCTATGTTGAAGTCCTGCACGCCCCGGCTTGGATGTACAATGAGGAGTCTGTGTGCCTGGCTGCCTGGCCAGCCCAGCCCGAGCCTCCTACCTTCTGAAAATACACTTGCTGGACATAGCAGAGAAAGCTGGTACATCTCCAGCCCTTCAGGGCTTCTTGGGACACACTGTTCTGGGGAAAACCCTTTCATCAAAAGGCATGTGGGGGGCTCACAAGGAGGTGAAGGAGTGAATAGGATGTGCCTGGCCTTTAATGACCCAATCTTAGGGTGAAGAGTGGCCCTACAGAGTTGTCACTCTGTAAAATGAATGCATTGTGATCTCCAGTCCTGAAACTGAACCCTCTGGTCTCAAAACACTTCCATTCCCTGAGTCCTAATGACAGTGCTCAGCCAGAGGCAGCTCTCTTCATCTTACAAAGTAGTAAAGCACCTGTCTCAACAGACAGCTATACCCCAAGCCTCTCATGGTCCCTTAGCAGTAAGGCTATGGCCTCATTTTTGTCCCTTCTCTGGTGACTCTTCAGAAAAGGCTGGGGGTGTTAAAGGTACAGACCAAGGCCGGGCATGGTGGCTCATGCCTGTAATCCCAGAACTTTGGGAAGCTGAGGCAGGTGGATCATTCAAGGTCAGGAGTTCGAGACCAGCCTGGCCAACATGGGGAGACCCCATCTCTATTAAAAATACAAAAGTTAGCTGGGCATGGTGGCAGGCGCCTATAGTCCCAGCTACTCGGGAGGCTGAGGCAGGAGAATCGCTTGAACCTGGGAGGCGGAAGTTGCAGTGAGCCAAGATCACGCCACTGTGCTCCAGCCTGGATGACAGAGCGAGACTCCATCTCAAAAAAAAAAAAAAAAAAAAAAAAATATATATATATATATATATAGAGAGAGAGAGAGAGAGAGAGAGAGAGACACCAAACAGACCTGTCACTGACACCGAGACTATGCCACTTACAAATCGTATGACCTTGAGGCAAGTCCTCGGAGCAGGAACAATAATAAATGAGATAGGACACAGAAGGCACCCAGCACAATGTCTGGCACTTACACATCTGCCATCAGAAAGACCTTCCGGCTGAAATCCTCACTCCTCCGCTAAACAGGAAAAAAAGCAAGGCTGCCTAGCCAGGTCTTCTCAGTGTGGAAGGTCAGGAAATGAGAGAGGAGGGGGCAGGGCTCCTGGTCTATTTCTCAATCCCTAACACAGAATTGGGGGTTAATTATCTTCGGTTAGCATTCTGCTTCCTGCTGGTGCGTACATGTGCGTATGTGTTCTTATGGACAGGAACATGTCAAGGAGGACTTCTCGCCTTTCTAGGAAATTTCTCCTTCCCTGCCACCCCTCCTGTATCCATGGATATACCCAGAATTCTACCTCTGGCTCTTCTGGTCCTTTCCCTGCATTCCAGTCTCCTGGGCACGTGTGGCTTTTCCCACCTCCTCCCCGCAGATGCCACTCAAGTCCCTGCTTGTAGGTTCATATTTCCACCTGCCCGGGGGGAGGAAATACATAACCTGGATGTCTACAGAGGTCGTATCCAAAACAAGCAAGTGACCTTCAACCTCCTCCTCCTCCACCAGCCTCTTCTCTTACACGATGAAGGGAGTCACACCACTGAACTGCCGCCCAAGCTCCAAGTCGGCCCTGAAGCCCCTCTTTTCCTCTGGCCCTTCCTCTGATCAGTCCCCACACCCCTTCACCTATTAGGCCTATCCCTGATAGAAAGCTTAGCTCTGAAAGAAAGTACAGGCAAAACTGCATCCCACAGGTCTCCTCCAGTCCTCCACAAGACCTCTGCAATGCGCCTAACCCATCACCCATGGTGCGCCTCTTGTAGCCACCGCAGACCCCCAGAGGAATCTTCTGAAAAGCACATGATCTCTACTCTTTTAAAAAGGCACAGACCACTCCAAAGTCAGAGAGAATAAAACCCAAAGAACATCATGGCGCATTGAGGCTTGGTTGCTCCAAGCCCCACATCCCTCTCTCTGACACTCTGGCTTACCTGTCCACATGGGCACTGTTCCCTCTACCTACAAGCCCACCCAGCTCTGCTGCCTGGCAGGCTCCTATTCAGCCCAGTTCCAACAGCTCCTCCGTGAAAATCCCGATTCCCATTAAGACACTGCACTGCTCCCATCTCGTCCTGTTCAGCCTCTAGGACATGCACAGCCAAAGACAGTCTGCGTCCCCAGCCCACTCCACCCAAAAGGTGTACGGAGAGGGACTGGAGTAGGGATCAATGCAATGTTTCTCAGACTTTACTGTGCGTAAAACCACGTGGTCAGTTTAAGACAGCTTCCTTGCTCCCACTTCCAAAGATGCTGGGTCAGCTGGGCGCTGTGGCTTACGCCTGTAATCCCAGCACTTTGGGAGGCCAAGACAGGTGGGTCACTTGAGGCCAGGAGGTAGAGAACAGCCTGGCCAACACAGTGAAACCCTGTCTCTACTAAAAATGCAAAAATTAGCCAGGTCTGGTGGCAGGAGCCTATAATCCCAGCTACTCGGGAGGCTGAGGCAAGAGAATCACTTGAACTTCGGAGGCAGAGGTTGCAGTGAGCCAAGATTGTGCCATTGCACTCCAGCCTGGACAACAAGAGCAAAAGTCTGTCTCAAAAGGAAAAAACAAAAAAAGATTCTGGGTCAGTAGGCCTGCAGGTGCGGGCTGACATTCTTTATTTCCCACAGGTGAGGCCTGATGCTGCTGGTCCAAGACCCACACTACAAGAAGTTCAGCTCCAGTGTCCAAGGATGAGACTTTGAGACCCGCCTCTGCCAGTAGTGAACGTGTCAGCTTGGACAGCCTCACACCGCTGAGCCTCAGAGTCATGCTTTAGAGAAGAGAAAAACATCTCCAGTGCTGCCTGCTGCAGGGCAAGGTCACCACAAGGACACAATCAAAGGCTGCCTAGGAAGGCCTCTGTATATTTAAAGTGAGGGGCACGTCTGAGAGCAAGCACTCCTCATCCTGGCGGGCGGTTGGAGGTAGTGGGGGGTCCCCATCCTGCAACTCAGCCCTGGCCAGGAGGGCAGTCCTGGGTTCCTGTTTACGGGGCGTAACTGGCCTGCAGATTGCTTTTTCCAACCATGTGAGAGCCTCTATTCGCATTCCTCTGACTTCAAAACAGGTTTTCTTTCAAGTGAACAAATAGGTCTCATCACATATAAGTTACCTAAATGAGGATTCCTGGAATGTTCCCAGAGACTAAACATCTGAAGATTTTGTGAGATTCATCATTATCAACACCCATGTATGATGCCTGTTTAATTTACAAAGAGGCCTGTGGCTTCTTAAAATACCTTCTACTATTCATCCATCCAACACATTTGAGAGTAGCTGATATTTGCATGTGGGGCACAGTAACACACCACAGAATTCCCTTGAGATGAGAACCCCAGCAGGGCTCAGGAGCCGGATAACTTACCCTAGCCCCACAGCATGCCGAGAATAACCCTGCAAACACCAAACCATGGGCAAGAGTCCCCACAGCTGTGCCTCACGCAGTCCACAGAGCTAAGGGCCTGCGTTACTGCGAGTTGGGGCGGCTGGCCTGCATTCCAGAGAGCATACCCTAAAGCCTGACTCATTCCAGAAGCAGGTTTTCAGGGACAGTCACCTTGCCACACTTACTGTTACCTGTGGCTCCTAGAAGCTGCTGCTGGGACAAGCTCACCTCCCTGATATTGATGTAAACATTCAATAAATGGTGCATACTCCAGCGGATACGTTTGCCCTGTATGGCCCTGAAAGGTCAGATAGATGTCCAGATCCCGTTTGACATTTTCCCCCAAGCCCATAGAGCAGGCCCTCCCACACTGCGCACTTTCTGAATAAAGAAATACTTTTAAAGTGGCCAAGGCTACAAAAGAAAAGGGAAGGTTAAGAGTTATTCCAGGAGGGCAAGGCTGCCTCCTGCTTTCTCAACTCAGGACCTTCTGGGGGTACTGTTTGGCAAGTTGATTTAAAGGGCTCGGCCTTTCTTCTCTCAGCAGGATCTCGGTTCCAACACTCCTTCAGAGTCTGCAGATGTGTCCCCGCCTGATCCCCTCAGCAGCATCCCAGCCATTTGCAAATGAAGCAGCAGCAGCTGGAGACTGGGAAACAGATGGTCTTCCTCATTTGAATGGGTTTGAACGGTCTGCTTGAGGCTCACCAAGTTCAGGCCTGGCCAGCATCTCGAAACCCGTGCAGACGCCTGAAGGCACAGAGTTGTGGCCTGGGGAGCCGGCAGCAATCAGCTGAATGGGAATGACCTGGAGGAAAGGTTCCCCACACTGCCTTCGGGTGGGCGGGACACGGTCCCAGCTGGTTTTGCACCGCAGGACCCAAGGAAGGCAGGTCGGAGCCACAGGGATCACTTTTCTCCTGTGTTTTGCAGAGGAAAGAAAAACTCTCCCTCAGGGGATCCTGAGCCAGAGGACTGAAACCCACATTAATTCAGGACATTCCACGTTAAGAGCCGGCGCCATCACAGTTAACCTTTCTTCCCTGCTCCAAACCGCATATTTGCATAGAGGTAAAAGCTTCAAGAAAACAAACAAACTTTGAAGAGTCACTACCTCTCACAATCCTCCAAAGCAGCATTCAGAGGGAAGCTTTAGATCTCAGAAGGGCTGTGCGCCGGCTCCCACGAATGTAGGCTTTCTGGGACAGGGCATCCCCCAGGCGAGGCACCTGGGAGGAGGCAGAATCCCATCCTGCCCACACCTGGCCTGACTCCCCTGGCCGCCCTCCGGCCATCTCTCTGCCTCCACATTGACCTGGCAAGAAACTCTGCCAATTAGAGGTAGTAACAGAAAAGAGATAGGAAGCAGGCTGAAATGACCCACTCAAATACGGCCTGGAGGCCGCCGGGATGCCCTTGACCGGCCTCCTCACTCGCCACACCTTCAAGGGCAAGCACCTCACAGGAGGGGAGAAGAGGGGCCTCTGAGCCCAGCTGCACGCATTCACTCAACGGCCTCTGCTCCACCTCCATCAACATCAACAGGTGAAGCCAGCAAGGGACAGCAGAGAGGCTAGGCCCTGGAAAATCACCTCACTGGACAAGGGTCAACCTAGCAGGCAAGGTGGCTGGTACTGATGAGGGTCAACCTTGCAATGCAGGTGGGTTTGCTGGGGAATCCAGGTGGGTGCCACCTCCTTAAGGGGAAGACCAGCCTCAGGTGTGGTGGCTAACACCTGTGATCCCAGCACTCTGGGAGGCCAAGGTGGGAGGATCGCTTGAGCCCAGGAGTTTGAGACCAGGCTGGGCAACAAGTGAGAACCCATCTCTACCAAAAAAAAAAAAAAAGAAAAAAAGAAAGAAAAAAGAAAAATCAGCCTGCGCCTATAGTCGCAGCTACTCAGAAGGCTAAGGTGGGAAGACCGCTTGAGCCCAGGAGGTCCAGGATGCAATGAGCTGTGATTGCACCACTGCACTCCAGCCTGGGTGACACAGTGAACAGAGAGAGACCCTGCATTTAAAAAAAAAAAAAAAAAAAAAAAAAGCAGCAGCAGCAGCAGCTTCATAGTCCCAGTCCCTGGGAACTCCTAAACATGGGGCACATGCCTCCGGCCCATGCTTTTCCTTCACAGAATCTTCACCTTTGACTGGACCTAGCCCTTCATTTTTTATTTTTGTTTATTTATTTTGATTTTTTTTTTTATTTTTGAGACAGAGTCTCACCCTGTCGCCCAGGCTGGAATGCAATGGCGTGATCTCAGCTTACTGAAACCTCTGCCTCCCAGGTTCAAAGATTCTCCTGCCTCCGCCCCCCAAGTACCTGGGACTACAGGTGCCTGCCACCACCCCCGGCTAATTTTTGTATTTTTAGTAGAGACCACGTTTCACCATGTTGGCCAGGCTAGTCTCAAACTCCTCACCTCATGATCCGCCCACCTCGGCCCCTCAAAGTGCTGGGATTACAGGCGTGAGCCACTGCACCCAGTCCTAGCCCTTCATTTTTGCAATTATTTGACAAGAGCCTGTCTCCCCCACTCAACTGTTCATTGCTTGCTATTCCATCCCCACAGAACCTGGCACATAGTAGGTCTCAAAAATTATTTGGGGAGCAAATGGATGAAAAAACTCAAAGAAACCACAGCAATTACCCTGCAATCTAAAAATCATGTTTATACCATCTTGCCTCTGCCAAGCTCTGAAAGTTGTCATCGCACGGGGAGCTGCAAATTTAAGAGGGAAATTTGCAGCATCTCCTAGTCAAGAACTCTACGGCCAGGTGCGGTGGTTCACACCTGTAATCCCAGCACTTTGGGAGGCTGAGGTGGGTGGATCACCCGAGGTCAAGAGTTCGAGACCAACATGGTGAAACCCCAGCTCTACTAAAAATACAATTAGCCGGGCGTGGTGGTGCACATCTGTAATCCCAGCTACTCTAGACGCTGAGGCAGGAGAATCGCTTGAACCCGCGAGGCAGAGGTTGCAGTGATCCAAGATCGCACCACTGCACTCCAGCCTGGGTGACAGAGCAAGAGACTCTGTCTCACAAAAAAAGAAAAAAAAGAAAAAGGAATTCTACAACTTTCCTCCAAAACTCAACTCCCACTTGGAAATGCCTGGAACCCCTGAGTGTTCTGCAACTGCTGTACAGGTAGCCAAGAACAAAGTTCAGCTGCCTAAACCAGCCTCGATTCACCTACACATTAGCTGGTACTGGAGTTCACTTTTTATTTTTAAATACCAAACTGATCTTTGCTTGCTTTAAAAATGGGCTCCATTCCCTGGCCTCTTTTTTTCCCCTAAGGACACCCTTTCTGGCCAAGACTGGAAGAAGAGTAGGTGTTTCTGCTTTTGGCCTTTTCATTCTTGGAATTTTTTCTTTTTTGGCTTTCTTAGTCTCTCCTCCTAATCTCTGCAGAAAAGTGACATTAGAAGGGTCAGGTAGTCCTTGGTGCTTGTTTCCATGACCACAGTTCGTGGGAGTCCCAAGTACAGGGGTCTGTCTATGCAGGTAGGCCTTGACTTCATACCCAGTCGTAAATCAGAAATTCTGGGAAGAAAAGCTTGACATAATATCCAAGTGGCAACAGCTGAGGGTTAGCAGGCACTAGGACAAACCAGCAGAGGCATCTGGGACAAGGAATAACTGGGGACGGCCTGCTCTGCTGAGATGGCTCATGCATCAACGGGCAACAGAGGCCAGCCCTTCTTGTTATGGACTCCTACGGTGTGGCGCAGCCTGGACCACCAACTGGGACCCAGTCTCCCATTGGTCTCCTTGGCAGCAGTCAGGGTTAGCCTCTTTCCAATAAGTCACATGCCACCAGAAGCCATTCTAGAAGAATCACAAAGTATAATCATTAAACATTTTTATTGTCTGGAATTTTTCTTCAAATGTCTTTAGGAGAATTCGGTATGGATGTGTGAGAAAGAAACAGAATCAACCAGCAGTGTCCCTAACAGGTTTAATAGTCAAACGACAGATTTAGGAAAGAATGAGGGGTCACCACATTCTCCAGCAAAAAAAAAAAATCCTCCTGCTCAGGAAGAAGGGAAATTTTTCTTACACCAACACATTCACCCAAAGACCTGGGCCCACACTCACTAATGATGAGGTCCTGGAGGAGTCACTTGATCCCCAAGAATTTCAGTTACCTTGTCCATAAAATAAGAACAGGAAAACCCAAGATGTTCTGGGTTATTAAGATGAGAGATAATATATGTTAAAGTACCTAGCACAGAGTCCAACCATGACAGGCACTCAATAAATGGTAGCCAGTTATCATCATCACCATCATCATCATCATCATCTCAAGGAATGGGCTAAAGAAACGTGACCTCATCCATACTGCCCCTACTTCATAGCCTGTCCTACCAAGTAACCTCCATAGGGGTATCATGTGCAAATGCTTGTTCAGCTCCTGTCCACTTCAGTACTGTGGGTCCCATCACAATTTCCTTGAGCTCCCTTCCATGCAGACAAAAATCTCATCTAGGAGTGTTCAGGGGAGGTCACTACAGGCAAACATGGCAAGGATGACCATACCATGTTATGGAGCTCACCTCTCCAGCCTGGCCAAAAGCAGAACACACCACACCGCACCCCACCCCAACCAATCCCATAACCCCTCTCCATCCCGCACCCCACCCCAACCTATCCCATAACCCCTCTCCATCCCACACCCCACCCCAACCGATCCCATAACCCCTCTCCATCCCGCACCCCACCCCAACCGATGCCATAACCCCTCTCCATCCCGCACCCCACCCGAAGAGATCCCATAACCCCTCTCCATCCCACACCCCACCCCAAACGATCCCATAACCCCTCTCCATCCCGCACCACCCCAACCGATCCCATAACCCCTCTCCATCCCGCACCCCACCCCAACCGATCCCATAACCCCTCTCCATCCCACACCCCACCCCAACCGATCCCATAACCCCTCTCCATCCCGCACCCCACCCCAACCAATCCCATAACCCCTCTCCATCCCACACCCCACCCCAACTGATCCCATAACCCCTCTCCATCCCGCACCCCACCCCAAACGATCCCATAACCCTCTCCATCCCGCACCACCCCAACCGATCCCATAACCCCTCTCCATCCCGCACCCCACCCCAACCGATCCCATAACCCTCTCCATCCCGCACCCCACCCCAAACGATCCCATAACCCCTCTCCATCCCGCACCACCCCAACCGATCCCATAACCCCTCTCCATCCCGCACCCCACCCCAACCGATTCCATAACCCCTCTCCAATGTTCTTCGCCGGGCCTAATGGCAATGTGGCAGAGTATTTTGTATTTTGAAGCTTCAAACAGAAAACTCTTTTGCCAAAATACATTGTTCCTCATGAAGTATGTGTCTGCTGTTATTATTACAGAGCTGCAACTGACTTTTTTCAACAGAGGGGAAAAAAAATTTCAACCTTGAACCATTTGGACTGCAAGCAGCAGGATGATCCCATTTCTAAAATCCATGGGACTTGCAAAAGCCCAAGATAATAAAAAGGGTTGGACAAATCCAGGGCCTAGAGCCAGTTTTACATTTTAATTAATGTAAATGCTTCTCATCAGACAATTATCACTATACACTGTAGAGTAAACATCTTATTGGTCCAGGAAATATTGGTAATATTGTAGAGTAAACATCTTGTTGGTCCAGGAAATGTTGACAGGAAGTGGGACAGGGAAGAAATCAGCATTTAATGAACACCTACTCTGGGCCAGGAAATTCAGTAGGGGCTTTACATTTCATTTGCATTTAATCTGCACATTCACCCTTCAAGATAGATACTATCTCTGAGGCTCAGAGAGGTTATCTAACTTTTCTGAAATCACAGCATCAGTAGATAGTAGAGAGATTCAAACCTACCTCCCAAGGTCAAGTTCCCTCTGTTAGTTTATGTCTCCAGAAAGCATACCACATGCCATCCAAAATGATTTTATTCAATTCTATTTTTAAGAATGGCTGATACAGAATTTAGATTAAATGCACAGAAGATTCTTGTTCTTTTAAAAATTTGAGTGGTTTTAAATTTGAAACATTTATAAATGTCCACGATATATATTCAGTTGTGCGTCTATTGCAGCCAGGTAGAAATGCAACATGCATTGGTGGAAATCCAGGAGGCTTAGCAGGACAAGAAGGCTCCTTAAGGCAGCCACACATCTTTGGGGGCAATCCCACTGTCAACTGAAAATCTGAACTTTAAGGGTGTTCAAAGAGTTTAAAACCTAAACTTAACCATTGCAATGATCTTGACATTCATTTTATAGTACACCCCCCTGAGCACATACACACACCATAGATACACACAGTTGGCCTTTTCAATGTCTGGATACTTTTAAAATATTACAACTGGTCACTATGGAAAATTTAACAGTAAACTGTCAGGTATACAAATGGGTCACATATAGTAATATAGGAGCTCAAGGGTTCGAAAATAATCACGATAATTGATATAGAGTTTATTAACGTTAGAGCTCAGAATTGAGTCCTCTCCAAGAAAGGCGCTACATAAATCATACAAATAAATACATCCCTTGTTCTCGTTCTTGAATCTATCAGCATTTTCCTTATAAGCTATTTTTAGCCTCCTCATAAAACACATTCAGCATAACCTGAAACTCTATATGTGTGCATTCCATTCTGAAATGAATTGGAATTTACCATTCTTTAGTTAGACAAGGGGTTAAAGGAAAGAATATACAACAGCTTAGCCCCCTGACTTGGTACTGTCAAAAAGAATCAGAAGTTTTTGAGAGTGGCATGATGTGGCCAAAGTCCACAATGGCGCAGAATTACTTACAGTATTCCAAAGTGGAGTAAATTACACATTCAGCATCTGAAAGCTCTTCCATGGTACCGGTTTCCCAAAACCAAAATTACTGAAAATCTAAAGCACGCCTATTTTACTTGACACACACTCTTCAAGGATGGCCATGGCTTGTCCCAATGATTCATACTTGTGTATAAATATTTAAATGGTAAGAGCTTGAAGTTATATAAATAGAAGTCAGCTACCACATACAAATCACAGTGAGGAAAGAGAAACTTGTAAAAAGTGTGACTTTTGTCTATTACAGAAGGAGACATCTTCAAGACGTGAAGGATCACCACAATGACCTGTCCAGCATCTTGTTCAATCAGACCTCTCCTTAAAAGAACTTAGCCTCTGAATAGCCAAGGCAATCCTAAGCAAAAATAACAAAGCTGGGGGCATCACATTACCTGACTTCAAACTATACTGTGGGGCTACGGTAACCAAAACAGCATGGTACTGGTATAAAAACAGGCACGTAGACCAATGGAACAGAATAGAGAGCCCAGAAATAAGGCCACACACCTACCGCACACCTACGACCATCTGATCTTCGACAAAACTGATGAAAACAAGCAATGGGGAAAAGACTCCCTATTCAATAAATGGTGCTGGGATAACTGGCTAGCCACATGCAGAAGATTGAAGCTGACCCCTTCCTTATACCATATACAAAAAATCACCTCAAGATGGAAGAAAGACTTAAATGTCAAATCCAAAACTATAAAACCCCGGAAGACAACTTAGGCAATATACCATCCTGGACATAGGAATGGGCAAAGATTTCATGACAAAGACATCAAAAGCAATTGCAACAAAAGCAAAAATTGACAAATGGGATCTAATTAAACTTAAGAGCTTCTGCACAGCAAAAGAAACTATCAACAGAGTAAATAGACAACCTACGTAATGGGATAAAATATTTGTAAACTATGCATCTAACAAAGATCTAATGTCCAGCATCTATAAGGAACTTAAATTTACAAGAGAAAAACAAATAACCACATAAAAAGTAGACAAAGGACATAGACACTTTTCAAAAGAAGACATATATACGTCCCACCAGCATATGAAAAAAAAAGCTCATCACTAGAGAAATGCAAATCAAAACCACGATGAGATACCATCTCACACAAGTCAGAATGGCTATTAATAAAACGTCAAAAAATAATAGATGCTGGTGAGATTGCAGAGAAAAGGAAACACTTATATACTGTTAGTAGGAGTGCAAATTAGCCCAATAATTGTGGAAAGCCGTGTGGCGATTACTCAAAGAGGTAAAAGCAGAACTACCATTCGACCCAGCAATCCCATTACTGGGTATATACCCAGAGGAATATAAATCATTCTACCATAAAGACACATGCACACAAATGTTCATTGCAGCACTATTCACAATAGCAAAGACATGGAATCTACCTAAATGCTCATCAGTAACAGATTGGATAAAGAAAATGTAGTACATATACAACATAGAATACTATGCAGCCATAAAAAAGAGCAAGATCATGTCTTTTGCAAGAACATGGATGGAGCTAGAGGCCATTATCCTTAGCAATAAACCAAATACAGAAAACCAAATACTGCATATTCTCATTTATAAGTGGGAGCTAAATGATGAAAACTCATGAACACAAAGAAAAGAACAACAGACACTGAGGTCTACTTGAGGGTGGAGGGTGGGTGGGAGGAGAGAGAGGAGCAGAAAAAATAGCTATTGGGTACTGGGCTTAATACCTGGGTGATGAAACAATCTGTACAACGAACCCCCATGACACGAGTTTACCTACATAACAAACCTTCACATGTACCCCCAAACCTAAAATAAAAGCTAAATTTAAAAAAAAAAAGAACTTGGCCTCAAGTTCTTGACCAAACTACACTAAGAAGGCAAGTCAGGGAGGAAGATGGTGTGGTAAAGATGGGGTATGATTAGCAACACCAAGCATTTCAATGCTAGGAAAGCTAAAAAAAGTAGAGCCATCTCTAAATCTCATGGGATACAGCAAAAATCTCTAAATCATATGGGATACAGCAAAAAGATGGAAAAAAATGCAAAACTTAAGGCTAGGACAGGTGTGGTGGCTCACACTTGTAATCCCAGCACTTTGGGAGGCCAAGGCTGCCAGGAGTTGGAGACCAGCCTGAGCAACATGGCGAAACCCCATATCTACGAAATATTTTTAAAAATTATCCAGGCCTGTAGTCCCAGCTACTCAGGAGGTTGGAGGACCCCTTCAGCCCAGGAGTCCGAGGGTACAGTGAGCCACGTTTGACAATGCAGTGAGGGTACAATTGCACCATTGTACTCCAGCCTGGGTGGCAGATCAAGACTCTGTCTCAAAAAACAAAAACAAACAAAAAACCAAAGGCTAAAATCATCTCTCAAGGAAAAAAAAATAGAGACCATAAGCATTTTGCACAGTTGCATAAAACCTACTGGATCAGAATTATCTGTGGAATAGCCTAAAAAACTTCCAAAAAATAATTTCTGAACTGCCTACAGAGATGTCCCCCTGGCGAGAATCGGACCAGTACAGTGGAGAGTAGCACACCAGCTATATTTCCTACCTAGCTTAACAGCCAGGCACCCAAAAATCAATTTCCCATGTTTTCCTTTAATGACTAAAATTCGCTTCCATGGAAATGTAAGGGTAAGCTAGATTAGAGGGAGTTTTTAACAATTACCCTGGCTAAACAAACACCTAAACAACAGTCTGCAAACTGGAAGACTAGTGGATACATTTTATTGAAACTACGAACATTAAACAAAACACTTCCAGTTTAAACACGACCCCAGTTATTTCATAGCCATGTAATTATTTGTTAAGTCTGATATTAAAAACATCTCATATTGGATTGCTGTGGTTTTGTGAATTCTCACCCTCAACTGGGTCAGAAAGACTTGAAAGGAATAAAGTCTTTACTTATGGCTTGATGCGGGGCCATTGGCATAGTAAGTGCTCTGTCTTTTAACTGGTTGAAATAAACAGACAAAACAGAAACACACACATATACCCCAAATTTGAATCAGAGAGAGCCAGTATAAAATGATACAAGTACCAGTTCTCTGGGCTTGCCAGATTTCTGCTCTATAAGTAATATTAAACATGGCTCTTGGTCTATGAATTGTGAAACACTTTATATACTAATAAAGAATGTGTACTTCATTGTGTATTTAACTGCGTAAGCCTGTATTTGGTTTAATTGACCAAGAATAAGTCCTTGTTCCAAAGCTAACTATCAAGTTACAGTCAACTCTTAAATATTAACACTCATATTGAAAAACAAAGATGCAGATAATACGAAACAGAAGATTATTTTAAATCATTCACTCTTGGTATGCGGATATATTCTTTCTTCCTTTCTTTTAACTTGCAATTAAATGCGTATGGTTAATATTATGGCATTTACAATACTTCTAACAAAGGACTTAAACCATACTGGAAAAATCTGACTTAGGGAGGTCTCTGTGTAGATCCTGTCCTCGACGTTTCTGCTACTGAACTCTGGACCAACTCACGTTGGTCCAGGAGAGCATCACCTCTCAGAAGATTGACAAAAAATTGCTACACAAACTACATTTTTTTTCAGGTTGTTACTTTTCAGAGTCACACTCTGTGGAGGGTGGGAAAGTAATTAAGGGTGTAGGGTTGAAAAGCCCTTTCATTTTAGCTCCTACTGGGTTGGTGTAAACAAAGATGCCATTAATGTCAACAATGACTTAATTAACCAGAGTAGGTGACAATGTCAGGAAGAACTTGAAAGTAAGAGTTGCCCCCTCTCAGGGTAATCAAGCTTGACTAGACTTCAAATATTTATAATGTTAATCAACAGAATAGTACTTGGCATTGAGGACTGCCCCCCTTCGAGTCAATAACCATGTTTTCACTCCTCTGCTGGTGCCCTATAACAATGAATGACCAAAAGGAAATTAACAATGAATGACCAACTGGAAAACTCATATTTAATCTGAAATATTAAAAACTAAAATCTTCTAGAGATTATTTTCTTAAGTCAATTGAGTGGGCCCAACCCCACTGCTACTATTTCAGAACGTGTCCAGAAGACAAATGATATATATGATATATGATATGACATATGATATGATACGATATTGCACAAAGCCAAGATGACTAAACATAACCTTTCCCTGAGGGGCCAAAAGAAAAGGACCCTCTAGTGTTAGGGCCCAGGCTTCTTCCTGGAACTTCTCAGTCACATTTTTCTCCTATCCAATAGACATTATCTAAACTGAGCTTCCAAATAAATTAGCAAACCAAAAAGTCTTACAAGATAAGACCTTGGTGCACAGAAGGTCAAGGTGGAACTTACTGCTAACCAAAGCTATAGTAGTTCTAATCATGGAGAACTGATGGACAGGGGCACAGGCACGCACGCACGCACGCGCACTCGCGCACACACACACACACACGCACACTCTCTCTCTCTCTCTCTCTCTTCCAATTCACCAGCACAGAGCCTAAACCTGAGCCCATTTTCAGCTGTTAAAAACTCCTTTCTCATCTATAATTCAATGACCTTCCTAATCACCTCTGACACCAAAGCGAACTCCTGCAACAGAAGAACTGGTCTTAGGGCTCAAATCAGTGGCCAGTATTAGACTAACAGATGAGGGGAAGTGGGGACCCTACAGAAAGCAAACACAGCTTCCTGGAAACACCAAGGGCCTCCTCCATCCAAAAACAACTTTCTTCTCAACTGTCTCCAAAAGCCTAGATGTTTTTTGACATTGTGGCACCTGGCACAGCCAGCCCACGGGACTGGGAAGACCCATGTTCCCAGCTCCCTGGCGACAACGGCGACAAGGCCATGCACCCGGTGCTTACTGGATGCCAGCCCCTGTGCTAATTGCTCTTTATGTCCAGGTCAAATGGAAATCTCCTAACAACCTTTTGGTGGAAGAGTCAGAAGACTTCTGAGGACATTAATATTCAATGACTATTAATGAAGAGACCCTAAAGATCATCTTCTTAAGCCCTCAGACGACAGAAAGGGAAACTGAGGCCTGGGACTTGTATACTTTTCCAAAGCCTCTTCTTTGCCAGGTTTTGCACCTTCCTCTAAGACATCTTTTCTTTTCCATCTCATAATTCTGGATGCAAATGAACTCATAGCTCATGGAAACTATAAACCCATAAAAATGCACAAAAGGACATTAACAAAATATTACCTAAAATTTCCAGAACTTCATCGACCTCCTTCCTGATCCATAAGTGCATCCACAGATCCCAGGTTGAGCAGGCCTGCTTCCAACAATACCCACATTGTTGGATGTAAATTCTTACACAAAGACTCACTCGGGGAACTTCGTCCCTTTCCACGATTTCTTCCCTCTGCCTCACCTGTCCCTCCCTGCATGTATACACAATTTTAAACTTCCTTCAAGAATTAAATACAGTAAAACAAATCCTCTGGGACCATTTTACACTTTATGTTGAAATAAACTCACAATAACGCTGCCCTGAAAAGCCAAAATGAAAAATGACAGTTTTTCCCTAACCTGGGTTGCTCCTAAAGCCCACACCGTAGGAAATCCCAGCTCAGCTTCCTCAGTTTTTGCCGAGCCACGCACTCAAGGGAAAACCAGCAATCACGGAAACATCCATTTTAATTATTAGCAAAATTAAAGACGTACAGGCATGACTTTCAGAAACCAGGAACTTTTTCCCTCTTACATGAAAGCCCTGTAAAAATGCATCACCACTGCAAATTACACTCATCCTGGTGTCCCAGCACAAATCACCAAGAGGCAGTTCCATAATCGGCCTGTAGCTGTAGCTATACAAGCCTCAGACACAAACTCCTACCAGATTCCCTTCCCAGAGACGCAGGGAGATGTCACCACACCTGTTAATTATAGAGCTGCCATCCCTCTGTGTAACGAAAAGTTCCCCAGTCTCACACGATTGCTTCAGGTGATAAGTGCTTCGGTCCTCATCCTTCAATGACAAGTGCCTGGGGTCTTCCTGGGGAGCCCATGTCTCTCAGAACTCTCATCTCAGATGGACGCAACCCTCCTTCCTAAACTGTCCTGATCCAGCTAAGGAGGCTGGGCTCTCTGTCCTCTCCCAGCCTACCCCACTGGGTAAGTGTGCTGTTCATTCACCCCACGCACGAGATGTGTTCCCAGAGCAGCTCAGCTTACCCCAGACACCACTCGGACTGCTGCGGGTTCCTAAAGCCAGGCAGGCACCAGGTGGACTCTCCACAAACAGGTTCATTAAGTGGCGATGAGTGCTGGGATCTGCCGTTTTATTCTCGGATTACCACTCGAAAAATAACTCAGCTACCAATATTCCCTACTGATGACAGATTTCAGTGCAGCACCAAGTAGAGGCTTGGCTCACGTTGTCTCCAAAGGGCTGGGAGAGAGGTTCCAAATCTGCTAAGCTGAATAATTCAGCCTCATGTAGTCCTCGTAATTGGACTTACACCTTGAAAATTAAATTTCCAAAGCTGTGACACCGGCGCATGCCCTGTGATACTTGGAGGTTCTCGGAGCTGGAGGAGATCCCCTGGCACATTCACTTTCAAGTTTACCTAAACTAGAATCTGCCACTCTGTGATGATGCATTGCTTAAGTATTATGAATTACAATGGCTAAAAAAAAATTCTGAGATGTCAAGCCTCTCTCTCTGTGCTAAACTTCAGAAACTTCTTTTCTCCTTAAACAATGAAAATAAGATGTCAGCATTTCAGATGTTGGCAATTTCTTTTAGTGGTTCATCTTGTCCGAAAATAGCAATTCTTTACATTGTAAGCAGTAGGAATGATGCTGGGGGAGACTAGAGATGACATTCATCCTCCCAAGGTTCATCCCTTCCACAGCTCTCTCGGGCACTGGATAAAGGCCAACTCCCAGCTGTCTCCCTCACCCAGCACAGAGAAACACACACAGCAAGAAACCACCAAACTATACCATCCTGCCTGCAGTGCTGCGGCAAAGGACCTTCTCTCATCAGCTCTGCCTTGCCGGGAGCCAAGAGACCACGATCTGGTGCTCTTAGAAGCCCCATTTACAATGCAAGGGTAGCTGATTCTAAAACAGGCCTTAACAATCTGCCCCCAGACAAATCCCAAAACAAACCTGAAAAGTGAAATTAAATGACTTACCTTCTGGCTCTAATGTGGTATCCTCAACTAAACTGAAGGAGGGCCGGGCCAGGGACAAGGTTGCCATGGTGACCACGACCAGGCAGATGAAACGACCCCAGCTGACCATGGTTACGGTACCAATCCCCGGTCCTCTTCCATATCTCCATGTGGACGTTAATCCCATCTGCACACTTCCTCTACGGGCATGGACTACGCGCAATGCCTTCAGCCTGCGGTGGGCTCAGGAACCGAGGCGCTGCCGCTGCTGCTGCAGTCACTAAAGGAAAGAGATTGGCGAGTCAGGGAATCTTCCCCAATGCCAAATCACTCCAGCCCAAGTGGGATAAAACCATTTTTCAGCCTCTCAAATGTGCGCAAACAGAGTTCTTTTTCATTATCTGCTAAATCCTTCCATCCTCACCTCAGAGTCCCAGGTGATACCACCAGACCGGTCCACAGAAATGTGTGAGGCTAATCTTTTTAAAAGCATACTTTTAAGAAACAGAGATAAAACAGTAGCTACAGGACTCAGATACGTGCAGCCACTTCAGTGAGGCAATGTGTGCTCTCTTCTACTATCCACTATCGCCTCCACCGCCCTCAATGAGCAGAAGCAACGTGACCTTAGTTTCAAGGGCAACTACAAAAGCAAGTTAAAAATGCTCGGGTTGGCATAACCAACCTCGTTCCCTTCTCTTAGTCCAACTGGGCTTTAGAAAGCTAAACTGTTGGAGGAGTCTGCTCACAGCTCCGTATTTCTGCTGGGCTGGAGGTGAGCAGTCTCCCACCCTCACTGTCGCTCTTGGGAAGAAAGGAGACCAGCAAAATCAAAAGAATCCCAGGAAGGCTACAGAAAATTCCCACCAGTTTACACTTGTCAGGATTCATTTTCAAATGGAGAAGTGTCTTTCAGTCTTCCGCCAAGCAGCCACTTACGAAGAGTGAACACAACTGCAGCGCATTCAACGCAGCTGATCCAAAAAGGACTTCGAAGCCTGAATTCCCTTCCCCTGTGACTAAATGGCAGTCCAGGGCTGCTAAATGTCTTCAACCTCTGTAGAAGGGTGAGGAAACTGAGCAGATGCAAATTCTGATGAATAATGCAGGAATTTATTAATAATGATGATGTAAATTATGTAAATTATAGTCATGGTATGTGATTGGACCAATAACTTTCCATATGCAAACCTACTGGCTAAATTTTCAGAGTATAAGTTAGAAGAGGACACTCAACTTAATATTCTGTTCACCCATTTGATCCAAGGGAAAGAGAATTTTCCAAGAAAGCTTAATATATTCCAAGCAACTTTAAATTCACTCAGTACTCTCTGTGACTAAGGGTACAGTAAAATGCACAAACTTTAGAGAATGATTAAAACAATCACAAGAAGGGGCTCATCAATCTCAGGCTTCAGATTCTGTGAACCACAGGAATGAACCACATTTTCTAAGACTGGGGGTGGCAGGGAGGCCTTTAATACAAAAATCTCTAAACTCTACATTTTTTATGTACCCACTCGATGTTTCAAGTTATGTCATAGGATTTCAACACTGCTGGAGCCTCCCCAAATCTCATCATAAAAACTGCTCCTTTTAGCTTTGACTGAGGACAAAAATGGAGGAGGGAAAAGAATATGCCACATCATTTCCAAAGGAGGAATAAAGAAAACCTCTGCTTCAAAGATAGCACAGGTGAAACGGTGTGATTCACAGCAAAAGCAAGAAAAGTATGTGTGCAGTGTGTGTGTGTGTACACGGTGTGTGTGCGTGCATGGTGTGTGTGTATGCACGGTGTGTGTGTGTACATGGTGTGTGCGTGCACGGTGTGTGCATGTGCTTTCAGATAGCTTGAAAGATTTTTCCTCTTAACTTTTCTTTCCTCTTAGTCAAGAGCCTCAGAAGATAATTTCGGATCTATTTCTACATACATGTGGGAGGAAAGTACACAAACATTCTCATTGATTTACTAAGCATTTGCAGAATGCAGGGGAATTTTCTACCTCTAACACGACTTCAGGAACAATCCTAAGTCCTCGCAGAGGTTTCACCCCAGGCTCCTTCCCCGGCCTGCTCGCCCACCTGTCCCTGCCCAGAGGAGCCTCCTTGGCTCCAGGCAGAGAAAGGTGGACAGGGCGCTCCGCTGAATCTCAAGCCGTTCCATCATCCCGCTAGCTGGCACTAGAAATTTGCATTTCAGCCATTTCCAGGTCCAAACCCCACGGCAGCCCCCTCCCCAAAACTCTGGAAGGCGGAGACCTAAGGCGACAGGTCTGCACAGTTCCTCACACCAGTGGACAAAAGTATGGTGCGACCTCCTAGGCAGGATAATTAGGTCCCCAGGCTCGGTGTTGGGAATACAGGCCCAGCATGCCGCTGGCGGCCACAATCCCGGCTTCCTGCCTTCAATACCATAATCCTTCCTGGAGTCTGAGCCCCAGTGAAAGCCCCAGCGTGTTTATTTTTCCCCTTGAAAGGGAACTCTCTTCTCAGCCTGCACGCGGGAGGAGTTGTCACCCTCCCTCTGATGGATGGCTCTTCTCGGCCGCCCGCCCCCCGGTCCATTTTCACCTCGGCACAAGCCTGCCCCCAAAGACAGGCAGAGTGACAAGCAGGAAGGGCTTGGCTGCGGAGCGGTCCCCATGCCAGGCCTGTGCTGGGCTCTTCAATTTACCATGACATTCCCAAAACCCCCGCCCTCCAAGAAGGCAGACCAATACAGTGCCCTCCGCTTTGGGCTTCCACCTAAGGGGTGATCTGTCCACTGCTGGCTCGGCCACTGGGATCACCTGGTGTTTTGTTCCTGGGTAGATTTCACATCAGGAAAGTCAACAGTGTCCGGCTCCTCCAAAGTGCAGACCCATCTCTTCGCTTAAGGCCTCCCTACTTCTCCCCAGCACTGAGTAGGAGCGGGAGCTGTCAAGGGGTCAAGGCTAGGGGGAAATTCCTCAACAAATTGAAATCTCAAAAAACACACACTGACCCAGGACCACAAAGCCCTCCCGGTTTAATGCTTGCGTCCAATCAGAACTTGCGAGCAGCTTGGGGGTGCTCCCCACCACCACCCCCTTTCAGGGCAGCACTTCTTTCATTTGTTTGCCTGAAATATCCTGTTTTTCTCCCCCTTCTCGGGGCGCTAAAGAGCTCAGAGAAATCTGCATTTTAATTGACATTCCAGGGAAAGAGAGAGGGGCGCCTGATTGCTTTTCTATTCAAACTAAACAGGCTTTTCAGATGAAAATGAGTCGAGCCCGGTGGAAGATTTACAGGGATTTGGGACCAGGGAGACAATGGAGTTTTAAATGTTGATAGCGTTTCACACCAAACACATAATGGGTGCCCTGAGTTTGAAAGCAGGTTTGCCTTTAAGGGTAGGTTTTATTGAATTGGGAGAAAGGAAGGAGGGTCTGGAGAACGGTCTGCAAGGGAGCGGGGTGCGAGGAGAGCGACGGAGGCTGGTGGTCCCCGAGCGGGCCTCCTGCGCCAGGTCCGTGGTCCGCGAGGGTCGGAGCCAGCGCCACGCAGGGCCCTCGGCTTTTTTCCCCAGCGCGGCCCCGTGGCCGAAAAAAATGAGCGCGCAAGTTAGAACTCGCCTGCGCTTTCGACATCTCCCAGCCGCTGCGGCAGAGCAGGCAGGCGAACTAGAAAAAGTCGGTCCAGTTCGCCCCCTAGCCCCAGGCGCACTGCGCTCCCTCCAGCGCCGACGGCGGCTGCGGGCGAGGGGCGCCCAGGCACCGGAGCCGTCGCCTCCCCAGCAGTGCCACCCCTGGCCATCGCCACCCCTACGGGATGTCACCGGCCCCACCCCAGCGGCCCCCTCCCGAAAAAGGGGTCTCCGCAGGGCCTGGATGGTACGGAAGTTCCCAGGACACACGGATGGGGCACCTCGGAGATGACCCCGGGAACCGGCCTGCGGGGCTGTGCCACGGGCAGGCGAACCTTCCGCCCGTCTGCTCTGGGGTCGGAGAAACGCGCCCAGTCAGCGGGAATGCGCCCGCCAGGGTTTGACAGGGAGGGGGGCGTCAACGCCAGAAGCAGATGTCAGCATCTGGATGGGGGTAGCAGAGGCAGAACTTCCAGAACGCCGGCCGTCAGCACGCACCCACCTCCCCCATCACCTATGCAGCCACAGAGGGAGGACACGGAGCGTCCTCCACAATGCTAGTCCTTCCGCGCCCCCCGCCCGGAGGACGGTGCACCCGGCGTCCCGGGCTCCCGTGGCGCCCACGTCCCCGGCTGGCGAAGCTCCCCGAGGCGTCTTGCGCGGCGATTACCTTGAATGGCAACGCTCCTCCGCGACCTGTGTTGTCCCCGCGCCCCGCGTGGGTCGGGATGGAGAAAGCGACGAGCCCGGGGTTGCGGGGAGCAACTCCAAACGCAGAAGAGTGGTCCTTGGGTCTTCGCCGGCGCCAAGCCTCCCGGGCTTCACGCGTACCCCAGGCTGCGGAGGAGCGCGGGCATGACGCCCGCGGGCTGCCCTCGGATTTGGGGAACGAGAGGAAGAAAGGACTCAGGCTTGGCGTTGCCTCCACCAAACTTTGCTCGCGAGTTGCGAAGGCTCAGAGCGCGCAGGCAAGCTGCGGCCTCGGGGCCCCCGGGGCTCGCGGCCGGCCCCCGCCAGCCCGGAGAGCAGTCGCCGCGCCGGGCCAGGTACGCCGCATGCAGCCCCGCGGCGCCCGAGCTTTGTGGCGGCCGCGCGCGCTCCCTCGCCCGCTCCGCACCCGCCGCCCGCCCGCTCGGCTCTCCACCGCGCTCTCCTCCAGCCGCCGCC\n",
            "CPU times: user 2.15 s, sys: 758 ms, total: 2.9 s\n",
            "Wall time: 7.42 s\n"
          ]
        }
      ]
    },
    {
      "cell_type": "code",
      "source": [
        "len(gene_seq)"
      ],
      "metadata": {
        "colab": {
          "base_uri": "https://localhost:8080/"
        },
        "id": "q0T0T1BV2x0B",
        "outputId": "8f74de8c-2957-4d23-8fee-133d65162c47"
      },
      "execution_count": 16,
      "outputs": [
        {
          "output_type": "execute_result",
          "data": {
            "text/plain": [
              "120128"
            ]
          },
          "metadata": {},
          "execution_count": 16
        }
      ]
    },
    {
      "cell_type": "markdown",
      "source": [
        "Так как ген FGFR2 находится на отрицательной ветви 10 хромосомы,необходимо комплементарно перевернуть последовательность. Создаем новый объект plus_strand_seq, - которым является комплементарный участок положительной ветви."
      ],
      "metadata": {
        "id": "H2cxgZ8L23ZI"
      }
    },
    {
      "cell_type": "code",
      "source": [
        "plus_strand_seq = gene_seq.reverse_complement()\n",
        "print(plus_strand_seq)"
      ],
      "metadata": {
        "colab": {
          "base_uri": "https://localhost:8080/"
        },
        "id": "bqdvgDl924gx",
        "outputId": "11604877-4015-4b60-e5a6-66790f028d3a"
      },
      "execution_count": 17,
      "outputs": [
        {
          "output_type": "stream",
          "name": "stdout",
          "text": [
            "GGCGGCGGCTGGAGGAGAGCGCGGTGGAGAGCCGAGCGGGCGGGCGGCGGGTGCGGAGCGGGCGAGGGAGCGCGCGCGGCCGCCACAAAGCTCGGGCGCCGCGGGGCTGCATGCGGCGTACCTGGCCCGGCGCGGCGACTGCTCTCCGGGCTGGCGGGGGCCGGCCGCGAGCCCCGGGGGCCCCGAGGCCGCAGCTTGCCTGCGCGCTCTGAGCCTTCGCAACTCGCGAGCAAAGTTTGGTGGAGGCAACGCCAAGCCTGAGTCCTTTCTTCCTCTCGTTCCCCAAATCCGAGGGCAGCCCGCGGGCGTCATGCCCGCGCTCCTCCGCAGCCTGGGGTACGCGTGAAGCCCGGGAGGCTTGGCGCCGGCGAAGACCCAAGGACCACTCTTCTGCGTTTGGAGTTGCTCCCCGCAACCCCGGGCTCGTCGCTTTCTCCATCCCGACCCACGCGGGGCGCGGGGACAACACAGGTCGCGGAGGAGCGTTGCCATTCAAGGTAATCGCCGCGCAAGACGCCTCGGGGAGCTTCGCCAGCCGGGGACGTGGGCGCCACGGGAGCCCGGGACGCCGGGTGCACCGTCCTCCGGGCGGGGGGCGCGGAAGGACTAGCATTGTGGAGGACGCTCCGTGTCCTCCCTCTGTGGCTGCATAGGTGATGGGGGAGGTGGGTGCGTGCTGACGGCCGGCGTTCTGGAAGTTCTGCCTCTGCTACCCCCATCCAGATGCTGACATCTGCTTCTGGCGTTGACGCCCCCCTCCCTGTCAAACCCTGGCGGGCGCATTCCCGCTGACTGGGCGCGTTTCTCCGACCCCAGAGCAGACGGGCGGAAGGTTCGCCTGCCCGTGGCACAGCCCCGCAGGCCGGTTCCCGGGGTCATCTCCGAGGTGCCCCATCCGTGTGTCCTGGGAACTTCCGTACCATCCAGGCCCTGCGGAGACCCCTTTTTCGGGAGGGGGCCGCTGGGGTGGGGCCGGTGACATCCCGTAGGGGTGGCGATGGCCAGGGGTGGCACTGCTGGGGAGGCGACGGCTCCGGTGCCTGGGCGCCCCTCGCCCGCAGCCGCCGTCGGCGCTGGAGGGAGCGCAGTGCGCCTGGGGCTAGGGGGCGAACTGGACCGACTTTTTCTAGTTCGCCTGCCTGCTCTGCCGCAGCGGCTGGGAGATGTCGAAAGCGCAGGCGAGTTCTAACTTGCGCGCTCATTTTTTTCGGCCACGGGGCCGCGCTGGGGAAAAAAGCCGAGGGCCCTGCGTGGCGCTGGCTCCGACCCTCGCGGACCACGGACCTGGCGCAGGAGGCCCGCTCGGGGACCACCAGCCTCCGTCGCTCTCCTCGCACCCCGCTCCCTTGCAGACCGTTCTCCAGACCCTCCTTCCTTTCTCCCAATTCAATAAAACCTACCCTTAAAGGCAAACCTGCTTTCAAACTCAGGGCACCCATTATGTGTTTGGTGTGAAACGCTATCAACATTTAAAACTCCATTGTCTCCCTGGTCCCAAATCCCTGTAAATCTTCCACCGGGCTCGACTCATTTTCATCTGAAAAGCCTGTTTAGTTTGAATAGAAAAGCAATCAGGCGCCCCTCTCTCTTTCCCTGGAATGTCAATTAAAATGCAGATTTCTCTGAGCTCTTTAGCGCCCCGAGAAGGGGGAGAAAAACAGGATATTTCAGGCAAACAAATGAAAGAAGTGCTGCCCTGAAAGGGGGTGGTGGTGGGGAGCACCCCCAAGCTGCTCGCAAGTTCTGATTGGACGCAAGCATTAAACCGGGAGGGCTTTGTGGTCCTGGGTCAGTGTGTGTTTTTTGAGATTTCAATTTGTTGAGGAATTTCCCCCTAGCCTTGACCCCTTGACAGCTCCCGCTCCTACTCAGTGCTGGGGAGAAGTAGGGAGGCCTTAAGCGAAGAGATGGGTCTGCACTTTGGAGGAGCCGGACACTGTTGACTTTCCTGATGTGAAATCTACCCAGGAACAAAACACCAGGTGATCCCAGTGGCCGAGCCAGCAGTGGACAGATCACCCCTTAGGTGGAAGCCCAAAGCGGAGGGCACTGTATTGGTCTGCCTTCTTGGAGGGCGGGGGTTTTGGGAATGTCATGGTAAATTGAAGAGCCCAGCACAGGCCTGGCATGGGGACCGCTCCGCAGCCAAGCCCTTCCTGCTTGTCACTCTGCCTGTCTTTGGGGGCAGGCTTGTGCCGAGGTGAAAATGGACCGGGGGGCGGGCGGCCGAGAAGAGCCATCCATCAGAGGGAGGGTGACAACTCCTCCCGCGTGCAGGCTGAGAAGAGAGTTCCCTTTCAAGGGGAAAAATAAACACGCTGGGGCTTTCACTGGGGCTCAGACTCCAGGAAGGATTATGGTATTGAAGGCAGGAAGCCGGGATTGTGGCCGCCAGCGGCATGCTGGGCCTGTATTCCCAACACCGAGCCTGGGGACCTAATTATCCTGCCTAGGAGGTCGCACCATACTTTTGTCCACTGGTGTGAGGAACTGTGCAGACCTGTCGCCTTAGGTCTCCGCCTTCCAGAGTTTTGGGGAGGGGGCTGCCGTGGGGTTTGGACCTGGAAATGGCTGAAATGCAAATTTCTAGTGCCAGCTAGCGGGATGATGGAACGGCTTGAGATTCAGCGGAGCGCCCTGTCCACCTTTCTCTGCCTGGAGCCAAGGAGGCTCCTCTGGGCAGGGACAGGTGGGCGAGCAGGCCGGGGAAGGAGCCTGGGGTGAAACCTCTGCGAGGACTTAGGATTGTTCCTGAAGTCGTGTTAGAGGTAGAAAATTCCCCTGCATTCTGCAAATGCTTAGTAAATCAATGAGAATGTTTGTGTACTTTCCTCCCACATGTATGTAGAAATAGATCCGAAATTATCTTCTGAGGCTCTTGACTAAGAGGAAAGAAAAGTTAAGAGGAAAAATCTTTCAAGCTATCTGAAAGCACATGCACACACCGTGCACGCACACACCATGTACACACACACACCGTGCATACACACACACCATGCACGCACACACACCGTGTACACACACACACACTGCACACATACTTTTCTTGCTTTTGCTGTGAATCACACCGTTTCACCTGTGCTATCTTTGAAGCAGAGGTTTTCTTTATTCCTCCTTTGGAAATGATGTGGCATATTCTTTTCCCTCCTCCATTTTTGTCCTCAGTCAAAGCTAAAAGGAGCAGTTTTTATGATGAGATTTGGGGAGGCTCCAGCAGTGTTGAAATCCTATGACATAACTTGAAACATCGAGTGGGTACATAAAAAATGTAGAGTTTAGAGATTTTTGTATTAAAGGCCTCCCTGCCACCCCCAGTCTTAGAAAATGTGGTTCATTCCTGTGGTTCACAGAATCTGAAGCCTGAGATTGATGAGCCCCTTCTTGTGATTGTTTTAATCATTCTCTAAAGTTTGTGCATTTTACTGTACCCTTAGTCACAGAGAGTACTGAGTGAATTTAAAGTTGCTTGGAATATATTAAGCTTTCTTGGAAAATTCTCTTTCCCTTGGATCAAATGGGTGAACAGAATATTAAGTTGAGTGTCCTCTTCTAACTTATACTCTGAAAATTTAGCCAGTAGGTTTGCATATGGAAAGTTATTGGTCCAATCACATACCATGACTATAATTTACATAATTTACATCATCATTATTAATAAATTCCTGCATTATTCATCAGAATTTGCATCTGCTCAGTTTCCTCACCCTTCTACAGAGGTTGAAGACATTTAGCAGCCCTGGACTGCCATTTAGTCACAGGGGAAGGGAATTCAGGCTTCGAAGTCCTTTTTGGATCAGCTGCGTTGAATGCGCTGCAGTTGTGTTCACTCTTCGTAAGTGGCTGCTTGGCGGAAGACTGAAAGACACTTCTCCATTTGAAAATGAATCCTGACAAGTGTAAACTGGTGGGAATTTTCTGTAGCCTTCCTGGGATTCTTTTGATTTTGCTGGTCTCCTTTCTTCCCAAGAGCGACAGTGAGGGTGGGAGACTGCTCACCTCCAGCCCAGCAGAAATACGGAGCTGTGAGCAGACTCCTCCAACAGTTTAGCTTTCTAAAGCCCAGTTGGACTAAGAGAAGGGAACGAGGTTGGTTATGCCAACCCGAGCATTTTTAACTTGCTTTTGTAGTTGCCCTTGAAACTAAGGTCACGTTGCTTCTGCTCATTGAGGGCGGTGGAGGCGATAGTGGATAGTAGAAGAGAGCACACATTGCCTCACTGAAGTGGCTGCACGTATCTGAGTCCTGTAGCTACTGTTTTATCTCTGTTTCTTAAAAGTATGCTTTTAAAAAGATTAGCCTCACACATTTCTGTGGACCGGTCTGGTGGTATCACCTGGGACTCTGAGGTGAGGATGGAAGGATTTAGCAGATAATGAAAAAGAACTCTGTTTGCGCACATTTGAGAGGCTGAAAAATGGTTTTATCCCACTTGGGCTGGAGTGATTTGGCATTGGGGAAGATTCCCTGACTCGCCAATCTCTTTCCTTTAGTGACTGCAGCAGCAGCGGCAGCGCCTCGGTTCCTGAGCCCACCGCAGGCTGAAGGCATTGCGCGTAGTCCATGCCCGTAGAGGAAGTGTGCAGATGGGATTAACGTCCACATGGAGATATGGAAGAGGACCGGGGATTGGTACCGTAACCATGGTCAGCTGGGGTCGTTTCATCTGCCTGGTCGTGGTCACCATGGCAACCTTGTCCCTGGCCCGGCCCTCCTTCAGTTTAGTTGAGGATACCACATTAGAGCCAGAAGGTAAGTCATTTAATTTCACTTTTCAGGTTTGTTTTGGGATTTGTCTGGGGGCAGATTGTTAAGGCCTGTTTTAGAATCAGCTACCCTTGCATTGTAAATGGGGCTTCTAAGAGCACCAGATCGTGGTCTCTTGGCTCCCGGCAAGGCAGAGCTGATGAGAGAAGGTCCTTTGCCGCAGCACTGCAGGCAGGATGGTATAGTTTGGTGGTTTCTTGCTGTGTGTGTTTCTCTGTGCTGGGTGAGGGAGACAGCTGGGAGTTGGCCTTTATCCAGTGCCCGAGAGAGCTGTGGAAGGGATGAACCTTGGGAGGATGAATGTCATCTCTAGTCTCCCCCAGCATCATTCCTACTGCTTACAATGTAAAGAATTGCTATTTTCGGACAAGATGAACCACTAAAAGAAATTGCCAACATCTGAAATGCTGACATCTTATTTTCATTGTTTAAGGAGAAAAGAAGTTTCTGAAGTTTAGCACAGAGAGAGAGGCTTGACATCTCAGAATTTTTTTTTAGCCATTGTAATTCATAATACTTAAGCAATGCATCATCACAGAGTGGCAGATTCTAGTTTAGGTAAACTTGAAAGTGAATGTGCCAGGGGATCTCCTCCAGCTCCGAGAACCTCCAAGTATCACAGGGCATGCGCCGGTGTCACAGCTTTGGAAATTTAATTTTCAAGGTGTAAGTCCAATTACGAGGACTACATGAGGCTGAATTATTCAGCTTAGCAGATTTGGAACCTCTCTCCCAGCCCTTTGGAGACAACGTGAGCCAAGCCTCTACTTGGTGCTGCACTGAAATCTGTCATCAGTAGGGAATATTGGTAGCTGAGTTATTTTTCGAGTGGTAATCCGAGAATAAAACGGCAGATCCCAGCACTCATCGCCACTTAATGAACCTGTTTGTGGAGAGTCCACCTGGTGCCTGCCTGGCTTTAGGAACCCGCAGCAGTCCGAGTGGTGTCTGGGGTAAGCTGAGCTGCTCTGGGAACACATCTCGTGCGTGGGGTGAATGAACAGCACACTTACCCAGTGGGGTAGGCTGGGAGAGGACAGAGAGCCCAGCCTCCTTAGCTGGATCAGGACAGTTTAGGAAGGAGGGTTGCGTCCATCTGAGATGAGAGTTCTGAGAGACATGGGCTCCCCAGGAAGACCCCAGGCACTTGTCATTGAAGGATGAGGACCGAAGCACTTATCACCTGAAGCAATCGTGTGAGACTGGGGAACTTTTCGTTACACAGAGGGATGGCAGCTCTATAATTAACAGGTGTGGTGACATCTCCCTGCGTCTCTGGGAAGGGAATCTGGTAGGAGTTTGTGTCTGAGGCTTGTATAGCTACAGCTACAGGCCGATTATGGAACTGCCTCTTGGTGATTTGTGCTGGGACACCAGGATGAGTGTAATTTGCAGTGGTGATGCATTTTTACAGGGCTTTCATGTAAGAGGGAAAAAGTTCCTGGTTTCTGAAAGTCATGCCTGTACGTCTTTAATTTTGCTAATAATTAAAATGGATGTTTCCGTGATTGCTGGTTTTCCCTTGAGTGCGTGGCTCGGCAAAAACTGAGGAAGCTGAGCTGGGATTTCCTACGGTGTGGGCTTTAGGAGCAACCCAGGTTAGGGAAAAACTGTCATTTTTCATTTTGGCTTTTCAGGGCAGCGTTATTGTGAGTTTATTTCAACATAAAGTGTAAAATGGTCCCAGAGGATTTGTTTTACTGTATTTAATTCTTGAAGGAAGTTTAAAATTGTGTATACATGCAGGGAGGGACAGGTGAGGCAGAGGGAAGAAATCGTGGAAAGGGACGAAGTTCCCCGAGTGAGTCTTTGTGTAAGAATTTACATCCAACAATGTGGGTATTGTTGGAAGCAGGCCTGCTCAACCTGGGATCTGTGGATGCACTTATGGATCAGGAAGGAGGTCGATGAAGTTCTGGAAATTTTAGGTAATATTTTGTTAATGTCCTTTTGTGCATTTTTATGGGTTTATAGTTTCCATGAGCTATGAGTTCATTTGCATCCAGAATTATGAGATGGAAAAGAAAAGATGTCTTAGAGGAAGGTGCAAAACCTGGCAAAGAAGAGGCTTTGGAAAAGTATACAAGTCCCAGGCCTCAGTTTCCCTTTCTGTCGTCTGAGGGCTTAAGAAGATGATCTTTAGGGTCTCTTCATTAATAGTCATTGAATATTAATGTCCTCAGAAGTCTTCTGACTCTTCCACCAAAAGGTTGTTAGGAGATTTCCATTTGACCTGGACATAAAGAGCAATTAGCACAGGGGCTGGCATCCAGTAAGCACCGGGTGCATGGCCTTGTCGCCGTTGTCGCCAGGGAGCTGGGAACATGGGTCTTCCCAGTCCCGTGGGCTGGCTGTGCCAGGTGCCACAATGTCAAAAAACATCTAGGCTTTTGGAGACAGTTGAGAAGAAAGTTGTTTTTGGATGGAGGAGGCCCTTGGTGTTTCCAGGAAGCTGTGTTTGCTTTCTGTAGGGTCCCCACTTCCCCTCATCTGTTAGTCTAATACTGGCCACTGATTTGAGCCCTAAGACCAGTTCTTCTGTTGCAGGAGTTCGCTTTGGTGTCAGAGGTGATTAGGAAGGTCATTGAATTATAGATGAGAAAGGAGTTTTTAACAGCTGAAAATGGGCTCAGGTTTAGGCTCTGTGCTGGTGAATTGGAAGAGAGAGAGAGAGAGAGAGAGTGTGCGTGTGTGTGTGTGTGTGCGCGAGTGCGCGTGCGTGCGTGCGTGCCTGTGCCCCTGTCCATCAGTTCTCCATGATTAGAACTACTATAGCTTTGGTTAGCAGTAAGTTCCACCTTGACCTTCTGTGCACCAAGGTCTTATCTTGTAAGACTTTTTGGTTTGCTAATTTATTTGGAAGCTCAGTTTAGATAATGTCTATTGGATAGGAGAAAAATGTGACTGAGAAGTTCCAGGAAGAAGCCTGGGCCCTAACACTAGAGGGTCCTTTTCTTTTGGCCCCTCAGGGAAAGGTTATGTTTAGTCATCTTGGCTTTGTGCAATATCGTATCATATCATATGTCATATCATATATCATATATATCATTTGTCTTCTGGACACGTTCTGAAATAGTAGCAGTGGGGTTGGGCCCACTCAATTGACTTAAGAAAATAATCTCTAGAAGATTTTAGTTTTTAATATTTCAGATTAAATATGAGTTTTCCAGTTGGTCATTCATTGTTAATTTCCTTTTGGTCATTCATTGTTATAGGGCACCAGCAGAGGAGTGAAAACATGGTTATTGACTCGAAGGGGGGCAGTCCTCAATGCCAAGTACTATTCTGTTGATTAACATTATAAATATTTGAAGTCTAGTCAAGCTTGATTACCCTGAGAGGGGGCAACTCTTACTTTCAAGTTCTTCCTGACATTGTCACCTACTCTGGTTAATTAAGTCATTGTTGACATTAATGGCATCTTTGTTTACACCAACCCAGTAGGAGCTAAAATGAAAGGGCTTTTCAACCCTACACCCTTAATTACTTTCCCACCCTCCACAGAGTGTGACTCTGAAAAGTAACAACCTGAAAAAAAATGTAGTTTGTGTAGCAATTTTTTGTCAATCTTCTGAGAGGTGATGCTCTCCTGGACCAACGTGAGTTGGTCCAGAGTTCAGTAGCAGAAACGTCGAGGACAGGATCTACACAGAGACCTCCCTAAGTCAGATTTTTCCAGTATGGTTTAAGTCCTTTGTTAGAAGTATTGTAAATGCCATAATATTAACCATACGCATTTAATTGCAAGTTAAAAGAAAGGAAGAAAGAATATATCCGCATACCAAGAGTGAATGATTTAAAATAATCTTCTGTTTCGTATTATCTGCATCTTTGTTTTTCAATATGAGTGTTAATATTTAAGAGTTGACTGTAACTTGATAGTTAGCTTTGGAACAAGGACTTATTCTTGGTCAATTAAACCAAATACAGGCTTACGCAGTTAAATACACAATGAAGTACACATTCTTTATTAGTATATAAAGTGTTTCACAATTCATAGACCAAGAGCCATGTTTAATATTACTTATAGAGCAGAAATCTGGCAAGCCCAGAGAACTGGTACTTGTATCATTTTATACTGGCTCTCTCTGATTCAAATTTGGGGTATATGTGTGTGTTTCTGTTTTGTCTGTTTATTTCAACCAGTTAAAAGACAGAGCACTTACTATGCCAATGGCCCCGCATCAAGCCATAAGTAAAGACTTTATTCCTTTCAAGTCTTTCTGACCCAGTTGAGGGTGAGAATTCACAAAACCACAGCAATCCAATATGAGATGTTTTTAATATCAGACTTAACAAATAATTACATGGCTATGAAATAACTGGGGTCGTGTTTAAACTGGAAGTGTTTTGTTTAATGTTCGTAGTTTCAATAAAATGTATCCACTAGTCTTCCAGTTTGCAGACTGTTGTTTAGGTGTTTGTTTAGCCAGGGTAATTGTTAAAAACTCCCTCTAATCTAGCTTACCCTTACATTTCCATGGAAGCGAATTTTAGTCATTAAAGGAAAACATGGGAAATTGATTTTTGGGTGCCTGGCTGTTAAGCTAGGTAGGAAATATAGCTGGTGTGCTACTCTCCACTGTACTGGTCCGATTCTCGCCAGGGGGACATCTCTGTAGGCAGTTCAGAAATTATTTTTTGGAAGTTTTTTAGGCTATTCCACAGATAATTCTGATCCAGTAGGTTTTATGCAACTGTGCAAAATGCTTATGGTCTCTATTTTTTTTTCCTTGAGAGATGATTTTAGCCTTTGGTTTTTTGTTTGTTTTTGTTTTTTGAGACAGAGTCTTGATCTGCCACCCAGGCTGGAGTACAATGGTGCAATTGTACCCTCACTGCATTGTCAAACGTGGCTCACTGTACCCTCGGACTCCTGGGCTGAAGGGGTCCTCCAACCTCCTGAGTAGCTGGGACTACAGGCCTGGATAATTTTTAAAAATATTTCGTAGATATGGGGTTTCGCCATGTTGCTCAGGCTGGTCTCCAACTCCTGGCAGCCTTGGCCTCCCAAAGTGCTGGGATTACAAGTGTGAGCCACCACACCTGTCCTAGCCTTAAGTTTTGCATTTTTTTCCATCTTTTTGCTGTATCCCATATGATTTAGAGATTTTTGCTGTATCCCATGAGATTTAGAGATGGCTCTACTTTTTTTAGCTTTCCTAGCATTGAAATGCTTGGTGTTGCTAATCATACCCCATCTTTACCACACCATCTTCCTCCCTGACTTGCCTTCTTAGTGTAGTTTGGTCAAGAACTTGAGGCCAAGTTCTTTTTTTTTTTAAATTTAGCTTTTATTTTAGGTTTGGGGGTACATGTGAAGGTTTGTTATGTAGGTAAACTCGTGTCATGGGGGTTCGTTGTACAGATTGTTTCATCACCCAGGTATTAAGCCCAGTACCCAATAGCTATTTTTTCTGCTCCTCTCTCTCCTCCCACCCACCCTCCACCCTCAAGTAGACCTCAGTGTCTGTTGTTCTTTTCTTTGTGTTCATGAGTTTTCATCATTTAGCTCCCACTTATAAATGAGAATATGCAGTATTTGGTTTTCTGTATTTGGTTTATTGCTAAGGATAATGGCCTCTAGCTCCATCCATGTTCTTGCAAAAGACATGATCTTGCTCTTTTTTATGGCTGCATAGTATTCTATGTTGTATATGTACTACATTTTCTTTATCCAATCTGTTACTGATGAGCATTTAGGTAGATTCCATGTCTTTGCTATTGTGAATAGTGCTGCAATGAACATTTGTGTGCATGTGTCTTTATGGTAGAATGATTTATATTCCTCTGGGTATATACCCAGTAATGGGATTGCTGGGTCGAATGGTAGTTCTGCTTTTACCTCTTTGAGTAATCGCCACACGGCTTTCCACAATTATTGGGCTAATTTGCACTCCTACTAACAGTATATAAGTGTTTCCTTTTCTCTGCAATCTCACCAGCATCTATTATTTTTTGACGTTTTATTAATAGCCATTCTGACTTGTGTGAGATGGTATCTCATCGTGGTTTTGATTTGCATTTCTCTAGTGATGAGCTTTTTTTTTCATATGCTGGTGGGACGTATATATGTCTTCTTTTGAAAAGTGTCTATGTCCTTTGTCTACTTTTTATGTGGTTATTTGTTTTTCTCTTGTAAATTTAAGTTCCTTATAGATGCTGGACATTAGATCTTTGTTAGATGCATAGTTTACAAATATTTTATCCCATTACGTAGGTTGTCTATTTACTCTGTTGATAGTTTCTTTTGCTGTGCAGAAGCTCTTAAGTTTAATTAGATCCCATTTGTCAATTTTTGCTTTTGTTGCAATTGCTTTTGATGTCTTTGTCATGAAATCTTTGCCCATTCCTATGTCCAGGATGGTATATTGCCTAAGTTGTCTTCCGGGGTTTTATAGTTTTGGATTTGACATTTAAGTCTTTCTTCCATCTTGAGGTGATTTTTTGTATATGGTATAAGGAAGGGGTCAGCTTCAATCTTCTGCATGTGGCTAGCCAGTTATCCCAGCACCATTTATTGAATAGGGAGTCTTTTCCCCATTGCTTGTTTTCATCAGTTTTGTCGAAGATCAGATGGTCGTAGGTGTGCGGTAGGTGTGTGGCCTTATTTCTGGGCTCTCTATTCTGTTCCATTGGTCTACGTGCCTGTTTTTATACCAGTACCATGCTGTTTTGGTTACCGTAGCCCCACAGTATAGTTTGAAGTCAGGTAATGTGATGCCCCCAGCTTTGTTATTTTTGCTTAGGATTGCCTTGGCTATTCAGAGGCTAAGTTCTTTTAAGGAGAGGTCTGATTGAACAAGATGCTGGACAGGTCATTGTGGTGATCCTTCACGTCTTGAAGATGTCTCCTTCTGTAATAGACAAAAGTCACACTTTTTACAAGTTTCTCTTTCCTCACTGTGATTTGTATGTGGTAGCTGACTTCTATTTATATAACTTCAAGCTCTTACCATTTAAATATTTATACACAAGTATGAATCATTGGGACAAGCCATGGCCATCCTTGAAGAGTGTGTGTCAAGTAAAATAGGCGTGCTTTAGATTTTCAGTAATTTTGGTTTTGGGAAACCGGTACCATGGAAGAGCTTTCAGATGCTGAATGTGTAATTTACTCCACTTTGGAATACTGTAAGTAATTCTGCGCCATTGTGGACTTTGGCCACATCATGCCACTCTCAAAAACTTCTGATTCTTTTTGACAGTACCAAGTCAGGGGGCTAAGCTGTTGTATATTCTTTCCTTTAACCCCTTGTCTAACTAAAGAATGGTAAATTCCAATTCATTTCAGAATGGAATGCACACATATAGAGTTTCAGGTTATGCTGAATGTGTTTTATGAGGAGGCTAAAAATAGCTTATAAGGAAAATGCTGATAGATTCAAGAACGAGAACAAGGGATGTATTTATTTGTATGATTTATGTAGCGCCTTTCTTGGAGAGGACTCAATTCTGAGCTCTAACGTTAATAAACTCTATATCAATTATCGTGATTATTTTCGAACCCTTGAGCTCCTATATTACTATATGTGACCCATTTGTATACCTGACAGTTTACTGTTAAATTTTCCATAGTGACCAGTTGTAATATTTTAAAAGTATCCAGACATTGAAAAGGCCAACTGTGTGTATCTATGGTGTGTGTATGTGCTCAGGGGGGTGTACTATAAAATGAATGTCAAGATCATTGCAATGGTTAAGTTTAGGTTTTAAACTCTTTGAACACCCTTAAAGTTCAGATTTTCAGTTGACAGTGGGATTGCCCCCAAAGATGTGTGGCTGCCTTAAGGAGCCTTCTTGTCCTGCTAAGCCTCCTGGATTTCCACCAATGCATGTTGCATTTCTACCTGGCTGCAATAGACGCACAACTGAATATATATCGTGGACATTTATAAATGTTTCAAATTTAAAACCACTCAAATTTTTAAAAGAACAAGAATCTTCTGTGCATTTAATCTAAATTCTGTATCAGCCATTCTTAAAAATAGAATTGAATAAAATCATTTTGGATGGCATGTGGTATGCTTTCTGGAGACATAAACTAACAGAGGGAACTTGACCTTGGGAGGTAGGTTTGAATCTCTCTACTATCTACTGATGCTGTGATTTCAGAAAAGTTAGATAACCTCTCTGAGCCTCAGAGATAGTATCTATCTTGAAGGGTGAATGTGCAGATTAAATGCAAATGAAATGTAAAGCCCCTACTGAATTTCCTGGCCCAGAGTAGGTGTTCATTAAATGCTGATTTCTTCCCTGTCCCACTTCCTGTCAACATTTCCTGGACCAACAAGATGTTTACTCTACAATATTACCAATATTTCCTGGACCAATAAGATGTTTACTCTACAGTGTATAGTGATAATTGTCTGATGAGAAGCATTTACATTAATTAAAATGTAAAACTGGCTCTAGGCCCTGGATTTGTCCAACCCTTTTTATTATCTTGGGCTTTTGCAAGTCCCATGGATTTTAGAAATGGGATCATCCTGCTGCTTGCAGTCCAAATGGTTCAAGGTTGAAATTTTTTTTCCCCTCTGTTGAAAAAAGTCAGTTGCAGCTCTGTAATAATAACAGCAGACACATACTTCATGAGGAACAATGTATTTTGGCAAAAGAGTTTTCTGTTTGAAGCTTCAAAATACAAAATACTCTGCCACATTGCCATTAGGCCCGGCGAAGAACATTGGAGAGGGGTTATGGAATCGGTTGGGGTGGGGTGCGGGATGGAGAGGGGTTATGGGATCGGTTGGGGTGGTGCGGGATGGAGAGGGGTTATGGGATCGTTTGGGGTGGGGTGCGGGATGGAGAGGGTTATGGGATCGGTTGGGGTGGGGTGCGGGATGGAGAGGGGTTATGGGATCGGTTGGGGTGGTGCGGGATGGAGAGGGTTATGGGATCGTTTGGGGTGGGGTGCGGGATGGAGAGGGGTTATGGGATCAGTTGGGGTGGGGTGTGGGATGGAGAGGGGTTATGGGATTGGTTGGGGTGGGGTGCGGGATGGAGAGGGGTTATGGGATCGGTTGGGGTGGGGTGTGGGATGGAGAGGGGTTATGGGATCGGTTGGGGTGGGGTGCGGGATGGAGAGGGGTTATGGGATCGGTTGGGGTGGTGCGGGATGGAGAGGGGTTATGGGATCGTTTGGGGTGGGGTGTGGGATGGAGAGGGGTTATGGGATCTCTTCGGGTGGGGTGCGGGATGGAGAGGGGTTATGGCATCGGTTGGGGTGGGGTGCGGGATGGAGAGGGGTTATGGGATCGGTTGGGGTGGGGTGTGGGATGGAGAGGGGTTATGGGATAGGTTGGGGTGGGGTGCGGGATGGAGAGGGGTTATGGGATTGGTTGGGGTGGGGTGCGGTGTGGTGTGTTCTGCTTTTGGCCAGGCTGGAGAGGTGAGCTCCATAACATGGTATGGTCATCCTTGCCATGTTTGCCTGTAGTGACCTCCCCTGAACACTCCTAGATGAGATTTTTGTCTGCATGGAAGGGAGCTCAAGGAAATTGTGATGGGACCCACAGTACTGAAGTGGACAGGAGCTGAACAAGCATTTGCACATGATACCCCTATGGAGGTTACTTGGTAGGACAGGCTATGAAGTAGGGGCAGTATGGATGAGGTCACGTTTCTTTAGCCCATTCCTTGAGATGATGATGATGATGATGGTGATGATGATAACTGGCTACCATTTATTGAGTGCCTGTCATGGTTGGACTCTGTGCTAGGTACTTTAACATATATTATCTCTCATCTTAATAACCCAGAACATCTTGGGTTTTCCTGTTCTTATTTTATGGACAAGGTAACTGAAATTCTTGGGGATCAAGTGACTCCTCCAGGACCTCATCATTAGTGAGTGTGGGCCCAGGTCTTTGGGTGAATGTGTTGGTGTAAGAAAAATTTCCCTTCTTCCTGAGCAGGAGGATTTTTTTTTTTTGCTGGAGAATGTGGTGACCCCTCATTCTTTCCTAAATCTGTCGTTTGACTATTAAACCTGTTAGGGACACTGCTGGTTGATTCTGTTTCTTTCTCACACATCCATACCGAATTCTCCTAAAGACATTTGAAGAAAAATTCCAGACAATAAAAATGTTTAATGATTATACTTTGTGATTCTTCTAGAATGGCTTCTGGTGGCATGTGACTTATTGGAAAGAGGCTAACCCTGACTGCTGCCAAGGAGACCAATGGGAGACTGGGTCCCAGTTGGTGGTCCAGGCTGCGCCACACCGTAGGAGTCCATAACAAGAAGGGCTGGCCTCTGTTGCCCGTTGATGCATGAGCCATCTCAGCAGAGCAGGCCGTCCCCAGTTATTCCTTGTCCCAGATGCCTCTGCTGGTTTGTCCTAGTGCCTGCTAACCCTCAGCTGTTGCCACTTGGATATTATGTCAAGCTTTTCTTCCCAGAATTTCTGATTTACGACTGGGTATGAAGTCAAGGCCTACCTGCATAGACAGACCCCTGTACTTGGGACTCCCACGAACTGTGGTCATGGAAACAAGCACCAAGGACTACCTGACCCTTCTAATGTCACTTTTCTGCAGAGATTAGGAGGAGAGACTAAGAAAGCCAAAAAAGAAAAAATTCCAAGAATGAAAAGGCCAAAAGCAGAAACACCTACTCTTCTTCCAGTCTTGGCCAGAAAGGGTGTCCTTAGGGGAAAAAAAGAGGCCAGGGAATGGAGCCCATTTTTAAAGCAAGCAAAGATCAGTTTGGTATTTAAAAATAAAAAGTGAACTCCAGTACCAGCTAATGTGTAGGTGAATCGAGGCTGGTTTAGGCAGCTGAACTTTGTTCTTGGCTACCTGTACAGCAGTTGCAGAACACTCAGGGGTTCCAGGCATTTCCAAGTGGGAGTTGAGTTTTGGAGGAAAGTTGTAGAATTCCTTTTTCTTTTTTTTCTTTTTTTGTGAGACAGAGTCTCTTGCTCTGTCACCCAGGCTGGAGTGCAGTGGTGCGATCTTGGATCACTGCAACCTCTGCCTCGCGGGTTCAAGCGATTCTCCTGCCTCAGCGTCTAGAGTAGCTGGGATTACAGATGTGCACCACCACGCCCGGCTAATTGTATTTTTAGTAGAGCTGGGGTTTCACCATGTTGGTCTCGAACTCTTGACCTCGGGTGATCCACCCACCTCAGCCTCCCAAAGTGCTGGGATTACAGGTGTGAACCACCGCACCTGGCCGTAGAGTTCTTGACTAGGAGATGCTGCAAATTTCCCTCTTAAATTTGCAGCTCCCCGTGCGATGACAACTTTCAGAGCTTGGCAGAGGCAAGATGGTATAAACATGATTTTTAGATTGCAGGGTAATTGCTGTGGTTTCTTTGAGTTTTTTCATCCATTTGCTCCCCAAATAATTTTTGAGACCTACTATGTGCCAGGTTCTGTGGGGATGGAATAGCAAGCAATGAACAGTTGAGTGGGGGAGACAGGCTCTTGTCAAATAATTGCAAAAATGAAGGGCTAGGACTGGGTGCAGTGGCTCACGCCTGTAATCCCAGCACTTTGAGGGGCCGAGGTGGGCGGATCATGAGGTGAGGAGTTTGAGACTAGCCTGGCCAACATGGTGAAACGTGGTCTCTACTAAAAATACAAAAATTAGCCGGGGGTGGTGGCAGGCACCTGTAGTCCCAGGTACTTGGGGGGCGGAGGCAGGAGAATCTTTGAACCTGGGAGGCAGAGGTTTCAGTAAGCTGAGATCACGCCATTGCATTCCAGCCTGGGCGACAGGGTGAGACTCTGTCTCAAAAATAAAAAAAAAAATCAAAATAAATAAACAAAAATAAAAAATGAAGGGCTAGGTCCAGTCAAAGGTGAAGATTCTGTGAAGGAAAAGCATGGGCCGGAGGCATGTGCCCCATGTTTAGGAGTTCCCAGGGACTGGGACTATGAAGCTGCTGCTGCTGCTGCTTTTTTTTTTTTTTTTTTTTTTTTTAAATGCAGGGTCTCTCTCTGTTCACTGTGTCACCCAGGCTGGAGTGCAGTGGTGCAATCACAGCTCATTGCATCCTGGACCTCCTGGGCTCAAGCGGTCTTCCCACCTTAGCCTTCTGAGTAGCTGCGACTATAGGCGCAGGCTGATTTTTCTTTTTTCTTTCTTTTTTTCTTTTTTTTTTTTTTTGGTAGAGATGGGTTCTCACTTGTTGCCCAGCCTGGTCTCAAACTCCTGGGCTCAAGCGATCCTCCCACCTTGGCCTCCCAGAGTGCTGGGATCACAGGTGTTAGCCACCACACCTGAGGCTGGTCTTCCCCTTAAGGAGGTGGCACCCACCTGGATTCCCCAGCAAACCCACCTGCATTGCAAGGTTGACCCTCATCAGTACCAGCCACCTTGCCTGCTAGGTTGACCCTTGTCCAGTGAGGTGATTTTCCAGGGCCTAGCCTCTCTGCTGTCCCTTGCTGGCTTCACCTGTTGATGTTGATGGAGGTGGAGCAGAGGCCGTTGAGTGAATGCGTGCAGCTGGGCTCAGAGGCCCCTCTTCTCCCCTCCTGTGAGGTGCTTGCCCTTGAAGGTGTGGCGAGTGAGGAGGCCGGTCAAGGGCATCCCGGCGGCCTCCAGGCCGTATTTGAGTGGGTCATTTCAGCCTGCTTCCTATCTCTTTTCTGTTACTACCTCTAATTGGCAGAGTTTCTTGCCAGGTCAATGTGGAGGCAGAGAGATGGCCGGAGGGCGGCCAGGGGAGTCAGGCCAGGTGTGGGCAGGATGGGATTCTGCCTCCTCCCAGGTGCCTCGCCTGGGGGATGCCCTGTCCCAGAAAGCCTACATTCGTGGGAGCCGGCGCACAGCCCTTCTGAGATCTAAAGCTTCCCTCTGAATGCTGCTTTGGAGGATTGTGAGAGGTAGTGACTCTTCAAAGTTTGTTTGTTTTCTTGAAGCTTTTACCTCTATGCAAATATGCGGTTTGGAGCAGGGAAGAAAGGTTAACTGTGATGGCGCCGGCTCTTAACGTGGAATGTCCTGAATTAATGTGGGTTTCAGTCCTCTGGCTCAGGATCCCCTGAGGGAGAGTTTTTCTTTCCTCTGCAAAACACAGGAGAAAAGTGATCCCTGTGGCTCCGACCTGCCTTCCTTGGGTCCTGCGGTGCAAAACCAGCTGGGACCGTGTCCCGCCCACCCGAAGGCAGTGTGGGGAACCTTTCCTCCAGGTCATTCCCATTCAGCTGATTGCTGCCGGCTCCCCAGGCCACAACTCTGTGCCTTCAGGCGTCTGCACGGGTTTCGAGATGCTGGCCAGGCCTGAACTTGGTGAGCCTCAAGCAGACCGTTCAAACCCATTCAAATGAGGAAGACCATCTGTTTCCCAGTCTCCAGCTGCTGCTGCTTCATTTGCAAATGGCTGGGATGCTGCTGAGGGGATCAGGCGGGGACACATCTGCAGACTCTGAAGGAGTGTTGGAACCGAGATCCTGCTGAGAGAAGAAAGGCCGAGCCCTTTAAATCAACTTGCCAAACAGTACCCCCAGAAGGTCCTGAGTTGAGAAAGCAGGAGGCAGCCTTGCCCTCCTGGAATAACTCTTAACCTTCCCTTTTCTTTTGTAGCCTTGGCCACTTTAAAAGTATTTCTTTATTCAGAAAGTGCGCAGTGTGGGAGGGCCTGCTCTATGGGCTTGGGGGAAAATGTCAAACGGGATCTGGACATCTATCTGACCTTTCAGGGCCATACAGGGCAAACGTATCCGCTGGAGTATGCACCATTTATTGAATGTTTACATCAATATCAGGGAGGTGAGCTTGTCCCAGCAGCAGCTTCTAGGAGCCACAGGTAACAGTAAGTGTGGCAAGGTGACTGTCCCTGAAAACCTGCTTCTGGAATGAGTCAGGCTTTAGGGTATGCTCTCTGGAATGCAGGCCAGCCGCCCCAACTCGCAGTAACGCAGGCCCTTAGCTCTGTGGACTGCGTGAGGCACAGCTGTGGGGACTCTTGCCCATGGTTTGGTGTTTGCAGGGTTATTCTCGGCATGCTGTGGGGCTAGGGTAAGTTATCCGGCTCCTGAGCCCTGCTGGGGTTCTCATCTCAAGGGAATTCTGTGGTGTGTTACTGTGCCCCACATGCAAATATCAGCTACTCTCAAATGTGTTGGATGGATGAATAGTAGAAGGTATTTTAAGAAGCCACAGGCCTCTTTGTAAATTAAACAGGCATCATACATGGGTGTTGATAATGATGAATCTCACAAAATCTTCAGATGTTTAGTCTCTGGGAACATTCCAGGAATCCTCATTTAGGTAACTTATATGTGATGAGACCTATTTGTTCACTTGAAAGAAAACCTGTTTTGAAGTCAGAGGAATGCGAATAGAGGCTCTCACATGGTTGGAAAAAGCAATCTGCAGGCCAGTTACGCCCCGTAAACAGGAACCCAGGACTGCCCTCCTGGCCAGGGCTGAGTTGCAGGATGGGGACCCCCCACTACCTCCAACCGCCCGCCAGGATGAGGAGTGCTTGCTCTCAGACGTGCCCCTCACTTTAAATATACAGAGGCCTTCCTAGGCAGCCTTTGATTGTGTCCTTGTGGTGACCTTGCCCTGCAGCAGGCAGCACTGGAGATGTTTTTCTCTTCTCTAAAGCATGACTCTGAGGCTCAGCGGTGTGAGGCTGTCCAAGCTGACACGTTCACTACTGGCAGAGGCGGGTCTCAAAGTCTCATCCTTGGACACTGGAGCTGAACTTCTTGTAGTGTGGGTCTTGGACCAGCAGCATCAGGCCTCACCTGTGGGAAATAAAGAATGTCAGCCCGCACCTGCAGGCCTACTGACCCAGAATCTTTTTTTGTTTTTTCCTTTTGAGACAGACTTTTGCTCTTGTTGTCCAGGCTGGAGTGCAATGGCACAATCTTGGCTCACTGCAACCTCTGCCTCCGAAGTTCAAGTGATTCTCTTGCCTCAGCCTCCCGAGTAGCTGGGATTATAGGCTCCTGCCACCAGACCTGGCTAATTTTTGCATTTTTAGTAGAGACAGGGTTTCACTGTGTTGGCCAGGCTGTTCTCTACCTCCTGGCCTCAAGTGACCCACCTGTCTTGGCCTCCCAAAGTGCTGGGATTACAGGCGTAAGCCACAGCGCCCAGCTGACCCAGCATCTTTGGAAGTGGGAGCAAGGAAGCTGTCTTAAACTGACCACGTGGTTTTACGCACAGTAAAGTCTGAGAAACATTGCATTGATCCCTACTCCAGTCCCTCTCCGTACACCTTTTGGGTGGAGTGGGCTGGGGACGCAGACTGTCTTTGGCTGTGCATGTCCTAGAGGCTGAACAGGACGAGATGGGAGCAGTGCAGTGTCTTAATGGGAATCGGGATTTTCACGGAGGAGCTGTTGGAACTGGGCTGAATAGGAGCCTGCCAGGCAGCAGAGCTGGGTGGGCTTGTAGGTAGAGGGAACAGTGCCCATGTGGACAGGTAAGCCAGAGTGTCAGAGAGAGGGATGTGGGGCTTGGAGCAACCAAGCCTCAATGCGCCATGATGTTCTTTGGGTTTTATTCTCTCTGACTTTGGAGTGGTCTGTGCCTTTTTAAAAGAGTAGAGATCATGTGCTTTTCAGAAGATTCCTCTGGGGGTCTGCGGTGGCTACAAGAGGCGCACCATGGGTGATGGGTTAGGCGCATTGCAGAGGTCTTGTGGAGGACTGGAGGAGACCTGTGGGATGCAGTTTTGCCTGTACTTTCTTTCAGAGCTAAGCTTTCTATCAGGGATAGGCCTAATAGGTGAAGGGGTGTGGGGACTGATCAGAGGAAGGGCCAGAGGAAAAGAGGGGCTTCAGGGCCGACTTGGAGCTTGGGCGGCAGTTCAGTGGTGTGACTCCCTTCATCGTGTAAGAGAAGAGGCTGGTGGAGGAGGAGGAGGTTGAAGGTCACTTGCTTGTTTTGGATACGACCTCTGTAGACATCCAGGTTATGTATTTCCTCCCCCCGGGCAGGTGGAAATATGAACCTACAAGCAGGGACTTGAGTGGCATCTGCGGGGAGGAGGTGGGAAAAGCCACACGTGCCCAGGAGACTGGAATGCAGGGAAAGGACCAGAAGAGCCAGAGGTAGAATTCTGGGTATATCCATGGATACAGGAGGGGTGGCAGGGAAGGAGAAATTTCCTAGAAAGGCGAGAAGTCCTCCTTGACATGTTCCTGTCCATAAGAACACATACGCACATGTACGCACCAGCAGGAAGCAGAATGCTAACCGAAGATAATTAACCCCCAATTCTGTGTTAGGGATTGAGAAATAGACCAGGAGCCCTGCCCCCTCCTCTCTCATTTCCTGACCTTCCACACTGAGAAGACCTGGCTAGGCAGCCTTGCTTTTTTTCCTGTTTAGCGGAGGAGTGAGGATTTCAGCCGGAAGGTCTTTCTGATGGCAGATGTGTAAGTGCCAGACATTGTGCTGGGTGCCTTCTGTGTCCTATCTCATTTATTATTGTTCCTGCTCCGAGGACTTGCCTCAAGGTCATACGATTTGTAAGTGGCATAGTCTCGGTGTCAGTGACAGGTCTGTTTGGTGTCTCTCTCTCTCTCTCTCTCTCTCTCTCTATATATATATATATATATATTTTTTTTTTTTTTTTTTTTTTTTTGAGATGGAGTCTCGCTCTGTCATCCAGGCTGGAGCACAGTGGCGTGATCTTGGCTCACTGCAACTTCCGCCTCCCAGGTTCAAGCGATTCTCCTGCCTCAGCCTCCCGAGTAGCTGGGACTATAGGCGCCTGCCACCATGCCCAGCTAACTTTTGTATTTTTAATAGAGATGGGGTCTCCCCATGTTGGCCAGGCTGGTCTCGAACTCCTGACCTTGAATGATCCACCTGCCTCAGCTTCCCAAAGTTCTGGGATTACAGGCATGAGCCACCATGCCCGGCCTTGGTCTGTACCTTTAACACCCCCAGCCTTTTCTGAAGAGTCACCAGAGAAGGGACAAAAATGAGGCCATAGCCTTACTGCTAAGGGACCATGAGAGGCTTGGGGTATAGCTGTCTGTTGAGACAGGTGCTTTACTACTTTGTAAGATGAAGAGAGCTGCCTCTGGCTGAGCACTGTCATTAGGACTCAGGGAATGGAAGTGTTTTGAGACCAGAGGGTTCAGTTTCAGGACTGGAGATCACAATGCATTCATTTTACAGAGTGACAACTCTGTAGGGCCACTCTTCACCCTAAGATTGGGTCATTAAAGGCCAGGCACATCCTATTCACTCCTTCACCTCCTTGTGAGCCCCCCACATGCCTTTTGATGAAAGGGTTTTCCCCAGAACAGTGTGTCCCAAGAAGCCCTGAAGGGCTGGAGATGTACCAGCTTTCTCTGCTATGTCCAGCAAGTGTATTTTCAGAAGGTAGGAGGCTCGGGCTGGGCTGGCCAGGCAGCCAGGCACACAGACTCCTCATTGTACATCCAAGCCGGGGCGTGCAGGACTTCAACATAGCTTGTAACGTAAGTATCTATTTCCTGGGCGCTACATGATCTAATGGCCTGTCGCTTTGGGAAATGCTTTCTGAACAAAAGACTCGATTTATTTATTTATTTATTTTTTGAGACGGAGTTTCGCTCTTGTTGCCCAGGTTGGAGGGCAGTGGCGTGATCTCGGCTCACGGCAACCTCCACCGCCCAGGTTCAAGCGATTCTCCTGCCTCACCCTCCTTAGTAGCTGGGATTACAGGCGTGTGCCACCACGCCCGGCTAATTTTGTATTTTTAGTAGAGACGGGGTTTCTCCATGTTGGTCAGGCTGGTCTTGAACTCTCCTGACCTCAGGTGATCCACCCTCCTTGGCCTCCCAAAGTGCTGGGATTACAGATGTGAGCCACTGCGCCCGGCCTTTTATTTTTTTAAATTATTATTATTTTTATTTATTTATTTATTTTTTTGAGATGAAGTCTCGCTCTGTCACCCGGCTGGAGTGCAGTGGCACGATCTCGGCTCACTGCAACCTCTGCCTCCCTGGTTTAAGCGATTCTCCTGCCTCAGCCTCCCGAGTAGCTGGGATTACAGGGGTGCACCACCATGCCTGGCTTAATTTTTGTATTTTTAGTAGAGATGGGGTTTCACCATGTTGGCCAGGCTGCTCTTGAACTCCTGACCTCAGGTGATCCACCCGCCTCGGCCTGCCAAAGTGCTGGGATTACAGGCATGAGCCACCGCACTCGGCCAGGACTCAATTTTGAAGTTCTTATGCAAGCAAAGCTGCCCATATCTAGGAGTTTATGCACACAGTACTGATTCAATACCTGCGTCTTAGTGGTCCATCAGGAATTTTTCACTCATGAAATATGACTTTAATACACGTGTTGGGACCAGAGAGAAAACCTTCCCTCTGTGCATCTTTTTTTGGAGAACACTGTCATGAACAGCCGAAAACATCAGATCAAAAGCAAGAGGGATACTGACAAAACAGGGAGTGCGGATTTCCACTGTGGGTGGGGACATTGGGAGACACGGTGACTCACTCCTCAGTAAGTGCATTCTTAGGCTCTTTACTCTGTGTGCATTTTTATTTTCTCATGGGCAACAATATAATTTCTTTCAAACATGAAGAGCCATCCAGCATGTTTCTCAAAGGCAGACTTAAATGATATGAGGGGTGTGCCTAAATATATAATTTTTAATGGTTACCATATTGGAAACATTAGCCATGATCCCATCTGATGACTAGGAACATGAGCCAGTCTGGAGTTTCTGGAGAAATCCAGCTACCGCTGCAGAGGCGGCTGTTAGCTGTTGTTACCGGCATCCTTGTTAGCGACCAGGGAGGTTTCAGTCCCGACTTGTGTCTACCAGACACCCTGACAACTGGTTAGAAAGAGAGGACTGCACCCTTTCATCCTGCGTACTTATCTGTTGTTTGTTGCTTTGACTTCTTTTTGTTCTCCGTTTTTATGTTGGCAGTATTTCTCGAGGTAGAGAACTTTCACCTTTATATTGTGCGGAGTATTTGTCCCTTCCTCGCCCCCTTAAAGAACACGTAGTACCTATGCCTTATAAGGTCTCTGTTTGATGTGAGGAATTTGGTCTTCTTGCAAGTCGGCTCTTGCAGAGGGGAGGCTTTGAGGATGTCTGGGCTGCAGCAGGCTGTCTTCGTTGCTGTGTACACAGCCCTCATGGCAGGGCATGCAAAGGTGGTTGGTTCTGACTTCAATGGCGGGACTCCATTGCCTTTATTTTTTAATTTAATTATTATTATTATTATTATTTTTGAGATGGAGTTTAGTTCTGTCACCCAGGCTGGAGTGCAGTGGTGCGATCTGGGCTCACTGCAACCCCCGCCTCCCGGATTCAAGCAATTCTCCTGCCTCAGCTTCCCGTGTAGCTGGGACTACAGGCACACACCACCATGCCCATCTAATTTTTGTGTTTTTAGTAGAGACGGGGTTTCGTCTTGTTGGCCAGGCCGGTCTCGAACTCCTGACCTCAAGTGATCCACCTGCCTGGGCCTCCCAAAGTGCTGGTATTACAGACATGAGCCACCGCACCTGGCCTCCATTGCCTTTATTTCTTTCTGCTGATAAGTTCTGATGCCAGTGATACCCAGATTGTGCCATAGGAAAGAGGGGGCTGGGCTCTTCCAGAAACCCTATCTTGCAGAAATCTCTCTTCTGTTCCTACGGACAGAGAATTGGGTATTGACCAGTGAGGACTTCTTACTGGGACTGGGCGTGGCCACTACAGGACATCTTCCAGACTAAGAGGGCCAGTTGGGGGTTACTGGACCAGGGAGGACAGTGGCGGCCACTTACTTGCCATGTGCTTTGTGTGCAGTGACTATGTAGCGACATTTGCAGCCGGACTGTGTTTCTCCTGTAGAGACACTGGCAGCCCTACAGCCCTACAGCCGTGACATTTACTCTGTACAAGGTGGCAGGAGGTGTGGGAGGGCACCGGGAACCGAAGGCCATTTTACTACCCTTCCCGCAGCGCTCCTGTTACAGTGCTTGTGGGAGTCCCAGCTGTGCCTCCAGGTACAAACGGGTTTCTTCCTGCAACCCACAACCCTGACAGGACATGCCTCCCGGGTGTGCTCCTAACCTGCCTCTTCTCTCTGCCCCTCCCTCTTTCTCCTCTCCCCTTCCCCTCTCTTTCTTCCTCTTGCCTTCCTCTTCTTTCCTCTCCCTCCCTCTGTTTCTCTCCCTTCCTTTTCCTTGTCTCCGTCTCTCCTCTCCTTTTTCCCCCTCTCCCTCTCTTTCATCCTTCTGTCTCTTCCAGAGGAGTCTGTTCAGGGATTTCTTTCTCTCTTTCTTCTTCCTGGAGGAATGTGTTTAGGGATTGGACACCTCTGACTTTGGAGGAGGGAGAAACCTCAGTGGGATGGGTTCCAGGACGACCCCACCGCATCCTTGGAACTAGGATGATCTAGACGTTGGAAAAGACACCATCCCTGGGAAACCCCAGAAAAGGCTTAATTTGTGAAAAGTAATGGAGGGAGCTGTGCCGTTGGTAGAAACTGCTTTTTTCTTCCTTAACAGTTTAAATCTGTCGTCCATTCTCCGTGAAGTGATTGGACGGGGCAAGACTCAGGTTTCCCATCTGTTCTCTGTTTGCATTTGGGCGCCATTTCAAAAACCACACGGGAAAAGTTTATAGGCAAACATTATAAAAAGTGACAGTCTGAAGTGCTGCTATCGCTGGTTTGGCAACGTAAAGTGTTACCTGAAATAGCTTACCGTTTCCAAACCCTTTTGCTGTTTCAACTGTCTCAAGACAACCCTCCCGCTGAGATGGGTGAGAAGTCCAGCTGGATGTGTGCAGTGAAGTCACATAAGTCACAGCCTTTTTTGACTTTTACAAGATTTCCCCCTCCTGGGGCTATCTTCACACACAGCGAGGATTTTTTTCTCTCTGTTTACTTATAGAGAGGTAAATTCATGCAGCTTGTGGCTAGTGGCACTCTGTGTGATGTCAAATGGTCTGCTGAGGGGCTCGGAGAGTCAGGCAGCCCCTGCCTCAGTTTCTCTCTCTCCCCAGTCAGAGGTCCTATGAGCTCCCAAGGAATAACAGGATGGTTTTCTTAGGGAAGGAAGGCCAGGTCAAGGCAGGAATTACTCACAGCTCATGTGCAGATGCCTGTTGTTATTCATACTATTTATTTATTTGTGTTTTTTTTTTGTTTGAGACAGTTTCACTCATGTCGCCCAGGCTGGAGTGCAATGGCATGGTCTCGGCTCACTGCAACCTCCACCTTCTGGGTTAAACGATTCTCCTCTGCCTCAGCCTCCCAAATAGCTGGGATTACAGGCACATGCCACCACGCCCAGCTAATTTTTTATATTTAATAGAGATGGGTTTCACCATGTTGGTGAGGCTGGTCTCGAACTTCTGATCTCAGGTGATCCACTCGCTTTGGTCTCCCAAAGTGCTGAAATTACAGGCATGAGCCACTGTGCCTGGGCTACTTATTTATTTTTGGAGACAGGTTCTCGTCTCGCTGTGTCACCCAGGCAGGAATGCAGTGGCGCGATCATAGCTCAGTGCAGCCTCTGGGGCTCAAGCGATCTTCCTACCTCAGCCCCCTGTGTAGCTGGGACTACAGGTGTTTATCATCATTCCCGGCTTTTTTTTTTTTTTTTTTTCATTTTTTGTGGAGAGAGGATCTTACTATGTTCCCTAGGCTGGTCTTGAACTCCTGACCTCAAGTGATTCTCCCACCTCGACCTCCCAAAGTGCTGGGATTGTAGGCATGACCTGCTGTGCCTGGCCCATTTATTTTTTGATTAGCTGTACAAGTACCTGTCTCTCTCATTTTTAAAGTATCAAAACAGTCAATTTTTTTTTTTATTTTTTTTTTGAGATGGAGTTTTGCTCTTGTTGCCCCGGCTGGAGTGCAATGGCGTGAGCTCAGCTCACCACAACCTCCAGCTTCTGGGTTCAAGCGATTCTCCTGCCTCAGCCTCCCGAGTAGCTGGGACTATAGGCATGCGCCACCATGCCCAGCTAATTTTGCATTCTCAGTAGAGACGGGGTTTCTCCATGTTGGCCAGGCTGGTCTCGAACTCCTGACCTCAGGTGATCCGCCCGCTTCGGCCTCCCAAAGTGCTGGGATTACAAGCACGAGCCACCGCGCCCGGCCAGTCGTTTTTGTTTGTTTGTTTGTTTGTTTGTTTGTTTTTAAAGAAGCTGCTTGTGGCCAGGTGCGGTGGCTACCACCTGTAATCCTAGCACTTTGGGAGGCGGAGGCAGGTGGATTGCCTGAGCTGAGGAGTTTGAGACTGGGCTGGGCAACGTGGTAAAACCCTGTCTCTACTAAAATACAACAACAACAACAAAATTCCCAGGCGTGATGGCATGCACCTGTAATCCCATTACTCCAGAGGCTGAGGCAGGAGAATCACTTGAACCCAGGAGGTGGAGCTTGCAGTGAGCCGAGATCGCACCACTGCACTCCAGCCTGGGAGAGAGCGAGACTCCGTCTCAAAAAAAAAAAAAAAAAAAAAAAAGGCCAGGCACGGTGGCTCACGCCTGTAATCCCAGCACTTTGGGAGGCTGAGGTGGGCGTATCACGAGGTGAGGAGATCAAGATCATCCTGGCCAACATGGTGAAACCCACCCCGTCTCTACTAAAAAAAATACCAAAAATTAGCCAGGTGTGGTGGCAGGCTCCTGTAGTCCCAGCTACTCAGGAGGCTGAGGCAGGTGAATAGCGTGAACCCGGGAGGTGGAGCTTGCAGTGAGCCAAGATCGCGCCACTGCACTCCAGCCTGGGCGACAAAGCCAGACTCCGTCTCAAAAAAAAAAAGAAAAAAAAGGCTGCTTGCTAACACGCTGCTGGTACTTCCCAAGTATTTGAAACTTCTGGGAGAAAATTCACGTGGATGCAACTGAGCTTTATGCAGCAGGGCTGCAGTAGTGTGGCCACGGCAGTAGAAACGAGTGTTGAGCTGTGTCCCAGGAAGGAGACTTGGTGCCTTGTTTGTTTACCAGTTTTAGGAAACAGTGACAAAGATTGGCCAATACTACTGTGAAGCTTGCTTGCTTCTTTTCGACTTTTAATTCATATTGTGAAAAATACATGGAAACATATTCTCTGTCTGTGGAAGCCTCTGAAAGAGCATTTGTGCATAGCAAGGCGGCTTCTGGAACCTTCTCCCCATTGCGTTTTGGCAGGAGATGAGGGAGATGTTGGGCTGTGCACCCCTGGTGGATTCGCACAGGAAAGGTGAAAAGTATGCCACAGCAATGGGAAAAAGTAAATCCAGGAAGTGCTCACATGACTATAAAAGGAGTTATGTACATTTCCTGGGGAATTCTTTGCTCTTTCACAGAGCAGGCTGTGCAGCCTGGTGGAGTCAGGGAGAGGTTGTCCATCCATGGGGGGTGACCAGAGTTAGGGAGGCCCCTTTGCACATGCAGGCACAGGGGATTCTCTGATTGTCCTGGCTCCGCGCAGCCTGGGGCCAGGTCAGTACAACTGTGGGGATGAACATGGAGGGCTCAGGGAGTGCATGTTTGCAGGGAGTGGGCAGCGGGTCAGGTCACCTGCAGCATTCAAACCCAGAAGAGAAGCTAAGCCCTGTGGACGGCAAATGGACCCAAGGACACGGGCAGGGACAGAGCTGCTTCCACTGAGCCAGCTGTTAGGTGCTTGTGTTCTTGGCCCCCTGGCCGGGGTTGTCTTTGATATGTGTCGTGTGTGCTGGGCCCTGCAGGCTGGGCTTGGGGGGCCACTGGGTGGCCTGGGAGGCTACCAGTGTGGCATTTGGCCCCTCCCCAGCGTATGGCCCCACCCCATCCCTGCCTCTCTTCTTACTTACATCCTCCTCTTTTTATTCTCCCCAACCTCTTTCTCTCTTGTGTGTTTATTCATGCATTCTCCCTAACATGTGCTTGCAGAGTCTTCTGGGATACCCAGGGGTATTACTGGCATGTTTACTAAAGGCACCGCTGATCCCCAAAATGGGCCCTTTGTGAAATGACCACTGAAGGGGTGGAGGGAGGAGTCCTTGCTTTCTCAGTTTACCAAGACAGCAGTTACTGGTTTGAGACTTTGAAGACAGGATGGCTTGATTTTTATGGATAAACATCATTATCTCATTGGTGTATTTTAGGGGGTGATATTTTACTATCCTTGAAGCTTGGATATCTAGATGACAGTTTTGATCTGGTTTTACTGGGATCAAAAGCAGTTTTAGTACGTCAAGTCATCTTAACTGTCCATTGAGATGGGACTCCTGTAAAATCACTTTGTATCTGGAGATAGCAATCCAAGTGTTCTGGCTGGGCGCAGTGGCTCACGCCTATAATCCCAGCACTTTGGGAGGCCGAGGCGGGCAGATCACGAGGTCAGGAGTTCAAGACCAGCATGGCCAATATGGTAAACGCTGTCTCTCATAAAAATACAAAAAAGTTAGCTGGGTGTGGTGGTGCACGCCTGTAATCCCAACTACTTGGGAGGCTGAGGCAGGAGAATCACTTGAACCTGGGAGGCGGAGGTTGCGGTGAGCCGAGATCGTGCCACTGGATTCCAGCCTGGGTGACAGAGCAAGACTCTGTCTCAAAAAAAAAAAAAAGAAAAGAAAAGAAAAGAAAAGAAAAAGAAACCCAGATGTTCTGTGATTATCCTCTGAAAATCGTGGTGCTTAAAAAATCACGGCAAGCATCTTCCGCCTTGAAGAGTAACAGTAATAGTGACAGTCATTAGCCCGACATGTTGTAGTTGATGATCAGGTTCATCTTCGTTGGCTCATTGGAATCTTACCAATAATAAACCAGTATTTGGGTACTCTTACCCTGCAACAGATGGGGAACACCAGGCCAAAAGGTTAAGCAGGAATGGAGAGGCGTGGGAACTCAGGGCTTCATCCTCTTCTCGTCCAGGGCAGCACCCTTCACCAGGCATCTCCCATGTCCAGCTCCAAATAAGACACAGGTCCTCGCTGTCCCCTGTACTTCCTTCTAGAACAGCACGTGGTAGTCCAGCAGCTCAGATACCCCCAGTTTCAGCAAGATTTTGGGGTTTACTGATTTTAGGTGAAGGAAAGGATTCTCAATGAAAACACTTTCATTTAAAAACAGGAAATCATACATCATAACTCCTCCTTTGCCGGGAGAGAGATTTTTTTCTGCATCACAATTGCAAATGCCTTGCTTATCTTTTTTTTTTCTTTTTTTCCCCCTAATGGAGTCTTAGAGCATTCCTCTGCGTGACATAGGGACATGGTTGCACCTTATCTGAGGGTCAGGATGGAGCAGATTGGTGTGTGGGTCCCAGGTGCCTTCCCTGTGAGGGAGGGAAGCTTTGCTGCTTCTGCTCAGCGGCTGCCCTGGTGATCAATTCTGGCTAAGAGGAAAGTACATTCCATAACATTTCTGGTGACTTGCTGATCATGTGATGTTGTCATAATAGACATTGATCATTTTATGACCCAGACTGATCCAATGTAAATTCATTCTAACATGGTGGGTGCTGTTTCAGCAATGAGTTGTTGGAGACCTGGGACTCAAAGGACATCTGGTCCTTGCCTTAGCCAGCTGTCAAAGGGGTTGGACCAATAGCGTTTGGGGCCCCTTCAGCTCTCATGTTGAGTGAATCTGTGACTCTAGGATGTTGGGAGTGGGAGATGGGCCAAGATTTGGGACCAGACTGAATCCCTGCCGTCTTCTCCTCCTTCTCATATTTCTCTTCCTTTCTTTTTTCTGTTTGGTCTCCATAGTTTAAAGTATTTCTATTAGTCACTCAATTCAGCCGCATTTTGACTTAACCAGCCTTGAGAGACCTGCTCTAAGAGCCTTCAAACTAAGTTCCCAACATCTTTTAAACTTCGCTTTGTCCTTCACTTCTCAGCTCAAATGCCTGTTCTTTGGAGAAGTCTCTCTGATTGTCTTATACAACAGGGATTGAAACACTTTTTGCAAAGGCAAGACTGCAAATATTGTAGGGCTTGCAGGCCACAGGGTTTCTGTTGCAATGACTGAACTCTGCCCTTGTAACACACAAAAGCAGCGCCAGACAATAAGGAATGGGCATGGCCGTGTTCTAATAAAGCTTTGTTTACAAAAACAAGCTGCGGCTGGCTTGGCCCGCGGGCCATCATCCGCCACCTCCTGCCAAGGGACCAGCCCTCCTCTGCCACTGCTGTGTGTGCCCGTACCTTGCCATGTCCTTCTTCCTAATGCTTAAGCAAGAACACTGTATTTTTTGTAGATTTTGTATCTATCGTCTGTCACCCCCACCATAATGGACGCTCCACAAGTGCAGGGTCTTTATCTTGTCTCCTCTTGCTGCGGAGCTTCCAGAATAGGCTTGTTGTATAGTAGACATGCAGTAAATAATTACTGAGTGAGAAAACAAATGTTAGAAACATAACCTGCCCGTCAGCTGGGCTTTCCTTGCTTTGGGGTGCATTTGTCCATGTTACATTTAGCTTCTATTTTCCTCCTTTTGTTGTGATTCTCTCTTTGTGTTCACGTGCTAGTTGGCATCTGGGGCTTGGCATGCATGCCTTTGGTGATGCCCCCTTGAGAAGCCCCGGGCCTCCTGTGTGGCTGTTGATGGTGGTGGTGAGGGGGATTTCTTGTCCCCAATGCATGTGGCCCTTGCTCCTTTCACAGTGGGACTGAAACACAGATTGACTTGATTTCAGTCTCCTGTGGGAGATTTGTTCTTCTGAGGGGTGTCTAGGCAAAACAGTTGCCTTTGATCCTGCCCTGATTTGGTGCTGTCTCAGTGCTGGGAAGCTTTGCATTTTCTAGGCCTGGAACTCTGGGTCCCATTCACACTTCTCACTGGAGGGATGAAAGCCTCCTTCTTGGGCCCTCGTGGCCATCCCAGCTGGCCGCTCCAGCTGTTGTTATTAATAAATGCCAGTGGTGTCCTCTCAACTCCAGTGGAGAGGTTGTGTGGGTTGGATCCTTGTGGGTCCAATCCCGTGCTGCATATCTGGGAACTGTGACCTTGTTTGACATGGCCATGTGTCTGCCAAGCAGGATGGGGTCGGTGGCGGGAAGCACAGAGAACCATGAGACCCACGCCTTTTCTCTAGGGTCTTGGTGTCTCCGTGGGGAGATGGGATGCATTCATGAGAATATGGTGCATCCCATGAGCTGGCAAAGTGGGCAGGTGTATGGTGGAGGGGGAGGGAGCCAGTGCTCTTCCGCCCAGGGGGACTGATGCAAGGTGACTCCCATCACGGAGGACCCTGCTTGATTTGGGTCTTGGAGGGTGGATGACAGGGAAGAGAGGGAGGAAGGACTGTCCCTACAGAAGAAGCCTGGGACATGTGTGGTGGGTGTTGGTGAGCAGGGTGGGACTCAGCTTTGTCGTGTGGAGTCGGGGGCACACAGCACCCAGCGGCTTCATTTCAGGACCCCTGTAAGTGCAACGGAGACTGCCTTGCAGCTGTCTGGGCATTTTGCTCTTTTTGTTTTTGGTGTTAAGGCCTCTAGGCTTTTATCATTTTGGGAAAACAGCAGGTCTCAGCTCACCCAGCACAGAATTAGGTCTCTAAACCGGCAAAGTACTGATCTGAACATGAGAGCTCATGAAAACTCTGGATGGCAAAAAATCTTGTAGAGGGATCCCTTAGTTTTCCTTGAGTTTGAGACATTTCATTTTAAGAAGCTTGGCCTTGGGGCAACAGACCAAGTCTAGCACAAATAATAAAGAGTGTATGTGTGTGTGGCGCACAGTCACGTTTCACGTACAAATGTGTAAAACTCGGCATTCTTACAAATAAAACATACCACAATAACAGATTTTTGCAGGTATTACAGTGCAAGCACGCTTTGGCAATCAATTTAAACATTTTCTTGTGGAATATTCTTCCATGCTATGGTTTGGTTTGTTTCTAAAGCCCCATAGGATGTGGAAACTAAGTCAGGACAGATTTTCTGGGGGTATCCTCTGGTTGCTCTTCCAGATACTTCCTGACTTCCTGGGGCTTGGGGAGAGGTGGATGCCTGCTGGGGCCATTTGCAGAGCAAGAACAGCTTCTCCTGGGAATAAGCAGGCCTCCACTGACCTTTGTTGGACGTTCTCTCCTCTCCCTCCTTCCCATCTGTCTCCGTCTTCTCTCTCCCACCTTTCTGCAGAGCCACCAACCAAATACCAAATCTCTCAACCAGAAGTGTACGTGGCTGCGCCAGGGGAGTCGCTAGAGGTGCGCTGCCTGTTGAAAGATGCCGCCGTGATCAGTTGGACTAAGGATGGGGTGCACTTGGGGCCCAACAATAGGACAGTGCTTATTGGGGAGTACTTGCAGATAAAGGGCGCCACGCCTAGAGACTCCGGCCTCTATGCTTGTACTGCCAGTAGGACTGTAGACAGTGAAACTTGGTACTTCATGGTGAATGTCACAGGTGAGTTGGCCCGCCAGCACTATGCTCTCTCTTCTCTGTAGCCATTACATTTTTTTGGCCAAGTGAAAAGGTAGTGAGATCTCTAATTGTAATTGGATGCCAGGCATACAGCTTCATAGTTTTTGAAATTCTTCTTTGGGACCTGGTGCACCAGAAAGGCCGATCATTAAGAATGATAGAATTCTTGTGCACAAAGTAACATTTTTCTTAAGATAGTACGCTTTTATTTAAGTAAATACATGCTTTTTTTTTTTTTTTTTTGTACCACTGACATCTCTGGCATTTAGAATATAGGGTTGAAATTTGGATACTCAAGATTTCTGATTCATTTATTAGAGTTTGAGTTTCTCTCCATGATTTCCTTCTATGCAGTGAGCGGGACAGAACAGGCCCCCTTTGTGGCCGAGTTTAAAGTTCTGCTTTCAGAATGTTAGTTGACGATGAGAAGGGCCACACAGGGACTGAGTTTTGTTAGGGATCAATTTCTTTCTTCAAGGAGACCCCGCATACTGAAAGGTTAATGTTGGAAAAAGAGTCTTTGGGTGCTACACAATTGGTAAATTTGTCAGGGGCTTGAATACTGTTTGAAGCTTGAAATCCAGTTCTCATATATCCAATTTTATAGCCTGTTTAAATAGCGTGAAAGCAGAAAACATTGAGAATCATAACATAGACCAACTGTCATCATGGAGGGAAAATTTAAGCCATTAAAACTATCTTAACTGAAAACAATCCCAGGCTCTTTGCGAGGGTTCCTGGGTTGTTGACTTTGCTATGGAGAAGGTCTCAGTTGTAGATAATTGCAACCTTTTTGCTTTGCAAAAAACACATCCATGGAATATGTTCTTTTGCATACAGATGCCATCTCATCCGGAGATGATGAGGATGACACCGATGGTGCGGAAGATTTTGTCAGTGAGAACAGTAACAACAAGAGTAAGTAACTGCCCGGCTCCGATGGTCCCCGAGAGAGGAGCATGGAGGGAAGTTCTGCCTGTCACCTGTCTTCTTGTCGACTCTTCTGCGCCATGCTGTGTCCCGCGGCCCTTGCCTTTCCCCGCTGTGTCTACTTTCCTGACTTTCAAACCTGAGAATAAACCAGTGTTGCTGCACAGCCTTCTCTATCGTTTGTCCTTTCTTCTCGTGTCACTGGTCATTCGTTTTTCAAAGCAGTTACTACTTTTCTTTCCTTGATTTTCCCTTTTCCCTTTGACTTCTCCCTATTCAGAGACATAAGAATAGTAGAACCATGTAACATCTTGGTTTTCCTTGTAATCAGTGATTGTGCTTGGTTTAATCCAGTGGTGTGTGACTGGGGCAATTGCCTATTCTTGCTCTCCCGGCACATTGGGCAATATTTGGTTGTCACAACAGAGGGAGGGGGTGCTGGTGGCCTTTAGCTGGGGAGGGGCCAGGGATGCAGAGCACAGCCCCATAACAAAGAATTATCTGGTCCAAGATGTCAATCATCCCTAGGGTGAGAAACCCGGCCTCCTACAACACACACCTCATGCTGAGTGAAAATGAAGGACGTGTGCCTTACTTTGTAGACCACGATTGAAAAGGGAGCCAAGGGTGGCTTGCTTAATGAGGGCCATGAACACTGAGCGCTAACATGGGAGAGGCCATTTACTTGCGAGGAAGAACATGGCGTAGCCTCTTGGAGCTGGGCAACCTGGGTTTGAATCTTGCTCCACAACTTCTGAGTTGCTCATTTCACTTCTGTGCCTTAGTTTCTTTATAAAATGGGAGTAATAATAATAATACTATTTTCTGGGGTTGTTATGAGGATTACATGAGTTCCTAGTTGTATAGTGCTCAGAAGAGTGGTTGCTTGCAAATGTTTATTCAATACACAAAATACAATATAGCATTACTTGCATTTTCCAATGACTTGGCTAGAATGTTCCTAAAGTGTTTGTACATAGGGTATTGGGATTCTCTGCTTACATGGTATATTCTACATTTTTCTTAAAAGGATTTTAGTCAATTTGGTACATTTAAACAAGGCCTAAGTAATATACCACACCCGGCTAATTTATGTATATATATATATTTTTTCCCGAGATGCAGTCTTGTTCTGTCACCCAGGCTGGAGTGCAGTGGCGCCATCTTGGCTCACTGCAACCTGCACCTCCCAGGTTCAAGCAATTCTCCTGCCTCAGCCTCCCGAGTAACTAGGACTACAGGGGCCTGCCACTACACCTGGCTAATTTTTGTATTTTTAGTAGAGATGGGGTTTCACCATGTTGGCTAGGCTGGTCTCGAACTCTTGACCTTGTGATTCACCTGCCTCGGCCTCCCAAAGTGCTGAGACTACAGGCGTCAGCCACCGTGCCCAGCCTAATTTATGTATTTTTAGTAGAGACAGGGTTTTACCATGTTGGCCAGGCTGGTCTTGAACTCCTGACCTCAAGTGATCCACCCGCCTCAGCCTCCTGAAGTGCTGGGATTACAGGTGTGAGCCACTGCGCCTGGCAATACTTTATTTTTTCGAGCAGTTTCAGGTCCACAGCAAAATAAAGAGGAAGGAACAAAGATTTCCCATATAATCTTCCCCAACACATGCATAGCCTGTCCTGTTATCAACATCCCCACCAGAATGGTACATCTGTTCCAGTTGATGAACCTGCACTGCCATCATTATCACCCAAAGTGTGTGGTTGACTTTAGGGTATGTAATCATACAGTGTGTAGCCTTTACAGATTGGCTTCTTTGACTTAGTAAGATGCATGTAAGTTTCTCTCATGTCTTTTCATGGCTTGATGGGTCATTTGTTTGTAGCACTGAGTATTCCATTGTTTGTATGTATCAAAGTTTATTTACCCGTTTACCTACTAAAAGATATCTCGGCTGGGCACCGTTGCTCACGCCTGTAATCCTAGCACTTTGTGAGGCCGAGGCGGGTGGATCACTTGGGAACAAAAGTTCGAGACCAGCTTGGCCAACATGGCAAAATCCCTGTCTCTGCTAAAAATACATAGGTTAGCCAAGTGTAGTGGTGCATGCCTGTAATCCCAGCTACTCGGGAGGCTGAGGCATGAGAATCACTTGAACCCAGGATGCGGAGGTTGCAGTGAGTCGAGATCACACCACTGCACTCCCTCCTGCCTGGGTGACAGAGTGAGACTCCATCTCAAAAAAAAAAAAAACAAACTCTGTTGCTTCCAAGTTTTGACAGTTGCAAATAAAGCTGCTACAGACATCTTTGTGCGGGTTTTTGTGGGGACATAGTTTTCAATTACTTTGGGTAAATGTTAAGGAGTGTGATTGCTGGATTATGTGAGAAGAGTATGTTTAGATTTGTAGGAAACCACCTAGCTGCCTTGCAAAGTGGCTGCACCATTTTGTATTCCCACCAGCAATGAATGAGAGTTCCTGTTGCTCCACATCATTCGATGTGCTTGGTGTTCTGGATTTTGGCCATTCTGATAGGTGTGTAATGGTATTTTGTTGTTTTAATTTAAATTTCTCTGATGACAGATGATGTGAAGCATCTTTTCATATGATTAATTGCCATCCATGTATCTTCTTTGGTGAGATGTCTGTTAAGGCCGTTGGCCCATTTTTTAATTAGGTTGTTTGTTTTCTTACTGTCGAGTTATAAGAGTTCTTTGTATATTTTGGATAACAGTCCTTTATTACATCTCTTTTGCAAATAGTTTCTCCCCTCACCTGTGGCTTGCCTTTTCATTCTCTTGACAGTGTCTCTTGCAGAGCAGAAATTTTTAAGTTTCATGTAGTCTGGTTTTTCTTTTATGGATGGTGCCTTTGGTGTTATACCTAAAATGTCATCACCCAACCCAAGGTCATCTAGATTTTCTCCTATGTTACCTCCTAGGAGTATTATTGTTTTGTATTTTGTATTTATGTGTGTAATCTATTTTAAGTTAATTTTTGTAAAGGATGTAAGGTGTGTGTGTGGATTCACTTTTTAGCCTGTGGATGTCCAGTGGTTCTGGGACTATTTGTTGAAAAGACTGTCCTTTAGGTTTTTTTTTTTTTTTTTTTGAGATGGGAGTTTCGCTCTTGTTGCCCAGGCTGGAGCGCAATGGTGCGATCTCAGCTCACCGCAGCCCCTGCCTCCCGGGTTCAAGCAATTCTCCTGCCTCAGCCTCCTGAGTAGCTGGGATTACAGGTACATGCTACCACACCCCGCTAATTTTGTATTTTTAGTAGAGACGGGGTTTCTCCATGTTGGTCAGGCTGGTCTGGAACTCCCGACCTCAGGTGATCTGCCTGCCTCGGCCTCCCAAAGTGCTGGGATTACAGGTGTGAGCCACTGCGCCCGGCCTGTCTTCTTAAAGGAAAAAGATAAAATAGATATTGGTAGGTGCCTCGGATAAATGAGTTACTTAAGTGAAGACTTAGATTTGTCCCTGAGTCTCCTAGCAGCTGGGGCAAAAGAGAAATATTTTGGTTGGTGCAGTTTTTACTTTTTGTCAAGAGGAAGCTTAGGGCAGTGGTTCTCAAAGTAAAGTTCCTGGACCAGCAGCATCAGCATCACCTGAGAACTCCCTCGAAATGCAGATTCTCAGGTTCCTCCTCAGACCCACTGCCTCAGAAACTCTGGGGCTGATTCTGATTCACACTGAAATGCGAGAACCACTGGCTTAGAATTTGCACGTGGAGGTCTGCCCTGAATGGGAGCTTACTGTTAGTGGTCTTGTTCGTAAAACAGTGGATAATAAGGTGAGTGGAAGTATCTTCTGTGATTTGTACCAGCCTTCTAAAGAGGTTATCATTATTGTTATTTAATAAAAAGCACTGATAAGTGGAGCATGTCACTCGCCTCTTTTTTTTTTTTTTTTTTTTTTTTTTGGGGACGGAGTCTTGCTCTGTTGCCCAGGCTGGAGTGCAGTGGTGCTATCTCGGCTCACTGCAAGCTCCGCCTCCCGGGTTCACGCCATTCTCCTGCCTCAGCCTCCCGAGTAGCTGGGACTACAGGTGCCCACCACCACACCCGGCTAATTTTTTGTATTTTTTAGTAGAGATGGGGTTCCACCATGTTAGCCAGAATGGTCTCGATCTCCTGACCTCGTGATCTGCTCGCCTCGGCCTCCCAAAGTGCTGGGATTACAGGCGTGAGCCACGGCACCTGGCCCACTCACTTCTTTTGGCCAGTGGCTCTGGCATGAAGCTGGAGGCAAAGATGCTGAGGGCCTGCACTAGACAGGCTCTGTGCTGGCTGCTGGTTCCGTCCATGCCACCAATAACCCGATCAGGTGGAGAGAGTATTTATTCTTGCTTTATTGAATGGAAAATTGTGGCTTAGCAAGCAAAAGAAGGGCTGCGTTTCAGTTGTAGGCCTGTTGCCTGAGAGCATCCTAGGGTCACGATGGGGGTGGAGTGAGAATGCTTGTACAGGTGTTTACAGCTCTCCAGTTTTACTGTATGTGGGTGCCCTCGCTATGGATTGAGACATCAGATTCTGTCAGCTTGGTTTTTGGATGCCTGGGGAACTGCGTTGTCCTGGTTGTCGGCTACCTGCCTAATAGCAGGTTACCGTGAAACCATGTGAAGCAATAGAATGCAACAGCAAGGTATGGATTACATGACAGGCAGGCTGAGTGGTTCAGAAGGATTATATGCTGTGGACCTTATGCTTTGCATTGTGAACAGTGTTCCTAACTGCCCAGCGCCCATGCAGAAGGGCCAGGGGGTAGAGCACCCATGTGATGAATGCCAACCAACAGTGTACTTGCCATGCCTTCACCTTGCAAGCAGGGTTCTTTTGTAATTAGCTCTCGAATGACAGCAACTCTGCCCCTGAAATGGGTGCTCTGCAGTGATTAAGGGCTAGTGTTAGCTGTACCAGGGAGATACTGCTGTGAGGAGGTGCCTCTGTTTGGTGTCTGTGAAACATTAGATGCTATTTAAAGTGATAGCGGTTCTTAGCTGGCTACTTGGCCTCTGCCATCTGTTAGTGTGATTAGGCTGGTCTGATTCACAGGTGCAGCCTGGGGCGGCTGAGATTAAGCAGCTGTGGTCTGTGTGGACAGAGGAATGCCACGGCCGGGGTAATTGGCAAGGCAGGAAAGGGGACGTTGCCATTAAAACAATTTTTTGCCACCTCAAGTGTCAAATGCCTGACCCGATTAATAGGGAAAATTGCAGAAGCACCAAATTCTTTGTATTTTCAGCCACCTGGAAAACACTCATGTGTCCAGATTGATTTCTTTGGTGCCTTCTGATTGTCTGAAAATGCCACTGGGGTGTGTTTGTATGTTCTTCTTTAGGAACTTTGACAAATGATGCTCCAGTGACCCTGTGTTGATGGTGACGTTTTTGGGCTTTTTTGAGTTTTTTTTTTTTTTTTTTTTTTCTCCTTTTGGATTGAGACATTGAAAATTTAGTTCTGTATCTTCCAGTTGGAAAAATATATTGCAGGTTATTCCCTCTGCTGATTTGCTAGATTATTGATCTAATTTTGTTGGTTAACATAAGAAGGCAAGCTCAGCTGCCTGCTAGAGTGTTTTTTAGATTCTGTACAGAGTACGAAAAGCTTGGGTGCCAAATACAATGGCAAAAATAACAATGAAGAATTAAAGATCGGGCGCGGTGGCTCATGGATGTAATCCCAGTACTTTGGGAGGCCGAGGCAGGCGGATCACAAGGTCAGGAGTTCGAGACCAGCCTGGCCAATATGGTGAAACTCCATCTCTACTAAAATATAAAAATTAGCCGGGCTTGGTGGCGGGCGCCTGAGGCTGAGGCAGGAGAATCACTTGAACCCGGGAAGTGGAGGTTGCAGTGAGCCGAAATTGTGCCACTGCACCCCAGCCTGGGCGACAGAGTGAGACTCCGTCTCAAAAAAAAAAAAAAACAAAAAACTGTATCTATTAACATCATGTTGTACATGCATTGAAAAACCCAGCCATGGGCTGATTTGATTGATCTTTTTAAGTTGGTTTCTTCATCACAGATGTGCAGGGCATTCTCTGGTCATATTTTAGCAGCTGACTAGCTGATGACCTCACATGGTACCAGCACTAGATGTTTCCAAGTGGAACAGTCCTGTGATGTCATTACAAGCCTGGTTGCCAGGAAATAATGCTGTTACATATGCCCCTCGGTGCAACACATTTTCTCCAGAAAGAAAGTTGCAGTTTCATATGCTAATTTTTGAAATGCATCCAGGTTGAGGGTTTTGAAGGGTTGAGAATTTATCCTTTCGCATAGAAAAGTATAAGTTAACTAGTTCTTGCCTTCCCTAGGTACTAGGTATGTTAATGGGTTATCTGGCAGCAACTAGGTAGATGCATATACCCATTTGTTCGAGGGATTTTTATTGTTTCCAGCTTGTTTCGGTGATTAATGTTTCTGAAGAGCTTGAGACTTAGTTTTTGAGAAGATCATGATGGACGAAAAGTTCAGGTCCATTGCTTAACTCGAGGGAAGTGATGGAGAGACAGTTGCATCAAGACTCTTGCTGCTAAAGTGGTTCTTTCTCTCGAGTGATGAGAGAAAAAGTAATTTTCTATTTTGGTTTCATTCCTGTTGAGACCTGCAGATGCCCACACTCCATGTCAGGGAGAAAGGCTATTTTTTTTGGAAGTACCTAGGGAAAATGAAGGTAGTTAGCCTGAGATTCCAAACTCATTTCATTGATTAACCTGCCGATAACAGTTCAAAGTCACCTTTGTTCTAATTGGGATTTTTACTTGGTAGAGATCCTAAGTTGGTAACAGCAGGCTTCTTAGTTGTGTTGAAGTTTCTAGGAATTGAAAAGAACAATATCAGTAATAAAAACAACAAAAAACCCACACAGGCTTTGCAAATTTTTAGAAATTCCCTTTGTAATGAAAACATCATCAATAAGTTGGTTTGGGCCAGCATAGCAGCTCGCACCTGTAATTCCAGCTAGTTGGGAGGCCGAAGCAGGAGGATCGTGTATACCCAGGAGTTTGAGACTAGCCTCGGGAGCATAGCAAGACCGCATCTCTACAAAAAATAAAAGATTAGCCAGGTGTGGTAGCTCATGCCTGCAGTCCCAGTTACTTGGGAGGCTCAGGTGGGAGGATCACCTGAGCCCAGGAGGTCAAGGCTGCAGTGAGCTGTGGTTGTACCACTGCAGTGCAGCCTGGGCAACGGAGCAAGACCCTGTCTCTTAAAAAGAAGAAAAAGCTGCTTTTGGTATTTTATCACAAATACTGTTGATGGTGTTCCATCCAATGGTTGGACTGAATATCTTTCTCAGTCTCCTCCTTGGTCAAACAGCATAGCCAATGATTGGAGAAGTTTCCTTTGAAGGCAGATCTTGGGAATTCCCATGGGCTAACTGGTCTGCTAGTGGGCTCAGTTCTTTCACTTGTGGTTAACTTGCTTGGTTTTGAAAACATATATTTCTGATTGAATGCCTGGCTGGTTAGCAAGTTTTTAATGAGATTTCTCAAAGCCACAGACATACCCCCTCATAATCATATCCTCACTCACATCTCCGTATTTTGTTAGATTTGTTTTCTCTTAGTTTATACCAAACTGAAAGCAGAACTGCAGGGTAGTGGGGAGCTCTGAGACATTTTTCCCCTGTCAGGAGTCAAAGCATTCAAATGTCCTGATTAGTGATATTTTTAAAAGCCCTAATTATAGACTCGAGACAGAGGCTTTAGTGGGGCTTTAGAGAGTTTGTGAGACTTAATCTAGGAGCTGGAACAGGCTGTGTTTTTAAAATTTTTTGCATCCATAAAAATACAGTTGGCAGTCATTGGTGGCCGCGGCTCACATAAATCTTGAACTTTTGACTTAATTACCATGGGAGAGTTCAAAGGGCAGGCTGGAGTGGTTGAAGGAACACTGCTCAGGGAGCTGGAGATGGGCCTGGCCTCAGCCCGGCCTCTGGCTGTGTGACCTTGATCAAATCACTTAACCTTTCTGGATGACATTGATATCATCAGTCGTTGGGCCAGATGGTCACCGAGGTCTCTTTTGGTACAGCCTGGTAATATGATTCCATGTTTCTCCTTTAAATCATTGGGCCGTGTTCTCTGTTTTTTGGTTCCAGAGAGAGAGAGAGAGAGAGAGAGAGAGAGAGAGAGAGTAGATTATAAACCTTAGGTGTCAGCATTGAGATGTGCAAGGGTTTTGGTGGGGGCAGGCCCAGCAGCCTATGGTTTCTCACTAAGTTTAAATTGCAGGGTCAAAAGAAATCACATAATCCTACCATTTGTTGACAGAATCAATACCTGTCTAGCACATAGATACCTGGAAAGTATGTTCGAACTGGCGGGGACCTTAATCAGTGCAACTACTTCATTTTATAGCTAAAGCTTTTAATAGTCATCCATCCGTCCATCCATCCGTCCGTCCATCCATCCATCCATCCATCCATCCAATAACGCTTGAGTGCCTACTCCATAGGCTAAAGACAACTCCAGCTGTACCCTCCAGGTGCCCTACTGTTGTTGGTCAGCATCAGAAGGAGTATTTTTCAGTACAGAGACACTAATGTTGGAAGCACACATCTATCACAAAGAAGGGGCCCTGAGAAAGAATAACTTGGCTCTAGGGTGGGAATAATAAAGGCTGTGTTGGAGTCCTTTGAAGGAAGTTTCTGTGGGTTTATAAATCTCTCTTTAACTCATTGCATCTTAAAAGACTTCTGTTGTCTTAAAGTAAAATTCTACTTAATATTATTACTAATGTGCAATGACTGTTACAGTGTAGAAAATGATAATGAGTAGGTATGCTATATGCTGGTGATGGGATTTAATTGATGGGATGGGATTGATTGATTGTGGCTAGGTCTGACTGTTCTTTAACCAGCTCATTCTTAGTATTTGATGATTAGGAGAACATCATTCTTGTGGTACCTATTACATCAGAAGGTCTAAGAATGTCAGAGCCAAAGGAACCATACCTCTCATCGAGGTTAATTTGTTTCCTTTACAGGTGGATTAGTGTCATTCATTTTGAATGCCATTGGAAGTTTATACCACACGTCTCTATTAGCTGACTTTAAGCCCGCTCTTCATACACCTCTAAGGTATATAAAGTTCAGGGAAACTCATGTGTCCTTAGCTTGCAGATTCATTTGATTGATTGATTGATTGATTGATTGATTGAGACAGAGTTTTGCTCTTGTCGCCCAGGCTGGAGTGCAATGGCATGATCTCGGCTCACTGCAACCTCTGCCTCCTGGGTTCAAGCAATTCTCCTGCCTCACCCTCCCTAGTAGCTGGGACTACAGCCATGCGTCACCATGTCCAGCTAATTTTTGCATTTTTAGTGGAGACGGGGTTTCACCATGTTGGTCAGGCTGGTCTCGGACTCCTGACCTCAGGTGATCCGCCCACCTCGGCCTCCCAAAGGCTGGGATTACAGGCGTGAGCCACCGCGCCTGGCCTGCAGATTCATTTTAGATAAGATTGTTGAGTAAACATCCCTGTTAAGCATCTACTATGGACAAGGCTGATCTCTGCTTCAGTAGATCTTTAATTTGGTACATGAGTTCCTTCTCCAAATGAGAGTTGTTAAAGCTGTTCACGAGCCTTGGTATAAAAGGGGCTTCCTTAGGTAGAGGAGCCCGTTCTAAGTGCCTGGATGGTGTTTGTCTCCAGCTGTTTTGCAGTTCTTGGGAGGCCCTGGCATTTCCATGTGTGTCCTTTCCAACTGCAAAAACATACAGAGGACACAAGGCTGCTGATGAAGGAAACACAGTAGGGCTATCTTATAGTATTATTATTTTTCTAGATCTTACAGATTCAAGGTTCACATAAAGCTAGTGTATTTTAGGAAGAGCTATTGTAAAATTATAAAAGAGTTCCAGCCGGGCGCGGTAGCTCACGCCTGTAATCCCAGCACTTTGGGAGGCTGAGGCAGGTGGATCATGAGGTCAGGAGATCCAGACCATCCTGGCTAAAACGGTGAAACCCTGGCTAAAACGGTGAAACCCTGTCTCTACTAAAAATACAAAAAAAAAAAAAAAAAAATTAGCCGGGCATGGTGGCGGGCACCTGTAGTCCCAGCTACTCGGGAGGCTGAGGCAGGAGAATGGCGTGAACCCGGGAGGCAGAGCTTGCAGTGAGCCAAGATCGCGCCACTGCACTCCAGCCTGGGCAACAGAGCAAGACGCTGTCTCAAAAAAAGGAAAAAAAAAAAAAAGACTTCCTCCCCTCCCGTATCAAGTTCATTAAACATATTTGTGAGCTTGATATTTAAAGAGAGGCTGTGTGCTGGTGTGATGTTAGCAGTCACCAGGGTGGGGCTGGTCACACATGGGAGCCTGGGTGGAGGGTTGTGCCTGGATTTTTTATGGTGGCCCCCAACCTTGGATCTCTGAGACCTAGATGAGCAGCACTGCACCCGTACCCTGCTGTATGGCTGTGTCTGTGTTTTGCAGAAGCAGATTTTATAGGTGTAGCTTTGATGATTGAAATATCACCCGAGGGAAGTGGCTACCTGCCAGAAATTCCAGCAACATTATTTCACCTTAGTCCTTAAATCACTCCCGAGGCACCAAGACAAAGGTGCGGGTTGCCCATGGGCTGTTGCCACAGGTCAGGCCTGCATAGGTGCGCGTGGTCTGGGCCGGTCCCTGGGCTGTTACAGACTCACCCATGGCTTGGCCCAGTGAGGGCAGAAAAGAACAACATTCCTAGTTCCTTCAGCTAAATCCCACTTTTTTTTTAGGGAACATAAAAATCATGCCTAATGGTATGTAAGCACATATCTGTTGATTTCTTTTATGTAAAAAAGAAAAGACATTCCACAGGATCAGCTCAGCAGTAATTGATGTTATCTGAAAGAGTTACTGCATTAATATTTAGCTAATTCATATGAATAGGCTATTGTGTTTACTTAAACAAATGACATGAGTGCAGACACCTGACAGCATGAGGTATGCTTTTCATTTAGGTTAGATTTGTAAACGTCTTTGTGTAGTGACAAAGCTCATTATTTGTTTTGTGCTCTCAATGGTTTCTTTTTAGTGGCTGTGGCTGTGGATGGATTTTTCTAAGTAGAAGCTTTTAAAATGAAAGTTTATTGAAATTGTTTCAGTATATGCCAGGCCCTGAGAGTCTTGGGATGAATGGGAATCAAGTACTCCCTGGTGAACCCTCAAAAGAATAGGTGCGTTTATGGGCATTCAACACCCAGAGCCAAATGTCTACCCAGGTTGCAAATGCAACTGGATTCAAAGGAAGGAATTCAGCCCCTGTTCCTTCTTTCTCCTCCTTCCTCTTCTTCTCTCCTGGCTTCGATAGTTTTGCCCCTCTTCCCACTGTTTCAGCATCATATGGGTGCACCTAAATCCCATCACTTTGACACTTAGATAAGCACAGGGATAAAGATACAGCATGGCCTTGTAAAGAAATCTCAGCTCTACCTTTGACAACAGGTTTCAAGAGCAAGCGTGAAGGCTAATTGGGGTAGGTGTTTGGATGCAGCGATTTCAATTCCTGATTGTACCCTGAGTCTGGCTGCTAAGTGAAGGGGATCCTTATCCCCCAGGGACGTGCTCTACACCCGTAGAATAGAGGAGACTTCTAAATATGCATCAGAGACAAAGCCCCTGCCTAGGGCCATTTTGCCTTGGGTTTGTGAACTGTGTGTGCTGTTGTTCAGTCTAGCCTTCATCAGAAATAAGCATAGTTATGAATTAGCCTTCTACAATGTTCAAGTCCCTGTTGGTGGCTGTTTCAGAGGAATACAGGGATTTTGGTTACTACTTTGCTAAGACAGAAACATATATGTGAATAGTTAAATTGCTGTACAGTAGAGGTTCTGGACAGGAAAAAAGGAGGACGTGTGCCTTGACCCAGGCTGGCTTTCCCGGACTTCAGCCTTAAACATCAGATTGGTGGAAGGTACGGATTCCAACCTCGTGGAGAAGCTGCATCTTCTTAGCAGTGGAGAGTAGGGTTGAAGATAGTGGGCTCTGGCATCAGACTGATGTGGTTCAAATCTTGGCTGCACCTCTTCCAAGCTTTGTGGCTTTTGGCAGGTTACTTAACTGCTCTGTGCCTCAGTTTCCCCACTTGGAAGCCAAGATTATGATAGTGCCTTTCTTGTTGAAGCATTGTGAAGATTAATGTGTTGACATGTAAAAACTCTTTGAGCAGTGCTTGGCAAAGTAGAAGCTTTCAGTCGGTAGTAGTCATTCGCCATTATTAGCAGACATGAAGAATTTACAGTGGTATTCTGGCTTGATGTTGTGGCTTTTATTTAGAAAAAATATACTTTACTTTGTGATTTAAAACTTTTTTCTTGACTTTAAAAAATCACTTGTATTTATGACTTTCGGGGACATCTGGAGGGCATAACTTTAACATATCATTTAATTGGTAGCCTCCTCTTAAGTTATCATTAGGTGGGGTGGTAGGGTTATGGCATTCATAACCACCATTGGAAAGAAATTTTTTTTTTAATTAAAAAAGTTAGTATGTATTTAGTGATACAGTTTTTTTTTTTGTTTGTTTGTTTGTATATAAGTTCTGAGAAATGTACGAATGACTCTCTGGGTTATTTTATTATATTAGAATGACAATTTATACTATTGATTGCCCTTAAAGTAAGGCTCCAATGGATAAGTTGATAGGGCTTTTGAGAACAACTTGCTTTTACTAGTGTGTATATGTGATCATTTAATAGGTGTGGCAATCCAAAATGATCTATTTTTGGAGGACTGAGCTGTCGCAGTTGTATATGTTGTTCATATGTTTATAAAATAGCATTTTAAAACATGATTTGGCATGAAATTATTTTCTGGCATCAAGAACAAGAGAGAGAAGGGGCCTCAAACACTTTTTTTTTTTTCTTCCTGTTGGTAGACATGAACCATCCCTCTCTGGGACCTTCTGCTCAGCCAGCTGGATTAGACTTCTGAAAATATTTTCCAAATGTAAATATTACCCAAAGATTTAAAAAATAGCCTAGCATTTACATGCAAAGCGAAATGATCTTACCTGTTTGGAGTTTACTCATGGAGGGGAAGCTGTCCATCAGTATACATTCTAATACTGTTTTCCAAAACAGGAGCACCATACTGGACCAACACAGAAAAGATGGAAAAGCGGCTCCATGCTGTGCCTGCGGCCAACACTGTCAAGTTTCGCTGCCCAGCCGGGGGGAACCCAATGCCAACCATGCGGTGGCTGAAAAACGGGAAGGAGTTTAAGCAGGAGCATCGCATTGGAGGCTACAAGGTAGAATTAAGCTTTCAGAACATCACATTTCTTACATTTTTGTTTATTTATTTATTTACATTTTTTTTTTGCGATGGAGTCTCGCTCTGTCGCCCAGGCTGGAGTGCCGTGGTGCGATCTCGGTTCACTGCAACCTCCATCTCCCAGGTTCAAGCGATTCTCCTGCCTCAGCCTCCCGAGTAGCTGGGACTACAGGTGTGTGCCACCATGCCTCGCTAATTTTTTGTATCTGTAGCAGAGACGGGGTTTCACCGTGTTGTCCAGGATGGTCTTGATCTCCTGACCTCGTGATCCGCCTGCCTCGGCCTCCCAAAGTGTTGGGATTACAGGTGTGAGCCACGATGCCCAGCCCTACATTTTTGTTTATTTTTTGAAGTGCTCAAAAGTTAGCAGGAATTAGAAGGAATACTTTAACAAGAATCAATAATTGTCACAATTGCCCATGTCAGGGTTTGATATTAAAAAAAAATATTACCCCGGACTTGCGTGTAATTTTAAAGTACAATTCCCGTTTGTGTTGTTCTTCATATGAGGAGAGTTTAATAACAGAAGGGTCGAAAGTTGAGAGTCTGTTTTCTATATGCTTTATAGTGTATAAAACTAAAACGGGTGTGGAGTTTGAGAAGCGTCAGTATAGTTTCCCTGTCAGAGCAGGATTGCATGAATAGTGAGGGGACTTGGATTAGAGACTGGAGTATGAAATATGATGCATTAAGGGAGAGTGCGTGGAGATGACAGTGGCAATCTGCTGTCCTCCTTGAAGGATTCTTGAGAGCACGTCACACAATGCCATGAAATTTTAGTCTCATCACTCCCTAGGGAGTTTGAAATTGGCAGCTGTCTCCCTGCAGATGCCCGCGCATGCTCCTCTAGCCTTTGTTCATCCACTTAGCAGACATTGATTGAGCACCCTGTGTGCCAGGCACACTCCTGGGCTCTGGGGAGATGAGAGGGTGAGGCATGGCCCCAGCTCCAAGGGGCTCTTAGTCCAGTCCAGCAGGAGAGGCAGAGGAGAACTCTGGCAATGGGAGGGACACAGGTTTGGTTGAAGTTGCAGGAGCATGTTGCATCCCATGGATGTACATGGAAAGGTGATATTGGATTGGCGTTTGGAAGAATAAGGAGAAAGGAGGTCAGGAAAGGATTCAGGTCTGAGTTGGAAGGAAAGATGTCTCAGAAAGAGAGAGATGGAATTTCCAAATTATTTAGTATGGAAGGAGAGAACTGTAATAATTGAGCATATGAAAAGGACTGAAGGAAACCTTATGATGAAATTCTCTGATGCATTTGGAACATAAGTGGGCATATTAGTTACCTGTTGCTGCATAATAAATTGCCCCAAGGTATGGTAGCTTTAAGCAACATTTATTACCTCATTGTTGCCTGGATCAGGAATGAAGGTGTGGCTTAGCTGGGTCTTCCATCTCCAGCTGTCTCACAGGACTGTAAGCAAGGAAGGGTTGAGGCTGAGGTCTCATTGGAAGGGTTAATTGGGGAAGGAACTGCTCATGTGGTTGCTGTTAGGATTCACTTCCTTGCAGAGGGCCTCAGTTCCTCACTGACTGTTGGCTGGGGGCTGCCCACTGTTCCATGCCACACGGGCCTCTTCATAGGGCAGCTGCTGTCATCAGGTTGAGCAAAGGAGGAGCCAGAGAGAGAGAGAGCAGGATCGCAGAAGTCAGAGCCTTTTGTAACCTAGTGTTGGAAGGGACAGCCACCACTTTTGCTTTTTTCCATTATTAAGCAAGACACTAGGGAGGAGGTTGCCCAAGGACCTGAATGCCAGGAGACAAGGGGATCACCGGAACCCATCTGGGAAAACTGCATGGTGGGAGGAATAGAAGACGCTCTTTAGCTCAGACCTCAGGTCCTTTACAGCCAGGTAGGGAGGATTCCTCAGTAGCAGCAGTGGGGTGTCCAGGACTGTGTCTCACGTGTCTTTAACACACCAGCATCACTTTAGCTCCATCATTGCTGTAGGTAAATGAGCCTCCTTTCCACCTAAAAATGCCCTGCAACCCTTTTCTGAAATTTCTTAGACAGTTATTCATCTTTAAAGGATTATTTTCTTCTGCAAAAGTTTTTGCCTTTTTGTTTTAACACTTAGAAATTAACATCTAGAGGCCAAAATTCAGAGGAAAATGGGGACAGCCTATGAGTAAGTTTCTAAGAACGCATGGTGGGCAGTGAACATGTGAAACAGTTATGAGGCAGATCTGCTAGCAGGTGGGTACTGTTGAAGCTTGAAAGTAGAAATACTTTGGTTGTTTTCCACAACTCCTACTTGGTGGTGGAAGCAGGAGGCAGGGGGTGATTTGTCCTTCTGTTCTTAGTTCAGTCCTTAGACCAGATACGATGAGATTCAAAGGTTGGCCCTTTTAAAAGAAATCTTTTTGAAAAAAAAAAGTTAAGGATTTCATGGGGGGATGCTGGTTAGAAAGGAAGAGTTAAGCCACTAAAATCACGGCCCCTGGGATTGTTTTTAACCACCAAATGCTTTCTGAAACTCACATAATTGATGCAGTTCCAATGATTTATTTAAATACAATCTGAGTGTGAGAATGGTGGTCAAAATCCTGGTGGTTAACTAATTTTGTCAATTAAGACAGCCTTGTAAATAAGTACAAAGAGGAGCTGATGAGGCTCCAGAGACCCCTGGGCTCAAAATAAATGGAACCGACATCATTATTATGGGGAAGGAGCTTTTTGCAAATCTGAATTAGTGATTACAAATATGCTAAGAGACTAAGAGGGCCTAATGAGAAAATGCTGCCTGATTTTTAACAGGTGCAGTTCAGTGTTAATTATTGATTCCAACATTTCGCTAGATGAAGAGCACCTATGTTCTAAAAGCAAAATGAGGACTCCCAGCAGAAAGCCTTTAGCCTGCCCCTGTGGAGTGCAGATGACCAAAGTGATTTTGTTGTATCACGCTGAGCCGTTTCTGGAGGGAAAAGGAAATGGAATTTCAGTGTGTGGGACAAAAACCTAAAATATATTTTGCTTTACCAAAAAAAAAAAAAAAAAAAAAAAAAAAAAAAAAAGGCCAAAAGCGGCAGAGGGCCACACATTTGGATGCAGTGTGCTGGCGTGGTCCTCTCCTTTCTGGTTCTCTGGTGGAGAAAGGCTATGGCTGTAGGGTGGGGCGGCCTGGGAGGTTGGCCCGCTAGTTGCAGAGGTGGTCAGCCTAGGTTGATCAAGGGCTTTTCACAACAGCAGTGGCATTGAACGTTCATTTTGGAGATGCCAGAAACTCTTAGAAATTCCACTGAGTCCCAAGGGCTTCCGGGACTTGAAAAGGAAAGACACATTTCTCATCTCCTGGGAAGGTTCCTTCAGTTACCTAAGGCATCATCTTCGCTAATGATGTGTTAAGCCAACCCCAGGTCCTGGAGTCACTGGAGCTCAAAGAGGCTCATTCCCACCTGTGGGCCTCCCCCATGGGGAGCTCCTTGGCTGGCTATGGCCTGCGTTTGCCTCAGAGAGTCCTTGTTGGGGCCTGACCAAGGCAGACTTTGGGGAGAATGGTCCCTGGTGTTGGGTTTTCTCTCTGATATTTTCTTCGTTACCTACGTAGACTTAAAGAAATGTGCCTCTGGGTTGGGCACAGTGGCACTGTAATCCCACTGCTTTGGGAGGCTGAGGCAGGAGGATCATATGAGGCCAGGAGCACAAGACCAACTTAGGCAACATAGTGAGACCCCCATTTCTGCAAAAAATTTAAACCATTAGCTGGGCGTAGTAGTGCTCACCTGTAGTCCCAGCTACTCAAGCAGCTGAGGTGGGAGGATCGCTTGAGCCCAGGAGTTTGGGGCTGCAGGGAGCTGTGATTATGCCTCTGCAGTCCAGCCTGGATGATAGAGGAAGACTCTGTCAAAAAAAAAAAAAAGAAAAAAAAGGTACCTTTGCACATTTGACTTCAGGGAACTATATTGTTATTTTCATTCCTCGGCACTTCCTCAAAAGCAAAGAGACCTAATTGAAACTCAGAGGGCCTGACATCTAACTGATTCATTCCTGACTCCTGTCCATTTGCCACTTTGCTTTATTTTATTTTTATTTTTTGAGACTGAGTTTTGCTCTTGTTGCCCAGGCTGGAGTGCAATGGCATGATCTCAGCACACTGTAACCTCTGCCTCCCGGGTTCAAGCGATTTTCCTGTCTCAGCCTCACAAGTAGCTGGGATTACAGGTGCCCGCCACCACACCCAGCTAACTTTGTATTTTTAGTGGAGATGGGGTTTCACCATGTTGGTCATGCTGGTCTCGAACTCCTGACCTCAAGTGGTCCACCCTCCTTGGCCTCTGCGAGTGCTGGGATTACAGGCATGAGCTACTGCACCCGTCCCATTTGCCAGTTTATTTAATGAAGAAGCAAAATGTCAAGTTTTCCAAGATACATTTTTCCAGAAAGCAAATACCTGAAAAACTTCTTCAAACAAATGTGTGTTATTTCTGCAATTTTTCTTTTTCCTTTATAATTCTGTTCATTCCATAAACTATGATTGTGCTTTGGTGGCCTGTCCATCTCATTCTTTCTACCCGTTTATGGATTGGGCACCTCGGCAGCCATCCCCTGCATTACAGCTTGTTTTGAAATGGCATGCATGTGCGGCCTATAAAGGGAGGAGGGAAGACAAAAAAAGCAAAACAAAGTCAAAGAGAATTATGAAATGTGACAGAAAGCTCATTTTCATTCAAATGACCAATAGAACTATTTGGAATTCGGCAGTTCAGTCTTGTTTATCAAAGAACCCATGCTGAGCCATCCTTAGGTGATTAAGAATCAAATTATTATTTTTAAAGTGCATGAGCAAAGTCTTGCTGGATGTTATTAATATGTGATTGATATAATAGTAAAGGACTTGAATCATAACTCTATCTCCCTAATCATACTTATTCCTGGGCTTTTGCGTCAGTCTTGACCATGGGCAAGTTTTTTCAGCTCTCTGTGCCCCAGAATCCCTTGCCTTAAAATGGGAAGATTGGCTGAATAATCCTGATCCCTTCAGGCTCTGAGAACCATAATTTAATAGTATCACCATCGTGTAGCATCAGCCATTTCTCTTCTTAAACAACAGCACAGATTTTTTTTTTTTTTTTTTAATAAAGAGGTTACCTTCATGGCTAGATATTTCACAGGGCTCAGGACAGTTATTGCAATTTAATGCAGAAAAGCAAGAAGCTGGCTGAGATAATTAATAGACCACCTCAATTCTCACCTCCTTCGTAGGTAATTATTTAGGCATAGGGGGTTCTTAAAAACCATCTTTTATGCCACTTCGAAGTGCCTGCATAGACCAAGAGAGATCGCAGGACAGAGGGCTCATTCAACGTGACTGTGAAATTGGCACAGAAGCCCTCAGCGTTGGGTATTACAGGGGTTCAGGTTCCCCTGGAGCCCCTCAGCAGAGAGTAAAGCATTATTGAGCATGAACCAAGTATATTTCAGATCTAAGAAAAGATGATTTTTAAAACTTTTGTTATAATCACTACTAAACTGGTTGTTTTGAAGCATAGGTTAATTAGATTTACATTTTCTAGGTTAGTTACTTAGATGTCATTTTAAAGACTTTTTGATGAAATGTTATGCTTAATCCACAAGTATGTTTAGGGGGAGAAATCATGACTAATGTACTTATCAGCATGTTTATACTTTATGGAGATTTTTTTTCAGTGAAGACATTTCAGCTTTAATCCCACATCAAGCAGTCTTTGATGAGGACACAGGTATATGTTTGTATTAGCCAACGTTTATGGACTGCTCCCCTGCGTCGTGACTTACCAGGTGCCTCCCATGGAGCAAGTTGCTCAGTCCTTCCACAGCCCAAAGAGGCAGACACTGTTATTTTGCCCTTTTACATTTGAGGGCTTGCCCTACCCCTACCTCATAGGTGGCACAGCTGCCATTTGGACCTACGTGGTTTTGCACCAGAATTTATGCTCTTGCTAAACTGCTTGCTTCAAATGTAGTTCCGTGTTTTGTAAAAACACTGTTGCTGTTGAATGAGAAACATAATGAAAGTAATGGCTCCCCAAAAGCATGCAAAGATCTAGCCCATGGTATACAGTTGAGAGCAAAGTTGGGGATATGATGCTGTTCTTTCAACTTCCAAGACCTCTGTGGGTTATTTATTTGTTTGTTTTTGAGACAGAGTCCCTCTATATTGCGCAGGCTGGAGTGCAGTGGTACGAACATGGCTCAGTGCAGTCTTGACCTCCTGGGTTCAAGTGATCCTCCTGCCTCAGCCTCCTGTGTAGCTAGGACCACAGGTGCATGGCACCACATTTGGCTAATTTTTAAATTTTTTGTAGAGACGGGGTCTCACTTGGTTGCCCAGACTGGCTTCGAACACGTAAGCTCAAGTGATCCTCCCACCTCAACCTCCCAAAGTATTGGAATTACAGGCTTGAGACACTGTGCCCAGCTGGTTATGAGGTTTTTACATTTATTGTGGTAATATATGCATAACATAAAATCTACCATTTAAGTCATTATCAAGTTTAGTAGGCATTAATTACATTCATGGTGTTGTGCAACCATCACCACTATTTTCAAAACTTTTTCATCTCTCCAAACAGAAACTTTGTACCCATTAAGTAGTAAGTACTCATTTCCCCTCCCCCACTGCACCTGGTAACCTCTAACCTACTTTTTGTGTCTATGAATTTGCCTATTCTGTGTACCTTATATAAGTGAAATCAGGATATTTTTCCTTTTGTGTCTGGCTTATTTCACTTAACAAAAGTCCATCCATATTGTAGCATGAATCAAAACTTTATTCCTTTTTATGGCTGAATTATATTCCATTGTATGGATATACCACTTTTTTTTTTTTTTTTTTTTAAGACGGAGTTTCACTCTGTTGCCCAGGCTGGAGTGCAGTGGTGCAACCTTGGCTCACTGCAACCTCCGCCTCCCAGGTTCGAGCGATTTTCCTGCCTCAGCCTCCTGAGTATGGGATTACAGGTGCTCACCACCATGCCCGGCTAATTTTTGTATTTTTAGTAGAGACAGGGTTTCACCATGTTGGTCAGGCTGGTCTCGATCTCCTGAACTTGCCATCCACCCACCTCAGCCTCCCAAAGTGCTGGGATTACAGGCATGAGCCACTGTGCCCGGCCCCACATTTTGTTTATCCATTCATCTGATGATGATCACTTGGGTTGCTTCTACCTTTTGGCTATTGTGAATAGCCATTGTAGCAATTGGTGTACAAGTATCTGTCCCAGTCCTTGCTATAAGTTTCTCTGGTATATACCTAGGAGTGGAATTGCAGGACCATATGGCATTTGTCTGTTTTGCAAAAGCAAAAATGGGGAAGATCGTGACATTTTTAAAGAGCTAAGTTCAACAGGCGGTGGATGTCCTGCCGCAGCCACCTTTGTGAGCACCGACAAGCAACGGGCCTCTAAGAAAACATGGCTTGTTGTAATTCACTTCCCACCTCCTCTGGAGAGATCCAGTGGTTGTTTACCGAGCAGAGGGAAGAGTTTCTGCCACTGGTCCCGAGGATCAGATTGCCCGGCCCTGTTCTCTGGACACCTCCTGAAAAGCAAACTTCTTGTATCAATGTTGGAGTTTAAGCATTAACAGGTGTTTGCCTCCACATCTGCATGGTGGTGAGCAACAGCAGGTACCTCTGTCCTTGACATGCAAGGTTAGTTGGCACAAATGCTTTCAGAAAGGATGGCTTCAAGTCCCCCAGGCACCTGCTGAAAGTGGGGGACTGGGATGGGAGAATAAGATTTTATGCATTTTTTGTTTTTTGTTTTGTTTTGAGACAGAGTCTCACTCTGTCACCCAGGCTGGAGTACAGTGGCATGATCTCAGCTCACTGCAGTCTCTGTCTCCCGGGTTCAAGCGATTCTCTTGCCTCAGCCTCCTGAGTAGCTGGGATTACAGGCACCTGCTACCATGCCTGACTAATTTTTATATTTTTAGTAGAGACAGAGTTTCACCATGTTGGCCAGGCTGGCCTCGAACTCCTGTCCTCAAATGATCTGCCCGCCTCGGCCTCCCAAAGTGCTGGGATTACAGGCGTGAGCCACTGCACCTGGCAGATTTTTTGCATTTTAATGGCAACTCACCTGTTGAATGAACTGATCTGTTCATGGGGTGGGTGCCTCTGTGAAGGCCAGGATTACAAGAGATTGCTGTCTTCCTGGGAAAATTGGGTGCTGATACTGGCGGGAGAAAGGCTTGGGAATATCTTTCTGATATCACATGGACACAGCGTTCTACCTGGCACAGAATAAAACTTTGTATCACCTTCTGCATGTTTATTCTGCTTGTTATCGAACACCTGAGTATTTGGAAATGTCTGGATTTTTTTGCAATGTGGAAGGTAAATATCCAGGTGACAGCCTGGGTCTTTAACCTTTCACCCTTCACCTTTCACTGCGGTGTTTTGGTGTCAACAAACTAAATCTACATTCCCAGTTGTCACCTGAGGGTAGCCTGGGATTTAATAGGCATTTTGGGGGAATGAAGGTAACAGAAGAATTCCGAAAAACCTGTCTGGGCCACCTTGTGTCTTTGTGTGGATAGGGTGTGGAATGTTCATGGAATCCGCTTCTTGTATTATACTTGGGAGTTTAGGCCATTTTGCTTCAGTCTGCTTTGTTTCAATATTGAAATGTTATTTTAAAAAAGTCTTTAGTGAACATAGTTTTGAAGTCCATGCTCTCCTGTTCTGTTACTTGGCAGATGAAAAATAATGATGAATTCCACAAAGATTTGGCCATGAGCAGGAAAGAAAAAGAGTCGTGCTTGTGTTGGTTGGTGCAGAATTTCTTCTCTCACTGGCTTTTGTGTTTGTTTTGCCAGATCCATTGGTTCTGCAGGGGGTAGCTACTATTGAATGATTATCTAAGGATCTGTTTTATTATACTTTTTTGTTGTGTGTGTTGAGATTTCTGTTTGTTTGAAAGGTAGAAATAAGAAAAAAGTAGGCAATACCCATAATCCCACTGCTTAATTATATAAAGTACATTGCTAACAATTTGGTATATTTTCTTTCTGATTTTAGCTGTGTTTATAGTCAGGCTTATACTTTCAGTTTTATATGCATCTTTAGGGTGGTAAATGTGTCTGCTTTTTTCTTTTTTTTAAATAAATTGGAATCATGAATTAACTGTTTTTCATTTATCAATAACTGTTTAATGATACCTTACCAGGTCTGAACATAATACTTCATTCTTTTTATGACTATAGACTACGCTGTTTGAATGAACTTTCCATCAGTTCATACAGGATGAACTATGCATTCTTAATGTCTCTCTCCTTGACAGTTTTTTGCTCTTACAAGCAGTGCTTGAAGCAGCAGTTTTGTTCATGTGCCTTGAAGTAATTGTGCTATTTTCTGTGGGCTAGCTTTCTAGAAGTAGAATTAACTAGATCAAAAAAAATGTGTGCTGCTAATTTTAATAGGTACCAGCAAGTTATTTTACACAAAGGTTTTTCTCAATTTATGTTCCCATTCTCAATTGGAATCTTTTATTTCCCTACACATTCACCAAGTACTGAATAACATTGATCCTTCTAATTTTTGTTAATCAGCTGGTGAATAACAGTGTCTCATTATTGTTTTAATTTGCATTTCCCGGATCGTTAATGAGGTTAAGCATCTTTTCATATGTTTATTGGGTATTTACATTCCCTCTTCTCTGAAAGCAAAGACGGTGTATGTGCATTTGGCCTAACTGGCAAAAGAATTGTAGCACTGAAAATCTGAGGAATTTAGAAACACGCGTTGTATATATTACGTCGGAAGAGTGGTTTCTTTAGGTTTATTCTGAATCTCCATATGGAAATAGAGTAATGAAAAAAAACCCCCAAACTTTGTGCTTTTGTTTGCCATCTTTATAAAGTTAACTATTGTAGTTTCTTAGCTTGCTATTAAGCAACCACTAATCAATGGTAGGATATCCCCTACAAAAGTGTCCAGCAGTCCCACTGTTGGTGGATTTAAGAGCATCCATTTGGAAAATGCTACAGCTCATAAAATTTGGGTCAATAAATCAAATACTGGAGCAATGGTGTAAGAAAATAAATATTAACAGCACTGCATGGGGCAATATTGATCTAGTACCAAGATTTCTGGATGGACAGAAACACCCTGTTTGGTAATTGTGCTTCTCATTGTAAAAACATTTTTATAAACGTTAACTTATTAATATTTGTAGTGCATCTCCAGGAAGTAAATATTCAGAGAGCACGTGCTCTTGAAGAGGGATCTTGTATGGAATGCCATGGCCCCAGTGAGAGACTTGAGCTGACCATATCCCCTGGGGTTAAAAAAAGGGAGCAGTGAGCCAAGCTGCATATGCCAAGATTTAATGTGTCAGCCGAGTCAGGCGATGTCCCCTCCCTGTGCAGTTCAGGTTCAGCTCCATTTGGAATACTCCATGTGCCAAATCTGGATCCAGGCACAAGAAAGACATTGACAGTTTGAATGGGGTCCAGAGACAGGCACTAGCCGTGATTAAGGGCTTATGGGCATGACATTTGAGCGGGGGCTCAAAGAACTGAATATTTACAGCAGGGATAAATGCTGGATTACATGGCTTGGTGACGTGGGGACCCGTGGCTACATCCCTAAGTTACCTGCCACATGACTGGTTCCCCGTAGGCAAAGAGAGAATCATTTCTGTTACCCTTGAGAGCTTGAGGTGAAGGGAGGGTCTCCTTTTGGGTCTGTGGACCTCAAGTAAAATCAAGGAGCTTATACCTATGTGTCCCATGCTCTTAGCATAACGATGCCGTTGTAGCACCCAGGGATCCAGGATTTAGGTAGGGAATTCTCATTGCGCTGGAAGATTTAGCATCCATATCTCCTCCTCCTTCAGAAGACACATTCTGCATGGAAGGTGCTTATCTCTCTTAAGGGGAGACGCGCTAGCATGTTGTCTGGGTCCTGTTACAAGTCTACGGCTCAACCAAGAGCAGAAAGCGAGTCTTTGTCATACAGTAAAGACTCTCCACTGTCGATCAGATGCCCGTAGATTCATTTTTCTGCCAGACATTTTACCTGCGACAGTGAGGATCAGTTTCCCATCACCAGCTCCAGGCTGTTAGACTCTGAAACTACCTTCGTAGTTGTCGATGACTGCAGCAGCCCAGCAAAGTGGCTGACCAGAACTATCTTAACTCACTGCTTGTACTCTGTTAAGGAGGAAGGAGGCCAACCTTCATCCAGTGATCCTTTCTAAGACTGTCAGTGATGAGCAGCGACCTCGTTTTAGAACTCAGCAGCAGTACCTCCACCCTGCAGTCATGGCTTGCATAGAACTGAGTGGCTGACATGAAAACCGTGGCACTCCAGTGTGCTCTTCGCATCTCTTAACTCTGTTGGCAGGCTAATCACTGGCGCTGCTTTGCAAAGTGGACAGCTGCTCTGCCCTCCTGTTTTTATAGTGGAGTGGTTACGAGATGATTTTCTTTATTCTCTAGTTTCTTATATCACTCATGTGCTTGCAGATGCTCTGCCTGTATTTGTTTTTTACGTGATTAACCCAAAAACACTTGCAATGCCCAGGGCATGGCTCAGAAGGTCAGTTGAAATTCCTGAAATGATAGCTAAGGTTAGTAGGCCTTGACTGTTTATTTTTTCATTTCGTTTCACTGGAGTGCCTTGTCCAAAACACCTGTAGAGAATGACTTGGATTCAGATAGAAATACTAAAGCCTCAAACCCTGAAGATACAAGATGTTGCATTTTGTGGTAAGGAAAACTCTCGCAAGTTTGAAAATTTGAGTCTATGGAAATATTTGAAAAGCAGGGGGAGAACATAAGAATGGCGTCTCTTTGTGTATTGATGGTACCTTGGGTAGGAGTCACAACAGCTGATTTTCACATGTGCTGCTTATCTTTGAAAAGTCTCAAGAAGTTTGTGAACGGACGGATATACAACTTGAGTTTTGTAAGGATTCATTGCCGCCATATTTGGAATTCTGGGTATTTCTCTGAGGAACATGTATATCTATTCAGCCACAACCAGAGATGGGAAGGGCAGACTGATGTTCCCAGCTGAAACTTCTTGAGACATCCAGACAACATCTGAGAACTATGAGCCCCTTAGGAGAAATGAATTAGCTACGGCAGCACAGAGGGCTTGGAGCAGTGCCTGGCATATAGTAAATGCTCACTATAAATGTTAGTTCTACATGGTTCTGTGATGCCATAGAGGCTGAGGCTTCCTAGTGGATGGGCAAACTGGTAGCTCGCCTGCCCGTGGCCATTGGTACCAGGCTGGCTGGTGTTCAGGCTCCCTGGCCAGTTGGCCTCTCCTAGAGGAGCCCTCAAATCCATTATGGTAACAGACCCACGCTGTACACTGCCGAATACTCCTGCAGATCTGAATATGTCAATATTTGCTTCACAGGTGTTCACCATGATGATGATGATGGTTTTCATTTCTCACGATTCTTAATGACAGTTATCAATTTAGAATTTAGGTGATTCTTCCATACCTTTCTTGCCTCCTTCAGCTTCTTTTTAAATCAAGAAAGCACAGTACTTGGTATTCTGTGCTAGGATTGTTAAATAACCGCCTTTGCTTTGATCTTTTCAGGTACGAAACCAGCACTGGAGCCTCATTATGGAAAGTGTGGTCCCATCTGACAAGGGAAATTATACCTGTGTAGTGGAGAATGAATACGGGTCCATCAATCACACGTACCACCTGGATGTTGTGGGTGAGTTTGCCTCTCCTCGTGTGGCGGCTGCATACCAGCCCATTCTTGCTTGACTCGTTTGAAAGCATGAACGTTAAGTCCTGTTTCTCCCATAAGTTTCAGGAGAATTGGTTCATTCTTATTCTTTCTACTATCATTTTACAAGGCTGCTTCTGTCATCTGACAATATTCTGTTTTCCAGGCAGCCAGGGTTTATGAGCTTTGCATGATCCTCATGGTTCCCAAGCGTCATCTGTGTAAAGTGGACGTGGTATGAAATGTCTGACATTTTGGAAGCTGAGATTACTCTGAAAATGTTAATTGGGCAGGTGAAAAGGGTACAGATGTGCTGTAGCAGACCTTTGGTTTTAAAAGAGAAGCATCATTTCCCCAACAGGGCAACTGTAGAAGGCCAGCTGAAGAGTAAAGGAAAAGGTCTGAGGACTGAGCCTGTGGCTGGCTGGAAAAAGGTGAATGTTGAGGGCCCTTCACTTCCATCACAAGAAAGTCATTAGACGGTACCAATTCAGTGTCTGTTCCTGGCATCTATTTCCTCTGTGCAAAGGGAACCATGTATATGAGCTTATAAATACATTTTTGTCAGAGTGCACAGATAAGTAGGCCATTTTAATTAAACATTGAAGACCACCTCGCCTGTTGTCTTGGAAATTCAAGTTTCTTCCCAGGTTTTGCCTGTGATGATGGGGCTTTGTTGTAACTAATGAAGAAAGGAGGTTTCTGTGTCTTGGAGGATTGCTAACATATGGAACTCTACCCAAGACATACTTCATTGTTGCAGGATGGCAGGTTAAGATCCCTTCCATGTAGGGGCCATCTTTTCTCTTTCCTGTCATGTGCCTTGACTTTCAACCTGCCACCTTGAGCCTTCTTTTGGTTTGTCCTCCCCTAAATACAGGTTGCTATCTTCTGCTGTAGACTCAACTCAGTTCACACTCACGTTTTGCCGTAATGTGACTGTTGGTAATTCCACAAGCCCACACCACCCACTGTGCCTCTGTAAACGAAGTGTCTCCTACATCATAGCCTGTGCGTGTGTGCCTAGTATCATCTCATGTGTGGGTCTCCTTCAATAAAACATCTTTGAAGAGGGAGACCCCGTTACATATTGGAATTGCCCAAAAAGCCACTAAAAAAATAATCCAAAAGCTTGATTAACCAAATTGCAAAGATTTGGTTAATTAAAATTTTAGGTTAACTGAAAAGTAAACAAAACTATTTTGATTTTCTGTCAAGTTAAATGGAATTGGATCTACGAGACACTCTGCCTTAGAAAGCATGATATAACCATTACTTCCATTTGCATATAAGCATTCAGGGAAAATAGTGTTTATTCGAAGATTTGAGTTTTGTTCTTCAGAAGCCTTCATGTGAAATTTGATAGGTCCTTGAATAATGTTGATCCTATAGATATTCATAAAAGAGTGAGTTTTAGAGCTCTTTCCCCATAGAGAAAACATGTGGCATGTTTCTTAGTGAGAATTACCATGTTCAGATATTTTACAAAACAAACAAAAAGAGAAGTAACACTCAAATTTGAGAAGAAAATGATTAACATTTGTGTTGGCATTGATACACTGTAAATCCATTGATCAAAGAGCATATGACTTGGCCTTTACCTGGGTTCCTGTGTGTACCGAATGTGACGTAAAACTATTTCTATTTAGGGAAAGAGAGATTTTGGGCTAAATGTTCTAAATACCTAATTTTGAAATTAAGTAATTTATTGTGGGAAAAAATAATTGAGCTATAGCAGTCTTTTGGGATTATAGCTTTGCATAGGTCTACACATCATTCATTAGGCTGGGCTGGGGCCATTCTAGGCATCGTGGAGTCAGATGGCGGCCACTCCGGTCTGGGCTCTTGCTTAAAGCAAGTTTTAGGTTGAGTTGTTATGTAAAACATTCAAAAGCCCCTCACCCCACCTCCCCTTTGAGCTTTCTGGCGGCTCATCCCTGTGAAGCCCTGAAATCTCTCTTAGAGTTTAGGGTTGGGATTTGAATTGGGCTGCTGAATAATGGAATTGTGCTGTCTAATGTTAATCCCCTGGCAATCAGTCTTGTTGAAAAGAGCGTATGATTCAGTGGTGTAATGTAGAGAGAGCGTGGAGTGTATGGAGTAATGCAGAGAGAGGCCTGATTATGTCACAAATTTGGGAGATCGCCCAGCTAAACACGGGCCAATAATGACACAATGCTGGTTGGGAATATCCATTAAAGCTCAACTCCAATAATTTTCCAAGCCTTGAACCTTCTTTATAAATAGAAGCCAAAAGTCAGTGGAGTAAAAGGCATTTTCAGTAAAGATGGAAGTGTGAAATACTCTCATCTCTGCTCAAAACCCTAGTAATTGCTTTGCGAAGCACTAATAAAATAAGAATTGAGTCAGCTAAAGAGGCTCATATAGACGTACAGGGTTGGCAGTCATTCTGAACATCTCAGCAAGTGGAAACAAAAAGGATTCAAGCTTAAGCAGTGAATTTCTGGTAGCCCACAGGCCCAAATGTGATACACTGCTGTGTGATAACAGCTTTTCAGCCACCTCTCTGTTTCACAGAAAATCAGAAACCCTTTCCCAGTGAAAGCGAAGTCCCATTCTTGCCCACATTCTTTGGGGTTTTATTTTTGTTTCTATGATACATAGATTGTGGTTCAGATATTATGAAGCATCAAGATGGGTGAGATCTTTTTATTGAAATTCTTCCTTGGAAAGGCATTCCCATAAGCACTTTAATGTAAAAGCCGTGTAATTTAAGTGACATTCTTGTGTTCTAGAATTAAACGGCAAGCCATTGTTGTGTGTAAGGGAAATGCTTTCATTTATGGGAGCCCTTTTAGGAGCCTGGCTTGATCCTCATTAAAATTGACACCATTACTTTTCAGCTATTTACTGCAAGGGAAAATTAGTGTGATGCTCCACGTTTTGGTAATTGTGGCGATAATAAAATGGGCTCCCCTAAAGTAGCTGTGGCTCCGGGAGGTGGCGAGCCTTCACCATCGTTCATCATTGAGTGGTACCAGAGCCCTGGATTCTGACTGAGGTCCTGTCACTGTGAAGCTACAATGCTGGGATGACTCATTGCACTTTCCTTGTGTCCAAAAATGAAGGAACTGGAACTCATGAATGTTAGAACAAAAAAAGCGGCTTATGCCGTGGAATGAACAGCAGGTTTGTCCGTGGCCATACCTGGGGCCCCTAGTGAATTGGGACAAATTATTTAGCTTTTCTGAGGCTCTGTTTTATCATCAGTAAAATCGGAATGATGATACTTACCTCATTCCTATGATGGTTGTATTAGGTTTCCTAGGGTACCCCTAACAAATTACTATAAACTAATTGGCTTAAAACAAAAGAAATCTATTCTCTTACAGTTCTGGAGCCTAAAAATTCAAAATTAAGGTGTTGGCAAGTTCCACGCCCCTCTCCCAGCTTCTGGTAGCTGTCCTTGGCTTGTAGAGGCACCGCTCCAATCTCTGCCTCCATCTTCATGTAGTCATGTTCTCACTGTGTGTCTCAAAATCTCCTTCTGTCTTCCTCTTGTGAGGACACCTGTCACTGGATTTAGGGCCCACCGTAAATCCAGGATGAGCTAACCTTGATATTTTTAACTTAAGTACTTTTGCAAAGACCTTTTTCTTCAAATAAGGTCACATTCCTAGTTTCCAAGGCTTAGGACGTGGACGTACCTTCTCAAAGGTCACCCTTCAGCTCACTACATTAGTTACGAGGCATCAGTTGGGTTAGCAGATGAAAACATCAGGCTGGCAGGTAGGTGGCCAGCAACAAATGCTGGTTTCCTCCCTTCCAAACCAGGATTCTTTTGAGGGTTAGAATGGATCTTTAATAGCTTTTATTAGTCTCAATCAGAAGTCTTATTAAACAAACAGAATGCCATTTTGGGGCTGGGCATGGTGGCTCACACCTGTAACCTAGCACTTGGGGAGGCCGAGGCGGGCAGATCACCTAAGGTCAGCAGTTAGAGACCAGCCTGGTCAACATGGTGAAACCTCGTTTCTACTAAAAATACAAAAATTAGCCGGGTGTGGTGGTGGGCGCCTGCAATCCCAGCTACTCGGGAAGCTGAGGTAGGAGAATTGCTTTAACCTGGGAGGTGGAGGTGGTAGTGAGCCAAGATCATGCCATTGCACTCCAGCCTGGGCAGCAAGAGTGAAACTCCATCTCAAAAAAGAAAAAAGAAAGCCGGGCGCGGTGGCTCACACCTGTAATCCCAGCAGTTTGGGAGGCCGAGGCAGGCAGATCATGAGGTCAGGAGTTCAAGACCAGCCTGACCAACATGGTGAAACCCCGTCTCTACCAAAAATACAAAAATTACCCAGGGGTGGTGGCAGGTACCTGTAATCCCAGCTACTCAGGAGGCTGAGGCAGGAGAATCGCTTGAACGCAGGAGGCAGAGGTTGCAGTGAGCTGAGATTGTGCCATTGCACTCCAGCCTGGGCGACAAAGTGAGACTCCGTCTCAAAAAAAAAAAAAAAAAAAAAAAAAGCCATTTTGGGACCTACAGACGTGGCCAGAGGCTGACATTGACATTTCCTGCTGAGGTTTCCACCTTTGATTAATGCTGTCATCAAGGCCATCCTGAGACTGATTTGGCTGTTGGACTTGCAGGAGAGGGGTGTGGAGTTTGAGGACTTGAAGTTCATGGAGTTGGCTTCTTTACGCCCACCCCTCCCCTCCCCCACTTTGCAGTGGAGGAAGTTCAGGTTCAGCTGGGGTAAGTGATTTGCTAAGTAAGGGCTTGGAGCAGGCATTCTGGAGCTGGGGCCTCCATCTGGGTGTTCTCCACGCCTATCTGTATGAATGCTCCTTGCTCTCCAAGCGGACTTCTTCATTTGATGTTCACTGTGGTGTGTTTCAGTAGTGACTGCCACAGCCCGACTCTAAGGAGGTGCTGCTGTCACCCCACCCTGCTTTCAGTTCTTTGCTGCAGAAGACAGAATGTGCGGGAGAAAGATGGGACCTTAAAAGACTAGTTGCTCTTCCTCACTCATGTAGACGATTTGGCTTTGAATCGTGAATTATTGCTTCTTTTGGGCATTCCAGTTCTGCATTTCCAGAGACCCTCAGGTATGTCAAGCTTTTTGCCTGGCATTTGATATTTTGGGGGCAAAGTACAGTGGAAGTGGAAATGGTGCCTCTGGTTTTGTCAAGGCCAGATATGTCTTCTCTCCACTCCTTGTGTTTTTTGAGACAGAGTCTTGCTTTGTTGCCCAGGCTGGAGTACAGTGGCATGATCTTGGCTCATTGAAACCTCTGCCTCCCAGGTTCAAGTGATTCTCCTGCCTCTGTCTCCTGAATAGTTGGGATTATAGGCATGTGCCACCATGCCCAGCTAGTTTTTGTAGTTTTTAGTAGAGATGGGGTTTCACCATGTTGGCCAGGCTGGTCTCGAACACCTGGCCTGGAGTGATCCGCCCGCCTCGGCCTCCCAAAGTGCCAAGATTACAGGCATGAGCCACCGTGCCCGGTCTTTTATCAGTTTAACTTTCCAGAAATTTGTTCCCCCTGCCTGTCCGCATCCCTTCAAATGAAAGCTGTAAGCAGCAGGCAGTTGTTGTTTGGGGGCCCATCAGAGGCCGCATGTCACTTCTGGATGGGTCAGGCATCACTACCAGCCCTGACTTGATGGCGGCAGATCAGCATGGCACTGTCAACTAGCCCTTGACATAAATCTGTTGTAACTCAGCCCCAGACATGATAGGACACAGCCTGAAAGCGCACAGGAATCCGTACCAGAGCGAAGTCCCCCCTCAGGTGTGTGTTCAAGAATGAAGCGTCTTTTATTCCAAGCACTGACTGATAAGCTCGAATGTGGAGTTGACACCTGGAAGGGAGTTTTGGGAGCTTTTGGCAGCCCATCCCCAGTGGAAGAAGGAGGAATGGCTGAAATTGTTGACTGCTTGGGGCAGCCTCTGTCCCAGGAAGACAAAGGCTCCAGTGTGATAGCTGAGCTGGGGCCAGGGGACGGAGGCACGGCGGAGTCCCTCAAACCACAGCTGGAGTGTGAAGTTTGGACTGTCTCCTGGGTTGGGAACAAAGTAGTGGTTAAGTAAATGAAGAAGCGGTGGCCTAGTTAATTAATTAACCTGTTAATTCATTACTGAAGCTGTCAAGATTCAGTCATTCCTGCTCACTTGCTCGTGATGGAAGGCTGCATCTCAGTCTCGGCTTCCATCACACTGTGGCTTCTGGATGGAATTTTTGTTTCTGTGTGTGATAAGGAGTGGCTGTGGTGGCATCATTTAAATGACATGATTCTGCACGTCCAGAGACGTTAGGATATTGAAAGCCTGACCATTACCTTTTAGGTTGTCATGCTTGTACCTGTTCCTGGCACAAGGTCTCGGCTCCGTAGAGCCCTGTGGGGTTCTGAACTTGAAGCCTCTTGACTTAGAGGCTTCCTGGCCAGGGCTCATTTGATTTTCCATACTCCTGACTTTGCTGCCAGTGAATTCTTTTCCATTTCTTGCTCTGAGTGTAAGACTTGGTGTCCTACCCTGACACGGGCTCTGCATGCCAGCTCTAGAGTTGCGAAATCTCACCGGAGGGGGGCAGAAAGCCCCTCTGTTGAGAAGGGATTGGGGTGGCGTGCCAGGTAATGGGTCACAGCGACAGCCTTTCTAAGTGGGCTTATTTAGTTGACAGATCACGGAACCGGAGCGGAGTTGAGGAGGAAGCACCTTCCTTTTGCCGCTTTCGTGTCCCCAGCAGCCATCTCATCCTGTTCTTATAAACCATCGCTGTCACAGACAACCCCTAAGGGTCTCTACTCTGTGCCAGATGCCCTCTCTGGAGGTTCAGGTGGAAATTACGTGGAGAGGGGTGTCAAGTTCTGTTTCCACCCTTGCTAACTCTATGGCCTTAGAAAAGGCATGGAACCTCTGAGCCTCAGTTTCCTTGCCTGTAAAATGGGGTGATGACTGTTTCCTTGTAGCACTATGGGGAGGAGGAGGTGGTAGGAGAGGCAGCGCTTTTAAATAATAGTACCATGCAACTGTTAGTCGTTATTGTGCGTTGGTCCCATACTTCCTCTTGCATCTCCAGACAGAGCCGTGCACCCTGAGCCCATCCTGATGAAAGGAGGGGTCAGTCCTGTCCTTTCCTCCAGGATAGAGATTTCAAAACTTCCTTTGGTAGCTACTGTTTAATGAGCTTTTGATTGCTACAAAGCAGCTTTTCATTCCTGTTTCACAACAGGGATCCCGGGGGGCAAAGGCTGGTTAGTGGCAGCTAGATCACTCCAAACGTACTGACTGGCAAATACAGACTCTCCCGCAGAACTGACCCCAGCAAGAAGCCTTTGGGAGCAGGTGGTATTCTGCGGGTGCCAGCTCCCTGGGGTGGGAGCAGGCACACGCCAGCCTGGATGGGGCATGGTAGAACTCTGCGATGTCAGCTTTTTTGTCACATTCTCTGCAGGCTACCCGTTGTCCTTTGCCCCACCATTGAGGAAGGAAGCCTTATTGATTGCTTTCGATTCTTGCAGGGGGCCTGGGTGAGGTGGCTGGAGAGAGGGCTAATATTTGGTCTGGCATTTAATCTTGGCATTTCATTTATGGTGTGGGCAAAGAGGATGTAGAAGTGTTAAAATCAAGTTAATATCTTACAGTTTTATGTAAGAAGAGGTTACCTGGAGATTCAGGTGAGGATGGGGCAGAGAGAAAGCTGCTTCTGTCAGAGCTTGGGCAAATAAACTTGCCATGAAATGTCAATTTAGTGATGGCAGTAAGAGTGTGCAGTAATGTGCTGGAACTTAGCGAGGTTTCTATCAGCGTGTGCTGAATTGAAATAATCAAAAAACAGTTTAATAAGTTGCTTATATTTGGAGTTTTGTGGTTCTTAACATTGCAAATTCTGAAGCAAGAAATTAGAGTTTCTCTCTAAACTCATTTACTCATGTGGCTTTATCAACGGCTGCCTTTGTAAACCGAAAGACCTCAGTTGGGAAGTTTTATGAGACGGAGTCTTGTTCTGTTGCACAGGCTGGAGGGCAGTGGCATGATCTTGGCCCACTGCAACCTCCGTCTCCTGGGTTCAAGTGATTCTCCTGCCTCAGCCTCCTGGTAGCTGGGATTATAGGCGGACATCATCATGCCTGGCTAATTTTTGTATTTTTAGTAGAGATGGAGTTTCACTATGTTGCCCAGGCTAGCCTTGAACTCCTGACCTCAGATGATCTGCCCGCGCAGGCCTCCCGAAGTGCTGGGATTACAGGCATGAGCCACCGCACCTGGCCTGCCAACTCTTGTTAAGATGTGAGTGTGGAATGCTGTGTGTTCTTCCCCTTTTAAAAGATGTGTCTGTTGGTTTGCTTTCACGGATTCCCTCTCCCTTAGGAGACCCGGCTGTTGTATTCATGGTCTTCATGCTTGGTTTGTTTTCACAGTCAGAGAAGGTAGGATGCTGTAGGGTTCTACCTACAGGTAGGATGTGCTCCTTACTTAGAGATTTGGAAGGGTGGCATCAGAGAACCACTGTGCGTCTTTCATGATAGCTGGTCAAATGTGGGTGTCTGTGGGAAATAGATGGCCAAGGGTGTCGGTGTTGCTGTGGGGAGGTTGTTCTGTTTCCTCTTCTGAGAAGAGACAGATGAGGCGATGAGGCAATGGGAGCCTCATTGCTTTGGCTTGGAGGGAGAAAATAGAGCAGAGCTCTCTAGCTGGGATTTTGTGTATTTGCTGAGTTGCAGTGGTTAATTCTCTATCCTTGAAGCACGTGGCACGCTCACGCAGCCTTTATGTGGTCGAGAGGGTGACAGTCACTTGAATGAGGTATAAGGCTTTGCCCTCATGGAGTTCCTCAGGTCACATTTTGAGGTCGAAGACCATAAATTGGGATGGAAATTTCTAGATCTTGATGGAACTCCAACTTTTTCTCTCTTTCTCAAAGCCTCTGGATTACAGGATTCTCTCAAACAAGGCTGGCAGGAATTCTGTCCATCCCAAATAAGTATGCAAATCTACAGGTCAAATGGTGCCCCAGACATATTCCCCACTGGATCAGGGAGATTGTGGTCTTTTGAGAGACAAACATTGAATATTATTCTAGTAGGATCTTTTGGAAATTATGCTCTATTAGAAAAAGGAACTTTTCATTTTACTGGTTCAGTGTACACTCTGGACTGAAACTGAAAGGTAAAGGACTTAGCCCTTTAAATTTTACATTTTGGCCGGGTGTGCTGGCTCACGCCTGAAATCCCAGTACTTTGAGAGGCTGAGGCAGGTGGATCATTTGAGATCAGGAGTTTGAGACCAGCCTGGCCAACATGGTAAAAACCCATCTCTACTAAAAAATACAAAAATTAGCCAGGCGTGGTGTTGTGTGCCTGTAATCCCAGCTACTCGGGAGGCTGAGGCAGGAGAATCACTTGAACGTGGGAGGCGGAGGTTGCAGTGAGCTGAGATTGTGCCACTGCACTCCAGACTGGGTGACAGAGTGAGACTCCTTCTCAAAAACAAACAAAAAAAATTAAAATATTAAAAATTAGCCAGGCGTCATGGTGCACACCTGTAGTCCCAGTTATTCTAGAGGCTGAGGCAGGAGAATTGCTTGTACCCGGGAGGCAGAGGTTCCAGTGAGCTGAGATTGTGCCATTGCACTCCAGCCTGGGCAACAGAGCGAGACTCCATCTCAAAATAAATAAATAAATTTTACATTTTGGACTGAAAAAACAAAACCATTCTGTATGTGAGACTCTCACCGAGTGTTCATAGGGAGGGACTGGGGCTGGGGCCTGACTTGAGGCTTCCCATCTGGCTTGGACAGTGAGAAGAGCAGTGGCGTTTGGATTGAAGGCTTTTGTGATCTGGGTGACTATTTTGAAGTTTCTCTTTAGGTCATGCTGTACTTAGAAGTATCTAGAACCGTGATTATTTTCAGTTTCTGAGTTTCATCTCCAAGAAAACAAATGGGATTTATTGTTCAGCCTCTCATGTTATTCCTATCAAAGGGAGGCATTTCTTGTTTGCTCAGATGGGCTGAAAGCTTTTACTTCTGCTCGAACCGCCCTAGGAGCAAAACAAGGCATGTGAGAGAGATGAGCATGATAGATTTTCTAGACTTCTCTAGAAGAAAGGCTTTTTAGATGGTGAAGGTTGATGAAACCTGCCAGCATTTTTACAATGGACATCCCTCTATGTCTGCACATCTCAATCTCCTTCATTCTTACTAGTGGCCAATATGCTCTTCTTTCACGGATGTAGTACAATTCGTTTAATCATATTAAACAATATGATTGTTGTGCAGATCTTTTGTTTTCCAGTAAAAAAAACCCTACAGCGACAAGCTTTGTCCACACTTATTTAGTGGGCATCTGTGTGAATATTTTTCTAGGACAGATTTGTAAAGGTTGGTTAACTGGATCATTTTTGATAGATTTCAGTCAAACATTTTAAAGCTAAGGGGCCTTACTTACTTGGAGTGGTTGCTGTCTTTGACGGAGGGCTCCCCTGTGGTTTGGTTTTTAGCTTCTTTGCAAATCATTTGAGAGAAGATACTCTAATTGGGAGTTCACCCATTGTAATAAGAGGGTATACCTAATTCCTGGACATTAAAAAAGAACAAACTTTTCCAGCTCGAAGGAAACATTTTCTTCCCCTGAAGGAAACCCAGCTATGCAGACACCAGCTGATAATCTTGCATTCCTGAAAGATGTTGCACCCCTATGGCAAGTGGCGGCTGCTGAGGCTCTGACGTGACTCCCAGGCATGAACGCTCTCAGCTGTGTTTACCTCAGCTCCTCGGGAGGGAGCCTGGGAGACTGACGCCTGAGTTTTACATCAGTGTCAAAACCCAAGCACAACCTAGGGAGGGACCTCCTGCCTAGTGTGTGTGGGTCAGGAGATAGAAAAGCTCTCACTGAGTAAACTGGACAAGGTCAATATACCTCGCTGATTGAGAAGGTAGGTTTTCCATGACCCTAGAAATTGATCTTGTTCACTCTGAGATATTGTCACCTTTGTTATGTCTCCTTTTTAAAAAAAAATTGTGGTAAAATATACATAACATAAAATATACCTCTGTAACCATTTTTGAATGTGTAATTCATTTACATTAAGTACATTCAATTTGTTTTGCAATTATCATTATTGTTCATCTCCAGGACTTTTCCATCATCCCCAAACCATGACTCCTTTTAGCAAAAGAGACCAATTTCGAACGTAAATTTGGCATAATAACTCTCTGGTTACCAAAGAATCTTCAGTTCTGGTGAAACTTTTTGAAGGCAGAGAGCTCAGAGTGTCTTAAACACTTGGGGTGTAAATAACACACAGCCCTACTCCTGTAATTCGCCCAAGAAGACCCAAATTGATACCCAGCTGGTAGAAGCCACTCAACCCCAAGCCAAATAATACAGCCTGTAACATTAATTAGGGAAGGTACTAATAATACAGCCTGTAACATTAATTAGGGAAGGTACTTTGCCTCCACCTGCTTTGGTCTTCCCAGGCCCTGAGCCCAGCCAGCACTTTACTCTCTTCTTCACTTCATCGAGCAAGCACAAAGGCATTAGTGGTGTTTTGCTTCTAGCATTTCACAGGGTGCAGCCTCCATAAGTCACTTTGTGACTTTAGTGCTGGAGGGAGGACACTTCATTTTTACCCAAACAAGTTTGTTCCGCAGACTTCACTCTCTCTGCAAAGAGACGTGTGTGTTTTAGAGGAAGTGGGAGCCCCAGCCGATTCTGCAAGACTTCCGAGAGTCAGATATCCAGACAGAAGATGCGGACACCTGGGTGACCAGACAGCGAAGAGGAAAGAACAAAACGAGCATGTGCCAAGCCTGTGAGGGAGAAAGGGCAACAAACCAGTGACCTTCCACAGAAATGTGTTTAAACAAAACAAAACAGGTGATTCTGGGTGCCCAGCATCCCAGCCCACTCATCTATTCTAGGAGGTGACAAGCCAAGATACTGGCTGTGGGCACCTGGGCTCTTTCTGAAGGTGGTCTTCCTGGCCGTCATAGCGTTCCCTTTTTCTGCTAATCATTTTTAGTTCTGACCTTCCTTTGTGCTGATCTTCAGAAGCTGGAGAAAGCTTCGTATTTCTGGGAAAACAAAACAAAACTCAGAACCCAACGAGATTTAGCCTGTCAGGCTTGAGTGCGTTAGGTGGAGTCTTGACAAGGCAATGAACTCATTCTACTAATTGTAATTAGCGTGGGGCCTTTAGCAAGTTCTGGGCTCCTCAGACTTCAGAGAGCTTTGATCGGCCTCCTCCTCCTCCTAATAACCATGCCTCATGCTAACTGGTTTAGTGCGTTTTTATGCAACAAAAGCAACCACCGCCTACTCTTTAGAAAAAAGCTAGGCAGGCTTTAGAAAAAGAATTCTCAGTTGTTTTCACTTGTCCTCCAAATCGCAGAATGTTCTTTCCCTTTTCAGCTCTTTGGCGTTGCTAAGAGACTGCCATTTTGGAGGAAAGGTAATTAAATTTTGATTTTAATTTAAAGACAGAGCAAGCGAGGTTATCCACGCTCCTTACATGAATGGGGGCCTGAGAGCAGGAGACTGGCTGTTTCCAGATCAATACTGGGAACTCCGTGTGATTCGAGTCTCTTGGTGTGTGACTGCCGGAGAGAGGTGGCTTTGAAATGGCTCTTTGTGGCAAGTACTGCCTAACTTTTGGGGAGAAATGCTCAGGAGACCAGTGTGAGCTGGGAAACCAGCCACTCTGTGCTTGATTAATTTATAGGTGTAATTTAAGAGCCTGGTTCTCCTTCTGATCCCCGGGATGCATGTTTACTGAGCCTGTAGACATGAGGCCTCTCGGCTCGGTGGACATTTTTTATGGCCTTTGCTATGTCAGAGCAAAAGTTGTAGATCTCTTATGAGCAAACATATTACTATGTCCAGAGGAGGACTGGCATGTTATAAAATTTCAATGGTCAATTAACAAAGATTTATTCTTTGTCACTCAGGTATTTTTTTCCTCTCTCTCTCTCTCTCTCTCTCCCTCAATAATGACCTCTTGGAAGGAAGCAGGCTGTGCTTTCCTGCTGCAGTCTTTAGGTGGGTTATGGCTCCCAGCTACAGAGCAGGGCTTGACAGAGCCCATCCTGATATTTCAATTCTTAGCAGCTGGGCTTTCTGCTTTAGTAGAGTGGACACTTGAAGAAAGGGGGCGAGACCGAGAGTGAGAGAGAGAGAACGCTGGGAGAGAATGTATTTTTTAAAGCACTTCAGCCTGTGTTTACTACGCGTTTATTTGGTGGAACCTCATTCCAGCAGTGCAGCCAACTGTCCCGGCAGCAGTGGCCGCACCCTTTGGACTGCTTTCCATTCCGTCTTAATTTGGAATTCACACAGCCACCTTCCAATCACTCTTTTGAAGGTTCTCATCTTGTTCCAGGTCCATGCACTGTGCATTTGCAACCTGCTGAACCTCAGAACGTCTATTCTTATATGTGTATATATGTAATTAAAATTACAGTAAACAGAGGAGCTACTCATCAGCCTATTTTCCATGTGTTTATCTCACTCCCTTTGTAAAAAGGAAAATCTGTTTTATATAATATCTGAGAGTTAAACATGCTAGAAGAGAATCTTGCCTAAAACTGTAAATCCTTCCTGTCCTTCCTGGTGGAGAAGATGTGATTTTTGTTATCACATAGAAGAAGAGATGAACTAGCACTGGGCTTTAGTCTCTCGCCCAGAGATAATACATCAGGGGATTCTTTTTATATCAGTTTGTTGCAAAAAAGTTGCAAACTTGAGGGGTTTGGTTTGCCCAGGGACCGGGGAGGTTCCTGGTGGGGAGAACACATGAGCTCTTTGGGTCATCGTCCCCTTTGTCTCTGCCGTAGTGCCCGCTGGGCCAGGCCACGAAGGGGGCCCCCACTCTGCCCAGCCTGCATCCTCGTCCACCATCTGCACCCTGCCATCACCTCGGTTTTTCAGAAGTTAGGAAAGGAGTCCAGGCGCTGTCATCCACTTACTGTTCACTGTTTCTGAGGTTCTTAGGGATTCCGAGGGGTGGTGGATCGCTGAAGGGTTCGAGAGGAGGAGCGCAGCGTTCGGCAGATGCTGGCATCCTGGGCCCTTTTCCAAGACGTCCAGGCCTCCTCCTCCGACTTGTTTAAGGGCAGAGAATAAGGTTGCAAAGGAAATCAAAGCCTGATGTGGAGAAATGAAACATGAGACCTACTGACTTTTTAAAAACATTTTAAATAACATTCTCTAAGGTTTCATTTTATACTGAAGGCAGCTGTAATAAGTTTGGAAGACAGTGTAAGGTTTCTATTACAGAACAATCCTGCTTGCAGTTTTTCTACCAGAAGTGAGAAAGGGCGGAGGGGGAGTGGAGGTGGTTAAGAGGTTATTTTGTATAAGGTGAGAAAATTTGAAAAGATGAATTCAAGACTGCAAGCGTGTAACATTTGGTATGCTGTAATTTGCAAATGCAATAACATTAAACCATTGCAAACTTGGGGTGTGTGTGTGTGTGTGTGTGTGTGTGTGTGTGTGTGTGTGTGTGTATACATAGCCGGGATAGCATTGGAATAACTTAATAACTGGAGCTCAGCAGCACTTTGACCACAAGGAAAACAAGACTGCAGCTCTGTAGTGGGCCCTGCCAGTGTTGCCTCAGTGACTAAATTCCCTGCCGAAGCCTGGCGCAGGCCAGAGATGTCAGGCGGGATGAAAGCACTCATTGTTCACGGGGCATCATGGTTTGGTACTGCATGCACAATGTTTACTTGTGAAACGATTTATTAGAAACAAATATGTTTAAGAAAGAGGACTTGGTTTGAAACTCAGTTGATCTGGCTTATGACATTTAAGATTTTATGACCTTTGTTTCTAAGAATAGATGTGTAGGCCCACTGTAAATATTTATCTTAAAACGCACCCACACTACACACACACATGCATGTACAAGTGCAAAACTGGAAAACGGAGCCAGGGCATGAATTGATACTAAAGTTCACATTTCTGTGTGAAGGAATAAACCTTCTTACTATTTGCTAGGTGCATAGGAGCATAGTTTGTGACCTTGTCTGGCAGGATCTAGCCCAGAGGACAGCTTCCCCTCGTGCTGTGAAGTCTCTTGGTAGGAGGCCTGGGGAGGAGAGGAGCGTGTGTCTGTTCGTGCGCGGACTTAACTCTGCCCTTCCCACATGGATGAGGCCAGCTGGGATTAAATCAGACCTCGGTCACTGCCCGCTGTGGACAGGTCCCTGGGGTGTCCAGCCAGCTGCTAGGCCTGACCAGGAGGCTTGCTGGGGCCCATCCCTGGGTCATTGTATGAGCCAGAGAGCAAGGGTTTCACCTGACGTCTGAAGGGGCCCAGCTTTGAGATTTTCTGCCCACCAACACCAGAAGTCTTAACTTCAGGTTCTTTGCTCAGCCTACATGGGCAATATAGGGGCAGATGAATGATTTCTTTGCGGCTCCAGTATCCTTATCTTTATAATGTGAAAACATAGATGTCTGTAAAGTGATGGGAGATTCTGGAATGAAATGTGCTAAGAGTAACCACTAGCACTTTTTCTTTCTTTTTAAAGACCAGCAACAGGCTTATGCAGTAAAGTCAATTTGCACATGGTCTGGCTCTTGTCCAACAAATTCCACTAGATGATGTTTTAATCTGAAAGGTCCAATGATGTAGATATCTATTGTTCTAATTTGCTGTTTCCAGCCCAGTGCATGGTGATTCTCAGGTACAGTGCAGAGACATCCTTGGTGTGCTGAGCTGGCTGAGTTCTCCTCATTTCCCTCAGTTGTTTTTTAACACTGGAGGTTAGGGTAGTGGTACCCACACCTAGGGGAGGAAGAGAGGGAGGAGGCTGGTAAGTGCAGGCCTGTTGGGATGGAGTTGTATTCATGTATGGACACATGATTGTGTTTTGTGTGGCTTTTGACAGATCTGTGTAGGAAGGTTCCAGTAAGTTTGTACGACAAGATCAGGTAGCAGTCTGGTGGTCTGGTGGTTATTTAATTCTTTTTATTTTATTTCATTTTATTGTTGCAAGAATGCTAAGCATGAGAACTACCATCTCACCTAAGTTTTTTTTCTTTTCTAAGACGGGGTCTCACTCTGTTGCCCAGGCTGGAGTGCAATGGCATGATCGTGGCTCACTGCAGCCTCAACTTCCTGGGCTCAAGCCATTCTCTCACCTCAGTCCCAAGTACCTGGGACTACAGGCATGCACCACCATGTCTGGCTAACTTTTGTATTATTTGTAGAGATAGGGATCTTGCTATGTTGCCCAGGCTGGTCCCACACTCCTGGCCTCAAGCAATCCTCCTGCGTCAGCCTTCAAAGTTCTGGGATTATGCTCAAAGGCATGAACCACTGCGCCTGGTCTTCAACTAAGTTTTCAGTGTACAATACGTTGTTGTTGACTATAGGCACGATGCTGTGCAGCAGGTCTCTAGAGTTTGCTCATCTTGCTTTACTGAAACTTTATGCCTCTTGATTGCAACTCACCATTTCCTTCCCTGTCCCAGCCCCTGGCAACCACCGTTCCGCTCTTTGATTTTATGAATGCGATGAATTTAGATACCTCATATCAGTGGAGTCAGGCAGTGTCTGTCTTTCTGTGACTATCCTGTTTCACTTAGCATCATGGCTTCCACGTTGTCACATATTGCACCATTTCCTCCTTCTTCATGGCTGAATAGTATTCCGTTGTGTATATAGCCACATTGTAAAAATTAATCCTTTGGCAGACACTTAGATTGATTCCATTTCTTGGCTATTGTTAATGGTGCTGCAATTAATATAGGAGTGCAGATCCTGATTGCAGTTCTTTTAGATAAATAGAGAAGTGGGATTGCAGGATCTTAGGGTAGTTCTGTTTTTAATTTTTTGAGGAACCTCCATATTGTTTTCCATGGTGGCTGCATCATTTTATATTCCCACCAACAGTGCGCAGGGGTTCCAGTGTCTCCACATCCTTGCCGACACTTGTCTTTTTTTTTTTTTCTTCCCATCCTGACAGGTGTCATGTGATAGCTCCTTGTGGTTTTGATTTGGAACGCGCCCGATCTCGTCTGATTTGCATTTCTCTAATGATTAGTGACATTGAGAAACTTTTCATACACCTAGTGGCCATTTGTGTCTTGGAGAAATGCATAGTTAAGTCCTTAGCCCATTTTTCCATGGGTATTACTTAACACTTGAGGAGTCTCATGTGTGGTTGCTAGCACACCTTGGCTTGATTGTCTCCACAAAAGTTTTGCAGAGACCGCCTCTTAGCTGGAGAGAAGCCTTTCCAGGCATAAGATGAGAGGGTGTATTCTTTGTTGAGAACGTGTTCTCGAAGGAGAGAGAGGCAAGACAAGTGAAGCTAGGAAGTAATTTTGGGATACCATCTCTGCCCTTTTATAGGGCAGTCTAAAACATAGCCAGGAGTTGGAAACCAGCATCTCCTTATGTTTCATTCAGTGCCATATTGGAATAAGCTAAGAAACATCTACTTGTGCATTTAGTAACTGGCATAGAGTAACACCTGATATTCATCAAAGAGCTAAATGGGTGAATAAAGAATGAATGAATGGAGTGAATTCCACAATAAAGAGGTGAATCCCATTATTAATCAAATCTGTTCATAACTTTGGGCTTTAGGCTTTAGTTTAATTTTTAAAACAAAGGTTGGAAGTCTTCTCAGAGCATCTTAGAAATGTACTGGAGCCGAGCGTGGTGGCTCACGTCTGTAATCCCAGCAATTTGGGAGGCCAAGGCAGGTGGATCGCTTGAGCATAGGAGTTTGAGACCAGCCCAGGCAACATGATGAAATCCTCTTTCTATAAAACATTTGAAAGTCAGCTGGGCGTGGTGGCGGTTGCCTGTAGTCCCAGCTACTCAGGAGGCTGAGGTTGGAGAATCACCTGAGCCTGGGAGGCTGAGGCTGCAGTGAGCCGTGATCATGCCACTGCACTCCAGCCTGGGCAATGAAGTGAGACCCCGTCTGAGAAAAGAAAAAAAAATGTATTGGGAGACATGTGCCTATTGAAACCATTTTTGGTATTCAGAGTGTCTTTAAAGTTAGTCTTGTCATTTGCCTGTGATGTTAAGCTTGTGGTTGAGGTGAGTTTTTGAGATTATCTCAAATAGGATAAGTGAAGAAGCTTCCCTCCCCTACCATTTGTCACTTAGATTGTCAGAGTAGAATTTCTTCCCGTATTCATCAGGTGGCAGTGGACAGCCAATAACCTGGGATGTAATAAGTTCTTTTCTCAATTTTCTAAGTAAGTGTTCTTTTTACAAGGGTCGCGCTCCGGCAGTCTCCTTTGAAGTCGTTTCTGTTATTCATGGGGCCACAGTGTTATTTCAAAGGTGTCAGCCAGCAGGCTTGAGGCTTTTCTGGCATGAGGTCACTGACAGCCCTCTGGACAACACAGCTTATTTATTGGTCTCTCATTCTCCCATCCCCACTCCTCCTTTCTTCCCTCTCTCCACCAGAGCGATCGCCTCACCGGCCCATCCTCCAAGCCGGACTGCCGGCAAATGCCTCCACAGTGGTCGGAGGAGACGTAGAGTTTGTCTGCAAGGTTTACAGTGATGCCCAGCCCCACATCCAGTGGATCAAGCACGTGGAAAAGAACGGCAGTAAATACGGGCCCGACGGGCTGCCCTACCTCAAGGTTCTCAAGGTGAGGACTTTCTGAATCTAAAGGTACCCACAACTGGGGTCTCCTTCATGGGTTTGGCCACAGGTTCTTTGATTTCCTGTTGGAGTTGAGAGAGGATGATTCTCTTTTTTGACTAGCCAGCAGAGAGTGTTCTAAGGAATTAACAGATCATTACACTTGCTAGTAGAATTTCAGAAGGGAACTATGGAGTAGGGGAAGAACTACTAAACTTGGGGAAGAACTACTAAACTTGGAGAGAGAATAGTTCAGCTATTTATCAGCCCTGAGATCGCAGACATTTAGGCTTAGCTGCGCCTCTATAAAAGTAGAGATCGTGATACTCTGTCCCCCATAGGGCGGTTGTGCAGAATAAATGGGATGGAGTGGATGGAAAGAGCTTTGTAGGCTCAAGGCATTGTGCCAGTGTTGATTGTTACTCTGATGTTGTTTTCTATTAATAGGACATTAGGATCCAATTTTAGTAGCCACGTTTTAGAAACAATTTGGATTTTTTTTTTAACAAAAACAAAACAAAACAAAACCCTGACCTTTGAAATCCATTCAGAGGTGATTTAGACAATAAACTCTAGGTCATATTTCTGCACCAGTGAAATGTTGAACAAGGAAAATATCTTTCCCTCCTTATTTCTTATTTGCAAGCCCCCATTTTCATAGCATCTGCCTCTTTTTTAGATCTAGGTTTGCTCTTCAGGAGACTGAGGACAGGGGCAGCTAAGTCTGTACAGCTGGCTCTTAACTCCTTGCCTACCACGCCTCCCATGTCTAGTTGCTCATGGAGAATGAATGTCCTTAAGAAGAACATTCTTCCAGTAGAACCATAGGTGACCCAGCTAAGAACTTTCAGCCAATGAAGTGTTCTCACCAGCTAATAATTCCAAGGATCAAAGGCATTGGGAAAAGATGACCAACCTGGGGACCCACCCGACCTATCCAGTTAGCTATCGCTCACACCCTCCTGCCCTTCTCTCCACCAGGTCTTTCCGTTGTCCACCACTGGACTGATTTTGTTCTTTAAAATCCGCAGCCCTTTAATGCCGCTGTTTAGACGTAATGGAGTTTGTTTTCTTGCGGTGTGTTGGTGGTGGGACCATAGACAATGCTAAGACCTTCCTGGTTGGCCGTTATATTGTTCTCCTGTGTCTGTTCTAGCACTCGGGGATAAATAGTTCCAATGCAGAAGTGCTGGCTCTGTTCAATGTGACCGAGGCGGATGCTGGGGAATATATATGTAAGGTCTCCAATTATATAGGGCAGGCCAACCAGTCTGCCTGGCTCACTGTCCTGCCAAAACAGCAAGGTAACAATGCTTTCATTTTTGTCTTTTTTTAAAAAGAAAGCTGGATATAGAAGCTGAAAAGACTTGGTGCTTTGGGAGACTGCAGGCAGCTTATAGGATAACTCTTGTGGCCTTGGTATATTTATAATAATCTTTCTTCGGTGATGCAGCTGGTATGATGCCAGTAGCCATGGAAAAATGCCCACAACGTTCAAAGTGCTTGCTCCAATTTCTTCTAGAGATTAGCCTCCACCCCCACCCAGTTTTTAAGTTGTTCCTTCTGGTTGATCTTGTTTAGGCTGCACATTTCCCATCATTACTGCACATTAACACCATTTAAAACACACGCTTCCATGCCTGTTTAATACGGGGCATTTGAGTATCAGCAGAGTTTGTCTCCTTCTACTTCAAGTTTTTAGGGAAATATTGGCAAGATGCAATTTGTTCAACAAAGCATCATTTCTTTGGTTGCATGGTTGATCCTTATGAGTTGCTGTTCTTGACCTTGTTGCACCAAATTTGAGGGGAGCTCATCTTAATGAATGTACTACTGGACGCTACTAAAGGCAAAAGGTTGACTTTTTAGGTTTGTCATGACTCACATCCAAATGTTTATTAATGAAAAGAGAAAAAGCCCAGTTTTTTTGGTTACCAAGATGATGCTTGCTTCCATTTCTTTTTGTCAATGCTATGTAGGGCAAGATGGTATCGCAGAAGTAAAAATAACCAGAGCCTGGTAACCAAGACAACCTTCCACCCCAATTGGTTCCCACAGGGCCAGGAGGATGGGTGAGGTGTCCATCTGGGCTTATGTGCAGTGTGTTGTCTTAAAACACAGCAATTTAGATAGAACTACCCTTTCCTCTTGGTGGGAGTCTGCAGCCAACAGGACCAGAACCAGCTTGGCCTTCTGGGCACCATACTTTTGGAAAACCACCCCTAAATGCAAACCAAAGCACAGGCCAAGAGAACGGACCTCTGTGGGTTGATTTTTTCCATGCGTTTGATTGCGTGCATGTGTAGGAGGTGAAGCCGGTGTGGTGACGGGCCTGTGGAGGTGAGCTGGTCAGTGTTGCTCCGTGTCTCTCGGTTGTGGGCTTTGTGGATGGGCTGCAGTCGGAATCTCCCAGTGGCCAGCACCCCCTGAAGCCCCCGGTGCGACGCCTTGTGGTTCCACAGCCCCCTCCACAATCATTCCTGTGTCGTCTAGCCTTTTCTTTTGCTTCCCTTGTTTTCTAGGCCGCCGGTGTTAACACCACGGACAAAGAGATTGAGGTTCTCTATATTCGGAATGTAACTTTTGAGGACGCTGGGGAATATACGTGCTTGGCGGGTAATTCTATTGGGATATCCTTTCACTCTGCATGGTTGACAGTTCTGCCAGGTATATACTGTTCTTTCTCTCTGGGTTTTTTTCCCTTTTCTTGGTTGACTGCTATAAAATTAACACAGCTTCTGTTATCAGAAATGGCCCCTTTTATCCTTGCATAAAGATATAAAAAATGTTAAAAATGATCCCTCAGGGATAAGAAAACTGCCTTGGAAATTCACACACAGTGAGATCCCACACTCACATTTATGATCAAGGGAAATTTCACCCTTAAAACCTGAAGGGATCTCATATTTTTAGTGAGTCATTGAGCCAATGTATAAATTAGCCCATCCCCCTTTCTCTTAAGGAACAAGTTGCCATTACTTTGGTAAAATTCAAAGTAATTTATTCTCATTTCAAATTCCATTTTGCTAAAATCCTGTATGTGTTTTTATTGCTTTCATCCCACTTTGTATTTTTAACGAGATGTAAATAGAGGGATGTGTATGGAGGAGCCTGGGGAGCGGCACCTCTGAATGTCAGATGCACAGAAGCAGTGTGTTGCCTACCTTGGGGATCGGTGGCTTGCTGCATGTTGCGATAGGATGGACTTTCGGTTTGCTTTCATTGCAAAGCATGCTCCTGCCATCTTGGGCTTGATGTTATTTCTGCCTCACAGAGAAATAAACATCATTGCAGCCCTGTTGCCTAAACATTGCTGCTGTCTGAATCTTTAACCGACATCTCTATTCTAGTGAAACTTTCTTGAAATTAAACACTGTCCTCTCTGATGCATCTGCCTCTTTGTCATTTCCTTTGTGAAACTGCAGAGACTGTGGTTTGCTAGCTTATGATGTTCCACTCCAGTTATTAATTCCTTGTTTTTAGAGTACAGTGCTTACCTGCATGCTTATTTTACATCTAGTAAAAATAAAATAGATCGTTTCATTTTTGTGCTGTTGCTGCTGAGAGTTTTGACTATCTTGCAAGTATTTTTCTGATTAAAATGTATAAGCTTTCAATAATACCATTGCATCCGTTTTTCCTTTTGTTGCGAATCTGCTCTGTGAATATTTGCTTTGAAACAAAGAGATGTCTCTTATGTTGAAGCTTGCTTTTATTTGCAGTACTGCATTCTGTGGTGCCTAACTGGCACTTCTTAACCAGTTTGCCTGACAGTGCTAGCACTTAACTAAGAATGCAGTTTGAGAAAAACACTATTTGGAAATACACTGCTTGTAGATGGATCATCGAGGACTAAGAAGAAGTCAGACATTGGAAGTTGATATAAAAATGTGCTAAATTAAGTAATTATATGTATACTCACACATAATACCTTTATGTTTTTTCTTTAAGAGAAAAGCTGTAGTGACATAACAATATAACCGGATATGTATAAACTTAAAAGGTTATTAAAGAATATTATAATCTTTATGTATTATGGATCTAATGGTTCTATATTATAAGCAATTCAATCTGTGTATTTAATGCATTGGTTTGTTTATGGACTAGATGGTATTAAGGAATTCACCAAAACTTTTTCAGACCAGCCTACTAGATGAACATCAGTTTCATATGGAATTGTGTTCATCCGGGTTAAATTATCCTGTGGAGTCTTCCTTTGGAAGAGCCTACCCATGTAAGACTGAAGCATTGTCACTGTCTCCTTAGAAACAAAAGTGGGCATCGTTGATATTTCAGAATTTTTTATTTGGTTTGCATTCACAGACGATCATGAAAGATAATCCTTTCATTGTGGGTACAGTTGGTCGTCCTCCACTGAAATGTCTAACAAAATGTGGCCTCATAGCCTGCCCTGTGCAACTGGGTGTCAACCACTCACTGGATTGCAGGTGCCCACTGAGGCTAGTGACAGTGACTACCTGGGTCCTGGTGGTCAAATGATGGACCCCTGGTTATTCATTTTCATTTGGGAGTTTTTGGGAAGCCCACCTTGCCTTGAGAATGGTCGTCGCCTTTTGGTTCCTTTGGTTGTGCTATGATGCGTCAGTCTGGTGTGCTAACTCTATGGCCTGCTTATCTGTTCCTCCTCCTGTGATCTGCAATCTAGCGCCTGGAAGAGAAAAGGAGATTACAGCTTCCCCAGACTACCTGGAGATAGCCATTTACTGCATAGGGGTCTTCTTAATCGCCTGTATGGTGGTAACAGTCATCCTGTGCCGAATGAAGAACACGACCAAGAAGCCAGACTTCAGCAGCCAGCCGGCTGTGCACAAGCTGACCAAACGTATCCCCCTGCGGAGACAGGTAACAGAAAGTAGATAAAGAGTTTAAAGAAATTTACTCCTCCCCCATGACCCAGCCAGCTTGTGGATCTTGTCCTCTGCTTTGATGCCATCGACTTCTGTGAGCTTCCATGTGCGAGTGATTCTGGTGTGATGCTTGGCGGTCACCCAGTTAGTGTTTGGAGCTTGGAGAGTCTAGTCATGGTGCGTTGCTTGGATCAATGGGGTCCAGTTCCAAGGGCAAGAAAGGACAATACTGTCAGAATCAGAAAACTAATCAGCAGGACTGGAAATAACTGGAGGCAAATCCCCCTGTGTGTGTTTGATCAGACTCAAGTACAGCGGTCTCTTCGAAGCTTTAGCCACATTCGTGTCCTGTGATCTAATACCTTTTTTAAGATAAGCATGAACATTCGCTTGGGACTTATGCCACTAGTACGAAAGAGACTCTAAGTTCTCTGACTTATTTTTTAAAGTCAAGATCAGTATCTTATGCCCTGGGGGTGCATCTGAACTGTTTGATTTAAACTGTTGCACAATAACTTTCTACACAGAATTTTGGCTTAACCTCTTTGCAATTTACAATAGAATTGTATGCATCTATTATGTCTCATTGTTAGTAGTTCACAGGTGTGGCTGTGGATTTATTAGTAGAATATTTGTATGGAACCAGCAACAGATTGTTTTTAACCACCAACTTGGTCTTTGGTGGTTGCTTTTTGCTTGTGTGTGCCTCCTGATTGGTTTAATTTTGCTTTGGGGGAGATGGGGCAAGATGGAGCCTCTGGTGTAAACCAAAGCCCTGCATAGGTAGGTGGGACAGGAAATGCCTCAGCTCTTTTCTGCTTATTCACAGAGATGGAAGCGGAAGGCAGATGTAGATGCAGAACGTTTACAAAAGCATTTGAAACTTGGTTCTGATAAAGGTTTCTTTTGAAATAGCAAGTAAAACAGCAAACTCATTGGCTCTATTTCAGTGTGTATTTTAGTAAAATGTACGGGGTGCTTGTTAAAATTTCAGATTCCTTTGTCTCAGCCCCAGAGATTCTTGTTCAGTCATCTTGGATAGGGCCAGGAATCTGCATTTTACACAAGCCCTATGGTGATTTTAGAATGCACTTTGAGAAACTCCAGGTTAATTCCAGGCATGCCTCTCCCGGGACTTCAGGTAGGAATGACATTTTCTGGACAAGGCATTAGGAAGGATTAGGAACCAGTTGGTCAGCAGTGGTTTTGGAATGGGTCTGGTTGTTCACAACCCAGCTTCAAACTCCTGGCTGAATGGGTCCTTGTTAACTTCTCTAAAGCCATGTTTCAAGCAGGTCTTTCTTTGTGGAGACGGAGGATAGAATTTAAAGTGTGTGTCAAGCGTAGGCGAATGACCAAATTGTGTTAACAGCATGGAAAAGAGGGGCCTGTTGGGTCACGTCTGCCACCAAGAATGCTGTTGTCATTTTGAGTGACATGATTATCTTTCTTGGGGCCAGGAAAGCAAAGATGAGGCCAGTTGGCCAACCAGTTTCTAGAAGAGTCCAGTCCTGAGATAACTCTTACATGGTTTCTATTATTTTTTTTCTAATAGGGAAAAATGGTAACTTCTGGAGGCAACTTGTAATTTGGCATAGCTAGGCCACTGCCCCTTAATTATCTCATCATCTTTTTTTCTGCAACTGTTAAAATGCTTTTCTTTTTACTTAATATAGAAGGGTAAGATGCCCTTAAAATCCCCCTGACTCAGCCACAGTCATCGTGTTTTCTTTCCCCAGTGCCAGCTGGCTTTTCTTCACTGTCCATCTAAGAATACAGTTTGAGAAAAATAGTATTTGGAAATATACTGCTTGTGGATGGATCCTTGAGGACTAAGAAGAGGGCAGACATTGGAAGTTGACATAAGAATGTTCTAAATTAAGTAATTATATGTATACTCACATGCAATACCATTTATATTTTTTCTTTAAGAGAATTCAGCCTGGCCGGGCGTGGTGGCTCACGCCTGTAATCCCAGCACTTTGGGAGGCTGAGGCGCGTGGATCACCCGAGGTCAGGAGTTCGAGACCATCCAGCCTGACTAACATGTTGAAACCTCGTCTCTACTAAAAGTACAAAAATTAGCTGGGTGTGGTGGTGCATGCCTGTAGTCCCAGCTGCTTGGGAGGCTGAGGCAGGAGAATCACTTGAACCTGGGAGGTGGAGGTTGCAATGAGCCAAGATCACACCATTGCGCTCCAGCCTGGGCAACAAGAGTAAAACTCCGTCTTTAAAAAAAAAGAGAGAGAATTCAGCCTAAGTTGGTCCTTTTTCCTCTCTTCCCTGTGTTACCAGAGGGAACATCAGAGTTCCTTCCTCTTTTTCTTCCCTCCTTCCTTTATTTATTCATCATAATTTACTAAGTGCGGGGTATAAATCAGGTTACATGTAAGACACAGCCTGTCACATTCACCAGTGGTTCCAAGGTTATTTGATGGTAAATGCCTGTAATCCTAGCTCCACAGGAGGCTGAAGCGGGAGGATCCTTTGAACCCAGGAGTTCAAGACCAGCCTGACCAACACAGCGAGACTCCAACTCAAAAAACAAAACAAAACAAAACAAAACAAAAACCCAAAGTGGGAAAAAAAAGAAAATGTAATTGGCTTGTGTTCAGTAGGGCCGAGGAGTATAACAGAAGCAGAGGAAAGGGGGCAAATACCAGTTCCCTGGAAAAGTACATCTCTGCGAGATTAATTTATTTGGGGGGAATGTTGACACACCTCAGCTCCTTCTACATGTCCAAGTGGGGTACATTATTGGATCTTCACAAAGAATGTTTCATCAGTACGCATGGCCCCTTTGGTAGAGAAAGAGATGCTTATCGGGTATCTGGATAAAAGAGGGTTATTGGACTGGAGCTGGAATGAAAAGCCCCAGAAAGGCCTGCAGATACGTTGATGACAGAGCAAATACCACAGGGATGCCAAGCATGCCTTTACCTGAGCCTCTAATCAGATGTGTCAAGGATGGGTTGTTTCTAGGCATTTATGAGGCCACTTTTTATTCTGTGTTGGCCAGTCTCCTCTAGGACACAGGGATCACTCAGTGTCTCCATGGCCCTGACTCTTTCCCTCTCCAACACCCATACACACACAGCGTCTCACTCAGGTCCCTCAGTCCATCCTTGTTCTCTTTTCAGGACAAGAAAAGTTGGGTTTTCGTTCCTCCTGTGAGTTTTTCCTTCTTGGCATTTATTAATTTGCACTAGACTTACTGGTGTAACACAGACGTTTCAGTTTATGTTATTTTTTTGAGCAAAAATATTTTTTTCCAGTACCAAAGAAGAAATTCCTTGCAATCATTTCCTAGTAAGCGTGAATTTTTTGAGACTTTGTATGCACATGGTTGAAGAAGGAGAAGCAACTTTTGGGTGGTGGGAGGCAGATGGCAGGTGGCATCTCCCTGTGTCCTTTGATGGAGGCTCATGTCACATTCAGTGTCAGGGCTTGGGCACCGTGCCAGACACTGCTCACCCACTCCCACTCCTTTGGTGCCCAGCGAGTTAAATGAGACCAACAACAGCCAGCCCAGAGAGGGGCATCTTTGTGAGCGTGTTGGTTCTGGTACAGGTATGCTGGACAGCCAGTGACCAGTGTGAAGCAGCCTTTGTGAGTTAAAGGGGGCAGCATTACTTTCTGTGTTTTCCACACATCAATTGGGTGGTGGGGGAAGGTGTAGGGGTGGGTGGAGGATGGAGTGCAGAGGAAACTGAGGATGCCTGTTTAGGAGACGTGCGGTGTTGCTGGGTTTGCTGAATCAGTTTTACATCGAGCACATCAGTTTCTTTCTCTGGGGCTTGAAGCTTCCATAGGGTAGGATGGAGATTTAACTGTCTTATGGTTGGCTCCGTCCAGATAAATTCATCTCCTGTGCAGCTTACACCCTCTCTCACTGCCGTCAGCATGGTACAAGAGGCTGCAGGGTGGTTTTTTTTTTGTTTTTTTCAGACTTTAGTTTCACCTTCTCAGCTGCTGATATAGGTAGGCTGAAAACCAGAGAAAAATCAAGAGCAGACTGGGTGCCGTGGCTCATGCCTGTAATCCCAGCACTTTGGGAGACCAAGACAGGCAGATCACCTGCAGTCAGGAGTTCTAGACCAGCCTGGCCAACATATAGTGAAACCCCATCTCCACTAAAAAATACAAAAATTAGCTGGGTGTGGTGATGCATGCCTGTAGTCTCAGCTACTTGGGAAACTAAGGCAGGAGAATCACTAGAACCCAGGAGGTAGAGGTTGCAGTGAGCTGAGATCGCGCCACTGCACTCCAGCCTTGGTGACAGAGTGATACTCCGTCTCACACAAATAAAATAAAATAAAATAAAATAAAATAAAATAAATCAAGGGCAGTGAAGGCTACCTTTTGTAGCAATACTTTTGAGGCAAATGGCATATTCCTGGGGACGTTAGGAATAGGACCAAGATGAAGGGGGAGGAGCGGAGCGGGTGCCTCGGGGGAGGAATGTGTGACTCAGTAGCCAGTTCTCAGGTCCAGTGTTAGTGATCCTCAAACATATGCCAAATTCCGGGAAGGGGGATGGATGTTCTACTCCCAGAAGCTCGTTTACTGCCTGGCAGCTGAACATCATGATCTGGGAATATTCTCTGTATTTTGGTCAATCAGGTGGTCTAAACCTTACCGGCTCCAGAAAACATTTGGGTAATTAGAGTGGTCACGGATGACTTAACTGGAATCTGCCCTTTCATGTGGGCACCTCATCCTCCCTGCCCCTATTTCGCTGCTCCCTTTTCTCCTCTCTCAGCCTCCAAAGGACATGACAGTTTGCCCAAGATCTGACCTGGACCTTGGCTGATGCGATCTCTCGAGCAGAGCCAGCGCATCTGGGGCTGGTGCGTCATGGCTCTGATAGGTTTACTCACAGAGTCCCAGGGAAAGGCCTGCGGGAGGCAGAGACTCGCTATGGGAGAAAAGTGAGTGTCTGATGAACTGCCTTGCCTAATTACCTAAATTTTGTTATGGAGGAATTAAAAATGCAACTTCAGAAGCCTTTGAAGGTTTATCTCAGGCACCCAGCTTGCGGTGGTGAAAGCATTTTGTTTGGCCATAGGGGAGTGGTGGGCAAGGCTTATATTAGAGCAGAAGTATGTTAATGCCAGCCTCGTGTTCTTGTGGGGGAAGGTGGTTTGCAGCCTAAGAGTCACAGGGCCTGTTTGGCAGGCTGTGGTCCAAGTGTGTTTGTCAGTCCTGGGGAGTAAACACACAAATATTAATTCGTCTCTTCTCCCTGGAACATCTTTGCTTCTGCTTGCTCTGTTCTCTGAGAAATCCCCTCTAGATGGTAAATTTAATTCAGTATAAAGAGATAACACTGTTAGACCGGGCGCAGTGGCCCACACCTGTAATCCCAGCACTTTGGGAGGCCGACGTAGGTGGATCACCTGAGGTCAGGAGTTCGAGACCAGCCTGACCAGCGTGATGAAACCATGTGTCTACTAAAAATACAAAATTAGCTGGGCGTGGTGGTACATGCCTGTAATCCCAGCTACTTGGGAGGCTGAGGCAGGAGAATCACTTGAACCCGGTAGGCGGGGGTTGCAGTGAGCCAAGATCGTGCCTGGATAATGAGAGTGAAACTCTGTCTCAAACCAAAAAAAAAAAAAAAAAAAAAAAAAAAGAAAAGAAACAGATAACACTGTTTCTTGGTGGCCCTTTAAAAAGAAAGGAAAAAAAAAAAACACTTCCTCACTTAATCTCCCATATGTACTATGGAAATGTACGAAAAGCACATTTACTTAAAAGCTTGACTTATGGCACATGCTGGAGAGATTCCGGAAAGTGAGGAAATGGAATTGGAGTCTGTGAAAATACATGCTTAAAAAAAAATGCCTGCCAAGATTCGGGAGTGGGAAAACAGTTTACTAGAGTGTTCGTGTTGATTGTTTATAAGTAACTCACTTATCACTAACAAGAGAATATGTTAAAATTGGTTAGGAATGAAACTCTGGAATTGAAGTTTCTAGGTAGGAATTGAAGAATAAGGAAGATTATGATTTTGTGCAAAAGAAAAGAGAATTTAATAGTGCTAAAGAAGTAGAAGGATTTCAGAGATGAGCAGTGGGAGTTATTTGAGGTTCCTGATTCAGAGGAAAGATGCCCAGTAAAACATGGAGTCCCACAGGGGAATGGCCTGCCCAGGACCGGGCCAAGCCCCCAACACAGGCTCGCTCTTGGAGTGGAAGGGAATGAAGAGAAAGCCAGCCGTATTTTATAGCCCCAGAGGGGATTTTAAAAGCATAGTAAAAATGCATGGAGGTAAAATTAAGATATACCTCAGTAGACAGAGCAATCAAATTCTATAGTTTCTTAGACTTTGCACGTTTTCTTACCCTTTTCCCCCGTTTCGTGTTCTTATAAAAGTATTTTCCAGGTTTGTACATTTAATCTGAATCTCCGTACTTCATCTGAACAAAATTCCCGTAAGTCATCCTTCTTGTAGACCTCATTTTTAAAATTCTAATAATAATGACAATAAAGTTGATAAAGGCTTTCTTATTTATTTATTTTTAGGCTTTCCATTTGAAAAGCTGTCACATGAAAATCTTCTCGAGACAGTCTGTTTGGGGGATGGTGTAGATACATGTGAACTTTTGCCAGGGGTTTGTGGATGCAGATTCCTTTGGGGTCATGGGTGAGCCATAGAGGGGTGAACTTCAGACTGAATGTTAAATTTTTCTCTTCTGAGGTAACCCCTAAGCCATATTTGTCATTAGGACCCTCTTACTGTCCAGTTTTCCTCCTGCCCTGAGATGATTCCCTGACTCCTGGATTCTTCATCTCCTGCTTACTAGAACCCCAGCCCATCCTTGGCAGTGAGCAGAGGGCCTCATCTAGCAAATCAGACATGCCCACTAAGGCATATCTTCTGCAGTCAGCCTTTAATGTCACTGGGTTATCTTCCTGGTTGCACACAGTTTGACAGTACAATCGTCGCTTGGTATGCGTTGGGGATTGGTTCTAACAACCCCGAATATACCAAAATCTGTGGATGCCCAAGACCTTTATTTAAAATGGTGTAGTATTTGCATATGAACTGTGTACATCCTCTCATATACTTAGTCATTTCTAGTGATACCTGTAATAACTAACGCGTTGTAAATGCTATGTAAATAGTTGTTATACTGTATTGTTTTTTATTTGTATTTTAAAATTGTTGTATTGTTATTTTTTATTAATTAGCTTTCAAATATTTTTGATCTGTGATTGGTTGAAACCATGAATGCGGAACCCACAGATATGGAGGACTGACTGTATCTTACACACAGAACCACCCTAGGCTCCAAACGCTCCAAGTTACCCAGAGAGAAGTGTCTTTGTCTGTTCTCTCAGATCTGGGCAGCAAATGATTCTAAAGGGACTAAGAGAAAATATTGCAGTGTTGGTAGCAGACATTAACTGAGCTCTTAGTGCCAGGCCTAGCACTAAGCACTTCATCAGTTTTTTTTTCCCTCATTTTATCATCACATTAATGCTGTGCAGTTGGACCTGTTCCTGTCTCCTCTTTTCTTTTTTGAGATGGAGTCTTGCTCTGTCGCCCAGACTGCAGTGCAGTGGCACCATCTCGGCTCACCGCAACCTCTGCCTCCCAGGTTCAAGCAATTCTCCTGCCTCAGCCTCCCCAGTAGCTGGGGTTACAGGCACTCACCACCATGCCCGGCTAACTTTTCTATCTTTAGTAGAGACAGGGTTTCACCATGTTGGTCAGGCTGGTCTCGAACTCCTGACCTCAGAAGATCTGCCCACCTTGGCTTCCCAAAGTGCTAGGATTACAGGTGTGAGCCACTCTGCCTGGCCCCTGTCTTGTTTTTAACAGATGAGGAAACCCAGGTCTAGAAAGGTTAAGTGATTTCCCAAAGCTCACACAGTGAGTGAGTGCTCAAACTGGGACAGGGACCCTGACAATCTGACCGCACAGTCCCATGTTATTGCAGTTGGTCAGGATGCAGCCTGCCTAATGCGGGGCCTCATGTTGTGAATGATGAGCACAGGAAGGGCAGCAACGGGATTGGCTGTTGCCCACATCGAAGGATGCAGAGATGCCACAAAACCTAGCCTGGTAGCAGAAGGAAGGGCCGAAAGCAGTGATCTTGTAAGTTTTCACTCATTTTAGAAGTCAGCATATTTCAAGCATATGCCCTTCGTTTTCTTTTCCGTTGTTCATGCCTCAGCTCAGATCCTTATTATTCTAAAAAATATTTTTGTTAAATAAAGTACTTCTTCTAGAACATAAAAGAATTACATACACATGGTCATAAAATCCAAATGGTCTAGAAAGTTCTGAAATAAAATGTATTTTCTACCCCCTCTCTCAACTCCTAATCTCTCTGCCCACAGGTGATCACTGCTAAGTCTCTTATATATCCTTCCAGAAACGTTTAAGTGCCCTTGTTCTCACACCTCGCTGTGGGACAGCTGCCTTCCCCACATCCTATTCTGTGAGCCTCGCTGATGAGAGCGGTGATTTTCAGGGAGGAGGCACAGAAGCCCAGCCATGCCTCTGCCTCTGCTGGGTGTTAACGTCATCCAGGACTGCGGTCCCAAGCAATTGCTTAATCGGTTCCCACTCCTCTATTGATTGCAGCTTCCTATGCACCCCATAGTGGAATCCTGGAAACTGGTATCCAGTGATGAGGGGCTACGCTGCAGGCCATGCAGAGAGTGTTCTGGCTGTACAACCTGCCAGACCCTGGCCATTTGCGGAAGTCGTCCCATTGCTAGGCCTCTTTTTTTTTTTTTTTTTTTGAGACGGAGTCTTGCTCTGTTGCCCAGGCTGGAGTGCTGTGGTGCAATCTCAGCTCACTGCAACCTCTGCCTCCTGGGTTTAAGCGATTCTCCTGCCTCAGCCTCCCAAGTAGCTGGGATTACAGGCGCCTACCACCACAACCGACTCATTTTTTTTATTTTTAGTAGAGATAGGGTTTCACCATGTTGGCCAGGCTGGTCTCAAACTCCTGACCTCAAGTGATCTGCCCACTTCCTCCTCCCAAAGTGCTGAGATTACGGCGTGAGCCACCGCGCCTGGCCGGCCGGTTCTTACTAGTTTGGCTGGAGCTTCTTGCCCATGATATCCTCAAGCATAAGGTCCCCCTGCAATGAGTGGTGATTTTTGCCTGTTCATGGGGAAGAACTTTCAGAAGACCTTCTTAGTCTTGAAAACACCTGCGTACTTAAGCATCCACAGCACACGGCCCTGATGCAGAATGAATTAGGAGGACAGAAAGATTTGGGGAAGCATCATTGGCCGTTAAACCCGCTCCTGAATCTTTCTGAGCTCTGTAGGTGGAGCTTGAGATGTTCCTGTGGACCAATGCAAACTGGAAGTCTTGATGTTCTCTGAAAGTTCCTGGCTTCTGATGTGTCCCGCAGACGAGGTTAGCTCACTACAGTGAGGTTGGATACCACATGGCGGGGACTTTAAAGTTGTCTGTTTCATCCAGGGTGGGGCTTATGCCTAGTCTGTGACCTCAGTGGGGAGCAGGACGGATTCCCCAGGAGCACCCACATTTACCTTCTCGTCTTTTCCCGCTTGCTTCTGCCATTTGCTTGTGCAACCCAGACACTTGGGTGTGAGGATCTCAGCTCCACAATTAATGATTCTTTAGTTCCCGCTTTTAAAACATTTTGACCATACAATGAATAAATGTTGCTCATACTATCTGCATAATGAAGTTTAGGAATAACTGCCCCCTGCCAAAAGATTGAATGGAAGGCTCAGGAAGTGCTCATGTACGTTTTAAAAGATAATAGGAATTCTATGTGAAAAATGGCCCACTTCTTTATTTTAATACTGAAAACAACTTCCTAATCCTAAAATGATTTTCTTCCCCTAATCTATTCTTGGGCATCTTCTTGAATTTCCAGCCTGCTTTGAGGGAAGTCTGGGTTTACAAAGGCGAGATTCAAAGCTTTTCAAACAGGACAGGTCCTCTGGTTCCCTGTGAGAAGAGCCCAGGACCCACCCTGTGAAAGTTCATCCCACCTAAATTTGTTCATCTGGACTCAGTCTTTGCCAGTGTGATTGAAGGCGTTTGTAAGCACATCCAGGAGTACTATCCACCTGGGCAGTCACGCAGGAGACAGAGCCCAGGGTGGGCTAGTTGCCTGCTTGGAGATGGATCGTGGTTAACTTCACATTCTTGTTCTCTTGGGCCAAAGTCTTGTTCATGGTTTAGAATAAGACAGTGTTCAAGCAGCCTGTGGTCAGACTAAGATTGCGTAGTCATCCTCAAAAGTGGCCTTCCAGTGTGCTCTGTGTGAGTCTTTTTTTTTCCATAGAAACCAGCCAAAGGACAGTGATATATTTAAGAAATAATCATTTTATCAGACACACTGAAATGGATCAGGATAAACAAGAAAGTAACTCGGTGGAGCCCTGTGTACTGCCAGGTGGGAGAGGAGTTCTCTTGTGTGGTTATGGGAAAAGGTGTATTTTCTTTCCATTGATGCTTCATCCCACGTGTTTAGTGCACTGGTTTCTGAAACCGAAGACAAGAGGCAGCCCATTTCCACTGAATAGCCTGGCCATCAATAAGTTTCCAGAAGGACTGGGGAGAAACAAAGAATGGCCCCCAATGCTGGGGTCTGGGGTTATTTTGAGTTAAAGGGACTCGGAGCTACTGAATGTCTTCCACATTCAAGTCCTAGAACTCTTTCCTTGAGATATTCCACTTTACATTTCCAAAGACAGAGGAAATATGGTAGAGCCAATTTCCTAAAAGTTTTCGTAGAATTTCATAAGCACAGCATTGATCCATGATCCGGGTGGTCTGAGAGGGGATCCATTATCCAGGGCTCCAGTACAGGTGCAGGTACAACCATAAAGGCACTAATGAAGCCAGAGAGGACTGTCTGCATGTCCTCAAGTGACTCTCTGGAGGAATTAGGACAGAAAGAAAATTTACATTGTGATCAGATGGTATAGAAAAATTTCATAGAAAAACCTGAACATAGGAACATAAAATTTGGATGAAATCTGGTACTGCATGGACTGGAGGGCAGAGGAGTTAGATTCCAGTGGTTTTCTAATTTGGTTTCTGACTTCTGCCAGCCCCCAACCCATTCCTTTCTAAGATTCGATACTCTGGCTGGGCTCTGGCTGACTTCCAGCCTTCTCAGATGGAGCCAGGATTACATCTGTGTCTTTGCATTTTGTATCCAGGTTTCGGCTGAGTCCAGCTCCTCCATGAACTCCAACACCCCGCTGGTGAGGATAACAACACGCCTCTCTTCAACGGCAGACACCCCCATGCTGGCAGGGGTCTCCGAGTATGAACTTCCAGAGGACCCAAAATGGGAGTTTCCAAGAGATAAGTGAGTACTTCTCTTGGCCATGTCCCAGGATGGAGACTCAGCTATAAATGGGGATATTGGATTAACATTTTCTTTTTATGACCCTTAGCCACAAAGGTCTTGGTGTGATGATGTCAGCAGGAGTAAGATTGTATTTCTAAATAACCAACTCCTGGAAAAGAAAAAAATGGATTTAAAAAAAAAAATAACTCCTTGAAAGCAGAGCTACTTGCCCCTGGCTGGTCCCCAAAGAAGATGGCATCTGGTTATCATTTTTTAAGTGTCTGGGCAATTCAGACTCCGTCAAATGGAATAAAAGTAGAATTATCCAATTTATAAAACAGATCTGACATTCTAGCTTTTGGTTACTAGAACAAGACTGTTCTCTGTTCACTTCTGTGGAGAAATTAGATGCAGAATATAAATGGCCTTAAGGACCGCTACCCAGTGTTGCTGTTCTCATTGGTTATTAATGTCATATTGGGCTGAAAAGCTTCAAATATGGTACCTGACATCTAATTTCTGTGATCCATAATATTTTCCTTGTTGGATGATACAGAGGTGTGCCAATCAGATGTTTAGTCAAAATATGGCCACCTGGGTGGTGTTGGGGCTACGTATCTCTTGGTCTCGCTTGAACTCCACGTACTGGAGCTCCGTTGGGCTGCATTTGAATCCTGGCTTTGCCAGACAGTGGCTGGGCAACCTCGGGTGAGGCACCTGATTCTCTGAAATTCATTCTCATAAAATGAGGGTGGTGGTTCAGACCTCCCAGGACTGAGCAGAGTTCTTGGCTTGTGCGAGTTTTCCTTTCATTTCCCTTCACGTGGTGGTAACCTGGGAGCTCTGAACTGCAAACCTCAGCAGGATCATCGTGTGGGGCATGGAGTCAGTGGGCAGAATTTGAGCTCCTAGCCCTCGTCCTCTAGGCAGGGACCGACCCCTAGATCCTCCTTATGAAAGGAAGTGCAGTGGTCATTGTAGGGCTGTCCACTCACTTCTGGGGTACTTTTTGTCGTCACAGCTTGAGAGTACGGGAAGGTGGAAATGCTGACTACTTCTGCATCACATACACTGGAATAAGCTCTTGACTTGCTTATAAGCAGCTACCCTGTTTGCCTTGACATTTTCAGTAGCTCCTCAGATTATATACACTTCTCATGTGTACCTATACACATTTGGAAATGCAAAGATAAGCTCTTCCAGAGACTGATCTGATGAGCTCTATTTGGAAGGGAGAGGTAGCTTATGTGGCTGGCACTTCTGATTTTGATTCACGTGATGTCACATCAGTTTTGTTTCCCAAGTGCCAATTTAGAGATGTGTACCGTTAGCTAGGACTGAATAATTGTATGGATATTATTTGGTTAGAGTGTTAATGGAAGTAATTTCCAGTTGATTTGTATACTGTAGTGAAAAGACCACTCACTCATTCACTTATTCATTCACTCAAGGCATGTTAATTGGACATTTACTGGTGGGGCACCAGAGAAAACACAAAGAATGGTTTCTTTACCTGTAGGATGTGGAGAAATGGATGTTTCTTGTGAACTCCGCCAGCCCTAGTTTGTGTGTGATTATATACACAGATAGGTTCATGTGCACATTCCTATATATATAACTGAACTGGGGAGTTGTGATCATATTTTAAGAAATTGCAGCTTTCGGGTTTAGTCCATAGTTTTTGCCACCTGTGACACCACAGTCAACAGTGGAAGTCTGTATGTGCCCAACTGTTACCTCCCACCCGGGGTACCCTGAGTGTGGAAAATCTGAGTGCTAAACATTTCAAAACAGTGTTTAGCGCAAACGTAGGTGGAACAGATTTCCAATGAATGAAGGCTATTTAGAAGCAGTTTATTAGATCGGAGGCAGAAGTTATACAAAGAAAGGATTGTTATGCTTGTAGTAGCAAGGCGGTGGGACATAAATTAGCCATTTTTCCAATGCAAATATTTATTTTCTGCCAAGATGTTAAATTTAATTTTCGTTCTGGGTAGAAACAAAATGACCTCAGCATAGCACATGCTGCCCTTAGTCTTTATGCTGCACTTTTGCAAACTATTGTGTACTTACCTTAAATACTGTTTACTAATGGCAGCTCCATGCTTTGCTGTGTTATGCTTAAGTTAGAAAGAGCCGTATTCATAAGTATTCCAAAGACTTTTGCGTTTTGTTGGTTTCTGGAATGCACAAGGACAATATATGGCTATTCGTCCGATGTGCATAGACCTTGTAATCTTAGAAATTTAATTTGTGGTGTTCACTTTGGATTTTCTTCATTGTTAATTTTATGTAGTCATAAGGACTTTTAAACTTATGTCAAAAAAAAAGTCCCCAATTTTTTAGAATTTTCTTTTTAGTAAAAAATTAGAGATTCCTTGAAATGCTTTTAAGAGGCATATCCTGTAACTTGGCAAGGAATGTGACCATAAAATCCATTGGTATTTGAATAATAATTTTAAAGCCACCATTTTACAGGGACAAAAAAATAAGAACAGTCTTAACGTTTTTTCTTTGAGCCATTCTAAATTACAAATATTTAATTGGCTCAAGATCAAAAGCTCTTCTCTGGCACTTAGGAAAGCTGACCACCGCACTAGCAAGGATACCTTCCCTAAAGAAAATAAACCGAGAATACCAATGTGAAATTTAATAGCCGTTCCACCAGTAATTGACATTCTCTAAAACGTCACTAGGAAAATACTCAGGCGCGTGTGTACCCTAAGTCTCATTAGTTCCATATGATAAGCACTCCATGCTTTAGTAAGCCGCTGAAAGATTTTTATATTTAGTTCTGGAATTTCCCTCACTACACCCCATCACCAGATGCTATGTGCTAATCCCCTATTTACACATTTAGGCTGACACTGGGCAAGCCCCTGGGAGAAGGTTGCTTTGGGCAAGTGGTCATGGCGGAAGCAGTGGGAATTGACAAAGACAAGCCCAAGGAGGCGGTCACCGTGGCCGTGAAGATGTTGAAAGGTGAGCGGGGAGGCGGGAGGCTCGGGGAGGGGCTGGGTGGAGAGTCTTATCAAGAAAGTTCCTTTTGTGGCATGTGAACTCTATCATGGCACGGGGTCAGAGAGCACATAGTTGACCTAGGGGTTGAGAAGTTTTCGGTATAAATCAGCATCTCGGACAGACTATTTATCTTGAGCTGTGTGTACTTATAAAGAAAAGCCAGTTTTGTTAGAAAGCGGTAGCCTCCTACATAGAGTTATTCTTTGACTCCTTCTTCGTGACCACAATTCTTCATTCTCTCTGTATTTTTATGTGCTTAGAAATTATCAACTCACATATAATTGAATTTATTAGCTAGGAGTTGGTGTGTTAGATTTGGGACTTAAACCTTAACTTTACAAGTACAAGAAAATTTGTGTTTTTGGAGGGAACGAAGAGACGTAAGGGAGCAGAAAGCCTTCTCTTTTGCGTGAGGAACAAAGCAGAAATGACACTGGTCTGGGAGAGTCACTTAGAAGCTGAGAAGGAGTGAACAGGATCAGGGCTGGTGCAGAGCCTCCTGGGACACATAAACAATTACCCTGAGATGTAAATGTCGTGTTGTGTTTGTGGGACTGTGAACACTTCTACGTTAACCTTCCAACCCTGCTTCATGCCCATGTCCAAAGAACTTAAAGAACTTTTAACCATTAACTTATTCGTCCTGCAGTATTCTTTTATGAGAAGAGTTATAGGGAACTGTCACATTATAAATCCTCTTGTAGGGATCTCGGAAAGAAGATCCCATGCCGAGTGTTTCCCACGTTTCCAGGCAGAGAGGCCCATCCTTGGGATATGGTGCTGGGCATGTCGCAGGCGCTCTGGAGTTAGGCTTTGTCTTTCTTTTGTGGGTTCTCATGGGATAGTCATCACATCCCTCCCAAGGGGAAGTAGCAGGCTGGACTTTGTCAACAAGATGTGCATTTTGTTTTTTGGGTTTTTTAAAAGGCTGTTTATCTGAGTGACTCCCAAGGAAAACTAGAGTGCTTTGAGATGTTCCCCACCTTGGAGCCTGATGCCGGGGAGGAACACTGTGCTGTCTTGCCCCAGGTGTCATGGCACCACTGACTGAGGCAGCCCCTGGCTGCGTACCAGGGCCAGGTGTGGGGAGGACCCAGGCTTCTCATCTCTTTTGGCGGAACTTCTGGTTTTGCTAATGGAGCTCAGAGTTACATGGGATATTGCAAAAAGGGAGGTCTGGGAGTTCTCTTTCTCTTGTGATGCCCAGGCTGGCAGCCTTCCCTGTAAGGACACAGAAGGATATTAGTCCCCAAGCCATTGTGGCGTGTCCTTTCTTACAGCCCACGGCTGTGTCTCCCTCCCTCCTCATGGCCCGTGGCTCCCTCCTTCACATACATCAGTGTAAATTTTGCACACACAGTCACTTGTATTGATCTTCCTTTTGTGAAGCTAAAAAACTGTTTGCAACATGGTTCTTATCCATGCCCATATTTCATTTTTTTTTTAAAGGAAACCCAGATTTTTCCATACTGAATTAGCTTGAGGTGGAGGGCACATGGGAAAGTCTTGCCACTTAGGAGAATCTAAGAGAAGCTAACTGCGAGCCCGCGTATGTGGAACCTGTGCCATTCTTGCTTGAAATTACAGAGCGGAAGTTTATGTAACTTTTCTTAGGATGGGAACTGCAGTGCCCTCTGAGAAGCCACTAGAAGTCGCAGCCCTTTACCTGCTCAGAATGCACATGCACACACGTTTATGGCCCTGTTTATGGGGAACCGTCTGAACCCACCTCGGAACGCTCTAAGGGCCTCGAGGGGCTGGGTTAAGAATGCTTGGTCGGGAGCAAGTCTGTAGTGATTTGAAATGGCCCTACCCTCGGTCTCCTCGCTGGTTTCAGGCACCATGAAGTTTGGTGTGGTTTTCTGAGACGCCTTAGATATGGCAGAGGATGAGATTATCTCATGGTCTAGGAAAGAATTGGCATTAGTGTCAGAAGCCCCTGCTCTCGTCCTGACTCTTGGCCCCATTGGCCCCCCAGTGAGCTCTTTGACACAGAGTGAGGCAGTTCCCTGTGTAGGCCTTTGTCCCTTCCTCGATAAAATGAGGGAGATGATTTGGAAAATCTTTTCTGATTCTGAAATTCAATTTCATGCTGTTTCAACTAAGTCTTTGGCAACTAACAGTAGCTGCCCATGAGTTAGAGGAAATGAACTGATTTGTGAATATGCCTACTGTTCATAGATGATGCCACAGAGAAAGACCTTTCTGATCTGGTGTCAGAGATGGAGATGATGAAGATGATTGGGAAACACAAGAATATCATAAATCTTCTTGGAGCCTGCACACAGGATGGTGAGTAGGAGGAAAAACTGCATTCGCCCAAATACTCTGCAGTTTGATTGAATCATTTTAGAAATGGCTGGGCTTCCAGATCCTGCTCCCAGAGCACCCTGTGTGCATGTTTAAAGTTCTTTTTAAAATCCCCATTGGAAGATGTTCCTAGCCATGAACACAAAGAAGGGTCTGTGCCCGTACCTGGGGGCCAGTGGAAAGGAGGGTGCAGGTGACTTTGGATTTGAGGGCCTAGAGGGCGCTGCTGTTTCTAGGTCATAACCTGGAGGGGGTTTTGGAAAAGGCAGCCTCCTTATGTTTTTGTTTTGTAAGTGCTAAGAGAGATTTGTCAGAATAAGATCCTATGTTTTGGTTGAGAAGTTCTTCCCTTAAAACAGGGATTGAAGAATCCACATCTTGCTGTGGGTCACAGATGGCTGAGCTCCCAAGAATAGCTTAAAAGAGGAGAAAGCGGTATGAAGGAATACGTTATTTTCCCTGGGGGAGAGAGACCCTGGCTTCTTCCATTGAATGTTTACTGGCACTTTGAAATCAATTTGCTAAGTAATTAGTAAACTTGAAAACGCCTATCTTTGACTTAGCAATTTCTCTTGTAGGTCTATATAGTAATTGGTGAACTTTTTCTGTAAAGGGAGGTCGTAGATATTTTAGACTTTTGTGGGCCGTATGGTCTTTGTCGCAACTTCTCGTGTCTGCCATAGTAGTGAGAAAGCAGTGCTAGAAGTACAGAAATGAATGGACCTGGCTGCATGCCAATAAAATTTAATTACCCAAACAGGCGGTAGGCAGGATTTGGCTTGCAGGCTGTAGTCTGCCAACCCCGAGCCTATACCATGGAGAAATTATTGCACACGTGTGTAAGGGAACATGTACAGAGATGTTCATTGCCTACTGTTTGTTATGGCTGAAACCTGGAAGCAAATGCCTATGCATATAAGGGAATGGATAAATAAAGTGTGGTGTGTTTATACGATACAGTATATGCAGCTGTGAAAAGGAATGATCTGGTTTTGTTTTTATAAGCCCAACAGGTTCCAAAAGGATAATGTATGGGTAAAAAATGTTGCAAAGATCTAAGAGCTTTATTATTCATTTATGTGATTAAAAATAATATATTACTTATTGAATAGTTAAAATGAACCAAAAGGATAGAGTGGAGGGATCCATTGCTTTCCAAGAGGGCGCAGGTGACAGCATGAGAGTGACAGGGAAGAGCACGTCAACTGTGTCTCTGTGCCTTTTGAGGCTATCATGACCAAGGGCTTATTTATCATTTTGGAGAGATTATAATCATATTTTTATGTGTGCTTTTCTGTATGTTAAAACTTTTTCTTTTTTCTTCTTCTTTTTTTTTTTTTTTTTTTGAGACAAAGTCTCGCTCTGTTGCCTAGGCTGCAGTGCAGTGGTGTGATCTCGGCTCACTACAGCCTCCACCTCCTGGGTTCAAGCGATTCTCCTGTCTCAGCCTCTCAAGTAGCTGGGACTATAGGTGTGTGTCACCATGCCCAGCTAATTTTTGTATTTTTAGTAGAGACGAGGTTTCGCTATGCTGGCCAGGCTGGTCTTGAACTCCTGGCCTCATGTGATCCACCTGCCTCGGCCTCTGTAAGGGCTGGGATTACAGATATGAGGCACCACGCCCAGCCGCTGTATGTTAAACTTTAAAAAAAAAAAAAAAAGCATGGGTTGTAATAACTAAAAATGTTTTGCTGAATTGCCCAAGGGGAGACCCTGGATTCTCTCTTTAGGGAGCTTCTCTTCTTCCTCAACAGGGCCTCTCTATGTCATAGTTGAGTATGCCTCTAAAGGCAACCTCCGAGAATACCTCCGAGCCCGGAGGCCACCCGGGATGGAGTACTCCTATGACATTAACCGTGTTCCTGAGGAGCAGATGACCTTCAAGGACTTGGTGTCATGCACCTACCAGCTGGCCAGAGGCATGGAGTACTTGGCTTCCCAAAAAGTGAGTCTTTCACATTCTACTTGGCTGGGTGGAATCCAACTAAAAATGTCTTTAAAGAAAACAGGCAATTTGGACATGCTCATTTGCTAGATCAAGCCCTCGCATGTCTTGTACAACCTGGAAAATATTTATTGCGTTATTCCCATTTGAGTTTAATGAACTGTTTAAAACCAAAGCAGCCTCATAAACCTATAGCATCGCTGCAGAGATGAGCAGAAAAGATACCTCTTCTTTGAGACAGGACCATGTGTGATTTCCCTCGGAATTCAGCTCTCCAGGTGGGAAATGGATGGTTTTAAAGGCCCCCTTTAATTCGGATGATTTTCTTTCTTTCTTTTTTTTTTTTCTTAAGCTTCATTTATTTTGTGGTTACTGAGTTTTTGAACATAGACTTTAGGTGTTTAGTGTTTTGGGTTTGATATGGCATTAAATATTCTAAGAGTAAAGGTCAAACAAAGGGGTATTTTAGTAACCTTGCGTCCTGGAGCTCTGCGTTTATTTTGCCTCGTTTGGCGGGTGACCCTCTGTGGTTAGAAGTTGGCCAGGTCCCCTGAGGTGGACTGCCTGCATTCCAGGCGTGCCACTTACCGTGGAACTTGAAACATTTCAGTTATTCTGAGAGTAGTTAGACAGGTGCCCAGATGTCCTCGGAGGCATTTTGGATGACCCAAAACTCCCTTGTCAGCCCCACACATAGGGAAGCGGAGGGGCGGAGCTGCCTCCTGTGCAGAGGTGGGCCTTGCTCCTACCTGCATTGCAGTTTATTGCAGTGCCAGGAATTCCTTGGGTCCCCAAAGAGGTGAGATCCTCTGGTCGGCGTGCACCCTCTGTCACTGGGGGTCTGGGTTGCCTGAAGAGTCACAAACTCAAGTCTCCATGGGGCCATGCCAGTCACACCACCAAGGCCTGCGGATCACTCAGAGTGCAGAGATTCGAGGGATGGCTGCACCTCAGCTCTACTCTCTGGCCACATAGGAACATGGCCCAGAGCTACCCCATGTTCTGGATGGTTTTTTCTTTCTTTCAAACAGGCTGGAGTGCCGTGGCATAATCACAGCTCACTGCAGCCTTGACCTCCTGGGTTCAGGTGAGCCTCCCACCTCAACCTCCTGAGTAGCTGGGAGTACGAGGATGTGCCACCATGCCTGGCTAAGTTTTGTGTTTTTTGTTTTTTGTTTTGGTAGAGACGGGGTTTTGCCTTTTTTCTTTTTAATTTAAGAAAAACTTTAAAAACATTTTTTCAGGAGAGTTTAGAGTTTAAGACTTTTTCAGATCTTTTTCGTATAAAAATCTCCCAATATATAGGTTTTGGGAAACTAATTAAACACAGTTTTGACTTCTGTGATTGTGTTTACGTACACGTGCGTGTGTGTGCGTGTATGTAGGGTAGTTTGCCAATCTATTTGGCATCCAGAGACAACCAGACAGATCCAGAACATGGGACATTTGACAAGATATCGCTTCCAAATGTCAGTGTCTCGAAAGACAAAAACTGCTGGGGAGACGGTTCCAGATAAAAGGGGGCCGATGAGACAATTCCTAAGTGTAAAAGTGGGATCCTGGACTGGATCCTGTGGGTCGGGGAGGGTGGCCAGTTCTTAGAAAGGACATTTGTGAGTGTCCTTTGAATATGGACTGTATAATATTACTGGTTATATTTCTGTATCAGTGTTGAATTTGCCGGGGGTGGTGACAGTGGTATCTGTTGTAGGAGAAATACGCTGAAGAATTGAGATTTGTGAAGTATCAGTGATGCCTGCAGCTCAGTTTTAAGTGGTCCAGCCATAAAATATAATCAATCCATTCACTATCCCAAGTGTGTATGTGTGTGGGGGCAGGTGGGGCAGGACATGGAGACAGCAAGTGATTGAGTAGGTGTAACAAGCAAACCCAGCAGTGGTGGATACTCACTGTGCCATCCCTCCTTTTCTGCAGCTGTGAACTCTTCCTAAATAAGCCTGGGGAGGGTAGCCCATCTGTAGGCTGCCTATTTTGATATTCTGGTCTTGATCACTCCCTGCCCTACCTGTGTGGGAGATAGGGGAAGCAGTTTTGCACCCAGCAGGGTGGTGCTACTAGGGGAAATGTGGTAGGAGGGCTGGCTCAGTCATTTTATTAAATCCTTCAACATCTACTCCTAGAGCACCCCCGATGTCTCATGCCCTTGGTCAGGCTCTCCAGCGAAGTGGCCAGAAGAGACATAGTCCTTGACCTCCTGGGGCAAGAACCATGGGTGACAGTAAGAGAAATTGACTGTAAATGTGGGAATGAAAATAAGGTTGTAAAAAAATATTGAAAAAGGTGCCATGGAGGAAACAGGGGGATAAGGCCTTACTCATGCCAGGACGCTGCACTTTGCTGTCACTGCCATGGAAGCCTCTGAGGGGGAGGAAGAGGATCAGTTAGTGCTTCAAAAATGCCTCTCACTGCTGCTTGTGTGGTGAATGGGAAGGCTGAGCCCCTGTCAAAGGTGATGATGGTTTGGGCTAGGGTCTGTTGGGTCCAAAGACACCGAGAAAAGCTGGTGGGCTGATGTTGGACATATTTTGCTCTTGGGATAATGAATGGATTGATTAGATAGGAGGGAGAGAAAGAGAGATCAAGGGTGACTTCTGGATTTCCAGCTTGAAAAACTGGATGGTGGTGCAGCTTCCAAGTCTGGGAGGACTTGGGAATCAGGGCTGGGGCAGGGGGCATAGATTTGGGTGGAAAATCCGAGCTCGTCTTGAGCGTATCTGAGTCATCCAAGGGGAGATAATGAAGAAGCTGCAGGCAGCAGCTCAGCTCTGAGGGTGGGCTAACAGCTGGGAGGCAGCAAAGGGAGCTGTGAGTTCAAGCCATGGGCGTGGACAAACTCATCTGCGGAGAAGCTTGGAAGAGGAGAATAGAAGCCTGAAGTCAGGTCCTGAGAAAATTCTCAAATCTAGAGATTGACTGAAAGCACCAGAAACAGCAGCGGAGGCCGAGCAGGCACAGCCTGAGCAGTAGGAAAATCAGGACACGGAGCACAGAGGCCCCACATGGGAGCTTCAGGAAGGAGGGGGCAGGTAGTAGAGCCTCGGCGCTCAGACTGGTGAGAAGCACGGGTGTTGAGTCCTGGTCCTAGAGGCAGTGGTGGTACCCCTGCCCACCCTAGCCCTGAGGACCCAGAGCTCCTTCCTGTTTTGGAGCTGGCAGAGAGAAAACTAAGAGACGAACTTTGCTAAGCAGGGCAAATGCATCCATTTAATCGTGGAAGAACGGAAGTACCCATATTAAAGTGTTGTGATAATAGTAACTATCGTTATTATTAATTACTGACCCCTCCGGGAGAAGCTAACCATCTTCCAGGCACCGTGGCAGAGCATTTGACATAAAGCATCTTACGTAGCCCTCAGAACAACCCGGAAATAGGTGGGATTTGGATCCCCATTGTATGGGGGAGGACGATGAGGAAGCAGCATGAATGGTTTGAGACCAGATGTGTCAGGAGGACTCAGATGTCCTCACTTCTGAGAAGCGGACTTGTAGGTCTGAAGAGTGGAGTGGCAGGTCCCAGACCTAGGTCTCCTGGTCCCCCACTCAGCTGTCTCCTGCTCTCATGAGGCCCCTAACTCTCTCTAAACTGAGGCAAGACCAATGAGATTCCACGTGGGGGGCGGGTGAGGGGTTGTTTAGTGCCCCAGTGTGGCCTCATTGTCTCTACATTGAATAACAGCCCAAGGTAAAAGGGATATTGTATGGGCCTTTAAGACATGGCATGGTTCCAAAGCCACTTACTGGAGGCCACCTGCAGTTAAGGACCCAGAATAGGTTTGAAAATGGAGGTAGATGAAGATGTTAAGCATGGTCCCCTTGCGAGGGCTCTGCTTCCAAAAATGGAGGGCTTATTCTTGAAAGTGGAGAATGAAGAACCAGGCAAAGGGTCCGGCCCTGGCTTTCCCACACCCATCCCCTCACAATGGGGAGCCATGGGCTTGTGAGAGACCTGCTTGCCTGAAGGAAGGGGCAAAAGAGAACTGTTGATTACATCGTTACTGATGTACTGGGTTCATCTGTGCTCAGCGCTGGGCCGATTGAGATGAACACACAGTGCCTGGCCTCCAGCAGCTTTCAGTTGTGTGTGTACATGTGTGTGTGTGCGTGAGTGTGTGAGTGTTGGGGTAGGGGTTGGGGATTGGAGACAGAGAAGTGAAAAAACACCATGGTGTATATAGCAATGCAATTAGGTAATAGGGTATTTGAGCCTTACACAATTTATAAAATCCTTACTATTTTTAGCTCAAATCACACTAATTTTACTTTTTTAACCAAATCCCAAACCCAGTTAACCCTCAAAGTGTTAAACCTGAGCAGTTTGTTTTTCGTTTTTGTTTTTGAGACAGGGTCTCACTCTGTCACCTGGCTGGAGTGCAGTGGCGTGATCTTGGCTCACTGCAGCCTTGGCCTCCTGGGTTCAAGTGATTCTCCCACCTCAGCCTCCTGAGTTGCTGGGACTACAGGCATGTACCACCACACCTGGCTATTTTTTGGTAGAGACGGGGTTTTACCATACCATGTTGGCCAGGCTGGTCTTGAACTCCTGACCTCAAGTGATCTGCCCACCTCAGCCTCCCAAAGTGCTGGGATTACAGGCATGAGCCACTGCGCCTGGCCCTGAGCAGTTTTTTTTTTTTTTTGGTTGAGACAGAGTCTAGCTCTTTTGCCGAGGCTGGAGTTCAGTGGCGCTATCTCGGCTCACTGCAGCCTCTGCCTCCCAGGTTCTAGCGATTCTCCTGCCTCAGCCTCCCAAGTAGCTGGGACTACAGGCGCTTGCCACCACGCCCGGCTAATTTTTTGTGTTTTTAGTAGAGATGGGGTTTCGCTGTGTTAGCCAGGGTGGTCTCCATCTCCTGACCTCGGGATCCGCCTGCCTTGGCCTCCCAAAGTGCTGGGATAACAGGTGTGAGCCACCACGCTCAGCCTGAGCAGTTTTTTTAGTGAAGCCCCAGCTTCCCCACCTGTAAAATGGGTATAACACTATCCATGTCATAGGTTGCCGCAGGAATTCGATGTCATCAGCCATACTGGGCACAGGGCATACTGTCTACATCATAGGGATGTTGGTCTTCCTTCCCTTAGTGACCCACTGACCTTCACCTATGGAACACCAAACTGTCCCAGGGCCCTAATTGTATAAAATGGTCAGCTCCCTGTGCTGGAGAACGGCTGACATTCCTGTGGATGACGGGGATTTGGCTTGCCTTTGATTACTTTCTTTTTCTCGGGTGTGGGTTCCAAGTCTCCTCTTATTCAACCCAGAGGCTGGGGTTTGATGTTTCCTAGCCCCTGGGATGAGGGATGGCCACGCTAGACTCTGGCTTTCGCTGAGAAGATGGTGGAGGGAGCCGTCAGCAGTGTCTCTGTGCAAGCTGAGCCCTAATGCATAGTTGGAGCCCAGTGCGTGGGAAGCACATTCTTCTGACCACACAGCTTGCCAGACACACAGAGCGCGTGTCGGCAGGAGCACACCACCGGGAGAGTTTGGCCCGGGGCTTGGAAGTTCAATTTGAACAGGCCTCCAAAACTGGGAACAGGGCTGCAGCCCCAGACGAATCTCCAGGCAGCTTCTGTGAGCTCTCATGTTTCCTGCTTCCAACCTGGCCAGGGATTGCAAGCTTGCGTGGCTTTCTTGCTTTCCCGCTTCTGGGCTTAGGCTACCCGGGAGGCCCAGAAGTGTGTGAACACAAGGAATAGCTAGGGGTCGGGGTGGAATCAAATAATTCCTTATTTATATTTCAGGGATCACGTAGCTTGCCCCTTTTTTAATTGTCCATTTCGTGGAGTGCCTAAGATCGCCCCCATTTCAGCCTTGTTGAATGGACTGATAAGACTTTCTGCTTCGTATGATAGTTAACCTTTGCCAATAACCAGTGTAAAAGGCTTCGGTGGTGATATTTGCTTCTTTGTGTCTTATCTCTTCCCAAAATAGAAGGTGATGATTGGAGACCCTAATTACCTTGTATCTTGTGGAAATCTTGCTATATGAAAGTGTAACAAAAATGCAGCAGCTCACAGTAGCGTATCATTTGTAGAAAGGAAAAATCATAGGCCGGGCGTGGTGGCTCACGCCTATAATCCCAGTACTTTGGGAGGCCGAGGCGGGTGGATCACTTGAGGTCAGGAGTTTGAGACCAGCCTGACCAACATGGTGAAACCCTATCTCTACCAAAAATACAAAATTAGCCTGATGTGGTGGTGGGCACCTGCAATCCCAGCTACTTGGGAGGCTGAGGGCAGGAGAATCACTTGAACCTGGGAGGCAGAGGTTGCATTGAGCCAAGATCGTGCCACTGCACTCTAGCCTGGGAAACAAGAGTGAAACTCCGTCTCAAAAAAAAAAAAAAAAAAAAAAAAAAGAAGGAAAAGTCGTAATAGCTAGATCTTTCTGAGACCCAAGAGTTAGTGTCAAGACAATAAATTAGCTGTTCTGCAGCAAGTATTTAATATTTCAGTGTTTAGAATCAGTGTATGTGGCACATTCAGGCTGAGGCCAGGTGTTAGGAGAAACTGGACTGAGAACGTGGATAGACGGGCATTGGCCATGGTAGAGACCAAGAAAGGACATGACTAGTCATTTCAGGAACCTTAGTCATGGGACATGGAGGAGGTACAACAGGGCTAAGTTTGGAAGCGTAGAGACCCGCTAGACGGGCAGTGTGGAAGTCTCAGGGGGAGGGGCAGACAGTGAAGATGGCCTGGACTAAGGCATTAGCAGTGGGAAAGGCATGGTGTGGACACATGGGAAGGCATTTTGGAGTTGAAATCAACAGGACTTGGGAGGAATGTGTAAAGAATACCGGTGTATAGCTCTCCGATTAAGAGAGACAAAGCATTGGAGGAGTTGAAACCTTGAATTTGAGACGTCAAGGGAATGTCAGTGGGGAAGTGTCCCATAGACAGTTGAAAATGAGAACATGGGTCTCAGGAGGGAGGTCATGATGGAGATACGAACTTGCGCATATTTTGTATGTGTTTAGAATTAATGCCTTGAGGATATATGGAAATACATAAACTTAATGGAACAATTCCTCTATTTGAAGGGACAGAAAAAGAGAAGAGCCAGCCAGAGATTCTAAGAGGGCAGGGAGAGACAGAGAGGCAGCTGAGGGAAGGGGACGGGATAAAACTAAACAGAGGGGCTGGGTGTGGTGGCTTACACCTGTAATCCTAGCACTTTGGGAGGCCGAGGCGGATGGCTCACCTGAGGTCAGGAGTTCGAGACCAGCCTGACCGACATGGTGAAACCCCGTCTCTACTAAAAATACAAAATATTAGCCGGGTGTGGTGGCAGGCACCTGTAGTCTCAGCTACTCGGGAGGCTGAGGCAGGAGAATCGCTTGAACCCAGGAGGCGGAGGTTGCGGTGAGCCAAGATCGCACCATTGCACTCCAGCCTGGGCGACAAGGACAAGACTCCATGTTAAAACAAAAAAAACAAAAACAAGAAAACCTAAACAGAGGGACCATTTTAAAAAACAAGCAAGAAATCAATAGCATCTGAAGCCACAGAGGAGGAACAACTGAGGAGTTGGAGGACGTCATTTGCGTCTAACAATTCAGAGGTTCTTCATAAGCTTCAGGAGAGGCAAGAGTGGAACACAGATTAGAATGTTTGAGAAGTGACCAGGAATGAAGAAGACACAATGTTGGATTTTAACCAACGCTTCTGAAAATTCAGGTTTAAAGGGCAGGAGAGCAAGTGTTGAGAGAAAAGATTTTAGGATGATCAGATACAGATCTATAAGCAGCTGAAAGAAAGACACTGGTGTGGCTGGACAACTGGAGGTAGAAGAGAATATGGTTATTTAGTCTACCTTCGCTCTTCAAAATGATCATTCTATTTATTTATAATTCCAAAACAAATACATGTCGTGATCCAGGCTCTCCGATGATCCCAGTTGACCTGTCTTCTTAATCTTAGAGCCACACTGCGTTTTCTTTTCTTTTCTTTCTTTTTTTTTTTTTTTTTTTGAGACAGAGTCTCACTCTGTCACCCAGGCTGGAGTGCAATGGCGTGATCTCAGCTCACTGCAACCTCTGTCTCCCAGGTTCAAGTGATTCTTGTGCCTCAGCCTCCTGAGTAGCTGGGACTACAGGTGCACACCACCACGCTCGGCTAATTTTTGTAGTTTTAGCAGAGATGGGATTTTGCCGTGTTGGCCAGGCTGGTCTCGAACTACTGACCTCAAGTGATCCGCCCACCTTGACCTCCCAAAGTGCTGGTATTACAGGCATGAGCCACCGCACCCGGCCACACTGTATTTCTTATAGTATACCGCAACTGGTTTTTAACATCAGCTATATTTTCTATCTGCATTTTAAGAAATGAACATATTTCCTTTTTGTTCTGGCGGTGTTTTGAAATTAGTTATTTCTCTTGCTTCTTTCTTGATTTCAGTGTATTCATCGAGATTTAGCAGCCAGAAATGTTTTGGTAACAGAAAACAATGTGATGAAAATAGCAGACTTTGGACTCGCCAGAGATATCAACAATATAGACTATTACAAAAAGACCACCAATGTAAGTCGATGGCAGTAACACAGTGGGCAGGGGCGGGGGTGAGGCTCAGAATGTTCCAGGAAGAAAGGCCGTCAATGTTGAGAGCTGGGTGGGATGGCTGGGGACCCATTCCCCTGCCCCGATTCCCGTTCTTTTGACTTACTATTCACAAACTCTCAATATGCAAATTTAGCCTCTATTATGTCAATTTTAGTAAATGTGAAACACTTATATACAGAATAATCAGCAACCGCTAGGATTTTCTTATGGTTCTCATCAAGAACTTTCATAGCAAAAACTACAGCTTGGAAGTTACTGGTTTAATTTTTGCCTAATAACTGGTCAAGGAGCATCTGTGTGCTAGGGAGATAAAGGATAGAATCCAAGGAGATGGCATTTTATTAACGGCCCAGACCTGTGCATCTCACACATTGTTCATGGTCCTCATTGGGACTGATTTCTGCTCTATTGACTGACTAGTAAAAACCGAGAATATCAGCTCTTAAACAGGGCATAGCCCTATTGAGCCTGCTAAGATAAATTCTTTTAAATATATTTAGTTTTTGCATTTTCCTCTACATTTGCAGGGGCGGCTTCCAGTCAAGTGGATGGCTCCAGAAGCCCTGTTTGATAGAGTATACACTCATCAGAGTGATGTGTGAGTAACTCTCTTTTCTCTGGCTTTTTCCTGGGCTTGAGCTGCAAAAATACTGTACGTACTTCACCTTTCTTCCTTCTTTAGTGGCTGCTGCATTTCACACATTCGTAGAAGGTGCAGGAGCTGGCCTTAGAAAGGACAGATTTTATGGTAGGCTGATAACCAATGCTCTGTTACTAATCTGCCTGGCTTCAAAGAGCACAGAAGGTGGAACTGCTGACCTCCCCCTGCCAGAGCGGAAGTCCTTCCCTTGAACATATTCATGGATGTGCAACTACAAAGCGGTTATCTAATTCGCCAAGCTCTTGGCATGTTCTTCACTCCATTAAAGGAGTAATCCTGGAGCTTTTCCCACTTACGAGTAGTTTGTCATATTTCCCTCTAACCCAGATTTGTCCTTAAAGAGTGGAGCTGAGTGAGATGTGGTCCAGGCTGGGGACCTCCACAGGGTCTACTCTCTATGTTTATCCCTCAACAAAAAGGTCTGATCTTGCTTTGGCATCCTTGATAGCATTCTAGAAACACAGTAGAATATTTCTATTATGATATACTGACAAAACCAGTGGGGTCAGGCTCCAACTGATATTTTAGATTTGAAAATTCAGTTGAAGGCTGTGTGCAGTGACTCATACCTGTAATCAATCCCAGCACTTTGGGAGGGCAAGGCGGGTGGATCACGAGGTCAGGAGATCAAGGCCATCCTGGCCAACATGGTGAAACCCCGTCTCTACTAAAACTACAAAAATTAGCTGGGCGTAGTTATGCGTGTCTGTAATCTCCACTACTTGGGAGGCTGAGGCAGGAGAATCGCTTGAACCTGGGAGTCAGAGGTTGCAGTGAGCTGAGATTGTGCCACTGCACTCCAGCCTGGCAACAGAGCGAGACTCTGTCTGGGGAAAAAAAAATCACTTGAACTATTTTTTATTTGTATGAGCAGGAGGAGTTCTGGGTAGGCATTAATTCTGTGCTACCATAGTTGGTCCTCTCAACAATCCTAAAAAAAAGACATGACTATCCCATTTTTGCTGTGAGCAACTGAGGCACAGAGGCTGTTCTGCCTGTCCTGTGCTGCTGCTTTTGCTCTGTAGAAAACTGCGGAGTGAAACACCACCATCGAGTACAGAAGGTTGAGTTTCCAGAACGACCATGATGTAGCTAAACCTGGCTCTCTCAGCTTGCTCCTCCCAGAGATTGAGCCTCCTGAACTTGGCACAGGAAGTCCAAATCTCTGAAGAGTCAAGTGTAAATAAATTATGGCCTGTGAGATGTGTTCAGTTTTGTTGTGTGCAACTCATCTGGGGCATGTGATTCCTCATCCTAACCCCAGCCCAGTGCTGATTGCCTTTGCGATCTTAGTAAGTTCCAGAGCCTCTGTGCAGCAGATGTTCCGCCAGCCACACAGGGCAGCTGTGATCCTGCGGAGTTGGCTTGCTGGCCTTATTCTGTCAACTGCCCATCCTGGTAGATCACAACCCTTGGGTCAGGCACATAAGGAGTTGGAAAGGAGCGTAAAGGCTTTGAAACTGAGAAACTGAGATCCTTGCATTGCTAACACCACATTTAAGACAAGCAGCTCTATTCCAGAGTGATGGCAGTTTGCCTTTTTGTCTATTGATGGAAAATTCCATCAGCACATCCCCGTGTCATCATCATTCGGGGATGCTCTTGCAGGGCAGGAAAGAGCACATAGGAGGAACTGCAGGAGGGCCCATTTGTCTTTGAACTTCAGAAGTGAGGAGGTGTTTATGTCTCAGCTGGGCGTGTTTAGGTTTTGGCAACGTGGATGGGTTAGTAATGCCGTGCTTTCTCCTTTTGTTGCAGCTGGTCCTTCGGGGTGTTAATGTGGGAGATCTTCACTTTAGGGGGCTCGCCCTACCCAGGGATTCCCGTGGAGGAACTTTTTAAGCTGCTGAAGGAAGGACACAGAATGGATAAGCCAGCCAACTGCACCAACGAACTGTAAGGGCTGTTGTCTTTCCTGCCGGTGCCCCAGTGGACTTGCCACACCAGTAATACCTCTCCTGATGTATCTCGTTTTTGAAGGCCCCTGGTTTCCTAAACATGCTCTAAGAAGAATGGCTGAAGCTCTCTGGGCTCAATCCAGAGCTGGGATACATAGCGACACCGACAACCATTACTTGTCTGAGAGAAAGAACATTATTCTGAGTATGGAGAGGGCTTTGGATCAGAGGGTGTCTGGCTGCCTGGCTGAGGGCTCCTGACTTTGCAGAGCCAGCAGGAGTGGTCTTCCTGGGCCACTGTGCTGCACCTTCTGCGGTCTCCCGTGGAGTGACAGGAAGACCCACGGGTCAGGAAACAAGCTAGAAAGCCGCGGGGCCGCCCTGCAGGGTGTAGGATTAAGGAACCAACACAGCCTTTCCCTGGTGGTTGTGCCTGGCCCCCGCCTGGCCCCATCGTGGCCAGTAGAGAATCGGTGTTTCCAGAACTTCTCGAACCATTGAAAATTGCCATTACAGATTGACGCCAACCACATTTCCTCAGAGCGAAGGAACTCGTGTTTGGTTACCTAGGTCTCACTTGTGTTTTAGTGCAGAGAATTAAACATGTGTCCAGGCGCCCTCCTTACTGTACCAGATCTGCCTGTAAAACCATGAACTGGTTTGTAGCAAAACCTGCCTCACACTTTAAGTGGAGTTATGTTGTGTTTGTGACGTGTGCCTGGTGCAATAGAATCAGTGCTTTGAAAGGAGTCTCTCTGCCTCCTGCCTCAACCCCTCCAGGATTAACTAAGAAGAGTGATTGTCCCAGAAACTGCGGTCTATTGTGTATCATTTCATGGGGATTTTATATCAGTAATCCCGTGAGTGCTTTTCGGTGTACCGTGGATGTCTGATGAATGGCCACATTTTATAGCATATTATATAAAGGCATTTATTGTGCTCTTTGTCATTCCTATTGTTTTTTTTCTTTTGTAACGTAGAGGATCTGTCGAAACCCAAAATCAAGATAAGACCTGGGAAGCTAAGCCTATCTAAGAGTTAATCAGGAAGTTAGTGTGCAGCCCAGTGGTGGCAGATTAATTCATCAAAAACTTGAAGTTGTAGTTTTCAAATTTTATTTAATTTTTTTTTAACTCAGGAAGCTGTGTCAACTAGAATCATTAAGACCCAAAGCACCGGGCAGATAAATAGTGGAGCTGCTTTGGTGCTGGGCAGGGTGTCAGGGGAGGGAAGACTGGAGACCAGCCCATGGAAATACGCATTTTCCTTCAGCCTCCAAAGCATCTTTAGGGTGTGACGCCATTGTGAGATGTCACTGTGGCCCAGGGTTACCAGGGAAAACACATAGCTGTGTCTTTCTTGATGGCTTCGATGCCTTTCTAACATGTTTTTGTAAGTCAAAGTGCCTTTCGGAGGAACTGGCAGGGAAGCTTTTGGGAAAGTGATTCATGACCCCCTAATCTAGTTGCTTGGAAGGTTCTGATGCATTTTCCTAATTTACACCACGTCCCCATATTGCCTATTAAAACTGACTATAACCACGTACCCAGTGCATATGAAATTAATTCAAGGAAATCCATTTTTCCCAGGTACATGATGATGAGGGACTGTTGGCATGCAGTGCCCTCCCAGAGACCAACGTTCAAGCAGTTGGTAGAAGACTTGGATCGAATTCTCACTCTCACAACCAATGAGGTAAGAACTTCCTTCTAGAAGCCCCTTGTCCTTGGTTGTCTTGTGAGACATGCGTAGTGTTTTACACACACACTCCCCTGTTGGCTGTTGGTTGGAGTCTGTGGTCTTGTTTATTCTTTTTCCATAGGGTCAGATAGTTCAACTATGGGTTCCTCTCAAATCATGATTTTTCTCAGAACTTCATTTTGTGAGTTCTGACTCATGAAACCAAAGACAGAGGGACATCCCCGAGGCTGCCTTCAGTGTAGCTGCTGGTGGAGCAGTCCGGGGTATGTGGGAGAGTGGGAAAGGGGAAGCAGTATTCACTTGCATTTTGGTGTGCATGGGAAAAAGCTTGGATTCCTGTGCAAGTTTGATTCTGTGCTTTGGTCATTAGTGGGTAAACTGATAATGTTCGTCATCATTTGCTTGATGGAATACAATGAAGTTTTCTAACACCAGCTTCTGTTACCACAGTACTATCCTATGTGATCCTGTTGGTAATGCTATATGCCTTGCAGCCTCTTTCTAGGTGTATATAAACATACACTGTTTTCTACAATGAGCAACTTACATGATTTTTACATAAAAACATGTACCTTTTGTTAAAATATTTATTTTCCCTAAAATATTTATGCTCTCGCCTGTAATCCCAGCATTTTGGGAAGCCGAGGAGGGCAGATCACCTGAGGCCAGGAGTTCGAGAGCAGCCTGGCCAACATGGCGAAACCCTGTCTCTACTAAAAATACAAAAATTAGTTGGATGTGGTGGTATGTGCCTGTAATCCCAGCTACTTAGGAGGCGAGGTAGGGGAATCGCTTGAACCCAGGAGGTGAAGTTTGCAGTGACTGAGATTGCGCCACTGCACTCCAGTCTGGGAGACAGAGCAAGACTTCATCTCAAAAAGAAAATAATAATAATTTATGATCCTTGCCAACAAAATAAACACTCGTCTGTCACTCACTGTGCAAATTTAGCCATGTCAGTGGCTCCTTCAATATGCAGATAGAGTGCCTTTTATAATTATGGAAAGCATATGCTCTGAGCAGGAAAGATGATAAACCCATCAAGTCTAGTCAAATCTTAAGATAGAGAAATTGTTAATGAATGTATTTTGAGATATTTAATGAGGATGCACAATAGTGTTCTTTTACACAGGAAACTAACTCCAAACCATGCAATTGTCTCAACAAGAAAAAAGTTAAAGTCCCCCAAGTATTTTAGAAGGAAAATAATACACTTAATTTCTGATTTAGGAAATAGTTTTAGAGTGATTTTTTAAAAAGTAATAATCAAATGTAGTGATATGAAGTCTTAGCTCAGCAGCTTTATCTTATGCGTCTGACTGTGGCCTGTGCTGGATAAAGGAAGAGATTGCACTTAAATGAATACAGCTGACCTTCAGAAGTTGAAAGGAAAGGAACGGTTCAAGGGGGGGAAGAAACCAACTTTCTTCTTCTGCCAAAATTGTTGTTTCTAGTATAAGTTCCTTTAACTGTAGACTTGGAATCTACTGATATCCCTGTTTTTTTCCTATCAGATCTGAAAGTTTATGGCTTCATTGAGAAACTGGGAAAAGTTGGTCAGGCGCAGTGGCTCATGCCTGTAATCCCAGCACTTTGGGAGGCCGAGGCAGGCGGATCATGAGGTCAGGAGTTCCAGACCAGCCTGGCCAACATGGTGAAACCCTGTCTCTACTAAAGATACAAAAAATTAGCCGGGCGTGTTGGTGTGCACCTGTAATCCCAGCTACTCCGGGAGGCTGAGGCAGGAGAGTCACTTGAACCGGGGAGGCGGAGGTTGCAGTGAGCCGAGATCATGCCATTGCATTCCAGCCTTGGCGACAGAGCGAGACTCCGTCTCAAAAAAAAAAAAAATAAAAATAAAAAAGAAAGAAACCGGGAAAAGCACTAAAGTTCTATTTTAATGATCTCATGTCTATGCTCAAAGTGATTTATTTATATATTTACATGTAGAGTGGGTCCGTTGATACTGAAATTTGTATCTAGTACCCTAAAATAAAAAAGCAGAATGCCATATTGTCTGGTGGATATAAAAATCGAAGTTTCTTTCCTTCTGAAAATCATTACCATATGCTCAAGAAAAACGGTTCCATTTAGGACAAAATTTCGTTTTTATCATTGTAAGCAAAAAGTTCTCTTTTGATGTGGTGGGCGTGTTTGTTTCCAGTTGTGTGGTTAATGCTGATGTTGTTGGAACTGATACATTCCCCTTCTGGGATGCTGGGATGGGGACTCTTTCTCTTGCCAACCCTGGTGATGAATTAGAGGGTTTTGTGTGTGTGTGTGTGTGTGTGTGTGTGTGTGTCTTTAAAAATGTCTAGTTGCCAACATTCCATGGGCTCTTTTCTGATAACACTGAGGCTGTTTGTGCTGTGGTCTGCACTTTTTGCCCCCTCTCAGCAAAACCACATGTCATAGAATAGTTGTTGGCTTCTGGATGTGTGAGCAGAACTGCCCCACTGTGCCAGCCCAGTGGAGGCAGAGAGACCCACAAGTTCCCAATTTAGAAAGCTTTTCATAGCTTCAGAACAGGGGTCGGCAACTGCTTTCTGTAAAGGGCCAGGGAGTAAATATTTTCAGCTTTGCCGGCCCTGTGGTCTCTGTTGCAACTTCGCCACTGTAGCCTCAAAGTAGCCACAGACAATATGTAAATAGATGTGTTCTAGTCTGTCTTCTAGTAAAATTTTATGGATCCTGAAATTGGAATTTTATATAATTGTATATAAATTTTATTCATTTTAATCCTATAAGATATTCTTCTTCTTTTGATTTTTTTTTTCAACCGCTTACCAATGTTAAAGACCATCTTTAGCCCTCAGGCCATACAAAGTCGTCTGTGGGCACCCAAGTCGGAGGAAGTGTCACCCTGGGGTGATCCAGAGGGCTTTTTGCAGCACCAGCACTGGATGCCTTGGGGAGCAAAGGACACTTTCTGAATCTCGAACCTTCAAAACTTTGAAACTTAACCGATATTTTCCTGAAGTTTCCTTTAACAGTGCATTATGGATTTAACATACATGAGTATGTCTAAGCCTTTTTTGAACCTGTTTACATTTTCAACTCGGAGAGCTTCTGAGAGTAATCAGTTACATCTGTTAAATTACCCACTGAATGAAGAAGTATTCCCCTTCAATTATCCCCGAAACTACAATAGTAAAATGTAATTCAGAAAATAAATATTCATAGTCTCAACTACTTAAAGGGGGTCTGGGGACCCACAACATGTTACCGGTTTTCATTTTGCTGGGGCTCGCATTTGAAGCAAGGGCTCTAGTGAGGAGGTGGTGTAGACTCAGCGGGTTATTTAGGTCCGTGTGAAGCCGAGTTGCCTGCCCAGCACCTATAGCTCAACTAGGTTTTATTGTTCTCTACCTGTCAATAGTTGATTTATGATGGATTCCAAGAGAAAAGCTAAGGACAGCCTGGGGTACATCAGACGTGGTCTCAGGGAGGTCTTCGTGGAAGTCAGGTGGGCTGGGTCTCTGTTCACCTTCTAGGGGTCTCCTGTCCTGTCCCACGTCCAATACCCACATCTCAAGAGTTTGTGTTTGAAATAAAACTCTTCTCTTCCCTTCTTTCAGGAATACTTGGACCTCAGTCAGCCTCTCGAACCGTATTCACCTTGTTATCCTGACCCAAGATGAAATAAAACGTCTCTCTTCCCTTCTTTCAGGAATACTTGGACCTCAGCCAACCTCTCGAACAGTATTCACCTAGTTACCCTGACACAAGAAGTTCTTGTTCTTCAGGAGATGATTCTGTTTTTTCTCCAGACCCCATGCCTTACGAACCATGCCTTCCTCAGTATCCACACATAAACGGCAGTGTTAAAACATGAATGACTGTGTCTGCCTGTCCCCAAACAGGACAGCACTGGGAACCTAGCTACACTGAGCAGGGAGACCATGCCTCCCAGAGCTTGTTGTCTCCACTTGTATATATGGATCAGAGGAGTAAATAATTGGAAAAGTAATCAGCATATGTGTAAAGATTTATACAGTTGAAAACTTGTAATCTTCCCCAGGAGGAGAAGAAGGTTTCTGGAGCAGTGGACTGCCACAAGCCACCATGTAACCCCTCTCACCTGCCGTGCGTACTGGCTGTGGACCAGTAGGACTCAAGGTGGACGTGCGTTCTGCCTTCCTTGTTAATTTTGTAATAATTGGAGAAGATTTATGTCAGCACACACTTACAGAGCACAAATGCAGTATATAGGTGCTGGATGTATGTAAATATATTCAAATTATGTATAAATATATATTATATATTTACAAGGAGTTATTTTTTGTATTGATTTTAAATGGATGTCCCAATGCACCTAGAAAATTGGTCTCTCTTTTTTTAATAGCTATTTGCTAAATGCTGTTCTTACACATAATTTCTTAATTTTCACCGAGCAGAGGTGGAAAAATACTTTTGCTTTCAGGGAAAATGGTATAACGTTAATTTATTAATAAATTGGTAATATACAAAACAATTAATCATTTATAGTTTTTTTTGTAATTTAAGTGGCATTTCTATGCAGGCAGCACAGCAGACTAGTTAATCTATTGCTTGGACTTAACTAGTTATCAGATCCTTTGAAAAGAGAATATTTACAATATATGACTAATTTGGGGAAAATGAAGTTTTGATTTATTTGTGTTTAAATGCTGCTGTCAGACGATTGTTCTTAGACCTCCTAAATGCCCCATATTAAAAGAACTCATTCATAGGAAGGTGTTTCATTTTGGTGTGCAACCCTGTCATTACGTCAACGCAACGTCTAACTGGACTTCCCAAGATAAATGGTACCAGCGTCCTCTTAAAAGATGCCTTAATCCATTCCTTGAGGACAGACCTTAGTTGAAATGATAGCAGAATGTGCTTCTCTCTGGCAGCTGGCCTTCTGCTTCTGAGTTGCACATTAATCAGATTAGCCTGTATTCTCTTCAGTGAATTTTGATAATGGCTTCCAGACTCTTTGGCGTTGGAGACGCCTGTTAGGATCTTCAAGTCCCATCATAGAAAATTGAAACACAGAGTTGTTCTGCTGATAGTTTTGGGGATACGTCCATCTTTTTAAGGGATTGCTTTCATCTAATTCTGGCAGGACCTCACCAAAAGATCCAGCCTCATACCTACATCAGACAAAATATCGCCGTTGTTCCTTCTGTACTAAAGTATTGTGTTTTGCTTTGGAAACACCCACTCACTTTGCAATAGCCGTGCAAGATGAATGCAGATTACACTGATCTTATGTGTTACAAAATTGGAGAAAGTATTTAATAAAACCTGTTAATTTTTATACTGACAATAAAAATGTTTCTACAGATATTAATGTTAACAAGACAAAATAAATGTCACGCAACTTATTTTTTTAAT\n"
          ]
        }
      ]
    },
    {
      "cell_type": "markdown",
      "source": [
        "Теперь нужен комплементарный участок отрицательной ветви. Заменяем все основания в соответствии с правилами Уотсона-Крика: A -> T, T -> A, G -> C, C -> G."
      ],
      "metadata": {
        "id": "XbrKyTis3EFH"
      }
    },
    {
      "cell_type": "code",
      "source": [
        "minus_strand_seq = plus_strand_seq.complement()\n",
        "print(minus_strand_seq)"
      ],
      "metadata": {
        "colab": {
          "base_uri": "https://localhost:8080/"
        },
        "id": "HyG_nHiX3Ezb",
        "outputId": "c5dd1d13-a48b-4fbc-9f9c-99d60eeb8642"
      },
      "execution_count": 18,
      "outputs": [
        {
          "output_type": "stream",
          "name": "stdout",
          "text": [
            "CCGCCGCCGACCTCCTCTCGCGCCACCTCTCGGCTCGCCCGCCCGCCGCCCACGCCTCGCCCGCTCCCTCGCGCGCGCCGGCGGTGTTTCGAGCCCGCGGCGCCCCGACGTACGCCGCATGGACCGGGCCGCGCCGCTGACGAGAGGCCCGACCGCCCCCGGCCGGCGCTCGGGGCCCCCGGGGCTCCGGCGTCGAACGGACGCGCGAGACTCGGAAGCGTTGAGCGCTCGTTTCAAACCACCTCCGTTGCGGTTCGGACTCAGGAAAGAAGGAGAGCAAGGGGTTTAGGCTCCCGTCGGGCGCCCGCAGTACGGGCGCGAGGAGGCGTCGGACCCCATGCGCACTTCGGGCCCTCCGAACCGCGGCCGCTTCTGGGTTCCTGGTGAGAAGACGCAAACCTCAACGAGGGGCGTTGGGGCCCGAGCAGCGAAAGAGGTAGGGCTGGGTGCGCCCCGCGCCCCTGTTGTGTCCAGCGCCTCCTCGCAACGGTAAGTTCCATTAGCGGCGCGTTCTGCGGAGCCCCTCGAAGCGGTCGGCCCCTGCACCCGCGGTGCCCTCGGGCCCTGCGGCCCACGTGGCAGGAGGCCCGCCCCCCGCGCCTTCCTGATCGTAACACCTCCTGCGAGGCACAGGAGGGAGACACCGACGTATCCACTACCCCCTCCACCCACGCACGACTGCCGGCCGCAAGACCTTCAAGACGGAGACGATGGGGGTAGGTCTACGACTGTAGACGAAGACCGCAACTGCGGGGGGAGGGACAGTTTGGGACCGCCCGCGTAAGGGCGACTGACCCGCGCAAAGAGGCTGGGGTCTCGTCTGCCCGCCTTCCAAGCGGACGGGCACCGTGTCGGGGCGTCCGGCCAAGGGCCCCAGTAGAGGCTCCACGGGGTAGGCACACAGGACCCTTGAAGGCATGGTAGGTCCGGGACGCCTCTGGGGAAAAAGCCCTCCCCCGGCGACCCCACCCCGGCCACTGTAGGGCATCCCCACCGCTACCGGTCCCCACCGTGACGACCCCTCCGCTGCCGAGGCCACGGACCCGCGGGGAGCGGGCGTCGGCGGCAGCCGCGACCTCCCTCGCGTCACGCGGACCCCGATCCCCCGCTTGACCTGGCTGAAAAAGATCAAGCGGACGGACGAGACGGCGTCGCCGACCCTCTACAGCTTTCGCGTCCGCTCAAGATTGAACGCGCGAGTAAAAAAAGCCGGTGCCCCGGCGCGACCCCTTTTTTCGGCTCCCGGGACGCACCGCGACCGAGGCTGGGAGCGCCTGGTGCCTGGACCGCGTCCTCCGGGCGAGCCCCTGGTGGTCGGAGGCAGCGAGAGGAGCGTGGGGCGAGGGAACGTCTGGCAAGAGGTCTGGGAGGAAGGAAAGAGGGTTAAGTTATTTTGGATGGGAATTTCCGTTTGGACGAAAGTTTGAGTCCCGTGGGTAATACACAAACCACACTTTGCGATAGTTGTAAATTTTGAGGTAACAGAGGGACCAGGGTTTAGGGACATTTAGAAGGTGGCCCGAGCTGAGTAAAAGTAGACTTTTCGGACAAATCAAACTTATCTTTTCGTTAGTCCGCGGGGAGAGAGAAAGGGACCTTACAGTTAATTTTACGTCTAAAGAGACTCGAGAAATCGCGGGGCTCTTCCCCCTCTTTTTGTCCTATAAAGTCCGTTTGTTTACTTTCTTCACGACGGGACTTTCCCCCACCACCACCCCTCGTGGGGGTTCGACGAGCGTTCAAGACTAACCTGCGTTCGTAATTTGGCCCTCCCGAAACACCAGGACCCAGTCACACACAAAAAACTCTAAAGTTAAACAACTCCTTAAAGGGGGATCGGAACTGGGGAACTGTCGAGGGCGAGGATGAGTCACGACCCCTCTTCATCCCTCCGGAATTCGCTTCTCTACCCAGACGTGAAACCTCCTCGGCCTGTGACAACTGAAAGGACTACACTTTAGATGGGTCCTTGTTTTGTGGTCCACTAGGGTCACCGGCTCGGTCGTCACCTGTCTAGTGGGGAATCCACCTTCGGGTTTCGCCTCCCGTGACATAACCAGACGGAAGAACCTCCCGCCCCCAAAACCCTTACAGTACCATTTAACTTCTCGGGTCGTGTCCGGACCGTACCCCTGGCGAGGCGTCGGTTCGGGAAGGACGAACAGTGAGACGGACAGAAACCCCCGTCCGAACACGGCTCCACTTTTACCTGGCCCCCCGCCCGCCGGCTCTTCTCGGTAGGTAGTCTCCCTCCCACTGTTGAGGAGGGCGCACGTCCGACTCTTCTCTCAAGGGAAAGTTCCCCTTTTTATTTGTGCGACCCCGAAAGTGACCCCGAGTCTGAGGTCCTTCCTAATACCATAACTTCCGTCCTTCGGCCCTAACACCGGCGGTCGCCGTACGACCCGGACATAAGGGTTGTGGCTCGGACCCCTGGATTAATAGGACGGATCCTCCAGCGTGGTATGAAAACAGGTGACCACACTCCTTGACACGTCTGGACAGCGGAATCCAGAGGCGGAAGGTCTCAAAACCCCTCCCCCGACGGCACCCCAAACCTGGACCTTTACCGACTTTACGTTTAAAGATCACGGTCGATCGCCCTACTACCTTGCCGAACTCTAAGTCGCCTCGCGGGACAGGTGGAAAGAGACGGACCTCGGTTCCTCCGAGGAGACCCGTCCCTGTCCACCCGCTCGTCCGGCCCCTTCCTCGGACCCCACTTTGGAGACGCTCCTGAATCCTAACAAGGACTTCAGCACAATCTCCATCTTTTAAGGGGACGTAAGACGTTTACGAATCATTTAGTTACTCTTACAAACACATGAAAGGAGGGTGTACATACATCTTTATCTAGGCTTTAATAGAAGACTCCGAGAACTGATTCTCCTTTCTTTTCAATTCTCCTTTTTAGAAAGTTCGATAGACTTTCGTGTACGTGTGTGGCACGTGCGTGTGTGGTACATGTGTGTGTGTGGCACGTATGTGTGTGTGGTACGTGCGTGTGTGTGGCACATGTGTGTGTGTGTGACGTGTGTATGAAAAGAACGAAAACGACACTTAGTGTGGCAAAGTGGACACGATAGAAACTTCGTCTCCAAAAGAAATAAGGAGGAAACCTTTACTACACCGTATAAGAAAAGGGAGGAGGTAAAAACAGGAGTCAGTTTCGATTTTCCTCGTCAAAAATACTACTCTAAACCCCTCCGAGGTCGTCACAACTTTAGGATACTGTATTGAACTTTGTAGCTCACCCATGTATTTTTTACATCTCAAATCTCTAAAAACATAATTTCCGGAGGGACGGTGGGGGTCAGAATCTTTTACACCAAGTAAGGACACCAAGTGTCTTAGACTTCGGACTCTAACTACTCGGGGAAGAACACTAACAAAATTAGTAAGAGATTTCAAACACGTAAAATGACATGGGAATCAGTGTCTCTCATGACTCACTTAAATTTCAACGAACCTTATATAATTCGAAAGAACCTTTTAAGAGAAAGGGAACCTAGTTTACCCACTTGTCTTATAATTCAACTCACAGGAGAAGATTGAATATGAGACTTTTAAATCGGTCATCCAAACGTATACCTTTCAATAACCAGGTTAGTGTATGGTACTGATATTAAATGTATTAAATGTAGTAGTAATAATTATTTAAGGACGTAATAAGTAGTCTTAAACGTAGACGAGTCAAAGGAGTGGGAAGATGTCTCCAACTTCTGTAAATCGTCGGGACCTGACGGTAAATCAGTGTCCCCTTCCCTTAAGTCCGAAGCTTCAGGAAAAACCTAGTCGACGCAACTTACGCGACGTCAACACAAGTGAGAAGCATTCACCGACGAACCGCCTTCTGACTTTCTGTGAAGAGGTAAACTTTTACTTAGGACTGTTCACATTTGACCACCCTTAAAAGACATCGGAAGGACCCTAAGAAAACTAAAACGACCAGAGGAAAGAAGGGTTCTCGCTGTCACTCCCACCCTCTGACGAGTGGAGGTCGGGTCGTCTTTATGCCTCGACACTCGTCTGAGGAGGTTGTCAAATCGAAAGATTTCGGGTCAACCTGATTCTCTTCCCTTGCTCCAACCAATACGGTTGGGCTCGTAAAAATTGAACGAAAACATCAACGGGAACTTTGATTCCAGTGCAACGAAGACGAGTAACTCCCGCCACCTCCGCTATCACCTATCATCTTCTCTCGTGTGTAACGGAGTGACTTCACCGACGTGCATAGACTCAGGACATCGATGACAAAATAGAGACAAAGAATTTTCATACGAAAATTTTTCTAATCGGAGTGTGTAAAGACACCTGGCCAGACCACCATAGTGGACCCTGAGACTCCACTCCTACCTTCCTAAATCGTCTATTACTTTTTCTTGAGACAAACGCGTGTAAACTCTCCGACTTTTTACCAAAATAGGGTGAACCCGACCTCACTAAACCGTAACCCCTTCTAAGGGACTGAGCGGTTAGAGAAAGGAAATCACTGACGTCGTCGTCGCCGTCGCGGAGCCAAGGACTCGGGTGGCGTCCGACTTCCGTAACGCGCATCAGGTACGGGCATCTCCTTCACACGTCTACCCTAATTGCAGGTGTACCTCTATACCTTCTCCTGGCCCCTAACCATGGCATTGGTACCAGTCGACCCCAGCAAAGTAGACGGACCAGCACCAGTGGTACCGTTGGAACAGGGACCGGGCCGGGAGGAAGTCAAATCAACTCCTATGGTGTAATCTCGGTCTTCCATTCAGTAAATTAAAGTGAAAAGTCCAAACAAAACCCTAAACAGACCCCCGTCTAACAATTCCGGACAAAATCTTAGTCGATGGGAACGTAACATTTACCCCGAAGATTCTCGTGGTCTAGCACCAGAGAACCGAGGGCCGTTCCGTCTCGACTACTCTCTTCCAGGAAACGGCGTCGTGACGTCCGTCCTACCATATCAAACCACCAAAGAACGACACACACAAAGAGACACGACCCACTCCCTCTGTCGACCCTCAACCGGAAATAGGTCACGGGCTCTCTCGACACCTTCCCTACTTGGAACCCTCCTACTTACAGTAGAGATCAGAGGGGGTCGTAGTAAGGATGACGAATGTTACATTTCTTAACGATAAAAGCCTGTTCTACTTGGTGATTTTCTTTAACGGTTGTAGACTTTACGACTGTAGAATAAAAGTAACAAATTCCTCTTTTCTTCAAAGACTTCAAATCGTGTCTCTCTCTCCGAACTGTAGAGTCTTAAAAAAAAATCGGTAACATTAAGTATTATGAATTCGTTACGTAGTAGTGTCTCACCGTCTAAGATCAAATCCATTTGAACTTTCACTTACACGGTCCCCTAGAGGAGGTCGAGGCTCTTGGAGGTTCATAGTGTCCCGTACGCGGCCACAGTGTCGAAACCTTTAAATTAAAAGTTCCACATTCAGGTTAATGCTCCTGATGTACTCCGACTTAATAAGTCGAATCGTCTAAACCTTGGAGAGAGGGTCGGGAAACCTCTGTTGCACTCGGTTCGGAGATGAACCACGACGTGACTTTAGACAGTAGTCATCCCTTATAACCATCGACTCAATAAAAAGCTCACCATTAGGCTCTTATTTTGCCGTCTAGGGTCGTGAGTAGCGGTGAATTACTTGGACAAACACCTCTCAGGTGGACCACGGACGGACCGAAATCCTTGGGCGTCGTCAGGCTCACCACAGACCCCATTCGACTCGACGAGACCCTTGTGTAGAGCACGCACCCCACTTACTTGTCGTGTGAATGGGTCACCCCATCCGACCCTCTCCTGTCTCTCGGGTCGGAGGAATCGACCTAGTCCTGTCAAATCCTTCCTCCCAACGCAGGTAGACTCTACTCTCAAGACTCTCTGTACCCGAGGGGTCCTTCTGGGGTCCGTGAACAGTAACTTCCTACTCCTGGCTTCGTGAATAGTGGACTTCGTTAGCACACTCTGACCCCTTGAAAAGCAATGTGTCTCCCTACCGTCGAGATATTAATTGTCCACACCACTGTAGAGGGACGCAGAGACCCTTCCCTTAGACCATCCTCAAACACAGACTCCGAACATATCGATGTCGATGTCCGGCTAATACCTTGACGGAGAACCACTAAACACGACCCTGTGGTCCTACTCACATTAAACGTCACCACTACGTAAAAATGTCCCGAAAGTACATTCTCCCTTTTTCAAGGACCAAAGACTTTCAGTACGGACATGCAGAAATTAAAACGATTATTAATTTTACCTACAAAGGCACTAACGACCAAAAGGGAACTCACGCACCGAGCCGTTTTTGACTCCTTCGACTCGACCCTAAAGGATGCCACACCCGAAATCCTCGTTGGGTCCAATCCCTTTTTGACAGTAAAAAGTAAAACCGAAAAGTCCCGTCGCAATAACACTCAAATAAAGTTGTATTTCACATTTTACCAGGGTCTCCTAAACAAAATGACATAAATTAAGAACTTCCTTCAAATTTTAACACATATGTACGTCCCTCCCTGTCCACTCCGTCTCCCTTCTTTAGCACCTTTCCCTGCTTCAAGGGGCTCACTCAGAAACACATTCTTAAATGTAGGTTGTTACACCCATAACAACCTTCGTCCGGACGAGTTGGACCCTAGACACCTACGTGAATACCTAGTCCTTCCTCCAGCTACTTCAAGACCTTTAAAATCCATTATAAAACAATTACAGGAAAACACGTAAAAATACCCAAATATCAAAGGTACTCGATACTCAAGTAAACGTAGGTCTTAATACTCTACCTTTTCTTTTCTACAGAATCTCCTTCCACGTTTTGGACCGTTTCTTCTCCGAAACCTTTTCATATGTTCAGGGTCCGGAGTCAAAGGGAAAGACAGCAGACTCCCGAATTCTTCTACTAGAAATCCCAGAGAAGTAATTATCAGTAACTTATAATTACAGGAGTCTTCAGAAGACTGAGAAGGTGGTTTTCCAACAATCCTCTAAAGGTAAACTGGACCTGTATTTCTCGTTAATCGTGTCCCCGACCGTAGGTCATTCGTGGCCCACGTACCGGAACAGCGGCAACAGCGGTCCCTCGACCCTTGTACCCAGAAGGGTCAGGGCACCCGACCGACACGGTCCACGGTGTTACAGTTTTTTGTAGATCCGAAAACCTCTGTCAACTCTTCTTTCAACAAAAACCTACCTCCTCCGGGAACCACAAAGGTCCTTCGACACAAACGAAAGACATCCCAGGGGTGAAGGGGAGTAGACAATCAGATTATGACCGGTGACTAAACTCGGGATTCTGGTCAAGAAGACAACGTCCTCAAGCGAAACCACAGTCTCCACTAATCCTTCCAGTAACTTAATATCTACTCTTTCCTCAAAAATTGTCGACTTTTACCCGAGTCCAAATCCGAGACACGACCACTTAACCTTCTCTCTCTCTCTCTCTCTCTCACACGCACACACACACACACACGCGCTCACGCGCACGCACGCACGCACGGACACGGGGACAGGTAGTCAAGAGGTACTAATCTTGATGATATCGAAACCAATCGTCATTCAAGGTGGAACTGGAAGACACGTGGTTCCAGAATAGAACATTCTGAAAAACCAAACGATTAAATAAACCTTCGAGTCAAATCTATTACAGATAACCTATCCTCTTTTTACACTGACTCTTCAAGGTCCTTCTTCGGACCCGGGATTGTGATCTCCCAGGAAAAGAAAACCGGGGAGTCCCTTTCCAATACAAATCAGTAGAACCGAAACACGTTATAGCATAGTATAGTATACAGTATAGTATATAGTATATATAGTAAACAGAAGACCTGTGCAAGACTTTATCATCGTCACCCCAACCCGGGTGAGTTAACTGAATTCTTTTATTAGAGATCTTCTAAAATCAAAAATTATAAAGTCTAATTTATACTCAAAAGGTCAACCAGTAAGTAACAATTAAAGGAAAACCAGTAAGTAACAATATCCCGTGGTCGTCTCCTCACTTTTGTACCAATAACTGAGCTTCCCCCCGTCAGGAGTTACGGTTCATGATAAGACAACTAATTGTAATATTTATAAACTTCAGATCAGTTCGAACTAATGGGACTCTCCCCCGTTGAGAATGAAAGTTCAAGAAGGACTGTAACAGTGGATGAGACCAATTAATTCAGTAACAACTGTAATTACCGTAGAAACAAATGTGGTTGGGTCATCCTCGATTTTACTTTCCCGAAAAGTTGGGATGTGGGAATTAATGAAAGGGTGGGAGGTGTCTCACACTGAGACTTTTCATTGTTGGACTTTTTTTTACATCAAACACATCGTTAAAAAACAGTTAGAAGACTCTCCACTACGAGAGGACCTGGTTGCACTCAACCAGGTCTCAAGTCATCGTCTTTGCAGCTCCTGTCCTAGATGTGTCTCTGGAGGGATTCAGTCTAAAAAGGTCATACCAAATTCAGGAAACAATCTTCATAACATTTACGGTATTATAATTGGTATGCGTAAATTAACGTTCAATTTTCTTTCCTTCTTTCTTATATAGGCGTATGGTTCTCACTTACTAAATTTTATTAGAAGACAAAGCATAATAGACGTAGAAACAAAAAGTTATACTCACAATTATAAATTCTCAACTGACATTGAACTATCAATCGAAACCTTGTTCCTGAATAAGAACCAGTTAATTTGGTTTATGTCCGAATGCGTCAATTTATGTGTTACTTCATGTGTAAGAAATAATCATATATTTCACAAAGTGTTAAGTATCTGGTTCTCGGTACAAATTATAATGAATATCTCGTCTTTAGACCGTTCGGGTCTCTTGACCATGAACATAGTAAAATATGACCGAGAGAGACTAAGTTTAAACCCCATATACACACACAAAGACAAAACAGACAAATAAAGTTGGTCAATTTTCTGTCTCGTGAATGATACGGTTACCGGGGCGTAGTTCGGTATTCATTTCTGAAATAAGGAAAGTTCAGAAAGACTGGGTCAACTCCCACTCTTAAGTGTTTTGGTGTCGTTAGGTTATACTCTACAAAAATTATAGTCTGAATTGTTTATTAATGTACCGATACTTTATTGACCCCAGCACAAATTTGACCTTCACAAAACAAATTACAAGCATCAAAGTTATTTTACATAGGTGATCAGAAGGTCAAACGTCTGACAACAAATCCACAAACAAATCGGTCCCATTAACAATTTTTGAGGGAGATTAGATCGAATGGGAATGTAAAGGTACCTTCGCTTAAAATCAGTAATTTCCTTTTGTACCCTTTAACTAAAAACCCACGGACCGACAATTCGATCCATCCTTTATATCGACCACACGATGAGAGGTGACATGACCAGGCTAAGAGCGGTCCCCCTGTAGAGACATCCGTCAAGTCTTTAATAAAAAACCTTCAAAAAATCCGATAAGGTGTCTATTAAGACTAGGTCATCCAAAATACGTTGACACGTTTTACGAATACCAGAGATAAAAAAAAAGGAACTCTCTACTAAAATCGGAAACCAAAAAACAAACAAAAACAAAAAACTCTGTCTCAGAACTAGACGGTGGGTCCGACCTCATGTTACCACGTTAACATGGGAGTGACGTAACAGTTTGCACCGAGTGACATGGGAGCCTGAGGACCCGACTTCCCCAGGAGGTTGGAGGACTCATCGACCCTGATGTCCGGACCTATTAAAAATTTTTATAAAGCATCTATACCCCAAAGCGGTACAACGAGTCCGACCAGAGGTTGAGGACCGTCGGAACCGGAGGGTTTCACGACCCTAATGTTCACACTCGGTGGTGTGGACAGGATCGGAATTCAAAACGTAAAAAAAGGTAGAAAAACGACATAGGGTATACTAAATCTCTAAAAACGACATAGGGTACTCTAAATCTCTACCGAGATGAAAAAAATCGAAAGGATCGTAACTTTACGAACCACAACGATTAGTATGGGGTAGAAATGGTGTGGTAGAAGGAGGGACTGAACGGAAGAATCACATCAAACCAGTTCTTGAACTCCGGTTCAAGAAAAAAAAAAATTTAAATCGAAAATAAAATCCAAACCCCCATGTACACTTCCAAACAATACATCCATTTGAGCACAGTACCCCCAAGCAACATGTCTAACAAAGTAGTGGGTCCATAATTCGGGTCATGGGTTATCGATAAAAAAGACGAGGAGAGAGAGGAGGGTGGGTGGGAGGTGGGAGTTCATCTGGAGTCACAGACAACAAGAAAAGAAACACAAGTACTCAAAAGTAGTAAATCGAGGGTGAATATTTACTCTTATACGTCATAAACCAAAAGACATAAACCAAATAACGATTCCTATTACCGGAGATCGAGGTAGGTACAAGAACGTTTTCTGTACTAGAACGAGAAAAAATACCGACGTATCATAAGATACAACATATACATGATGTAAAAGAAATAGGTTAGACAATGACTACTCGTAAATCCATCTAAGGTACAGAAACGATAACACTTATCACGACGTTACTTGTAAACACACGTACACAGAAATACCATCTTACTAAATATAAGGAGACCCATATATGGGTCATTACCCTAACGACCCAGCTTACCATCAAGACGAAAATGGAGAAACTCATTAGCGGTGTGCCGAAAGGTGTTAATAACCCGATTAAACGTGAGGATGATTGTCATATATTCACAAAGGAAAAGAGACGTTAGAGTGGTCGTAGATAATAAAAAACTGCAAAATAATTATCGGTAAGACTGAACACACTCTACCATAGAGTAGCACCAAAACTAAACGTAAAGAGATCACTACTCGAAAAAAAAAGTATACGACCACCCTGCATATATACAGAAGAAAACTTTTCACAGATACAGGAAACAGATGAAAAATACACCAATAAACAAAAAGAGAACATTTAAATTCAAGGAATATCTACGACCTGTAATCTAGAAACAATCTACGTATCAAATGTTTATAAAATAGGGTAATGCATCCAACAGATAAATGAGACAACTATCAAAGAAAACGACACGTCTTCGAGAATTCAAATTAATCTAGGGTAAACAGTTAAAAACGAAAACAACGTTAACGAAAACTACAGAAACAGTACTTTAGAAACGGGTAAGGATACAGGTCCTACCATATAACGGATTCAACAGAAGGCCCCAAAATATCAAAACCTAAACTGTAAATTCAGAAAGAAGGTAGAACTCCACTAAAAAACATATACCATATTCCTTCCCCAGTCGAAGTTAGAAGACGTACACCGATCGGTCAATAGGGTCGTGGTAAATAACTTATCCCTCAGAAAAGGGGTAACGAACAAAAGTAGTCAAAACAGCTTCTAGTCTACCAGCATCCACACGCCATCCACACACCGGAATAAAGACCCGAGAGATAAGACAAGGTAACCAGATGCACGGACAAAAATATGGTCATGGTACGACAAAACCAATGGCATCGGGGTGTCATATCAAACTTCAGTCCATTACACTACGGGGGTCGAAACAATAAAAACGAATCCTAACGGAACCGATAAGTCTCCGATTCAAGAAAATTCCTCTCCAGACTAACTTGTTCTACGACCTGTCCAGTAACACCACTAGGAAGTGCAGAACTTCTACAGAGGAAGACATTATCTGTTTTCAGTGTGAAAAATGTTCAAAGAGAAAGGAGTGACACTAAACATACACCATCGACTGAAGATAAATATATTGAAGTTCGAGAATGGTAAATTTATAAATATGTGTTCATACTTAGTAACCCTGTTCGGTACCGGTAGGAACTTCTCACACACAGTTCATTTTATCCGCACGAAATCTAAAAGTCATTAAAACCAAAACCCTTTGGCCATGGTACCTTCTCGAAAGTCTACGACTTACACATTAAATGAGGTGAAACCTTATGACATTCATTAAGACGCGGTAACACCTGAAACCGGTGTAGTACGGTGAGAGTTTTTGAAGACTAAGAAAAACTGTCATGGTTCAGTCCCCCGATTCGACAACATATAAGAAAGGAAATTGGGGAACAGATTGATTTCTTACCATTTAAGGTTAAGTAAAGTCTTACCTTACGTGTGTATATCTCAAAGTCCAATACGACTTACACAAAATACTCCTCCGATTTTTATCGAATATTCCTTTTACGACTATCTAAGTTCTTGCTCTTGTTCCCTACATAAATAAACATACTAAATACATCGCGGAAAGAACCTCTCCTGAGTTAAGACTCGAGATTGCAATTATTTGAGATATAGTTAATAGCACTAATAAAAGCTTGGGAACTCGAGGATATAATGATATACACTGGGTAAACATATGGACTGTCAAATGACAATTTAAAAGGTATCACTGGTCAACATTATAAAATTTTCATAGGTCTGTAACTTTTCCGGTTGACACACATAGATACCACACACATACACGAGTCCCCCCACATGATATTTTACTTACAGTTCTAGTAACGTTACCAATTCAAATCCAAAATTTGAGAAACTTGTGGGAATTTCAAGTCTAAAAGTCAACTGTCACCCTAACGGGGGTTTCTACACACCGACGGAATTCCTCGGAAGAACAGGACGATTCGGAGGACCTAAAGGTGGTTACGTACAACGTAAAGATGGACCGACGTTATCTGCGTGTTGACTTATATATAGCACCTGTAAATATTTACAAAGTTTAAATTTTGGTGAGTTTAAAAATTTTCTTGTTCTTAGAAGACACGTAAATTAGATTTAAGACATAGTCGGTAAGAATTTTTATCTTAACTTATTTTAGTAAAACCTACCGTACACCATACGAAAGACCTCTGTATTTGATTGTCTCCCTTGAACTGGAACCCTCCATCCAAACTTAGAGAGATGATAGATGACTACGACACTAAAGTCTTTTCAATCTATTGGAGAGACTCGGAGTCTCTATCATAGATAGAACTTCCCACTTACACGTCTAATTTACGTTTACTTTACATTTCGGGGATGACTTAAAGGACCGGGTCTCATCCACAAGTAATTTACGACTAAAGAAGGGACAGGGTGAAGGACAGTTGTAAAGGACCTGGTTGTTCTACAAATGAGATGTTATAATGGTTATAAAGGACCTGGTTATTCTACAAATGAGATGTCACATATCACTATTAACAGACTACTCTTCGTAAATGTAATTAATTTTACATTTTGACCGAGATCCGGGACCTAAACAGGTTGGGAAAAATAATAGAACCCGAAAACGTTCAGGGTACCTAAAATCTTTACCCTAGTAGGACGACGAACGTCAGGTTTACCAAGTTCCAACTTTAAAAAAAAGGGGAGACAACTTTTTTCAGTCAACGTCGAGACATTATTATTGTCGTCTGTGTATGAAGTACTCCTTGTTACATAAAACCGTTTTCTCAAAAGACAAACTTCGAAGTTTTATGTTTTATGAGACGGTGTAACGGTAATCCGGGCCGCTTCTTGTAACCTCTCCCCAATACCTTAGCCAACCCCACCCCACGCCCTACCTCTCCCCAATACCCTAGCCAACCCCACCACGCCCTACCTCTCCCCAATACCCTAGCAAACCCCACCCCACGCCCTACCTCTCCCAATACCCTAGCCAACCCCACCCCACGCCCTACCTCTCCCCAATACCCTAGCCAACCCCACCACGCCCTACCTCTCCCAATACCCTAGCAAACCCCACCCCACGCCCTACCTCTCCCCAATACCCTAGTCAACCCCACCCCACACCCTACCTCTCCCCAATACCCTAACCAACCCCACCCCACGCCCTACCTCTCCCCAATACCCTAGCCAACCCCACCCCACACCCTACCTCTCCCCAATACCCTAGCCAACCCCACCCCACGCCCTACCTCTCCCCAATACCCTAGCCAACCCCACCACGCCCTACCTCTCCCCAATACCCTAGCAAACCCCACCCCACACCCTACCTCTCCCCAATACCCTAGAGAAGCCCACCCCACGCCCTACCTCTCCCCAATACCGTAGCCAACCCCACCCCACGCCCTACCTCTCCCCAATACCCTAGCCAACCCCACCCCACACCCTACCTCTCCCCAATACCCTATCCAACCCCACCCCACGCCCTACCTCTCCCCAATACCCTAACCAACCCCACCCCACGCCACACCACACAAGACGAAAACCGGTCCGACCTCTCCACTCGAGGTATTGTACCATACCAGTAGGAACGGTACAAACGGACATCACTGGAGGGGACTTGTGAGGATCTACTCTAAAAACAGACGTACCTTCCCTCGAGTTCCTTTAACACTACCCTGGGTGTCATGACTTCACCTGTCCTCGACTTGTTCGTAAACGTGTACTATGGGGATACCTCCAATGAACCATCCTGTCCGATACTTCATCCCCGTCATACCTACTCCAGTGCAAAGAAATCGGGTAAGGAACTCTACTACTACTACTACTACCACTACTACTATTGACCGATGGTAAATAACTCACGGACAGTACCAACCTGAGACACGATCCATGAAATTGTATATAATAGAGAGTAGAATTATTGGGTCTTGTAGAACCCAAAAGGACAAGAATAAAATACCTGTTCCATTGACTTTAAGAACCCCTAGTTCACTGAGGAGGTCCTGGAGTAGTAATCACTCACACCCGGGTCCAGAAACCCACTTACACAACCACATTCTTTTTAAAGGGAAGAAGGACTCGTCCTCCTAAAAAAAAAAAACGACCTCTTACACCACTGGGGAGTAAGAAAGGATTTAGACAGCAAACTGATAATTTGGACAATCCCTGTGACGACCAACTAAGACAAAGAAAGAGTGTGTAGGTATGGCTTAAGAGGATTTCTGTAAACTTCTTTTTAAGGTCTGTTATTTTTACAAATTACTAATATGAAACACTAAGAAGATCTTACCGAAGACCACCGTACACTGAATAACCTTTCTCCGATTGGGACTGACGACGGTTCCTCTGGTTACCCTCTGACCCAGGGTCAACCACCAGGTCCGACGCGGTGTGGCATCCTCAGGTATTGTTCTTCCCGACCGGAGACAACGGGCAACTACGTACTCGGTAGAGTCGTCTCGTCCGGCAGGGGTCAATAAGGAACAGGGTCTACGGAGACGACCAAACAGGATCACGGACGATTGGGAGTCGACAACGGTGAACCTATAATACAGTTCGAAAAGAAGGGTCTTAAAGACTAAATGCTGACCCATACTTCAGTTCCGGATGGACGTATCTGTCTGGGGACATGAACCCTGAGGGTGCTTGACACCAGTACCTTTGTTCGTGGTTCCTGATGGACTGGGAAGATTACAGTGAAAAGACGTCTCTAATCCTCCTCTCTGATTCTTTCGGTTTTTTCTTTTTTAAGGTTCTTACTTTTCCGGTTTTCGTCTTTGTGGATGAGAAGAAGGTCAGAACCGGTCTTTCCCACAGGAATCCCCTTTTTTTCTCCGGTCCCTTACCTCGGGTAAAAATTTCGTTCGTTTCTAGTCAAACCATAAATTTTTATTTTTCACTTGAGGTCATGGTCGATTACACATCCACTTAGCTCCGACCAAATCCGTCGACTTGAAACAAGAACCGATGGACATGTCGTCAACGTCTTGTGAGTCCCCAAGGTCCGTAAAGGTTCACCCTCAACTCAAAACCTCCTTTCAACATCTTAAGGAAAAAGAAAAAAAAGAAAAAAACACTCTGTCTCAGAGAACGAGACAGTGGGTCCGACCTCACGTCACCACGCTAGAACCTAGTGACGTTGGAGACGGAGCGCCCAAGTTCGCTAAGAGGACGGAGTCGCAGATCTCATCGACCCTAATGTCTACACGTGGTGGTGCGGGCCGATTAACATAAAAATCATCTCGACCCCAAAGTGGTACAACCAGAGCTTGAGAACTGGAGCCCACTAGGTGGGTGGAGTCGGAGGGTTTCACGACCCTAATGTCCACACTTGGTGGCGTGGACCGGCATCTCAAGAACTGATCCTCTACGACGTTTAAAGGGAGAATTTAAACGTCGAGGGGCACGCTACTGTTGAAAGTCTCGAACCGTCTCCGTTCTACCATATTTGTACTAAAAATCTAACGTCCCATTAACGACACCAAAGAAACTCAAAAAAGTAGGTAAACGAGGGGTTTATTAAAAACTCTGGATGATACACGGTCCAAGACACCCCTACCTTATCGTTCGTTACTTGTCAACTCACCCCCTCTGTCCGAGAACAGTTTATTAACGTTTTTACTTCCCGATCCTGACCCACGTCACCGAGTGCGGACATTAGGGTCGTGAAACTCCCCGGCTCCACCCGCCTAGTACTCCACTCCTCAAACTCTGATCGGACCGGTTGTACCACTTTGCACCAGAGATGATTTTTATGTTTTTAATCGGCCCCCACCACCGTCCGTGGACATCAGGGTCCATGAACCCCCCGCCTCCGTCCTCTTAGAAACTTGGACCCTCCGTCTCCAAAGTCATTCGACTCTAGTGCGGTAACGTAAGGTCGGACCCGCTGTCCCACTCTGAGACAGAGTTTTTATTTTTTTTTTTAGTTTTATTTATTTGTTTTTATTTTTTACTTCCCGATCCAGGTCAGTTTCCACTTCTAAGACACTTCCTTTTCGTACCCGGCCTCCGTACACGGGGTACAAATCCTCAAGGGTCCCTGACCCTGATACTTCGACGACGACGACGACGAAAAAAAAAAAAAAAAAAAAAAAAATTTACGTCCCAGAGAGAGACAAGTGACACAGTGGGTCCGACCTCACGTCACCACGTTAGTGTCGAGTAACGTAGGACCTGGAGGACCCGAGTTCGCCAGAAGGGTGGAATCGGAAGACTCATCGACGCTGATATCCGCGTCCGACTAAAAAGAAAAAAGAAAGAAAAAAAGAAAAAAAAAAAAAAACCATCTCTACCCAAGAGTGAACAACGGGTCGGACCAGAGTTTGAGGACCCGAGTTCGCTAGGAGGGTGGAACCGGAGGGTCTCACGACCCTAGTGTCCACAATCGGTGGTGTGGACTCCGACCAGAAGGGGAATTCCTCCACCGTGGGTGGACCTAAGGGGTCGTTTGGGTGGACGTAACGTTCCAACTGGGAGTAGTCATGGTCGGTGGAACGGACGATCCAACTGGGAACAGGTCACTCCACTAAAAGGTCCCGGATCGGAGAGACGACAGGGAACGACCGAAGTGGACAACTACAACTACCTCCACCTCGTCTCCGGCAACTCACTTACGCACGTCGACCCGAGTCTCCGGGGAGAAGAGGGGAGGACACTCCACGAACGGGAACTTCCACACCGCTCACTCCTCCGGCCAGTTCCCGTAGGGCCGCCGGAGGTCCGGCATAAACTCACCCAGTAAAGTCGGACGAAGGATAGAGAAAAGACAATGATGGAGATTAACCGTCTCAAAGAACGGTCCAGTTACACCTCCGTCTCTCTACCGGCCTCCCGCCGGTCCCCTCAGTCCGGTCCACACCCGTCCTACCCTAAGACGGAGGAGGGTCCACGGAGCGGACCCCCTACGGGACAGGGTCTTTCGGATGTAAGCACCCTCGGCCGCGTGTCGGGAAGACTCTAGATTTCGAAGGGAGACTTACGACGAAACCTCCTAACACTCTCCATCACTGAGAAGTTTCAAACAAACAAAAGAACTTCGAAAATGGAGATACGTTTATACGCCAAACCTCGTCCCTTCTTTCCAATTGACACTACCGCGGCCGAGAATTGCACCTTACAGGACTTAATTACACCCAAAGTCAGGAGACCGAGTCCTAGGGGACTCCCTCTCAAAAAGAAAGGAGACGTTTTGTGTCCTCTTTTCACTAGGGACACCGAGGCTGGACGGAAGGAACCCAGGACGCCACGTTTTGGTCGACCCTGGCACAGGGCGGGTGGGCTTCCGTCACACCCCTTGGAAAGGAGGTCCAGTAAGGGTAAGTCGACTAACGACGGCCGAGGGGTCCGGTGTTGAGACACGGAAGTCCGCAGACGTGCCCAAAGCTCTACGACCGGTCCGGACTTGAACCACTCGGAGTTCGTCTGGCAAGTTTGGGTAAGTTTACTCCTTCTGGTAGACAAAGGGTCAGAGGTCGACGACGACGAAGTAAACGTTTACCGACCCTACGACGACTCCCCTAGTCCGCCCCTGTGTAGACGTCTGAGACTTCCTCACAACCTTGGCTCTAGGACGACTCTCTTCTTTCCGGCTCGGGAAATTTAGTTGAACGGTTTGTCATGGGGGTCTTCCAGGACTCAACTCTTTCGTCCTCCGTCGGAACGGGAGGACCTTATTGAGAATTGGAAGGGAAAAGAAAACATCGGAACCGGTGAAATTTTCATAAAGAAATAAGTCTTTCACGCGTCACACCCTCCCGGACGAGATACCCGAACCCCCTTTTACAGTTTGCCCTAGACCTGTAGATAGACTGGAAAGTCCCGGTATGTCCCGTTTGCATAGGCGACCTCATACGTGGTAAATAACTTACAAATGTAGTTATAGTCCCTCCACTCGAACAGGGTCGTCGTCGAAGATCCTCGGTGTCCATTGTCATTCACACCGTTCCACTGACAGGGACTTTTGGACGAAGACCTTACTCAGTCCGAAATCCCATACGAGAGACCTTACGTCCGGTCGGCGGGGTTGAGCGTCATTGCGTCCGGGAATCGAGACACCTGACGCACTCCGTGTCGACACCCCTGAGAACGGGTACCAAACCACAAACGTCCCAATAAGAGCCGTACGACACCCCGATCCCATTCAATAGGCCGAGGACTCGGGACGACCCCAAGAGTAGAGTTCCCTTAAGACACCACACAATGACACGGGGTGTACGTTTATAGTCGATGAGAGTTTACACAACCTACCTACTTATCATCTTCCATAAAATTCTTCGGTGTCCGGAGAAACATTTAATTTGTCCGTAGTATGTACCCACAACTATTACTACTTAGAGTGTTTTAGAAGTCTACAAATCAGAGACCCTTGTAAGGTCCTTAGGAGTAAATCCATTGAATATACACTACTCTGGATAAACAAGTGAACTTTCTTTTGGACAAAACTTCAGTCTCCTTACGCTTATCTCCGAGAGTGTACCAACCTTTTTCGTTAGACGTCCGGTCAATGCGGGGCATTTGTCCTTGGGTCCTGACGGGAGGACCGGTCCCGACTCAACGTCCTACCCCTGGGGGGTGATGGAGGTTGGCGGGCGGTCCTACTCCTCACGAACGAGAGTCTGCACGGGGAGTGAAATTTATATGTCTCCGGAAGGATCCGTCGGAAACTAACACAGGAACACCACTGGAACGGGACGTCGTCCGTCGTGACCTCTACAAAAAGAGAAGAGATTTCGTACTGAGACTCCGAGTCGCCACACTCCGACAGGTTCGACTGTGCAAGTGATGACCGTCTCCGCCCAGAGTTTCAGAGTAGGAACCTGTGACCTCGACTTGAAGAACATCACACCCAGAACCTGGTCGTCGTAGTCCGGAGTGGACACCCTTTATTTCTTACAGTCGGGCGTGGACGTCCGGATGACTGGGTCTTAGAAAAAAACAAAAAAGGAAAACTCTGTCTGAAAACGAGAACAACAGGTCCGACCTCACGTTACCGTGTTAGAACCGAGTGACGTTGGAGACGGAGGCTTCAAGTTCACTAAGAGAACGGAGTCGGAGGGCTCATCGACCCTAATATCCGAGGACGGTGGTCTGGACCGATTAAAAACGTAAAAATCATCTCTGTCCCAAAGTGACACAACCGGTCCGACAAGAGATGGAGGACCGGAGTTCACTGGGTGGACAGAACCGGAGGGTTTCACGACCCTAATGTCCGCATTCGGTGTCGCGGGTCGACTGGGTCGTAGAAACCTTCACCCTCGTTCCTTCGACAGAATTTGACTGGTGCACCAAAATGCGTGTCATTTCAGACTCTTTGTAACGTAACTAGGGATGAGGTCAGGGAGAGGCATGTGGAAAACCCACCTCACCCGACCCCTGCGTCTGACAGAAACCGACACGTACAGGATCTCCGACTTGTCCTGCTCTACCCTCGTCACGTCACAGAATTACCCTTAGCCCTAAAAGTGCCTCCTCGACAACCTTGACCCGACTTATCCTCGGACGGTCCGTCGTCTCGACCCACCCGAACATCCATCTCCCTTGTCACGGGTACACCTGTCCATTCGGTCTCACAGTCTCTCTCCCTACACCCCGAACCTCGTTGGTTCGGAGTTACGCGGTACTACAAGAAACCCAAAATAAGAGAGACTGAAACCTCACCAGACACGGAAAAATTTTCTCATCTCTAGTACACGAAAAGTCTTCTAAGGAGACCCCCAGACGCCACCGATGTTCTCCGCGTGGTACCCACTACCCAATCCGCGTAACGTCTCCAGAACACCTCCTGACCTCCTCTGGACACCCTACGTCAAAACGGACATGAAAGAAAGTCTCGATTCGAAAGATAGTCCCTATCCGGATTATCCACTTCCCCACACCCCTGACTAGTCTCCTTCCCGGTCTCCTTTTCTCCCCGAAGTCCCGGCTGAACCTCGAACCCGCCGTCAAGTCACCACACTGAGGGAAGTAGCACATTCTCTTCTCCGACCACCTCCTCCTCCTCCAACTTCCAGTGAACGAACAAAACCTATGCTGGAGACATCTGTAGGTCCAATACATAAAGGAGGGGGGCCCGTCCACCTTTATACTTGGATGTTCGTCCCTGAACTCACCGTAGACGCCCCTCCTCCACCCTTTTCGGTGTGCACGGGTCCTCTGACCTTACGTCCCTTTCCTGGTCTTCTCGGTCTCCATCTTAAGACCCATATAGGTACCTATGTCCTCCCCACCGTCCCTTCCTCTTTAAAGGATCTTTCCGCTCTTCAGGAGGAACTGTACAAGGACAGGTATTCTTGTGTATGCGTGTACATGCGTGGTCGTCCTTCGTCTTACGATTGGCTTCTATTAATTGGGGGTTAAGACACAATCCCTAACTCTTTATCTGGTCCTCGGGACGGGGGAGGAGAGAGTAAAGGACTGGAAGGTGTGACTCTTCTGGACCGATCCGTCGGAACGAAAAAAAGGACAAATCGCCTCCTCACTCCTAAAGTCGGCCTTCCAGAAAGACTACCGTCTACACATTCACGGTCTGTAACACGACCCACGGAAGACACAGGATAGAGTAAATAATAACAAGGACGAGGCTCCTGAACGGAGTTCCAGTATGCTAAACATTCACCGTATCAGAGCCACAGTCACTGTCCAGACAAACCACAGAGAGAGAGAGAGAGAGAGAGAGAGAGATATATATATATATATATATAAAAAAAAAAAAAAAAAAAAAAAAACTCTACCTCAGAGCGAGACAGTAGGTCCGACCTCGTGTCACCGCACTAGAACCGAGTGACGTTGAAGGCGGAGGGTCCAAGTTCGCTAAGAGGACGGAGTCGGAGGGCTCATCGACCCTGATATCCGCGGACGGTGGTACGGGTCGATTGAAAACATAAAAATTATCTCTACCCCAGAGGGGTACAACCGGTCCGACCAGAGCTTGAGGACTGGAACTTACTAGGTGGACGGAGTCGAAGGGTTTCAAGACCCTAATGTCCGTACTCGGTGGTACGGGCCGGAACCAGACATGGAAATTGTGGGGGTCGGAAAAGACTTCTCAGTGGTCTCTTCCCTGTTTTTACTCCGGTATCGGAATGACGATTCCCTGGTACTCTCCGAACCCCATATCGACAGACAACTCTGTCCACGAAATGATGAAACATTCTACTTCTCTCGACGGAGACCGACTCGTGACAGTAATCCTGAGTCCCTTACCTTCACAAAACTCTGGTCTCCCAAGTCAAAGTCCTGACCTCTAGTGTTACGTAAGTAAAATGTCTCACTGTTGAGACATCCCGGTGAGAAGTGGGATTCTAACCCAGTAATTTCCGGTCCGTGTAGGATAAGTGAGGAAGTGGAGGAACACTCGGGGGGTGTACGGAAAACTACTTTCCCAAAAGGGGTCTTGTCACACAGGGTTCTTCGGGACTTCCCGACCTCTACATGGTCGAAAGAGACGATACAGGTCGTTCACATAAAAGTCTTCCATCCTCCGAGCCCGACCCGACCGGTCCGTCGGTCCGTGTGTCTGAGGAGTAACATGTAGGTTCGGCCCCGCACGTCCTGAAGTTGTATCGAACATTGCATTCATAGATAAAGGACCCGCGATGTACTAGATTACCGGACAGCGAAACCCTTTACGAAAGACTTGTTTTCTGAGCTAAATAAATAAATAAATAAAAAACTCTGCCTCAAAGCGAGAACAACGGGTCCAACCTCCCGTCACCGCACTAGAGCCGAGTGCCGTTGGAGGTGGCGGGTCCAAGTTCGCTAAGAGGACGGAGTGGGAGGAATCATCGACCCTAATGTCCGCACACGGTGGTGCGGGCCGATTAAAACATAAAAATCATCTCTGCCCCAAAGAGGTACAACCAGTCCGACCAGAACTTGAGAGGACTGGAGTCCACTAGGTGGGAGGAACCGGAGGGTTTCACGACCCTAATGTCTACACTCGGTGACGCGGGCCGGAAAATAAAAAAATTTAATAATAATAAAAATAAATAAATAAATAAAAAAACTCTACTTCAGAGCGAGACAGTGGGCCGACCTCACGTCACCGTGCTAGAGCCGAGTGACGTTGGAGACGGAGGGACCAAATTCGCTAAGAGGACGGAGTCGGAGGGCTCATCGACCCTAATGTCCCCACGTGGTGGTACGGACCGAATTAAAAACATAAAAATCATCTCTACCCCAAAGTGGTACAACCGGTCCGACGAGAACTTGAGGACTGGAGTCCACTAGGTGGGCGGAGCCGGACGGTTTCACGACCCTAATGTCCGTACTCGGTGGCGTGAGCCGGTCCTGAGTTAAAACTTCAAGAATACGTTCGTTTCGACGGGTATAGATCCTCAAATACGTGTGTCATGACTAAGTTATGGACGCAGAATCACCAGGTAGTCCTTAAAAAGTGAGTACTTTATACTGAAATTATGTGCACAACCCTGGTCTCTCTTTTGGAAGGGAGACACGTAGAAAAAAACCTCTTGTGACAGTACTTGTCGGCTTTTGTAGTCTAGTTTTCGTTCTCCCTATGACTGTTTTGTCCCTCACGCCTAAAGGTGACACCCACCCCTGTAACCCTCTGTGCCACTGAGTGAGGAGTCATTCACGTAAGAATCCGAGAAATGAGACACACGTAAAAATAAAAGAGTACCCGTTGTTATATTAAAGAAAGTTTGTACTTCTCGGTAGGTCGTACAAAGAGTTTCCGTCTGAATTTACTATACTCCCCACACGGATTTATATATTAAAAATTACCAATGGTATAACCTTTGTAATCGGTACTAGGGTAGACTACTGATCCTTGTACTCGGTCAGACCTCAAAGACCTCTTTAGGTCGATGGCGACGTCTCCGCCGACAATCGACAACAATGGCCGTAGGAACAATCGCTGGTCCCTCCAAAGTCAGGGCTGAACACAGATGGTCTGTGGGACTGTTGACCAATCTTTCTCTCCTGACGTGGGAAAGTAGGACGCATGAATAGACAACAAACAACGAAACTGAAGAAAAACAAGAGGCAAAAATACAACCGTCATAAAGAGCTCCATCTCTTGAAAGTGGAAATATAACACGCCTCATAAACAGGGAAGGAGCGGGGGAATTTCTTGTGCATCATGGATACGGAATATTCCAGAGACAAACTACACTCCTTAAACCAGAAGAACGTTCAGCCGAGAACGTCTCCCCTCCGAAACTCCTACAGACCCGACGTCGTCCGACAGAAGCAACGACACATGTGTCGGGAGTACCGTCCCGTACGTTTCCACCAACCAAGACTGAAGTTACCGCCCTGAGGTAACGGAAATAAAAAATTAAATTAATAATAATAATAATAATAAAAACTCTACCTCAAATCAAGACAGTGGGTCCGACCTCACGTCACCACGCTAGACCCGAGTGACGTTGGGGGCGGAGGGCCTAAGTTCGTTAAGAGGACGGAGTCGAAGGGCACATCGACCCTGATGTCCGTGTGTGGTGGTACGGGTAGATTAAAAACACAAAAATCATCTCTGCCCCAAAGCAGAACAACCGGTCCGGCCAGAGCTTGAGGACTGGAGTTCACTAGGTGGACGGACCCGGAGGGTTTCACGACCATAATGTCTGTACTCGGTGGCGTGGACCGGAGGTAACGGAAATAAAGAAAGACGACTATTCAAGACTACGGTCACTATGGGTCTAACACGGTATCCTTTCTCCCCCGACCCGAGAAGGTCTTTGGGATAGAACGTCTTTAGAGAGAAGACAAGGATGCCTGTCTCTTAACCCATAACTGGTCACTCCTGAAGAATGACCCTGACCCGCACCGGTGATGTCCTGTAGAAGGTCTGATTCTCCCGGTCAACCCCCAATGACCTGGTCCCTCCTGTCACCGCCGGTGAATGAACGGTACACGAAACACACGTCACTGATACATCGCTGTAAACGTCGGCCTGACACAAAGAGGACATCTCTGTGACCGTCGGGATGTCGGGATGTCGGCACTGTAAATGAGACATGTTCCACCGTCCTCCACACCCTCCCGTGGCCCTTGGCTTCCGGTAAAATGATGGGAAGGGCGTCGCGAGGACAATGTCACGAACACCCTCAGGGTCGACACGGAGGTCCATGTTTGCCCAAAGAAGGACGTTGGGTGTTGGGACTGTCCTGTACGGAGGGCCCACACGAGGATTGGACGGAGAAGAGAGACGGGGAGGGAGAAAGAGGAGAGGGGAAGGGGAGAGAAAGAAGGAGAACGGAAGGAGAAGAAAGGAGAGGGAGGGAGACAAAGAGAGGGAAGGAAAAGGAACAGAGGCAGAGAGGAGAGGAAAAAGGGGGAGAGGGAGAGAAAGTAGGAAGACAGAGAAGGTCTCCTCAGACAAGTCCCTAAAGAAAGAGAGAAAGAAGAAGGACCTCCTTACACAAATCCCTAACCTGTGGAGACTGAAACCTCCTCCCTCTTTGGAGTCACCCTACCCAAGGTCCTGCTGGGGTGGCGTAGGAACCTTGATCCTACTAGATCTGCAACCTTTTCTGTGGTAGGGACCCTTTGGGGTCTTTTCCGAATTAAACACTTTTCATTACCTCCCTCGACACGGCAACCATCTTTGACGAAAAAAGAAGGAATTGTCAAATTTAGACAGCAGGTAAGAGGCACTTCACTAACCTGCCCCGTTCTGAGTCCAAAGGGTAGACAAGAGACAAACGTAAACCCGCGGTAAAGTTTTTGGTGTGCCCTTTTCAAATATCCGTTTGTAATATTTTTCACTGTCAGACTTCACGACGATAGCGACCAAACCGTTGCATTTCACAATGGACTTTATCGAATGGCAAAGGTTTGGGAAAACGACAAAGTTGACAGAGTTCTGTTGGGAGGGCGACTCTACCCACTCTTCAGGTCGACCTACACACGTCACTTCAGTGTATTCAGTGTCGGAAAAAACTGAAAATGTTCTAAAGGGGGAGGACCCCGATAGAAGTGTGTGTCGCTCCTAAAAAAAGAGAGACAAATGAATATCTCTCCATTTAAGTACGTCGAACACCGATCACCGTGAGACACACTACAGTTTACCAGACGACTCCCCGAGCCTCTCAGTCCGTCGGGGACGGAGTCAAAGAGAGAGAGGGGTCAGTCTCCAGGATACTCGAGGGTTCCTTATTGTCCTACCAAAAGAATCCCTTCCTTCCGGTCCAGTTCCGTCCTTAATGAGTGTCGAGTACACGTCTACGGACAACAATAAGTATGATAAATAAATAAACACAAAAAAAAAACAAACTCTGTCAAAGTGAGTACAGCGGGTCCGACCTCACGTTACCGTACCAGAGCCGAGTGACGTTGGAGGTGGAAGACCCAATTTGCTAAGAGGAGACGGAGTCGGAGGGTTTATCGACCCTAATGTCCGTGTACGGTGGTGCGGGTCGATTAAAAAATATAAATTATCTCTACCCAAAGTGGTACAACCACTCCGACCAGAGCTTGAAGACTAGAGTCCACTAGGTGAGCGAAACCAGAGGGTTTCACGACTTTAATGTCCGTACTCGGTGACACGGACCCGATGAATAAATAAAAACCTCTGTCCAAGAGCAGAGCGACACAGTGGGTCCGTCCTTACGTCACCGCGCTAGTATCGAGTCACGTCGGAGACCCCGAGTTCGCTAGAAGGATGGAGTCGGGGGACACATCGACCCTGATGTCCACAAATAGTAGTAAGGGCCGAAAAAAAAAAAAAAAAAAAGTAAAAAACACCTCTCTCCTAGAATGATACAAGGGATCCGACCAGAACTTGAGGACTGGAGTTCACTAAGAGGGTGGAGCTGGAGGGTTTCACGACCCTAACATCCGTACTGGACGACACGGACCGGGTAAATAAAAAACTAATCGACATGTTCATGGACAGAGAGAGTAAAAATTTCATAGTTTTGTCAGTTAAAAAAAAAAATAAAAAAAAAACTCTACCTCAAAACGAGAACAACGGGGCCGACCTCACGTTACCGCACTCGAGTCGAGTGGTGTTGGAGGTCGAAGACCCAAGTTCGCTAAGAGGACGGAGTCGGAGGGCTCATCGACCCTGATATCCGTACGCGGTGGTACGGGTCGATTAAAACGTAAGAGTCATCTCTGCCCCAAAGAGGTACAACCGGTCCGACCAGAGCTTGAGGACTGGAGTCCACTAGGCGGGCGAAGCCGGAGGGTTTCACGACCCTAATGTTCGTGCTCGGTGGCGCGGGCCGGTCAGCAAAAACAAACAAACAAACAAACAAACAAACAAAAATTTCTTCGACGAACACCGGTCCACGCCACCGATGGTGGACATTAGGATCGTGAAACCCTCCGCCTCCGTCCACCTAACGGACTCGACTCCTCAAACTCTGACCCGACCCGTTGCACCATTTTGGGACAGAGATGATTTTATGTTGTTGTTGTTGTTTTAAGGGTCCGCACTACCGTACGTGGACATTAGGGTAATGAGGTCTCCGACTCCGTCCTCTTAGTGAACTTGGGTCCTCCACCTCGAACGTCACTCGGCTCTAGCGTGGTGACGTGAGGTCGGACCCTCTCTCGCTCTGAGGCAGAGTTTTTTTTTTTTTTTTTTTTTTTTCCGGTCCGTGCCACCGAGTGCGGACATTAGGGTCGTGAAACCCTCCGACTCCACCCGCATAGTGCTCCACTCCTCTAGTTCTAGTAGGACCGGTTGTACCACTTTGGGTGGGGCAGAGATGATTTTTTTTATGGTTTTTAATCGGTCCACACCACCGTCCGAGGACATCAGGGTCGATGAGTCCTCCGACTCCGTCCACTTATCGCACTTGGGCCCTCCACCTCGAACGTCACTCGGTTCTAGCGCGGTGACGTGAGGTCGGACCCGCTGTTTCGGTCTGAGGCAGAGTTTTTTTTTTTCTTTTTTTTCCGACGAACGATTGTGCGACGACCATGAAGGGTTCATAAACTTTGAAGACCCTCTTTTAAGTGCACCTACGTTGACTCGAAATACGTCGTCCCGACGTCATCACACCGGTGCCGTCATCTTTGCTCACAACTCGACACAGGGTCCTTCCTCTGAACCACGGAACAAACAAATGGTCAAAATCCTTTGTCACTGTTTCTAACCGGTTATGATGACACTTCGAACGAACGAAGAAAAGCTGAAAATTAAGTATAACACTTTTTATGTACCTTTGTATAAGAGACAGACACCTTCGGAGACTTTCTCGTAAACACGTATCGTTCCGCCGAAGACCTTGGAAGAGGGGTAACGCAAAACCGTCCTCTACTCCCTCTACAACCCGACACGTGGGGACCACCTAAGCGTGTCCTTTCCACTTTTCATACGGTGTCGTTACCCTTTTTCATTTAGGTCCTTCACGAGTGTACTGATATTTTCCTCAATACATGTAAAGGACCCCTTAAGAAACGAGAAAGTGTCTCGTCCGACACGTCGGACCACCTCAGTCCCTCTCCAACAGGTAGGTACCCCCCACTGGTCTCAATCCCTCCGGGGAAACGTGTACGTCCGTGTCCCCTAAGAGACTAACAGGACCGAGGCGCGTCGGACCCCGGTCCAGTCATGTTGACACCCCTACTTGTACCTCCCGAGTCCCTCACGTACAAACGTCCCTCACCCGTCGCCCAGTCCAGTGGACGTCGTAAGTTTGGGTCTTCTCTTCGATTCGGGACACCTGCCGTTTACCTGGGTTCCTGTGCCCGTCCCTGTCTCGACGAAGGTGACTCGGTCGACAATCCACGAACACAAGAACCGGGGGACCGGCCCCAACAGAAACTATACACAGCACACACGACCCGGGACGTCCGACCCGAACCCCCCGGTGACCCACCGGACCCTCCGATGGTCACACCGTAAACCGGGGAGGGGTCGCATACCGGGGTGGGGTAGGGACGGAGAGAAGAATGAATGTAGGAGGAGAAAAATAAGAGGGGTTGGAGAAAGAGAGAACACACAAATAAGTACGTAAGAGGGATTGTACACGAACGTCTCAGAAGACCCTATGGGTCCCCATAATGACCGTACAAATGATTTCCGTGGCGACTAGGGGTTTTACCCGGGAAACACTTTACTGGTGACTTCCCCACCTCCCTCCTCAGGAACGAAAGAGTCAAATGGTTCTGTCGTCAATGACCAAACTCTGAAACTTCTGTCCTACCGAACTAAAAATACCTATTTGTAGTAATAGAGTAACCACATAAAATCCCCCACTATAAAATGATAGGAACTTCGAACCTATAGATCTACTGTCAAAACTAGACCAAAATGACCCTAGTTTTCGTCAAAATCATGCAGTTCAGTAGAATTGACAGGTAACTCTACCCTGAGGACATTTTAGTGAAACATAGACCTCTATCGTTAGGTTCACAAGACCGACCCGCGTCACCGAGTGCGGATATTAGGGTCGTGAAACCCTCCGGCTCCGCCCGTCTAGTGCTCCAGTCCTCAAGTTCTGGTCGTACCGGTTATACCATTTGCGACAGAGAGTATTTTTATGTTTTTTCAATCGACCCACACCACCACGTGCGGACATTAGGGTTGATGAACCCTCCGACTCCGTCCTCTTAGTGAACTTGGACCCTCCGCCTCCAACGCCACTCGGCTCTAGCACGGTGACCTAAGGTCGGACCCACTGTCTCGTTCTGAGACAGAGTTTTTTTTTTTTTTCTTTTCTTTTCTTTTCTTTTCTTTTTCTTTGGGTCTACAAGACACTAATAGGAGACTTTTAGCACCACGAATTTTTTAGTGCCGTTCGTAGAAGGCGGAACTTCTCATTGTCATTATCACTGTCAGTAATCGGGCTGTACAACATCAACTACTAGTCCAAGTAGAAGCAACCGAGTAACCTTAGAATGGTTATTATTTGGTCATAAACCCATGAGAATGGGACGTTGTCTACCCCTTGTGGTCCGGTTTTCCAATTCGTCCTTACCTCTCCGCACCCTTGAGTCCCGAAGTAGGAGAAGAGCAGGTCCCGTCGTGGGAAGTGGTCCGTAGAGGGTACAGGTCGAGGTTTATTCTGTGTCCAGGAGCGACAGGGGACATGAAGGAAGATCTTGTCGTGCACCATCAGGTCGTCGAGTCTATGGGGGTCAAAGTCGTTCTAAAACCCCAAATGACTAAAATCCACTTCCTTTCCTAAGAGTTACTTTTGTGAAAGTAAATTTTTGTCCTTTAGTATGTAGTATTGAGGAGGAAACGGCCCTCTCTCTAAAAAAAGACGTAGTGTTAACGTTTACGGAACGAATAGAAAAAAAAAAGAAAAAAAGGGGGATTACCTCAGAATCTCGTAAGGAGACGCACTGTATCCCTGTACCAACGTGGAATAGACTCCCAGTCCTACCTCGTCTAACCACACACCCAGGGTCCACGGAAGGGACACTCCCTCCCTTCGAAACGACGAAGACGAGTCGCCGACGGGACCACTAGTTAAGACCGATTCTCCTTTCATGTAAGGTATTGTAAAGACCACTGAACGACTAGTACACTACAACAGTATTATCTGTAACTAGTAAAATACTGGGTCTGACTAGGTTACATTTAAGTAAGATTGTACCACCCACGACAAAGTCGTTACTCAACAACCTCTGGACCCTGAGTTTCCTGTAGACCAGGAACGGAATCGGTCGACAGTTTCCCCAACCTGGTTATCGCAAACCCCGGGGAAGTCGAGAGTACAACTCACTTAGACACTGAGATCCTACAACCCTCACCCTCTACCCGGTTCTAAACCCTGGTCTGACTTAGGGACGGCAGAAGAGGAGGAAGAGTATAAAGAGAAGGAAAGAAAAAAGACAAACCAGAGGTATCAAATTTCATAAAGATAATCAGTGAGTTAAGTCGGCGTAAAACTGAATTGGTCGGAACTCTCTGGACGAGATTCTCGGAAGTTTGATTCAAGGGTTGTAGAAAATTTGAAGCGAAACAGGAAGTGAAGAGTCGAGTTTACGGACAAGAAACCTCTTCAGAGAGACTAACAGAATATGTTGTCCCTAACTTTGTGAAAAACGTTTCCGTTCTGACGTTTATAACATCCCGAACGTCCGGTGTCCCAAAGACAACGTTACTGACTTGAGACGGGAACATTGTGTGTTTTCGTCGCGGTCTGTTATTCCTTACCCGTACCGGCACAAGATTATTTCGAAACAAATGTTTTTGTTCGACGCCGACCGAACCGGGCGCCCGGTAGTAGGCGGTGGAGGACGGTTCCCTGGTCGGGAGGAGACGGTGACGACACACACGGGCATGGAACGGTACAGGAAGAAGGATTACGAATTCGTTCTTGTGACATAAAAAACATCTAAAACATAGATAGCAGACAGTGGGGGTGGTATTACCTGCGAGGTGTTCACGTCCCAGAAATAGAACAGAGGAGAACGACGCCTCGAAGGTCTTATCCGAACAACATATCATCTGTACGTCATTTATTAATGACTCACTCTTTTGTTTACAATCTTTGTATTGGACGGGCAGTCGACCCGAAAGGAACGAAACCCCACGTAAACAGGTACAATGTAAATCGAAGATAAAAGGAGGAAAACAACACTAAGAGAGAAACACAAGTGCACGATCAACCGTAGACCCCGAACCGTACGTACGGAAACCACTACGGGGGAACTCTTCGGGGCCCGGAGGACACACCGACAACTACCACCACCACTCCCCCTAAAGAACAGGGGTTACGTACACCGGGAACGAGGAAAGTGTCACCCTGACTTTGTGTCTAACTGAACTAAAGTCAGAGGACACCCTCTAAACAAGAAGACTCCCCACAGATCCGTTTTGTCAACGGAAACTAGGACGGGACTAAACCACGACAGAGTCACGACCCTTCGAAACGTAAAAGATCCGGACCTTGAGACCCAGGGTAAGTGTGAAGAGTGACCTCCCTACTTTCGGAGGAAGAACCCGGGAGCACCGGTAGGGTCGACCGGCGAGGTCGACAACAATAATTATTTACGGTCACCACAGGAGAGTTGAGGTCACCTCTCCAACACACCCAACCTAGGAACACCCAGGTTAGGGCACGACGTATAGACCCTTGACACTGGAACAAACTGTACCGGTACACAGACGGTTCGTCCTACCCCAGCCACCGCCCTTCGTGTCTCTTGGTACTCTGGGTGCGGAAAAGAGATCCCAGAACCACAGAGGCACCCCTCTACCCTACGTAAGTACTCTTATACCACGTAGGGTACTCGACCGTTTCACCCGTCCACATACCACCTCCCCCTCCCTCGGTCACGAGAAGGCGGGTCCCCCTGACTACGTTCCACTGAGGGTAGTGCCTCCTGGGACGAACTAAACCCAGAACCTCCCACCTACTGTCCCTTCTCTCCCTCCTTCCTGACAGGGATGTCTTCTTCGGACCCTGTACACACCACCCACAACCACTCGTCCCACCCTGAGTCGAAACAGCACACCTCAGCCCCCGTGTGTCGTGGGTCGCCGAAGTAAAGTCCTGGGGACATTCACGTTGCCTCTGACGGAACGTCGACAGACCCGTAAAACGAGAAAAACAAAAACCACAATTCCGGAGATCCGAAAATAGTAAAACCCTTTTGTCGTCCAGAGTCGAGTGGGTCGTGTCTTAATCCAGAGATTTGGCCGTTTCATGACTAGACTTGTACTCTCGAGTACTTTTGAGACCTACCGTTTTTTAGAACATCTCCCTAGGGAATCAAAAGGAACTCAAACTCTGTAAAGTAAAATTCTTCGAACCGGAACCCCGTTGTCTGGTTCAGATCGTGTTTATTATTTCTCACATACACACACACCGCGTGTCAGTGCAAAGTGCATGTTTACACATTTTGAGCCGTAAGAATGTTTATTTTGTATGGTGTTATTGTCTAAAAACGTCCATAATGTCACGTTCGTGCGAAACCGTTAGTTAAATTTGTAAAAGAACACCTTATAAGAAGGTACGATACCAAACCAAACAAAGATTTCGGGGTATCCTACACCTTTGATTCAGTCCTGTCTAAAAGACCCCCATAGGAGACCAACGAGAAGGTCTATGAAGGACTGAAGGACCCCGAACCCCTCTCCACCTACGGACGACCCCGGTAAACGTCTCGTTCTTGTCGAAGAGGACCCTTATTCGTCCGGAGGTGACTGGAAACAACCTGCAAGAGAGGAGAGGGAGGAAGGGTAGACAGAGGCAGAAGAGAGAGGGTGGAAAGACGTCTCGGTGGTTGGTTTATGGTTTAGAGAGTTGGTCTTCACATGCACCGACGCGGTCCCCTCAGCGATCTCCACGCGACGGACAACTTTCTACGGCGGCACTAGTCAACCTGATTCCTACCCCACGTGAACCCCGGGTTGTTATCCTGTCACGAATAACCCCTCATGAACGTCTATTTCCCGCGGTGCGGATCTCTGAGGCCGGAGATACGAACATGACGGTCATCCTGACATCTGTCACTTTGAACCATGAAGTACCACTTACAGTGTCCACTCAACCGGGCGGTCGTGATACGAGAGAGAAGAGACATCGGTAATGTAAAAAAACCGGTTCACTTTTCCATCACTCTAGAGATTAACATTAACCTACGGTCCGTATGTCGAAGTATCAAAAACTTTAAGAAGAAACCCTGGACCACGTGGTCTTTCCGGCTAGTAATTCTTACTATCTTAAGAACACGTGTTTCATTGTAAAAAGAATTCTATCATGCGAAAATAAATTCATTTATGTACGAAAAAAAAAAAAAAAAAACATGGTGACTGTAGAGACCGTAAATCTTATATCCCAACTTTAAACCTATGAGTTCTAAAGACTAAGTAAATAATCTCAAACTCAAAGAGAGGTACTAAAGGAAGATACGTCACTCGCCCTGTCTTGTCCGGGGGAAACACCGGCTCAAATTTCAAGACGAAAGTCTTACAATCAACTGCTACTCTTCCCGGTGTGTCCCTGACTCAAAACAATCCCTAGTTAAAGAAAGAAGTTCCTCTGGGGCGTATGACTTTCCAATTACAACCTTTTTCTCAGAAACCCACGATGTGTTAACCATTTAAACAGTCCCCGAACTTATGACAAACTTCGAACTTTAGGTCAAGAGTATATAGGTTAAAATATCGGACAAATTTATCGCACTTTCGTCTTTTGTAACTCTTAGTATTGTATCTGGTTGACAGTAGTACCTCCCTTTTAAATTCGGTAATTTTGATAGAATTGACTTTTGTTAGGGTCCGAGAAACGCTCCCAAGGACCCAACAACTGAAACGATACCTCTTCCAGAGTCAACATCTATTAACGTTGGAAAAACGAAACGTTTTTTGTGTAGGTACCTTATACAAGAAAACGTATGTCTACGGTAGAGTAGGCCTCTACTACTCCTACTGTGGCTACCACGCCTTCTAAAACAGTCACTCTTGTCATTGTTGTTCTCATTCATTGACGGGCCGAGGCTACCAGGGGCTCTCTCCTCGTACCTCCCTTCAAGACGGACAGTGGACAGAAGAACAGCTGAGAAGACGCGGTACGACACAGGGCGCCGGGAACGGAAAGGGGCGACACAGATGAAAGGACTGAAAGTTTGGACTCTTATTTGGTCACAACGACGTGTCGGAAGAGATAGCAAACAGGAAAGAAGAGCACAGTGACCAGTAAGCAAAAAGTTTCGTCAATGATGAAAAGAAAGGAACTAAAAGGGAAAAGGGAAACTGAAGAGGGATAAGTCTCTGTATTCTTATCATCTTGGTACATTGTAGAACCAAAAGGAACATTAGTCACTAACACGAACCAAATTAGGTCACCACACACTGACCCCGTTAACGGATAAGAACGAGAGGGCCGTGTAACCCGTTATAAACCAACAGTGTTGTCTCCCTCCCCCACGACCACCGGAAATCGACCCCTCCCCGGTCCCTACGTCTCGTGTCGGGGTATTGTTTCTTAATAGACCAGGTTCTACAGTTAGTAGGGATCCCACTCTTTGGGCCGGAGGATGTTGTGTGTGGAGTACGACTCACTTTTACTTCCTGCACACGGAATGAAACATCTGGTGCTAACTTTTCCCTCGGTTCCCACCGAACGAATTACTCCCGGTACTTGTGACTCGCGATTGTACCCTCTCCGGTAAATGAACGCTCCTTCTTGTACCGCATCGGAGAACCTCGACCCGTTGGACCCAAACTTAGAACGAGGTGTTGAAGACTCAACGAGTAAAGTGAAGACACGGAATCAAAGAAATATTTTACCCTCATTATTATTATTATGATAAAAGACCCCAACAATACTCCTAATGTACTCAAGGATCAACATATCACGAGTCTTCTCACCAACGAACGTTTACAAATAAGTTATGTGTTTTATGTTATATCGTAATGAACGTAAAAGGTTACTGAACCGATCTTACAAGGATTTCACAAACATGTATCCCATAACCCTAAGAGACGAATGTACCATATAAGATGTAAAAAGAATTTTCCTAAAATCAGTTAAACCATGTAAATTTGTTCCGGATTCATTATATGGTGTGGGCCGATTAAATACATATATATATATAAAAAAGGGCTCTACGTCAGAACAAGACAGTGGGTCCGACCTCACGTCACCGCGGTAGAACCGAGTGACGTTGGACGTGGAGGGTCCAAGTTCGTTAAGAGGACGGAGTCGGAGGGCTCATTGATCCTGATGTCCCCGGACGGTGATGTGGACCGATTAAAAACATAAAAATCATCTCTACCCCAAAGTGGTACAACCGATCCGACCAGAGCTTGAGAACTGGAACACTAAGTGGACGGAGCCGGAGGGTTTCACGACTCTGATGTCCGCAGTCGGTGGCACGGGTCGGATTAAATACATAAAAATCATCTCTGTCCCAAAATGGTACAACCGGTCCGACCAGAACTTGAGGACTGGAGTTCACTAGGTGGGCGGAGTCGGAGGACTTCACGACCCTAATGTCCACACTCGGTGACGCGGACCGTTATGAAATAAAAAAGCTCGTCAAAGTCCAGGTGTCGTTTTATTTCTCCTTCCTTGTTTCTAAAGGGTATATTAGAAGGGGTTGTGTACGTATCGGACAGGACAATAGTTGTAGGGGTGGTCTTACCATGTAGACAAGGTCAACTACTTGGACGTGACGGTAGTAATAGTGGGTTTCACACACCAACTGAAATCCCATACATTAGTATGTCACACATCGGAAATGTCTAACCGAAGAAACTGAATCATTCTACGTACATTCAAAGAGAGTACAGAAAAGTACCGAACTACCCAGTAAACAAACATCGTGACTCATAAGGTAACAAACATACATAGTTTCAAATAAATGGGCAAATGGATGATTTTCTATAGAGCCGACCCGTGGCAACGAGTGCGGACATTAGGATCGTGAAACACTCCGGCTCCGCCCACCTAGTGAACCCTTGTTTTCAAGCTCTGGTCGAACCGGTTGTACCGTTTTAGGGACAGAGACGATTTTTATGTATCCAATCGGTTCACATCACCACGTACGGACATTAGGGTCGATGAGCCCTCCGACTCCGTACTCTTAGTGAACTTGGGTCCTACGCCTCCAACGTCACTCAGCTCTAGTGTGGTGACGTGAGGGAGGACGGACCCACTGTCTCACTCTGAGGTAGAGTTTTTTTTTTTTTTGTTTGAGACAACGAAGGTTCAAAACTGTCAACGTTTATTTCGACGATGTCTGTAGAAACACGCCCAAAAACACCCCTGTATCAAAAGTTAATGAAACCCATTTACAATTCCTCACACTAACGACCTAATACACTCTTCTCATACAAATCTAAACATCCTTTGGTGGATCGACGGAACGTTTCACCGACGTGGTAAAACATAAGGGTGGTCGTTACTTACTCTCAAGGACAACGAGGTGTAGTAAGCTACACGAACCACAAGACCTAAAACCGGTAAGACTATCCACACATTACCATAAAACAACAAAATTAAATTTAAAGAGACTACTGTCTACTACACTTCGTAGAAAAGTATACTAATTAACGGTAGGTACATAGAAGAAACCACTCTACAGACAATTCCGGCAACCGGGTAAAAAATTAATCCAACAAACAAAAGAATGACAGCTCAATATTCTCAAGAAACATATAAAACCTATTGTCAGGAAATAATGTAGAGAAAACGTTTATCAAAGAGGGGAGTGGACACCGAACGGAAAAGTAAGAGAACTGTCACAGAGAACGTCTCGTCTTTAAAAATTCAAAGTACATCAGACCAAAAAGAAAATACCTACCACGGAAACCACAATATGGATTTTACAGTAGTGGGTTGGGTTCCAGTAGATCTAAAAGAGGATACAATGGAGGATCCTCATAATAACAAAACATAAAACATAAATACACACATTAGATAAAATTCAATTAAAAACATTTCCTACATTCCACACACACACCTAAGTGAAAAATCGGACACCTACAGGTCACCAAGACCCTGATAAACAACTTTTCTGACAGGAAATCCAAAAAAAAAAAAAAAAAAACTCTACCCTCAAAGCGAGAACAACGGGTCCGACCTCGCGTTACCACGCTAGAGTCGAGTGGCGTCGGGGACGGAGGGCCCAAGTTCGTTAAGAGGACGGAGTCGGAGGACTCATCGACCCTAATGTCCATGTACGATGGTGTGGGGCGATTAAAACATAAAAATCATCTCTGCCCCAAAGAGGTACAACCAGTCCGACCAGACCTTGAGGGCTGGAGTCCACTAGACGGACGGAGCCGGAGGGTTTCACGACCCTAATGTCCACACTCGGTGACGCGGGCCGGACAGAAGAATTTCCTTTTTCTATTTTATCTATAACCATCCACGGAGCCTATTTACTCAATGAATTCACTTCTGAATCTAAACAGGGACTCAGAGGATCGTCGACCCCGTTTTCTCTTTATAAAACCAACCACGTCAAAAATGAAAAACAGTTCTCCTTCGAATCCCGTCACCAAGAGTTTCATTTCAAGGACCTGGTCGTCGTAGTCGTAGTGGACTCTTGAGGGAGCTTTACGTCTAAGAGTCCAAGGAGGAGTCTGGGTGACGGAGTCTTTGAGACCCCGACTAAGACTAAGTGTGACTTTACGCTCTTGGTGACCGAATCTTAAACGTGCACCTCCAGACGGGACTTACCCTCGAATGACAATCACCAGAACAAGCATTTTGTCACCTATTATTCCACTCACCTTCATAGAAGACACTAAACATGGTCGGAAGATTTCTCCAATAGTAATAACAATAAATTATTTTTCGTGACTATTCACCTCGTACAGTGAGCGGAGAAAAAAAAAAAAAAAAAAAAAAAAAACCCCTGCCTCAGAACGAGACAACGGGTCCGACCTCACGTCACCACGATAGAGCCGAGTGACGTTCGAGGCGGAGGGCCCAAGTGCGGTAAGAGGACGGAGTCGGAGGGCTCATCGACCCTGATGTCCACGGGTGGTGGTGTGGGCCGATTAAAAAACATAAAAAATCATCTCTACCCCAAGGTGGTACAATCGGTCTTACCAGAGCTAGAGGACTGGAGCACTAGACGAGCGGAGCCGGAGGGTTTCACGACCCTAATGTCCGCACTCGGTGCCGTGGACCGGGTGAGTGAAGAAAACCGGTCACCGAGACCGTACTTCGACCTCCGTTTCTACGACTCCCGGACGTGATCTGTCCGAGACACGACCGACGACCAAGGCAGGTACGGTGGTTATTGGGCTAGTCCACCTCTCTCATAAATAAGAACGAAATAACTTACCTTTTAACACCGAATCGTTCGTTTTCTTCCCGACGCAAAGTCAACATCCGGACAACGGACTCTCGTAGGATCCCAGTGCTACCCCCACCTCACTCTTACGAACATGTCCACAAATGTCGAGAGGTCAAAATGACATACACCCACGGGAGCGATACCTAACTCTGTAGTCTAAGACAGTCGAACCAAAAACCTACGGACCCCTTGACGCAACAGGACCAACAGCCGATGGACGGATTATCGTCCAATGGCACTTTGGTACACTTCGTTATCTTACGTTGTCGTTCCATACCTAATGTACTGTCCGTCCGACTCACCAAGTCTTCCTAATATACGACACCTGGAATACGAAACGTAACACTTGTCACAAGGATTGACGGGTCGCGGGTACGTCTTCCCGGTCCCCCATCTCGTGGGTACACTACTTACGGTTGGTTGTCACATGAACGGTACGGAAGTGGAACGTTCGTCCCAAGAAAACATTAATCGAGAGCTTACTGTCGTTGAGACGGGGACTTTACCCACGAGACGTCACTAATTCCCGATCACAATCGACATGGTCCCTCTATGACGACACTCCTCCACGGAGACAAACCACAGACACTTTGTAATCTACGATAAATTTCACTATCGCCAAGAATCGACCGATGAACCGGAGACGGTAGACAATCACACTAATCCGACCAGACTAAGTGTCCACGTCGGACCCCGCCGACTCTAATTCGTCGACACCAGACACACCTGTCTCCTTACGGTGCCGGCCCCATTAACCGTTCCGTCCTTTCCCCTGCAACGGTAATTTTGTTAAAAAACGGTGGAGTTCACAGTTTACGGACTGGGCTAATTATCCCTTTTAACGTCTTCGTGGTTTAAGAAACATAAAAGTCGGTGGACCTTTTGTGAGTACACAGGTCTAACTAAAGAAACCACGGAAGACTAACAGACTTTTACGGTGACCCCACACAAACATACAAGAAGAAATCCTTGAAACTGTTTACTACGAGGTCACTGGGACACAACTACCACTGCAAAAACCCGAAAAAACTCAAAAAAAAAAAAAAAAAAAAAAGAGGAAAACCTAACTCTGTAACTTTTAAATCAAGACATAGAAGGTCAACCTTTTTATATAACGTCCAATAAGGGAGACGACTAAACGATCTAATAACTAGATTAAAACAACCAATTGTATTCTTCCGTTCGAGTCGACGGACGATCTCACAAAAAATCTAAGACATGTCTCATGCTTTTCGAACCCACGGTTTATGTTACCGTTTTTATTGTTACTTCTTAATTTCTAGCCCGCGCCACCGAGTACCTACATTAGGGTCATGAAACCCTCCGGCTCCGTCCGCCTAGTGTTCCAGTCCTCAAGCTCTGGTCGGACCGGTTATACCACTTTGAGGTAGAGATGATTTTATATTTTTAATCGGCCCGAACCACCGCCCGCGGACTCCGACTCCGTCCTCTTAGTGAACTTGGGCCCTTCACCTCCAACGTCACTCGGCTTTAACACGGTGACGTGGGGTCGGACCCGCTGTCTCACTCTGAGGCAGAGTTTTTTTTTTTTTTTGTTTTTTGACATAGATAATTGTAGTACAACATGTACGTAACTTTTTGGGTCGGTACCCGACTAAACTAACTAGAAAAATTCAACCAAAGAAGTAGTGTCTACACGTCCCGTAAGAGACCAGTATAAAATCGTCGACTGATCGACTACTGGAGTGTACCATGGTCGTGATCTACAAAGGTTCACCTTGTCAGGACACTACAGTAATGTTCGGACCAACGGTCCTTTATTACGACAATGTATACGGGGAGCCACGTTGTGTAAAAGAGGTCTTTCTTTCAACGTCAAAGTATACGATTAAAAACTTTACGTAGGTCCAACTCCCAAAACTTCCCAACTCTTAAATAGGAAAGCGTATCTTTTCATATTCAATTGATCAAGAACGGAAGGGATCCATGATCCATACAATTACCCAATAGACCGTCGTTGATCCATCTACGTATATGGGTAAACAAGCTCCCTAAAAATAACAAAGGTCGAACAAAGCCACTAATTACAAAGACTTCTCGAACTCTGAATCAAAAACTCTTCTAGTACTACCTGCTTTTCAAGTCCAGGTAACGAATTGAGCTCCCTTCACTACCTCTCTGTCAACGTAGTTCTGAGAACGACGATTTCACCAAGAAAGAGAGCTCACTACTCTCTTTTTCATTAAAAGATAAAACCAAAGTAAGGACAACTCTGGACGTCTACGGGTGTGAGGTACAGTCCCTCTTTCCGATAAAAAAAACCTTCATGGATCCCTTTTACTTCCATCAATCGGACTCTAAGGTTTGAGTAAAGTAACTAATTGGACGGCTATTGTCAAGTTTCAGTGGAAACAAGATTAACCCTAAAAATGAACCATCTCTAGGATTCAACCATTGTCGTCCGAAGAATCAACACAACTTCAAAGATCCTTAACTTTTCTTGTTATAGTCATTATTTTTGTTGTTTTTTGGGTGTGTCCGAAACGTTTAAAAATCTTTAAGGGAAACATTACTTTTGTAGTAGTTATTCAACCAAACCCGGTCGTATCGTCGAGCGTGGACATTAAGGTCGATCAACCCTCCGGCTTCGTCCTCCTAGCACATATGGGTCCTCAAACTCTGATCGGAGCCCTCGTATCGTTCTGGCGTAGAGATGTTTTTTATTTTCTAATCGGTCCACACCATCGAGTACGGACGTCAGGGTCAATGAACCCTCCGAGTCCACCCTCCTAGTGGACTCGGGTCCTCCAGTTCCGACGTCACTCGACACCAACATGGTGACGTCACGTCGGACCCGTTGCCTCGTTCTGGGACAGAGAATTTTTCTTCTTTTTCGACGAAAACCATAAAATAGTGTTTATGACAACTACCACAAGGTAGGTTACCAACCTGACTTATAGAAAGAGTCAGAGGAGGAACCAGTTTGTCGTATCGGTTACTAACCTCTTCAAAGGAAACTTCCGTCTAGAACCCTTAAGGGTACCCGATTGACCAGACGATCACCCGAGTCAAGAAAGTGAACACCAATTGAACGAACCAAAACTTTTGTATATAAAGACTAACTTACGGACCGACCAATCGTTCAAAAATTACTCTAAAGAGTTTCGGTGTCTGTATGGGGGAGTATTAGTATAGGAGTGAGTGTAGAGGCATAAAACAATCTAAACAAAAGAGAATCAAATATGGTTTGACTTTCGTCTTGACGTCCCATCACCCCTCGAGACTCTGTAAAAAGGGGACAGTCCTCAGTTTCGTAAGTTTACAGGACTAATCACTATAAAAATTTTCGGGATTAATATCTGAGCTCTGTCTCCGAAATCACCCCGAAATCTCTCAAACACTCTGAATTAGATCCTCGACCTTGTCCGACACAAAAATTTTAAAAAACGTAGGTATTTTTATGTCAACCGTCAGTAACCACCGGCGCCGAGTGTATTTAGAACTTGAAAACTGAATTAATGGTACCCTCTCAAGTTTCCCGTCCGACCTCACCAACTTCCTTGTGACGAGTCCCTCGACCTCTACCCGGACCGGAGTCGGGCCGGAGACCGACACACTGGAACTAGTTTAGTGAATTGGAAAGACCTACTGTAACTATAGTAGTCAGCAACCCGGTCTACCAGTGGCTCCAGAGAAAACCATGTCGGACCATTATACTAAGGTACAAAGAGGAAATTTAGTAACCCGGCACAAGAGACAAAAAACCAAGGTCTCTCTCTCTCTCTCTCTCTCTCTCTCTCTCTCTCTCATCTAATATTTGGAATCCACAGTCGTAACTCTACACGTTCCCAAAACCACCCCCGTCCGGGTCGTCGGATACCAAAGAGTGATTCAAATTTAACGTCCCAGTTTTCTTTAGTGTATTAGGATGGTAAACAACTGTCTTAGTTATGGACAGATCGTGTATCTATGGACCTTTCATACAAGCTTGACCGCCCCTGGAATTAGTCACGTTGATGAAGTAAAATATCGATTTCGAAAATTATCAGTAGGTAGGCAGGTAGGTAGGCAGGCAGGTAGGTAGGTAGGTAGGTAGGTAGGTTATTGCGAACTCACGGATGAGGTATCCGATTTCTGTTGAGGTCGACATGGGAGGTCCACGGGATGACAACAACCAGTCGTAGTCTTCCTCATAAAAAGTCATGTCTCTGTGATTACAACCTTCGTGTGTAGATAGTGTTTCTTCCCCGGGACTCTTTCTTATTGAACCGAGATCCCACCCTTATTATTTCCGACACAACCTCAGGAAACTTCCTTCAAAGACACCCAAATATTTAGAGAGAAATTGAGTAACGTAGAATTTTCTGAAGACAACAGAATTTCATTTTAAGATGAATTATAATAATGATTACACGTTACTGACAATGTCACATCTTTTACTATTACTCATCCATACGATATACGACCACTACCCTAAATTAACTACCCTACCCTAACTAACTAACACCGATCCAGACTGACAAGAAATTGGTCGAGTAAGAATCATAAACTACTAATCCTCTTGTAGTAAGAACACCATGGATAATGTAGTCTTCCAGATTCTTACAGTCTCGGTTTCCTTGGTATGGAGAGTAGCTCCAATTAAACAAAGGAAATGTCCACCTAATCACAGTAAGTAAAACTTACGGTAACCTTCAAATATGGTGTGCAGAGATAATCGACTGAAATTCGGGCGAGAAGTATGTGGAGATTCCATATATTTCAAGTCCCTTTGAGTACACAGGAATCGAACGTCTAAGTAAACTAACTAACTAACTAACTAACTAACTAACTCTGTCTCAAAACGAGAACAGCGGGTCCGACCTCACGTTACCGTACTAGAGCCGAGTGACGTTGGAGACGGAGGACCCAAGTTCGTTAAGAGGACGGAGTGGGAGGGATCATCGACCCTGATGTCGGTACGCAGTGGTACAGGTCGATTAAAAACGTAAAAATCACCTCTGCCCCAAAGTGGTACAACCAGTCCGACCAGAGCCTGAGGACTGGAGTCCACTAGGCGGGTGGAGCCGGAGGGTTTCCGACCCTAATGTCCGCACTCGGTGGCGCGGACCGGACGTCTAAGTAAAATCTATTCTAACAACTCATTTGTAGGGACAATTCGTAGATGATACCTGTTCCGACTAGAGACGAAGTCATCTAGAAATTAAACCATGTACTCAAGGAAGAGGTTTACTCTCAACAATTTCGACAAGTGCTCGGAACCATATTTTCCCCGAAGGAATCCATCTCCTCGGGCAAGATTCACGGACCTACCACAAACAGAGGTCGACAAAACGTCAAGAACCCTCCGGGACCGTAAAGGTACACACAGGAAAGGTTGACGTTTTTGTATGTCTCCTGTGTTCCGACGACTACTTCCTTTGTGTCATCCCGATAGAATATCATAATAATAAAAAGATCTAGAATGTCTAAGTTCCAAGTGTATTTCGATCACATAAAATCCTTCTCGATAACATTTTAATATTTTCTCAAGGTCGGCCCGCGCCATCGAGTGCGGACATTAGGGTCGTGAAACCCTCCGACTCCGTCCACCTAGTACTCCAGTCCTCTAGGTCTGGTAGGACCGATTTTGCCACTTTGGGACCGATTTTGCCACTTTGGGACAGAGATGATTTTTATGTTTTTTTTTTTTTTTTTTTAATCGGCCCGTACCACCGCCCGTGGACATCAGGGTCGATGAGCCCTCCGACTCCGTCCTCTTACCGCACTTGGGCCCTCCGTCTCGAACGTCACTCGGTTCTAGCGCGGTGACGTGAGGTCGGACCCGTTGTCTCGTTCTGCGACAGAGTTTTTTTCCTTTTTTTTTTTTTTCTGAAGGAGGGGAGGGCATAGTTCAAGTAATTTGTATAAACACTCGAACTATAAATTTCTCTCCGACACACGACCACACTACAATCGTCAGTGGTCCCACCCCGACCAGTGTGTACCCTCGGACCCACCTCCCAACACGGACCTAAAAAATACCACCGGGGGTTGGAACCTAGAGACTCTGGATCTACTCGTCGTGACGTGGGCATGGGACGACATACCGACACAGACACAAAACGTCTTCGTCTAAAATATCCACATCGAAACTACTAACTTTATAGTGGGCTCCCTTCACCGATGGACGGTCTTTAAGGTCGTTGTAATAAAGTGGAATCAGGAATTTAGTGAGGGCTCCGTGGTTCTGTTTCCACGCCCAACGGGTACCCGACAACGGTGTCCAGTCCGGACGTATCCACGCGCACCAGACCCGGCCAGGGACCCGACAATGTCTGAGTGGGTACCGAACCGGGTCACTCCCGTCTTTTCTTGTTGTAAGGATCAAGGAAGTCGATTTAGGGTGAAAAAAAAATCCCTTGTATTTTTAGTACGGATTACCATACATTCGTGTATAGACAACTAAAGAAAATACATTTTTTCTTTTCTGTAAGGTGTCCTAGTCGAGTCGTCATTAACTACAATAGACTTTCTCAATGACGTAATTATAAATCGATTAAGTATACTTATCCGATAACACAAATGAATTTGTTTACTGTACTCACGTCTGTGGACTGTCGTACTCCATACGAAAAGTAAATCCAATCTAAACATTTGCAGAAACACATCACTGTTTCGAGTAATAAACAAAACACGAGAGTTACCAAAGAAAAATCACCGACACCGACACCTACCTAAAAAGATTCATCTTCGAAAATTTTACTTTCAAATAACTTTAACAAAGTCATATACGGTCCGGGACTCTCAGAACCCTACTTACCCTTAGTTCATGAGGGACCACTTGGGAGTTTTCTTATCCACGCAAATACCCGTAAGTTGTGGGTCTCGGTTTACAGATGGGTCCAACGTTTACGTTGACCTAAGTTTCCTTCCTTAAGTCGGGGACAAGGAAGAAAGAGGAGGAAGGAGAAGAAGAGAGGACCGAAGCTATCAAAACGGGGAGAAGGGTGACAAAGTCGTAGTATACCCACGTGGATTTAGGGTAGTGAAACTGTGAATCTATTCGTGTCCCTATTTCTATGTCGTACCGGAACATTTCTTTAGAGTCGAGATGGAAACTGTTGTCCAAAGTTCTCGTTCGCACTTCCGATTAACCCCATCCACAAACCTACGTCGCTAAAGTTAAGGACTAACATGGGACTCAGACCGACGATTCACTTCCCCTAGGAATAGGGGGTCCCTGCACGAGATGTGGGCATCTTATCTCCTCTGAAGATTTATACGTAGTCTCTGTTTCGGGGACGGATCCCGGTAAAACGGAACCCAAACACTTGACACACACGACAACAAGTCAGATCGGAAGTAGTCTTTATTCGTATCAATACTTAATCGGAAGATGTTACAAGTTCAGGGACAACCACCGACAAAGTCTCCTTATGTCCCTAAAACCAATGATGAAACGATTCTGTCTTTGTATATACACTTATCAATTTAACGACATGTCATCTCCAAGACCTGTCCTTTTTTCCTCCTGCACACGGAACTGGGTCCGACCGAAAGGGCCTGAAGTCGGAATTTGTAGTCTAACCACCTTCCATGCCTAAGGTTGGAGCACCTCTTCGACGTAGAAGAATCGTCACCTCTCATCCCAACTTCTATCACCCGAGACCGTAGTCTGACTACACCAAGTTTAGAACCGACGTGGAGAAGGTTCGAAACACCGAAAACCGTCCAATGAATTGACGAGACACGGAGTCAAAGGGGTGAACCTTCGGTTCTAATACTATCACGGAAAGAACAACTTCGTAACACTTCTAATTACACAACTGTACATTTTTGAGAAACTCGTCACGAACCGTTTCATCTTCGAAAGTCAGCCATCATCAGTAAGCGGTAATAATCGTCTGTACTTCTTAAATGTCACCATAAGACCGAACTACAACACCGAAAATAAATCTTTTTTATATGAAATGAAACACTAAATTTTGAAAAAAGAACTGAAATTTTTTAGTGAACATAAATACTGAAAGCCCCTGTAGACCTCCCGTATTGAAATTGTATAGTAAATTAACCATCGGAGGAGAATTCAATAGTAATCCACCCCACCATCCCAATACCGTAAGTATTGGTGGTAACCTTTCTTTAAAAAAAAAATTAATTTTTTCAATCATACATAAATCACTATGTCAAAAAAAAAAACAAACAAACAAACATATATTCAAGACTCTTTACATGCTTACTGAGAGACCCAATAAAATAATATAATCTTACTGTTAAATATGATAACTAACGGGAATTTCATTCCGAGGTTACCTATTCAACTATCCCGAAAACTCTTGTTGAACGAAAATGATCACACATATACACTAGTAAATTATCCACACCGTTAGGTTTTACTAGATAAAAACCTCCTGACTCGACAGCGTCAACATATACAACAAGTATACAAATATTTTATCGTAAAATTTTGTACTAAACCGTACTTTAATAAAAGACCGTAGTTCTTGTTCTCTCTCTTCCCCGGAGTTTGTGAAAAAAAAAAAAGAAGGACAACCATCTGTACTTGGTAGGGAGAGACCCTGGAAGACGAGTCGGTCGACCTAATCTGAAGACTTTTATAAAAGGTTTACATTTATAATGGGTTTCTAAATTTTTTATCGGATCGTAAATGTACGTTTCGCTTTACTAGAATGGACAAACCTCAAATGAGTACCTCCCCTTCGACAGGTAGTCATATGTAAGATTATGACAAAAGGTTTTGTCCTCGTGGTATGACCTGGTTGTGTCTTTTCTACCTTTTCGCCGAGGTACGACACGGACGCCGGTTGTGACAGTTCAAAGCGACGGGTCGGCCCCCCTTGGGTTACGGTTGGTACGCCACCGACTTTTTGCCCTTCCTCAAATTCGTCCTCGTAGCGTAACCTCCGATGTTCCATCTTAATTCGAAAGTCTTGTAGTGTAAAGAATGTAAAAACAAATAAATAAATAAATGTAAAAAAAAAACGCTACCTCAGAGCGAGACAGCGGGTCCGACCTCACGGCACCACGCTAGAGCCAAGTGACGTTGGAGGTAGAGGGTCCAAGTTCGCTAAGAGGACGGAGTCGGAGGGCTCATCGACCCTGATGTCCACACACGGTGGTACGGAGCGATTAAAAAACATAGACATCGTCTCTGCCCCAAAGTGGCACAACAGGTCCTACCAGAACTAGAGGACTGGAGCACTAGGCGGACGGAGCCGGAGGGTTTCACAACCCTAATGTCCACACTCGGTGCTACGGGTCGGGATGTAAAAACAAATAAAAAACTTCACGAGTTTTCAATCGTCCTTAATCTTCCTTATGAAATTGTTCTTAGTTATTAACAGTGTTAACGGGTACAGTCCCAAACTATAATTTTTTTTTATAATGGGGCCTGAACGCACATTAAAATTTCATGTTAAGGGCAAACACAACAAGAAGTATACTCCTCTCAAATTATTGTCTTCCCAGCTTTCAACTCTCAGACAAAAGATATACGAAATATCACATATTTTGATTTTGCCCACACCTCAAACTCTTCGCAGTCATATCAAAGGGACAGTCTCGTCCTAACGTACTTATCACTCCCCTGAACCTAATCTCTGACCTCATACTTTATACTACGTAATTCCCTCTCACGCACCTCTACTGTCACCGTTAGACGACAGGAGGAACTTCCTAAGAACTCTCGTGCAGTGTGTTACGGTACTTTAAAATCAGAGTAGTGAGGGATCCCTCAAACTTTAACCGTCGACAGAGGGACGTCTACGGGCGCGTACGAGGAGATCGGAAACAAGTAGGTGAATCGTCTGTAACTAACTCGTGGGACACACGGTCCGTGTGAGGACCCGAGACCCCTCTACTCTCCCACTCCGTACCGGGGTCGAGGTTCCCCGAGAATCAGGTCAGGTCGTCCTCTCCGTCTCCTCTTGAGACCGTTACCCTCCCTGTGTCCAAACCAACTTCAACGTCCTCGTACAACGTAGGGTACCTACATGTACCTTTCCACTATAACCTAACCGCAAACCTTCTTATTCCTCTTTCCTCCAGTCCTTTCCTAAGTCCAGACTCAACCTTCCTTTCTACAGAGTCTTTCTCTCTCTACCTTAAAGGTTTAATAAATCATACCTTCCTCTCTTGACATTATTAACTCGTATACTTTTCCTGACTTCCTTTGGAATACTACTTTAAGAGACTACGTAAACCTTGTATTCACCCGTATAATCAATGGACAACGACGTATTATTTAACGGGGTTCCATACCATCGAAATTCGTTGTAAATAATGGAGTAACAACGGACCTAGTCCTTACTTCCACACCGAATCGACCCAGAAGGTAGAGGTCGACAGAGTGTCCTGACATTCGTTCCTTCCCAACTCCGACTCCAGAGTAACCTTCCCAATTAACCCCTTCCTTGACGAGTACACCAACGACAATCCTAAGTGAAGGAACGTCTCCCGGAGTCAAGGAGTGACTGACAACCGACCCCCGACGGGTGACAAGGTACGGTGTGCCCGGAGAAGTATCCCGTCGACGACAGTAGTCCAACTCGTTTCCTCCTCGGTCTCTCTCTCTCTCGTCCTAGCGTCTTCAGTCTCGGAAAACATTGGATCACAACCTTCCCTGTCGGTGGTGAAAACGAAAAAAGGTAATAATTCGTTCTGTGATCCCTCCTCCAACGGGTTCCTGGACTTACGGTCCTCTGTTCCCCTAGTGGCCTTGGGTAGACCCTTTTGACGTACCACCCTCCTTATCTTCTGCGAGAAATCGAGTCTGGAGTCCAGGAAATGTCGGTCCATCCCTCCTAAGGAGTCATCGTCGTCACCCCACAGGTCCTGACACAGAGTGCACAGAAATTGTGTGGTCGTAGTGAAATCGAGGTAGTAACGACATCCATTTACTCGGAGGAAAGGTGGATTTTTACGGGACGTTGGGAAAAGACTTTAAAGAATCTGTCAATAAGTAGAAATTTCCTAATAAAAGAAGACGTTTTCAAAAACGGAAAAACAAAATTGTGAATCTTTAATTGTAGATCTCCGGTTTTAAGTCTCCTTTTACCCCTGTCGGATACTCATTCAAAGATTCTTGCGTACCACCCGTCACTTGTACACTTTGTCAATACTCCGTCTAGACGATCGTCCACCCATGACAACTTCGAACTTTCATCTTTATGAAACCAACAAAAGGTGTTGAGGATGAACCACCACCTTCGTCCTCCGTCCCCCACTAAACAGGAAGACAAGAATCAAGTCAGGAATCTGGTCTATGCTACTCTAAGTTTCCAACCGGGAAAATTTTCTTTAGAAAAACTTTTTTTTTTCAATTCCTAAAGTACCCCCCTACGACCAATCTTTCCTTCTCAATTCGGTGATTTTAGTGCCGGGGACCCTAACAAAAATTGGTGGTTTACGAAAGACTTTGAGTGTATTAACTACGTCAAGGTTACTAAATAAATTTATGTTAGACTCACACTCTTACCACCAGTTTTAGGACCACCAATTGATTAAAACAGTTAATTCTGTCGGAACATTTATTCATGTTTCTCCTCGACTACTCCGAGGTCTCTGGGGACCCGAGTTTTATTTACCTTGGCTGTAGTAATAATACCCCTTCCTCGAAAAACGTTTAGACTTAATCACTAATGTTTATACGATTCTCTGATTCTCCCGGATTACTCTTTTACGACGGACTAAAAATTGTCCACGTCAAGTCACAATTAATAACTAAGGTTGTAAAGCGATCTACTTCTCGTGGATACAAGATTTTCGTTTTACTCCTGAGGGTCGTCTTTCGGAAATCGGACGGGGACACCTCACGTCTACTGGTTTCACTAAAACAACATAGTGCGACTCGGCAAAGACCTCCCTTTTCCTTTACCTTAAAGTCACACACCCTGTTTTTGGATTTTATATAAAACGAAATGGTTTTTTTTTTTTTTTTTTTTTTTTTTTTTTTTTTCCGGTTTTCGCCGTCTCCCGGTGTGTAAACCTACGTCACACGACCGCACCAGGAGAGGAAAGACCAAGAGACCACCTCTTTCCGATACCGACATCCCACCCCGCCGGACCCTCCAACCGGGCGATCAACGTCTCCACCAGTCGGATCCAACTAGTTCCCGAAAAGTGTTGTCGTCACCGTAACTTGCAAGTAAAACCTCTACGGTCTTTGAGAATCTTTAAGGTGACTCAGGGTTCCCGAAGGCCCTGAACTTTTCCTTTCTGTGTAAAGAGTAGAGGACCCTTCCAAGGAAGTCAATGGATTCCGTAGTAGAAGCGATTACTACACAATTCGGTTGGGGTCCAGGACCTCAGTGACCTCGAGTTTCTCCGAGTAAGGGTGGACACCCGGAGGGGGTACCCCTCGAGGAACCGACCGATACCGGACGCAAACGGAGTCTCTCAGGAACAACCCCGGACTGGTTCCGTCTGAAACCCCTCTTACCAGGGACCACAACCCAAAAGAGAGACTATAAAAGAAGCAATGGATGCATCTGAATTTCTTTACACGGAGACCCAACCCGTGTCACCGTGACATTAGGGTGACGAAACCCTCCGACTCCGTCCTCCTAGTATACTCCGGTCCTCGTGTTCTGGTTGAATCCGTTGTATCACTCTGGGGGTAAAGACGTTTTTTAAATTTGGTAATCGACCCGCATCATCACGAGTGGACATCAGGGTCGATGAGTTCGTCGACTCCACCCTCCTAGCGAACTCGGGTCCTCAAACCCCGACGTCCCTCGACACTAATACGGAGACGTCAGGTCGGACCTACTATCTCCTTCTGAGACAGTTTTTTTTTTTTTTCTTTTTTTTCCATGGAAACGTGTAAACTGAAGTCCCTTGATATAACAATAAAAGTAAGGAGCCGTGAAGGAGTTTTCGTTTCTCTGGATTAACTTTGAGTCTCCCGGACTGTAGATTGACTAAGTAAGGACTGAGGACAGGTAAACGGTGAAACGAAATAAAATAAAAATAAAAAACTCTGACTCAAAACGAGAACAACGGGTCCGACCTCACGTTACCGTACTAGAGTCGTGTGACATTGGAGACGGAGGGCCCAAGTTCGCTAAAAGGACAGAGTCGGAGTGTTCATCGACCCTAATGTCCACGGGCGGTGGTGTGGGTCGATTGAAACATAAAAATCACCTCTACCCCAAAGTGGTACAACCAGTACGACCAGAGCTTGAGGACTGGAGTTCACCAGGTGGGAGGAACCGGAGACGCTCACGACCCTAATGTCCGTACTCGATGACGTGGGCAGGGTAAACGGTCAAATAAATTACTTCTTCGTTTTACAGTTCAAAAGGTTCTATGTAAAAAGGTCTTTCGTTTATGGACTTTTTGAAGAAGTTTGTTTACACACAATAAAGACGTTAAAAAGAAAAAGGAAATATTAAGACAAGTAAGGTATTTGATACTAACACGAAACCACCGGACAGGTAGAGTAAGAAAGATGGGCAAATACCTAACCCGTGGAGCCGTCGGTAGGGGACGTAATGTCGAACAAAACTTTACCGTACGTACACGCCGGATATTTCCCTCCTCCCTTCTGTTTTTTTCGTTTTGTTTCAGTTTCTCTTAATACTTTACACTGTCTTTCGAGTAAAAGTAAGTTTACTGGTTATCTTGATAAACCTTAAGCCGTCAAGTCAGAACAAATAGTTTCTTGGGTACGACTCGGTAGGAATCCACTAATTCTTAGTTTAATAATAAAAATTTCACGTACTCGTTTCAGAACGACCTACAATAATTATACACTAACTATATTATCATTTCCTGAACTTAGTATTGAGATAGAGGGATTAGTATGAATAAGGACCCGAAAACGCAGTCAGAACTGGTACCCGTTCAAAAAAGTCGAGAGACACGGGGTCTTAGGGAACGGAATTTTACCCTTCTAACCGACTTATTAGGACTAGGGAAGTCCGAGACTCTTGGTATTAAATTATCATAGTGGTAGCACATCGTAGTCGGTAAAGAGAAGAATTTGTTGTCGTGTCTAAAAAAAAAAAAAAAAAATTATTTCTCCAATGGAAGTACCGATCTATAAAGTGTCCCGAGTCCTGTCAATAACGTTAAATTACGTCTTTTCGTTCTTCGACCGACTCTATTAATTATCTGGTGGAGTTAAGAGTGGAGGAAGCATCCATTAATAAATCCGTATCCCCCAAGAATTTTTGGTAGAAAATACGGTGAAGCTTCACGGACGTATCTGGTTCTCTCTAGCGTCCTGTCTCCCGAGTAAGTTGCACTGACACTTTAACCGTGTCTTCGGGAGTCGCAACCCATAATGTCCCCAAGTCCAAGGGGACCTCGGGGAGTCGTCTCTCATTTCGTAATAACTCGTACTTGGTTCATATAAAGTCTAGATTCTTTTCTACTAAAAATTTTGAAAACAATATTAGTGATGATTTGACCAACAAAACTTCGTATCCAATTAATCTAAATGTAAAAGATCCAATCAATGAATCTACAGTAAAATTTCTGAAAAACTACTTTACAATACGAATTAGGTGTTCATACAAATCCCCCTCTTTAGTACTGATTACATGAATAGTCGTACAAATATGAAATACCTCTAAAAAAAAGTCACTTCTGTAAAGTCGAAATTAGGGTGTAGTTCGTCAGAAACTACTCCTGTGTCCATATACAAACATAATCGGTTGCAAATACCTGACGAGGGGACGCAGCACTGAATGGTCCACGGAGGGTACCTCGTTCAACGAGTCAGGAAGGTGTCGGGTTTCTCCGTCTGTGACAATAAAACGGGAAAATGTAAACTCCCGAACGGGATGGGGATGGAGTATCCACCGTGTCGACGGTAAACCTGGATGCACCAAAACGTGGTCTTAAATACGAGAACGATTTGACGAACGAAGTTTACATCAAGGCACAAAACATTTTTGTGACAACGACAACTTACTCTTTGTATTACTTTCATTACCGAGGGGTTTTCGTACGTTTCTAGATCGGGTACCATATGTCAACTCTCGTTTCAACCCCTATACTACGACAAGAAAGTTGAAGGTTCTGGAGACACCCAATAAATAAACAAACAAAAACTCTGTCTCAGGGAGATATAACGCGTCCGACCTCACGTCACCATGCTTGTACCGAGTCACGTCAGAACTGGAGGACCCAAGTTCACTAGGAGGACGGAGTCGGAGGACACATCGATCCTGGTGTCCACGTACCGTGGTGTAAACCGATTAAAAATTTAAAAAACATCTCTGCCCCAGAGTGAACCAACGGGTCTGACCGAAGCTTGTGCATTCGAGTTCACTAGGAGGGTGGAGTTGGAGGGTTTCATAACCTTAATGTCCGAACTCTGTGACACGGGTCGACCAATACTCCAAAAATGTAAATAACACCATTATATACGTATTGTATTTTAGATGGTAAATTCAGTAATAGTTCAAATCATCCGTAATTAATGTAAGTACCACAACACGTTGGTAGTGGTGATAAAAGTTTTGAAAAAGTAGAGAGGTTTGTCTTTGAAACATGGGTAATTCATCATTCATGAGTAAAGGGGAGGGGGTGACGTGGACCATTGGAGATTGGATGAAAAACACAGATACTTAAACGGATAAGACACATGGAATATATTCACTTTAGTCCTATAAAAAGGAAAACACAGACCGAATAAAGTGAATTGTTTTCAGGTAGGTATAACATCGTACTTAGTTTTGAAATAAGGAAAAATACCGACTTAATATAAGGTAACATACCTATATGGTGAAAAAAAAAAAAAAAAAAAATTCTGCCTCAAAGTGAGACAACGGGTCCGACCTCACGTCACCACGTTGGAACCGAGTGACGTTGGAGGCGGAGGGTCCAAGCTCGCTAAAAGGACGGAGTCGGAGGACTCATACCCTAATGTCCACGAGTGGTGGTACGGGCCGATTAAAAACATAAAAATCATCTCTGTCCCAAAGTGGTACAACCAGTCCGACCAGAGCTAGAGGACTTGAACGGTAGGTGGGTGGAGTCGGAGGGTTTCACGACCCTAATGTCCGTACTCGGTGACACGGGCCGGGGTGTAAAACAAATAGGTAAGTAGACTACTACTAGTGAACCCAACGAAGATGGAAAACCGATAACACTTATCGGTAACATCGTTAACCACATGTTCATAGACAGGGTCAGGAACGATATTCAAAGAGACCATATATGGATCCTCACCTTAACGTCCTGGTATACCGTAAACAGACAAAACGTTTTCGTTTTTACCCCTTCTAGCACTGTAAAAATTTCTCGATTCAAGTTGTCCGCCACCTACAGGACGGCGTCGGTGGAAACACTCGTGGCTGTTCGTTGCCCGGAGATTCTTTTGTACCGAACAACATTAAGTGAAGGGTGGAGGAGACCTCTCTAGGTCACCAACAAATGGCTCGTCTCCCTTCTCAAAGACGGTGACCAGGGCTCCTAGTCTAACGGGCCGGGACAAGAGACCTGTGGAGGACTTTTCGTTTGAAGAACATAGTTACAACCTCAAATTCGTAATTGTCCACAAACGGAGGTGTAGACGTACCACCACTCGTTGTCGTCCATGGAGACAGGAACTGTACGTTCCAATCAACCGTGTTTACGAAAGTCTTTCCTACCGAAGTTCAGGGGGTCCGTGGACGACTTTCACCCCCTGACCCTACCCTCTTATTCTAAAATACGTAAAAAACAAAAAACAAAACAAAACTCTGTCTCAGAGTGAGACAGTGGGTCCGACCTCATGTCACCGTACTAGAGTCGAGTGACGTCAGAGACAGAGGGCCCAAGTTCGCTAAGAGAACGGAGTCGGAGGACTCATCGACCCTAATGTCCGTGGACGATGGTACGGACTGATTAAAAATATAAAAATCATCTCTGTCTCAAAGTGGTACAACCGGTCCGACCGGAGCTTGAGGACAGGAGTTTACTAGACGGGCGGAGCCGGAGGGTTTCACGACCCTAATGTCCGCACTCGGTGACGTGGACCGTCTAAAAAACGTAAAATTACCGTTGAGTGGACAACTTACTTGACTAGACAAGTACCCCACCCACGGAGACACTTCCGGTCCTAATGTTCTCTAACGACAGAAGGACCCTTTTAACCCACGACTATGACCGCCCTCTTTCCGAACCCTTATAGAAAGACTATAGTGTACCTGTGTCGCAAGATGGACCGTGTCTTATTTTGAAACATAGTGGAAGACGTACAAATAAGACGAACAATAGCTTGTGGACTCATAAACCTTTACAGACCTAAAAAAACGTTACACCTTCCATTTATAGGTCCACTGTCGGACCCAGAAATTGGAAAGTGGGAAGTGGAAAGTGACGCCACAAAACCACAGTTGTTTGATTTAGATGTAAGGGTCAACAGTGGACTCCCATCGGACCCTAAATTATCCGTAAAACCCCCTTACTTCCATTGTCTTCTTAAGGCTTTTTGGACAGACCCGGTGGAACACAGAAACACACCTATCCCACACCTTACAAGTACCTTAGGCGAAGAACATAATATGAACCCTCAAATCCGGTAAAACGAAGTCAGACGAAACAAAGTTATAACTTTACAATAAAATTTTTTCAGAAATCACTTGTATCAAAACTTCAGGTACGAGAGGACAAGACAATGAACCGTCTACTTTTTATTACTACTTAAGGTGTTTCTAAACCGGTACTCGTCCTTTCTTTTTCTCAGCACGAACACAACCAACCACGTCTTAAAGAAGAGAGTGACCGAAAACACAAACAAAACGGTCTAGGTAACCAAGACGTCCCCCATCGATGATAACTTACTAATAGATTCCTAGACAAAATAATATGAAAAAACAACACACACAACTCTAAAGACAAACAAACTTTCCATCTTTATTCTTTTTTCATCCGTTATGGGTATTAGGGTGACGAATTAATATATTTCATGTAACGATTGTTAAACCATATAAAAGAAAGACTAAAATCGACACAAATATCAGTCCGAATATGAAAGTCAAAATATACGTAGAAATCCCACCATTTACACAGACGAAAAAAGAAAAAAAATTTATTTAACCTTAGTACTTAATTGACAAAAAGTAAATAGTTATTGACAAATTACTATGGAATGGTCCAGACTTGTATTATGAAGTAAGAAAAATACTGATATCTGATGCGACAAACTTACTTGAAAGGTAGTCAAGTATGTCCTACTTGATACGTAAGAATTACAGAGAGAGGAACTGTCAAAAAACGAGAATGTTCGTCACGAACTTCGTCGTCAAAACAAGTACACGGAACTTCATTAACACGATAAAAGACACCCGATCGAAAGATCTTCATCTTAATTGATCTAGTTTTTTTTACACACGACGATTAAAATTATCCATGGTCGTTCAATAAAATGTGTTTCCAAAAAGAGTTAAATACAAGGGTAAGAGTTAACCTTAGAAAATAAAGGGATGTGTAAGTGGTTCATGACTTATTGTAACTAGGAAGATTAAAAACAATTAGTCGACCACTTATTGTCACAGAGTAATAACAAAATTAAACGTAAAGGGCCTAGCAATTACTCCAATTCGTAGAAAAGTATACAAATAACCCATAAATGTAAGGGAGAAGAGACTTTCGTTTCTGCCACATACACGTAAACCGGATTGACCGTTTTCTTAACATCGTGACTTTTAGACTCCTTAAATCTTTGTGCGCAACATATATAATGCAGCCTTCTCACCAAAGAAATCCAAATAAGACTTAGAGGTATACCTTTATCTCATTACTTTTTTTTGGGGGTTTGAAACACGAAAACAAACGGTAGAAATATTTCAATTGATAACATCAAAGAATCGAACGATAATTCGTTGGTGATTAGTTACCATCCTATAGGGGATGTTTTCACAGGTCGTCAGGGTGACAACCACCTAAATTCTCGTAGGTAAACCTTTTACGATGTCGAGTATTTTAAACCCAGTTATTTAGTTTATGACCTCGTTACCACATTCTTTTATTTATAATTGTCGTGACGTACCCCGTTATAACTAGATCATGGTTCTAAAGACCTACCTGTCTTTGTGGGACAAACCATTAACACGAAGAGTAACATTTTTGTAAAAATATTTGCAATTGAATAATTATAAACATCACGTAGAGGTCCTTCATTTATAAGTCTCTCGTGCACGAGAACTTCTCCCTAGAACATACCTTACGGTACCGGGGTCACTCTCTGAACTCGACTGGTATAGGGGACCCCAATTTTTTTCCCTCGTCACTCGGTTCGACGTATACGGTTCTAAATTACACAGTCGGCTCAGTCCGCTACAGGGGAGGGACACGTCAAGTCCAAGTCGAGGTAAACCTTATGAGGTACACGGTTTAGACCTAGGTCCGTGTTCTTTCTGTAACTGTCAAACTTACCCCAGGTCTCTGTCCGTGATCGGCACTAATTCCCGAATACCCGTACTGTAAACTCGCCCCCGAGTTTCTTGACTTATAAATGTCGTCCCTATTTACGACCTAATGTACCGAACCACTGCACCCCTGGGCACCGATGTAGGGATTCAATGGACGGTGTACTGACCAAGGGGCATCCGTTTCTCTCTTAGTAAAGACAATGGGAACTCTCGAACTCCACTTCCCTCCCAGAGGAAAACCCAGACACCTGGAGTTCATTTTAGTTCCTCGAATATGGATACACAGGGTACGAGAATCGTATTGCTACGGCAACATCGTGGGTCCCTAGGTCCTAAATCCATCCCTTAAGAGTAACGCGACCTTCTAAATCGTAGGTATAGAGGAGGAGGAAGTCTTCTGTGTAAGACGTACCTTCCACGAATAGAGAGAATTCCCCTCTGCGCGATCGTACAACAGACCCAGGACAATGTTCAGATGCCGAGTTGGTTCTCGTCTTTCGCTCAGAAACAGTATGTCATTTCTGAGAGGTGACAGCTAGTCTACGGGCATCTAAGTAAAAAGACGGTCTGTAAAATGGACGCTGTCACTCCTAGTCAAAGGGTAGTGGTCGAGGTCCGACAATCTGAGACTTTGATGGAAGCATCAACAGCTACTGACGTCGTCGGGTCGTTTCACCGACTGGTCTTGATAGAATTGAGTGACGAACATGAGACAATTCCTCCTTCCTCCGGTTGGAAGTAGGTCACTAGGAAAGATTCTGACAGTCACTACTCGTCGCTGGAGCAAAATCTTGAGTCGTCGTCATGGAGGTGGGACGTCAGTACCGAACGTATCTTGACTCACCGACTGTACTTTTGGCACCGTGAGGTCACACGAGAAGCGTAGAGAATTGAGACAACCGTCCGATTAGTGACCGCGACGAAACGTTTCACCTGTCGACGAGACGGGAGGACAAAAATATCACCTCACCAATGCTCTACTAAAAGAAATAAGAGATCAAAGAATATAGTGAGTACACGAACGTCTACGAGACGGACATAAACAAAAAATGCACTAATTGGGTTTTTGTGAACGTTACGGGTCCCGTACCGAGTCTTCCAGTCAACTTTAAGGACTTTACTATCGATTCCAATCATCCGGAACTGACAAATAAAAAAGTAAAGCAAAGTGACCTCACGGAACAGGTTTTGTGGACATCTCTTACTGAACCTAAGTCTATCTTTATGATTTCGGAGTTTGGGACTTCTATGTTCTACAACGTAAAACACCATTCCTTTTGAGAGCGTTCAAACTTTTAAACTCAGATACCTTTATAAACTTTTCGTCCCCCTCTTGTATTCTTACCGCAGAGAAACACATAACTACCATGGAACCCATCCTCAGTGTTGTCGACTAAAAGTGTACACGACGAATAGAAACTTTTCAGAGTTCTTCAAACACTTGCCTGCCTATATGTTGAACTCAAAACATTCCTAAGTAACGGCGGTATAAACCTTAAGACCCATAAAGAGACTCCTTGTACATATAGATAAGTCGGTGTTGGTCTCTACCCTTCCCGTCTGACTACAAGGGTCGACTTTGAAGAACTCTGTAGGTCTGTTGTAGACTCTTGATACTCGGGGAATCCTCTTTACTTAATCGATGCCGTCGTGTCTCCCGAACCTCGTCACGGACCGTATATCATTTACGAGTGATATTTACAATCAAGATGTACCAAGACACTACGGTATCTCCGACTCCGAAGGATCACCTACCCGTTTGACCATCGAGCGGACGGGCACCGGTAACCATGGTCCGACCGACCACAAGTCCGAGGGACCGGTCAACCGGAGAGGATCTCCTCGGGAGTTTAGGTAATACCATTGTCTGGGTGCGACATGTGACGGCTTATGAGGACGTCTAGACTTATACAGTTATAAACGAAGTGTCCACAAGTGGTACTACTACTACTACCAAAAGTAAAGAGTGCTAAGAATTACTGTCAATAGTTAAATCTTAAATCCACTAAGAAGGTATGGAAAGAACGGAGGAAGTCGAAGAAAAATTTAGTTCTTTCGTGTCATGAACCATAAGACACGATCCTAACAATTTATTGGCGGAAACGAAACTAGAAAAGTCCATGCTTTGGTCGTGACCTCGGAGTAATACCTTTCACACCAGGGTAGACTGTTCCCTTTAATATGGACACATCACCTCTTACTTATGCCCAGGTAGTTAGTGTGCATGGTGGACCTACAACACCCACTCAAACGGAGAGGAGCACACCGCCGACGTATGGTCGGGTAAGAACGAACTGAGCAAACTTTCGTACTTGCAATTCAGGACAAAGAGGGTATTCAAAGTCCTCTTAACCAAGTAAGAATAAGAAAGATGATAGTAAAATGTTCCGACGAAGACAGTAGACTGTTATAAGACAAAAGGTCCGTCGGTCCCAAATACTCGAAACGTACTAGGAGTACCAAGGGTTCGCAGTAGACACATTTCACCTGCACCATACTTTACAGACTGTAAAACCTTCGACTCTAATGAGACTTTTACAATTAACCCGTCCACTTTTCCCATGTCTACACGACATCGTCTGGAAACCAAAATTTTCTCTTCGTAGTAAAGGGGTTGTCCCGTTGACATCTTCCGGTCGACTTCTCATTTCCTTTTCCAGACTCCTGACTCGGACACCGACCGACCTTTTTCCACTTACAACTCCCGGGAAGTGAAGGTAGTGTTCTTTCAGTAATCTGCCATGGTTAAGTCACAGACAAGGACCGTAGATAAAGGAGACACGTTTCCCTTGGTACATATACTCGAATATTTATGTAAAAACAGTCTCACGTGTCTATTCATCCGGTAAAATTAATTTGTAACTTCTGGTGGAGCGGACAACAGAACCTTTAAGTTCAAAGAAGGGTCCAAAACGGACACTACTACCCCGAAACAACATTGATTACTTCTTTCCTCCAAAGACACAGAACCTCCTAACGATTGTATACCTTGAGATGGGTTCTGTATGAAGTAACAACGTCCTACCGTCCAATTCTAGGGAAGGTACATCCCCGGTAGAAAAGAGAAAGGACAGTACACGGAACTGAAAGTTGGACGGTGGAACTCGGAAGAAAACCAAACAGGAGGGGATTTATGTCCAACGATAGAAGACGACATCTGAGTTGAGTCAAGTGTGAGTGCAAAACGGCATTACACTGACAACCATTAAGGTGTTCGGGTGTGGTGGGTGACACGGAGACATTTGCTTCACAGAGGATGTAGTATCGGACACGCACACACGGATCATAGTAGAGTACACACCCAGAGGAAGTTATTTTGTAGAAACTTCTCCCTCTGGGGCAATGTATAACCTTAACGGGTTTTTCGGTGATTTTTTTATTAGGTTTTCGAACTAATTGGTTTAACGTTTCTAAACCAATTAATTTTAAAATCCAATTGACTTTTCATTTGTTTTGATAAAACTAAAAGACAGTTCAATTTACCTTAACCTAGATGCTCTGTGAGACGGAATCTTTCGTACTATATTGGTAATGAAGGTAAACGTATATTCGTAAGTCCCTTTTATCACAAATAAGCTTCTAAACTCAAAACAAGAAGTCTTCGGAAGTACACTTTAAACTATCCAGGAACTTATTACAACTAGGATATCTATAAGTATTTTCTCACTCAAAATCTCGAGAAAGGGGTATCTCTTTTGTACACCGTACAAAGAATCACTCTTAATGGTACAAGTCTATAAAATGTTTTGTTTGTTTTTCTCTTCATTGTGAGTTTAAACTCTTCTTTTACTAATTGTAAACACAACCGTAACTATGTGACATTTAGGTAACTAGTTTCTCGTATACTGAACCGGAAATGGACCCAAGGACACACATGGCTTACACTGCATTTTGATAAAGATAAATCCCTTTCTCTCTAAAACCCGATTTACAAGATTTATGGATTAAAACTTTAATTCATTAAATAACACCCTTTTTTATTAACTCGATATCGTCAGAAAACCCTAATATCGAAACGTATCCAGATGTGTAGTAAGTAATCCGACCCGACCCCGGTAAGATCCGTAGCACCTCAGTCTACCGCCGGTGAGGCCAGACCCGAGAACGAATTTCGTTCAAAATCCAACTCAACAATACATTTTGTAAGTTTTCGGGGAGTGGGGTGGAGGGGAAACTCGAAAGACCGCCGAGTAGGGACACTTCGGGACTTTAGAGAGAATCTCAAATCCCAACCCTAAACTTAACCCGACGACTTATTACCTTAACACGACAGATTACAATTAGGGGACCGTTAGTCAGAACAACTTTTCTCGCATACTAAGTCACCACATTACATCTCTCTCGCACCTCACATACCTCATTACGTCTCTCTCCGGACTAATACAGTGTTTAAACCCTCTAGCGGGTCGATTTGTGCCCGGTTATTACTGTGTTACGACCAACCCTTATAGGTAATTTCGAGTTGAGGTTATTAAAAGGTTCGGAACTTGGAAGAAATATTTATCTTCGGTTTTCAGTCACCTCATTTTCCGTAAAAGTCATTTCTACCTTCACACTTTATGAGAGTAGAGACGAGTTTTGGGATCATTAACGAAACGCTTCGTGATTATTTTATTCTTAACTCAGTCGATTTCTCCGAGTATATCTGCATGTCCCAACCGTCAGTAAGACTTGTAGAGTCGTTCACCTTTGTTTTTCCTAAGTTCGAATTCGTCACTTAAAGACCATCGGGTGTCCGGGTTTACACTATGTGACGACACACTATTGTCGAAAAGTCGGTGGAGAGACAAAGTGTCTTTTAGTCTTTGGGAAAGGGTCACTTTCGCTTCAGGGTAAGAACGGGTGTAAGAAACCCCAAAATAAAAACAAAGATACTATGTATCTAACACCAAGTCTATAATACTTCGTAGTTCTACCCACTCTAGAAAAATAACTTTAAGAAGGAACCTTTCCGTAAGGGTATTCGTGAAATTACATTTTCGGCACATTAAATTCACTGTAAGAACACAAGATCTTAATTTGCCGTTCGGTAACAACACACATTCCCTTTACGAAAGTAAATACCCTCGGGAAAATCCTCGGACCGAACTAGGAGTAATTTTAACTGTGGTAATGAAAAGTCGATAAATGACGTTCCCTTTTAATCACACTACGAGGTGCAAAACCATTAACACCGCTATTATTTTACCCGAGGGGATTTCATCGACACCGAGGCCCTCCACCGCTCGGAAGTGGTAGCAAGTAGTAACTCACCATGGTCTCGGGACCTAAGACTGACTCCAGGACAGTGACACTTCGATGTTACGACCCTACTGAGTAACGTGAAAGGAACACAGGTTTTTACTTCCTTGACCTTGAGTACTTACAATCTTGTTTTTTTCGCCGAATACGGCACCTTACTTGTCGTCCAAACAGGCACCGGTATGGACCCCGGGGATCACTTAACCCTGTTTAATAAATCGAAAAGACTCCGAGACAAAATAGTAGTCATTTTAGCCTTACTACTATGAATGGAGTAAGGATACTACCAACATAATCCAAAGGATCCCATGGGGATTGTTTAATGATATTTGATTAACCGAATTTTGTTTTCTTTAGATAAGAGAATGTCAAGACCTCGGATTTTTAAGTTTTAATTCCACAACCGTTCAAGGTGCGGGGAGAGGGTCGAAGACCATCGACAGGAACCGAACATCTCCGTGGCGAGGTTAGAGACGGAGGTAGAAGTACATCAGTACAAGAGTGACACACAGAGTTTTAGAGGAAGACAGAAGGAGAACACTCCTGTGGACAGTGACCTAAATCCCGGGTGGCATTTAGGTCCTACTCGATTGGAACTATAAAAATTGAATTCATGAAAACGTTTCTGGAAAAAGAAGTTTATTCCAGTGTAAGGATCAAAGGTTCCGAATCCTGCACCTGCATGGAAGAGTTTCCAGTGGGAAGTCGAGTGATGTAATCAATGCTCCGTAGTCAACCCAATCGTCTACTTTTGTAGTCCGACCGTCCATCCACCGGTCGTTGTTTACGACCAAAGGAGGGAAGGTTTGGTCCTAAGAAAACTCCCAATCTTACCTAGAAATTATCGAAAATAATCAGAGTTAGTCTTCAGAATAATTTGTTTGTCTTACGGTAAAACCCCGACCCGTACCACCGAGTGTGGACATTGGATCGTGAACCCCTCCGGCTCCGCCCGTCTAGTGGATTCCAGTCGTCAATCTCTGGTCGGACCAGTTGTACCACTTTGGAGCAAAGATGATTTTTATGTTTTTAATCGGCCCACACCACCACCCGCGGACGTTAGGGTCGATGAGCCCTTCGACTCCATCCTCTTAACGAAATTGGACCCTCCACCTCCACCATCACTCGGTTCTAGTACGGTAACGTGAGGTCGGACCCGTCGTTCTCACTTTGAGGTAGAGTTTTTTCTTTTTTCTTTCGGCCCGCGCCACCGAGTGTGGACATTAGGGTCGTCAAACCCTCCGGCTCCGTCCGTCTAGTACTCCAGTCCTCAAGTTCTGGTCGGACTGGTTGTACCACTTTGGGGCAGAGATGGTTTTTATGTTTTTAATGGGTCCCCACCACCGTCCATGGACATTAGGGTCGATGAGTCCTCCGACTCCGTCCTCTTAGCGAACTTGCGTCCTCCGTCTCCAACGTCACTCGACTCTAACACGGTAACGTGAGGTCGGACCCGCTGTTTCACTCTGAGGCAGAGTTTTTTTTTTTTTTTTTTTTTTTTTCGGTAAAACCCTGGATGTCTGCACCGGTCTCCGACTGTAACTGTAAAGGACGACTCCAAAGGTGGAAACTAATTACGACAGTAGTTCCGGTAGGACTCTGACTAAACCGACAACCTGAACGTCCTCTCCCCACACCTCAAACTCCTGAACTTCAAGTACCTCAACCGAAGAAATGCGGGTGGGGAGGGGAGGGGGTGAAACGTCACCTCCTTCAAGTCCAAGTCGACCCCATTCACTAAACGATTCATTCCCGAACCTCGTCCGTAAGACCTCGACCCCGGAGGTAGACCCACAAGAGGTGCGGATAGACATACTTACGAGGAACGAGAGGTTCGCCTGAAGAAGTAAACTACAAGTGACACCACACAAAGTCATCACTGACGGTGTCGGGCTGAGATTCCTCCACGACGACAGTGGGGTGGGACGAAAGTCAAGAAACGACGTCTTCTGTCTTACACGCCCTCTTTCTACCCTGGAATTTTCTGATCAACGAGAAGGAGTGAGTACATCTGCTAAACCGAAACTTAGCACTTAATAACGAAGAAAACCCGTAAGGTCAAGACGTAAAGGTCTCTGGGAGTCCATACAGTTCGAAAAACGGACCGTAAACTATAAAACCCCCGTTTCATGTCACCTTCACCTTTACCACGGAGACCAAAACAGTTCCGGTCTATACAGAAGAGAGGTGAGGAACACAAAAAACTCTGTCTCAGAACGAAACAACGGGTCCGACCTCATGTCACCGTACTAGAACCGAGTAACTTTGGAGACGGAGGGTCCAAGTTCACTAAGAGGACGGAGACAGAGGACTTATCAACCCTAATATCCGTACACGGTGGTACGGGTCGATCAAAAACATCAAAAATCATCTCTACCCCAAAGTGGTACAACCGGTCCGACCAGAGCTTGTGGACCGGACCTCACTAGGCGGGCGGAGCCGGAGGGTTTCACGGTTCTAATGTCCGTACTCGGTGGCACGGGCCAGAAAATAGTCAAATTGAAAGGTCTTTAAACAAGGGGGACGGACAGGCGTAGGGAAGTTTACTTTCGACATTCGTCGTCCGTCAACAACAAACCCCCGGGTAGTCTCCGGCGTACAGTGAAGACCTACCCAGTCCGTAGTGATGGTCGGGACTGAACTACCGCCGTCTAGTCGTACCGTGACAGTTGATCGGGAACTGTATTTAGACAACATTGAGTCGGGGTCTGTACTATCCTGTGTCGGACTTTCGCGTGTCCTTAGGCATGGTCTCGCTTCAGGGGGGAGTCCACACACAAGTTCTTACTTCGCAGAAAATAAGGTTCGTGACTGACTATTCGAGCTTACACCTCAACTGTGGACCTTCCCTCAAAACCCTCGAAAACCGTCGGGTAGGGGTCACCTTCTTCCTCCTTACCGACTTTAACAACTGACGAACCCCGTCGGAGACAGGGTCCTTCTGTTTCCGAGGTCACACTATCGACTCGACCCCGGTCCCCTGCCTCCGTGCCGCCTCAGGGAGTTTGGTGTCGACCTCACACTTCAAACCTGACAGAGGACCCAACCCTTGTTTCATCACCAATTCATTTACTTCTTCGCCACCGGATCAATTAATTAATTGGACAATTAAGTAATGACTTCGACAGTTCTAAGTCAGTAAGGACGAGTGAACGAGCACTACCTTCCGACGTAGAGTCAGAGCCGAAGGTAGTGTGACACCGAAGACCTACCTTAAAAACAAAGACACACACTATTCCTCACCGACACCACCGTAGTAAATTTACTGTACTAAGACGTGCAGGTCTCTGCAATCCTATAACTTTCGGACTGGTAATGGAAAATCCAACAGTACGAACATGGACAAGGACCGTGTTCCAGAGCCGAGGCATCTCGGGACACCCCAAGACTTGAACTTCGGAGAACTGAATCTCCGAAGGACCGGTCCCGAGTAAACTAAAAGGTATGAGGACTGAAACGACGGTCACTTAAGAAAAGGTAAAGAACGAGACTCACATTCTGAACCACAGGATGGGACTGTGCCCGAGACGTACGGTCGAGATCTCAACGCTTTAGAGTGGCCTCCCCCCGTCTTTCGGGGAGACAACTCTTCCCTAACCCCACCGCACGGTCCATTACCCAGTGTCGCTGTCGGAAAGATTCACCCGAATAAATCAACTGTCTAGTGCCTTGGCCTCGCCTCAACTCCTCCTTCGTGGAAGGAAAACGGCGAAAGCACAGGGGTCGTCGGTAGAGTAGGACAAGAATATTTGGTAGCGACAGTGTCTGTTGGGGATTCCCAGAGATGAGACACGGTCTACGGGAGAGACCTCCAAGTCCACCTTTAATGCACCTCTCCCCACAGTTCAAGACAAAGGTGGGAACGATTGAGATACCGGAATCTTTTCCGTACCTTGGAGACTCGGAGTCAAAGGAACGGACATTTTACCCCACTACTGACAAAGGAACATCGTGATACCCCTCCTCCTCCACCATCCTCTCCGTCGCGAAAATTTATTATCATGGTACGTTGACAATCAGCAATAACACGCAACCAGGGTATGAAGGAGAACGTAGAGGTCTGTCTCGGCACGTGGGACTCGGGTAGGACTACTTTCCTCCCCAGTCAGGACAGGAAAGGAGGTCCTATCTCTAAAGTTTTGAAGGAAACCATCGATGACAAATTACTCGAAAACTAACGATGTTTCGTCGAAAAGTAAGGACAAAGTGTTGTCCCTAGGGCCCCCCGTTTCCGACCAATCACCGTCGATCTAGTGAGGTTTGCATGACTGACCGTTTATGTCTGAGAGGGCGTCTTGACTGGGGTCGTTCTTCGGAAACCCTCGTCCACCATAAGACGCCCACGGTCGAGGGACCCCACCCTCGTCCGTGTGCGGTCGGACCTACCCCGTACCATCTTGAGACGCTACAGTCGAAAAAACAGTGTAAGAGACGTCCGATGGGCAACAGGAAACGGGGTGGTAACTCCTTCCTTCGGAATAACTAACGAAAGCTAAGAACGTCCCCCGGACCCACTCCACCGACCTCTCTCCCGATTATAAACCAGACCGTAAATTAGAACCGTAAAGTAAATACCACACCCGTTTCTCCTACATCTTCACAATTTTAGTTCAATTATAGAATGTCAAAATACATTCTTCTCCAATGGACCTCTAAGTCCACTCCTACCCCGTCTCTCTTTCGACGAAGACAGTCTCGAACCCGTTTATTTGAACGGTACTTTACAGTTAAATCACTACCGTCATTCTCACACGTCATTACACGACCTTGAATCGCTCCAAAGATAGTCGCACACGACTTAACTTTATTAGTTTTTTGTCAAATTATTCAACGAATATAAACCTCAAAACACCAAGAATTGTAACGTTTAAGACTTCGTTCTTTAATCTCAAAGAGAGATTTGAGTAAATGAGTACACCGAAATAGTTGCCGACGGAAACATTTGGCTTTCTGGAGTCAACCCTTCAAAATACTCTGCCTCAGAACAAGACAACGTGTCCGACCTCCCGTCACCGTACTAGAACCGGGTGACGTTGGAGGCAGAGGACCCAAGTTCACTAAGAGGACGGAGTCGGAGGACCATCGACCCTAATATCCGCCTGTAGTAGTACGGACCGATTAAAAACATAAAAATCATCTCTACCTCAAAGTGATACAACGGGTCCGATCGGAACTTGAGGACTGGAGTCTACTAGACGGGCGCGTCCGGAGGGCTTCACGACCCTAATGTCCGTACTCGGTGGCGTGGACCGGACGGTTGAGAACAATTCTACACTCACACCTTACGACACACAAGAAGGGGAAAATTTTCTACACAGACAACCAAACGAAAGTGCCTAAGGGAGAGGGAATCCTCTGGGCCGACAACATAAGTACCAGAAGTACGAACCAAACAAAAGTGTCAGTCTCTTCCATCCTACGACATCCCAAGATGGATGTCCATCCTACACGAGGAATGAATCTCTAAACCTTCCCACCGTAGTCTCTTGGTGACACGCAGAAAGTACTATCGACCAGTTTACACCCACAGACACCCTTTATCTACCGGTTCCCACAGCCACAACGACACCCCTCCAACAAGACAAAGGAGAAGACTCTTCTCTGTCTACTCCGCTACTCCGTTACCCTCGGAGTAACGAAACCGAACCTCCCTCTTTTATCTCGTCTCGAGAGATCGACCCTAAAACACATAAACGACTCAACGTCACCAATTAAGAGATAGGAACTTCGTGCACCGTGCGAGTGCGTCGGAAATACACCAGCTCTCCCACTGTCAGTGAACTTACTCCATATTCCGAAACGGGAGTACCTCAAGGAGTCCAGTGTAAAACTCCAGCTTCTGGTATTTAACCCTACCTTTAAAGATCTAGAACTACCTTGAGGTTGAAAAAGAGAGAAAGAGTTTCGGAGACCTAATGTCCTAAGAGAGTTTGTTCCGACCGTCCTTAAGACAGGTAGGGTTTATTCATACGTTTAGATGTCCAGTTTACCACGGGGTCTGTATAAGGGGTGACCTAGTCCCTCTAACACCAGAAAACTCTCTGTTTGTAACTTATAATAAGATCATCCTAGAAAACCTTTAATACGAGATAATCTTTTTCCTTGAAAAGTAAAATGACCAAGTCACATGTGAGACCTGACTTTGACTTTCCATTTCCTGAATCGGGAAATTTAAAATGTAAAACCGGCCCACACGACCGAGTGCGGACTTTAGGGTCATGAAACTCTCCGACTCCGTCCACCTAGTAAACTCTAGTCCTCAAACTCTGGTCGGACCGGTTGTACCATTTTTGGGTAGAGATGATTTTTTATGTTTTTAATCGGTCCGCACCACAACACACGGACATTAGGGTCGATGAGCCCTCCGACTCCGTCCTCTTAGTGAACTTGCACCCTCCGCCTCCAACGTCACTCGACTCTAACACGGTGACGTGAGGTCTGACCCACTGTCTCACTCTGAGGAAGAGTTTTTGTTTGTTTTTTTTAATTTTATAATTTTTAATCGGTCCGCAGTACCACGTGTGGACATCAGGGTCAATAAGATCTCCGACTCCGTCCTCTTAACGAACATGGGCCCTCCGTCTCCAAGGTCACTCGACTCTAACACGGTAACGTGAGGTCGGACCCGTTGTCTCGCTCTGAGGTAGAGTTTTATTTATTTATTTAAAATGTAAAACCTGACTTTTTTGTTTTGGTAAGACATACACTCTGAGAGTGGCTCACAAGTATCCCTCCCTGACCCCGACCCCGGACTGAACTCCGAAGGGTAGACCGAACCTGTCACTCTTCTCGTCACCGCAAACCTAACTTCCGAAAACACTAGACCCACTGATAAAACTTCAAAGAGAAATCCAGTACGACATGAATCTTCATAGATCTTGGCACTAATAAAAGTCAAAGACTCAAAGTAGAGGTTCTTTTGTTTACCCTAAATAACAAGTCGGAGAGTACAATAAGGATAGTTTCCCTCCGTAAAGAACAAACGAGTCTACCCGACTTTCGAAAATGAAGACGAGCTTGGCGGGATCCTCGTTTTGTTCCGTACACTCTCTCTACTCGTACTATCTAAAAGATCTGAAGAGATCTTCTTTCCGAAAAATCTACCACTTCCAACTACTTTGGACGGTCGTAAAAATGTTACCTGTAGGGAGATACAGACGTGTAGAGTTAGAGGAAGTAAGAATGATCACCGGTTATACGAGAAGAAAGTGCCTACATCATGTTAAGCAAATTAGTATAATTTGTTATACTAACAACACGTCTAGAAAACAAAAGGTCATTTTTTTTGGGATGTCGCTGTTCGAAACAGGTGTGAATAAATCACCCGTAGACACACTTATAAAAAGATCCTGTCTAAACATTTCCAACCAATTGACCTAGTAAAAACTATCTAAAGTCAGTTTGTAAAATTTCGATTCCCCGGAATGAATGAACCTCACCAACGACAGAAACTGCCTCCCGAGGGGACACCAAACCAAAAATCGAAGAAACGTTTAGTAAACTCTCTTCTATGAGATTAACCCTCAAGTGGGTAACATTATTCTCCCATATGGATTAAGGACCTGTAATTTTTTCTTGTTTGAAAAGGTCGAGCTTCCTTTGTAAAAGAAGGGGACTTCCTTTGGGTCGATACGTCTGTGGTCGACTATTAGAACGTAAGGACTTTCTACAACGTGGGGATACCGTTCACCGCCGACGACTCCGAGACTGCACTGAGGGTCCGTACTTGCGAGAGTCGACACAAATGGAGTCGAGGAGCCCTCCCTCGGACCCTCTGACTGCGGACTCAAAATGTAGTCACAGTTTTGGGTTCGTGTTGGATCCCTCCCTGGAGGACGGATCACACACACCCAGTCCTCTATCTTTTCGAGAGTGACTCATTTGACCTGTTCCAGTTATATGGAGCGACTAACTCTTCCATCCAAAAGGTACTGGGATCTTTAACTAGAACAAGTGAGACTCTATAACAGTGGAAACAATACAGAGGAAAAATTTTTTTTTAACACCATTTTATATGTATTGTATTTTATATGGAGACATTGGTAAAAACTTACACATTAAGTAAATGTAATTCATGTAAGTTAAACAAAACGTTAATAGTAATAACAAGTAGAGGTCCTGAAAAGGTAGTAGGGGTTTGGTACTGAGGAAAATCGTTTTCTCTGGTTAAAGCTTGCATTTAAACCGTATTATTGAGAGACCAATGGTTTCTTAGAAGTCAAGACCACTTTGAAAAACTTCCGTCTCTCGAGTCTCACAGAATTTGTGAACCCCACATTTATTGTGTGTCGGGATGAGGACATTAAGCGGGTTCTTCTGGGTTTAACTATGGGTCGACCATCTTCGGTGAGTTGGGGTTCGGTTTATTATGTCGGACATTGTAATTAATCCCTTCCATGATTATTATGTCGGACATTGTAATTAATCCCTTCCATGAAACGGAGGTGGACGAAACCAGAAGGGTCCGGGACTCGGGTCGGTCGTGAAATGAGAGAAGAAGTGAAGTAGCTCGTTCGTGTTTCCGTAATCACCACAAAACGAAGATCGTAAAGTGTCCCACGTCGGAGGTATTCAGTGAAACACTGAAATCACGACCTCCCTCCTGTGAAGTAAAAATGGGTTTGTTCAAACAAGGCGTCTGAAGTGAGAGAGACGTTTCTCTGCACACACAAAATCTCCTTCACCCTCGGGGTCGGCTAAGACGTTCTGAAGGCTCTCAGTCTATAGGTCTGTCTTCTACGCCTGTGGACCCACTGGTCTGTCGCTTCTCCTTTCTTGTTTTGCTCGTACACGGTTCGGACACTCCCTCTTTCCCGTTGTTTGGTCACTGGAAGGTGTCTTTACACAAATTTGTTTTGTTTTGTCCACTAAGACCCACGGGTCGTAGGGTCGGGTGAGTAGATAAGATCCTCCACTGTTCGGTTCTATGACCGACACCCGTGGACCCGAGAAAGACTTCCACCAGAAGGACCGGCAGTATCGCAAGGGAAAAAGACGATTAGTAAAAATCAAGACTGGAAGGAAACACGACTAGAAGTCTTCGACCTCTTTCGAAGCATAAAGACCCTTTTGTTTTGTTTTGAGTCTTGGGTTGCTCTAAATCGGACAGTCCGAACTCACGCAATCCACCTCAGAACTGTTCCGTTACTTGAGTAAGATGATTAACATTAATCGCACCCCGGAAATCGTTCAAGACCCGAGGAGTCTGAAGTCTCTCGAAACTAGCCGGAGGAGGAGGAGGATTATTGGTACGGAGTACGATTGACCAAATCACGCAAAAATACGTTGTTTTCGTTGGTGGCGGATGAGAAATCTTTTTTCGATCCGTCCGAAATCTTTTTCTTAAGAGTCAACAAAAGTGAACAGGAGGTTTAGCGTCTTACAAGAAAGGGAAAAGTCGAGAAACCGCAACGATTCTCTGACGGTAAAACCTCCTTTCCATTAATTTAAAACTAAAATTAAATTTCTGTCTCGTTCGCTCCAATAGGTGCGAGGAATGTACTTACCCCCGGACTCTCGTCCTCTGACCGACAAAGGTCTAGTTATGACCCTTGAGGCACACTAAGCTCAGAGAACCACACACTGACGGCCTCTCTCCACCGAAACTTTACCGAGAAACACCGTTCATGACGGATTGAAAACCCCTCTTTACGAGTCCTCTGGTCACACTCGACCCTTTGGTCGGTGAGACACGAACTAATTAAATATCCACATTAAATTCTCGGACCAAGAGGAAGACTAGGGGCCCTACGTACAAATGACTCGGACATCTGTACTCCGGAGAGCCGAGCCACCTGTAAAAAATACCGGAAACGATACAGTCTCGTTTTCAACATCTAGAGAATACTCGTTTGTATAATGATACAGGTCTCCTCCTGACCGTACAATATTTTAAAGTTACCAGTTAATTGTTTCTAAATAAGAAACAGTGAGTCCATAAAAAAAGGAGAGAGAGAGAGAGAGAGAGAGGGAGTTATTACTGGAGAACCTTCCTTCGTCCGACACGAAAGGACGACGTCAGAAATCCACCCAATACCGAGGGTCGATGTCTCGTCCCGAACTGTCTCGGGTAGGACTATAAAGTTAAGAATCGTCGACCCGAAAGACGAAATCATCTCACCTGTGAACTTCTTTCCCCCGCTCTGGCTCTCACTCTCTCTCTCTTGCGACCCTCTCTTACATAAAAAATTTCGTGAAGTCGGACACAAATGATGCGCAAATAAACCACCTTGGAGTAAGGTCGTCACGTCGGTTGACAGGGCCGTCGTCACCGGCGTGGGAAACCTGACGAAAGGTAAGGCAGAATTAAACCTTAAGTGTGTCGGTGGAAGGTTAGTGAGAAAACTTCCAAGAGTAGAACAAGGTCCAGGTACGTGACACGTAAACGTTGGACGACTTGGAGTCTTGCAGATAAGAATATACACATATATACATTAATTTTAATGTCATTTGTCTCCTCGATGAGTAGTCGGATAAAAGGTACACAAATAGAGTGAGGGAAACATTTTTCCTTTTAGACAAAATATATTATAGACTCTCAATTTGTACGATCTTCTCTTAGAACGGATTTTGACATTTAGGAAGGACAGGAAGGACCACCTCTTCTACACTAAAAACAATAGTGTATCTTCTTCTCTACTTGATCGTGACCCGAAATCAGAGAGCGGGTCTCTATTATGTAGTCCCCTAAGAAAAATATAGTCAAACAACGTTTTTTCAACGTTTGAACTCCCCAAACCAAACGGGTCCCTGGCCCCTCCAAGGACCACCCCTCTTGTGTACTCGAGAAACCCAGTAGCAGGGGAAACAGAGACGGCATCACGGGCGACCCGGTCCGGTGCTTCCCCCGGGGGTGAGACGGGTCGGACGTAGGAGCAGGTGGTAGACGTGGGACGGTAGTGGAGCCAAAAAGTCTTCAATCCTTTCCTCAGGTCCGCGACAGTAGGTGAATGACAAGTGACAAAGACTCCAAGAATCCCTAAGGCTCCCCACCACCTAGCGACTTCCCAAGCTCTCCTCCTCGCGTCGCAAGCCGTCTACGACCGTAGGACCCGGGAAAAGGTTCTGCAGGTCCGGAGGAGGAGGCTGAACAAATTCCCGTCTCTTATTCCAACGTTTCCTTTAGTTTCGGACTACACCTCTTTACTTTGTACTCTGGATGACTGAAAAATTTTTGTAAAATTTATTGTAAGAGATTCCAAAGTAAAATATGACTTCCGTCGACATTATTCAAACCTTCTGTCACATTCCAAAGATAATGTCTTGTTAGGACGAACGTCAAAAAGATGGTCTTCACTCTTTCCCGCCTCCCCCTCACCTCCACCAATTCTCCAATAAAACATATTCCACTCTTTTAAACTTTTCTACTTAAGTTCTGACGTTCGCACATTGTAAACCATACGACATTAAACGTTTACGTTATTGTAATTTGGTAACGTTTGAACCCCACACACACACACACACACACACACACACACACACACACACACACATATGTATCGGCCCTATCGTAACCTTATTGAATTATTGACCTCGAGTCGTCGTGAAACTGGTGTTCCTTTTGTTCTGACGTCGAGACATCACCCGGGACGGTCACAACGGAGTCACTGATTTAAGGGACGGCTTCGGACCGCGTCCGGTCTCTACAGTCCGCCCTACTTTCGTGAGTAACAAGTGCCCCGTAGTACCAAACCATGACGTACGTGTTACAAATGAACACTTTGCTAAATAATCTTTGTTTATACAAATTCTTTCTCCTGAACCAAACTTTGAGTCAACTAGACCGAATACTGTAAATTCTAAAATACTGGAAACAAAGATTCTTATCTACACATCCGGGTGACATTTATAAATAGAATTTTGCGTGGGTGTGATGTGTGTGTGTACGTACATGTTCACGTTTTGACCTTTTGCCTCGGTCCCGTACTTAACTATGATTTCAAGTGTAAAGACACACTTCCTTATTTGGAAGAATGATAAACGATCCACGTATCCTCGTATCAAACACTGGAACAGACCGTCCTAGATCGGGTCTCCTGTCGAAGGGGAGCACGACACTTCAGAGAACCATCCTCCGGACCCCTCCTCTCCTCGCACACAGACAAGCACGCGCCTGAATTGAGACGGGAAGGGTGTACCTACTCCGGTCGACCCTAATTTAGTCTGGAGCCAGTGACGGGCGACACCTGTCCAGGGACCCCACAGGTCGGTCGACGATCCGGACTGGTCCTCCGAACGACCCCGGGTAGGGACCCAGTAACATACTCGGTCTCTCGTTCCCAAAGTGGACTGCAGACTTCCCCGGGTCGAAACTCTAAAAGACGGGTGGTTGTGGTCTTCAGAATTGAAGTCCAAGAAACGAGTCGGATGTACCCGTTATATCCCCGTCTACTTACTAAAGAAACGCCGAGGTCATAGGAATAGAAATATTACACTTTTGTATCTACAGACATTTCACTACCCTCTAAGACCTTACTTTACACGATTCTCATTGGTGATCGTGAAAAAGAAAGAAAAATTTCTGGTCGTTGTCCGAATACGTCATTTCAGTTAAACGTGTACCAGACCGAGAACAGGTTGTTTAAGGTGATCTACTACAAAATTAGACTTTCCAGGTTACTACATCTATAGATAACAAGATTAAACGACAAAGGTCGGGTCACGTACCACTAAGAGTCCATGTCACGTCTCTGTAGGAACCACACGACTCGACCGACTCAAGAGGAGTAAAGGGAGTCAACAAAAAATTGTGACCTCCAATCCCATCACCATGGGTGTGGATCCCCTCCTTCTCTCCCTCCTCCGACCATTCACGTCCGGACAACCCTACCTCAACATAAGTACATACCTGTGTACTAACACAAAACACACCGAAAACTGTCTAGACACATCCTTCCAAGGTCATTCAAACATGCTGTTCTAGTCCATCGTCAGACCACCAGACCACCAATAAATTAAGAAAAATAAAATAAAGTAAAATAACAACGTTCTTACGATTCGTACTCTTGATGGTAGAGTGGATTCAAAAAAAAGAAAAGATTCTGCCCCAGAGTGAGACAACGGGTCCGACCTCACGTTACCGTACTAGCACCGAGTGACGTCGGAGTTGAAGGACCCGAGTTCGGTAAGAGAGTGGAGTCAGGGTTCATGGACCCTGATGTCCGTACGTGGTGGTACAGACCGATTGAAAACATAATAAACATCTCTATCCCTAGAACGATACAACGGGTCCGACCAGGGTGTGAGGACCGGAGTTCGTTAGGAGGACGCAGTCGGAAGTTTCAAGACCCTAATACGAGTTTCCGTACTTGGTGACGCGGACCAGAAGTTGATTCAAAAGTCACATGTTATGCAACAACAACTGATATCCGTGCTACGACACGTCGTCCAGAGATCTCAAACGAGTAGAACGAAATGACTTTGAAATACGGAGAACTAACGTTGAGTGGTAAAGGAAGGGACAGGGTCGGGGACCGTTGGTGGCAAGGCGAGAAACTAAAATACTTACGCTACTTAAATCTATGGAGTATAGTCACCTCAGTCCGTCACAGACAGAAAGACACTGATAGGACAAAGTGAATCGTAGTACCGAAGGTGCAACAGTGTATAACGTGGTAAAGGAGGAAGAAGTACCGACTTATCATAAGGCAACACATATATCGGTGTAACATTTTTAATTAGGAAACCGTCTGTGAATCTAACTAAGGTAAAGAACCGATAACAATTACCACGACGTTAATTATATCCTCACGTCTAGGACTAACGTCAAGAAAATCTATTTATCTCTTCACCCTAACGTCCTAGAATCCCATCAAGACAAAAATTAAAAAACTCCTTGGAGGTATAACAAAAGGTACCACCGACGTAGTAAAATATAAGGGTGGTTGTCACGCGTCCCCAAGGTCACAGAGGTGTAGGAACGGCTGTGAACAGAAAAAAAAAAAAAGAAGGGTAGGACTGTCCACAGTACACTATCGAGGAACACCAAAACTAAACCTTGCGCGGGCTAGAGCAGACTAAACGTAAAGAGATTACTAATCACTGTAACTCTTTGAAAAGTATGTGGATCACCGGTAAACACAGAACCTCTTTACGTATCAATTCAGGAATCGGGTAAAAAGGTACCCATAATGAATTGTGAACTCCTCAGAGTACACACCAACGATCGTGTGGAACCGAACTAACAGAGGTGTTTTCAAAACGTCTCTGGCGGAGAATCGACCTCTCTTCGGAAAGGTCCGTATTCTACTCTCCCACATAAGAAACAACTCTTGCACAAGAGCTTCCTCTCTCTCCGTTCTGTTCACTTCGATCCTTCATTAAAACCCTATGGTAGAGACGGGAAAATATCCCGTCAGATTTTGTATCGGTCCTCAACCTTTGGTCGTAGAGGAATACAAAGTAAGTCACGGTATAACCTTATTCGATTCTTTGTAGATGAACACGTAAATCATTGACCGTATCTCATTGTGGACTATAAGTAGTTTCTCGATTTACCCACTTATTTCTTACTTACTTACCTCACTTAAGGTGTTATTTCTCCACTTAGGGTAATAATTAGTTTAGACAAGTATTGAAACCCGAAATCCGAAATCAAATTAAAAATTTTGTTTCCAACCTTCAGAAGAGTCTCGTAGAATCTTTACATGACCTCGGCTCGCACCACCGAGTGCAGACATTAGGGTCGTTAAACCCTCCGGTTCCGTCCACCTAGCGAACTCGTATCCTCAAACTCTGGTCGGGTCCGTTGTACTACTTTAGGAGAAAGATATTTTGTAAACTTTCAGTCGACCCGCACCACCGCCAACGGACATCAGGGTCGATGAGTCCTCCGACTCCAACCTCTTAGTGGACTCGGACCCTCCGACTCCGACGTCACTCGGCACTAGTACGGTGACGTGAGGTCGGACCCGTTACTTCACTCTGGGGCAGACTCTTTTCTTTTTTTTTACATAACCCTCTGTACACGGATAACTTTGGTAAAAACCATAAGTCTCACAGAAATTTCAATCAGAACAGTAAACGGACACTACAATTCGAACACCAACTCCACTCAAAAACTCTAATAGAGTTTATCCTATTCACTTCTTCGAAGGGAGGGGATGGTAAACAGTGAATCTAACAGTCTCATCTTAAAGAAGGGCATAAGTAGTCCACCGTCACCTGTCGGTTATTGGACCCTACATTATTCAAGAAAAGAGTTAAAAGATTCATTCACAAGAAAAATGTTCCCAGCGCGAGGCCGTCAGAGGAAACTTCAGCAAAGACAATAAGTACCCCGGTGTCACAATAAAGTTTCCACAGTCGGTCGTCCGAACTCCGAAAAGACCGTACTCCAGTGACTGTCGGGAGACCTGTTGTGTCGAATAAATAACCAGAGAGTAAGAGGGTAGGGGTGAGGAGGAAAGAAGGGAGAGAGGTGGTCTCGCTAGCGGAGTGGCCGGGTAGGAGGTTCGGCCTGACGGCCGTTTACGGAGGTGTCACCAGCCTCCTCTGCATCTCAAACAGACGTTCCAAATGTCACTACGGGTCGGGGTGTAGGTCACCTAGTTCGTGCACCTTTTCTTGCCGTCATTTATGCCCGGGCTGCCCGACGGGATGGAGTTCCAAGAGTTCCACTCCTGAAAGACTTAGATTTCCATGGGTGTTGACCCCAGAGGAAGTACCCAAACCGGTGTCCAAGAAACTAAAGGACAACCTCAACTCTCTCCTACTAAGAGAAAAAACTGATCGGTCGTCTCTCACAAGATTCCTTAATTGTCTAGTAATGTGAACGATCATCTTAAAGTCTTCCCTTGATACCTCATCCCCTTCTTGATGATTTGAACCCCTTCTTGATGATTTGAACCTCTCTCTTATCAAGTCGATAAATAGTCGGGACTCTAGCGTCTGTAAATCCGAATCGACGCGGAGATATTTTCATCTCTAGCACTATGAGACAGGGGGTATCCCGCCAACACGTCTTATTTACCCTACCTCACCTACCTTTCTCGAAACATCCGAGTTCCGTAACACGGTCACAACTAACAATGAGACTACAACAAAAGATAATTATCCTGTAATCCTAGGTTAAAATCATCGGTGCAAAATCTTTGTTAAACCTAAAAAAAAAATTGTTTTTGTTTTGTTTTGTTTTGGGACTGGAAACTTTAGGTAAGTCTCCACTAAATCTGTTATTTGAGATCCAGTATAAAGACGTGGTCACTTTACAACTTGTTCCTTTTATAGAAAGGGAGGAATAAAGAATAAACGTTCGGGGGTAAAAGTATCGTAGACGGAGAAAAAATCTAGATCCAAACGAGAAGTCCTCTGACTCCTGTCCCCGTCGATTCAGACATGTCGACCGAGAATTGAGGAACGGATGGTGCGGAGGGTACAGATCAACGAGTACCTCTTACTTACAGGAATTCTTCTTGTAAGAAGGTCATCTTGGTATCCACTGGGTCGATTCTTGAAAGTCGGTTACTTCACAAGAGTGGTCGATTATTAAGGTTCCTAGTTTCCGTAACCCTTTTCTACTGGTTGGACCCCTGGGTGGGCTGGATAGGTCAATCGATAGCGAGTGTGGGAGGACGGGAAGAGAGGTGGTCCAGAAAGGCAACAGGTGGTGACCTGACTAAAACAAGAAATTTTAGGCGTCGGGAAATTACGGCGACAAATCTGCATTACCTCAAACAAAAGAACGCCACACAACCACCACCCTGGTATCTGTTACGATTCTGGAAGGACCAACCGGCAATATAACAAGAGGACACAGACAAGATCGTGAGCCCCTATTTATCAAGGTTACGTCTTCACGACCGAGACAAGTTACACTGGCTCCGCCTACGACCCCTTATATATACATTCCAGAGGTTAATATATCCCGTCCGGTTGGTCAGACGGACCGAGTGACAGGACGGTTTTGTCGTTCCATTGTTACGAAAGTAAAAACAGAAAAAAATTTTTCTTTCGACCTATATCTTCGACTTTTCTGAACCACGAAACCCTCTGACGTCCGTCGAATATCCTATTGAGAACACCGGAACCATATAAATATTATTAGAAAGAAGCCACTACGTCGACCATACTACGGTCATCGGTACCTTTTTACGGGTGTTGCAAGTTTCACGAACGAGGTTAAAGAAGATCTCTAATCGGAGGTGGGGGTGGGTCAAAAATTCAACAAGGAAGACCAACTAGAACAAATCCGACGTGTAAAGGGTAGTAATGACGTGTAATTGTGGTAAATTTTGTGTGCGAAGGTACGGACAAATTATGCCCCGTAAACTCATAGTCGTCTCAAACAGAGGAAGATGAAGTTCAAAAATCCCTTTATAACCGTTCTACGTTAAACAAGTTGTTTCGTAGTAAAGAAACCAACGTACCAACTAGGAATACTCAACGACAAGAACTGGAACAACGTGGTTTAAACTCCCCTCGAGTAGAATTACTTACATGATGACCTGCGATGATTTCCGTTTTCCAACTGAAAAATCCAAACAGTACTGAGTGTAGGTTTACAAATAATTACTTTTCTCTTTTTCGGGTCAAAAAAACCAATGGTTCTACTACGAACGAAGGTAAAGAAAAACAGTTACGATACATCCCGTTCTACCATAGCGTCTTCATTTTTATTGGTCTCGGACCATTGGTTCTGTTGGAAGGTGGGGTTAACCAAGGGTGTCCCGGTCCTCCTACCCACTCCACAGGTAGACCCGAATACACGTCACACAACAGAATTTTGTGTCGTTAAATCTATCTTGATGGGAAAGGAGAACCACCCTCAGACGTCGGTTGTCCTGGTCTTGGTCGAACCGGAAGACCCGTGGTATGAAAACCTTTTGGTGGGGATTTACGTTTGGTTTCGTGTCCGGTTCTCTTGCCTGGAGACACCCAACTAAAAAAGGTACGCAAACTAACGCACGTACACATCCTCCACTTCGGCCACACCACTGCCCGGACACCTCCACTCGACCAGTCACAACGAGGCACAGAGAGCCAACACCCGAAACACCTACCCGACGTCAGCCTTAGAGGGTCACCGGTCGTGGGGGACTTCGGGGGCCACGCTGCGGAACACCAAGGTGTCGGGGGAGGTGTTAGTAAGGACACAGCAGATCGGAAAAGAAAACGAAGGGAACAAAAGATCCGGCGGCCACAATTGTGGTGCCTGTTTCTCTAACTCCAAGAGATATAAGCCTTACATTGAAAACTCCTGCGACCCCTTATATGCACGAACCGCCCATTAAGATAACCCTATAGGAAAGTGAGACGTACCAACTGTCAAGACGGTCCATATATGACAAGAAAGAGAGACCCAAAAAAAGGGAAAAGAACCAACTGACGATATTTTAATTGTGTCGAAGACAATAGTCTTTACCGGGGAAAATAGGAACGTATTTCTATATTTTTTACAATTTTTACTAGGGAGTCCCTATTCTTTTGACGGAACCTTTAAGTGTGTGTCACTCTAGGGTGTGAGTGTAAATACTAGTTCCCTTTAAAGTGGGAATTTTGGACTTCCCTAGAGTATAAAAATCACTCAGTAACTCGGTTACATATTTAATCGGGTAGGGGGAAAGAGAATTCCTTGTTCAACGGTAATGAAACCATTTTAAGTTTCATTAAATAAGAGTAAAGTTTAAGGTAAAACGATTTTAGGACATACACAAAAATAACGAAAGTAGGGTGAAACATAAAAATTGCTCTACATTTATCTCCCTACACATACCTCCTCGGACCCCTCGCCGTGGAGACTTACAGTCTACGTGTCTTCGTCACACAACGGATGGAACCCCTAGCCACCGAACGACGTACAACGCTATCCTACCTGAAAGCCAAACGAAAGTAACGTTTCGTACGAGGACGGTAGAACCCGAACTACAATAAAGACGGAGTGTCTCTTTATTTGTAGTAACGTCGGGACAACGGATTTGTAACGACGACAGACTTAGAAATTGGCTGTAGAGATAAGATCACTTTGAAAGAACTTTAATTTGTGACAGGAGAGACTACGTAGACGGAGAAACAGTAAAGGAAACACTTTGACGTCTCTGACACCAAACGATCGAATACTACAAGGTGAGGTCAATAATTAAGGAACAAAAATCTCATGTCACGAATGGACGTACGAATAAAATGTAGATCATTTTTATTTTATCTAGCAAAGTAAAAACACGACAACGACGACTCTCAAAACTGATAGAACGTTCATAAAAAGACTAATTTTACATATTCGAAAGTTATTATGGTAACGTAGGCAAAAAGGAAAACAACGCTTAGACGAGACACTTATAAACGAAACTTTGTTTCTCTACAGAGAATACAACTTCGAACGAAAATAAACGTCATGACGTAAGACACCACGGATTGACCGTGAAGAATTGGTCAAACGGACTGTCACGATCGTGAATTGATTCTTACGTCAAACTCTTTTTGTGATAAACCTTTATGTGACGAACATCTACCTAGTAGCTCCTGATTCTTCTTCAGTCTGTAACCTTCAACTATATTTTTACACGATTTAATTCATTAATATACATATGAGTGTGTATTATGGAAATACAAAAAAGAAATTCTCTTTTCGACATCACTGTATTGTTATATTGGCCTATACATATTTGAATTTTCCAATAATTTCTTATAATATTAGAAATACATAATACCTAGATTACCAAGATATAATATTCGTTAAGTTAGACACATAAATTACGTAACCAAACAAATACCTGATCTACCATAATTCCTTAAGTGGTTTTGAAAAAGTCTGGTCGGATGATCTACTTGTAGTCAAAGTATACCTTAACACAAGTAGGCCCAATTTAATAGGACACCTCAGAAGGAAACCTTCTCGGATGGGTACATTCTGACTTCGTAACAGTGACAGAGGAATCTTTGTTTTCACCCGTAGCAACTATAAAGTCTTAAAAAATAAACCAAACGTAAGTGTCTGCTAGTACTTTCTATTAGGAAAGTAACACCCATGTCAACCAGCAGGAGGTGACTTTACAGATTGTTTTACACCGGAGTATCGGACGGGACACGTTGACCCACAGTTGGTGAGTGACCTAACGTCCACGGGTGACTCCGATCACTGTCACTGATGGACCCAGGACCACCAGTTTACTACCTGGGGACCAATAAGTAAAAGTAAACCCTCAAAAACCCTTCGGGTGGAACGGAACTCTTACCAGCAGCGGAAAACCAAGGAAACCAACACGATACTACGCAGTCAGACCACACGATTGAGATACCGGACGAATAGACAAGGAGGAGGACACTAGACGTTAGATCGCGGACCTTCTCTTTTCCTCTAATGTCGAAGGGGTCTGATGGACCTCTATCGGTAAATGACGTATCCCCAGAAGAATTAGCGGACATACCACCATTGTCAGTAGGACACGGCTTACTTCTTGTGCTGGTTCTTCGGTCTGAAGTCGTCGGTCGGCCGACACGTGTTCGACTGGTTTGCATAGGGGGACGCCTCTGTCCATTGTCTTTCATCTATTTCTCAAATTTCTTTAAATGAGGAGGGGGTACTGGGTCGGTCGAACACCTAGAACAGGAGACGAAACTACGGTAGCTGAAGACACTCGAAGGTACACGCTCACTAAGACCACACTACGAACCGCCAGTGGGTCAATCACAAACCTCGAACCTCTCAGATCAGTACCACGCAACGAACCTAGTTACCCCAGGTCAAGGTTCCCGTTCTTTCCTGTTATGACAGTCTTAGTCTTTTGATTAGTCGTCCTGACCTTTATTGACCTCCGTTTAGGGGGACACACACAAACTAGTCTGAGTTCATGTCGCCAGAGAAGCTTCGAAATCGGTGTAAGCACAGGACACTAGATTATGGAAAAAATTCTATTCGTACTTGTAAGCGAACCCTGAATACGGTGATCATGCTTTCTCTGAGATTCAAGAGACTGAATAAAAAATTTCAGTTCTAGTCATAGAATACGGGACCCCCACGTAGACTTGACAAACTAAATTTGACAACGTGTTATTGAAAGATGTGTCTTAAAACCGAATTGGAGAAACGTTAAATGTTATCTTAACATACGTAGATAATACAGAGTAACAATCATCAAGTGTCCACACCGACACCTAAATAATCATCTTATAAACATACCTTGGTCGTTGTCTAACAAAAATTGGTGGTTGAACCAGAAACCACCAACGAAAAACGAACACACACGGAGGACTAACCAAATTAAAACGAAACCCCCTCTACCCCGTTCTACCTCGGAGACCACATTTGGTTTCGGGACGTATCCATCCACCCTGTCCTTTACGGAGTCGAGAAAAGACGAATAAGTGTCTCTACCTTCGCCTTCCGTCTACATCTACGTCTTGCAAATGTTTTCGTAAACTTTGAACCAAGACTATTTCCAAAGAAAACTTTATCGTTCATTTTGTCGTTTGAGTAACCGAGATAAAGTCACACATAAAATCATTTTACATGCCCCACGAACAATTTTAAAGTCTAAGGAAACAGAGTCGGGGTCTCTAAGAACAAGTCAGTAGAACCTATCCCGGTCCTTAGACGTAAAATGTGTTCGGGATACCACTAAAATCTTACGTGAAACTCTTTGAGGTCCAATTAAGGTCCGTACGGAGAGGGCCCTGAAGTCCATCCTTACTGTAAAAGACCTGTTCCGTAATCCTTCCTAATCCTTGGTCAACCAGTCGTCACCAAAACCTTACCCAGACCAACAAGTGTTGGGTCGAAGTTTGAGGACCGACTTACCCAGGAACAATTGAAGAGATTTCGGTACAAAGTTCGTCCAGAAAGAAACACCTCTGCCTCCTATCTTAAATTTCACACACAGTTCGCATCCGCTTACTGGTTTAACACAATTGTCGTACCTTTTCTCCCCGGACAACCCAGTGCAGACGGTGGTTCTTACGACAACAGTAAAACTCACTGTACTAATAGAAAGAACCCCGGTCCTTTCGTTTCTACTCCGGTCAACCGGTTGGTCAAAGATCTTCTCAGGTCAGGACTCTATTGAGAATGTACCAAAGATAATAAAAAAAAGATTATCCCTTTTTACCATTGAAGACCTCCGTTGAACATTAAACCGTATCGATCCGGTGACGGGGAATTAATAGAGTAGTAGAAAAAAAGACGTTGACAATTTTACGAAAAGAAAAATGAATTATATCTTCCCATTCTACGGGAATTTTAGGGGGACTGAGTCGGTGTCAGTAGCACAAAAGAAAGGGGTCACGGTCGACCGAAAAGAAGTGACAGGTAGATTCTTATGTCAAACTCTTTTTATCATAAACCTTTATATGACGAACACCTACCTAGGAACTCCTGATTCTTCTCCCGTCTGTAACCTTCAACTGTATTCTTACAAGATTTAATTCATTAATATACATATGAGTGTACGTTATGGTAAATATAAAAAAGAAATTCTCTTAAGTCGGACCGGCCCGCACCACCGAGTGCGGACATTAGGGTCGTGAAACCCTCCGACTCCGCGCACCTAGTGGGCTCCAGTCCTCAAGCTCTGGTAGGTCGGACTGATTGTACAACTTTGGAGCAGAGATGATTTTCATGTTTTTAATCGACCCACACCACCACGTACGGACATCAGGGTCGACGAACCCTCCGACTCCGTCCTCTTAGTGAACTTGGACCCTCCACCTCCAACGTTACTCGGTTCTAGTGTGGTAACGCGAGGTCGGACCCGTTGTTCTCATTTTGAGGCAGAAATTTTTTTTTCTCTCTCTTAAGTCGGATTCAACCAGGAAAAAGGAGAGAAGGGACACAATGGTCTCCCTTGTAGTCTCAAGGAAGGAGAAAAAGAAGGGAGGAAGGAAATAAATAAGTAGTATTAAATGATTCACGCCCCATATTTAGTCCAATGTACATTCTGTGTCGGACAGTGTAAGTGGTCACCAAGGTTCCAATAAACTACCATTTACGGACATTAGGATCGAGGTGTCCTCCGACTTCGCCCTCCTAGGAAACTTGGGTCCTCAAGTTCTGGTCGGACTGGTTGTGTCGCTCTGAGGTTGAGTTTTTTGTTTTGTTTTGTTTTGTTTTGTTTTTGGGTTTCACCCTTTTTTTTCTTTTACATTAACCGAACACAAGTCATCCCGGCTCCTCATATTGTCTTCGTCTCCTTTCCCCCGTTTATGGTCAAGGGACCTTTTCATGTAGAGACGCTCTAATTAAATAAACCCCCCTTACAACTGTGTGGAGTCGAGGAAGATGTACAGGTTCACCCCATGTAATAACCTAGAAGTGTTTCTTACAAAGTAGTCATGCGTACCGGGGAAACCATCTCTTTCTCTACGAATAGCCCATAGACCTATTTTCTCCCAATAACCTGACCTCGACCTTACTTTTCGGGGTCTTTCCGGACGTCTATGCAACTACTGTCTCGTTTATGGTGTCCCTACGGTTCGTACGGAAATGGACTCGGAGATTAGTCTACACAGTTCCTACCCAACAAAGATCCGTAAATACTCCGGTGAAAAATAAGACACAACCGGTCAGAGGAGATCCTGTGTCCCTAGTGAGTCACAGAGGTACCGGGACTGAGAAAGGGAGAGGTTGTGGGTATGTGTGTGTCGCAGAGTGAGTCCAGGGAGTCAGGTAGGAACAAGAGAAAAGTCCTGTTCTTTTCAACCCAAAAGCAAGGAGGACACTCAAAAAGGAAGAACCGTAAATAATTAAACGTGATCTGAATGACCACATTGTGTCTGCAAAGTCAAATACAATAAAAAAACTCGTTTTTATAAAAAAAGGTCATGGTTTCTTCTTTAAGGAACGTTAGTAAAGGATCATTCGCACTTAAAAAACTCTGAAACATACGTGTACCAACTTCTTCCTCTTCGTTGAAAACCCACCACCCTCCGTCTACCGTCCACCGTAGAGGGACACAGGAAACTACCTCCGAGTACAGTGTAAGTCACAGTCCCGAACCCGTGGCACGGTCTGTGACGAGTGGGTGAGGGTGAGGAAACCACGGGTCGCTCAATTTACTCTGGTTGTTGTCGGTCGGGTCTCTCCCCGTAGAAACACTCGCACAACCAAGACCATGTCCATACGACCTGTCGGTCACTGGTCACACTTCGTCGGAAACACTCAATTTCCCCCGTCGTAATGAAAGACACAAAAGGTGTGTAGTTAACCCACCACCCCCTTCCACATCCCCACCCACCTCCTACCTCACGTCTCCTTTGACTCCTACGGACAAATCCTCTGCACGCCACAACGACCCAAACGACTTAGTCAAAATGTAGCTCGTGTAGTCAAAGAAAGAGACCCCGAACTTCGAAGGTATCCCATCCTACCTCTAAATTGACAGAATACCAACCGAGGCAGGTCTATTTAAGTAGAGGACACGTCGAATGTGGGAGAGAGTGACGGCAGTCGTACCATGTTCTCCGACGTCCCACCAAAAAAAAAACAAAAAAAGTCTGAAATCAAAGTGGAAGAGTCGACGACTATATCCATCCGACTTTTGGTCTCTTTTTAGTTCTCGTCTGACCCACGGCACCGAGTACGGACATTAGGGTCGTGAAACCCTCTGGTTCTGTCCGTCTAGTGGACGTCAGTCCTCAAGATCTGGTCGGACCGGTTGTATATCACTTTGGGGTAGAGGTGATTTTTTATGTTTTTAATCGACCCACACCACTACGTACGGACATCAGAGTCGATGAACCCTTTGATTCCGTCCTCTTAGTGATCTTGGGTCCTCCATCTCCAACGTCACTCGACTCTAGCGCGGTGACGTGAGGTCGGAACCACTGTCTCACTATGAGGCAGAGTGTGTTTATTTTATTTTATTTTATTTTATTTTATTTTATTTAGTTCCCGTCACTTCCGATGGAAAACATCGTTATGAAAACTCCGTTTACCGTATAAGGACCCCTGCAATCCTTATCCTGGTTCTACTTCCCCCTCCTCGCCTCGCCCACGGAGCCCCCTCCTTACACACTGAGTCATCGGTCAAGAGTCCAGGTCACAATCACTAGGAGTTTGTATACGGTTTAAGGCCCTTCCCCCTACCTACAAGATGAGGGTCTTCGAGCAAATGACGGACCGTCGACTTGTAGTACTAGACCCTTATAAGAGACATAAAACCAGTTAGTCCACCAGATTTGGAATGGCCGAGGTCTTTTGTAAACCCATTAATCTCACCAGTGCCTACTGAATTGACCTTAGACGGGAAAGTACACCCGTGGAGTAGGAGGGACGGGGATAAAGCGACGAGGGAAAAGAGGAGAGAGTCGGAGGTTTCCTGTACTGTCAAACGGGTTCTAGACTGGACCTGGAACCGACTACGCTAGAGAGCTCGTCTCGGTCGCGTAGACCCCGACCACGCAGTACCGAGACTATCCAAATGAGTGTCTCAGGGTCCCTTTCCGGACGCCCTCCGTCTCTGAGCGATACCCTCTTTTCACTCACAGACTACTTGACGGAACGGATTAATGGATTTAAAACAATACCTCCTTAATTTTTACGTTGAAGTCTTCGGAAACTTCCAAATAGAGTCCGTGGGTCGAACGCCACCACTTTCGTAAAACAAACCGGTATCCCCTCACCACCCGTTCCGAATATAATCTCGTCTTCATACAATTACGGTCGGAGCACAAGAACACCCCCTTCCACCAAACGTCGGATTCTCAGTGTCCCGGACAAACCGTCCGACACCAGGTTCACACAAACAGTCAGGACCCCTCATTTGTGTGTTTATAATTAAGCAGAGAAGAGGGACCTTGTAGAAACGAAGACGAACGAGACAAGAGACTCTTTAGGGGAGATCTACCATTTAAATTAAGTCATATTTCTCTATTGTGACAATCTGGCCCGCGTCACCGGGTGTGGACATTAGGGTCGTGAAACCCTCCGGCTGCATCCACCTAGTGGACTCCAGTCCTCAAGCTCTGGTCGGACTGGTCGCACTACTTTGGTACACAGATGATTTTTATGTTTTAATCGACCCGCACCACCATGTACGGACATTAGGGTCGATGAACCCTCCGACTCCGTCCTCTTAGTGAACTTGGGCCATCCGCCCCCAACGTCACTCGGTTCTAGCACGGACCTATTACTCTCACTTTGAGACAGAGTTTGGTTTTTTTTTTTTTTTTTTTTTTTTTTTCTTTTCTTTGTCTATTGTGACAAAGAACCACCGGGAAATTTTTCTTTCCTTTTTTTTTTTTGTGAAGGAGTGAATTAGAGGGTATACATGATACCTTTACATGCTTTTCGTGTAAATGAATTTTCGAACTGAATACCGTGTACGACCTCTCTAAGGCCTTTCACTCCTTTACCTTAACCTCAGACACTTTTATGTACGAATTTTTTTTTACGGACGGTTCTAAGCCCTCACCCTTTTGTCAAATGATCTCACAAGCACAACTAACAAATATTCATTGAGTGAATAGTGATTGTTCTCTTATACAATTTTAACCAATCCTTACTTTGAGACCTTAACTTCAAAGATCCATCCTTAACTTCTTATTCCTTCTAATACTAAAACACGTTTTCTTTTCTCTTAAATTATCACGATTTCTTCATCTTCCTAAAGTCTCTACTCGTCACCCTCAATAAACTCCAAGGACTAAGTCTCCTTTCTACGGGTCATTTTGTACCTCAGGGTGTCCCCTTACCGGACGGGTCCTGGCCCGGTTCGGGGGTTGTGTCCGAGCGAGAACCTCACCTTCCCTTACTTCTCTTTCGGTCGGCATAAAATATCGGGGTCTCCCCTAAAATTTTCGTATCATTTTTACGTACCTCCATTTTAATTCTATATGGAGTCATCTGTCTCGTTAGTTTAAGATATCAAAGAATCTGAAACGTGCAAAAGAATGGGAAAAGGGGGCAAAGCACAAGAATATTTTCATAAAAGGTCCAAACATGTAAATTAGACTTAGAGGCATGAAGTAGACTTGTTTTAAGGGCATTCAGTAGGAAGAACATCTGGAGTAAAAATTTTAAGATTATTATTACTGTTATTTCAACTATTTCCGAAAGAATAAATAAATAAAAATCCGAAAGGTAAACTTTTCGACAGTGTACTTTTAGAAGAGCTCTGTCAGACAAACCCCCTACCACATCTATGTACACTTGAAAACGGTCCCCAAACACCTACGTCTAAGGAAACCCCAGTACCCACTCGGTATCTCCCCACTTGAAGTCTGACTTACAATTTAAAAAGAGAAGACTCCATTGGGGATTCGGTATAAACAGTAATCCTGGGAGAATGACAGGTCAAAAGGAGGACGGGACTCTACTAAGGGACTGAGGACCTAAGAAGTAGAGGACGAATGATCTTGGGGTCGGGTAGGAACCGTCACTCGTCTCCCGGAGTAGATCGTTTAGTCTGTACGGGTGATTCCGTATAGAAGACGTCAGTCGGAAATTACAGTGACCCAATAGAAGGACCAACGTGTGTCAAACTGTCATGTTAGCAGCGAACCATACGCAACCCCTAACCAAGATTGTTGGGGCTTATATGGTTTTAGACACCTACGGGTTCTGGAAATAAATTTTACCACATCATAAACGTATACTTGACACATGTAGGAGAGTATATGAATCAGTAAAGATCACTATGGACATTATTGATTGCGCAACATTTACGATACATTTATCAACAATATGACATAACAAAAAATAAACATAAAATTTTAACAACATAACAATAAAAAATAATTAATCGAAAGTTTATAAAAACTAGACACTAACCAACTTTGGTACTTACGCCTTGGGTGTCTATACCTCCTGACTGACATAGAATGTGTGTCTTGGTGGGATCCGAGGTTTGCGAGGTTCAATGGGTCTCTCTTCACAGAAACAGACAAGAGAGTCTAGACCCGTCGTTTACTAAGATTTCCCTGATTCTCTTTTATAACGTCACAACCATCGTCTGTAATTGACTCGAGAATCACGGTCCGGATCGTGATTCGTGAAGTAGTCAAAAAAAAAGGGAGTAAAATAGTAGTGTAATTACGACACGTCAACCTGGACAAGGACAGAGGAGAAAAGAAAAAACTCTACCTCAGAACGAGACAGCGGGTCTGACGTCACGTCACCGTGGTAGAGCCGAGTGGCGTTGGAGACGGAGGGTCCAAGTTCGTTAAGAGGACGGAGTCGGAGGGGTCATCGACCCCAATGTCCGTGAGTGGTGGTACGGGCCGATTGAAAAGATAGAAATCATCTCTGTCCCAAAGTGGTACAACCAGTCCGACCAGAGCTTGAGGACTGGAGTCTTCTAGACGGGTGGAACCGAAGGGTTTCACGATCCTAATGTCCACACTCGGTGAGACGGACCGGGGACAGAACAAAAATTGTCTACTCCTTTGGGTCCAGATCTTTCCAATTCACTAAAGGGTTTCGAGTGTGTCACTCACTCACGAGTTTGACCCTGTCCCTGGGACTGTTAGACTGGCGTGTCAGGGTACAATAACGTCAACCAGTCCTACGTCGGACGGATTACGCCCCGGAGTACAACACTTACTACTCGTGTCCTTCCCGTCGTTGCCCTAACCGACAACGGGTGTAGCTTCCTACGTCTCTACGGTGTTTTGGATCGGACCATCGTCTTCCTTCCCGGCTTTCGTCACTAGAACATTCAAAAGTGAGTAAAATCTTCAGTCGTATAAAGTTCGTATACGGGAAGCAAAAGAAAAGGCAACAAGTACGGAGTCGAGTCTAGGAATAATAAGATTTTTTATAAAAACAATTTATTTCATGAAGAAGATCTTGTATTTTCTTAATGTATGTGTACCAGTATTTTAGGTTTACCAGATCTTTCAAGACTTTATTTTACATAAAAGATGGGGGAGAGAGTTGAGGATTAGAGAGACGGGTGTCCACTAGTGACGATTCAGAGAATATATAGGAAGGTCTTTGCAAATTCACGGGAACAAGAGTGTGGAGCGACACCCTGTCGACGGAAGGGGTGTAGGATAAGACACTCGGAGCGACTACTCTCGCCACTAAAAGTCCCTCCTCCGTGTCTTCGGGTCGGTACGGAGACGGAGACGACCCACAATTGCAGTAGGTCCTGACGCCAGGGTTCGTTAACGAATTAGCCAAGGGTGAGGAGATAACTAACGTCGAAGGATACGTGGGGTATCACCTTAGGACCTTTGACCATAGGTCACTACTCCCCGATGCGACGTCCGGTACGTCTCTCACAAGACCGACATGTTGGACGGTCTGGGACCGGTAAACGCCTTCAGCAGGGTAACGATCCGGAGAAAAAAAAAAAAAAAAAAACTCTGCCTCAGAACGAGACAACGGGTCCGACCTCACGACACCACGTTAGAGTCGAGTGACGTTGGAGACGGAGGACCCAAATTCGCTAAGAGGACGGAGTCGGAGGGTTCATCGACCCTAATGTCCGCGGATGGTGGTGTTGGCTGAGTAAAAAAAATAAAAATCATCTCTATCCCAAAGTGGTACAACCGGTCCGACCAGAGTTTGAGGACTGGAGTTCACTAGACGGGTGAAGGAGGAGGGTTTCACGACTCTAATGCCGCACTCGGTGGCGCGGACCGGCCGGCCAAGAATGATCAAACCGACCTCGAAGAACGGGTACTATAGGAGTTCGTATTCCAGGGGGACGTTACTCACCACTAAAAACGGACAAGTACCCCTTCTTGAAAGTCTTCTGGAAGAATCAGAACTTTTGTGGACGCATGAATTCGTAGGTGTCGTGTGCCGGGACTACGTCTTACTTAATCCTCCTGTCTTTCTAAACCCCTTCGTAGTAACCGGCAATTTGGGCGAGGACTTAGAAAGACTCGAGACATCCACCTCGAACTCTACAAGGACACCTGGTTACGTTTGACCTTCAGAACTACAAGAGACTTTCAAGGACCGAAGACTACACAGGGCGTCTGCTCCAATCGAGTGATGTCACTCCAACCTATGGTGTACCGCCCCTGAAATTTCAACAGACAAAGTAGGTCCCACCCCGAATACGGATCAGACACTGGAGTCACCCCTCGTCCTGCCTAAGGGGTCCTCGTGGGTGTAAATGGAAGAGCAGAAAAGGGCGAACGAAGACGGTAAACGAACACGTTGGGTCTGTGAACCCACACTCCTAGAGTCGAGGTGTTAATTACTAAGAAATCAAGGGCGAAAATTTTGTAAAACTGGTATGTTACTTATTTACAACGAGTATGATAGACGTATTACTTCAAATCCTTATTGACGGGGGACGGTTTTCTAACTTACCTTCCGAGTCCTTCACGAGTACATGCAAAATTTTCTATTATCCTTAAGATACACTTTTTACCGGGTGAAGAAATAAAATTATGACTTTTGTTGAAGGATTAGGATTTTACTAAAAGAAGGGGATTAGATAAGAACCCGTAGAAGAACTTAAAGGTCGGACGAAACTCCCTTCAGACCCAAATGTTTCCGCTCTAAGTTTCGAAAAGTTTGTCCTGTCCAGGAGACCAAGGGACACTCTTCTCGGGTCCTGGGTGGGACACTTTCAAGTAGGGTGGATTTAAACAAGTAGACCTGAGTCAGAAACGGTCACACTAACTTCCGCAAACATTCGTGTAGGTCCTCATGATAGGTGGACCCGTCAGTGCGTCCTCTGTCTCGGGTCCCACCCGATCAACGGACGAACCTCTACCTAGCACCAATTGAAGTGTAAGAACAAGAGAACCCGGTTTCAGAACAAGTACCAAATCTTATTCTGTCACAAGTTCGTCGGACACCAGTCTGATTCTAACGCATCAGTAGGAGTTTTCACCGGAAGGTCACACGAGACACACTCAGAAAAAAAAAGGTATCTTTGGTCGGTTTCCTGTCACTATATAAATTCTTTATTAGTAAAATAGTCTGTGTGACTTTACCTAGTCCTATTTGTTCTTTCATTGAGCCACCTCGGGACACATGACGGTCCACCCTCTCCTCAAGAGAACACACCAATACCCTTTTCCACATAAAAGAAAGGTAACTACGAAGTAGGGTGCACAAATCACGTGACCAAAGACTTTGGCTTCTGTTCTCCGTCGGGTAAAGGTGACTTATCGGACCGGTAGTTATTCAAAGGTCTTCCTGACCCCTCTTTGTTTCTTACCGGGGGTTACGACCCCAGACCCCAATAAAACTCAATTTCCCTGAGCCTCGATGACTTACAGAAGGTGTAAGTTCAGGATCTTGAGAAAGGAACTCTATAAGGTGAAATGTAAAGGTTTCTGTCTCCTTTATACCATCTCGGTTAAAGGATTTTCAAAAGCATCTTAAAGTATTCGTGTCGTAACTAGGTACTAGGCCCACCAGACTCTCCCCTAGGTAATAGGTCCCGAGGTCATGTCCACGTCCATGTTGGTATTTCCGTGATTACTTCGGTCTCTCCTGACAGACGTACAGGAGTTCACTGAGAGACCTCCTTAATCCTGTCTTTCTTTTAAATGTAACACTAGTCTACCATATCTTTTTAAAGTATCTTTTTGGACTTGTATCCTTGTATTTTAAACCTACTTTAGACCATGACGTACCTGACCTCCCGTCTCCTCAATCTAAGGTCACCAAAAGATTAAACCAAAGACTGAAGACGGTCGGGGGTTGGGTAAGGAAAGATTCTAAGCTATGAGACCGACCCGAGACCGACTGAAGGTCGGAAGAGTCTACCTCGGTCCTAATGTAGACACAGAAACGTAAAACATAGGTCCAAAGCCGACTCAGGTCGAGGAGGTACTTGAGGTTGTGGGGCGACCACTCCTATTGTTGTGCGGAGAGAAGTTGCCGTCTGTGGGGGTACGACCGTCCCCAGAGGCTCATACTTGAAGGTCTCCTGGGTTTTACCCTCAAAGGTTCTCTATTCACTCATGAAGAGAACCGGTACAGGGTCCTACCTCTGAGTCGATATTTACCCCTATAACCTAATTGTAAAAGAAAAATACTGGGAATCGGTGTTTCCAGAACCACACTACTACAGTCGTCCTCATTCTAACATAAAGATTTATTGGTTGAGGACCTTTTCTTTTTTTACCTAAATTTTTTTTTTTATTGAGGAACTTTCGTCTCGATGAACGGGGACCGACCAGGGGTTTCTTCTACCGTAGACCAATAGTAAAAAATTCACAGACCCGTTAAGTCTGAGGCAGTTTACCTTATTTTCATCTTAATAGGTTAAATATTTTGTCTAGACTGTAAGATCGAAAACCAATGATCTTGTTCTGACAAGAGACAAGTGAAGACACCTCTTTAATCTACGTCTTATATTTACCGGAATTCCTGGCGATGGGTCACAACGACAAGAGTAACCAATAATTACAGTATAACCCGACTTTTCGAAGTTTATACCATGGACTGTAGATTAAAGACACTAGGTATTATAAAAGGAACAACCTACTATGTCTCCACACGGTTAGTCTACAAATCAGTTTTATACCGGTGGACCCACCACAACCCCGATGCATAGAGAACCAGAGCGAACTTGAGGTGCATGACCTCGAGGCAACCCGACGTAAACTTAGGACCGAAACGGTCTGTCACCGACCCGTTGGAGCCCACTCCGTGGACTAAGAGACTTTAAGTAAGAGTATTTTACTCCCACCACCAAGTCTGGAGGGTCCTGACTCGTCTCAAGAACCGAACACGCTCAAAAGGAAAGTAAAGGGAAGTGCACCACCATTGGACCCTCGAGACTTGACGTTTGGAGTCGTCCTAGTAGCACACCCCGTACCTCAGTCACCCGTCTTAAACTCGAGGATCGGGAGCAGGAGATCCGTCCCTGGCTGGGGATCTAGGAGGAATACTTTCCTTCACGTCACCAGTAACATCCCGACAGGTGAGTGAAGACCCCATGAAAAACAGCAGTGTCGAACTCTCATGCCCTTCCACCTTTACGACTGATGAAGACGTAGTGTATGTGACCTTATTCGAGAACTGAACGAATATTCGTCGATGGGACAAACGGAACTGTAAAAGTCATCGAGGAGTCTAATATATGTGAAGAGTACACATGGATATGTGTAAACCTTTACGTTTCTATTCGAGAAGGTCTCTGACTAGACTACTCGAGATAAACCTTCCCTCTCCATCGAATACACCGACCGTGAAGACTAAAACTAAGTGCACTACAGTGTAGTCAAAACAAAGGGTTCACGGTTAAATCTCTACACATGGCAATCGATCCTGACTTATTAACATACCTATAATAAACCAATCTCACAATTACCTTCATTAAAGGTCAACTAAACATATGACATCACTTTTCTGGTGAGTGAGTAAGTGAATAAGTAAGTGAGTTCCGTACAATTAACCTGTAAATGACCACCCCGTGGTCTCTTTTGTGTTTCTTACCAAAGAAATGGACATCCTACACCTCTTTACCTACAAAGAACACTTGAGGCGGTCGGGATCAAACACACACTAATATATGTGTCTATCCAAGTACACGTGTAAGGATATATATATTGACTTGACCCCTCAACACTAGTATAAAATTCTTTAACGTCGAAAGCCCAAATCAGGTATCAAAAACGGTGGACACTGTGGTGTCAGTTGTCACCTTCAGACATACACGGGTTGACAATGGAGGGTGGGCCCCATGGGACTCACACCTTTTAGACTCACGATTTGTAAAGTTTTGTCACAAATCGCGTTTGCATCCACCTTGTCTAAAGGTTACTTACTTCCGATAAATCTTCGTCAAATAATCTAGCCTCCGTCTTCAATATGTTTCTTTCCTAACAATACGAACATCATCGTTCCGCCACCCTGTATTTAATCGGTAAAAAGGTTACGTTTATAAATAAAAGACGGTTCTACAATTTAAATTAAAAGCAAGACCCATCTTTGTTTTACTGGAGTCGTATCGTGTACGACGGGAATCAGAAATACGACGTGAAAACGTTTGATAACACATGAATGGAATTTATGACAAATGATTACCGTCGAGGTACGAAACGACACAATACGAATTCAATCTTTCTCGGCATAAGTATTCATAAGGTTTCTGAAAACGCAAAACAACCAAAGACCTTACGTGTTCCTGTTATATACCGATAAGCAGGCTACACGTATCTGGAACATTAGAATCTTTAAATTAAACACCACAAGTGAAACCTAAAAGAAGTAACAATTAAAATACATCAGTATTCCTGAAAATTTGAATACAGTTTTTTTTTCAGGGGTTAAAAAATCTTAAAAGAAAAATCATTTTTTAATCTCTAAGGAACTTTACGAAAATTCTCCGTATAGGACATTGAACCGTTCCTTACACTGGTATTTTAGGTAACCATAAACTTATTATTAAAATTTCGGTGGTAAAATGTCCCTGTTTTTTTATTCTTGTCAGAATTGCAAAAAAGAAACTCGGTAAGATTTAATGTTTATAAATTAACCGAGTTCTAGTTTTCGAGAAGAGACCGTGAATCCTTTCGACTGGTGGCGTGATCGTTCCTATGGAAGGGATTTCTTTTATTTGGCTCTTATGGTTACACTTTAAATTATCGGCAAGGTGGTCATTAACTGTAAGAGATTTTGCAGTGATCCTTTTATGAGTCCGCGCACACATGGGATTCAGAGTAATCAAGGTATACTATTCGTGAGGTACGAAATCATTCGGCGACTTTCTAAAAATATAAATCAAGACCTTAAAGGGAGTGATGTGGGGTAGTGGTCTACGATACACGATTAGGGGATAAATGTGTAAATCCGACTGTGACCCGTTCGGGGACCCTCTTCCAACGAAACCCGTTCACCAGTACCGCCTTCGTCACCCTTAACTGTTTCTGTTCGGGTTCCTCCGCCAGTGGCACCGGCACTTCTACAACTTTCCACTCGCCCCTCCGCCCTCCGAGCCCCTCCCCGACCCACCTCTCAGAATAGTTCTTTCAAGGAAAACACCGTACACTTGAGATAGTACCGTGCCCCAGTCTCTCGTGTATCAACTGGATCCCCAACTCTTCAAAAGCCATATTTAGTCGTAGAGCCTGTCTGATAAATAGAACTCGACACACATGAATATTTCTTTTCGGTCAAAACAATCTTTCGCCATCGGAGGATGTATCTCAATAAGAAACTGAGGAAGAAGCACTGGTGTTAAGAAGTAAGAGAGACATAAAAATACACGAATCTTTAATAGTTGAGTGTATATTAACTTAAATAATCGATCCTCAACCACACAATCTAAACCCTGAATTTGGAATTGAAATGTTCATGTTCTTTTAAACACAAAAACCTCCCTTGCTTCTCTGCATTCCCTCGTCTTTCGGAAGAGAAAACGCACTCCTTGTTTCGTCTTTACTGTGACCAGACCCTCTCAGTGAATCTTCGACTCTTCCTCACTTGTCCTAGTCCCGACCACGTCTCGGAGGACCCTGTGTATTTGTTAATGGGACTCTACATTTACAGCACAACACAAACACCCTGACACTTGTGAAGATGCAATTGGAAGGTTGGGACGAAGTACGGGTACAGGTTTCTTGAATTTCTTGAAAATTGGTAATTGAATAAGCAGGACGTCATAAGAAAATACTCTTCTCAATATCCCTTGACAGTGTAATATTTAGGAGAACATCCCTAGAGCCTTTCTTCTAGGGTACGGCTCACAAAGGGTGCAAAGGTCCGTCTCTCCGGGTAGGAACCCTATACCACGACCCGTACAGCGTCCGCGAGACCTCAATCCGAAACAGAAAGAAAACACCCAAGAGTACCCTATCAGTAGTGTAGGGAGGGTTCCCCTTCATCGTCCGACCTGAAACAGTTGTTCTACACGTAAAACAAAAAACCCAAAAAATTTTCCGACAAATAGACTCACTGAGGGTTCCTTTTGATCTCACGAAACTCTACAAGGGGTGGAACCTCGGACTACGGCCCCTCCTTGTGACACGACAGAACGGGGTCCACAGTACCGTGGTGACTGACTCCGTCGGGGACCGACGCATGGTCCCGGTCCACACCCCTCCTGGGTCCGAAGAGTAGAGAAAACCGCCTTGAAGACCAAAACGATTACCTCGAGTCTCAATGTACCCTATAACGTTTTTCCCTCCAGACCCTCAAGAGAAAGAGAACACTACGGGTCCGACCGTCGGAAGGGACATTCCTGTGTCTTCCTATAATCAGGGGTTCGGTAACACCGCACAGGAAAGAATGTCGGGTGCCGACACAGAGGGAGGGAGGAGTACCGGGCACCGAGGGAGGAAGTGTATGTAGTCACATTTAAAACGTGTGTGTCAGTGAACATAACTAGAAGGAAAACACTTCGATTTTTTGACAAACGTTGTACCAAGAATAGGTACGGGTATAAAGTAAAAAAAAAATTTCCTTTGGGTCTAAAAAGGTATGACTTAATCGAACTCCACCTCCCGTGTACCCTTTCAGAACGGTGAATCCTCTTAGATTCTCTTCGATTGACGCTCGGGCGCATACACCTTGGACACGGTAAGAACGAACTTTAATGTCTCGCCTTCAAATACATTGAAAAGAATCCTACCCTTGACGTCACGGGAGACTCTTCGGTGATCTTCAGCGTCGGGAAATGGACGAGTCTTACGTGTACGTGTGTGCAAATACCGGGACAAATACCCCTTGGCAGACTTGGGTGGAGCCTTGCGAGATTCCCGGAGCTCCCCGACCCAATTCTTACGAACCAGCCCTCGTTCAGACATCACTAAACTTTACCGGGATGGGAGCCAGAGGAGCGACCAAAGTCCGTGGTACTTCAAACCACACCAAAAGACTCTGCGGAATCTATACCGTCTCCTACTCTAATAGAGTACCAGATCCTTTCTTAACCGTAATCACAGTCTTCGGGGACGAGAGCAGGACTGAGAACCGGGGTAACCGGGGGGTCACTCGAGAAACTGTGTCTCACTCCGTCAAGGGACACATCCGGAAACAGGGAAGGAGCTATTTTACTCCCTCTACTAAACCTTTTAGAAAAGACTAAGACTTTAAGTTAAAGTACGACAAAGTTGATTCAGAAACCGTTGATTGTCATCGACGGGTACTCAATCTCCTTTACTTGACTAAACACTTATACGGATGACAAGTATCTACTACGGTGTCTCTTTCTGGAAAGACTAGACCACAGTCTCTACCTCTACTACTTCTACTAACCCTTTGTGTTCTTATAGTATTTAGAAGAACCTCGGACGTGTGTCCTACCACTCATCCTCCTTTTTGACGTAAGCGGGTTTATGAGACGTCAAACTAACTTAGTAAAATCTTTACCGACCCGAAGGTCTAGGACGAGGGTCTCGTGGGACACACGTACAAATTTCAAGAAAAATTTTAGGGGTAACCTTCTACAAGGATCGGTACTTGTGTTTCTTCCCAGACACGGGCATGGACCCCCGGTCACCTTTCCTCCCACGTCCACTGAAACCTAAACTCCCGGATCTCCCGCGACGACAAAGATCCAGTATTGGACCTCCCCCAAAACCTTTTCCGTCGGAGGAATACAAAAACAAAACATTCACGATTCTCTCTAAACAGTCTTATTCTAGGATACAAAACCAACTCTTCAAGAAGGGAATTTTGTCCCTAACTTCTTAGGTGTAGAACGACACCCAGTGTCTACCGACTCGAGGGTTCTTATCGAATTTTCTCCTCTTTCGCCATACTTCCTTATGCAATAAAAGGGACCCCCTCTCTCTGGGACCGAAGAAGGTAACTTACAAATGACCGTGAAACTTTAGTTAAACGATTCATTAATCATTTGAACTTTTGCGGATAGAAACTGAATCGTTAAAGAGAACATCCAGATATATCATTAACCACTTGAAAAAGACATTTCCCTCCAGCATCTATAAAATCTGAAAACACCCGGCATACCAGAAACAGCGTTGAAGAGCACAGACGGTATCATCACTCTTTCGTCACGATCTTCATGTCTTTACTTACCTGGACCGACGTACGGTTATTTTAAATTAATGGGTTTGTCCGCCATCCGTCCTAAACCGAACGTCCGACATCAGACGGTTGGGGCTCGGATATGGTACCTCTTTAATAACGTGTGCACACATTCCCTTGTACATGTCTCTACAAGTAACGGATGACAAACAATACCGACTTTGGACCTTCGTTTACGGATACGTATATTCCCTTACCTATTTATTTCACACCACACAAATATGCTATGTCATATACGTCGACACTTTTCCTTACTAGACCAAAACAAAAATATTCGGGTTGTCCAAGGTTTTCCTATTACATACCCATTTTTTACAACGTTTCTAGATTCTCGAAATAATAAGTAAATACACTAATTTTTATTATATAATGAATAACTTATCAATTTTACTTGGTTTTCCTATCTCACCTCCCTAGGTAACGAAAGGTTCTCCCGCGTCCACTGTCGTACTCTCACTGTCCCTTCTCGTGCAGTTGACACAGAGACACGGAAAACTCCGATAGTACTGGTTCCCGAATAAATAGTAAAACCTCTCTAATATTAGTATAAAAATACACACGAAAAGACATACAATTTTGAAAAAGAAAAAAGAAGAAGAAAAAAAAAAAAAAAAAAACTCTGTTTCAGAGCGAGACAACGGATCCGACGTCACGTCACCACACTAGAGCCGAGTGATGTCGGAGGTGGAGGACCCAAGTTCGCTAAGAGGACAGAGTCGGAGAGTTCATCGACCCTGATATCCACACACAGTGGTACGGGTCGATTAAAAACATAAAAATCATCTCTGCTCCAAAGCGATACGACCGGTCCGACCAGAACTTGAGGACCGGAGTACACTAGGTGGACGGAGCCGGAGACATTCCCGACCCTAATGTCTATACTCCGTGGTGCGGGTCGGCGACATACAATTTGAAATTTTTTTTTTTTTTTTCGTACCCAACATTATTGATTTTTACAAAACGACTTAACGGGTTCCCCTCTGGGACCTAAGAGAGAAATCCCTCGAAGAGAAGAAGGAGTTGTCCCGGAGAGATACAGTATCAACTCATACGGAGATTTCCGTTGGAGGCTCTTATGGAGGCTCGGGCCTCCGGTGGGCCCTACCTCATGAGGATACTGTAATTGGCACAAGGACTCCTCGTCTACTGGAAGTTCCTGAACCACAGTACGTGGATGGTCGACCGGTCTCCGTACCTCATGAACCGAAGGGTTTTTCACTCAGAAAGTGTAAGATGAACCGACCCACCTTAGGTTGATTTTTACAGAAATTTCTTTTGTCCGTTAAACCTGTACGAGTAAACGATCTAGTTCGGGAGCGTACAGAACATGTTGGACCTTTTATAAATAACGCAATAAGGGTAAACTCAAATTACTTGACAAATTTTGGTTTCGTCGGAGTATTTGGATATCGTAGCGACGTCTCTACTCGTCTTTTCTATGGAGAAGAAACTCTGTCCTGGTACACACTAAAGGGAGCCTTAAGTCGAGAGGTCCACCCTTTACCTACCAAAATTTCCGGGGGAAATTAAGCCTACTAAAAGAAAGAAAGAAAAAAAAAAAAGAATTCGAAGTAAATAAAACACCAATGACTCAAAAACTTGTATCTGAAATCCACAAATCACAAAACCCAAACTATACCGTAATTTATAAGATTCTCATTTCCAGTTTGTTTCCCCATAAAATCATTGGAACGCAGGACCTCGAGACGCAAATAAAACGGAGCAAACCGCCCACTGGGAGACACCAATCTTCAACCGGTCCAGGGGACTCCACCTGACGGACGTAAGGTCCGCACGGTGAATGGCACCTTGAACTTTGTAAAGTCAATAAGACTCTCATCAATCTGTCCACGGGTCTACAGGAGCCTCCGTAAAACCTACTGGGTTTTGAGGGAACAGTCGGGGTGTGTATCCCTTCGCCTCCCCGCCTCGACGGAGGACACGTCTCCACCCGGAACGAGGATGGACGTAACGTCAAATAACGTCACGGTCCTTAAGGAACCCAGGGGTTTCTCCACTCTAGGAGACCAGCCGCACGTGGGAGACAGTGACCCCCAGACCCAACGGACTTCTCAGTGTTTGAGTTCAGAGGTACCCCGGTACGGTCAGTGTGGTGGTTCCGGACGCCTAGTGAGTCTCACGTCTCTAAGCTCCCTACCGACGTGGAGTCGAGATGAGAGACCGGTGTATCCTTGTACCGGGTCTCGATGGGGTACAAGACCTACCAAAAAAGAAAGAAAGTTTGTCCGACCTCACGGCACCGTATTAGTGTCGAGTGACGTCGGAACTGGAGGACCCAAGTCCACTCGGAGGGTGGAGTTGGAGGACTCATCGACCCTCATGCTCCTACACGGTGGTACGGACCGATTCAAAACACAAAAAACAAAAAACAAAACCATCTCTGCCCCAAAACGGAAAAAAGAAAAATTAAATTCTTTTTGAAATTTTTGTAAAAAAGTCCTCTCAAATCTCAAATTCTGAAAAAGTCTAGAAAAAGCATATTTTTAGAGGGTTATATATCCAAAACCCTTTGATTAATTTGTGTCAAAACTGAAGACACTAACACAAATGCATGTGCACGCACACACACGCACATACATCCCATCAAACGGTTAGATAAACCGTAGGTCTCTGTTGGTCTGTCTAGGTCTTGTACCCTGTAAACTGTTCTATAGCGAAGGTTTACAGTCACAGAGCTTTCTGTTTTTGACGACCCCTCTGCCAAGGTCTATTTTCCCCCGGCTACTCTGTTAAGGATTCACATTTTCACCCTAGGACCTGACCTAGGACACCCAGCCCCTCCCACCGGTCAAGAATCTTTCCTGTAAACACTCACAGGAAACTTATACCTGACATATTATAATGACCAATATAAAGACATAGTCACAACTTAAACGGCCCCCACCACTGTCACCATAGACAACATCCTCTTTATGCGACTTCTTAACTCTAAACACTTCATAGTCACTACGGACGTCGAGTCAAAATTCACCAGGTCGGTATTTTATATTAGTTAGGTAAGTGATAGGGTTCACACATACACACACCCCCGTCCACCCCGTCCTGTACCTCTGTCGTTCACTAACTCATCCACATTGTTCGTTTGGGTCGTCACCACCTATGAGTGACACGGTAGGGAGGAAAAGACGTCGACACTTGAGAAGGATTTATTCGGACCCCTCCCATCGGGTAGACATCCGACGGATAAAACTATAAGACCAGAACTAGTGAGGGACGGGATGGACACACCCTCTATCCCCTTCGTCAAAACGTGGGTCGTCCCACCACGATGATCCCCTTTACACCATCCTCCCGACCGAGTCAGTAAAATAATTTAGGAAGTTGTAGATGAGGATCTCGTGGGGGCTACAGAGTACGGGAACCAGTCCGAGAGGTCGCTTCACCGGTCTTCTCTGTATCAGGAACTGGAGGACCCCGTTCTTGGTACCCACTGTCATTCTCTTTAACTGACATTTACACCCTTACTTTTATTCCAACATTTTTTTATAACTTTTTCCACGGTACCTCCTTTGTCCCCCTATTCCGGAATGAGTACGGTCCTGCGACGTGAAACGACAGTGACGGTACCTTCGGAGACTCCCCCTCCTTCTCCTAGTCAATCACGAAGTTTTTACGGAGAGTGACGACGAACACACCACTTACCCTTCCGACTCGGGGACAGTTTCCACTACTACCAAACCCGATCCCAGACAACCCAGGTTTCTGTGGCTCTTTTCGACCACCCGACTACAACCTGTATAAAACGAGAACCCTATTACTTACCTAACTAATCTATCCTCCCTCTCTTTCTCTCTAGTTCCCACTGAAGACCTAAAGGTCGAACTTTTTGACCTACCACCACGTCGAAGGTTCAGACCCTCCTGAACCCTTAGTCCCGACCCCGTCCCCCGTATCTAAACCCACCTTTTAGGCTCGAGCAGAACTCGCATAGACTCAGTAGGTTCCCCTCTATTACTTCTTCGACGTCCGTCGTCGAGTCGAGACTCCCACCCGATTGTCGACCCTCCGTCGTTTCCCTCGACACTCAAGTTCGGTACCCGCACCTGTTTGAGTAGACGCCTCTTCGAACCTTCTCCTCTTATCTTCGGACTTCAGTCCAGGACTCTTTTAAGAGTTTAGATCTCTAACTGACTTTCGTGGTCTTTGTCGTCGCCTCCGGCTCGTCCGTGTCGGACTCGTCATCCTTTTAGTCCTGTGCCTCGTGTCTCCGGGGTGTACCCTCGAAGTCCTTCCTCCCCCGTCCATCATCTCGGAGCCGCGAGTCTGACCACTCTTCGTGCCCACAACTCAGGACCAGGATCTCCGTCACCACCATGGGGACGGGTGGGATCGGGACTCCTGGGTCTCGAGGAAGGACAAAACCTCGACCGTCTCTCTTTTGATTCTCTGCTTGAAACGATTCGTCCCGTTTACGTAGGTAAATTAGCACCTTCTTGCCTTCATGGGTATAATTTCACAACACTATTATCATTGATAGCAATAATAATTAATGACTGGGGAGGCCCTCTTCGATTGGTAGAAGGTCCGTGGCACCGTCTCGTAAACTGTATTTCGTAGAATGCATCGGGAGTCTTGTTGGGCCTTTATCCACCCTAAACCTAGGGGTAACATACCCCCTCCTGCTACTCCTTCGTCGTACTTACCAAACTCTGGTCTACACAGTCCTCCTGAGTCTACAGGAGTGAAGACTCTTCGCCTGAACATCCAGACTTCTCACCTCACCGTCCAGGGTCTGGATCCAGAGGACCAGGGGGTGAGTCGACAGAGGACGAGAGTACTCCGGGGATTGAGAGAGATTTGACTCCGTTCTGGTTACTCTAAGGTGCACCCCCCGCCCACTCCCCAACAAATCACGGGGTCACACCGGAGTAACAGAGATGTAACTTATTGTCGGGTTCCATTTTCCCTATAACATACCCGGAAATTCTGTACCGTACCAAGGTTTCGGTGAATGACCTCCGGTGGACGTCAATTCCTGGGTCTTATCCAAACTTTTACCTCCATCTACTTCTACAATTCGTACCAGGGGAACGCTCCCGAGACGAAGGTTTTTACCTCCCGAATAAGAACTTTCACCTCTTACTTCTTGGTCCGTTTCCCAGGCCGGGACCGAAAGGGTGTGGGTAGGGGAGTGTTACCCCTCGGTACCCGAACACTCTCTGGACGAACGGACTTCCTTCCCCGTTTTCTCTTGACAACTAATGTAGCAATGACTACATGACCCAAGTAGACACGAGTCGCGACCCGGCTAACTCTACTTGTGTGTCACGGACCGGAGGTCGTCGAAAGTCAACACACACATGTACACACACACACGCACTCACACACTCACAACCCCATCCCCAACCCCTAACCTCTGTCTCTTCACTTTTTTGTGGTACCACATATATCGTTACGTTAATCCATTATCCCATAAACTCGGAATGTGTTAAATATTTTAGGAATGATAAAAATCGAGTTTAGTGTGATTAAAATGAAAAAATTGGTTTAGGGTTTGGGTCAATTGGGAGTTTCACAATTTGGACTCGTCAAACAAAAAGCAAAAACAAAAACTCTGTCCCAGAGTGAGACAGTGGACCGACCTCACGTCACCGCACTAGAACCGAGTGACGTCGGAACCGGAGGACCCAAGTTCACTAAGAGGGTGGAGTCGGAGGACTCAACGACCCTGATGTCCGTACATGGTGGTGTGGACCGATAAAAAACCATCTCTGCCCCAAAATGGTATGGTACAACCGGTCCGACCAGAACTTGAGGACTGGAGTTCACTAGACGGGTGGAGTCGGAGGGTTTCACGACCCTAATGTCCGTACTCGGTGACGCGGACCGGGACTCGTCAAAAAAAAAAAAAAACCAACTCTGTCTCAGATCGAGAAAACGGCTCCGACCTCAAGTCACCGCGATAGAGCCGAGTGACGTCGGAGACGGAGGGTCCAAGATCGCTAAGAGGACGGAGTCGGAGGGTTCATCGACCCTGATGTCCGCGAACGGTGGTGCGGGCCGATTAAAAAACACAAAAATCATCTCTACCCCAAAGCGACACAATCGGTCCCACCAGAGGTAGAGGACTGGAGCCCTAGGCGGACGGAACCGGAGGGTTTCACGACCCTATTGTCCACACTCGGTGGTGCGAGTCGGACTCGTCAAAAAAATCACTTCGGGGTCGAAGGGGTGGACATTTTACCCATATTGTGATAGGTACAGTATCCAACGGCGTCCTTAAGCTACAGTAGTCGGTATGACCCGTGTCCCGTATGACAGATGTAGTATCCCTACAACCAGAAGGAAGGGAATCACTGGGTGACTGGAAGTGGATACCTTGTGGTTTGACAGGGTCCCGGGATTAACATATTTTACCAGTCGAGGGACACGACCTCTTGCCGACTGTAAGGACACCTACTGCCCCTAAACCGAACGGAAACTAATGAAAGAAAAAGAGCCCACACCCAAGGTTCAGAGGAGAATAAGTTGGGTCTCCGACCCCAAACTACAAAGGATCGGGGACCCTACTCCCTACCGGTGCGATCTGAGACCGAAAGCGACTCTTCTACCACCTCCCTCGGCAGTCGTCACAGAGACACGTTCGACTCGGGATTACGTATCAACCTCGGGTCACGCACCCTTCGTGTAAGAAGACTGGTGTGTCGAACGGTCTGTGTGTCTCGCGCACAGCCGTCCTCGTGTGGTGGCCCTCTCAAACCGGGCCCCGAACCTTCAAGTTAAACTTGTCCGGAGGTTTTGACCCTTGTCCCGACGTCGGGGTCTGCTTAGAGGTCCGTCGAAGACACTCGAGAGTACAAAGGACGAAGGTTGGACCGGTCCCTAACGTTCGAACGCACCGAAAGAACGAAAGGGCGAAGACCCGAATCCGATGGGCCCTCCGGGTCTTCACACACTTGTGTTCCTTATCGATCCCCAGCCCCACCTTAGTTTATTAAGGAATAAATATAAAGTCCCTAGTGCATCGAACGGGGAAAAAATTAACAGGTAAAGCACCTCACGGATTCTAGCGGGGGTAAAGTCGGAACAACTTACCTGACTATTCTGAAAGACGAAGCATACTATCAATTGGAAACGGTTATTGGTCACATTTTCCGAAGCCACCACTATAAACGAAGAAACACAGAATAGAGAAGGGTTTTATCTTCCACTACTAACCTCTGGGATTAATGGAACATAGAACACCTTTAGAACGATATACTTTCACATTGTTTTTACGTCGTCGAGTGTCATCGCATAGTAAACATCTTTCCTTTTTAGTATCCGGCCCGCACCACCGAGTGCGGATATTAGGGTCATGAAACCCTCCGGCTCCGCCCACCTAGTGAACTCCAGTCCTCAAACTCTGGTCGGACTGGTTGTACCACTTTGGGATAGAGATGGTTTTTATGTTTTAATCGGACTACACCACCACCCGTGGACGTTAGGGTCGATGAACCCTCCGACTCCCGTCCTCTTAGTGAACTTGGACCCTCCGTCTCCAACGTAACTCGGTTCTAGCACGGTGACGTGAGATCGGACCCTTTGTTCTCACTTTGAGGCAGAGTTTTTTTTTTTTTTTTTTTTTTTTTTCTTCCTTTTCAGCATTATCGATCTAGAAAGACTCTGGGTTCTCAATCACAGTTCTGTTATTTAATCGACAAGACGTCGTTCATAAATTATAAAGTCACAAATCTTAGTCACATACACCGTGTAAGTCCGACTCCGGTCCACAATCCTCTTTGACCTGACTCTTGCACCTATCTGCCCGTAACCGGTACCATCTCTGGTTCTTTCCTGTACTGATCAGTAAAGTCCTTGGAATCAGTACCCTGTACCTCCTCCATGTTGTCCCGATTCAAACCTTCGCATCTCTGGGCGATCTGCCCGTCACACCTTCAGAGTCCCCCTCCCCGTCTGTCACTTCTACCGGACCTGATTCCGTAATCGTCACCCTTTCCGTACCACACCTGTGTACCCTTCCGTAAAACCTCAACTTTAGTTGTCCTGAACCCTCCTTACACATTTCTTATGGCCACATATCGAGAGGCTAATTCTCTCTGTTTCGTAACCTCCTCAACTTTGGAACTTAAACTCTGCAGTTCCCTTACAGTCACCCCTTCACAGGGTATCTGTCAACTTTTACTCTTGTACCCAGAGTCCTCCCTCCAGTACTACCTCTATGCTTGAACGCGTATAAAACATACACAAATCTTAATTACGGAACTCCTATATACCTTTATGTATTTGAATTACCTTGTTAAGGAGATAAACTTCCCTGTCTTTTTCTCTTCTCGGTCGGTCTCTAAGATTCTCCCGTCCCTCTCTGTCTCTCCGTCGACTCCCTTCCCCTGCCCTATTTTGATTTGTCTCCCCGACCCACACCACCGAATGTGGACATTAGGATCGTGAAACCCTCCGGCTCCGCCTACCGAGTGGACTCCAGTCCTCAAGCTCTGGTCGGACTGGCTGTACCACTTTGGGGCAGAGATGATTTTTATGTTTTATAATCGGCCCACACCACCGTCCGTGGACATCAGAGTCGATGAGCCCTCCGACTCCGTCCTCTTAGCGAACTTGGGTCCTCCGCCTCCAACGCCACTCGGTTCTAGCGTGGTAACGTGAGGTCGGACCCGCTGTTCCTGTTCTGAGGTACAATTTTGTTTTTTTTGTTTTTGTTCTTTTGGATTTGTCTCCCTGGTAAAATTTTTTGTTCGTTCTTTAGTTATCGTAGACTTCGGTGTCTCCTCCTTGTTGACTCCTCAACCTCCTGCAGTAAACGCAGATTGTTAAGTCTCCAAGAAGTATTCGAAGTCCTCTCCGTTCTCACCTTGTGTCTAATCTTACAAACTCTTCACTGGTCCTTACTTCTTCTGTGTTACAACCTAAAATTGGTTGCGAAGACTTTTAAGTCCAAATTTCCCGTCCTCTCGTTCACAACTCTCTTTTCTAAAATCCTACTAGTCTATGTCTAGATATTCGTCGACTTTCTTTCTGTGACCACACCGACCTGTTGACCTCCATCTTCTCTTATACCAATAAATCAGATGGAAGCGAGAAGTTTTACTAGTAAGATAAATAAATATTAAGGTTTTGTTTATGTACAGCACTAGGTCCGAGAGGCTACTAGGGTCAACTGGACAGAAGAATTAGAATCTCGGTGTGACGCAAAAGAAAAGAAAAGAAAGAAAAAAAAAAAAAAAAAAACTCTGTCTCAGAGTGAGACAGTGGGTCCGACCTCACGTTACCGCACTAGAGTCGAGTGACGTTGGAGACAGAGGGTCCAAGTTCACTAAGAACACGGAGTCGGAGGACTCATCGACCCTGATGTCCACGTGTGGTGGTGCGAGCCGATTAAAAACATCAAAATCGTCTCTACCCTAAAACGGCACAACCGGTCCGACCAGAGCTTGATGACTGGAGTTCACTAGGCGGGTGGAACTGGAGGGTTTCACGACCATAATGTCCGTACTCGGTGGCGTGGGCCGGTGTGACATAAAGAATATCATATGGCGTTGACCAAAAATTGTAGTCGATATAAAAGATAGACGTAAAATTCTTTACTTGTATAAAGGAAAAACAAGACCGCCACAAAACTTTAATCAATAAAGAGAACGAAGAAAGAACTAAAGTCACATAAGTAGCTCTAAATCGTCGGTCTTTACAAAACCATTGTCTTTTGTTACACTACTTTTATCGTCTGAAACCTGAGCGGTCTCTATAGTTGTTATATCTGATAATGTTTTTCTGGTGGTTACATTCAGCTACCGTCATTGTGTCACCCGTCCCCGCCCCCACTCCGAGTCTTACAAGGTCCTTCTTTCCGGCAGTTACAACTCTCGACCCACCCTACCGACCCCTGGGTAAGGGGACGGGGCTAAGGGCAAGAAAACTGAATGATAAGTGTTTGAGAGTTATACGTTTAAATCGGAGATAATACAGTTAAAATCATTTACACTTTGTGAATATATGTCTTATTAGTCGTTGGCGATCCTAAAAGAATACCAAGAGTAGTTCTTGAAAGTATCGTTTTTGATGTCGAACCTTCAATGACCAAATTAAAAACGGATTATTGACCAGTTCCTCGTAGACACACGATCCCTCTATTTCCTATCTTAGGTTCCTCTACCGTAAAATAATTGCCGGGTCTGGACACGTAGAGTGTGTAACAAGTACCAGGAGTAACCCTGACTAAAGACGAGATAACTGACTGATCATTTTTGGCTCTTATAGTCGAGAATTTGTCCCGTATCGGGATAACTCGGACGATTCTATTTAAGAAAATTTATATAAATCAAAAACGTAAAAGGAGATGTAAACGTCCCCGCCGAAGGTCAGTTCACCTACCGAGGTCTTCGGGACAAACTATCTCATATGTGAGTAGTCTCACTACACACTCATTGAGAGAAAAGAGACCGAAAAAGGACCCGAACTCGACGTTTTTATGACATGCATGAAGTGGAAAGAAGGAAGAAATCACCGACGACGTAAAGTGTGTAAGCATCTTCCACGTCCTCGACCGGAATCTTTCCTGTCTAAAATACCATCCGACTATTGGTTACGAGACAATGATTAGACGGACCGAAGTTTCTCGTGTCTTCCACCTTGACGACTGGAGGGGGACGGTCTCGCCTTCAGGAAGGGAACTTGTATAAGTACCTACACGTTGATGTTTCGCCAATAGATTAAGCGGTTCGAGAACCGTACAAGAAGTGAGGTAATTTCCTCATTAGGACCTCGAAAAGGGTGAATGCTCATCAAACAGTATAAAGGGAGATTGGGTCTAAACAGGAATTTCTCACCTCGACTCACTCTACACCAGGTCCGACCCCTGGAGGTGTCCCAGATGAGAGATACAAATAGGGAGTTGTTTTTCCAGACTAGAACGAAACCGTAGGAACTATCGTAAGATCTTTGTGTCATCTTATAAAGATAATACTATATGACTGTTTTGGTCACCCCAGTCCGAGGTTGACTATAAAATCTAAACTTTTAAGTCAACTTCCGACACACGTCACTGAGTATGGACATTAGTTAGGGTCGTGAAACCCTCCCGTTCCGCCCACCTAGTGCTCCAGTCCTCTAGTTCCGGTAGGACCGGTTGTACCACTTTGGGGCAGAGATGATTTTGATGTTTTTAATCGACCCGCATCAATACGCACAGACATTAGAGGTGATGAACCCTCCGACTCCGTCCTCTTAGCGAACTTGGACCCTCAGTCTCCAACGTCACTCGACTCTAACACGGTGACGTGAGGTCGGACCGTTGTCTCGCTCTGAGACAGACCCCTTTTTTTTTAGTGAACTTGATAAAAAATAAACATACTCGTCCTCCTCAAGACCCATCCGTAATTAAGACACGATGGTATCAACCAGGAGAGTTGTTAGGATTTTTTTTCTGTACTGATAGGGTAAAAACGACACTCGTTGACTCCGTGTCTCCGACAAGACGGACAGGACACGACGACGAAAACGAGACATCTTTTGACGCCTCACTTTGTGGTGGTAGCTCATGTCTTCCAACTCAAAGGTCTTGCTGGTACTACATCGATTTGGACCGAGAGAGTCGAACGAGGAGGGTCTCTAACTCGGAGGACTTGAACCGTGTCCTTCAGGTTTAGAGACTTCTCAGTTCACATTTATTTAATACCGGACACTCTACACAAGTCAAAACAACACACGTTGAGTAGACCCCGTACACTAAGGAGTAGGATTGGGGTCGGGTCACGACTAACGGAAACGCTAGAATCATTCAAGGTCTCGGAGACACGTCGTCTACAAGGCGGTCGGTGTGTCCCGTCGACACTAGGACGCCTCAACCGAACGACCGGAATAAGACAGTTGACGGGTAGGACCATCTAGTGTTGGGAACCCAGTCCGTGTATTCCTCAACCTTTCCTCGCATTTCCGAAACTTTGACTCTTTGACTCTAGGAACGTAACGATTGTGGTGTAAATTCTGTTCGTCGAGATAAGGTCTCACTACCGTCAAACGGAAAAACAGATAACTACCTTTTAAGGTAGTCGTGTAGGGGCACAGTAGTAGTAAGCCCCTACGAGAACGTCCCGTCCTTTCTCGTGTATCCTCCTTGACGTCCTCCCGGGTAAACAGAAACTTGAAGTCTTCACTCCTCCACAAATACAGAGTCGACCCGCACAAATCCAAAACCGTTGCACCTACCCAATCATTACGGCACGAAAGAGGAAAACAACGTCGACCAGGAAGCCCCACAATTACACCCTCTAGAAGTGAAATCCCCCGAGCGGGATGGGTCCCTAAGGGCACCTCCTTGAAAAATTCGACGACTTCCTTCCTGTGTCTTACCTATTCGGTCGGTTGACGTGGTTGCTTGACATTCCCGACAACAGAAAGGACGGCCACGGGGTCACCTGAACGGTGTGGTCATTATGGAGAGGACTACATAGAGCAAAAACTTCCGGGGACCAAAGGATTTGTACGAGATTCTTCTTACCGACTTCGAGAGACCCGAGTTAGGTCTCGACCCTATGTATCGCTGTGGCTGTTGGTAATGAACAGACTCTCTTTCTTGTAATAAGACTCATACCTCTCCCGAAACCTAGTCTCCCACAGACCGACGGACCGACTCCCGAGGACTGAAACGTCTCGGTCGTCCTCACCAGAAGGACCCGGTGACACGACGTGGAAGACGCCAGAGGGCACCTCACTGTCCTTCTGGGTGCCCAGTCCTTTGTTCGATCTTTCGGCGCCCCGGCGGGACGTCCCACATCCTAATTCCTTGGTTGTGTCGGAAAGGGACCACCAACACGGACCGGGGGCGGACCGGGGTAGCACCGGTCATCTCTTAGCCACAAAGGTCTTGAAGAGCTTGGTAACTTTTAACGGTAATGTCTAACTGCGGTTGGTGTAAAGGAGTCTCGCTTCCTTGAGCACAAACCAATGGATCCAGAGTGAACACAAAATCACGTCTCTTAATTTGTACACAGGTCCGCGGGAGGAATGACATGGTCTAGACGGACATTTTGGTACTTGACCAAACATCGTTTTGGACGGAGTGTGAAATTCACCTCAATACAACACAAACACTGCACACGGACCACGTTATCTTAGTCACGAAACTTTCCTCAGAGAGACGGAGGACGGAGTTGGGGAGGTCCTAATTGATTCTTCTCACTAACAGGGTCTTTGACGCCAGATAACACATAGTAAAGTACCCCTAAAATATAGTCATTAGGGCACTCACGAAAAGCCACATGGCACCTACAGACTACTTACCGGTGTAAAATATCGTATAATATATTTCCGTAAATAACACGAGAAACAGTAAGGATAACAAAAAAAAGAAAACATTGCATCTCCTAGACAGCTTTGGGTTTTAGTTCTATTCTGGACCCTTCGATTCGGATAGATTCTCAATTAGTCCTTCAATCACACGTCGGGTCACCACCGTCTAATTAAGTAGTTTTTGAACTTCAACATCAAAAGTTTAAAATAAATTAAAAAAAAATTGAGTCCTTCGACACAGTTGATCTTAGTAATTCTGGGTTTCGTGGCCCGTCTATTTATCACCTCGACGAAACCACGACCCGTCCCACAGTCCCCTCCCTTCTGACCTCTGGTCGGGTACCTTTATGCGTAAAAGGAAGTCGGAGGTTTCGTAGAAATCCCACACTGCGGTAACACTCTACAGTGACACCGGGTCCCAATGGTCCCTTTTGTGTATCGACACAGAAAGAACTACCGAAGCTACGGAAAGATTGTACAAAAACATTCAGTTTCACGGAAAGCCTCCTTGACCGTCCCTTCGAAAACCCTTTCACTAAGTACTGGGGGATTAGATCAACGAACCTTCCAAGACTACGTAAAAGGATTAAATGTGGTGCAGGGGTATAACGGATAATTTTGACTGATATTGGTGCATGGGTCACGTATACTTTAATTAAGTTCCTTTAGGTAAAAAGGGTCCATGTACTACTACTCCCTGACAACCGTACGTCACGGGAGGGTCTCTGGTTGCAAGTTCGTCAACCATCTTCTGAACCTAGCTTAAGAGTGAGAGTGTTGGTTACTCCATTCTTGAAGGAAGATCTTCGGGGAACAGGAACCAACAGAACACTCTGTACGCATCACAAAATGTGTGTGTGAGGGGACAACCGACAACCAACCTCAGACACCAGAACAAATAAGAAAAAGGTATCCCAGTCTATCAAGTTGATACCCAAGGAGAGTTTAGTACTAAAAAGAGTCTTGAAGTAAAACACTCAAGACTGAGTACTTTGGTTTCTGTCTCCCTGTAGGGGCTCCGACGGAAGTCACATCGACGACCACCTCGTCAGGCCCCATACACCCTCTCACCCTTTCCCCTTCGTCATAAGTGAACGTAAAACCACACGTACCCTTTTTCGAACCTAAGGACACGTTCAAACTAAGACACGAAACCAGTAATCACCCATTTGACTATTACAAGCAGTAGTAAACGAACTACCTTATGTTACTTCAAAAGATTGTGGTCGAAGACAATGGTGTCATGATAGGATACACTAGGACAACCATTACGATATACGGAACGTCGGAGAAAGATCCACATATATTTGTATGTGACAAAAGATGTTACTCGTTGAATGTACTAAAAATGTATTTTTGTACATGGAAAACAATTTTATAAATAAAAGGGATTTTATAAATACGAGAGCGGACATTAGGGTCGTAAAACCCTTCGGCTCCTCCCGTCTAGTGGACTCCGGTCCTCAAGCTCTCGTCGGACCGGTTGTACCGCTTTGGGACAGAGATGATTTTTATGTTTTTAATCAACCTACACCACCATACACGGACATTAGGGTCGATGAATCCTCCGCTCCATCCCCTTAGCGAACTTGGGTCCTCCACTTCAAACGTCACTGACTCTAACGCGGTGACGTGAGGTCAGACCCTCTGTCTCGTTCTGAAGTAGAGTTTTTCTTTTATTATTATTAAATACTAGGAACGGTTGTTTTATTTGTGAGCAGACAGTGAGTGACACGTTTAAATCGGTACAGTCACCGAGGAAGTTATACGTCTATCTCACGGAAAATATTAATACCTTTCGTATACGAGACTCGTCCTTTCTACTATTTGGGTAGTTCAGATCAGTTTAGAATTCTATCTCTTTAACAATTACTTACATAAAACTCTATAAATTACTCCTACGTGTTATCACAAGAAAATGTGTCCTTTGATTGAGGTTTGGTACGTTAACAGAGTTGTTCTTTTTTCAATTTCAGGGGGTTCATAAAATCTTCCTTTTATTATGTGAATTAAAGACTAAATCCTTTATCAAAATCTCACTAAAAAATTTTTCATTATTAGTTTACATCACTATACTTCAGAATCGAGTCGTCGAAATAGAATACGCAGACTGACACCGGACACGACCTATTTCCTTCTCTAACGTGAATTTACTTATGTCGACTGGAAGTCTTCAACTTTCCTTTCCTTGCCAAGTTCCCCCCCTTCTTTGGTTGAAAGAAGAAGACGGTTTTAACAACAAAGATCATATTCAAGGAAATTGACATCTGAACCTTAGATGACTATAGGGACAAAAAAAGGATAGTCTAGACTTTCAAATACCGAAGTAACTCTTTGACCCTTTTCAACCAGTCCGCGTCACCGAGTACGGACATTAGGGTCGTGAAACCCTCCGGCTCCGTCCGCCTAGTACTCCAGTCCTCAAGGTCTGGTCGGACCGGTTGTACCACTTTGGGACAGAGATGATTTCTATGTTTTTTAATCGGCCCGCACAACCACACGTGGACATTAGGGTCGATGAGGCCCTCCGACTCCGTCCTCTCAGTGAACTTGGCCCCTCCGCCTCCAACGTCACTCGGCTCTAGTACGGTAACGTAAGGTCGGAACCGCTGTCTCGCTCTGAGGCAGAGTTTTTTTTTTTTTTATTTTTATTTTTTCTTTCTTTGGCCCTTTTCGTGATTTCAAGATAAAATTACTAGAGTACAGATACGAGTTTCACTAAATAAATATATAAATGTACATCTCACCCAGGCAACTATGACTTTAAACATAGATCATGGGATTTTATTTTTTCGTCTTACGGTATAACAGACCACCTATATTTTTAGCTTCAAAGAAAGGAAGACTTTTAGTAATGGTATACGAGTTCTTTTTGCCAAGGTAAATCCTGTTTTAAAGCAAAAATAGTAACATTCGTTTTTCAAGAGAAAACTACACCACCCGCACAAACAAAGGTCAACACACCAATTACGACTACAACAACCTTGACTATGTAAGGGGAAGACCCTACGACCCTACCCCTGAGAAAGAGAACGGTTGGGACCACTACTTAATCTCCCAAAACACACACACACACACACACACACACACACACAGAAATTTTTACAGATCAACGGTTGTAAGGTACCCGAGAAAAGACTATTGTGACTCCGACAAACACGACACCAGACGTGAAAAACGGGGGAGAGTCGTTTTGGTGTACAGTATCTTATCAACAACCGAAGACCTACACACTCGTCTTGACGGGGTGACACGGTCGGGTCACCTCCGTCTCTCTGGGTGTTCAAGGGTTAAATCTTTCGAAAAGTATCGAAGTCTTGTCCCCAGCCGTTGACGAAAGACATTTCCCGGTCCCTCATTTATAAAAGTCGAAACGGCCGGGACACCAGAGACAACGTTGAAGCGGTGACATCGGAGTTTCATCGGTGTCTGTTATACATTTATCTACACAAGATCAGACAGAAGATCATTTTAAAATACCTAGGACTTTAACCTTAAAATATATTAACATATATTTAAAATAAGTAAAATTAGGATATTCTATAAGAAGAAGAAAACTAAAAAAAAAAGTTGGCGAATGGTTACAATTTCTGGTAGAAATCGGGAGTCCGGTATGTTTCAGCAGACACCCGTGGGTTCAGCCTCCTTCACAGTGGGACCCCACTAGGTCTCCCGAAAAACGTCGTGGTCGTGACCTACGGAACCCCTCGTTTCCTGTGAAAGACTTAGAGCTTGGAAGTTTTGAAACTTTGAATTGGCTATAAAAGGACTTCAAAGGAAATTGTCACGTAATACCTAAATTGTATGTACTCATACAGATTCGGAAAAAACTTGGACAAATGTAAAAGTTGAGCCTCTCGAAGACTCTCATTAGTCAATGTAGACAATTTAATGGGTGACTTACTTCTTCATAAGGGGAAGTTAATAGGGGCTTTGATGTTATCATTTTACATTAAGTCTTTTATTTATAAGTATCAGAGTTGATGAATTTCCCCCAGACCCCTGGGTGTTGTACAATGGCCAAAAGTAAAACGACCCCGAGCGTAAACTTCGTTCCCGAGATCACTCCTCCACCACATCTGAGTCGCCCAATAAATCCAGGCACACTTCGGCTCAACGGACGGGTCGTGGATATCGAGTTGATCCAAAATAACAAGAGATGGACAGTTATCAACTAAATACTACCTAAGGTTCTCTTTTCGATTCCTGTCGGACCCCATGTAGTCTGCACCAGAGTCCCTCCAGAAGCACCTTCAGTCCACCCGACCCAGAGACAAGTGGAAGATCCCCAGAGGACAGGACAGGGTGCAGGTTATGGGTGTAGAGTTCTCAAACACAAACTTTATTTTGAGAAGAGAAGGGAAGAAAGTCCTTATGAACCTGGAGTCAGTCGGAGAGCTTGGCATAAGTGGAACAATAGGACTGGGTTCTACTTTATTTTGCAGAGAGAAGGGAAGAAAGTCCTTATGAACCTGGAGTCGGTTGGAGAGCTTGTCATAAGTGGATCAATGGGACTGTGTTCTTCAAGAACAAGAAGTCCTCTACTAAGACAAAAAAGAGGTCTGGGGTACGGAATGCTTGGTACGGAAGGAGTCATAGGTGTGTATTTGCCGTCACAATTTTGTACTTACTGACACAGACGGACAGGGGTTTGTCCTGTCGTGACCCTTGGATCGATGTGACTCGTCCCTCTGGTACGGAGGGTCTCGAACAACAGAGGTGAACATATATACCTAGTCTCCTCATTTATTAACCTTTTCATTAGTCGTATACACATTTCTAAATATGTCAACTTTTGAACATTAGAAGGGGTCCTCCTCTTCTTCCAAAGACCTCGTCACCTGACGGTGTTCGGTGGTACATTGGGGAGAGTGGACGGCACGCATGACCGACACCTGGTCATCCTGAGTTCCACCTGCACGCAAGACGGAAGGAACAATTAAAACATTATTAACCTCTTCTAAATACAGTCGTGTGTGAATGTCTCGTGTTTACGTCATATATCCACGACCTACATACATTTATATAAGTTTAATACATATTTATATATAATATATAAATGTTCCTCAATAAAAAACATAACTAAAATTTACCTACAGGGTTACGTGGATCTTTTAACCAGAGAGAAAAAAATTATCGATAAACGATTTACGACAAGAATGTGTATTAAAGAATTAAAAGTGGCTCGTCTCCACCTTTTTATGAAAACGAAAGTCCCTTTTACCATATTGCAATTAAATAATTATTTAACCATTATATGTTTTGTTAATTAGTAAATATCAAAAAAAACATTAAATTCACCGTAAAGATACGTCCGTCGTGTCGTCTGATCAATTAGATAACGAACCTGAATTGATCAATAGTCTAGGAAACTTTTCTCTTATAAATGTTATATACTGATTAAACCCCTTTTACTTCAAAACTAAATAAACACAAATTTACGACGACAGTCTGCTAACAAGAATCTGGAGGATTTACGGGGTATAATTTTCTTGAGTAAGTATCCTTCCACAAAGTAAAACCACACGTTGGGACAGTAATGCAGTTGCGTTGCAGATTGACCTGAAGGGTTCTATTTACCATGGTCGCAGGAGAATTTTCTACGGAATTAGGTAAGGAACTCCTGTCTGGAATCAACTTTACTATCGTCTTACACGAAGAGAGACCGTCGACCGGAAGACGAAGACTCAACGTGTAATTAGTCTAATCGGACATAAGAGAAGTCACTTAAAACTATTACCGAAGGTCTGAGAAACCGCAACCTCTGCGGACAATCCTAGAAGTTCAGGGTAGTATCTTTTAACTTTGTGTCTCAACAAGACGACTATCAAAACCCCTATGCAGGTAGAAAAATTCCCTAACGAAAGTAGATTAAGACCGTCCTGGAGTGGTTTTCTAGGTCGGAGTATGGATGTAGTCTGTTTTATAGCGGCAACAAGGAAGACATGATTTCATAACACAAAACGAAACCTTTGTGGGTGAGTGAAACGTTATCGGCACGTTCTACTTACGTCTAATGTGACTAGAATACACAATGTTTTAACCTCTTTCATAAATTATTTTGGACAATTAAAAATATGACTGTTATTTTTACAAAGATGTCTATAATTACAATTGTTCTGTTTTATTTACAGTGCGTTGAATAAAAAAATTA\n"
          ]
        }
      ]
    },
    {
      "cell_type": "markdown",
      "source": [
        "Преобразуем последовательности ДНК в РНК путем замены каждого вхождения тимина (T) урацилом (U) в соответствии с правилами комплементарности Уотсона-Крика"
      ],
      "metadata": {
        "id": "CICL060Z3pCt"
      }
    },
    {
      "cell_type": "code",
      "source": [
        "m_rna = minus_strand_seq.transcribe()\n",
        "m_rna"
      ],
      "metadata": {
        "colab": {
          "base_uri": "https://localhost:8080/"
        },
        "id": "tqb7SvoV3p_9",
        "outputId": "012e4b03-e4bd-4e5a-f402-acd8fb559c1d"
      },
      "execution_count": 19,
      "outputs": [
        {
          "output_type": "execute_result",
          "data": {
            "text/plain": [
              "Seq('CCGCCGCCGACCUCCUCUCGCGCCACCUCUCGGCUCGCCCGCCCGCCGCCCACG...UUA')"
            ]
          },
          "metadata": {},
          "execution_count": 19
        }
      ]
    },
    {
      "cell_type": "code",
      "source": [
        "len(m_rna)"
      ],
      "metadata": {
        "colab": {
          "base_uri": "https://localhost:8080/"
        },
        "id": "1-nY5DRX3wcq",
        "outputId": "93a29043-f94c-416f-e8af-f1e2dbf477cd"
      },
      "execution_count": 20,
      "outputs": [
        {
          "output_type": "execute_result",
          "data": {
            "text/plain": [
              "120128"
            ]
          },
          "metadata": {},
          "execution_count": 20
        }
      ]
    },
    {
      "cell_type": "code",
      "source": [
        "m_rna_start = str(m_rna).partition('AUG')\n",
        "m_rna_start_translation = ''.join(m_rna_start[1::])\n",
        "print(m_rna_start_translation)\n",
        "print(len(m_rna_start_translation))"
      ],
      "metadata": {
        "colab": {
          "base_uri": "https://localhost:8080/"
        },
        "id": "mCsx_Gfu30hc",
        "outputId": "edd37af0-8b61-4b6b-fcc1-7b0e35dd5356"
      },
      "execution_count": 21,
      "outputs": [
        {
          "output_type": "stream",
          "name": "stdout",
          "text": [
            "AUGGACCGGGCCGCGCCGCUGACGAGAGGCCCGACCGCCCCCGGCCGGCGCUCGGGGCCCCCGGGGCUCCGGCGUCGAACGGACGCGCGAGACUCGGAAGCGUUGAGCGCUCGUUUCAAACCACCUCCGUUGCGGUUCGGACUCAGGAAAGAAGGAGAGCAAGGGGUUUAGGCUCCCGUCGGGCGCCCGCAGUACGGGCGCGAGGAGGCGUCGGACCCCAUGCGCACUUCGGGCCCUCCGAACCGCGGCCGCUUCUGGGUUCCUGGUGAGAAGACGCAAACCUCAACGAGGGGCGUUGGGGCCCGAGCAGCGAAAGAGGUAGGGCUGGGUGCGCCCCGCGCCCCUGUUGUGUCCAGCGCCUCCUCGCAACGGUAAGUUCCAUUAGCGGCGCGUUCUGCGGAGCCCCUCGAAGCGGUCGGCCCCUGCACCCGCGGUGCCCUCGGGCCCUGCGGCCCACGUGGCAGGAGGCCCGCCCCCCGCGCCUUCCUGAUCGUAACACCUCCUGCGAGGCACAGGAGGGAGACACCGACGUAUCCACUACCCCCUCCACCCACGCACGACUGCCGGCCGCAAGACCUUCAAGACGGAGACGAUGGGGGUAGGUCUACGACUGUAGACGAAGACCGCAACUGCGGGGGGAGGGACAGUUUGGGACCGCCCGCGUAAGGGCGACUGACCCGCGCAAAGAGGCUGGGGUCUCGUCUGCCCGCCUUCCAAGCGGACGGGCACCGUGUCGGGGCGUCCGGCCAAGGGCCCCAGUAGAGGCUCCACGGGGUAGGCACACAGGACCCUUGAAGGCAUGGUAGGUCCGGGACGCCUCUGGGGAAAAAGCCCUCCCCCGGCGACCCCACCCCGGCCACUGUAGGGCAUCCCCACCGCUACCGGUCCCCACCGUGACGACCCCUCCGCUGCCGAGGCCACGGACCCGCGGGGAGCGGGCGUCGGCGGCAGCCGCGACCUCCCUCGCGUCACGCGGACCCCGAUCCCCCGCUUGACCUGGCUGAAAAAGAUCAAGCGGACGGACGAGACGGCGUCGCCGACCCUCUACAGCUUUCGCGUCCGCUCAAGAUUGAACGCGCGAGUAAAAAAAGCCGGUGCCCCGGCGCGACCCCUUUUUUCGGCUCCCGGGACGCACCGCGACCGAGGCUGGGAGCGCCUGGUGCCUGGACCGCGUCCUCCGGGCGAGCCCCUGGUGGUCGGAGGCAGCGAGAGGAGCGUGGGGCGAGGGAACGUCUGGCAAGAGGUCUGGGAGGAAGGAAAGAGGGUUAAGUUAUUUUGGAUGGGAAUUUCCGUUUGGACGAAAGUUUGAGUCCCGUGGGUAAUACACAAACCACACUUUGCGAUAGUUGUAAAUUUUGAGGUAACAGAGGGACCAGGGUUUAGGGACAUUUAGAAGGUGGCCCGAGCUGAGUAAAAGUAGACUUUUCGGACAAAUCAAACUUAUCUUUUCGUUAGUCCGCGGGGAGAGAGAAAGGGACCUUACAGUUAAUUUUACGUCUAAAGAGACUCGAGAAAUCGCGGGGCUCUUCCCCCUCUUUUUGUCCUAUAAAGUCCGUUUGUUUACUUUCUUCACGACGGGACUUUCCCCCACCACCACCCCUCGUGGGGGUUCGACGAGCGUUCAAGACUAACCUGCGUUCGUAAUUUGGCCCUCCCGAAACACCAGGACCCAGUCACACACAAAAAACUCUAAAGUUAAACAACUCCUUAAAGGGGGAUCGGAACUGGGGAACUGUCGAGGGCGAGGAUGAGUCACGACCCCUCUUCAUCCCUCCGGAAUUCGCUUCUCUACCCAGACGUGAAACCUCCUCGGCCUGUGACAACUGAAAGGACUACACUUUAGAUGGGUCCUUGUUUUGUGGUCCACUAGGGUCACCGGCUCGGUCGUCACCUGUCUAGUGGGGAAUCCACCUUCGGGUUUCGCCUCCCGUGACAUAACCAGACGGAAGAACCUCCCGCCCCCAAAACCCUUACAGUACCAUUUAACUUCUCGGGUCGUGUCCGGACCGUACCCCUGGCGAGGCGUCGGUUCGGGAAGGACGAACAGUGAGACGGACAGAAACCCCCGUCCGAACACGGCUCCACUUUUACCUGGCCCCCCGCCCGCCGGCUCUUCUCGGUAGGUAGUCUCCCUCCCACUGUUGAGGAGGGCGCACGUCCGACUCUUCUCUCAAGGGAAAGUUCCCCUUUUUAUUUGUGCGACCCCGAAAGUGACCCCGAGUCUGAGGUCCUUCCUAAUACCAUAACUUCCGUCCUUCGGCCCUAACACCGGCGGUCGCCGUACGACCCGGACAUAAGGGUUGUGGCUCGGACCCCUGGAUUAAUAGGACGGAUCCUCCAGCGUGGUAUGAAAACAGGUGACCACACUCCUUGACACGUCUGGACAGCGGAAUCCAGAGGCGGAAGGUCUCAAAACCCCUCCCCCGACGGCACCCCAAACCUGGACCUUUACCGACUUUACGUUUAAAGAUCACGGUCGAUCGCCCUACUACCUUGCCGAACUCUAAGUCGCCUCGCGGGACAGGUGGAAAGAGACGGACCUCGGUUCCUCCGAGGAGACCCGUCCCUGUCCACCCGCUCGUCCGGCCCCUUCCUCGGACCCCACUUUGGAGACGCUCCUGAAUCCUAACAAGGACUUCAGCACAAUCUCCAUCUUUUAAGGGGACGUAAGACGUUUACGAAUCAUUUAGUUACUCUUACAAACACAUGAAAGGAGGGUGUACAUACAUCUUUAUCUAGGCUUUAAUAGAAGACUCCGAGAACUGAUUCUCCUUUCUUUUCAAUUCUCCUUUUUAGAAAGUUCGAUAGACUUUCGUGUACGUGUGUGGCACGUGCGUGUGUGGUACAUGUGUGUGUGUGGCACGUAUGUGUGUGUGGUACGUGCGUGUGUGUGGCACAUGUGUGUGUGUGUGACGUGUGUAUGAAAAGAACGAAAACGACACUUAGUGUGGCAAAGUGGACACGAUAGAAACUUCGUCUCCAAAAGAAAUAAGGAGGAAACCUUUACUACACCGUAUAAGAAAAGGGAGGAGGUAAAAACAGGAGUCAGUUUCGAUUUUCCUCGUCAAAAAUACUACUCUAAACCCCUCCGAGGUCGUCACAACUUUAGGAUACUGUAUUGAACUUUGUAGCUCACCCAUGUAUUUUUUACAUCUCAAAUCUCUAAAAACAUAAUUUCCGGAGGGACGGUGGGGGUCAGAAUCUUUUACACCAAGUAAGGACACCAAGUGUCUUAGACUUCGGACUCUAACUACUCGGGGAAGAACACUAACAAAAUUAGUAAGAGAUUUCAAACACGUAAAAUGACAUGGGAAUCAGUGUCUCUCAUGACUCACUUAAAUUUCAACGAACCUUAUAUAAUUCGAAAGAACCUUUUAAGAGAAAGGGAACCUAGUUUACCCACUUGUCUUAUAAUUCAACUCACAGGAGAAGAUUGAAUAUGAGACUUUUAAAUCGGUCAUCCAAACGUAUACCUUUCAAUAACCAGGUUAGUGUAUGGUACUGAUAUUAAAUGUAUUAAAUGUAGUAGUAAUAAUUAUUUAAGGACGUAAUAAGUAGUCUUAAACGUAGACGAGUCAAAGGAGUGGGAAGAUGUCUCCAACUUCUGUAAAUCGUCGGGACCUGACGGUAAAUCAGUGUCCCCUUCCCUUAAGUCCGAAGCUUCAGGAAAAACCUAGUCGACGCAACUUACGCGACGUCAACACAAGUGAGAAGCAUUCACCGACGAACCGCCUUCUGACUUUCUGUGAAGAGGUAAACUUUUACUUAGGACUGUUCACAUUUGACCACCCUUAAAAGACAUCGGAAGGACCCUAAGAAAACUAAAACGACCAGAGGAAAGAAGGGUUCUCGCUGUCACUCCCACCCUCUGACGAGUGGAGGUCGGGUCGUCUUUAUGCCUCGACACUCGUCUGAGGAGGUUGUCAAAUCGAAAGAUUUCGGGUCAACCUGAUUCUCUUCCCUUGCUCCAACCAAUACGGUUGGGCUCGUAAAAAUUGAACGAAAACAUCAACGGGAACUUUGAUUCCAGUGCAACGAAGACGAGUAACUCCCGCCACCUCCGCUAUCACCUAUCAUCUUCUCUCGUGUGUAACGGAGUGACUUCACCGACGUGCAUAGACUCAGGACAUCGAUGACAAAAUAGAGACAAAGAAUUUUCAUACGAAAAUUUUUCUAAUCGGAGUGUGUAAAGACACCUGGCCAGACCACCAUAGUGGACCCUGAGACUCCACUCCUACCUUCCUAAAUCGUCUAUUACUUUUUCUUGAGACAAACGCGUGUAAACUCUCCGACUUUUUACCAAAAUAGGGUGAACCCGACCUCACUAAACCGUAACCCCUUCUAAGGGACUGAGCGGUUAGAGAAAGGAAAUCACUGACGUCGUCGUCGCCGUCGCGGAGCCAAGGACUCGGGUGGCGUCCGACUUCCGUAACGCGCAUCAGGUACGGGCAUCUCCUUCACACGUCUACCCUAAUUGCAGGUGUACCUCUAUACCUUCUCCUGGCCCCUAACCAUGGCAUUGGUACCAGUCGACCCCAGCAAAGUAGACGGACCAGCACCAGUGGUACCGUUGGAACAGGGACCGGGCCGGGAGGAAGUCAAAUCAACUCCUAUGGUGUAAUCUCGGUCUUCCAUUCAGUAAAUUAAAGUGAAAAGUCCAAACAAAACCCUAAACAGACCCCCGUCUAACAAUUCCGGACAAAAUCUUAGUCGAUGGGAACGUAACAUUUACCCCGAAGAUUCUCGUGGUCUAGCACCAGAGAACCGAGGGCCGUUCCGUCUCGACUACUCUCUUCCAGGAAACGGCGUCGUGACGUCCGUCCUACCAUAUCAAACCACCAAAGAACGACACACACAAAGAGACACGACCCACUCCCUCUGUCGACCCUCAACCGGAAAUAGGUCACGGGCUCUCUCGACACCUUCCCUACUUGGAACCCUCCUACUUACAGUAGAGAUCAGAGGGGGUCGUAGUAAGGAUGACGAAUGUUACAUUUCUUAACGAUAAAAGCCUGUUCUACUUGGUGAUUUUCUUUAACGGUUGUAGACUUUACGACUGUAGAAUAAAAGUAACAAAUUCCUCUUUUCUUCAAAGACUUCAAAUCGUGUCUCUCUCUCCGAACUGUAGAGUCUUAAAAAAAAAUCGGUAACAUUAAGUAUUAUGAAUUCGUUACGUAGUAGUGUCUCACCGUCUAAGAUCAAAUCCAUUUGAACUUUCACUUACACGGUCCCCUAGAGGAGGUCGAGGCUCUUGGAGGUUCAUAGUGUCCCGUACGCGGCCACAGUGUCGAAACCUUUAAAUUAAAAGUUCCACAUUCAGGUUAAUGCUCCUGAUGUACUCCGACUUAAUAAGUCGAAUCGUCUAAACCUUGGAGAGAGGGUCGGGAAACCUCUGUUGCACUCGGUUCGGAGAUGAACCACGACGUGACUUUAGACAGUAGUCAUCCCUUAUAACCAUCGACUCAAUAAAAAGCUCACCAUUAGGCUCUUAUUUUGCCGUCUAGGGUCGUGAGUAGCGGUGAAUUACUUGGACAAACACCUCUCAGGUGGACCACGGACGGACCGAAAUCCUUGGGCGUCGUCAGGCUCACCACAGACCCCAUUCGACUCGACGAGACCCUUGUGUAGAGCACGCACCCCACUUACUUGUCGUGUGAAUGGGUCACCCCAUCCGACCCUCUCCUGUCUCUCGGGUCGGAGGAAUCGACCUAGUCCUGUCAAAUCCUUCCUCCCAACGCAGGUAGACUCUACUCUCAAGACUCUCUGUACCCGAGGGGUCCUUCUGGGGUCCGUGAACAGUAACUUCCUACUCCUGGCUUCGUGAAUAGUGGACUUCGUUAGCACACUCUGACCCCUUGAAAAGCAAUGUGUCUCCCUACCGUCGAGAUAUUAAUUGUCCACACCACUGUAGAGGGACGCAGAGACCCUUCCCUUAGACCAUCCUCAAACACAGACUCCGAACAUAUCGAUGUCGAUGUCCGGCUAAUACCUUGACGGAGAACCACUAAACACGACCCUGUGGUCCUACUCACAUUAAACGUCACCACUACGUAAAAAUGUCCCGAAAGUACAUUCUCCCUUUUUCAAGGACCAAAGACUUUCAGUACGGACAUGCAGAAAUUAAAACGAUUAUUAAUUUUACCUACAAAGGCACUAACGACCAAAAGGGAACUCACGCACCGAGCCGUUUUUGACUCCUUCGACUCGACCCUAAAGGAUGCCACACCCGAAAUCCUCGUUGGGUCCAAUCCCUUUUUGACAGUAAAAAGUAAAACCGAAAAGUCCCGUCGCAAUAACACUCAAAUAAAGUUGUAUUUCACAUUUUACCAGGGUCUCCUAAACAAAAUGACAUAAAUUAAGAACUUCCUUCAAAUUUUAACACAUAUGUACGUCCCUCCCUGUCCACUCCGUCUCCCUUCUUUAGCACCUUUCCCUGCUUCAAGGGGCUCACUCAGAAACACAUUCUUAAAUGUAGGUUGUUACACCCAUAACAACCUUCGUCCGGACGAGUUGGACCCUAGACACCUACGUGAAUACCUAGUCCUUCCUCCAGCUACUUCAAGACCUUUAAAAUCCAUUAUAAAACAAUUACAGGAAAACACGUAAAAAUACCCAAAUAUCAAAGGUACUCGAUACUCAAGUAAACGUAGGUCUUAAUACUCUACCUUUUCUUUUCUACAGAAUCUCCUUCCACGUUUUGGACCGUUUCUUCUCCGAAACCUUUUCAUAUGUUCAGGGUCCGGAGUCAAAGGGAAAGACAGCAGACUCCCGAAUUCUUCUACUAGAAAUCCCAGAGAAGUAAUUAUCAGUAACUUAUAAUUACAGGAGUCUUCAGAAGACUGAGAAGGUGGUUUUCCAACAAUCCUCUAAAGGUAAACUGGACCUGUAUUUCUCGUUAAUCGUGUCCCCGACCGUAGGUCAUUCGUGGCCCACGUACCGGAACAGCGGCAACAGCGGUCCCUCGACCCUUGUACCCAGAAGGGUCAGGGCACCCGACCGACACGGUCCACGGUGUUACAGUUUUUUGUAGAUCCGAAAACCUCUGUCAACUCUUCUUUCAACAAAAACCUACCUCCUCCGGGAACCACAAAGGUCCUUCGACACAAACGAAAGACAUCCCAGGGGUGAAGGGGAGUAGACAAUCAGAUUAUGACCGGUGACUAAACUCGGGAUUCUGGUCAAGAAGACAACGUCCUCAAGCGAAACCACAGUCUCCACUAAUCCUUCCAGUAACUUAAUAUCUACUCUUUCCUCAAAAAUUGUCGACUUUUACCCGAGUCCAAAUCCGAGACACGACCACUUAACCUUCUCUCUCUCUCUCUCUCUCUCACACGCACACACACACACACACGCGCUCACGCGCACGCACGCACGCACGGACACGGGGACAGGUAGUCAAGAGGUACUAAUCUUGAUGAUAUCGAAACCAAUCGUCAUUCAAGGUGGAACUGGAAGACACGUGGUUCCAGAAUAGAACAUUCUGAAAAACCAAACGAUUAAAUAAACCUUCGAGUCAAAUCUAUUACAGAUAACCUAUCCUCUUUUUACACUGACUCUUCAAGGUCCUUCUUCGGACCCGGGAUUGUGAUCUCCCAGGAAAAGAAAACCGGGGAGUCCCUUUCCAAUACAAAUCAGUAGAACCGAAACACGUUAUAGCAUAGUAUAGUAUACAGUAUAGUAUAUAGUAUAUAUAGUAAACAGAAGACCUGUGCAAGACUUUAUCAUCGUCACCCCAACCCGGGUGAGUUAACUGAAUUCUUUUAUUAGAGAUCUUCUAAAAUCAAAAAUUAUAAAGUCUAAUUUAUACUCAAAAGGUCAACCAGUAAGUAACAAUUAAAGGAAAACCAGUAAGUAACAAUAUCCCGUGGUCGUCUCCUCACUUUUGUACCAAUAACUGAGCUUCCCCCCGUCAGGAGUUACGGUUCAUGAUAAGACAACUAAUUGUAAUAUUUAUAAACUUCAGAUCAGUUCGAACUAAUGGGACUCUCCCCCGUUGAGAAUGAAAGUUCAAGAAGGACUGUAACAGUGGAUGAGACCAAUUAAUUCAGUAACAACUGUAAUUACCGUAGAAACAAAUGUGGUUGGGUCAUCCUCGAUUUUACUUUCCCGAAAAGUUGGGAUGUGGGAAUUAAUGAAAGGGUGGGAGGUGUCUCACACUGAGACUUUUCAUUGUUGGACUUUUUUUUACAUCAAACACAUCGUUAAAAAACAGUUAGAAGACUCUCCACUACGAGAGGACCUGGUUGCACUCAACCAGGUCUCAAGUCAUCGUCUUUGCAGCUCCUGUCCUAGAUGUGUCUCUGGAGGGAUUCAGUCUAAAAAGGUCAUACCAAAUUCAGGAAACAAUCUUCAUAACAUUUACGGUAUUAUAAUUGGUAUGCGUAAAUUAACGUUCAAUUUUCUUUCCUUCUUUCUUAUAUAGGCGUAUGGUUCUCACUUACUAAAUUUUAUUAGAAGACAAAGCAUAAUAGACGUAGAAACAAAAAGUUAUACUCACAAUUAUAAAUUCUCAACUGACAUUGAACUAUCAAUCGAAACCUUGUUCCUGAAUAAGAACCAGUUAAUUUGGUUUAUGUCCGAAUGCGUCAAUUUAUGUGUUACUUCAUGUGUAAGAAAUAAUCAUAUAUUUCACAAAGUGUUAAGUAUCUGGUUCUCGGUACAAAUUAUAAUGAAUAUCUCGUCUUUAGACCGUUCGGGUCUCUUGACCAUGAACAUAGUAAAAUAUGACCGAGAGAGACUAAGUUUAAACCCCAUAUACACACACAAAGACAAAACAGACAAAUAAAGUUGGUCAAUUUUCUGUCUCGUGAAUGAUACGGUUACCGGGGCGUAGUUCGGUAUUCAUUUCUGAAAUAAGGAAAGUUCAGAAAGACUGGGUCAACUCCCACUCUUAAGUGUUUUGGUGUCGUUAGGUUAUACUCUACAAAAAUUAUAGUCUGAAUUGUUUAUUAAUGUACCGAUACUUUAUUGACCCCAGCACAAAUUUGACCUUCACAAAACAAAUUACAAGCAUCAAAGUUAUUUUACAUAGGUGAUCAGAAGGUCAAACGUCUGACAACAAAUCCACAAACAAAUCGGUCCCAUUAACAAUUUUUGAGGGAGAUUAGAUCGAAUGGGAAUGUAAAGGUACCUUCGCUUAAAAUCAGUAAUUUCCUUUUGUACCCUUUAACUAAAAACCCACGGACCGACAAUUCGAUCCAUCCUUUAUAUCGACCACACGAUGAGAGGUGACAUGACCAGGCUAAGAGCGGUCCCCCUGUAGAGACAUCCGUCAAGUCUUUAAUAAAAAACCUUCAAAAAAUCCGAUAAGGUGUCUAUUAAGACUAGGUCAUCCAAAAUACGUUGACACGUUUUACGAAUACCAGAGAUAAAAAAAAAGGAACUCUCUACUAAAAUCGGAAACCAAAAAACAAACAAAAACAAAAAACUCUGUCUCAGAACUAGACGGUGGGUCCGACCUCAUGUUACCACGUUAACAUGGGAGUGACGUAACAGUUUGCACCGAGUGACAUGGGAGCCUGAGGACCCGACUUCCCCAGGAGGUUGGAGGACUCAUCGACCCUGAUGUCCGGACCUAUUAAAAAUUUUUAUAAAGCAUCUAUACCCCAAAGCGGUACAACGAGUCCGACCAGAGGUUGAGGACCGUCGGAACCGGAGGGUUUCACGACCCUAAUGUUCACACUCGGUGGUGUGGACAGGAUCGGAAUUCAAAACGUAAAAAAAGGUAGAAAAACGACAUAGGGUAUACUAAAUCUCUAAAAACGACAUAGGGUACUCUAAAUCUCUACCGAGAUGAAAAAAAUCGAAAGGAUCGUAACUUUACGAACCACAACGAUUAGUAUGGGGUAGAAAUGGUGUGGUAGAAGGAGGGACUGAACGGAAGAAUCACAUCAAACCAGUUCUUGAACUCCGGUUCAAGAAAAAAAAAAAUUUAAAUCGAAAAUAAAAUCCAAACCCCCAUGUACACUUCCAAACAAUACAUCCAUUUGAGCACAGUACCCCCAAGCAACAUGUCUAACAAAGUAGUGGGUCCAUAAUUCGGGUCAUGGGUUAUCGAUAAAAAAGACGAGGAGAGAGAGGAGGGUGGGUGGGAGGUGGGAGUUCAUCUGGAGUCACAGACAACAAGAAAAGAAACACAAGUACUCAAAAGUAGUAAAUCGAGGGUGAAUAUUUACUCUUAUACGUCAUAAACCAAAAGACAUAAACCAAAUAACGAUUCCUAUUACCGGAGAUCGAGGUAGGUACAAGAACGUUUUCUGUACUAGAACGAGAAAAAAUACCGACGUAUCAUAAGAUACAACAUAUACAUGAUGUAAAAGAAAUAGGUUAGACAAUGACUACUCGUAAAUCCAUCUAAGGUACAGAAACGAUAACACUUAUCACGACGUUACUUGUAAACACACGUACACAGAAAUACCAUCUUACUAAAUAUAAGGAGACCCAUAUAUGGGUCAUUACCCUAACGACCCAGCUUACCAUCAAGACGAAAAUGGAGAAACUCAUUAGCGGUGUGCCGAAAGGUGUUAAUAACCCGAUUAAACGUGAGGAUGAUUGUCAUAUAUUCACAAAGGAAAAGAGACGUUAGAGUGGUCGUAGAUAAUAAAAAACUGCAAAAUAAUUAUCGGUAAGACUGAACACACUCUACCAUAGAGUAGCACCAAAACUAAACGUAAAGAGAUCACUACUCGAAAAAAAAAGUAUACGACCACCCUGCAUAUAUACAGAAGAAAACUUUUCACAGAUACAGGAAACAGAUGAAAAAUACACCAAUAAACAAAAAGAGAACAUUUAAAUUCAAGGAAUAUCUACGACCUGUAAUCUAGAAACAAUCUACGUAUCAAAUGUUUAUAAAAUAGGGUAAUGCAUCCAACAGAUAAAUGAGACAACUAUCAAAGAAAACGACACGUCUUCGAGAAUUCAAAUUAAUCUAGGGUAAACAGUUAAAAACGAAAACAACGUUAACGAAAACUACAGAAACAGUACUUUAGAAACGGGUAAGGAUACAGGUCCUACCAUAUAACGGAUUCAACAGAAGGCCCCAAAAUAUCAAAACCUAAACUGUAAAUUCAGAAAGAAGGUAGAACUCCACUAAAAAACAUAUACCAUAUUCCUUCCCCAGUCGAAGUUAGAAGACGUACACCGAUCGGUCAAUAGGGUCGUGGUAAAUAACUUAUCCCUCAGAAAAGGGGUAACGAACAAAAGUAGUCAAAACAGCUUCUAGUCUACCAGCAUCCACACGCCAUCCACACACCGGAAUAAAGACCCGAGAGAUAAGACAAGGUAACCAGAUGCACGGACAAAAAUAUGGUCAUGGUACGACAAAACCAAUGGCAUCGGGGUGUCAUAUCAAACUUCAGUCCAUUACACUACGGGGGUCGAAACAAUAAAAACGAAUCCUAACGGAACCGAUAAGUCUCCGAUUCAAGAAAAUUCCUCUCCAGACUAACUUGUUCUACGACCUGUCCAGUAACACCACUAGGAAGUGCAGAACUUCUACAGAGGAAGACAUUAUCUGUUUUCAGUGUGAAAAAUGUUCAAAGAGAAAGGAGUGACACUAAACAUACACCAUCGACUGAAGAUAAAUAUAUUGAAGUUCGAGAAUGGUAAAUUUAUAAAUAUGUGUUCAUACUUAGUAACCCUGUUCGGUACCGGUAGGAACUUCUCACACACAGUUCAUUUUAUCCGCACGAAAUCUAAAAGUCAUUAAAACCAAAACCCUUUGGCCAUGGUACCUUCUCGAAAGUCUACGACUUACACAUUAAAUGAGGUGAAACCUUAUGACAUUCAUUAAGACGCGGUAACACCUGAAACCGGUGUAGUACGGUGAGAGUUUUUGAAGACUAAGAAAAACUGUCAUGGUUCAGUCCCCCGAUUCGACAACAUAUAAGAAAGGAAAUUGGGGAACAGAUUGAUUUCUUACCAUUUAAGGUUAAGUAAAGUCUUACCUUACGUGUGUAUAUCUCAAAGUCCAAUACGACUUACACAAAAUACUCCUCCGAUUUUUAUCGAAUAUUCCUUUUACGACUAUCUAAGUUCUUGCUCUUGUUCCCUACAUAAAUAAACAUACUAAAUACAUCGCGGAAAGAACCUCUCCUGAGUUAAGACUCGAGAUUGCAAUUAUUUGAGAUAUAGUUAAUAGCACUAAUAAAAGCUUGGGAACUCGAGGAUAUAAUGAUAUACACUGGGUAAACAUAUGGACUGUCAAAUGACAAUUUAAAAGGUAUCACUGGUCAACAUUAUAAAAUUUUCAUAGGUCUGUAACUUUUCCGGUUGACACACAUAGAUACCACACACAUACACGAGUCCCCCCACAUGAUAUUUUACUUACAGUUCUAGUAACGUUACCAAUUCAAAUCCAAAAUUUGAGAAACUUGUGGGAAUUUCAAGUCUAAAAGUCAACUGUCACCCUAACGGGGGUUUCUACACACCGACGGAAUUCCUCGGAAGAACAGGACGAUUCGGAGGACCUAAAGGUGGUUACGUACAACGUAAAGAUGGACCGACGUUAUCUGCGUGUUGACUUAUAUAUAGCACCUGUAAAUAUUUACAAAGUUUAAAUUUUGGUGAGUUUAAAAAUUUUCUUGUUCUUAGAAGACACGUAAAUUAGAUUUAAGACAUAGUCGGUAAGAAUUUUUAUCUUAACUUAUUUUAGUAAAACCUACCGUACACCAUACGAAAGACCUCUGUAUUUGAUUGUCUCCCUUGAACUGGAACCCUCCAUCCAAACUUAGAGAGAUGAUAGAUGACUACGACACUAAAGUCUUUUCAAUCUAUUGGAGAGACUCGGAGUCUCUAUCAUAGAUAGAACUUCCCACUUACACGUCUAAUUUACGUUUACUUUACAUUUCGGGGAUGACUUAAAGGACCGGGUCUCAUCCACAAGUAAUUUACGACUAAAGAAGGGACAGGGUGAAGGACAGUUGUAAAGGACCUGGUUGUUCUACAAAUGAGAUGUUAUAAUGGUUAUAAAGGACCUGGUUAUUCUACAAAUGAGAUGUCACAUAUCACUAUUAACAGACUACUCUUCGUAAAUGUAAUUAAUUUUACAUUUUGACCGAGAUCCGGGACCUAAACAGGUUGGGAAAAAUAAUAGAACCCGAAAACGUUCAGGGUACCUAAAAUCUUUACCCUAGUAGGACGACGAACGUCAGGUUUACCAAGUUCCAACUUUAAAAAAAAGGGGAGACAACUUUUUUCAGUCAACGUCGAGACAUUAUUAUUGUCGUCUGUGUAUGAAGUACUCCUUGUUACAUAAAACCGUUUUCUCAAAAGACAAACUUCGAAGUUUUAUGUUUUAUGAGACGGUGUAACGGUAAUCCGGGCCGCUUCUUGUAACCUCUCCCCAAUACCUUAGCCAACCCCACCCCACGCCCUACCUCUCCCCAAUACCCUAGCCAACCCCACCACGCCCUACCUCUCCCCAAUACCCUAGCAAACCCCACCCCACGCCCUACCUCUCCCAAUACCCUAGCCAACCCCACCCCACGCCCUACCUCUCCCCAAUACCCUAGCCAACCCCACCACGCCCUACCUCUCCCAAUACCCUAGCAAACCCCACCCCACGCCCUACCUCUCCCCAAUACCCUAGUCAACCCCACCCCACACCCUACCUCUCCCCAAUACCCUAACCAACCCCACCCCACGCCCUACCUCUCCCCAAUACCCUAGCCAACCCCACCCCACACCCUACCUCUCCCCAAUACCCUAGCCAACCCCACCCCACGCCCUACCUCUCCCCAAUACCCUAGCCAACCCCACCACGCCCUACCUCUCCCCAAUACCCUAGCAAACCCCACCCCACACCCUACCUCUCCCCAAUACCCUAGAGAAGCCCACCCCACGCCCUACCUCUCCCCAAUACCGUAGCCAACCCCACCCCACGCCCUACCUCUCCCCAAUACCCUAGCCAACCCCACCCCACACCCUACCUCUCCCCAAUACCCUAUCCAACCCCACCCCACGCCCUACCUCUCCCCAAUACCCUAACCAACCCCACCCCACGCCACACCACACAAGACGAAAACCGGUCCGACCUCUCCACUCGAGGUAUUGUACCAUACCAGUAGGAACGGUACAAACGGACAUCACUGGAGGGGACUUGUGAGGAUCUACUCUAAAAACAGACGUACCUUCCCUCGAGUUCCUUUAACACUACCCUGGGUGUCAUGACUUCACCUGUCCUCGACUUGUUCGUAAACGUGUACUAUGGGGAUACCUCCAAUGAACCAUCCUGUCCGAUACUUCAUCCCCGUCAUACCUACUCCAGUGCAAAGAAAUCGGGUAAGGAACUCUACUACUACUACUACUACCACUACUACUAUUGACCGAUGGUAAAUAACUCACGGACAGUACCAACCUGAGACACGAUCCAUGAAAUUGUAUAUAAUAGAGAGUAGAAUUAUUGGGUCUUGUAGAACCCAAAAGGACAAGAAUAAAAUACCUGUUCCAUUGACUUUAAGAACCCCUAGUUCACUGAGGAGGUCCUGGAGUAGUAAUCACUCACACCCGGGUCCAGAAACCCACUUACACAACCACAUUCUUUUUAAAGGGAAGAAGGACUCGUCCUCCUAAAAAAAAAAAACGACCUCUUACACCACUGGGGAGUAAGAAAGGAUUUAGACAGCAAACUGAUAAUUUGGACAAUCCCUGUGACGACCAACUAAGACAAAGAAAGAGUGUGUAGGUAUGGCUUAAGAGGAUUUCUGUAAACUUCUUUUUAAGGUCUGUUAUUUUUACAAAUUACUAAUAUGAAACACUAAGAAGAUCUUACCGAAGACCACCGUACACUGAAUAACCUUUCUCCGAUUGGGACUGACGACGGUUCCUCUGGUUACCCUCUGACCCAGGGUCAACCACCAGGUCCGACGCGGUGUGGCAUCCUCAGGUAUUGUUCUUCCCGACCGGAGACAACGGGCAACUACGUACUCGGUAGAGUCGUCUCGUCCGGCAGGGGUCAAUAAGGAACAGGGUCUACGGAGACGACCAAACAGGAUCACGGACGAUUGGGAGUCGACAACGGUGAACCUAUAAUACAGUUCGAAAAGAAGGGUCUUAAAGACUAAAUGCUGACCCAUACUUCAGUUCCGGAUGGACGUAUCUGUCUGGGGACAUGAACCCUGAGGGUGCUUGACACCAGUACCUUUGUUCGUGGUUCCUGAUGGACUGGGAAGAUUACAGUGAAAAGACGUCUCUAAUCCUCCUCUCUGAUUCUUUCGGUUUUUUCUUUUUUAAGGUUCUUACUUUUCCGGUUUUCGUCUUUGUGGAUGAGAAGAAGGUCAGAACCGGUCUUUCCCACAGGAAUCCCCUUUUUUUCUCCGGUCCCUUACCUCGGGUAAAAAUUUCGUUCGUUUCUAGUCAAACCAUAAAUUUUUAUUUUUCACUUGAGGUCAUGGUCGAUUACACAUCCACUUAGCUCCGACCAAAUCCGUCGACUUGAAACAAGAACCGAUGGACAUGUCGUCAACGUCUUGUGAGUCCCCAAGGUCCGUAAAGGUUCACCCUCAACUCAAAACCUCCUUUCAACAUCUUAAGGAAAAAGAAAAAAAAGAAAAAAACACUCUGUCUCAGAGAACGAGACAGUGGGUCCGACCUCACGUCACCACGCUAGAACCUAGUGACGUUGGAGACGGAGCGCCCAAGUUCGCUAAGAGGACGGAGUCGCAGAUCUCAUCGACCCUAAUGUCUACACGUGGUGGUGCGGGCCGAUUAACAUAAAAAUCAUCUCGACCCCAAAGUGGUACAACCAGAGCUUGAGAACUGGAGCCCACUAGGUGGGUGGAGUCGGAGGGUUUCACGACCCUAAUGUCCACACUUGGUGGCGUGGACCGGCAUCUCAAGAACUGAUCCUCUACGACGUUUAAAGGGAGAAUUUAAACGUCGAGGGGCACGCUACUGUUGAAAGUCUCGAACCGUCUCCGUUCUACCAUAUUUGUACUAAAAAUCUAACGUCCCAUUAACGACACCAAAGAAACUCAAAAAAGUAGGUAAACGAGGGGUUUAUUAAAAACUCUGGAUGAUACACGGUCCAAGACACCCCUACCUUAUCGUUCGUUACUUGUCAACUCACCCCCUCUGUCCGAGAACAGUUUAUUAACGUUUUUACUUCCCGAUCCUGACCCACGUCACCGAGUGCGGACAUUAGGGUCGUGAAACUCCCCGGCUCCACCCGCCUAGUACUCCACUCCUCAAACUCUGAUCGGACCGGUUGUACCACUUUGCACCAGAGAUGAUUUUUAUGUUUUUAAUCGGCCCCCACCACCGUCCGUGGACAUCAGGGUCCAUGAACCCCCCGCCUCCGUCCUCUUAGAAACUUGGACCCUCCGUCUCCAAAGUCAUUCGACUCUAGUGCGGUAACGUAAGGUCGGACCCGCUGUCCCACUCUGAGACAGAGUUUUUAUUUUUUUUUUUAGUUUUAUUUAUUUGUUUUUAUUUUUUACUUCCCGAUCCAGGUCAGUUUCCACUUCUAAGACACUUCCUUUUCGUACCCGGCCUCCGUACACGGGGUACAAAUCCUCAAGGGUCCCUGACCCUGAUACUUCGACGACGACGACGACGAAAAAAAAAAAAAAAAAAAAAAAAAUUUACGUCCCAGAGAGAGACAAGUGACACAGUGGGUCCGACCUCACGUCACCACGUUAGUGUCGAGUAACGUAGGACCUGGAGGACCCGAGUUCGCCAGAAGGGUGGAAUCGGAAGACUCAUCGACGCUGAUAUCCGCGUCCGACUAAAAAGAAAAAAGAAAGAAAAAAAGAAAAAAAAAAAAAAACCAUCUCUACCCAAGAGUGAACAACGGGUCGGACCAGAGUUUGAGGACCCGAGUUCGCUAGGAGGGUGGAACCGGAGGGUCUCACGACCCUAGUGUCCACAAUCGGUGGUGUGGACUCCGACCAGAAGGGGAAUUCCUCCACCGUGGGUGGACCUAAGGGGUCGUUUGGGUGGACGUAACGUUCCAACUGGGAGUAGUCAUGGUCGGUGGAACGGACGAUCCAACUGGGAACAGGUCACUCCACUAAAAGGUCCCGGAUCGGAGAGACGACAGGGAACGACCGAAGUGGACAACUACAACUACCUCCACCUCGUCUCCGGCAACUCACUUACGCACGUCGACCCGAGUCUCCGGGGAGAAGAGGGGAGGACACUCCACGAACGGGAACUUCCACACCGCUCACUCCUCCGGCCAGUUCCCGUAGGGCCGCCGGAGGUCCGGCAUAAACUCACCCAGUAAAGUCGGACGAAGGAUAGAGAAAAGACAAUGAUGGAGAUUAACCGUCUCAAAGAACGGUCCAGUUACACCUCCGUCUCUCUACCGGCCUCCCGCCGGUCCCCUCAGUCCGGUCCACACCCGUCCUACCCUAAGACGGAGGAGGGUCCACGGAGCGGACCCCCUACGGGACAGGGUCUUUCGGAUGUAAGCACCCUCGGCCGCGUGUCGGGAAGACUCUAGAUUUCGAAGGGAGACUUACGACGAAACCUCCUAACACUCUCCAUCACUGAGAAGUUUCAAACAAACAAAAGAACUUCGAAAAUGGAGAUACGUUUAUACGCCAAACCUCGUCCCUUCUUUCCAAUUGACACUACCGCGGCCGAGAAUUGCACCUUACAGGACUUAAUUACACCCAAAGUCAGGAGACCGAGUCCUAGGGGACUCCCUCUCAAAAAGAAAGGAGACGUUUUGUGUCCUCUUUUCACUAGGGACACCGAGGCUGGACGGAAGGAACCCAGGACGCCACGUUUUGGUCGACCCUGGCACAGGGCGGGUGGGCUUCCGUCACACCCCUUGGAAAGGAGGUCCAGUAAGGGUAAGUCGACUAACGACGGCCGAGGGGUCCGGUGUUGAGACACGGAAGUCCGCAGACGUGCCCAAAGCUCUACGACCGGUCCGGACUUGAACCACUCGGAGUUCGUCUGGCAAGUUUGGGUAAGUUUACUCCUUCUGGUAGACAAAGGGUCAGAGGUCGACGACGACGAAGUAAACGUUUACCGACCCUACGACGACUCCCCUAGUCCGCCCCUGUGUAGACGUCUGAGACUUCCUCACAACCUUGGCUCUAGGACGACUCUCUUCUUUCCGGCUCGGGAAAUUUAGUUGAACGGUUUGUCAUGGGGGUCUUCCAGGACUCAACUCUUUCGUCCUCCGUCGGAACGGGAGGACCUUAUUGAGAAUUGGAAGGGAAAAGAAAACAUCGGAACCGGUGAAAUUUUCAUAAAGAAAUAAGUCUUUCACGCGUCACACCCUCCCGGACGAGAUACCCGAACCCCCUUUUACAGUUUGCCCUAGACCUGUAGAUAGACUGGAAAGUCCCGGUAUGUCCCGUUUGCAUAGGCGACCUCAUACGUGGUAAAUAACUUACAAAUGUAGUUAUAGUCCCUCCACUCGAACAGGGUCGUCGUCGAAGAUCCUCGGUGUCCAUUGUCAUUCACACCGUUCCACUGACAGGGACUUUUGGACGAAGACCUUACUCAGUCCGAAAUCCCAUACGAGAGACCUUACGUCCGGUCGGCGGGGUUGAGCGUCAUUGCGUCCGGGAAUCGAGACACCUGACGCACUCCGUGUCGACACCCCUGAGAACGGGUACCAAACCACAAACGUCCCAAUAAGAGCCGUACGACACCCCGAUCCCAUUCAAUAGGCCGAGGACUCGGGACGACCCCAAGAGUAGAGUUCCCUUAAGACACCACACAAUGACACGGGGUGUACGUUUAUAGUCGAUGAGAGUUUACACAACCUACCUACUUAUCAUCUUCCAUAAAAUUCUUCGGUGUCCGGAGAAACAUUUAAUUUGUCCGUAGUAUGUACCCACAACUAUUACUACUUAGAGUGUUUUAGAAGUCUACAAAUCAGAGACCCUUGUAAGGUCCUUAGGAGUAAAUCCAUUGAAUAUACACUACUCUGGAUAAACAAGUGAACUUUCUUUUGGACAAAACUUCAGUCUCCUUACGCUUAUCUCCGAGAGUGUACCAACCUUUUUCGUUAGACGUCCGGUCAAUGCGGGGCAUUUGUCCUUGGGUCCUGACGGGAGGACCGGUCCCGACUCAACGUCCUACCCCUGGGGGGUGAUGGAGGUUGGCGGGCGGUCCUACUCCUCACGAACGAGAGUCUGCACGGGGAGUGAAAUUUAUAUGUCUCCGGAAGGAUCCGUCGGAAACUAACACAGGAACACCACUGGAACGGGACGUCGUCCGUCGUGACCUCUACAAAAAGAGAAGAGAUUUCGUACUGAGACUCCGAGUCGCCACACUCCGACAGGUUCGACUGUGCAAGUGAUGACCGUCUCCGCCCAGAGUUUCAGAGUAGGAACCUGUGACCUCGACUUGAAGAACAUCACACCCAGAACCUGGUCGUCGUAGUCCGGAGUGGACACCCUUUAUUUCUUACAGUCGGGCGUGGACGUCCGGAUGACUGGGUCUUAGAAAAAAACAAAAAAGGAAAACUCUGUCUGAAAACGAGAACAACAGGUCCGACCUCACGUUACCGUGUUAGAACCGAGUGACGUUGGAGACGGAGGCUUCAAGUUCACUAAGAGAACGGAGUCGGAGGGCUCAUCGACCCUAAUAUCCGAGGACGGUGGUCUGGACCGAUUAAAAACGUAAAAAUCAUCUCUGUCCCAAAGUGACACAACCGGUCCGACAAGAGAUGGAGGACCGGAGUUCACUGGGUGGACAGAACCGGAGGGUUUCACGACCCUAAUGUCCGCAUUCGGUGUCGCGGGUCGACUGGGUCGUAGAAACCUUCACCCUCGUUCCUUCGACAGAAUUUGACUGGUGCACCAAAAUGCGUGUCAUUUCAGACUCUUUGUAACGUAACUAGGGAUGAGGUCAGGGAGAGGCAUGUGGAAAACCCACCUCACCCGACCCCUGCGUCUGACAGAAACCGACACGUACAGGAUCUCCGACUUGUCCUGCUCUACCCUCGUCACGUCACAGAAUUACCCUUAGCCCUAAAAGUGCCUCCUCGACAACCUUGACCCGACUUAUCCUCGGACGGUCCGUCGUCUCGACCCACCCGAACAUCCAUCUCCCUUGUCACGGGUACACCUGUCCAUUCGGUCUCACAGUCUCUCUCCCUACACCCCGAACCUCGUUGGUUCGGAGUUACGCGGUACUACAAGAAACCCAAAAUAAGAGAGACUGAAACCUCACCAGACACGGAAAAAUUUUCUCAUCUCUAGUACACGAAAAGUCUUCUAAGGAGACCCCCAGACGCCACCGAUGUUCUCCGCGUGGUACCCACUACCCAAUCCGCGUAACGUCUCCAGAACACCUCCUGACCUCCUCUGGACACCCUACGUCAAAACGGACAUGAAAGAAAGUCUCGAUUCGAAAGAUAGUCCCUAUCCGGAUUAUCCACUUCCCCACACCCCUGACUAGUCUCCUUCCCGGUCUCCUUUUCUCCCCGAAGUCCCGGCUGAACCUCGAACCCGCCGUCAAGUCACCACACUGAGGGAAGUAGCACAUUCUCUUCUCCGACCACCUCCUCCUCCUCCAACUUCCAGUGAACGAACAAAACCUAUGCUGGAGACAUCUGUAGGUCCAAUACAUAAAGGAGGGGGGCCCGUCCACCUUUAUACUUGGAUGUUCGUCCCUGAACUCACCGUAGACGCCCCUCCUCCACCCUUUUCGGUGUGCACGGGUCCUCUGACCUUACGUCCCUUUCCUGGUCUUCUCGGUCUCCAUCUUAAGACCCAUAUAGGUACCUAUGUCCUCCCCACCGUCCCUUCCUCUUUAAAGGAUCUUUCCGCUCUUCAGGAGGAACUGUACAAGGACAGGUAUUCUUGUGUAUGCGUGUACAUGCGUGGUCGUCCUUCGUCUUACGAUUGGCUUCUAUUAAUUGGGGGUUAAGACACAAUCCCUAACUCUUUAUCUGGUCCUCGGGACGGGGGAGGAGAGAGUAAAGGACUGGAAGGUGUGACUCUUCUGGACCGAUCCGUCGGAACGAAAAAAAGGACAAAUCGCCUCCUCACUCCUAAAGUCGGCCUUCCAGAAAGACUACCGUCUACACAUUCACGGUCUGUAACACGACCCACGGAAGACACAGGAUAGAGUAAAUAAUAACAAGGACGAGGCUCCUGAACGGAGUUCCAGUAUGCUAAACAUUCACCGUAUCAGAGCCACAGUCACUGUCCAGACAAACCACAGAGAGAGAGAGAGAGAGAGAGAGAGAGAUAUAUAUAUAUAUAUAUAUAAAAAAAAAAAAAAAAAAAAAAAAACUCUACCUCAGAGCGAGACAGUAGGUCCGACCUCGUGUCACCGCACUAGAACCGAGUGACGUUGAAGGCGGAGGGUCCAAGUUCGCUAAGAGGACGGAGUCGGAGGGCUCAUCGACCCUGAUAUCCGCGGACGGUGGUACGGGUCGAUUGAAAACAUAAAAAUUAUCUCUACCCCAGAGGGGUACAACCGGUCCGACCAGAGCUUGAGGACUGGAACUUACUAGGUGGACGGAGUCGAAGGGUUUCAAGACCCUAAUGUCCGUACUCGGUGGUACGGGCCGGAACCAGACAUGGAAAUUGUGGGGGUCGGAAAAGACUUCUCAGUGGUCUCUUCCCUGUUUUUACUCCGGUAUCGGAAUGACGAUUCCCUGGUACUCUCCGAACCCCAUAUCGACAGACAACUCUGUCCACGAAAUGAUGAAACAUUCUACUUCUCUCGACGGAGACCGACUCGUGACAGUAAUCCUGAGUCCCUUACCUUCACAAAACUCUGGUCUCCCAAGUCAAAGUCCUGACCUCUAGUGUUACGUAAGUAAAAUGUCUCACUGUUGAGACAUCCCGGUGAGAAGUGGGAUUCUAACCCAGUAAUUUCCGGUCCGUGUAGGAUAAGUGAGGAAGUGGAGGAACACUCGGGGGGUGUACGGAAAACUACUUUCCCAAAAGGGGUCUUGUCACACAGGGUUCUUCGGGACUUCCCGACCUCUACAUGGUCGAAAGAGACGAUACAGGUCGUUCACAUAAAAGUCUUCCAUCCUCCGAGCCCGACCCGACCGGUCCGUCGGUCCGUGUGUCUGAGGAGUAACAUGUAGGUUCGGCCCCGCACGUCCUGAAGUUGUAUCGAACAUUGCAUUCAUAGAUAAAGGACCCGCGAUGUACUAGAUUACCGGACAGCGAAACCCUUUACGAAAGACUUGUUUUCUGAGCUAAAUAAAUAAAUAAAUAAAAAACUCUGCCUCAAAGCGAGAACAACGGGUCCAACCUCCCGUCACCGCACUAGAGCCGAGUGCCGUUGGAGGUGGCGGGUCCAAGUUCGCUAAGAGGACGGAGUGGGAGGAAUCAUCGACCCUAAUGUCCGCACACGGUGGUGCGGGCCGAUUAAAACAUAAAAAUCAUCUCUGCCCCAAAGAGGUACAACCAGUCCGACCAGAACUUGAGAGGACUGGAGUCCACUAGGUGGGAGGAACCGGAGGGUUUCACGACCCUAAUGUCUACACUCGGUGACGCGGGCCGGAAAAUAAAAAAAUUUAAUAAUAAUAAAAAUAAAUAAAUAAAUAAAAAAACUCUACUUCAGAGCGAGACAGUGGGCCGACCUCACGUCACCGUGCUAGAGCCGAGUGACGUUGGAGACGGAGGGACCAAAUUCGCUAAGAGGACGGAGUCGGAGGGCUCAUCGACCCUAAUGUCCCCACGUGGUGGUACGGACCGAAUUAAAAACAUAAAAAUCAUCUCUACCCCAAAGUGGUACAACCGGUCCGACGAGAACUUGAGGACUGGAGUCCACUAGGUGGGCGGAGCCGGACGGUUUCACGACCCUAAUGUCCGUACUCGGUGGCGUGAGCCGGUCCUGAGUUAAAACUUCAAGAAUACGUUCGUUUCGACGGGUAUAGAUCCUCAAAUACGUGUGUCAUGACUAAGUUAUGGACGCAGAAUCACCAGGUAGUCCUUAAAAAGUGAGUACUUUAUACUGAAAUUAUGUGCACAACCCUGGUCUCUCUUUUGGAAGGGAGACACGUAGAAAAAAACCUCUUGUGACAGUACUUGUCGGCUUUUGUAGUCUAGUUUUCGUUCUCCCUAUGACUGUUUUGUCCCUCACGCCUAAAGGUGACACCCACCCCUGUAACCCUCUGUGCCACUGAGUGAGGAGUCAUUCACGUAAGAAUCCGAGAAAUGAGACACACGUAAAAAUAAAAGAGUACCCGUUGUUAUAUUAAAGAAAGUUUGUACUUCUCGGUAGGUCGUACAAAGAGUUUCCGUCUGAAUUUACUAUACUCCCCACACGGAUUUAUAUAUUAAAAAUUACCAAUGGUAUAACCUUUGUAAUCGGUACUAGGGUAGACUACUGAUCCUUGUACUCGGUCAGACCUCAAAGACCUCUUUAGGUCGAUGGCGACGUCUCCGCCGACAAUCGACAACAAUGGCCGUAGGAACAAUCGCUGGUCCCUCCAAAGUCAGGGCUGAACACAGAUGGUCUGUGGGACUGUUGACCAAUCUUUCUCUCCUGACGUGGGAAAGUAGGACGCAUGAAUAGACAACAAACAACGAAACUGAAGAAAAACAAGAGGCAAAAAUACAACCGUCAUAAAGAGCUCCAUCUCUUGAAAGUGGAAAUAUAACACGCCUCAUAAACAGGGAAGGAGCGGGGGAAUUUCUUGUGCAUCAUGGAUACGGAAUAUUCCAGAGACAAACUACACUCCUUAAACCAGAAGAACGUUCAGCCGAGAACGUCUCCCCUCCGAAACUCCUACAGACCCGACGUCGUCCGACAGAAGCAACGACACAUGUGUCGGGAGUACCGUCCCGUACGUUUCCACCAACCAAGACUGAAGUUACCGCCCUGAGGUAACGGAAAUAAAAAAUUAAAUUAAUAAUAAUAAUAAUAAUAAAAACUCUACCUCAAAUCAAGACAGUGGGUCCGACCUCACGUCACCACGCUAGACCCGAGUGACGUUGGGGGCGGAGGGCCUAAGUUCGUUAAGAGGACGGAGUCGAAGGGCACAUCGACCCUGAUGUCCGUGUGUGGUGGUACGGGUAGAUUAAAAACACAAAAAUCAUCUCUGCCCCAAAGCAGAACAACCGGUCCGGCCAGAGCUUGAGGACUGGAGUUCACUAGGUGGACGGACCCGGAGGGUUUCACGACCAUAAUGUCUGUACUCGGUGGCGUGGACCGGAGGUAACGGAAAUAAAGAAAGACGACUAUUCAAGACUACGGUCACUAUGGGUCUAACACGGUAUCCUUUCUCCCCCGACCCGAGAAGGUCUUUGGGAUAGAACGUCUUUAGAGAGAAGACAAGGAUGCCUGUCUCUUAACCCAUAACUGGUCACUCCUGAAGAAUGACCCUGACCCGCACCGGUGAUGUCCUGUAGAAGGUCUGAUUCUCCCGGUCAACCCCCAAUGACCUGGUCCCUCCUGUCACCGCCGGUGAAUGAACGGUACACGAAACACACGUCACUGAUACAUCGCUGUAAACGUCGGCCUGACACAAAGAGGACAUCUCUGUGACCGUCGGGAUGUCGGGAUGUCGGCACUGUAAAUGAGACAUGUUCCACCGUCCUCCACACCCUCCCGUGGCCCUUGGCUUCCGGUAAAAUGAUGGGAAGGGCGUCGCGAGGACAAUGUCACGAACACCCUCAGGGUCGACACGGAGGUCCAUGUUUGCCCAAAGAAGGACGUUGGGUGUUGGGACUGUCCUGUACGGAGGGCCCACACGAGGAUUGGACGGAGAAGAGAGACGGGGAGGGAGAAAGAGGAGAGGGGAAGGGGAGAGAAAGAAGGAGAACGGAAGGAGAAGAAAGGAGAGGGAGGGAGACAAAGAGAGGGAAGGAAAAGGAACAGAGGCAGAGAGGAGAGGAAAAAGGGGGAGAGGGAGAGAAAGUAGGAAGACAGAGAAGGUCUCCUCAGACAAGUCCCUAAAGAAAGAGAGAAAGAAGAAGGACCUCCUUACACAAAUCCCUAACCUGUGGAGACUGAAACCUCCUCCCUCUUUGGAGUCACCCUACCCAAGGUCCUGCUGGGGUGGCGUAGGAACCUUGAUCCUACUAGAUCUGCAACCUUUUCUGUGGUAGGGACCCUUUGGGGUCUUUUCCGAAUUAAACACUUUUCAUUACCUCCCUCGACACGGCAACCAUCUUUGACGAAAAAAGAAGGAAUUGUCAAAUUUAGACAGCAGGUAAGAGGCACUUCACUAACCUGCCCCGUUCUGAGUCCAAAGGGUAGACAAGAGACAAACGUAAACCCGCGGUAAAGUUUUUGGUGUGCCCUUUUCAAAUAUCCGUUUGUAAUAUUUUUCACUGUCAGACUUCACGACGAUAGCGACCAAACCGUUGCAUUUCACAAUGGACUUUAUCGAAUGGCAAAGGUUUGGGAAAACGACAAAGUUGACAGAGUUCUGUUGGGAGGGCGACUCUACCCACUCUUCAGGUCGACCUACACACGUCACUUCAGUGUAUUCAGUGUCGGAAAAAACUGAAAAUGUUCUAAAGGGGGAGGACCCCGAUAGAAGUGUGUGUCGCUCCUAAAAAAAGAGAGACAAAUGAAUAUCUCUCCAUUUAAGUACGUCGAACACCGAUCACCGUGAGACACACUACAGUUUACCAGACGACUCCCCGAGCCUCUCAGUCCGUCGGGGACGGAGUCAAAGAGAGAGAGGGGUCAGUCUCCAGGAUACUCGAGGGUUCCUUAUUGUCCUACCAAAAGAAUCCCUUCCUUCCGGUCCAGUUCCGUCCUUAAUGAGUGUCGAGUACACGUCUACGGACAACAAUAAGUAUGAUAAAUAAAUAAACACAAAAAAAAAACAAACUCUGUCAAAGUGAGUACAGCGGGUCCGACCUCACGUUACCGUACCAGAGCCGAGUGACGUUGGAGGUGGAAGACCCAAUUUGCUAAGAGGAGACGGAGUCGGAGGGUUUAUCGACCCUAAUGUCCGUGUACGGUGGUGCGGGUCGAUUAAAAAAUAUAAAUUAUCUCUACCCAAAGUGGUACAACCACUCCGACCAGAGCUUGAAGACUAGAGUCCACUAGGUGAGCGAAACCAGAGGGUUUCACGACUUUAAUGUCCGUACUCGGUGACACGGACCCGAUGAAUAAAUAAAAACCUCUGUCCAAGAGCAGAGCGACACAGUGGGUCCGUCCUUACGUCACCGCGCUAGUAUCGAGUCACGUCGGAGACCCCGAGUUCGCUAGAAGGAUGGAGUCGGGGGACACAUCGACCCUGAUGUCCACAAAUAGUAGUAAGGGCCGAAAAAAAAAAAAAAAAAAAGUAAAAAACACCUCUCUCCUAGAAUGAUACAAGGGAUCCGACCAGAACUUGAGGACUGGAGUUCACUAAGAGGGUGGAGCUGGAGGGUUUCACGACCCUAACAUCCGUACUGGACGACACGGACCGGGUAAAUAAAAAACUAAUCGACAUGUUCAUGGACAGAGAGAGUAAAAAUUUCAUAGUUUUGUCAGUUAAAAAAAAAAAUAAAAAAAAAACUCUACCUCAAAACGAGAACAACGGGGCCGACCUCACGUUACCGCACUCGAGUCGAGUGGUGUUGGAGGUCGAAGACCCAAGUUCGCUAAGAGGACGGAGUCGGAGGGCUCAUCGACCCUGAUAUCCGUACGCGGUGGUACGGGUCGAUUAAAACGUAAGAGUCAUCUCUGCCCCAAAGAGGUACAACCGGUCCGACCAGAGCUUGAGGACUGGAGUCCACUAGGCGGGCGAAGCCGGAGGGUUUCACGACCCUAAUGUUCGUGCUCGGUGGCGCGGGCCGGUCAGCAAAAACAAACAAACAAACAAACAAACAAACAAAAAUUUCUUCGACGAACACCGGUCCACGCCACCGAUGGUGGACAUUAGGAUCGUGAAACCCUCCGCCUCCGUCCACCUAACGGACUCGACUCCUCAAACUCUGACCCGACCCGUUGCACCAUUUUGGGACAGAGAUGAUUUUAUGUUGUUGUUGUUGUUUUAAGGGUCCGCACUACCGUACGUGGACAUUAGGGUAAUGAGGUCUCCGACUCCGUCCUCUUAGUGAACUUGGGUCCUCCACCUCGAACGUCACUCGGCUCUAGCGUGGUGACGUGAGGUCGGACCCUCUCUCGCUCUGAGGCAGAGUUUUUUUUUUUUUUUUUUUUUUUUCCGGUCCGUGCCACCGAGUGCGGACAUUAGGGUCGUGAAACCCUCCGACUCCACCCGCAUAGUGCUCCACUCCUCUAGUUCUAGUAGGACCGGUUGUACCACUUUGGGUGGGGCAGAGAUGAUUUUUUUUAUGGUUUUUAAUCGGUCCACACCACCGUCCGAGGACAUCAGGGUCGAUGAGUCCUCCGACUCCGUCCACUUAUCGCACUUGGGCCCUCCACCUCGAACGUCACUCGGUUCUAGCGCGGUGACGUGAGGUCGGACCCGCUGUUUCGGUCUGAGGCAGAGUUUUUUUUUUUCUUUUUUUUCCGACGAACGAUUGUGCGACGACCAUGAAGGGUUCAUAAACUUUGAAGACCCUCUUUUAAGUGCACCUACGUUGACUCGAAAUACGUCGUCCCGACGUCAUCACACCGGUGCCGUCAUCUUUGCUCACAACUCGACACAGGGUCCUUCCUCUGAACCACGGAACAAACAAAUGGUCAAAAUCCUUUGUCACUGUUUCUAACCGGUUAUGAUGACACUUCGAACGAACGAAGAAAAGCUGAAAAUUAAGUAUAACACUUUUUAUGUACCUUUGUAUAAGAGACAGACACCUUCGGAGACUUUCUCGUAAACACGUAUCGUUCCGCCGAAGACCUUGGAAGAGGGGUAACGCAAAACCGUCCUCUACUCCCUCUACAACCCGACACGUGGGGACCACCUAAGCGUGUCCUUUCCACUUUUCAUACGGUGUCGUUACCCUUUUUCAUUUAGGUCCUUCACGAGUGUACUGAUAUUUUCCUCAAUACAUGUAAAGGACCCCUUAAGAAACGAGAAAGUGUCUCGUCCGACACGUCGGACCACCUCAGUCCCUCUCCAACAGGUAGGUACCCCCCACUGGUCUCAAUCCCUCCGGGGAAACGUGUACGUCCGUGUCCCCUAAGAGACUAACAGGACCGAGGCGCGUCGGACCCCGGUCCAGUCAUGUUGACACCCCUACUUGUACCUCCCGAGUCCCUCACGUACAAACGUCCCUCACCCGUCGCCCAGUCCAGUGGACGUCGUAAGUUUGGGUCUUCUCUUCGAUUCGGGACACCUGCCGUUUACCUGGGUUCCUGUGCCCGUCCCUGUCUCGACGAAGGUGACUCGGUCGACAAUCCACGAACACAAGAACCGGGGGACCGGCCCCAACAGAAACUAUACACAGCACACACGACCCGGGACGUCCGACCCGAACCCCCCGGUGACCCACCGGACCCUCCGAUGGUCACACCGUAAACCGGGGAGGGGUCGCAUACCGGGGUGGGGUAGGGACGGAGAGAAGAAUGAAUGUAGGAGGAGAAAAAUAAGAGGGGUUGGAGAAAGAGAGAACACACAAAUAAGUACGUAAGAGGGAUUGUACACGAACGUCUCAGAAGACCCUAUGGGUCCCCAUAAUGACCGUACAAAUGAUUUCCGUGGCGACUAGGGGUUUUACCCGGGAAACACUUUACUGGUGACUUCCCCACCUCCCUCCUCAGGAACGAAAGAGUCAAAUGGUUCUGUCGUCAAUGACCAAACUCUGAAACUUCUGUCCUACCGAACUAAAAAUACCUAUUUGUAGUAAUAGAGUAACCACAUAAAAUCCCCCACUAUAAAAUGAUAGGAACUUCGAACCUAUAGAUCUACUGUCAAAACUAGACCAAAAUGACCCUAGUUUUCGUCAAAAUCAUGCAGUUCAGUAGAAUUGACAGGUAACUCUACCCUGAGGACAUUUUAGUGAAACAUAGACCUCUAUCGUUAGGUUCACAAGACCGACCCGCGUCACCGAGUGCGGAUAUUAGGGUCGUGAAACCCUCCGGCUCCGCCCGUCUAGUGCUCCAGUCCUCAAGUUCUGGUCGUACCGGUUAUACCAUUUGCGACAGAGAGUAUUUUUAUGUUUUUUCAAUCGACCCACACCACCACGUGCGGACAUUAGGGUUGAUGAACCCUCCGACUCCGUCCUCUUAGUGAACUUGGACCCUCCGCCUCCAACGCCACUCGGCUCUAGCACGGUGACCUAAGGUCGGACCCACUGUCUCGUUCUGAGACAGAGUUUUUUUUUUUUUUCUUUUCUUUUCUUUUCUUUUCUUUUUCUUUGGGUCUACAAGACACUAAUAGGAGACUUUUAGCACCACGAAUUUUUUAGUGCCGUUCGUAGAAGGCGGAACUUCUCAUUGUCAUUAUCACUGUCAGUAAUCGGGCUGUACAACAUCAACUACUAGUCCAAGUAGAAGCAACCGAGUAACCUUAGAAUGGUUAUUAUUUGGUCAUAAACCCAUGAGAAUGGGACGUUGUCUACCCCUUGUGGUCCGGUUUUCCAAUUCGUCCUUACCUCUCCGCACCCUUGAGUCCCGAAGUAGGAGAAGAGCAGGUCCCGUCGUGGGAAGUGGUCCGUAGAGGGUACAGGUCGAGGUUUAUUCUGUGUCCAGGAGCGACAGGGGACAUGAAGGAAGAUCUUGUCGUGCACCAUCAGGUCGUCGAGUCUAUGGGGGUCAAAGUCGUUCUAAAACCCCAAAUGACUAAAAUCCACUUCCUUUCCUAAGAGUUACUUUUGUGAAAGUAAAUUUUUGUCCUUUAGUAUGUAGUAUUGAGGAGGAAACGGCCCUCUCUCUAAAAAAAGACGUAGUGUUAACGUUUACGGAACGAAUAGAAAAAAAAAAGAAAAAAAGGGGGAUUACCUCAGAAUCUCGUAAGGAGACGCACUGUAUCCCUGUACCAACGUGGAAUAGACUCCCAGUCCUACCUCGUCUAACCACACACCCAGGGUCCACGGAAGGGACACUCCCUCCCUUCGAAACGACGAAGACGAGUCGCCGACGGGACCACUAGUUAAGACCGAUUCUCCUUUCAUGUAAGGUAUUGUAAAGACCACUGAACGACUAGUACACUACAACAGUAUUAUCUGUAACUAGUAAAAUACUGGGUCUGACUAGGUUACAUUUAAGUAAGAUUGUACCACCCACGACAAAGUCGUUACUCAACAACCUCUGGACCCUGAGUUUCCUGUAGACCAGGAACGGAAUCGGUCGACAGUUUCCCCAACCUGGUUAUCGCAAACCCCGGGGAAGUCGAGAGUACAACUCACUUAGACACUGAGAUCCUACAACCCUCACCCUCUACCCGGUUCUAAACCCUGGUCUGACUUAGGGACGGCAGAAGAGGAGGAAGAGUAUAAAGAGAAGGAAAGAAAAAAGACAAACCAGAGGUAUCAAAUUUCAUAAAGAUAAUCAGUGAGUUAAGUCGGCGUAAAACUGAAUUGGUCGGAACUCUCUGGACGAGAUUCUCGGAAGUUUGAUUCAAGGGUUGUAGAAAAUUUGAAGCGAAACAGGAAGUGAAGAGUCGAGUUUACGGACAAGAAACCUCUUCAGAGAGACUAACAGAAUAUGUUGUCCCUAACUUUGUGAAAAACGUUUCCGUUCUGACGUUUAUAACAUCCCGAACGUCCGGUGUCCCAAAGACAACGUUACUGACUUGAGACGGGAACAUUGUGUGUUUUCGUCGCGGUCUGUUAUUCCUUACCCGUACCGGCACAAGAUUAUUUCGAAACAAAUGUUUUUGUUCGACGCCGACCGAACCGGGCGCCCGGUAGUAGGCGGUGGAGGACGGUUCCCUGGUCGGGAGGAGACGGUGACGACACACACGGGCAUGGAACGGUACAGGAAGAAGGAUUACGAAUUCGUUCUUGUGACAUAAAAAACAUCUAAAACAUAGAUAGCAGACAGUGGGGGUGGUAUUACCUGCGAGGUGUUCACGUCCCAGAAAUAGAACAGAGGAGAACGACGCCUCGAAGGUCUUAUCCGAACAACAUAUCAUCUGUACGUCAUUUAUUAAUGACUCACUCUUUUGUUUACAAUCUUUGUAUUGGACGGGCAGUCGACCCGAAAGGAACGAAACCCCACGUAAACAGGUACAAUGUAAAUCGAAGAUAAAAGGAGGAAAACAACACUAAGAGAGAAACACAAGUGCACGAUCAACCGUAGACCCCGAACCGUACGUACGGAAACCACUACGGGGGAACUCUUCGGGGCCCGGAGGACACACCGACAACUACCACCACCACUCCCCCUAAAGAACAGGGGUUACGUACACCGGGAACGAGGAAAGUGUCACCCUGACUUUGUGUCUAACUGAACUAAAGUCAGAGGACACCCUCUAAACAAGAAGACUCCCCACAGAUCCGUUUUGUCAACGGAAACUAGGACGGGACUAAACCACGACAGAGUCACGACCCUUCGAAACGUAAAAGAUCCGGACCUUGAGACCCAGGGUAAGUGUGAAGAGUGACCUCCCUACUUUCGGAGGAAGAACCCGGGAGCACCGGUAGGGUCGACCGGCGAGGUCGACAACAAUAAUUAUUUACGGUCACCACAGGAGAGUUGAGGUCACCUCUCCAACACACCCAACCUAGGAACACCCAGGUUAGGGCACGACGUAUAGACCCUUGACACUGGAACAAACUGUACCGGUACACAGACGGUUCGUCCUACCCCAGCCACCGCCCUUCGUGUCUCUUGGUACUCUGGGUGCGGAAAAGAGAUCCCAGAACCACAGAGGCACCCCUCUACCCUACGUAAGUACUCUUAUACCACGUAGGGUACUCGACCGUUUCACCCGUCCACAUACCACCUCCCCCUCCCUCGGUCACGAGAAGGCGGGUCCCCCUGACUACGUUCCACUGAGGGUAGUGCCUCCUGGGACGAACUAAACCCAGAACCUCCCACCUACUGUCCCUUCUCUCCCUCCUUCCUGACAGGGAUGUCUUCUUCGGACCCUGUACACACCACCCACAACCACUCGUCCCACCCUGAGUCGAAACAGCACACCUCAGCCCCCGUGUGUCGUGGGUCGCCGAAGUAAAGUCCUGGGGACAUUCACGUUGCCUCUGACGGAACGUCGACAGACCCGUAAAACGAGAAAAACAAAAACCACAAUUCCGGAGAUCCGAAAAUAGUAAAACCCUUUUGUCGUCCAGAGUCGAGUGGGUCGUGUCUUAAUCCAGAGAUUUGGCCGUUUCAUGACUAGACUUGUACUCUCGAGUACUUUUGAGACCUACCGUUUUUUAGAACAUCUCCCUAGGGAAUCAAAAGGAACUCAAACUCUGUAAAGUAAAAUUCUUCGAACCGGAACCCCGUUGUCUGGUUCAGAUCGUGUUUAUUAUUUCUCACAUACACACACACCGCGUGUCAGUGCAAAGUGCAUGUUUACACAUUUUGAGCCGUAAGAAUGUUUAUUUUGUAUGGUGUUAUUGUCUAAAAACGUCCAUAAUGUCACGUUCGUGCGAAACCGUUAGUUAAAUUUGUAAAAGAACACCUUAUAAGAAGGUACGAUACCAAACCAAACAAAGAUUUCGGGGUAUCCUACACCUUUGAUUCAGUCCUGUCUAAAAGACCCCCAUAGGAGACCAACGAGAAGGUCUAUGAAGGACUGAAGGACCCCGAACCCCUCUCCACCUACGGACGACCCCGGUAAACGUCUCGUUCUUGUCGAAGAGGACCCUUAUUCGUCCGGAGGUGACUGGAAACAACCUGCAAGAGAGGAGAGGGAGGAAGGGUAGACAGAGGCAGAAGAGAGAGGGUGGAAAGACGUCUCGGUGGUUGGUUUAUGGUUUAGAGAGUUGGUCUUCACAUGCACCGACGCGGUCCCCUCAGCGAUCUCCACGCGACGGACAACUUUCUACGGCGGCACUAGUCAACCUGAUUCCUACCCCACGUGAACCCCGGGUUGUUAUCCUGUCACGAAUAACCCCUCAUGAACGUCUAUUUCCCGCGGUGCGGAUCUCUGAGGCCGGAGAUACGAACAUGACGGUCAUCCUGACAUCUGUCACUUUGAACCAUGAAGUACCACUUACAGUGUCCACUCAACCGGGCGGUCGUGAUACGAGAGAGAAGAGACAUCGGUAAUGUAAAAAAACCGGUUCACUUUUCCAUCACUCUAGAGAUUAACAUUAACCUACGGUCCGUAUGUCGAAGUAUCAAAAACUUUAAGAAGAAACCCUGGACCACGUGGUCUUUCCGGCUAGUAAUUCUUACUAUCUUAAGAACACGUGUUUCAUUGUAAAAAGAAUUCUAUCAUGCGAAAAUAAAUUCAUUUAUGUACGAAAAAAAAAAAAAAAAAACAUGGUGACUGUAGAGACCGUAAAUCUUAUAUCCCAACUUUAAACCUAUGAGUUCUAAAGACUAAGUAAAUAAUCUCAAACUCAAAGAGAGGUACUAAAGGAAGAUACGUCACUCGCCCUGUCUUGUCCGGGGGAAACACCGGCUCAAAUUUCAAGACGAAAGUCUUACAAUCAACUGCUACUCUUCCCGGUGUGUCCCUGACUCAAAACAAUCCCUAGUUAAAGAAAGAAGUUCCUCUGGGGCGUAUGACUUUCCAAUUACAACCUUUUUCUCAGAAACCCACGAUGUGUUAACCAUUUAAACAGUCCCCGAACUUAUGACAAACUUCGAACUUUAGGUCAAGAGUAUAUAGGUUAAAAUAUCGGACAAAUUUAUCGCACUUUCGUCUUUUGUAACUCUUAGUAUUGUAUCUGGUUGACAGUAGUACCUCCCUUUUAAAUUCGGUAAUUUUGAUAGAAUUGACUUUUGUUAGGGUCCGAGAAACGCUCCCAAGGACCCAACAACUGAAACGAUACCUCUUCCAGAGUCAACAUCUAUUAACGUUGGAAAAACGAAACGUUUUUUGUGUAGGUACCUUAUACAAGAAAACGUAUGUCUACGGUAGAGUAGGCCUCUACUACUCCUACUGUGGCUACCACGCCUUCUAAAACAGUCACUCUUGUCAUUGUUGUUCUCAUUCAUUGACGGGCCGAGGCUACCAGGGGCUCUCUCCUCGUACCUCCCUUCAAGACGGACAGUGGACAGAAGAACAGCUGAGAAGACGCGGUACGACACAGGGCGCCGGGAACGGAAAGGGGCGACACAGAUGAAAGGACUGAAAGUUUGGACUCUUAUUUGGUCACAACGACGUGUCGGAAGAGAUAGCAAACAGGAAAGAAGAGCACAGUGACCAGUAAGCAAAAAGUUUCGUCAAUGAUGAAAAGAAAGGAACUAAAAGGGAAAAGGGAAACUGAAGAGGGAUAAGUCUCUGUAUUCUUAUCAUCUUGGUACAUUGUAGAACCAAAAGGAACAUUAGUCACUAACACGAACCAAAUUAGGUCACCACACACUGACCCCGUUAACGGAUAAGAACGAGAGGGCCGUGUAACCCGUUAUAAACCAACAGUGUUGUCUCCCUCCCCCACGACCACCGGAAAUCGACCCCUCCCCGGUCCCUACGUCUCGUGUCGGGGUAUUGUUUCUUAAUAGACCAGGUUCUACAGUUAGUAGGGAUCCCACUCUUUGGGCCGGAGGAUGUUGUGUGUGGAGUACGACUCACUUUUACUUCCUGCACACGGAAUGAAACAUCUGGUGCUAACUUUUCCCUCGGUUCCCACCGAACGAAUUACUCCCGGUACUUGUGACUCGCGAUUGUACCCUCUCCGGUAAAUGAACGCUCCUUCUUGUACCGCAUCGGAGAACCUCGACCCGUUGGACCCAAACUUAGAACGAGGUGUUGAAGACUCAACGAGUAAAGUGAAGACACGGAAUCAAAGAAAUAUUUUACCCUCAUUAUUAUUAUUAUGAUAAAAGACCCCAACAAUACUCCUAAUGUACUCAAGGAUCAACAUAUCACGAGUCUUCUCACCAACGAACGUUUACAAAUAAGUUAUGUGUUUUAUGUUAUAUCGUAAUGAACGUAAAAGGUUACUGAACCGAUCUUACAAGGAUUUCACAAACAUGUAUCCCAUAACCCUAAGAGACGAAUGUACCAUAUAAGAUGUAAAAAGAAUUUUCCUAAAAUCAGUUAAACCAUGUAAAUUUGUUCCGGAUUCAUUAUAUGGUGUGGGCCGAUUAAAUACAUAUAUAUAUAUAAAAAAGGGCUCUACGUCAGAACAAGACAGUGGGUCCGACCUCACGUCACCGCGGUAGAACCGAGUGACGUUGGACGUGGAGGGUCCAAGUUCGUUAAGAGGACGGAGUCGGAGGGCUCAUUGAUCCUGAUGUCCCCGGACGGUGAUGUGGACCGAUUAAAAACAUAAAAAUCAUCUCUACCCCAAAGUGGUACAACCGAUCCGACCAGAGCUUGAGAACUGGAACACUAAGUGGACGGAGCCGGAGGGUUUCACGACUCUGAUGUCCGCAGUCGGUGGCACGGGUCGGAUUAAAUACAUAAAAAUCAUCUCUGUCCCAAAAUGGUACAACCGGUCCGACCAGAACUUGAGGACUGGAGUUCACUAGGUGGGCGGAGUCGGAGGACUUCACGACCCUAAUGUCCACACUCGGUGACGCGGACCGUUAUGAAAUAAAAAAGCUCGUCAAAGUCCAGGUGUCGUUUUAUUUCUCCUUCCUUGUUUCUAAAGGGUAUAUUAGAAGGGGUUGUGUACGUAUCGGACAGGACAAUAGUUGUAGGGGUGGUCUUACCAUGUAGACAAGGUCAACUACUUGGACGUGACGGUAGUAAUAGUGGGUUUCACACACCAACUGAAAUCCCAUACAUUAGUAUGUCACACAUCGGAAAUGUCUAACCGAAGAAACUGAAUCAUUCUACGUACAUUCAAAGAGAGUACAGAAAAGUACCGAACUACCCAGUAAACAAACAUCGUGACUCAUAAGGUAACAAACAUACAUAGUUUCAAAUAAAUGGGCAAAUGGAUGAUUUUCUAUAGAGCCGACCCGUGGCAACGAGUGCGGACAUUAGGAUCGUGAAACACUCCGGCUCCGCCCACCUAGUGAACCCUUGUUUUCAAGCUCUGGUCGAACCGGUUGUACCGUUUUAGGGACAGAGACGAUUUUUAUGUAUCCAAUCGGUUCACAUCACCACGUACGGACAUUAGGGUCGAUGAGCCCUCCGACUCCGUACUCUUAGUGAACUUGGGUCCUACGCCUCCAACGUCACUCAGCUCUAGUGUGGUGACGUGAGGGAGGACGGACCCACUGUCUCACUCUGAGGUAGAGUUUUUUUUUUUUUUGUUUGAGACAACGAAGGUUCAAAACUGUCAACGUUUAUUUCGACGAUGUCUGUAGAAACACGCCCAAAAACACCCCUGUAUCAAAAGUUAAUGAAACCCAUUUACAAUUCCUCACACUAACGACCUAAUACACUCUUCUCAUACAAAUCUAAACAUCCUUUGGUGGAUCGACGGAACGUUUCACCGACGUGGUAAAACAUAAGGGUGGUCGUUACUUACUCUCAAGGACAACGAGGUGUAGUAAGCUACACGAACCACAAGACCUAAAACCGGUAAGACUAUCCACACAUUACCAUAAAACAACAAAAUUAAAUUUAAAGAGACUACUGUCUACUACACUUCGUAGAAAAGUAUACUAAUUAACGGUAGGUACAUAGAAGAAACCACUCUACAGACAAUUCCGGCAACCGGGUAAAAAAUUAAUCCAACAAACAAAAGAAUGACAGCUCAAUAUUCUCAAGAAACAUAUAAAACCUAUUGUCAGGAAAUAAUGUAGAGAAAACGUUUAUCAAAGAGGGGAGUGGACACCGAACGGAAAAGUAAGAGAACUGUCACAGAGAACGUCUCGUCUUUAAAAAUUCAAAGUACAUCAGACCAAAAAGAAAAUACCUACCACGGAAACCACAAUAUGGAUUUUACAGUAGUGGGUUGGGUUCCAGUAGAUCUAAAAGAGGAUACAAUGGAGGAUCCUCAUAAUAACAAAACAUAAAACAUAAAUACACACAUUAGAUAAAAUUCAAUUAAAAACAUUUCCUACAUUCCACACACACACCUAAGUGAAAAAUCGGACACCUACAGGUCACCAAGACCCUGAUAAACAACUUUUCUGACAGGAAAUCCAAAAAAAAAAAAAAAAAAACUCUACCCUCAAAGCGAGAACAACGGGUCCGACCUCGCGUUACCACGCUAGAGUCGAGUGGCGUCGGGGACGGAGGGCCCAAGUUCGUUAAGAGGACGGAGUCGGAGGACUCAUCGACCCUAAUGUCCAUGUACGAUGGUGUGGGGCGAUUAAAACAUAAAAAUCAUCUCUGCCCCAAAGAGGUACAACCAGUCCGACCAGACCUUGAGGGCUGGAGUCCACUAGACGGACGGAGCCGGAGGGUUUCACGACCCUAAUGUCCACACUCGGUGACGCGGGCCGGACAGAAGAAUUUCCUUUUUCUAUUUUAUCUAUAACCAUCCACGGAGCCUAUUUACUCAAUGAAUUCACUUCUGAAUCUAAACAGGGACUCAGAGGAUCGUCGACCCCGUUUUCUCUUUAUAAAACCAACCACGUCAAAAAUGAAAAACAGUUCUCCUUCGAAUCCCGUCACCAAGAGUUUCAUUUCAAGGACCUGGUCGUCGUAGUCGUAGUGGACUCUUGAGGGAGCUUUACGUCUAAGAGUCCAAGGAGGAGUCUGGGUGACGGAGUCUUUGAGACCCCGACUAAGACUAAGUGUGACUUUACGCUCUUGGUGACCGAAUCUUAAACGUGCACCUCCAGACGGGACUUACCCUCGAAUGACAAUCACCAGAACAAGCAUUUUGUCACCUAUUAUUCCACUCACCUUCAUAGAAGACACUAAACAUGGUCGGAAGAUUUCUCCAAUAGUAAUAACAAUAAAUUAUUUUUCGUGACUAUUCACCUCGUACAGUGAGCGGAGAAAAAAAAAAAAAAAAAAAAAAAAAACCCCUGCCUCAGAACGAGACAACGGGUCCGACCUCACGUCACCACGAUAGAGCCGAGUGACGUUCGAGGCGGAGGGCCCAAGUGCGGUAAGAGGACGGAGUCGGAGGGCUCAUCGACCCUGAUGUCCACGGGUGGUGGUGUGGGCCGAUUAAAAAACAUAAAAAAUCAUCUCUACCCCAAGGUGGUACAAUCGGUCUUACCAGAGCUAGAGGACUGGAGCACUAGACGAGCGGAGCCGGAGGGUUUCACGACCCUAAUGUCCGCACUCGGUGCCGUGGACCGGGUGAGUGAAGAAAACCGGUCACCGAGACCGUACUUCGACCUCCGUUUCUACGACUCCCGGACGUGAUCUGUCCGAGACACGACCGACGACCAAGGCAGGUACGGUGGUUAUUGGGCUAGUCCACCUCUCUCAUAAAUAAGAACGAAAUAACUUACCUUUUAACACCGAAUCGUUCGUUUUCUUCCCGACGCAAAGUCAACAUCCGGACAACGGACUCUCGUAGGAUCCCAGUGCUACCCCCACCUCACUCUUACGAACAUGUCCACAAAUGUCGAGAGGUCAAAAUGACAUACACCCACGGGAGCGAUACCUAACUCUGUAGUCUAAGACAGUCGAACCAAAAACCUACGGACCCCUUGACGCAACAGGACCAACAGCCGAUGGACGGAUUAUCGUCCAAUGGCACUUUGGUACACUUCGUUAUCUUACGUUGUCGUUCCAUACCUAAUGUACUGUCCGUCCGACUCACCAAGUCUUCCUAAUAUACGACACCUGGAAUACGAAACGUAACACUUGUCACAAGGAUUGACGGGUCGCGGGUACGUCUUCCCGGUCCCCCAUCUCGUGGGUACACUACUUACGGUUGGUUGUCACAUGAACGGUACGGAAGUGGAACGUUCGUCCCAAGAAAACAUUAAUCGAGAGCUUACUGUCGUUGAGACGGGGACUUUACCCACGAGACGUCACUAAUUCCCGAUCACAAUCGACAUGGUCCCUCUAUGACGACACUCCUCCACGGAGACAAACCACAGACACUUUGUAAUCUACGAUAAAUUUCACUAUCGCCAAGAAUCGACCGAUGAACCGGAGACGGUAGACAAUCACACUAAUCCGACCAGACUAAGUGUCCACGUCGGACCCCGCCGACUCUAAUUCGUCGACACCAGACACACCUGUCUCCUUACGGUGCCGGCCCCAUUAACCGUUCCGUCCUUUCCCCUGCAACGGUAAUUUUGUUAAAAAACGGUGGAGUUCACAGUUUACGGACUGGGCUAAUUAUCCCUUUUAACGUCUUCGUGGUUUAAGAAACAUAAAAGUCGGUGGACCUUUUGUGAGUACACAGGUCUAACUAAAGAAACCACGGAAGACUAACAGACUUUUACGGUGACCCCACACAAACAUACAAGAAGAAAUCCUUGAAACUGUUUACUACGAGGUCACUGGGACACAACUACCACUGCAAAAACCCGAAAAAACUCAAAAAAAAAAAAAAAAAAAAAAGAGGAAAACCUAACUCUGUAACUUUUAAAUCAAGACAUAGAAGGUCAACCUUUUUAUAUAACGUCCAAUAAGGGAGACGACUAAACGAUCUAAUAACUAGAUUAAAACAACCAAUUGUAUUCUUCCGUUCGAGUCGACGGACGAUCUCACAAAAAAUCUAAGACAUGUCUCAUGCUUUUCGAACCCACGGUUUAUGUUACCGUUUUUAUUGUUACUUCUUAAUUUCUAGCCCGCGCCACCGAGUACCUACAUUAGGGUCAUGAAACCCUCCGGCUCCGUCCGCCUAGUGUUCCAGUCCUCAAGCUCUGGUCGGACCGGUUAUACCACUUUGAGGUAGAGAUGAUUUUAUAUUUUUAAUCGGCCCGAACCACCGCCCGCGGACUCCGACUCCGUCCUCUUAGUGAACUUGGGCCCUUCACCUCCAACGUCACUCGGCUUUAACACGGUGACGUGGGGUCGGACCCGCUGUCUCACUCUGAGGCAGAGUUUUUUUUUUUUUUUGUUUUUUGACAUAGAUAAUUGUAGUACAACAUGUACGUAACUUUUUGGGUCGGUACCCGACUAAACUAACUAGAAAAAUUCAACCAAAGAAGUAGUGUCUACACGUCCCGUAAGAGACCAGUAUAAAAUCGUCGACUGAUCGACUACUGGAGUGUACCAUGGUCGUGAUCUACAAAGGUUCACCUUGUCAGGACACUACAGUAAUGUUCGGACCAACGGUCCUUUAUUACGACAAUGUAUACGGGGAGCCACGUUGUGUAAAAGAGGUCUUUCUUUCAACGUCAAAGUAUACGAUUAAAAACUUUACGUAGGUCCAACUCCCAAAACUUCCCAACUCUUAAAUAGGAAAGCGUAUCUUUUCAUAUUCAAUUGAUCAAGAACGGAAGGGAUCCAUGAUCCAUACAAUUACCCAAUAGACCGUCGUUGAUCCAUCUACGUAUAUGGGUAAACAAGCUCCCUAAAAAUAACAAAGGUCGAACAAAGCCACUAAUUACAAAGACUUCUCGAACUCUGAAUCAAAAACUCUUCUAGUACUACCUGCUUUUCAAGUCCAGGUAACGAAUUGAGCUCCCUUCACUACCUCUCUGUCAACGUAGUUCUGAGAACGACGAUUUCACCAAGAAAGAGAGCUCACUACUCUCUUUUUCAUUAAAAGAUAAAACCAAAGUAAGGACAACUCUGGACGUCUACGGGUGUGAGGUACAGUCCCUCUUUCCGAUAAAAAAAACCUUCAUGGAUCCCUUUUACUUCCAUCAAUCGGACUCUAAGGUUUGAGUAAAGUAACUAAUUGGACGGCUAUUGUCAAGUUUCAGUGGAAACAAGAUUAACCCUAAAAAUGAACCAUCUCUAGGAUUCAACCAUUGUCGUCCGAAGAAUCAACACAACUUCAAAGAUCCUUAACUUUUCUUGUUAUAGUCAUUAUUUUUGUUGUUUUUUGGGUGUGUCCGAAACGUUUAAAAAUCUUUAAGGGAAACAUUACUUUUGUAGUAGUUAUUCAACCAAACCCGGUCGUAUCGUCGAGCGUGGACAUUAAGGUCGAUCAACCCUCCGGCUUCGUCCUCCUAGCACAUAUGGGUCCUCAAACUCUGAUCGGAGCCCUCGUAUCGUUCUGGCGUAGAGAUGUUUUUUAUUUUCUAAUCGGUCCACACCAUCGAGUACGGACGUCAGGGUCAAUGAACCCUCCGAGUCCACCCUCCUAGUGGACUCGGGUCCUCCAGUUCCGACGUCACUCGACACCAACAUGGUGACGUCACGUCGGACCCGUUGCCUCGUUCUGGGACAGAGAAUUUUUCUUCUUUUUCGACGAAAACCAUAAAAUAGUGUUUAUGACAACUACCACAAGGUAGGUUACCAACCUGACUUAUAGAAAGAGUCAGAGGAGGAACCAGUUUGUCGUAUCGGUUACUAACCUCUUCAAAGGAAACUUCCGUCUAGAACCCUUAAGGGUACCCGAUUGACCAGACGAUCACCCGAGUCAAGAAAGUGAACACCAAUUGAACGAACCAAAACUUUUGUAUAUAAAGACUAACUUACGGACCGACCAAUCGUUCAAAAAUUACUCUAAAGAGUUUCGGUGUCUGUAUGGGGGAGUAUUAGUAUAGGAGUGAGUGUAGAGGCAUAAAACAAUCUAAACAAAAGAGAAUCAAAUAUGGUUUGACUUUCGUCUUGACGUCCCAUCACCCCUCGAGACUCUGUAAAAAGGGGACAGUCCUCAGUUUCGUAAGUUUACAGGACUAAUCACUAUAAAAAUUUUCGGGAUUAAUAUCUGAGCUCUGUCUCCGAAAUCACCCCGAAAUCUCUCAAACACUCUGAAUUAGAUCCUCGACCUUGUCCGACACAAAAAUUUUAAAAAACGUAGGUAUUUUUAUGUCAACCGUCAGUAACCACCGGCGCCGAGUGUAUUUAGAACUUGAAAACUGAAUUAAUGGUACCCUCUCAAGUUUCCCGUCCGACCUCACCAACUUCCUUGUGACGAGUCCCUCGACCUCUACCCGGACCGGAGUCGGGCCGGAGACCGACACACUGGAACUAGUUUAGUGAAUUGGAAAGACCUACUGUAACUAUAGUAGUCAGCAACCCGGUCUACCAGUGGCUCCAGAGAAAACCAUGUCGGACCAUUAUACUAAGGUACAAAGAGGAAAUUUAGUAACCCGGCACAAGAGACAAAAAACCAAGGUCUCUCUCUCUCUCUCUCUCUCUCUCUCUCUCUCUCUCAUCUAAUAUUUGGAAUCCACAGUCGUAACUCUACACGUUCCCAAAACCACCCCCGUCCGGGUCGUCGGAUACCAAAGAGUGAUUCAAAUUUAACGUCCCAGUUUUCUUUAGUGUAUUAGGAUGGUAAACAACUGUCUUAGUUAUGGACAGAUCGUGUAUCUAUGGACCUUUCAUACAAGCUUGACCGCCCCUGGAAUUAGUCACGUUGAUGAAGUAAAAUAUCGAUUUCGAAAAUUAUCAGUAGGUAGGCAGGUAGGUAGGCAGGCAGGUAGGUAGGUAGGUAGGUAGGUAGGUUAUUGCGAACUCACGGAUGAGGUAUCCGAUUUCUGUUGAGGUCGACAUGGGAGGUCCACGGGAUGACAACAACCAGUCGUAGUCUUCCUCAUAAAAAGUCAUGUCUCUGUGAUUACAACCUUCGUGUGUAGAUAGUGUUUCUUCCCCGGGACUCUUUCUUAUUGAACCGAGAUCCCACCCUUAUUAUUUCCGACACAACCUCAGGAAACUUCCUUCAAAGACACCCAAAUAUUUAGAGAGAAAUUGAGUAACGUAGAAUUUUCUGAAGACAACAGAAUUUCAUUUUAAGAUGAAUUAUAAUAAUGAUUACACGUUACUGACAAUGUCACAUCUUUUACUAUUACUCAUCCAUACGAUAUACGACCACUACCCUAAAUUAACUACCCUACCCUAACUAACUAACACCGAUCCAGACUGACAAGAAAUUGGUCGAGUAAGAAUCAUAAACUACUAAUCCUCUUGUAGUAAGAACACCAUGGAUAAUGUAGUCUUCCAGAUUCUUACAGUCUCGGUUUCCUUGGUAUGGAGAGUAGCUCCAAUUAAACAAAGGAAAUGUCCACCUAAUCACAGUAAGUAAAACUUACGGUAACCUUCAAAUAUGGUGUGCAGAGAUAAUCGACUGAAAUUCGGGCGAGAAGUAUGUGGAGAUUCCAUAUAUUUCAAGUCCCUUUGAGUACACAGGAAUCGAACGUCUAAGUAAACUAACUAACUAACUAACUAACUAACUAACUCUGUCUCAAAACGAGAACAGCGGGUCCGACCUCACGUUACCGUACUAGAGCCGAGUGACGUUGGAGACGGAGGACCCAAGUUCGUUAAGAGGACGGAGUGGGAGGGAUCAUCGACCCUGAUGUCGGUACGCAGUGGUACAGGUCGAUUAAAAACGUAAAAAUCACCUCUGCCCCAAAGUGGUACAACCAGUCCGACCAGAGCCUGAGGACUGGAGUCCACUAGGCGGGUGGAGCCGGAGGGUUUCCGACCCUAAUGUCCGCACUCGGUGGCGCGGACCGGACGUCUAAGUAAAAUCUAUUCUAACAACUCAUUUGUAGGGACAAUUCGUAGAUGAUACCUGUUCCGACUAGAGACGAAGUCAUCUAGAAAUUAAACCAUGUACUCAAGGAAGAGGUUUACUCUCAACAAUUUCGACAAGUGCUCGGAACCAUAUUUUCCCCGAAGGAAUCCAUCUCCUCGGGCAAGAUUCACGGACCUACCACAAACAGAGGUCGACAAAACGUCAAGAACCCUCCGGGACCGUAAAGGUACACACAGGAAAGGUUGACGUUUUUGUAUGUCUCCUGUGUUCCGACGACUACUUCCUUUGUGUCAUCCCGAUAGAAUAUCAUAAUAAUAAAAAGAUCUAGAAUGUCUAAGUUCCAAGUGUAUUUCGAUCACAUAAAAUCCUUCUCGAUAACAUUUUAAUAUUUUCUCAAGGUCGGCCCGCGCCAUCGAGUGCGGACAUUAGGGUCGUGAAACCCUCCGACUCCGUCCACCUAGUACUCCAGUCCUCUAGGUCUGGUAGGACCGAUUUUGCCACUUUGGGACCGAUUUUGCCACUUUGGGACAGAGAUGAUUUUUAUGUUUUUUUUUUUUUUUUUUUAAUCGGCCCGUACCACCGCCCGUGGACAUCAGGGUCGAUGAGCCCUCCGACUCCGUCCUCUUACCGCACUUGGGCCCUCCGUCUCGAACGUCACUCGGUUCUAGCGCGGUGACGUGAGGUCGGACCCGUUGUCUCGUUCUGCGACAGAGUUUUUUUCCUUUUUUUUUUUUUUCUGAAGGAGGGGAGGGCAUAGUUCAAGUAAUUUGUAUAAACACUCGAACUAUAAAUUUCUCUCCGACACACGACCACACUACAAUCGUCAGUGGUCCCACCCCGACCAGUGUGUACCCUCGGACCCACCUCCCAACACGGACCUAAAAAAUACCACCGGGGGUUGGAACCUAGAGACUCUGGAUCUACUCGUCGUGACGUGGGCAUGGGACGACAUACCGACACAGACACAAAACGUCUUCGUCUAAAAUAUCCACAUCGAAACUACUAACUUUAUAGUGGGCUCCCUUCACCGAUGGACGGUCUUUAAGGUCGUUGUAAUAAAGUGGAAUCAGGAAUUUAGUGAGGGCUCCGUGGUUCUGUUUCCACGCCCAACGGGUACCCGACAACGGUGUCCAGUCCGGACGUAUCCACGCGCACCAGACCCGGCCAGGGACCCGACAAUGUCUGAGUGGGUACCGAACCGGGUCACUCCCGUCUUUUCUUGUUGUAAGGAUCAAGGAAGUCGAUUUAGGGUGAAAAAAAAAUCCCUUGUAUUUUUAGUACGGAUUACCAUACAUUCGUGUAUAGACAACUAAAGAAAAUACAUUUUUUCUUUUCUGUAAGGUGUCCUAGUCGAGUCGUCAUUAACUACAAUAGACUUUCUCAAUGACGUAAUUAUAAAUCGAUUAAGUAUACUUAUCCGAUAACACAAAUGAAUUUGUUUACUGUACUCACGUCUGUGGACUGUCGUACUCCAUACGAAAAGUAAAUCCAAUCUAAACAUUUGCAGAAACACAUCACUGUUUCGAGUAAUAAACAAAACACGAGAGUUACCAAAGAAAAAUCACCGACACCGACACCUACCUAAAAAGAUUCAUCUUCGAAAAUUUUACUUUCAAAUAACUUUAACAAAGUCAUAUACGGUCCGGGACUCUCAGAACCCUACUUACCCUUAGUUCAUGAGGGACCACUUGGGAGUUUUCUUAUCCACGCAAAUACCCGUAAGUUGUGGGUCUCGGUUUACAGAUGGGUCCAACGUUUACGUUGACCUAAGUUUCCUUCCUUAAGUCGGGGACAAGGAAGAAAGAGGAGGAAGGAGAAGAAGAGAGGACCGAAGCUAUCAAAACGGGGAGAAGGGUGACAAAGUCGUAGUAUACCCACGUGGAUUUAGGGUAGUGAAACUGUGAAUCUAUUCGUGUCCCUAUUUCUAUGUCGUACCGGAACAUUUCUUUAGAGUCGAGAUGGAAACUGUUGUCCAAAGUUCUCGUUCGCACUUCCGAUUAACCCCAUCCACAAACCUACGUCGCUAAAGUUAAGGACUAACAUGGGACUCAGACCGACGAUUCACUUCCCCUAGGAAUAGGGGGUCCCUGCACGAGAUGUGGGCAUCUUAUCUCCUCUGAAGAUUUAUACGUAGUCUCUGUUUCGGGGACGGAUCCCGGUAAAACGGAACCCAAACACUUGACACACACGACAACAAGUCAGAUCGGAAGUAGUCUUUAUUCGUAUCAAUACUUAAUCGGAAGAUGUUACAAGUUCAGGGACAACCACCGACAAAGUCUCCUUAUGUCCCUAAAACCAAUGAUGAAACGAUUCUGUCUUUGUAUAUACACUUAUCAAUUUAACGACAUGUCAUCUCCAAGACCUGUCCUUUUUUCCUCCUGCACACGGAACUGGGUCCGACCGAAAGGGCCUGAAGUCGGAAUUUGUAGUCUAACCACCUUCCAUGCCUAAGGUUGGAGCACCUCUUCGACGUAGAAGAAUCGUCACCUCUCAUCCCAACUUCUAUCACCCGAGACCGUAGUCUGACUACACCAAGUUUAGAACCGACGUGGAGAAGGUUCGAAACACCGAAAACCGUCCAAUGAAUUGACGAGACACGGAGUCAAAGGGGUGAACCUUCGGUUCUAAUACUAUCACGGAAAGAACAACUUCGUAACACUUCUAAUUACACAACUGUACAUUUUUGAGAAACUCGUCACGAACCGUUUCAUCUUCGAAAGUCAGCCAUCAUCAGUAAGCGGUAAUAAUCGUCUGUACUUCUUAAAUGUCACCAUAAGACCGAACUACAACACCGAAAAUAAAUCUUUUUUAUAUGAAAUGAAACACUAAAUUUUGAAAAAAGAACUGAAAUUUUUUAGUGAACAUAAAUACUGAAAGCCCCUGUAGACCUCCCGUAUUGAAAUUGUAUAGUAAAUUAACCAUCGGAGGAGAAUUCAAUAGUAAUCCACCCCACCAUCCCAAUACCGUAAGUAUUGGUGGUAACCUUUCUUUAAAAAAAAAAUUAAUUUUUUCAAUCAUACAUAAAUCACUAUGUCAAAAAAAAAAACAAACAAACAAACAUAUAUUCAAGACUCUUUACAUGCUUACUGAGAGACCCAAUAAAAUAAUAUAAUCUUACUGUUAAAUAUGAUAACUAACGGGAAUUUCAUUCCGAGGUUACCUAUUCAACUAUCCCGAAAACUCUUGUUGAACGAAAAUGAUCACACAUAUACACUAGUAAAUUAUCCACACCGUUAGGUUUUACUAGAUAAAAACCUCCUGACUCGACAGCGUCAACAUAUACAACAAGUAUACAAAUAUUUUAUCGUAAAAUUUUGUACUAAACCGUACUUUAAUAAAAGACCGUAGUUCUUGUUCUCUCUCUUCCCCGGAGUUUGUGAAAAAAAAAAAAGAAGGACAACCAUCUGUACUUGGUAGGGAGAGACCCUGGAAGACGAGUCGGUCGACCUAAUCUGAAGACUUUUAUAAAAGGUUUACAUUUAUAAUGGGUUUCUAAAUUUUUUAUCGGAUCGUAAAUGUACGUUUCGCUUUACUAGAAUGGACAAACCUCAAAUGAGUACCUCCCCUUCGACAGGUAGUCAUAUGUAAGAUUAUGACAAAAGGUUUUGUCCUCGUGGUAUGACCUGGUUGUGUCUUUUCUACCUUUUCGCCGAGGUACGACACGGACGCCGGUUGUGACAGUUCAAAGCGACGGGUCGGCCCCCCUUGGGUUACGGUUGGUACGCCACCGACUUUUUGCCCUUCCUCAAAUUCGUCCUCGUAGCGUAACCUCCGAUGUUCCAUCUUAAUUCGAAAGUCUUGUAGUGUAAAGAAUGUAAAAACAAAUAAAUAAAUAAAUGUAAAAAAAAAACGCUACCUCAGAGCGAGACAGCGGGUCCGACCUCACGGCACCACGCUAGAGCCAAGUGACGUUGGAGGUAGAGGGUCCAAGUUCGCUAAGAGGACGGAGUCGGAGGGCUCAUCGACCCUGAUGUCCACACACGGUGGUACGGAGCGAUUAAAAAACAUAGACAUCGUCUCUGCCCCAAAGUGGCACAACAGGUCCUACCAGAACUAGAGGACUGGAGCACUAGGCGGACGGAGCCGGAGGGUUUCACAACCCUAAUGUCCACACUCGGUGCUACGGGUCGGGAUGUAAAAACAAAUAAAAAACUUCACGAGUUUUCAAUCGUCCUUAAUCUUCCUUAUGAAAUUGUUCUUAGUUAUUAACAGUGUUAACGGGUACAGUCCCAAACUAUAAUUUUUUUUUAUAAUGGGGCCUGAACGCACAUUAAAAUUUCAUGUUAAGGGCAAACACAACAAGAAGUAUACUCCUCUCAAAUUAUUGUCUUCCCAGCUUUCAACUCUCAGACAAAAGAUAUACGAAAUAUCACAUAUUUUGAUUUUGCCCACACCUCAAACUCUUCGCAGUCAUAUCAAAGGGACAGUCUCGUCCUAACGUACUUAUCACUCCCCUGAACCUAAUCUCUGACCUCAUACUUUAUACUACGUAAUUCCCUCUCACGCACCUCUACUGUCACCGUUAGACGACAGGAGGAACUUCCUAAGAACUCUCGUGCAGUGUGUUACGGUACUUUAAAAUCAGAGUAGUGAGGGAUCCCUCAAACUUUAACCGUCGACAGAGGGACGUCUACGGGCGCGUACGAGGAGAUCGGAAACAAGUAGGUGAAUCGUCUGUAACUAACUCGUGGGACACACGGUCCGUGUGAGGACCCGAGACCCCUCUACUCUCCCACUCCGUACCGGGGUCGAGGUUCCCCGAGAAUCAGGUCAGGUCGUCCUCUCCGUCUCCUCUUGAGACCGUUACCCUCCCUGUGUCCAAACCAACUUCAACGUCCUCGUACAACGUAGGGUACCUACAUGUACCUUUCCACUAUAACCUAACCGCAAACCUUCUUAUUCCUCUUUCCUCCAGUCCUUUCCUAAGUCCAGACUCAACCUUCCUUUCUACAGAGUCUUUCUCUCUCUACCUUAAAGGUUUAAUAAAUCAUACCUUCCUCUCUUGACAUUAUUAACUCGUAUACUUUUCCUGACUUCCUUUGGAAUACUACUUUAAGAGACUACGUAAACCUUGUAUUCACCCGUAUAAUCAAUGGACAACGACGUAUUAUUUAACGGGGUUCCAUACCAUCGAAAUUCGUUGUAAAUAAUGGAGUAACAACGGACCUAGUCCUUACUUCCACACCGAAUCGACCCAGAAGGUAGAGGUCGACAGAGUGUCCUGACAUUCGUUCCUUCCCAACUCCGACUCCAGAGUAACCUUCCCAAUUAACCCCUUCCUUGACGAGUACACCAACGACAAUCCUAAGUGAAGGAACGUCUCCCGGAGUCAAGGAGUGACUGACAACCGACCCCCGACGGGUGACAAGGUACGGUGUGCCCGGAGAAGUAUCCCGUCGACGACAGUAGUCCAACUCGUUUCCUCCUCGGUCUCUCUCUCUCUCGUCCUAGCGUCUUCAGUCUCGGAAAACAUUGGAUCACAACCUUCCCUGUCGGUGGUGAAAACGAAAAAAGGUAAUAAUUCGUUCUGUGAUCCCUCCUCCAACGGGUUCCUGGACUUACGGUCCUCUGUUCCCCUAGUGGCCUUGGGUAGACCCUUUUGACGUACCACCCUCCUUAUCUUCUGCGAGAAAUCGAGUCUGGAGUCCAGGAAAUGUCGGUCCAUCCCUCCUAAGGAGUCAUCGUCGUCACCCCACAGGUCCUGACACAGAGUGCACAGAAAUUGUGUGGUCGUAGUGAAAUCGAGGUAGUAACGACAUCCAUUUACUCGGAGGAAAGGUGGAUUUUUACGGGACGUUGGGAAAAGACUUUAAAGAAUCUGUCAAUAAGUAGAAAUUUCCUAAUAAAAGAAGACGUUUUCAAAAACGGAAAAACAAAAUUGUGAAUCUUUAAUUGUAGAUCUCCGGUUUUAAGUCUCCUUUUACCCCUGUCGGAUACUCAUUCAAAGAUUCUUGCGUACCACCCGUCACUUGUACACUUUGUCAAUACUCCGUCUAGACGAUCGUCCACCCAUGACAACUUCGAACUUUCAUCUUUAUGAAACCAACAAAAGGUGUUGAGGAUGAACCACCACCUUCGUCCUCCGUCCCCCACUAAACAGGAAGACAAGAAUCAAGUCAGGAAUCUGGUCUAUGCUACUCUAAGUUUCCAACCGGGAAAAUUUUCUUUAGAAAAACUUUUUUUUUUCAAUUCCUAAAGUACCCCCCUACGACCAAUCUUUCCUUCUCAAUUCGGUGAUUUUAGUGCCGGGGACCCUAACAAAAAUUGGUGGUUUACGAAAGACUUUGAGUGUAUUAACUACGUCAAGGUUACUAAAUAAAUUUAUGUUAGACUCACACUCUUACCACCAGUUUUAGGACCACCAAUUGAUUAAAACAGUUAAUUCUGUCGGAACAUUUAUUCAUGUUUCUCCUCGACUACUCCGAGGUCUCUGGGGACCCGAGUUUUAUUUACCUUGGCUGUAGUAAUAAUACCCCUUCCUCGAAAAACGUUUAGACUUAAUCACUAAUGUUUAUACGAUUCUCUGAUUCUCCCGGAUUACUCUUUUACGACGGACUAAAAAUUGUCCACGUCAAGUCACAAUUAAUAACUAAGGUUGUAAAGCGAUCUACUUCUCGUGGAUACAAGAUUUUCGUUUUACUCCUGAGGGUCGUCUUUCGGAAAUCGGACGGGGACACCUCACGUCUACUGGUUUCACUAAAACAACAUAGUGCGACUCGGCAAAGACCUCCCUUUUCCUUUACCUUAAAGUCACACACCCUGUUUUUGGAUUUUAUAUAAAACGAAAUGGUUUUUUUUUUUUUUUUUUUUUUUUUUUUUUUUUUCCGGUUUUCGCCGUCUCCCGGUGUGUAAACCUACGUCACACGACCGCACCAGGAGAGGAAAGACCAAGAGACCACCUCUUUCCGAUACCGACAUCCCACCCCGCCGGACCCUCCAACCGGGCGAUCAACGUCUCCACCAGUCGGAUCCAACUAGUUCCCGAAAAGUGUUGUCGUCACCGUAACUUGCAAGUAAAACCUCUACGGUCUUUGAGAAUCUUUAAGGUGACUCAGGGUUCCCGAAGGCCCUGAACUUUUCCUUUCUGUGUAAAGAGUAGAGGACCCUUCCAAGGAAGUCAAUGGAUUCCGUAGUAGAAGCGAUUACUACACAAUUCGGUUGGGGUCCAGGACCUCAGUGACCUCGAGUUUCUCCGAGUAAGGGUGGACACCCGGAGGGGGUACCCCUCGAGGAACCGACCGAUACCGGACGCAAACGGAGUCUCUCAGGAACAACCCCGGACUGGUUCCGUCUGAAACCCCUCUUACCAGGGACCACAACCCAAAAGAGAGACUAUAAAAGAAGCAAUGGAUGCAUCUGAAUUUCUUUACACGGAGACCCAACCCGUGUCACCGUGACAUUAGGGUGACGAAACCCUCCGACUCCGUCCUCCUAGUAUACUCCGGUCCUCGUGUUCUGGUUGAAUCCGUUGUAUCACUCUGGGGGUAAAGACGUUUUUUAAAUUUGGUAAUCGACCCGCAUCAUCACGAGUGGACAUCAGGGUCGAUGAGUUCGUCGACUCCACCCUCCUAGCGAACUCGGGUCCUCAAACCCCGACGUCCCUCGACACUAAUACGGAGACGUCAGGUCGGACCUACUAUCUCCUUCUGAGACAGUUUUUUUUUUUUUUCUUUUUUUUCCAUGGAAACGUGUAAACUGAAGUCCCUUGAUAUAACAAUAAAAGUAAGGAGCCGUGAAGGAGUUUUCGUUUCUCUGGAUUAACUUUGAGUCUCCCGGACUGUAGAUUGACUAAGUAAGGACUGAGGACAGGUAAACGGUGAAACGAAAUAAAAUAAAAAUAAAAAACUCUGACUCAAAACGAGAACAACGGGUCCGACCUCACGUUACCGUACUAGAGUCGUGUGACAUUGGAGACGGAGGGCCCAAGUUCGCUAAAAGGACAGAGUCGGAGUGUUCAUCGACCCUAAUGUCCACGGGCGGUGGUGUGGGUCGAUUGAAACAUAAAAAUCACCUCUACCCCAAAGUGGUACAACCAGUACGACCAGAGCUUGAGGACUGGAGUUCACCAGGUGGGAGGAACCGGAGACGCUCACGACCCUAAUGUCCGUACUCGAUGACGUGGGCAGGGUAAACGGUCAAAUAAAUUACUUCUUCGUUUUACAGUUCAAAAGGUUCUAUGUAAAAAGGUCUUUCGUUUAUGGACUUUUUGAAGAAGUUUGUUUACACACAAUAAAGACGUUAAAAAGAAAAAGGAAAUAUUAAGACAAGUAAGGUAUUUGAUACUAACACGAAACCACCGGACAGGUAGAGUAAGAAAGAUGGGCAAAUACCUAACCCGUGGAGCCGUCGGUAGGGGACGUAAUGUCGAACAAAACUUUACCGUACGUACACGCCGGAUAUUUCCCUCCUCCCUUCUGUUUUUUUCGUUUUGUUUCAGUUUCUCUUAAUACUUUACACUGUCUUUCGAGUAAAAGUAAGUUUACUGGUUAUCUUGAUAAACCUUAAGCCGUCAAGUCAGAACAAAUAGUUUCUUGGGUACGACUCGGUAGGAAUCCACUAAUUCUUAGUUUAAUAAUAAAAAUUUCACGUACUCGUUUCAGAACGACCUACAAUAAUUAUACACUAACUAUAUUAUCAUUUCCUGAACUUAGUAUUGAGAUAGAGGGAUUAGUAUGAAUAAGGACCCGAAAACGCAGUCAGAACUGGUACCCGUUCAAAAAAGUCGAGAGACACGGGGUCUUAGGGAACGGAAUUUUACCCUUCUAACCGACUUAUUAGGACUAGGGAAGUCCGAGACUCUUGGUAUUAAAUUAUCAUAGUGGUAGCACAUCGUAGUCGGUAAAGAGAAGAAUUUGUUGUCGUGUCUAAAAAAAAAAAAAAAAAAUUAUUUCUCCAAUGGAAGUACCGAUCUAUAAAGUGUCCCGAGUCCUGUCAAUAACGUUAAAUUACGUCUUUUCGUUCUUCGACCGACUCUAUUAAUUAUCUGGUGGAGUUAAGAGUGGAGGAAGCAUCCAUUAAUAAAUCCGUAUCCCCCAAGAAUUUUUGGUAGAAAAUACGGUGAAGCUUCACGGACGUAUCUGGUUCUCUCUAGCGUCCUGUCUCCCGAGUAAGUUGCACUGACACUUUAACCGUGUCUUCGGGAGUCGCAACCCAUAAUGUCCCCAAGUCCAAGGGGACCUCGGGGAGUCGUCUCUCAUUUCGUAAUAACUCGUACUUGGUUCAUAUAAAGUCUAGAUUCUUUUCUACUAAAAAUUUUGAAAACAAUAUUAGUGAUGAUUUGACCAACAAAACUUCGUAUCCAAUUAAUCUAAAUGUAAAAGAUCCAAUCAAUGAAUCUACAGUAAAAUUUCUGAAAAACUACUUUACAAUACGAAUUAGGUGUUCAUACAAAUCCCCCUCUUUAGUACUGAUUACAUGAAUAGUCGUACAAAUAUGAAAUACCUCUAAAAAAAAGUCACUUCUGUAAAGUCGAAAUUAGGGUGUAGUUCGUCAGAAACUACUCCUGUGUCCAUAUACAAACAUAAUCGGUUGCAAAUACCUGACGAGGGGACGCAGCACUGAAUGGUCCACGGAGGGUACCUCGUUCAACGAGUCAGGAAGGUGUCGGGUUUCUCCGUCUGUGACAAUAAAACGGGAAAAUGUAAACUCCCGAACGGGAUGGGGAUGGAGUAUCCACCGUGUCGACGGUAAACCUGGAUGCACCAAAACGUGGUCUUAAAUACGAGAACGAUUUGACGAACGAAGUUUACAUCAAGGCACAAAACAUUUUUGUGACAACGACAACUUACUCUUUGUAUUACUUUCAUUACCGAGGGGUUUUCGUACGUUUCUAGAUCGGGUACCAUAUGUCAACUCUCGUUUCAACCCCUAUACUACGACAAGAAAGUUGAAGGUUCUGGAGACACCCAAUAAAUAAACAAACAAAAACUCUGUCUCAGGGAGAUAUAACGCGUCCGACCUCACGUCACCAUGCUUGUACCGAGUCACGUCAGAACUGGAGGACCCAAGUUCACUAGGAGGACGGAGUCGGAGGACACAUCGAUCCUGGUGUCCACGUACCGUGGUGUAAACCGAUUAAAAAUUUAAAAAACAUCUCUGCCCCAGAGUGAACCAACGGGUCUGACCGAAGCUUGUGCAUUCGAGUUCACUAGGAGGGUGGAGUUGGAGGGUUUCAUAACCUUAAUGUCCGAACUCUGUGACACGGGUCGACCAAUACUCCAAAAAUGUAAAUAACACCAUUAUAUACGUAUUGUAUUUUAGAUGGUAAAUUCAGUAAUAGUUCAAAUCAUCCGUAAUUAAUGUAAGUACCACAACACGUUGGUAGUGGUGAUAAAAGUUUUGAAAAAGUAGAGAGGUUUGUCUUUGAAACAUGGGUAAUUCAUCAUUCAUGAGUAAAGGGGAGGGGGUGACGUGGACCAUUGGAGAUUGGAUGAAAAACACAGAUACUUAAACGGAUAAGACACAUGGAAUAUAUUCACUUUAGUCCUAUAAAAAGGAAAACACAGACCGAAUAAAGUGAAUUGUUUUCAGGUAGGUAUAACAUCGUACUUAGUUUUGAAAUAAGGAAAAAUACCGACUUAAUAUAAGGUAACAUACCUAUAUGGUGAAAAAAAAAAAAAAAAAAAAUUCUGCCUCAAAGUGAGACAACGGGUCCGACCUCACGUCACCACGUUGGAACCGAGUGACGUUGGAGGCGGAGGGUCCAAGCUCGCUAAAAGGACGGAGUCGGAGGACUCAUACCCUAAUGUCCACGAGUGGUGGUACGGGCCGAUUAAAAACAUAAAAAUCAUCUCUGUCCCAAAGUGGUACAACCAGUCCGACCAGAGCUAGAGGACUUGAACGGUAGGUGGGUGGAGUCGGAGGGUUUCACGACCCUAAUGUCCGUACUCGGUGACACGGGCCGGGGUGUAAAACAAAUAGGUAAGUAGACUACUACUAGUGAACCCAACGAAGAUGGAAAACCGAUAACACUUAUCGGUAACAUCGUUAACCACAUGUUCAUAGACAGGGUCAGGAACGAUAUUCAAAGAGACCAUAUAUGGAUCCUCACCUUAACGUCCUGGUAUACCGUAAACAGACAAAACGUUUUCGUUUUUACCCCUUCUAGCACUGUAAAAAUUUCUCGAUUCAAGUUGUCCGCCACCUACAGGACGGCGUCGGUGGAAACACUCGUGGCUGUUCGUUGCCCGGAGAUUCUUUUGUACCGAACAACAUUAAGUGAAGGGUGGAGGAGACCUCUCUAGGUCACCAACAAAUGGCUCGUCUCCCUUCUCAAAGACGGUGACCAGGGCUCCUAGUCUAACGGGCCGGGACAAGAGACCUGUGGAGGACUUUUCGUUUGAAGAACAUAGUUACAACCUCAAAUUCGUAAUUGUCCACAAACGGAGGUGUAGACGUACCACCACUCGUUGUCGUCCAUGGAGACAGGAACUGUACGUUCCAAUCAACCGUGUUUACGAAAGUCUUUCCUACCGAAGUUCAGGGGGUCCGUGGACGACUUUCACCCCCUGACCCUACCCUCUUAUUCUAAAAUACGUAAAAAACAAAAAACAAAACAAAACUCUGUCUCAGAGUGAGACAGUGGGUCCGACCUCAUGUCACCGUACUAGAGUCGAGUGACGUCAGAGACAGAGGGCCCAAGUUCGCUAAGAGAACGGAGUCGGAGGACUCAUCGACCCUAAUGUCCGUGGACGAUGGUACGGACUGAUUAAAAAUAUAAAAAUCAUCUCUGUCUCAAAGUGGUACAACCGGUCCGACCGGAGCUUGAGGACAGGAGUUUACUAGACGGGCGGAGCCGGAGGGUUUCACGACCCUAAUGUCCGCACUCGGUGACGUGGACCGUCUAAAAAACGUAAAAUUACCGUUGAGUGGACAACUUACUUGACUAGACAAGUACCCCACCCACGGAGACACUUCCGGUCCUAAUGUUCUCUAACGACAGAAGGACCCUUUUAACCCACGACUAUGACCGCCCUCUUUCCGAACCCUUAUAGAAAGACUAUAGUGUACCUGUGUCGCAAGAUGGACCGUGUCUUAUUUUGAAACAUAGUGGAAGACGUACAAAUAAGACGAACAAUAGCUUGUGGACUCAUAAACCUUUACAGACCUAAAAAAACGUUACACCUUCCAUUUAUAGGUCCACUGUCGGACCCAGAAAUUGGAAAGUGGGAAGUGGAAAGUGACGCCACAAAACCACAGUUGUUUGAUUUAGAUGUAAGGGUCAACAGUGGACUCCCAUCGGACCCUAAAUUAUCCGUAAAACCCCCUUACUUCCAUUGUCUUCUUAAGGCUUUUUGGACAGACCCGGUGGAACACAGAAACACACCUAUCCCACACCUUACAAGUACCUUAGGCGAAGAACAUAAUAUGAACCCUCAAAUCCGGUAAAACGAAGUCAGACGAAACAAAGUUAUAACUUUACAAUAAAAUUUUUUCAGAAAUCACUUGUAUCAAAACUUCAGGUACGAGAGGACAAGACAAUGAACCGUCUACUUUUUAUUACUACUUAAGGUGUUUCUAAACCGGUACUCGUCCUUUCUUUUUCUCAGCACGAACACAACCAACCACGUCUUAAAGAAGAGAGUGACCGAAAACACAAACAAAACGGUCUAGGUAACCAAGACGUCCCCCAUCGAUGAUAACUUACUAAUAGAUUCCUAGACAAAAUAAUAUGAAAAAACAACACACACAACUCUAAAGACAAACAAACUUUCCAUCUUUAUUCUUUUUUCAUCCGUUAUGGGUAUUAGGGUGACGAAUUAAUAUAUUUCAUGUAACGAUUGUUAAACCAUAUAAAAGAAAGACUAAAAUCGACACAAAUAUCAGUCCGAAUAUGAAAGUCAAAAUAUACGUAGAAAUCCCACCAUUUACACAGACGAAAAAAGAAAAAAAAUUUAUUUAACCUUAGUACUUAAUUGACAAAAAGUAAAUAGUUAUUGACAAAUUACUAUGGAAUGGUCCAGACUUGUAUUAUGAAGUAAGAAAAAUACUGAUAUCUGAUGCGACAAACUUACUUGAAAGGUAGUCAAGUAUGUCCUACUUGAUACGUAAGAAUUACAGAGAGAGGAACUGUCAAAAAACGAGAAUGUUCGUCACGAACUUCGUCGUCAAAACAAGUACACGGAACUUCAUUAACACGAUAAAAGACACCCGAUCGAAAGAUCUUCAUCUUAAUUGAUCUAGUUUUUUUUACACACGACGAUUAAAAUUAUCCAUGGUCGUUCAAUAAAAUGUGUUUCCAAAAAGAGUUAAAUACAAGGGUAAGAGUUAACCUUAGAAAAUAAAGGGAUGUGUAAGUGGUUCAUGACUUAUUGUAACUAGGAAGAUUAAAAACAAUUAGUCGACCACUUAUUGUCACAGAGUAAUAACAAAAUUAAACGUAAAGGGCCUAGCAAUUACUCCAAUUCGUAGAAAAGUAUACAAAUAACCCAUAAAUGUAAGGGAGAAGAGACUUUCGUUUCUGCCACAUACACGUAAACCGGAUUGACCGUUUUCUUAACAUCGUGACUUUUAGACUCCUUAAAUCUUUGUGCGCAACAUAUAUAAUGCAGCCUUCUCACCAAAGAAAUCCAAAUAAGACUUAGAGGUAUACCUUUAUCUCAUUACUUUUUUUUGGGGGUUUGAAACACGAAAACAAACGGUAGAAAUAUUUCAAUUGAUAACAUCAAAGAAUCGAACGAUAAUUCGUUGGUGAUUAGUUACCAUCCUAUAGGGGAUGUUUUCACAGGUCGUCAGGGUGACAACCACCUAAAUUCUCGUAGGUAAACCUUUUACGAUGUCGAGUAUUUUAAACCCAGUUAUUUAGUUUAUGACCUCGUUACCACAUUCUUUUAUUUAUAAUUGUCGUGACGUACCCCGUUAUAACUAGAUCAUGGUUCUAAAGACCUACCUGUCUUUGUGGGACAAACCAUUAACACGAAGAGUAACAUUUUUGUAAAAAUAUUUGCAAUUGAAUAAUUAUAAACAUCACGUAGAGGUCCUUCAUUUAUAAGUCUCUCGUGCACGAGAACUUCUCCCUAGAACAUACCUUACGGUACCGGGGUCACUCUCUGAACUCGACUGGUAUAGGGGACCCCAAUUUUUUUCCCUCGUCACUCGGUUCGACGUAUACGGUUCUAAAUUACACAGUCGGCUCAGUCCGCUACAGGGGAGGGACACGUCAAGUCCAAGUCGAGGUAAACCUUAUGAGGUACACGGUUUAGACCUAGGUCCGUGUUCUUUCUGUAACUGUCAAACUUACCCCAGGUCUCUGUCCGUGAUCGGCACUAAUUCCCGAAUACCCGUACUGUAAACUCGCCCCCGAGUUUCUUGACUUAUAAAUGUCGUCCCUAUUUACGACCUAAUGUACCGAACCACUGCACCCCUGGGCACCGAUGUAGGGAUUCAAUGGACGGUGUACUGACCAAGGGGCAUCCGUUUCUCUCUUAGUAAAGACAAUGGGAACUCUCGAACUCCACUUCCCUCCCAGAGGAAAACCCAGACACCUGGAGUUCAUUUUAGUUCCUCGAAUAUGGAUACACAGGGUACGAGAAUCGUAUUGCUACGGCAACAUCGUGGGUCCCUAGGUCCUAAAUCCAUCCCUUAAGAGUAACGCGACCUUCUAAAUCGUAGGUAUAGAGGAGGAGGAAGUCUUCUGUGUAAGACGUACCUUCCACGAAUAGAGAGAAUUCCCCUCUGCGCGAUCGUACAACAGACCCAGGACAAUGUUCAGAUGCCGAGUUGGUUCUCGUCUUUCGCUCAGAAACAGUAUGUCAUUUCUGAGAGGUGACAGCUAGUCUACGGGCAUCUAAGUAAAAAGACGGUCUGUAAAAUGGACGCUGUCACUCCUAGUCAAAGGGUAGUGGUCGAGGUCCGACAAUCUGAGACUUUGAUGGAAGCAUCAACAGCUACUGACGUCGUCGGGUCGUUUCACCGACUGGUCUUGAUAGAAUUGAGUGACGAACAUGAGACAAUUCCUCCUUCCUCCGGUUGGAAGUAGGUCACUAGGAAAGAUUCUGACAGUCACUACUCGUCGCUGGAGCAAAAUCUUGAGUCGUCGUCAUGGAGGUGGGACGUCAGUACCGAACGUAUCUUGACUCACCGACUGUACUUUUGGCACCGUGAGGUCACACGAGAAGCGUAGAGAAUUGAGACAACCGUCCGAUUAGUGACCGCGACGAAACGUUUCACCUGUCGACGAGACGGGAGGACAAAAAUAUCACCUCACCAAUGCUCUACUAAAAGAAAUAAGAGAUCAAAGAAUAUAGUGAGUACACGAACGUCUACGAGACGGACAUAAACAAAAAAUGCACUAAUUGGGUUUUUGUGAACGUUACGGGUCCCGUACCGAGUCUUCCAGUCAACUUUAAGGACUUUACUAUCGAUUCCAAUCAUCCGGAACUGACAAAUAAAAAAGUAAAGCAAAGUGACCUCACGGAACAGGUUUUGUGGACAUCUCUUACUGAACCUAAGUCUAUCUUUAUGAUUUCGGAGUUUGGGACUUCUAUGUUCUACAACGUAAAACACCAUUCCUUUUGAGAGCGUUCAAACUUUUAAACUCAGAUACCUUUAUAAACUUUUCGUCCCCCUCUUGUAUUCUUACCGCAGAGAAACACAUAACUACCAUGGAACCCAUCCUCAGUGUUGUCGACUAAAAGUGUACACGACGAAUAGAAACUUUUCAGAGUUCUUCAAACACUUGCCUGCCUAUAUGUUGAACUCAAAACAUUCCUAAGUAACGGCGGUAUAAACCUUAAGACCCAUAAAGAGACUCCUUGUACAUAUAGAUAAGUCGGUGUUGGUCUCUACCCUUCCCGUCUGACUACAAGGGUCGACUUUGAAGAACUCUGUAGGUCUGUUGUAGACUCUUGAUACUCGGGGAAUCCUCUUUACUUAAUCGAUGCCGUCGUGUCUCCCGAACCUCGUCACGGACCGUAUAUCAUUUACGAGUGAUAUUUACAAUCAAGAUGUACCAAGACACUACGGUAUCUCCGACUCCGAAGGAUCACCUACCCGUUUGACCAUCGAGCGGACGGGCACCGGUAACCAUGGUCCGACCGACCACAAGUCCGAGGGACCGGUCAACCGGAGAGGAUCUCCUCGGGAGUUUAGGUAAUACCAUUGUCUGGGUGCGACAUGUGACGGCUUAUGAGGACGUCUAGACUUAUACAGUUAUAAACGAAGUGUCCACAAGUGGUACUACUACUACUACCAAAAGUAAAGAGUGCUAAGAAUUACUGUCAAUAGUUAAAUCUUAAAUCCACUAAGAAGGUAUGGAAAGAACGGAGGAAGUCGAAGAAAAAUUUAGUUCUUUCGUGUCAUGAACCAUAAGACACGAUCCUAACAAUUUAUUGGCGGAAACGAAACUAGAAAAGUCCAUGCUUUGGUCGUGACCUCGGAGUAAUACCUUUCACACCAGGGUAGACUGUUCCCUUUAAUAUGGACACAUCACCUCUUACUUAUGCCCAGGUAGUUAGUGUGCAUGGUGGACCUACAACACCCACUCAAACGGAGAGGAGCACACCGCCGACGUAUGGUCGGGUAAGAACGAACUGAGCAAACUUUCGUACUUGCAAUUCAGGACAAAGAGGGUAUUCAAAGUCCUCUUAACCAAGUAAGAAUAAGAAAGAUGAUAGUAAAAUGUUCCGACGAAGACAGUAGACUGUUAUAAGACAAAAGGUCCGUCGGUCCCAAAUACUCGAAACGUACUAGGAGUACCAAGGGUUCGCAGUAGACACAUUUCACCUGCACCAUACUUUACAGACUGUAAAACCUUCGACUCUAAUGAGACUUUUACAAUUAACCCGUCCACUUUUCCCAUGUCUACACGACAUCGUCUGGAAACCAAAAUUUUCUCUUCGUAGUAAAGGGGUUGUCCCGUUGACAUCUUCCGGUCGACUUCUCAUUUCCUUUUCCAGACUCCUGACUCGGACACCGACCGACCUUUUUCCACUUACAACUCCCGGGAAGUGAAGGUAGUGUUCUUUCAGUAAUCUGCCAUGGUUAAGUCACAGACAAGGACCGUAGAUAAAGGAGACACGUUUCCCUUGGUACAUAUACUCGAAUAUUUAUGUAAAAACAGUCUCACGUGUCUAUUCAUCCGGUAAAAUUAAUUUGUAACUUCUGGUGGAGCGGACAACAGAACCUUUAAGUUCAAAGAAGGGUCCAAAACGGACACUACUACCCCGAAACAACAUUGAUUACUUCUUUCCUCCAAAGACACAGAACCUCCUAACGAUUGUAUACCUUGAGAUGGGUUCUGUAUGAAGUAACAACGUCCUACCGUCCAAUUCUAGGGAAGGUACAUCCCCGGUAGAAAAGAGAAAGGACAGUACACGGAACUGAAAGUUGGACGGUGGAACUCGGAAGAAAACCAAACAGGAGGGGAUUUAUGUCCAACGAUAGAAGACGACAUCUGAGUUGAGUCAAGUGUGAGUGCAAAACGGCAUUACACUGACAACCAUUAAGGUGUUCGGGUGUGGUGGGUGACACGGAGACAUUUGCUUCACAGAGGAUGUAGUAUCGGACACGCACACACGGAUCAUAGUAGAGUACACACCCAGAGGAAGUUAUUUUGUAGAAACUUCUCCCUCUGGGGCAAUGUAUAACCUUAACGGGUUUUUCGGUGAUUUUUUUAUUAGGUUUUCGAACUAAUUGGUUUAACGUUUCUAAACCAAUUAAUUUUAAAAUCCAAUUGACUUUUCAUUUGUUUUGAUAAAACUAAAAGACAGUUCAAUUUACCUUAACCUAGAUGCUCUGUGAGACGGAAUCUUUCGUACUAUAUUGGUAAUGAAGGUAAACGUAUAUUCGUAAGUCCCUUUUAUCACAAAUAAGCUUCUAAACUCAAAACAAGAAGUCUUCGGAAGUACACUUUAAACUAUCCAGGAACUUAUUACAACUAGGAUAUCUAUAAGUAUUUUCUCACUCAAAAUCUCGAGAAAGGGGUAUCUCUUUUGUACACCGUACAAAGAAUCACUCUUAAUGGUACAAGUCUAUAAAAUGUUUUGUUUGUUUUUCUCUUCAUUGUGAGUUUAAACUCUUCUUUUACUAAUUGUAAACACAACCGUAACUAUGUGACAUUUAGGUAACUAGUUUCUCGUAUACUGAACCGGAAAUGGACCCAAGGACACACAUGGCUUACACUGCAUUUUGAUAAAGAUAAAUCCCUUUCUCUCUAAAACCCGAUUUACAAGAUUUAUGGAUUAAAACUUUAAUUCAUUAAAUAACACCCUUUUUUAUUAACUCGAUAUCGUCAGAAAACCCUAAUAUCGAAACGUAUCCAGAUGUGUAGUAAGUAAUCCGACCCGACCCCGGUAAGAUCCGUAGCACCUCAGUCUACCGCCGGUGAGGCCAGACCCGAGAACGAAUUUCGUUCAAAAUCCAACUCAACAAUACAUUUUGUAAGUUUUCGGGGAGUGGGGUGGAGGGGAAACUCGAAAGACCGCCGAGUAGGGACACUUCGGGACUUUAGAGAGAAUCUCAAAUCCCAACCCUAAACUUAACCCGACGACUUAUUACCUUAACACGACAGAUUACAAUUAGGGGACCGUUAGUCAGAACAACUUUUCUCGCAUACUAAGUCACCACAUUACAUCUCUCUCGCACCUCACAUACCUCAUUACGUCUCUCUCCGGACUAAUACAGUGUUUAAACCCUCUAGCGGGUCGAUUUGUGCCCGGUUAUUACUGUGUUACGACCAACCCUUAUAGGUAAUUUCGAGUUGAGGUUAUUAAAAGGUUCGGAACUUGGAAGAAAUAUUUAUCUUCGGUUUUCAGUCACCUCAUUUUCCGUAAAAGUCAUUUCUACCUUCACACUUUAUGAGAGUAGAGACGAGUUUUGGGAUCAUUAACGAAACGCUUCGUGAUUAUUUUAUUCUUAACUCAGUCGAUUUCUCCGAGUAUAUCUGCAUGUCCCAACCGUCAGUAAGACUUGUAGAGUCGUUCACCUUUGUUUUUCCUAAGUUCGAAUUCGUCACUUAAAGACCAUCGGGUGUCCGGGUUUACACUAUGUGACGACACACUAUUGUCGAAAAGUCGGUGGAGAGACAAAGUGUCUUUUAGUCUUUGGGAAAGGGUCACUUUCGCUUCAGGGUAAGAACGGGUGUAAGAAACCCCAAAAUAAAAACAAAGAUACUAUGUAUCUAACACCAAGUCUAUAAUACUUCGUAGUUCUACCCACUCUAGAAAAAUAACUUUAAGAAGGAACCUUUCCGUAAGGGUAUUCGUGAAAUUACAUUUUCGGCACAUUAAAUUCACUGUAAGAACACAAGAUCUUAAUUUGCCGUUCGGUAACAACACACAUUCCCUUUACGAAAGUAAAUACCCUCGGGAAAAUCCUCGGACCGAACUAGGAGUAAUUUUAACUGUGGUAAUGAAAAGUCGAUAAAUGACGUUCCCUUUUAAUCACACUACGAGGUGCAAAACCAUUAACACCGCUAUUAUUUUACCCGAGGGGAUUUCAUCGACACCGAGGCCCUCCACCGCUCGGAAGUGGUAGCAAGUAGUAACUCACCAUGGUCUCGGGACCUAAGACUGACUCCAGGACAGUGACACUUCGAUGUUACGACCCUACUGAGUAACGUGAAAGGAACACAGGUUUUUACUUCCUUGACCUUGAGUACUUACAAUCUUGUUUUUUUCGCCGAAUACGGCACCUUACUUGUCGUCCAAACAGGCACCGGUAUGGACCCCGGGGAUCACUUAACCCUGUUUAAUAAAUCGAAAAGACUCCGAGACAAAAUAGUAGUCAUUUUAGCCUUACUACUAUGAAUGGAGUAAGGAUACUACCAACAUAAUCCAAAGGAUCCCAUGGGGAUUGUUUAAUGAUAUUUGAUUAACCGAAUUUUGUUUUCUUUAGAUAAGAGAAUGUCAAGACCUCGGAUUUUUAAGUUUUAAUUCCACAACCGUUCAAGGUGCGGGGAGAGGGUCGAAGACCAUCGACAGGAACCGAACAUCUCCGUGGCGAGGUUAGAGACGGAGGUAGAAGUACAUCAGUACAAGAGUGACACACAGAGUUUUAGAGGAAGACAGAAGGAGAACACUCCUGUGGACAGUGACCUAAAUCCCGGGUGGCAUUUAGGUCCUACUCGAUUGGAACUAUAAAAAUUGAAUUCAUGAAAACGUUUCUGGAAAAAGAAGUUUAUUCCAGUGUAAGGAUCAAAGGUUCCGAAUCCUGCACCUGCAUGGAAGAGUUUCCAGUGGGAAGUCGAGUGAUGUAAUCAAUGCUCCGUAGUCAACCCAAUCGUCUACUUUUGUAGUCCGACCGUCCAUCCACCGGUCGUUGUUUACGACCAAAGGAGGGAAGGUUUGGUCCUAAGAAAACUCCCAAUCUUACCUAGAAAUUAUCGAAAAUAAUCAGAGUUAGUCUUCAGAAUAAUUUGUUUGUCUUACGGUAAAACCCCGACCCGUACCACCGAGUGUGGACAUUGGAUCGUGAACCCCUCCGGCUCCGCCCGUCUAGUGGAUUCCAGUCGUCAAUCUCUGGUCGGACCAGUUGUACCACUUUGGAGCAAAGAUGAUUUUUAUGUUUUUAAUCGGCCCACACCACCACCCGCGGACGUUAGGGUCGAUGAGCCCUUCGACUCCAUCCUCUUAACGAAAUUGGACCCUCCACCUCCACCAUCACUCGGUUCUAGUACGGUAACGUGAGGUCGGACCCGUCGUUCUCACUUUGAGGUAGAGUUUUUUCUUUUUUCUUUCGGCCCGCGCCACCGAGUGUGGACAUUAGGGUCGUCAAACCCUCCGGCUCCGUCCGUCUAGUACUCCAGUCCUCAAGUUCUGGUCGGACUGGUUGUACCACUUUGGGGCAGAGAUGGUUUUUAUGUUUUUAAUGGGUCCCCACCACCGUCCAUGGACAUUAGGGUCGAUGAGUCCUCCGACUCCGUCCUCUUAGCGAACUUGCGUCCUCCGUCUCCAACGUCACUCGACUCUAACACGGUAACGUGAGGUCGGACCCGCUGUUUCACUCUGAGGCAGAGUUUUUUUUUUUUUUUUUUUUUUUUUCGGUAAAACCCUGGAUGUCUGCACCGGUCUCCGACUGUAACUGUAAAGGACGACUCCAAAGGUGGAAACUAAUUACGACAGUAGUUCCGGUAGGACUCUGACUAAACCGACAACCUGAACGUCCUCUCCCCACACCUCAAACUCCUGAACUUCAAGUACCUCAACCGAAGAAAUGCGGGUGGGGAGGGGAGGGGGUGAAACGUCACCUCCUUCAAGUCCAAGUCGACCCCAUUCACUAAACGAUUCAUUCCCGAACCUCGUCCGUAAGACCUCGACCCCGGAGGUAGACCCACAAGAGGUGCGGAUAGACAUACUUACGAGGAACGAGAGGUUCGCCUGAAGAAGUAAACUACAAGUGACACCACACAAAGUCAUCACUGACGGUGUCGGGCUGAGAUUCCUCCACGACGACAGUGGGGUGGGACGAAAGUCAAGAAACGACGUCUUCUGUCUUACACGCCCUCUUUCUACCCUGGAAUUUUCUGAUCAACGAGAAGGAGUGAGUACAUCUGCUAAACCGAAACUUAGCACUUAAUAACGAAGAAAACCCGUAAGGUCAAGACGUAAAGGUCUCUGGGAGUCCAUACAGUUCGAAAAACGGACCGUAAACUAUAAAACCCCCGUUUCAUGUCACCUUCACCUUUACCACGGAGACCAAAACAGUUCCGGUCUAUACAGAAGAGAGGUGAGGAACACAAAAAACUCUGUCUCAGAACGAAACAACGGGUCCGACCUCAUGUCACCGUACUAGAACCGAGUAACUUUGGAGACGGAGGGUCCAAGUUCACUAAGAGGACGGAGACAGAGGACUUAUCAACCCUAAUAUCCGUACACGGUGGUACGGGUCGAUCAAAAACAUCAAAAAUCAUCUCUACCCCAAAGUGGUACAACCGGUCCGACCAGAGCUUGUGGACCGGACCUCACUAGGCGGGCGGAGCCGGAGGGUUUCACGGUUCUAAUGUCCGUACUCGGUGGCACGGGCCAGAAAAUAGUCAAAUUGAAAGGUCUUUAAACAAGGGGGACGGACAGGCGUAGGGAAGUUUACUUUCGACAUUCGUCGUCCGUCAACAACAAACCCCCGGGUAGUCUCCGGCGUACAGUGAAGACCUACCCAGUCCGUAGUGAUGGUCGGGACUGAACUACCGCCGUCUAGUCGUACCGUGACAGUUGAUCGGGAACUGUAUUUAGACAACAUUGAGUCGGGGUCUGUACUAUCCUGUGUCGGACUUUCGCGUGUCCUUAGGCAUGGUCUCGCUUCAGGGGGGAGUCCACACACAAGUUCUUACUUCGCAGAAAAUAAGGUUCGUGACUGACUAUUCGAGCUUACACCUCAACUGUGGACCUUCCCUCAAAACCCUCGAAAACCGUCGGGUAGGGGUCACCUUCUUCCUCCUUACCGACUUUAACAACUGACGAACCCCGUCGGAGACAGGGUCCUUCUGUUUCCGAGGUCACACUAUCGACUCGACCCCGGUCCCCUGCCUCCGUGCCGCCUCAGGGAGUUUGGUGUCGACCUCACACUUCAAACCUGACAGAGGACCCAACCCUUGUUUCAUCACCAAUUCAUUUACUUCUUCGCCACCGGAUCAAUUAAUUAAUUGGACAAUUAAGUAAUGACUUCGACAGUUCUAAGUCAGUAAGGACGAGUGAACGAGCACUACCUUCCGACGUAGAGUCAGAGCCGAAGGUAGUGUGACACCGAAGACCUACCUUAAAAACAAAGACACACACUAUUCCUCACCGACACCACCGUAGUAAAUUUACUGUACUAAGACGUGCAGGUCUCUGCAAUCCUAUAACUUUCGGACUGGUAAUGGAAAAUCCAACAGUACGAACAUGGACAAGGACCGUGUUCCAGAGCCGAGGCAUCUCGGGACACCCCAAGACUUGAACUUCGGAGAACUGAAUCUCCGAAGGACCGGUCCCGAGUAAACUAAAAGGUAUGAGGACUGAAACGACGGUCACUUAAGAAAAGGUAAAGAACGAGACUCACAUUCUGAACCACAGGAUGGGACUGUGCCCGAGACGUACGGUCGAGAUCUCAACGCUUUAGAGUGGCCUCCCCCCGUCUUUCGGGGAGACAACUCUUCCCUAACCCCACCGCACGGUCCAUUACCCAGUGUCGCUGUCGGAAAGAUUCACCCGAAUAAAUCAACUGUCUAGUGCCUUGGCCUCGCCUCAACUCCUCCUUCGUGGAAGGAAAACGGCGAAAGCACAGGGGUCGUCGGUAGAGUAGGACAAGAAUAUUUGGUAGCGACAGUGUCUGUUGGGGAUUCCCAGAGAUGAGACACGGUCUACGGGAGAGACCUCCAAGUCCACCUUUAAUGCACCUCUCCCCACAGUUCAAGACAAAGGUGGGAACGAUUGAGAUACCGGAAUCUUUUCCGUACCUUGGAGACUCGGAGUCAAAGGAACGGACAUUUUACCCCACUACUGACAAAGGAACAUCGUGAUACCCCUCCUCCUCCACCAUCCUCUCCGUCGCGAAAAUUUAUUAUCAUGGUACGUUGACAAUCAGCAAUAACACGCAACCAGGGUAUGAAGGAGAACGUAGAGGUCUGUCUCGGCACGUGGGACUCGGGUAGGACUACUUUCCUCCCCAGUCAGGACAGGAAAGGAGGUCCUAUCUCUAAAGUUUUGAAGGAAACCAUCGAUGACAAAUUACUCGAAAACUAACGAUGUUUCGUCGAAAAGUAAGGACAAAGUGUUGUCCCUAGGGCCCCCCGUUUCCGACCAAUCACCGUCGAUCUAGUGAGGUUUGCAUGACUGACCGUUUAUGUCUGAGAGGGCGUCUUGACUGGGGUCGUUCUUCGGAAACCCUCGUCCACCAUAAGACGCCCACGGUCGAGGGACCCCACCCUCGUCCGUGUGCGGUCGGACCUACCCCGUACCAUCUUGAGACGCUACAGUCGAAAAAACAGUGUAAGAGACGUCCGAUGGGCAACAGGAAACGGGGUGGUAACUCCUUCCUUCGGAAUAACUAACGAAAGCUAAGAACGUCCCCCGGACCCACUCCACCGACCUCUCUCCCGAUUAUAAACCAGACCGUAAAUUAGAACCGUAAAGUAAAUACCACACCCGUUUCUCCUACAUCUUCACAAUUUUAGUUCAAUUAUAGAAUGUCAAAAUACAUUCUUCUCCAAUGGACCUCUAAGUCCACUCCUACCCCGUCUCUCUUUCGACGAAGACAGUCUCGAACCCGUUUAUUUGAACGGUACUUUACAGUUAAAUCACUACCGUCAUUCUCACACGUCAUUACACGACCUUGAAUCGCUCCAAAGAUAGUCGCACACGACUUAACUUUAUUAGUUUUUUGUCAAAUUAUUCAACGAAUAUAAACCUCAAAACACCAAGAAUUGUAACGUUUAAGACUUCGUUCUUUAAUCUCAAAGAGAGAUUUGAGUAAAUGAGUACACCGAAAUAGUUGCCGACGGAAACAUUUGGCUUUCUGGAGUCAACCCUUCAAAAUACUCUGCCUCAGAACAAGACAACGUGUCCGACCUCCCGUCACCGUACUAGAACCGGGUGACGUUGGAGGCAGAGGACCCAAGUUCACUAAGAGGACGGAGUCGGAGGACCAUCGACCCUAAUAUCCGCCUGUAGUAGUACGGACCGAUUAAAAACAUAAAAAUCAUCUCUACCUCAAAGUGAUACAACGGGUCCGAUCGGAACUUGAGGACUGGAGUCUACUAGACGGGCGCGUCCGGAGGGCUUCACGACCCUAAUGUCCGUACUCGGUGGCGUGGACCGGACGGUUGAGAACAAUUCUACACUCACACCUUACGACACACAAGAAGGGGAAAAUUUUCUACACAGACAACCAAACGAAAGUGCCUAAGGGAGAGGGAAUCCUCUGGGCCGACAACAUAAGUACCAGAAGUACGAACCAAACAAAAGUGUCAGUCUCUUCCAUCCUACGACAUCCCAAGAUGGAUGUCCAUCCUACACGAGGAAUGAAUCUCUAAACCUUCCCACCGUAGUCUCUUGGUGACACGCAGAAAGUACUAUCGACCAGUUUACACCCACAGACACCCUUUAUCUACCGGUUCCCACAGCCACAACGACACCCCUCCAACAAGACAAAGGAGAAGACUCUUCUCUGUCUACUCCGCUACUCCGUUACCCUCGGAGUAACGAAACCGAACCUCCCUCUUUUAUCUCGUCUCGAGAGAUCGACCCUAAAACACAUAAACGACUCAACGUCACCAAUUAAGAGAUAGGAACUUCGUGCACCGUGCGAGUGCGUCGGAAAUACACCAGCUCUCCCACUGUCAGUGAACUUACUCCAUAUUCCGAAACGGGAGUACCUCAAGGAGUCCAGUGUAAAACUCCAGCUUCUGGUAUUUAACCCUACCUUUAAAGAUCUAGAACUACCUUGAGGUUGAAAAAGAGAGAAAGAGUUUCGGAGACCUAAUGUCCUAAGAGAGUUUGUUCCGACCGUCCUUAAGACAGGUAGGGUUUAUUCAUACGUUUAGAUGUCCAGUUUACCACGGGGUCUGUAUAAGGGGUGACCUAGUCCCUCUAACACCAGAAAACUCUCUGUUUGUAACUUAUAAUAAGAUCAUCCUAGAAAACCUUUAAUACGAGAUAAUCUUUUUCCUUGAAAAGUAAAAUGACCAAGUCACAUGUGAGACCUGACUUUGACUUUCCAUUUCCUGAAUCGGGAAAUUUAAAAUGUAAAACCGGCCCACACGACCGAGUGCGGACUUUAGGGUCAUGAAACUCUCCGACUCCGUCCACCUAGUAAACUCUAGUCCUCAAACUCUGGUCGGACCGGUUGUACCAUUUUUGGGUAGAGAUGAUUUUUUAUGUUUUUAAUCGGUCCGCACCACAACACACGGACAUUAGGGUCGAUGAGCCCUCCGACUCCGUCCUCUUAGUGAACUUGCACCCUCCGCCUCCAACGUCACUCGACUCUAACACGGUGACGUGAGGUCUGACCCACUGUCUCACUCUGAGGAAGAGUUUUUGUUUGUUUUUUUUAAUUUUAUAAUUUUUAAUCGGUCCGCAGUACCACGUGUGGACAUCAGGGUCAAUAAGAUCUCCGACUCCGUCCUCUUAACGAACAUGGGCCCUCCGUCUCCAAGGUCACUCGACUCUAACACGGUAACGUGAGGUCGGACCCGUUGUCUCGCUCUGAGGUAGAGUUUUAUUUAUUUAUUUAAAAUGUAAAACCUGACUUUUUUGUUUUGGUAAGACAUACACUCUGAGAGUGGCUCACAAGUAUCCCUCCCUGACCCCGACCCCGGACUGAACUCCGAAGGGUAGACCGAACCUGUCACUCUUCUCGUCACCGCAAACCUAACUUCCGAAAACACUAGACCCACUGAUAAAACUUCAAAGAGAAAUCCAGUACGACAUGAAUCUUCAUAGAUCUUGGCACUAAUAAAAGUCAAAGACUCAAAGUAGAGGUUCUUUUGUUUACCCUAAAUAACAAGUCGGAGAGUACAAUAAGGAUAGUUUCCCUCCGUAAAGAACAAACGAGUCUACCCGACUUUCGAAAAUGAAGACGAGCUUGGCGGGAUCCUCGUUUUGUUCCGUACACUCUCUCUACUCGUACUAUCUAAAAGAUCUGAAGAGAUCUUCUUUCCGAAAAAUCUACCACUUCCAACUACUUUGGACGGUCGUAAAAAUGUUACCUGUAGGGAGAUACAGACGUGUAGAGUUAGAGGAAGUAAGAAUGAUCACCGGUUAUACGAGAAGAAAGUGCCUACAUCAUGUUAAGCAAAUUAGUAUAAUUUGUUAUACUAACAACACGUCUAGAAAACAAAAGGUCAUUUUUUUUGGGAUGUCGCUGUUCGAAACAGGUGUGAAUAAAUCACCCGUAGACACACUUAUAAAAAGAUCCUGUCUAAACAUUUCCAACCAAUUGACCUAGUAAAAACUAUCUAAAGUCAGUUUGUAAAAUUUCGAUUCCCCGGAAUGAAUGAACCUCACCAACGACAGAAACUGCCUCCCGAGGGGACACCAAACCAAAAAUCGAAGAAACGUUUAGUAAACUCUCUUCUAUGAGAUUAACCCUCAAGUGGGUAACAUUAUUCUCCCAUAUGGAUUAAGGACCUGUAAUUUUUUCUUGUUUGAAAAGGUCGAGCUUCCUUUGUAAAAGAAGGGGACUUCCUUUGGGUCGAUACGUCUGUGGUCGACUAUUAGAACGUAAGGACUUUCUACAACGUGGGGAUACCGUUCACCGCCGACGACUCCGAGACUGCACUGAGGGUCCGUACUUGCGAGAGUCGACACAAAUGGAGUCGAGGAGCCCUCCCUCGGACCCUCUGACUGCGGACUCAAAAUGUAGUCACAGUUUUGGGUUCGUGUUGGAUCCCUCCCUGGAGGACGGAUCACACACACCCAGUCCUCUAUCUUUUCGAGAGUGACUCAUUUGACCUGUUCCAGUUAUAUGGAGCGACUAACUCUUCCAUCCAAAAGGUACUGGGAUCUUUAACUAGAACAAGUGAGACUCUAUAACAGUGGAAACAAUACAGAGGAAAAAUUUUUUUUUAACACCAUUUUAUAUGUAUUGUAUUUUAUAUGGAGACAUUGGUAAAAACUUACACAUUAAGUAAAUGUAAUUCAUGUAAGUUAAACAAAACGUUAAUAGUAAUAACAAGUAGAGGUCCUGAAAAGGUAGUAGGGGUUUGGUACUGAGGAAAAUCGUUUUCUCUGGUUAAAGCUUGCAUUUAAACCGUAUUAUUGAGAGACCAAUGGUUUCUUAGAAGUCAAGACCACUUUGAAAAACUUCCGUCUCUCGAGUCUCACAGAAUUUGUGAACCCCACAUUUAUUGUGUGUCGGGAUGAGGACAUUAAGCGGGUUCUUCUGGGUUUAACUAUGGGUCGACCAUCUUCGGUGAGUUGGGGUUCGGUUUAUUAUGUCGGACAUUGUAAUUAAUCCCUUCCAUGAUUAUUAUGUCGGACAUUGUAAUUAAUCCCUUCCAUGAAACGGAGGUGGACGAAACCAGAAGGGUCCGGGACUCGGGUCGGUCGUGAAAUGAGAGAAGAAGUGAAGUAGCUCGUUCGUGUUUCCGUAAUCACCACAAAACGAAGAUCGUAAAGUGUCCCACGUCGGAGGUAUUCAGUGAAACACUGAAAUCACGACCUCCCUCCUGUGAAGUAAAAAUGGGUUUGUUCAAACAAGGCGUCUGAAGUGAGAGAGACGUUUCUCUGCACACACAAAAUCUCCUUCACCCUCGGGGUCGGCUAAGACGUUCUGAAGGCUCUCAGUCUAUAGGUCUGUCUUCUACGCCUGUGGACCCACUGGUCUGUCGCUUCUCCUUUCUUGUUUUGCUCGUACACGGUUCGGACACUCCCUCUUUCCCGUUGUUUGGUCACUGGAAGGUGUCUUUACACAAAUUUGUUUUGUUUUGUCCACUAAGACCCACGGGUCGUAGGGUCGGGUGAGUAGAUAAGAUCCUCCACUGUUCGGUUCUAUGACCGACACCCGUGGACCCGAGAAAGACUUCCACCAGAAGGACCGGCAGUAUCGCAAGGGAAAAAGACGAUUAGUAAAAAUCAAGACUGGAAGGAAACACGACUAGAAGUCUUCGACCUCUUUCGAAGCAUAAAGACCCUUUUGUUUUGUUUUGAGUCUUGGGUUGCUCUAAAUCGGACAGUCCGAACUCACGCAAUCCACCUCAGAACUGUUCCGUUACUUGAGUAAGAUGAUUAACAUUAAUCGCACCCCGGAAAUCGUUCAAGACCCGAGGAGUCUGAAGUCUCUCGAAACUAGCCGGAGGAGGAGGAGGAUUAUUGGUACGGAGUACGAUUGACCAAAUCACGCAAAAAUACGUUGUUUUCGUUGGUGGCGGAUGAGAAAUCUUUUUUCGAUCCGUCCGAAAUCUUUUUCUUAAGAGUCAACAAAAGUGAACAGGAGGUUUAGCGUCUUACAAGAAAGGGAAAAGUCGAGAAACCGCAACGAUUCUCUGACGGUAAAACCUCCUUUCCAUUAAUUUAAAACUAAAAUUAAAUUUCUGUCUCGUUCGCUCCAAUAGGUGCGAGGAAUGUACUUACCCCCGGACUCUCGUCCUCUGACCGACAAAGGUCUAGUUAUGACCCUUGAGGCACACUAAGCUCAGAGAACCACACACUGACGGCCUCUCUCCACCGAAACUUUACCGAGAAACACCGUUCAUGACGGAUUGAAAACCCCUCUUUACGAGUCCUCUGGUCACACUCGACCCUUUGGUCGGUGAGACACGAACUAAUUAAAUAUCCACAUUAAAUUCUCGGACCAAGAGGAAGACUAGGGGCCCUACGUACAAAUGACUCGGACAUCUGUACUCCGGAGAGCCGAGCCACCUGUAAAAAAUACCGGAAACGAUACAGUCUCGUUUUCAACAUCUAGAGAAUACUCGUUUGUAUAAUGAUACAGGUCUCCUCCUGACCGUACAAUAUUUUAAAGUUACCAGUUAAUUGUUUCUAAAUAAGAAACAGUGAGUCCAUAAAAAAAGGAGAGAGAGAGAGAGAGAGAGAGGGAGUUAUUACUGGAGAACCUUCCUUCGUCCGACACGAAAGGACGACGUCAGAAAUCCACCCAAUACCGAGGGUCGAUGUCUCGUCCCGAACUGUCUCGGGUAGGACUAUAAAGUUAAGAAUCGUCGACCCGAAAGACGAAAUCAUCUCACCUGUGAACUUCUUUCCCCCGCUCUGGCUCUCACUCUCUCUCUCUUGCGACCCUCUCUUACAUAAAAAAUUUCGUGAAGUCGGACACAAAUGAUGCGCAAAUAAACCACCUUGGAGUAAGGUCGUCACGUCGGUUGACAGGGCCGUCGUCACCGGCGUGGGAAACCUGACGAAAGGUAAGGCAGAAUUAAACCUUAAGUGUGUCGGUGGAAGGUUAGUGAGAAAACUUCCAAGAGUAGAACAAGGUCCAGGUACGUGACACGUAAACGUUGGACGACUUGGAGUCUUGCAGAUAAGAAUAUACACAUAUAUACAUUAAUUUUAAUGUCAUUUGUCUCCUCGAUGAGUAGUCGGAUAAAAGGUACACAAAUAGAGUGAGGGAAACAUUUUUCCUUUUAGACAAAAUAUAUUAUAGACUCUCAAUUUGUACGAUCUUCUCUUAGAACGGAUUUUGACAUUUAGGAAGGACAGGAAGGACCACCUCUUCUACACUAAAAACAAUAGUGUAUCUUCUUCUCUACUUGAUCGUGACCCGAAAUCAGAGAGCGGGUCUCUAUUAUGUAGUCCCCUAAGAAAAAUAUAGUCAAACAACGUUUUUUCAACGUUUGAACUCCCCAAACCAAACGGGUCCCUGGCCCCUCCAAGGACCACCCCUCUUGUGUACUCGAGAAACCCAGUAGCAGGGGAAACAGAGACGGCAUCACGGGCGACCCGGUCCGGUGCUUCCCCCGGGGGUGAGACGGGUCGGACGUAGGAGCAGGUGGUAGACGUGGGACGGUAGUGGAGCCAAAAAGUCUUCAAUCCUUUCCUCAGGUCCGCGACAGUAGGUGAAUGACAAGUGACAAAGACUCCAAGAAUCCCUAAGGCUCCCCACCACCUAGCGACUUCCCAAGCUCUCCUCCUCGCGUCGCAAGCCGUCUACGACCGUAGGACCCGGGAAAAGGUUCUGCAGGUCCGGAGGAGGAGGCUGAACAAAUUCCCGUCUCUUAUUCCAACGUUUCCUUUAGUUUCGGACUACACCUCUUUACUUUGUACUCUGGAUGACUGAAAAAUUUUUGUAAAAUUUAUUGUAAGAGAUUCCAAAGUAAAAUAUGACUUCCGUCGACAUUAUUCAAACCUUCUGUCACAUUCCAAAGAUAAUGUCUUGUUAGGACGAACGUCAAAAAGAUGGUCUUCACUCUUUCCCGCCUCCCCCUCACCUCCACCAAUUCUCCAAUAAAACAUAUUCCACUCUUUUAAACUUUUCUACUUAAGUUCUGACGUUCGCACAUUGUAAACCAUACGACAUUAAACGUUUACGUUAUUGUAAUUUGGUAACGUUUGAACCCCACACACACACACACACACACACACACACACACACACACACACACAUAUGUAUCGGCCCUAUCGUAACCUUAUUGAAUUAUUGACCUCGAGUCGUCGUGAAACUGGUGUUCCUUUUGUUCUGACGUCGAGACAUCACCCGGGACGGUCACAACGGAGUCACUGAUUUAAGGGACGGCUUCGGACCGCGUCCGGUCUCUACAGUCCGCCCUACUUUCGUGAGUAACAAGUGCCCCGUAGUACCAAACCAUGACGUACGUGUUACAAAUGAACACUUUGCUAAAUAAUCUUUGUUUAUACAAAUUCUUUCUCCUGAACCAAACUUUGAGUCAACUAGACCGAAUACUGUAAAUUCUAAAAUACUGGAAACAAAGAUUCUUAUCUACACAUCCGGGUGACAUUUAUAAAUAGAAUUUUGCGUGGGUGUGAUGUGUGUGUGUACGUACAUGUUCACGUUUUGACCUUUUGCCUCGGUCCCGUACUUAACUAUGAUUUCAAGUGUAAAGACACACUUCCUUAUUUGGAAGAAUGAUAAACGAUCCACGUAUCCUCGUAUCAAACACUGGAACAGACCGUCCUAGAUCGGGUCUCCUGUCGAAGGGGAGCACGACACUUCAGAGAACCAUCCUCCGGACCCCUCCUCUCCUCGCACACAGACAAGCACGCGCCUGAAUUGAGACGGGAAGGGUGUACCUACUCCGGUCGACCCUAAUUUAGUCUGGAGCCAGUGACGGGCGACACCUGUCCAGGGACCCCACAGGUCGGUCGACGAUCCGGACUGGUCCUCCGAACGACCCCGGGUAGGGACCCAGUAACAUACUCGGUCUCUCGUUCCCAAAGUGGACUGCAGACUUCCCCGGGUCGAAACUCUAAAAGACGGGUGGUUGUGGUCUUCAGAAUUGAAGUCCAAGAAACGAGUCGGAUGUACCCGUUAUAUCCCCGUCUACUUACUAAAGAAACGCCGAGGUCAUAGGAAUAGAAAUAUUACACUUUUGUAUCUACAGACAUUUCACUACCCUCUAAGACCUUACUUUACACGAUUCUCAUUGGUGAUCGUGAAAAAGAAAGAAAAAUUUCUGGUCGUUGUCCGAAUACGUCAUUUCAGUUAAACGUGUACCAGACCGAGAACAGGUUGUUUAAGGUGAUCUACUACAAAAUUAGACUUUCCAGGUUACUACAUCUAUAGAUAACAAGAUUAAACGACAAAGGUCGGGUCACGUACCACUAAGAGUCCAUGUCACGUCUCUGUAGGAACCACACGACUCGACCGACUCAAGAGGAGUAAAGGGAGUCAACAAAAAAUUGUGACCUCCAAUCCCAUCACCAUGGGUGUGGAUCCCCUCCUUCUCUCCCUCCUCCGACCAUUCACGUCCGGACAACCCUACCUCAACAUAAGUACAUACCUGUGUACUAACACAAAACACACCGAAAACUGUCUAGACACAUCCUUCCAAGGUCAUUCAAACAUGCUGUUCUAGUCCAUCGUCAGACCACCAGACCACCAAUAAAUUAAGAAAAAUAAAAUAAAGUAAAAUAACAACGUUCUUACGAUUCGUACUCUUGAUGGUAGAGUGGAUUCAAAAAAAAGAAAAGAUUCUGCCCCAGAGUGAGACAACGGGUCCGACCUCACGUUACCGUACUAGCACCGAGUGACGUCGGAGUUGAAGGACCCGAGUUCGGUAAGAGAGUGGAGUCAGGGUUCAUGGACCCUGAUGUCCGUACGUGGUGGUACAGACCGAUUGAAAACAUAAUAAACAUCUCUAUCCCUAGAACGAUACAACGGGUCCGACCAGGGUGUGAGGACCGGAGUUCGUUAGGAGGACGCAGUCGGAAGUUUCAAGACCCUAAUACGAGUUUCCGUACUUGGUGACGCGGACCAGAAGUUGAUUCAAAAGUCACAUGUUAUGCAACAACAACUGAUAUCCGUGCUACGACACGUCGUCCAGAGAUCUCAAACGAGUAGAACGAAAUGACUUUGAAAUACGGAGAACUAACGUUGAGUGGUAAAGGAAGGGACAGGGUCGGGGACCGUUGGUGGCAAGGCGAGAAACUAAAAUACUUACGCUACUUAAAUCUAUGGAGUAUAGUCACCUCAGUCCGUCACAGACAGAAAGACACUGAUAGGACAAAGUGAAUCGUAGUACCGAAGGUGCAACAGUGUAUAACGUGGUAAAGGAGGAAGAAGUACCGACUUAUCAUAAGGCAACACAUAUAUCGGUGUAACAUUUUUAAUUAGGAAACCGUCUGUGAAUCUAACUAAGGUAAAGAACCGAUAACAAUUACCACGACGUUAAUUAUAUCCUCACGUCUAGGACUAACGUCAAGAAAAUCUAUUUAUCUCUUCACCCUAACGUCCUAGAAUCCCAUCAAGACAAAAAUUAAAAAACUCCUUGGAGGUAUAACAAAAGGUACCACCGACGUAGUAAAAUAUAAGGGUGGUUGUCACGCGUCCCCAAGGUCACAGAGGUGUAGGAACGGCUGUGAACAGAAAAAAAAAAAAAGAAGGGUAGGACUGUCCACAGUACACUAUCGAGGAACACCAAAACUAAACCUUGCGCGGGCUAGAGCAGACUAAACGUAAAGAGAUUACUAAUCACUGUAACUCUUUGAAAAGUAUGUGGAUCACCGGUAAACACAGAACCUCUUUACGUAUCAAUUCAGGAAUCGGGUAAAAAGGUACCCAUAAUGAAUUGUGAACUCCUCAGAGUACACACCAACGAUCGUGUGGAACCGAACUAACAGAGGUGUUUUCAAAACGUCUCUGGCGGAGAAUCGACCUCUCUUCGGAAAGGUCCGUAUUCUACUCUCCCACAUAAGAAACAACUCUUGCACAAGAGCUUCCUCUCUCUCCGUUCUGUUCACUUCGAUCCUUCAUUAAAACCCUAUGGUAGAGACGGGAAAAUAUCCCGUCAGAUUUUGUAUCGGUCCUCAACCUUUGGUCGUAGAGGAAUACAAAGUAAGUCACGGUAUAACCUUAUUCGAUUCUUUGUAGAUGAACACGUAAAUCAUUGACCGUAUCUCAUUGUGGACUAUAAGUAGUUUCUCGAUUUACCCACUUAUUUCUUACUUACUUACCUCACUUAAGGUGUUAUUUCUCCACUUAGGGUAAUAAUUAGUUUAGACAAGUAUUGAAACCCGAAAUCCGAAAUCAAAUUAAAAAUUUUGUUUCCAACCUUCAGAAGAGUCUCGUAGAAUCUUUACAUGACCUCGGCUCGCACCACCGAGUGCAGACAUUAGGGUCGUUAAACCCUCCGGUUCCGUCCACCUAGCGAACUCGUAUCCUCAAACUCUGGUCGGGUCCGUUGUACUACUUUAGGAGAAAGAUAUUUUGUAAACUUUCAGUCGACCCGCACCACCGCCAACGGACAUCAGGGUCGAUGAGUCCUCCGACUCCAACCUCUUAGUGGACUCGGACCCUCCGACUCCGACGUCACUCGGCACUAGUACGGUGACGUGAGGUCGGACCCGUUACUUCACUCUGGGGCAGACUCUUUUCUUUUUUUUUACAUAACCCUCUGUACACGGAUAACUUUGGUAAAAACCAUAAGUCUCACAGAAAUUUCAAUCAGAACAGUAAACGGACACUACAAUUCGAACACCAACUCCACUCAAAAACUCUAAUAGAGUUUAUCCUAUUCACUUCUUCGAAGGGAGGGGAUGGUAAACAGUGAAUCUAACAGUCUCAUCUUAAAGAAGGGCAUAAGUAGUCCACCGUCACCUGUCGGUUAUUGGACCCUACAUUAUUCAAGAAAAGAGUUAAAAGAUUCAUUCACAAGAAAAAUGUUCCCAGCGCGAGGCCGUCAGAGGAAACUUCAGCAAAGACAAUAAGUACCCCGGUGUCACAAUAAAGUUUCCACAGUCGGUCGUCCGAACUCCGAAAAGACCGUACUCCAGUGACUGUCGGGAGACCUGUUGUGUCGAAUAAAUAACCAGAGAGUAAGAGGGUAGGGGUGAGGAGGAAAGAAGGGAGAGAGGUGGUCUCGCUAGCGGAGUGGCCGGGUAGGAGGUUCGGCCUGACGGCCGUUUACGGAGGUGUCACCAGCCUCCUCUGCAUCUCAAACAGACGUUCCAAAUGUCACUACGGGUCGGGGUGUAGGUCACCUAGUUCGUGCACCUUUUCUUGCCGUCAUUUAUGCCCGGGCUGCCCGACGGGAUGGAGUUCCAAGAGUUCCACUCCUGAAAGACUUAGAUUUCCAUGGGUGUUGACCCCAGAGGAAGUACCCAAACCGGUGUCCAAGAAACUAAAGGACAACCUCAACUCUCUCCUACUAAGAGAAAAAACUGAUCGGUCGUCUCUCACAAGAUUCCUUAAUUGUCUAGUAAUGUGAACGAUCAUCUUAAAGUCUUCCCUUGAUACCUCAUCCCCUUCUUGAUGAUUUGAACCCCUUCUUGAUGAUUUGAACCUCUCUCUUAUCAAGUCGAUAAAUAGUCGGGACUCUAGCGUCUGUAAAUCCGAAUCGACGCGGAGAUAUUUUCAUCUCUAGCACUAUGAGACAGGGGGUAUCCCGCCAACACGUCUUAUUUACCCUACCUCACCUACCUUUCUCGAAACAUCCGAGUUCCGUAACACGGUCACAACUAACAAUGAGACUACAACAAAAGAUAAUUAUCCUGUAAUCCUAGGUUAAAAUCAUCGGUGCAAAAUCUUUGUUAAACCUAAAAAAAAAAUUGUUUUUGUUUUGUUUUGUUUUGGGACUGGAAACUUUAGGUAAGUCUCCACUAAAUCUGUUAUUUGAGAUCCAGUAUAAAGACGUGGUCACUUUACAACUUGUUCCUUUUAUAGAAAGGGAGGAAUAAAGAAUAAACGUUCGGGGGUAAAAGUAUCGUAGACGGAGAAAAAAUCUAGAUCCAAACGAGAAGUCCUCUGACUCCUGUCCCCGUCGAUUCAGACAUGUCGACCGAGAAUUGAGGAACGGAUGGUGCGGAGGGUACAGAUCAACGAGUACCUCUUACUUACAGGAAUUCUUCUUGUAAGAAGGUCAUCUUGGUAUCCACUGGGUCGAUUCUUGAAAGUCGGUUACUUCACAAGAGUGGUCGAUUAUUAAGGUUCCUAGUUUCCGUAACCCUUUUCUACUGGUUGGACCCCUGGGUGGGCUGGAUAGGUCAAUCGAUAGCGAGUGUGGGAGGACGGGAAGAGAGGUGGUCCAGAAAGGCAACAGGUGGUGACCUGACUAAAACAAGAAAUUUUAGGCGUCGGGAAAUUACGGCGACAAAUCUGCAUUACCUCAAACAAAAGAACGCCACACAACCACCACCCUGGUAUCUGUUACGAUUCUGGAAGGACCAACCGGCAAUAUAACAAGAGGACACAGACAAGAUCGUGAGCCCCUAUUUAUCAAGGUUACGUCUUCACGACCGAGACAAGUUACACUGGCUCCGCCUACGACCCCUUAUAUAUACAUUCCAGAGGUUAAUAUAUCCCGUCCGGUUGGUCAGACGGACCGAGUGACAGGACGGUUUUGUCGUUCCAUUGUUACGAAAGUAAAAACAGAAAAAAAUUUUUCUUUCGACCUAUAUCUUCGACUUUUCUGAACCACGAAACCCUCUGACGUCCGUCGAAUAUCCUAUUGAGAACACCGGAACCAUAUAAAUAUUAUUAGAAAGAAGCCACUACGUCGACCAUACUACGGUCAUCGGUACCUUUUUACGGGUGUUGCAAGUUUCACGAACGAGGUUAAAGAAGAUCUCUAAUCGGAGGUGGGGGUGGGUCAAAAAUUCAACAAGGAAGACCAACUAGAACAAAUCCGACGUGUAAAGGGUAGUAAUGACGUGUAAUUGUGGUAAAUUUUGUGUGCGAAGGUACGGACAAAUUAUGCCCCGUAAACUCAUAGUCGUCUCAAACAGAGGAAGAUGAAGUUCAAAAAUCCCUUUAUAACCGUUCUACGUUAAACAAGUUGUUUCGUAGUAAAGAAACCAACGUACCAACUAGGAAUACUCAACGACAAGAACUGGAACAACGUGGUUUAAACUCCCCUCGAGUAGAAUUACUUACAUGAUGACCUGCGAUGAUUUCCGUUUUCCAACUGAAAAAUCCAAACAGUACUGAGUGUAGGUUUACAAAUAAUUACUUUUCUCUUUUUCGGGUCAAAAAAACCAAUGGUUCUACUACGAACGAAGGUAAAGAAAAACAGUUACGAUACAUCCCGUUCUACCAUAGCGUCUUCAUUUUUAUUGGUCUCGGACCAUUGGUUCUGUUGGAAGGUGGGGUUAACCAAGGGUGUCCCGGUCCUCCUACCCACUCCACAGGUAGACCCGAAUACACGUCACACAACAGAAUUUUGUGUCGUUAAAUCUAUCUUGAUGGGAAAGGAGAACCACCCUCAGACGUCGGUUGUCCUGGUCUUGGUCGAACCGGAAGACCCGUGGUAUGAAAACCUUUUGGUGGGGAUUUACGUUUGGUUUCGUGUCCGGUUCUCUUGCCUGGAGACACCCAACUAAAAAAGGUACGCAAACUAACGCACGUACACAUCCUCCACUUCGGCCACACCACUGCCCGGACACCUCCACUCGACCAGUCACAACGAGGCACAGAGAGCCAACACCCGAAACACCUACCCGACGUCAGCCUUAGAGGGUCACCGGUCGUGGGGGACUUCGGGGGCCACGCUGCGGAACACCAAGGUGUCGGGGGAGGUGUUAGUAAGGACACAGCAGAUCGGAAAAGAAAACGAAGGGAACAAAAGAUCCGGCGGCCACAAUUGUGGUGCCUGUUUCUCUAACUCCAAGAGAUAUAAGCCUUACAUUGAAAACUCCUGCGACCCCUUAUAUGCACGAACCGCCCAUUAAGAUAACCCUAUAGGAAAGUGAGACGUACCAACUGUCAAGACGGUCCAUAUAUGACAAGAAAGAGAGACCCAAAAAAAGGGAAAAGAACCAACUGACGAUAUUUUAAUUGUGUCGAAGACAAUAGUCUUUACCGGGGAAAAUAGGAACGUAUUUCUAUAUUUUUUACAAUUUUUACUAGGGAGUCCCUAUUCUUUUGACGGAACCUUUAAGUGUGUGUCACUCUAGGGUGUGAGUGUAAAUACUAGUUCCCUUUAAAGUGGGAAUUUUGGACUUCCCUAGAGUAUAAAAAUCACUCAGUAACUCGGUUACAUAUUUAAUCGGGUAGGGGGAAAGAGAAUUCCUUGUUCAACGGUAAUGAAACCAUUUUAAGUUUCAUUAAAUAAGAGUAAAGUUUAAGGUAAAACGAUUUUAGGACAUACACAAAAAUAACGAAAGUAGGGUGAAACAUAAAAAUUGCUCUACAUUUAUCUCCCUACACAUACCUCCUCGGACCCCUCGCCGUGGAGACUUACAGUCUACGUGUCUUCGUCACACAACGGAUGGAACCCCUAGCCACCGAACGACGUACAACGCUAUCCUACCUGAAAGCCAAACGAAAGUAACGUUUCGUACGAGGACGGUAGAACCCGAACUACAAUAAAGACGGAGUGUCUCUUUAUUUGUAGUAACGUCGGGACAACGGAUUUGUAACGACGACAGACUUAGAAAUUGGCUGUAGAGAUAAGAUCACUUUGAAAGAACUUUAAUUUGUGACAGGAGAGACUACGUAGACGGAGAAACAGUAAAGGAAACACUUUGACGUCUCUGACACCAAACGAUCGAAUACUACAAGGUGAGGUCAAUAAUUAAGGAACAAAAAUCUCAUGUCACGAAUGGACGUACGAAUAAAAUGUAGAUCAUUUUUAUUUUAUCUAGCAAAGUAAAAACACGACAACGACGACUCUCAAAACUGAUAGAACGUUCAUAAAAAGACUAAUUUUACAUAUUCGAAAGUUAUUAUGGUAACGUAGGCAAAAAGGAAAACAACGCUUAGACGAGACACUUAUAAACGAAACUUUGUUUCUCUACAGAGAAUACAACUUCGAACGAAAAUAAACGUCAUGACGUAAGACACCACGGAUUGACCGUGAAGAAUUGGUCAAACGGACUGUCACGAUCGUGAAUUGAUUCUUACGUCAAACUCUUUUUGUGAUAAACCUUUAUGUGACGAACAUCUACCUAGUAGCUCCUGAUUCUUCUUCAGUCUGUAACCUUCAACUAUAUUUUUACACGAUUUAAUUCAUUAAUAUACAUAUGAGUGUGUAUUAUGGAAAUACAAAAAAGAAAUUCUCUUUUCGACAUCACUGUAUUGUUAUAUUGGCCUAUACAUAUUUGAAUUUUCCAAUAAUUUCUUAUAAUAUUAGAAAUACAUAAUACCUAGAUUACCAAGAUAUAAUAUUCGUUAAGUUAGACACAUAAAUUACGUAACCAAACAAAUACCUGAUCUACCAUAAUUCCUUAAGUGGUUUUGAAAAAGUCUGGUCGGAUGAUCUACUUGUAGUCAAAGUAUACCUUAACACAAGUAGGCCCAAUUUAAUAGGACACCUCAGAAGGAAACCUUCUCGGAUGGGUACAUUCUGACUUCGUAACAGUGACAGAGGAAUCUUUGUUUUCACCCGUAGCAACUAUAAAGUCUUAAAAAAUAAACCAAACGUAAGUGUCUGCUAGUACUUUCUAUUAGGAAAGUAACACCCAUGUCAACCAGCAGGAGGUGACUUUACAGAUUGUUUUACACCGGAGUAUCGGACGGGACACGUUGACCCACAGUUGGUGAGUGACCUAACGUCCACGGGUGACUCCGAUCACUGUCACUGAUGGACCCAGGACCACCAGUUUACUACCUGGGGACCAAUAAGUAAAAGUAAACCCUCAAAAACCCUUCGGGUGGAACGGAACUCUUACCAGCAGCGGAAAACCAAGGAAACCAACACGAUACUACGCAGUCAGACCACACGAUUGAGAUACCGGACGAAUAGACAAGGAGGAGGACACUAGACGUUAGAUCGCGGACCUUCUCUUUUCCUCUAAUGUCGAAGGGGUCUGAUGGACCUCUAUCGGUAAAUGACGUAUCCCCAGAAGAAUUAGCGGACAUACCACCAUUGUCAGUAGGACACGGCUUACUUCUUGUGCUGGUUCUUCGGUCUGAAGUCGUCGGUCGGCCGACACGUGUUCGACUGGUUUGCAUAGGGGGACGCCUCUGUCCAUUGUCUUUCAUCUAUUUCUCAAAUUUCUUUAAAUGAGGAGGGGGUACUGGGUCGGUCGAACACCUAGAACAGGAGACGAAACUACGGUAGCUGAAGACACUCGAAGGUACACGCUCACUAAGACCACACUACGAACCGCCAGUGGGUCAAUCACAAACCUCGAACCUCUCAGAUCAGUACCACGCAACGAACCUAGUUACCCCAGGUCAAGGUUCCCGUUCUUUCCUGUUAUGACAGUCUUAGUCUUUUGAUUAGUCGUCCUGACCUUUAUUGACCUCCGUUUAGGGGGACACACACAAACUAGUCUGAGUUCAUGUCGCCAGAGAAGCUUCGAAAUCGGUGUAAGCACAGGACACUAGAUUAUGGAAAAAAUUCUAUUCGUACUUGUAAGCGAACCCUGAAUACGGUGAUCAUGCUUUCUCUGAGAUUCAAGAGACUGAAUAAAAAAUUUCAGUUCUAGUCAUAGAAUACGGGACCCCCACGUAGACUUGACAAACUAAAUUUGACAACGUGUUAUUGAAAGAUGUGUCUUAAAACCGAAUUGGAGAAACGUUAAAUGUUAUCUUAACAUACGUAGAUAAUACAGAGUAACAAUCAUCAAGUGUCCACACCGACACCUAAAUAAUCAUCUUAUAAACAUACCUUGGUCGUUGUCUAACAAAAAUUGGUGGUUGAACCAGAAACCACCAACGAAAAACGAACACACACGGAGGACUAACCAAAUUAAAACGAAACCCCCUCUACCCCGUUCUACCUCGGAGACCACAUUUGGUUUCGGGACGUAUCCAUCCACCCUGUCCUUUACGGAGUCGAGAAAAGACGAAUAAGUGUCUCUACCUUCGCCUUCCGUCUACAUCUACGUCUUGCAAAUGUUUUCGUAAACUUUGAACCAAGACUAUUUCCAAAGAAAACUUUAUCGUUCAUUUUGUCGUUUGAGUAACCGAGAUAAAGUCACACAUAAAAUCAUUUUACAUGCCCCACGAACAAUUUUAAAGUCUAAGGAAACAGAGUCGGGGUCUCUAAGAACAAGUCAGUAGAACCUAUCCCGGUCCUUAGACGUAAAAUGUGUUCGGGAUACCACUAAAAUCUUACGUGAAACUCUUUGAGGUCCAAUUAAGGUCCGUACGGAGAGGGCCCUGAAGUCCAUCCUUACUGUAAAAGACCUGUUCCGUAAUCCUUCCUAAUCCUUGGUCAACCAGUCGUCACCAAAACCUUACCCAGACCAACAAGUGUUGGGUCGAAGUUUGAGGACCGACUUACCCAGGAACAAUUGAAGAGAUUUCGGUACAAAGUUCGUCCAGAAAGAAACACCUCUGCCUCCUAUCUUAAAUUUCACACACAGUUCGCAUCCGCUUACUGGUUUAACACAAUUGUCGUACCUUUUCUCCCCGGACAACCCAGUGCAGACGGUGGUUCUUACGACAACAGUAAAACUCACUGUACUAAUAGAAAGAACCCCGGUCCUUUCGUUUCUACUCCGGUCAACCGGUUGGUCAAAGAUCUUCUCAGGUCAGGACUCUAUUGAGAAUGUACCAAAGAUAAUAAAAAAAAGAUUAUCCCUUUUUACCAUUGAAGACCUCCGUUGAACAUUAAACCGUAUCGAUCCGGUGACGGGGAAUUAAUAGAGUAGUAGAAAAAAAGACGUUGACAAUUUUACGAAAAGAAAAAUGAAUUAUAUCUUCCCAUUCUACGGGAAUUUUAGGGGGACUGAGUCGGUGUCAGUAGCACAAAAGAAAGGGGUCACGGUCGACCGAAAAGAAGUGACAGGUAGAUUCUUAUGUCAAACUCUUUUUAUCAUAAACCUUUAUAUGACGAACACCUACCUAGGAACUCCUGAUUCUUCUCCCGUCUGUAACCUUCAACUGUAUUCUUACAAGAUUUAAUUCAUUAAUAUACAUAUGAGUGUACGUUAUGGUAAAUAUAAAAAAGAAAUUCUCUUAAGUCGGACCGGCCCGCACCACCGAGUGCGGACAUUAGGGUCGUGAAACCCUCCGACUCCGCGCACCUAGUGGGCUCCAGUCCUCAAGCUCUGGUAGGUCGGACUGAUUGUACAACUUUGGAGCAGAGAUGAUUUUCAUGUUUUUAAUCGACCCACACCACCACGUACGGACAUCAGGGUCGACGAACCCUCCGACUCCGUCCUCUUAGUGAACUUGGACCCUCCACCUCCAACGUUACUCGGUUCUAGUGUGGUAACGCGAGGUCGGACCCGUUGUUCUCAUUUUGAGGCAGAAAUUUUUUUUUCUCUCUCUUAAGUCGGAUUCAACCAGGAAAAAGGAGAGAAGGGACACAAUGGUCUCCCUUGUAGUCUCAAGGAAGGAGAAAAAGAAGGGAGGAAGGAAAUAAAUAAGUAGUAUUAAAUGAUUCACGCCCCAUAUUUAGUCCAAUGUACAUUCUGUGUCGGACAGUGUAAGUGGUCACCAAGGUUCCAAUAAACUACCAUUUACGGACAUUAGGAUCGAGGUGUCCUCCGACUUCGCCCUCCUAGGAAACUUGGGUCCUCAAGUUCUGGUCGGACUGGUUGUGUCGCUCUGAGGUUGAGUUUUUUGUUUUGUUUUGUUUUGUUUUGUUUUUGGGUUUCACCCUUUUUUUUCUUUUACAUUAACCGAACACAAGUCAUCCCGGCUCCUCAUAUUGUCUUCGUCUCCUUUCCCCCGUUUAUGGUCAAGGGACCUUUUCAUGUAGAGACGCUCUAAUUAAAUAAACCCCCCUUACAACUGUGUGGAGUCGAGGAAGAUGUACAGGUUCACCCCAUGUAAUAACCUAGAAGUGUUUCUUACAAAGUAGUCAUGCGUACCGGGGAAACCAUCUCUUUCUCUACGAAUAGCCCAUAGACCUAUUUUCUCCCAAUAACCUGACCUCGACCUUACUUUUCGGGGUCUUUCCGGACGUCUAUGCAACUACUGUCUCGUUUAUGGUGUCCCUACGGUUCGUACGGAAAUGGACUCGGAGAUUAGUCUACACAGUUCCUACCCAACAAAGAUCCGUAAAUACUCCGGUGAAAAAUAAGACACAACCGGUCAGAGGAGAUCCUGUGUCCCUAGUGAGUCACAGAGGUACCGGGACUGAGAAAGGGAGAGGUUGUGGGUAUGUGUGUGUCGCAGAGUGAGUCCAGGGAGUCAGGUAGGAACAAGAGAAAAGUCCUGUUCUUUUCAACCCAAAAGCAAGGAGGACACUCAAAAAGGAAGAACCGUAAAUAAUUAAACGUGAUCUGAAUGACCACAUUGUGUCUGCAAAGUCAAAUACAAUAAAAAAACUCGUUUUUAUAAAAAAAGGUCAUGGUUUCUUCUUUAAGGAACGUUAGUAAAGGAUCAUUCGCACUUAAAAAACUCUGAAACAUACGUGUACCAACUUCUUCCUCUUCGUUGAAAACCCACCACCCUCCGUCUACCGUCCACCGUAGAGGGACACAGGAAACUACCUCCGAGUACAGUGUAAGUCACAGUCCCGAACCCGUGGCACGGUCUGUGACGAGUGGGUGAGGGUGAGGAAACCACGGGUCGCUCAAUUUACUCUGGUUGUUGUCGGUCGGGUCUCUCCCCGUAGAAACACUCGCACAACCAAGACCAUGUCCAUACGACCUGUCGGUCACUGGUCACACUUCGUCGGAAACACUCAAUUUCCCCCGUCGUAAUGAAAGACACAAAAGGUGUGUAGUUAACCCACCACCCCCUUCCACAUCCCCACCCACCUCCUACCUCACGUCUCCUUUGACUCCUACGGACAAAUCCUCUGCACGCCACAACGACCCAAACGACUUAGUCAAAAUGUAGCUCGUGUAGUCAAAGAAAGAGACCCCGAACUUCGAAGGUAUCCCAUCCUACCUCUAAAUUGACAGAAUACCAACCGAGGCAGGUCUAUUUAAGUAGAGGACACGUCGAAUGUGGGAGAGAGUGACGGCAGUCGUACCAUGUUCUCCGACGUCCCACCAAAAAAAAAACAAAAAAAGUCUGAAAUCAAAGUGGAAGAGUCGACGACUAUAUCCAUCCGACUUUUGGUCUCUUUUUAGUUCUCGUCUGACCCACGGCACCGAGUACGGACAUUAGGGUCGUGAAACCCUCUGGUUCUGUCCGUCUAGUGGACGUCAGUCCUCAAGAUCUGGUCGGACCGGUUGUAUAUCACUUUGGGGUAGAGGUGAUUUUUUAUGUUUUUAAUCGACCCACACCACUACGUACGGACAUCAGAGUCGAUGAACCCUUUGAUUCCGUCCUCUUAGUGAUCUUGGGUCCUCCAUCUCCAACGUCACUCGACUCUAGCGCGGUGACGUGAGGUCGGAACCACUGUCUCACUAUGAGGCAGAGUGUGUUUAUUUUAUUUUAUUUUAUUUUAUUUUAUUUUAUUUAGUUCCCGUCACUUCCGAUGGAAAACAUCGUUAUGAAAACUCCGUUUACCGUAUAAGGACCCCUGCAAUCCUUAUCCUGGUUCUACUUCCCCCUCCUCGCCUCGCCCACGGAGCCCCCUCCUUACACACUGAGUCAUCGGUCAAGAGUCCAGGUCACAAUCACUAGGAGUUUGUAUACGGUUUAAGGCCCUUCCCCCUACCUACAAGAUGAGGGUCUUCGAGCAAAUGACGGACCGUCGACUUGUAGUACUAGACCCUUAUAAGAGACAUAAAACCAGUUAGUCCACCAGAUUUGGAAUGGCCGAGGUCUUUUGUAAACCCAUUAAUCUCACCAGUGCCUACUGAAUUGACCUUAGACGGGAAAGUACACCCGUGGAGUAGGAGGGACGGGGAUAAAGCGACGAGGGAAAAGAGGAGAGAGUCGGAGGUUUCCUGUACUGUCAAACGGGUUCUAGACUGGACCUGGAACCGACUACGCUAGAGAGCUCGUCUCGGUCGCGUAGACCCCGACCACGCAGUACCGAGACUAUCCAAAUGAGUGUCUCAGGGUCCCUUUCCGGACGCCCUCCGUCUCUGAGCGAUACCCUCUUUUCACUCACAGACUACUUGACGGAACGGAUUAAUGGAUUUAAAACAAUACCUCCUUAAUUUUUACGUUGAAGUCUUCGGAAACUUCCAAAUAGAGUCCGUGGGUCGAACGCCACCACUUUCGUAAAACAAACCGGUAUCCCCUCACCACCCGUUCCGAAUAUAAUCUCGUCUUCAUACAAUUACGGUCGGAGCACAAGAACACCCCCUUCCACCAAACGUCGGAUUCUCAGUGUCCCGGACAAACCGUCCGACACCAGGUUCACACAAACAGUCAGGACCCCUCAUUUGUGUGUUUAUAAUUAAGCAGAGAAGAGGGACCUUGUAGAAACGAAGACGAACGAGACAAGAGACUCUUUAGGGGAGAUCUACCAUUUAAAUUAAGUCAUAUUUCUCUAUUGUGACAAUCUGGCCCGCGUCACCGGGUGUGGACAUUAGGGUCGUGAAACCCUCCGGCUGCAUCCACCUAGUGGACUCCAGUCCUCAAGCUCUGGUCGGACUGGUCGCACUACUUUGGUACACAGAUGAUUUUUAUGUUUUAAUCGACCCGCACCACCAUGUACGGACAUUAGGGUCGAUGAACCCUCCGACUCCGUCCUCUUAGUGAACUUGGGCCAUCCGCCCCCAACGUCACUCGGUUCUAGCACGGACCUAUUACUCUCACUUUGAGACAGAGUUUGGUUUUUUUUUUUUUUUUUUUUUUUUUUUCUUUUCUUUGUCUAUUGUGACAAAGAACCACCGGGAAAUUUUUCUUUCCUUUUUUUUUUUUGUGAAGGAGUGAAUUAGAGGGUAUACAUGAUACCUUUACAUGCUUUUCGUGUAAAUGAAUUUUCGAACUGAAUACCGUGUACGACCUCUCUAAGGCCUUUCACUCCUUUACCUUAACCUCAGACACUUUUAUGUACGAAUUUUUUUUUACGGACGGUUCUAAGCCCUCACCCUUUUGUCAAAUGAUCUCACAAGCACAACUAACAAAUAUUCAUUGAGUGAAUAGUGAUUGUUCUCUUAUACAAUUUUAACCAAUCCUUACUUUGAGACCUUAACUUCAAAGAUCCAUCCUUAACUUCUUAUUCCUUCUAAUACUAAAACACGUUUUCUUUUCUCUUAAAUUAUCACGAUUUCUUCAUCUUCCUAAAGUCUCUACUCGUCACCCUCAAUAAACUCCAAGGACUAAGUCUCCUUUCUACGGGUCAUUUUGUACCUCAGGGUGUCCCCUUACCGGACGGGUCCUGGCCCGGUUCGGGGGUUGUGUCCGAGCGAGAACCUCACCUUCCCUUACUUCUCUUUCGGUCGGCAUAAAAUAUCGGGGUCUCCCCUAAAAUUUUCGUAUCAUUUUUACGUACCUCCAUUUUAAUUCUAUAUGGAGUCAUCUGUCUCGUUAGUUUAAGAUAUCAAAGAAUCUGAAACGUGCAAAAGAAUGGGAAAAGGGGGCAAAGCACAAGAAUAUUUUCAUAAAAGGUCCAAACAUGUAAAUUAGACUUAGAGGCAUGAAGUAGACUUGUUUUAAGGGCAUUCAGUAGGAAGAACAUCUGGAGUAAAAAUUUUAAGAUUAUUAUUACUGUUAUUUCAACUAUUUCCGAAAGAAUAAAUAAAUAAAAAUCCGAAAGGUAAACUUUUCGACAGUGUACUUUUAGAAGAGCUCUGUCAGACAAACCCCCUACCACAUCUAUGUACACUUGAAAACGGUCCCCAAACACCUACGUCUAAGGAAACCCCAGUACCCACUCGGUAUCUCCCCACUUGAAGUCUGACUUACAAUUUAAAAAGAGAAGACUCCAUUGGGGAUUCGGUAUAAACAGUAAUCCUGGGAGAAUGACAGGUCAAAAGGAGGACGGGACUCUACUAAGGGACUGAGGACCUAAGAAGUAGAGGACGAAUGAUCUUGGGGUCGGGUAGGAACCGUCACUCGUCUCCCGGAGUAGAUCGUUUAGUCUGUACGGGUGAUUCCGUAUAGAAGACGUCAGUCGGAAAUUACAGUGACCCAAUAGAAGGACCAACGUGUGUCAAACUGUCAUGUUAGCAGCGAACCAUACGCAACCCCUAACCAAGAUUGUUGGGGCUUAUAUGGUUUUAGACACCUACGGGUUCUGGAAAUAAAUUUUACCACAUCAUAAACGUAUACUUGACACAUGUAGGAGAGUAUAUGAAUCAGUAAAGAUCACUAUGGACAUUAUUGAUUGCGCAACAUUUACGAUACAUUUAUCAACAAUAUGACAUAACAAAAAAUAAACAUAAAAUUUUAACAACAUAACAAUAAAAAAUAAUUAAUCGAAAGUUUAUAAAAACUAGACACUAACCAACUUUGGUACUUACGCCUUGGGUGUCUAUACCUCCUGACUGACAUAGAAUGUGUGUCUUGGUGGGAUCCGAGGUUUGCGAGGUUCAAUGGGUCUCUCUUCACAGAAACAGACAAGAGAGUCUAGACCCGUCGUUUACUAAGAUUUCCCUGAUUCUCUUUUAUAACGUCACAACCAUCGUCUGUAAUUGACUCGAGAAUCACGGUCCGGAUCGUGAUUCGUGAAGUAGUCAAAAAAAAAGGGAGUAAAAUAGUAGUGUAAUUACGACACGUCAACCUGGACAAGGACAGAGGAGAAAAGAAAAAACUCUACCUCAGAACGAGACAGCGGGUCUGACGUCACGUCACCGUGGUAGAGCCGAGUGGCGUUGGAGACGGAGGGUCCAAGUUCGUUAAGAGGACGGAGUCGGAGGGGUCAUCGACCCCAAUGUCCGUGAGUGGUGGUACGGGCCGAUUGAAAAGAUAGAAAUCAUCUCUGUCCCAAAGUGGUACAACCAGUCCGACCAGAGCUUGAGGACUGGAGUCUUCUAGACGGGUGGAACCGAAGGGUUUCACGAUCCUAAUGUCCACACUCGGUGAGACGGACCGGGGACAGAACAAAAAUUGUCUACUCCUUUGGGUCCAGAUCUUUCCAAUUCACUAAAGGGUUUCGAGUGUGUCACUCACUCACGAGUUUGACCCUGUCCCUGGGACUGUUAGACUGGCGUGUCAGGGUACAAUAACGUCAACCAGUCCUACGUCGGACGGAUUACGCCCCGGAGUACAACACUUACUACUCGUGUCCUUCCCGUCGUUGCCCUAACCGACAACGGGUGUAGCUUCCUACGUCUCUACGGUGUUUUGGAUCGGACCAUCGUCUUCCUUCCCGGCUUUCGUCACUAGAACAUUCAAAAGUGAGUAAAAUCUUCAGUCGUAUAAAGUUCGUAUACGGGAAGCAAAAGAAAAGGCAACAAGUACGGAGUCGAGUCUAGGAAUAAUAAGAUUUUUUAUAAAAACAAUUUAUUUCAUGAAGAAGAUCUUGUAUUUUCUUAAUGUAUGUGUACCAGUAUUUUAGGUUUACCAGAUCUUUCAAGACUUUAUUUUACAUAAAAGAUGGGGGAGAGAGUUGAGGAUUAGAGAGACGGGUGUCCACUAGUGACGAUUCAGAGAAUAUAUAGGAAGGUCUUUGCAAAUUCACGGGAACAAGAGUGUGGAGCGACACCCUGUCGACGGAAGGGGUGUAGGAUAAGACACUCGGAGCGACUACUCUCGCCACUAAAAGUCCCUCCUCCGUGUCUUCGGGUCGGUACGGAGACGGAGACGACCCACAAUUGCAGUAGGUCCUGACGCCAGGGUUCGUUAACGAAUUAGCCAAGGGUGAGGAGAUAACUAACGUCGAAGGAUACGUGGGGUAUCACCUUAGGACCUUUGACCAUAGGUCACUACUCCCCGAUGCGACGUCCGGUACGUCUCUCACAAGACCGACAUGUUGGACGGUCUGGGACCGGUAAACGCCUUCAGCAGGGUAACGAUCCGGAGAAAAAAAAAAAAAAAAAAACUCUGCCUCAGAACGAGACAACGGGUCCGACCUCACGACACCACGUUAGAGUCGAGUGACGUUGGAGACGGAGGACCCAAAUUCGCUAAGAGGACGGAGUCGGAGGGUUCAUCGACCCUAAUGUCCGCGGAUGGUGGUGUUGGCUGAGUAAAAAAAAUAAAAAUCAUCUCUAUCCCAAAGUGGUACAACCGGUCCGACCAGAGUUUGAGGACUGGAGUUCACUAGACGGGUGAAGGAGGAGGGUUUCACGACUCUAAUGCCGCACUCGGUGGCGCGGACCGGCCGGCCAAGAAUGAUCAAACCGACCUCGAAGAACGGGUACUAUAGGAGUUCGUAUUCCAGGGGGACGUUACUCACCACUAAAAACGGACAAGUACCCCUUCUUGAAAGUCUUCUGGAAGAAUCAGAACUUUUGUGGACGCAUGAAUUCGUAGGUGUCGUGUGCCGGGACUACGUCUUACUUAAUCCUCCUGUCUUUCUAAACCCCUUCGUAGUAACCGGCAAUUUGGGCGAGGACUUAGAAAGACUCGAGACAUCCACCUCGAACUCUACAAGGACACCUGGUUACGUUUGACCUUCAGAACUACAAGAGACUUUCAAGGACCGAAGACUACACAGGGCGUCUGCUCCAAUCGAGUGAUGUCACUCCAACCUAUGGUGUACCGCCCCUGAAAUUUCAACAGACAAAGUAGGUCCCACCCCGAAUACGGAUCAGACACUGGAGUCACCCCUCGUCCUGCCUAAGGGGUCCUCGUGGGUGUAAAUGGAAGAGCAGAAAAGGGCGAACGAAGACGGUAAACGAACACGUUGGGUCUGUGAACCCACACUCCUAGAGUCGAGGUGUUAAUUACUAAGAAAUCAAGGGCGAAAAUUUUGUAAAACUGGUAUGUUACUUAUUUACAACGAGUAUGAUAGACGUAUUACUUCAAAUCCUUAUUGACGGGGGACGGUUUUCUAACUUACCUUCCGAGUCCUUCACGAGUACAUGCAAAAUUUUCUAUUAUCCUUAAGAUACACUUUUUACCGGGUGAAGAAAUAAAAUUAUGACUUUUGUUGAAGGAUUAGGAUUUUACUAAAAGAAGGGGAUUAGAUAAGAACCCGUAGAAGAACUUAAAGGUCGGACGAAACUCCCUUCAGACCCAAAUGUUUCCGCUCUAAGUUUCGAAAAGUUUGUCCUGUCCAGGAGACCAAGGGACACUCUUCUCGGGUCCUGGGUGGGACACUUUCAAGUAGGGUGGAUUUAAACAAGUAGACCUGAGUCAGAAACGGUCACACUAACUUCCGCAAACAUUCGUGUAGGUCCUCAUGAUAGGUGGACCCGUCAGUGCGUCCUCUGUCUCGGGUCCCACCCGAUCAACGGACGAACCUCUACCUAGCACCAAUUGAAGUGUAAGAACAAGAGAACCCGGUUUCAGAACAAGUACCAAAUCUUAUUCUGUCACAAGUUCGUCGGACACCAGUCUGAUUCUAACGCAUCAGUAGGAGUUUUCACCGGAAGGUCACACGAGACACACUCAGAAAAAAAAAGGUAUCUUUGGUCGGUUUCCUGUCACUAUAUAAAUUCUUUAUUAGUAAAAUAGUCUGUGUGACUUUACCUAGUCCUAUUUGUUCUUUCAUUGAGCCACCUCGGGACACAUGACGGUCCACCCUCUCCUCAAGAGAACACACCAAUACCCUUUUCCACAUAAAAGAAAGGUAACUACGAAGUAGGGUGCACAAAUCACGUGACCAAAGACUUUGGCUUCUGUUCUCCGUCGGGUAAAGGUGACUUAUCGGACCGGUAGUUAUUCAAAGGUCUUCCUGACCCCUCUUUGUUUCUUACCGGGGGUUACGACCCCAGACCCCAAUAAAACUCAAUUUCCCUGAGCCUCGAUGACUUACAGAAGGUGUAAGUUCAGGAUCUUGAGAAAGGAACUCUAUAAGGUGAAAUGUAAAGGUUUCUGUCUCCUUUAUACCAUCUCGGUUAAAGGAUUUUCAAAAGCAUCUUAAAGUAUUCGUGUCGUAACUAGGUACUAGGCCCACCAGACUCUCCCCUAGGUAAUAGGUCCCGAGGUCAUGUCCACGUCCAUGUUGGUAUUUCCGUGAUUACUUCGGUCUCUCCUGACAGACGUACAGGAGUUCACUGAGAGACCUCCUUAAUCCUGUCUUUCUUUUAAAUGUAACACUAGUCUACCAUAUCUUUUUAAAGUAUCUUUUUGGACUUGUAUCCUUGUAUUUUAAACCUACUUUAGACCAUGACGUACCUGACCUCCCGUCUCCUCAAUCUAAGGUCACCAAAAGAUUAAACCAAAGACUGAAGACGGUCGGGGGUUGGGUAAGGAAAGAUUCUAAGCUAUGAGACCGACCCGAGACCGACUGAAGGUCGGAAGAGUCUACCUCGGUCCUAAUGUAGACACAGAAACGUAAAACAUAGGUCCAAAGCCGACUCAGGUCGAGGAGGUACUUGAGGUUGUGGGGCGACCACUCCUAUUGUUGUGCGGAGAGAAGUUGCCGUCUGUGGGGGUACGACCGUCCCCAGAGGCUCAUACUUGAAGGUCUCCUGGGUUUUACCCUCAAAGGUUCUCUAUUCACUCAUGAAGAGAACCGGUACAGGGUCCUACCUCUGAGUCGAUAUUUACCCCUAUAACCUAAUUGUAAAAGAAAAAUACUGGGAAUCGGUGUUUCCAGAACCACACUACUACAGUCGUCCUCAUUCUAACAUAAAGAUUUAUUGGUUGAGGACCUUUUCUUUUUUUACCUAAAUUUUUUUUUUUAUUGAGGAACUUUCGUCUCGAUGAACGGGGACCGACCAGGGGUUUCUUCUACCGUAGACCAAUAGUAAAAAAUUCACAGACCCGUUAAGUCUGAGGCAGUUUACCUUAUUUUCAUCUUAAUAGGUUAAAUAUUUUGUCUAGACUGUAAGAUCGAAAACCAAUGAUCUUGUUCUGACAAGAGACAAGUGAAGACACCUCUUUAAUCUACGUCUUAUAUUUACCGGAAUUCCUGGCGAUGGGUCACAACGACAAGAGUAACCAAUAAUUACAGUAUAACCCGACUUUUCGAAGUUUAUACCAUGGACUGUAGAUUAAAGACACUAGGUAUUAUAAAAGGAACAACCUACUAUGUCUCCACACGGUUAGUCUACAAAUCAGUUUUAUACCGGUGGACCCACCACAACCCCGAUGCAUAGAGAACCAGAGCGAACUUGAGGUGCAUGACCUCGAGGCAACCCGACGUAAACUUAGGACCGAAACGGUCUGUCACCGACCCGUUGGAGCCCACUCCGUGGACUAAGAGACUUUAAGUAAGAGUAUUUUACUCCCACCACCAAGUCUGGAGGGUCCUGACUCGUCUCAAGAACCGAACACGCUCAAAAGGAAAGUAAAGGGAAGUGCACCACCAUUGGACCCUCGAGACUUGACGUUUGGAGUCGUCCUAGUAGCACACCCCGUACCUCAGUCACCCGUCUUAAACUCGAGGAUCGGGAGCAGGAGAUCCGUCCCUGGCUGGGGAUCUAGGAGGAAUACUUUCCUUCACGUCACCAGUAACAUCCCGACAGGUGAGUGAAGACCCCAUGAAAAACAGCAGUGUCGAACUCUCAUGCCCUUCCACCUUUACGACUGAUGAAGACGUAGUGUAUGUGACCUUAUUCGAGAACUGAACGAAUAUUCGUCGAUGGGACAAACGGAACUGUAAAAGUCAUCGAGGAGUCUAAUAUAUGUGAAGAGUACACAUGGAUAUGUGUAAACCUUUACGUUUCUAUUCGAGAAGGUCUCUGACUAGACUACUCGAGAUAAACCUUCCCUCUCCAUCGAAUACACCGACCGUGAAGACUAAAACUAAGUGCACUACAGUGUAGUCAAAACAAAGGGUUCACGGUUAAAUCUCUACACAUGGCAAUCGAUCCUGACUUAUUAACAUACCUAUAAUAAACCAAUCUCACAAUUACCUUCAUUAAAGGUCAACUAAACAUAUGACAUCACUUUUCUGGUGAGUGAGUAAGUGAAUAAGUAAGUGAGUUCCGUACAAUUAACCUGUAAAUGACCACCCCGUGGUCUCUUUUGUGUUUCUUACCAAAGAAAUGGACAUCCUACACCUCUUUACCUACAAAGAACACUUGAGGCGGUCGGGAUCAAACACACACUAAUAUAUGUGUCUAUCCAAGUACACGUGUAAGGAUAUAUAUAUUGACUUGACCCCUCAACACUAGUAUAAAAUUCUUUAACGUCGAAAGCCCAAAUCAGGUAUCAAAAACGGUGGACACUGUGGUGUCAGUUGUCACCUUCAGACAUACACGGGUUGACAAUGGAGGGUGGGCCCCAUGGGACUCACACCUUUUAGACUCACGAUUUGUAAAGUUUUGUCACAAAUCGCGUUUGCAUCCACCUUGUCUAAAGGUUACUUACUUCCGAUAAAUCUUCGUCAAAUAAUCUAGCCUCCGUCUUCAAUAUGUUUCUUUCCUAACAAUACGAACAUCAUCGUUCCGCCACCCUGUAUUUAAUCGGUAAAAAGGUUACGUUUAUAAAUAAAAGACGGUUCUACAAUUUAAAUUAAAAGCAAGACCCAUCUUUGUUUUACUGGAGUCGUAUCGUGUACGACGGGAAUCAGAAAUACGACGUGAAAACGUUUGAUAACACAUGAAUGGAAUUUAUGACAAAUGAUUACCGUCGAGGUACGAAACGACACAAUACGAAUUCAAUCUUUCUCGGCAUAAGUAUUCAUAAGGUUUCUGAAAACGCAAAACAACCAAAGACCUUACGUGUUCCUGUUAUAUACCGAUAAGCAGGCUACACGUAUCUGGAACAUUAGAAUCUUUAAAUUAAACACCACAAGUGAAACCUAAAAGAAGUAACAAUUAAAAUACAUCAGUAUUCCUGAAAAUUUGAAUACAGUUUUUUUUUCAGGGGUUAAAAAAUCUUAAAAGAAAAAUCAUUUUUUAAUCUCUAAGGAACUUUACGAAAAUUCUCCGUAUAGGACAUUGAACCGUUCCUUACACUGGUAUUUUAGGUAACCAUAAACUUAUUAUUAAAAUUUCGGUGGUAAAAUGUCCCUGUUUUUUUAUUCUUGUCAGAAUUGCAAAAAAGAAACUCGGUAAGAUUUAAUGUUUAUAAAUUAACCGAGUUCUAGUUUUCGAGAAGAGACCGUGAAUCCUUUCGACUGGUGGCGUGAUCGUUCCUAUGGAAGGGAUUUCUUUUAUUUGGCUCUUAUGGUUACACUUUAAAUUAUCGGCAAGGUGGUCAUUAACUGUAAGAGAUUUUGCAGUGAUCCUUUUAUGAGUCCGCGCACACAUGGGAUUCAGAGUAAUCAAGGUAUACUAUUCGUGAGGUACGAAAUCAUUCGGCGACUUUCUAAAAAUAUAAAUCAAGACCUUAAAGGGAGUGAUGUGGGGUAGUGGUCUACGAUACACGAUUAGGGGAUAAAUGUGUAAAUCCGACUGUGACCCGUUCGGGGACCCUCUUCCAACGAAACCCGUUCACCAGUACCGCCUUCGUCACCCUUAACUGUUUCUGUUCGGGUUCCUCCGCCAGUGGCACCGGCACUUCUACAACUUUCCACUCGCCCCUCCGCCCUCCGAGCCCCUCCCCGACCCACCUCUCAGAAUAGUUCUUUCAAGGAAAACACCGUACACUUGAGAUAGUACCGUGCCCCAGUCUCUCGUGUAUCAACUGGAUCCCCAACUCUUCAAAAGCCAUAUUUAGUCGUAGAGCCUGUCUGAUAAAUAGAACUCGACACACAUGAAUAUUUCUUUUCGGUCAAAACAAUCUUUCGCCAUCGGAGGAUGUAUCUCAAUAAGAAACUGAGGAAGAAGCACUGGUGUUAAGAAGUAAGAGAGACAUAAAAAUACACGAAUCUUUAAUAGUUGAGUGUAUAUUAACUUAAAUAAUCGAUCCUCAACCACACAAUCUAAACCCUGAAUUUGGAAUUGAAAUGUUCAUGUUCUUUUAAACACAAAAACCUCCCUUGCUUCUCUGCAUUCCCUCGUCUUUCGGAAGAGAAAACGCACUCCUUGUUUCGUCUUUACUGUGACCAGACCCUCUCAGUGAAUCUUCGACUCUUCCUCACUUGUCCUAGUCCCGACCACGUCUCGGAGGACCCUGUGUAUUUGUUAAUGGGACUCUACAUUUACAGCACAACACAAACACCCUGACACUUGUGAAGAUGCAAUUGGAAGGUUGGGACGAAGUACGGGUACAGGUUUCUUGAAUUUCUUGAAAAUUGGUAAUUGAAUAAGCAGGACGUCAUAAGAAAAUACUCUUCUCAAUAUCCCUUGACAGUGUAAUAUUUAGGAGAACAUCCCUAGAGCCUUUCUUCUAGGGUACGGCUCACAAAGGGUGCAAAGGUCCGUCUCUCCGGGUAGGAACCCUAUACCACGACCCGUACAGCGUCCGCGAGACCUCAAUCCGAAACAGAAAGAAAACACCCAAGAGUACCCUAUCAGUAGUGUAGGGAGGGUUCCCCUUCAUCGUCCGACCUGAAACAGUUGUUCUACACGUAAAACAAAAAACCCAAAAAAUUUUCCGACAAAUAGACUCACUGAGGGUUCCUUUUGAUCUCACGAAACUCUACAAGGGGUGGAACCUCGGACUACGGCCCCUCCUUGUGACACGACAGAACGGGGUCCACAGUACCGUGGUGACUGACUCCGUCGGGGACCGACGCAUGGUCCCGGUCCACACCCCUCCUGGGUCCGAAGAGUAGAGAAAACCGCCUUGAAGACCAAAACGAUUACCUCGAGUCUCAAUGUACCCUAUAACGUUUUUCCCUCCAGACCCUCAAGAGAAAGAGAACACUACGGGUCCGACCGUCGGAAGGGACAUUCCUGUGUCUUCCUAUAAUCAGGGGUUCGGUAACACCGCACAGGAAAGAAUGUCGGGUGCCGACACAGAGGGAGGGAGGAGUACCGGGCACCGAGGGAGGAAGUGUAUGUAGUCACAUUUAAAACGUGUGUGUCAGUGAACAUAACUAGAAGGAAAACACUUCGAUUUUUUGACAAACGUUGUACCAAGAAUAGGUACGGGUAUAAAGUAAAAAAAAAAUUUCCUUUGGGUCUAAAAAGGUAUGACUUAAUCGAACUCCACCUCCCGUGUACCCUUUCAGAACGGUGAAUCCUCUUAGAUUCUCUUCGAUUGACGCUCGGGCGCAUACACCUUGGACACGGUAAGAACGAACUUUAAUGUCUCGCCUUCAAAUACAUUGAAAAGAAUCCUACCCUUGACGUCACGGGAGACUCUUCGGUGAUCUUCAGCGUCGGGAAAUGGACGAGUCUUACGUGUACGUGUGUGCAAAUACCGGGACAAAUACCCCUUGGCAGACUUGGGUGGAGCCUUGCGAGAUUCCCGGAGCUCCCCGACCCAAUUCUUACGAACCAGCCCUCGUUCAGACAUCACUAAACUUUACCGGGAUGGGAGCCAGAGGAGCGACCAAAGUCCGUGGUACUUCAAACCACACCAAAAGACUCUGCGGAAUCUAUACCGUCUCCUACUCUAAUAGAGUACCAGAUCCUUUCUUAACCGUAAUCACAGUCUUCGGGGACGAGAGCAGGACUGAGAACCGGGGUAACCGGGGGGUCACUCGAGAAACUGUGUCUCACUCCGUCAAGGGACACAUCCGGAAACAGGGAAGGAGCUAUUUUACUCCCUCUACUAAACCUUUUAGAAAAGACUAAGACUUUAAGUUAAAGUACGACAAAGUUGAUUCAGAAACCGUUGAUUGUCAUCGACGGGUACUCAAUCUCCUUUACUUGACUAAACACUUAUACGGAUGACAAGUAUCUACUACGGUGUCUCUUUCUGGAAAGACUAGACCACAGUCUCUACCUCUACUACUUCUACUAACCCUUUGUGUUCUUAUAGUAUUUAGAAGAACCUCGGACGUGUGUCCUACCACUCAUCCUCCUUUUUGACGUAAGCGGGUUUAUGAGACGUCAAACUAACUUAGUAAAAUCUUUACCGACCCGAAGGUCUAGGACGAGGGUCUCGUGGGACACACGUACAAAUUUCAAGAAAAAUUUUAGGGGUAACCUUCUACAAGGAUCGGUACUUGUGUUUCUUCCCAGACACGGGCAUGGACCCCCGGUCACCUUUCCUCCCACGUCCACUGAAACCUAAACUCCCGGAUCUCCCGCGACGACAAAGAUCCAGUAUUGGACCUCCCCCAAAACCUUUUCCGUCGGAGGAAUACAAAAACAAAACAUUCACGAUUCUCUCUAAACAGUCUUAUUCUAGGAUACAAAACCAACUCUUCAAGAAGGGAAUUUUGUCCCUAACUUCUUAGGUGUAGAACGACACCCAGUGUCUACCGACUCGAGGGUUCUUAUCGAAUUUUCUCCUCUUUCGCCAUACUUCCUUAUGCAAUAAAAGGGACCCCCUCUCUCUGGGACCGAAGAAGGUAACUUACAAAUGACCGUGAAACUUUAGUUAAACGAUUCAUUAAUCAUUUGAACUUUUGCGGAUAGAAACUGAAUCGUUAAAGAGAACAUCCAGAUAUAUCAUUAACCACUUGAAAAAGACAUUUCCCUCCAGCAUCUAUAAAAUCUGAAAACACCCGGCAUACCAGAAACAGCGUUGAAGAGCACAGACGGUAUCAUCACUCUUUCGUCACGAUCUUCAUGUCUUUACUUACCUGGACCGACGUACGGUUAUUUUAAAUUAAUGGGUUUGUCCGCCAUCCGUCCUAAACCGAACGUCCGACAUCAGACGGUUGGGGCUCGGAUAUGGUACCUCUUUAAUAACGUGUGCACACAUUCCCUUGUACAUGUCUCUACAAGUAACGGAUGACAAACAAUACCGACUUUGGACCUUCGUUUACGGAUACGUAUAUUCCCUUACCUAUUUAUUUCACACCACACAAAUAUGCUAUGUCAUAUACGUCGACACUUUUCCUUACUAGACCAAAACAAAAAUAUUCGGGUUGUCCAAGGUUUUCCUAUUACAUACCCAUUUUUUACAACGUUUCUAGAUUCUCGAAAUAAUAAGUAAAUACACUAAUUUUUAUUAUAUAAUGAAUAACUUAUCAAUUUUACUUGGUUUUCCUAUCUCACCUCCCUAGGUAACGAAAGGUUCUCCCGCGUCCACUGUCGUACUCUCACUGUCCCUUCUCGUGCAGUUGACACAGAGACACGGAAAACUCCGAUAGUACUGGUUCCCGAAUAAAUAGUAAAACCUCUCUAAUAUUAGUAUAAAAAUACACACGAAAAGACAUACAAUUUUGAAAAAGAAAAAAGAAGAAGAAAAAAAAAAAAAAAAAAACUCUGUUUCAGAGCGAGACAACGGAUCCGACGUCACGUCACCACACUAGAGCCGAGUGAUGUCGGAGGUGGAGGACCCAAGUUCGCUAAGAGGACAGAGUCGGAGAGUUCAUCGACCCUGAUAUCCACACACAGUGGUACGGGUCGAUUAAAAACAUAAAAAUCAUCUCUGCUCCAAAGCGAUACGACCGGUCCGACCAGAACUUGAGGACCGGAGUACACUAGGUGGACGGAGCCGGAGACAUUCCCGACCCUAAUGUCUAUACUCCGUGGUGCGGGUCGGCGACAUACAAUUUGAAAUUUUUUUUUUUUUUUUCGUACCCAACAUUAUUGAUUUUUACAAAACGACUUAACGGGUUCCCCUCUGGGACCUAAGAGAGAAAUCCCUCGAAGAGAAGAAGGAGUUGUCCCGGAGAGAUACAGUAUCAACUCAUACGGAGAUUUCCGUUGGAGGCUCUUAUGGAGGCUCGGGCCUCCGGUGGGCCCUACCUCAUGAGGAUACUGUAAUUGGCACAAGGACUCCUCGUCUACUGGAAGUUCCUGAACCACAGUACGUGGAUGGUCGACCGGUCUCCGUACCUCAUGAACCGAAGGGUUUUUCACUCAGAAAGUGUAAGAUGAACCGACCCACCUUAGGUUGAUUUUUACAGAAAUUUCUUUUGUCCGUUAAACCUGUACGAGUAAACGAUCUAGUUCGGGAGCGUACAGAACAUGUUGGACCUUUUAUAAAUAACGCAAUAAGGGUAAACUCAAAUUACUUGACAAAUUUUGGUUUCGUCGGAGUAUUUGGAUAUCGUAGCGACGUCUCUACUCGUCUUUUCUAUGGAGAAGAAACUCUGUCCUGGUACACACUAAAGGGAGCCUUAAGUCGAGAGGUCCACCCUUUACCUACCAAAAUUUCCGGGGGAAAUUAAGCCUACUAAAAGAAAGAAAGAAAAAAAAAAAAGAAUUCGAAGUAAAUAAAACACCAAUGACUCAAAAACUUGUAUCUGAAAUCCACAAAUCACAAAACCCAAACUAUACCGUAAUUUAUAAGAUUCUCAUUUCCAGUUUGUUUCCCCAUAAAAUCAUUGGAACGCAGGACCUCGAGACGCAAAUAAAACGGAGCAAACCGCCCACUGGGAGACACCAAUCUUCAACCGGUCCAGGGGACUCCACCUGACGGACGUAAGGUCCGCACGGUGAAUGGCACCUUGAACUUUGUAAAGUCAAUAAGACUCUCAUCAAUCUGUCCACGGGUCUACAGGAGCCUCCGUAAAACCUACUGGGUUUUGAGGGAACAGUCGGGGUGUGUAUCCCUUCGCCUCCCCGCCUCGACGGAGGACACGUCUCCACCCGGAACGAGGAUGGACGUAACGUCAAAUAACGUCACGGUCCUUAAGGAACCCAGGGGUUUCUCCACUCUAGGAGACCAGCCGCACGUGGGAGACAGUGACCCCCAGACCCAACGGACUUCUCAGUGUUUGAGUUCAGAGGUACCCCGGUACGGUCAGUGUGGUGGUUCCGGACGCCUAGUGAGUCUCACGUCUCUAAGCUCCCUACCGACGUGGAGUCGAGAUGAGAGACCGGUGUAUCCUUGUACCGGGUCUCGAUGGGGUACAAGACCUACCAAAAAAGAAAGAAAGUUUGUCCGACCUCACGGCACCGUAUUAGUGUCGAGUGACGUCGGAACUGGAGGACCCAAGUCCACUCGGAGGGUGGAGUUGGAGGACUCAUCGACCCUCAUGCUCCUACACGGUGGUACGGACCGAUUCAAAACACAAAAAACAAAAAACAAAACCAUCUCUGCCCCAAAACGGAAAAAAGAAAAAUUAAAUUCUUUUUGAAAUUUUUGUAAAAAAGUCCUCUCAAAUCUCAAAUUCUGAAAAAGUCUAGAAAAAGCAUAUUUUUAGAGGGUUAUAUAUCCAAAACCCUUUGAUUAAUUUGUGUCAAAACUGAAGACACUAACACAAAUGCAUGUGCACGCACACACACGCACAUACAUCCCAUCAAACGGUUAGAUAAACCGUAGGUCUCUGUUGGUCUGUCUAGGUCUUGUACCCUGUAAACUGUUCUAUAGCGAAGGUUUACAGUCACAGAGCUUUCUGUUUUUGACGACCCCUCUGCCAAGGUCUAUUUUCCCCCGGCUACUCUGUUAAGGAUUCACAUUUUCACCCUAGGACCUGACCUAGGACACCCAGCCCCUCCCACCGGUCAAGAAUCUUUCCUGUAAACACUCACAGGAAACUUAUACCUGACAUAUUAUAAUGACCAAUAUAAAGACAUAGUCACAACUUAAACGGCCCCCACCACUGUCACCAUAGACAACAUCCUCUUUAUGCGACUUCUUAACUCUAAACACUUCAUAGUCACUACGGACGUCGAGUCAAAAUUCACCAGGUCGGUAUUUUAUAUUAGUUAGGUAAGUGAUAGGGUUCACACAUACACACACCCCCGUCCACCCCGUCCUGUACCUCUGUCGUUCACUAACUCAUCCACAUUGUUCGUUUGGGUCGUCACCACCUAUGAGUGACACGGUAGGGAGGAAAAGACGUCGACACUUGAGAAGGAUUUAUUCGGACCCCUCCCAUCGGGUAGACAUCCGACGGAUAAAACUAUAAGACCAGAACUAGUGAGGGACGGGAUGGACACACCCUCUAUCCCCUUCGUCAAAACGUGGGUCGUCCCACCACGAUGAUCCCCUUUACACCAUCCUCCCGACCGAGUCAGUAAAAUAAUUUAGGAAGUUGUAGAUGAGGAUCUCGUGGGGGCUACAGAGUACGGGAACCAGUCCGAGAGGUCGCUUCACCGGUCUUCUCUGUAUCAGGAACUGGAGGACCCCGUUCUUGGUACCCACUGUCAUUCUCUUUAACUGACAUUUACACCCUUACUUUUAUUCCAACAUUUUUUUAUAACUUUUUCCACGGUACCUCCUUUGUCCCCCUAUUCCGGAAUGAGUACGGUCCUGCGACGUGAAACGACAGUGACGGUACCUUCGGAGACUCCCCCUCCUUCUCCUAGUCAAUCACGAAGUUUUUACGGAGAGUGACGACGAACACACCACUUACCCUUCCGACUCGGGGACAGUUUCCACUACUACCAAACCCGAUCCCAGACAACCCAGGUUUCUGUGGCUCUUUUCGACCACCCGACUACAACCUGUAUAAAACGAGAACCCUAUUACUUACCUAACUAAUCUAUCCUCCCUCUCUUUCUCUCUAGUUCCCACUGAAGACCUAAAGGUCGAACUUUUUGACCUACCACCACGUCGAAGGUUCAGACCCUCCUGAACCCUUAGUCCCGACCCCGUCCCCCGUAUCUAAACCCACCUUUUAGGCUCGAGCAGAACUCGCAUAGACUCAGUAGGUUCCCCUCUAUUACUUCUUCGACGUCCGUCGUCGAGUCGAGACUCCCACCCGAUUGUCGACCCUCCGUCGUUUCCCUCGACACUCAAGUUCGGUACCCGCACCUGUUUGAGUAGACGCCUCUUCGAACCUUCUCCUCUUAUCUUCGGACUUCAGUCCAGGACUCUUUUAAGAGUUUAGAUCUCUAACUGACUUUCGUGGUCUUUGUCGUCGCCUCCGGCUCGUCCGUGUCGGACUCGUCAUCCUUUUAGUCCUGUGCCUCGUGUCUCCGGGGUGUACCCUCGAAGUCCUUCCUCCCCCGUCCAUCAUCUCGGAGCCGCGAGUCUGACCACUCUUCGUGCCCACAACUCAGGACCAGGAUCUCCGUCACCACCAUGGGGACGGGUGGGAUCGGGACUCCUGGGUCUCGAGGAAGGACAAAACCUCGACCGUCUCUCUUUUGAUUCUCUGCUUGAAACGAUUCGUCCCGUUUACGUAGGUAAAUUAGCACCUUCUUGCCUUCAUGGGUAUAAUUUCACAACACUAUUAUCAUUGAUAGCAAUAAUAAUUAAUGACUGGGGAGGCCCUCUUCGAUUGGUAGAAGGUCCGUGGCACCGUCUCGUAAACUGUAUUUCGUAGAAUGCAUCGGGAGUCUUGUUGGGCCUUUAUCCACCCUAAACCUAGGGGUAACAUACCCCCUCCUGCUACUCCUUCGUCGUACUUACCAAACUCUGGUCUACACAGUCCUCCUGAGUCUACAGGAGUGAAGACUCUUCGCCUGAACAUCCAGACUUCUCACCUCACCGUCCAGGGUCUGGAUCCAGAGGACCAGGGGGUGAGUCGACAGAGGACGAGAGUACUCCGGGGAUUGAGAGAGAUUUGACUCCGUUCUGGUUACUCUAAGGUGCACCCCCCGCCCACUCCCCAACAAAUCACGGGGUCACACCGGAGUAACAGAGAUGUAACUUAUUGUCGGGUUCCAUUUUCCCUAUAACAUACCCGGAAAUUCUGUACCGUACCAAGGUUUCGGUGAAUGACCUCCGGUGGACGUCAAUUCCUGGGUCUUAUCCAAACUUUUACCUCCAUCUACUUCUACAAUUCGUACCAGGGGAACGCUCCCGAGACGAAGGUUUUUACCUCCCGAAUAAGAACUUUCACCUCUUACUUCUUGGUCCGUUUCCCAGGCCGGGACCGAAAGGGUGUGGGUAGGGGAGUGUUACCCCUCGGUACCCGAACACUCUCUGGACGAACGGACUUCCUUCCCCGUUUUCUCUUGACAACUAAUGUAGCAAUGACUACAUGACCCAAGUAGACACGAGUCGCGACCCGGCUAACUCUACUUGUGUGUCACGGACCGGAGGUCGUCGAAAGUCAACACACACAUGUACACACACACACGCACUCACACACUCACAACCCCAUCCCCAACCCCUAACCUCUGUCUCUUCACUUUUUUGUGGUACCACAUAUAUCGUUACGUUAAUCCAUUAUCCCAUAAACUCGGAAUGUGUUAAAUAUUUUAGGAAUGAUAAAAAUCGAGUUUAGUGUGAUUAAAAUGAAAAAAUUGGUUUAGGGUUUGGGUCAAUUGGGAGUUUCACAAUUUGGACUCGUCAAACAAAAAGCAAAAACAAAAACUCUGUCCCAGAGUGAGACAGUGGACCGACCUCACGUCACCGCACUAGAACCGAGUGACGUCGGAACCGGAGGACCCAAGUUCACUAAGAGGGUGGAGUCGGAGGACUCAACGACCCUGAUGUCCGUACAUGGUGGUGUGGACCGAUAAAAAACCAUCUCUGCCCCAAAAUGGUAUGGUACAACCGGUCCGACCAGAACUUGAGGACUGGAGUUCACUAGACGGGUGGAGUCGGAGGGUUUCACGACCCUAAUGUCCGUACUCGGUGACGCGGACCGGGACUCGUCAAAAAAAAAAAAAAACCAACUCUGUCUCAGAUCGAGAAAACGGCUCCGACCUCAAGUCACCGCGAUAGAGCCGAGUGACGUCGGAGACGGAGGGUCCAAGAUCGCUAAGAGGACGGAGUCGGAGGGUUCAUCGACCCUGAUGUCCGCGAACGGUGGUGCGGGCCGAUUAAAAAACACAAAAAUCAUCUCUACCCCAAAGCGACACAAUCGGUCCCACCAGAGGUAGAGGACUGGAGCCCUAGGCGGACGGAACCGGAGGGUUUCACGACCCUAUUGUCCACACUCGGUGGUGCGAGUCGGACUCGUCAAAAAAAUCACUUCGGGGUCGAAGGGGUGGACAUUUUACCCAUAUUGUGAUAGGUACAGUAUCCAACGGCGUCCUUAAGCUACAGUAGUCGGUAUGACCCGUGUCCCGUAUGACAGAUGUAGUAUCCCUACAACCAGAAGGAAGGGAAUCACUGGGUGACUGGAAGUGGAUACCUUGUGGUUUGACAGGGUCCCGGGAUUAACAUAUUUUACCAGUCGAGGGACACGACCUCUUGCCGACUGUAAGGACACCUACUGCCCCUAAACCGAACGGAAACUAAUGAAAGAAAAAGAGCCCACACCCAAGGUUCAGAGGAGAAUAAGUUGGGUCUCCGACCCCAAACUACAAAGGAUCGGGGACCCUACUCCCUACCGGUGCGAUCUGAGACCGAAAGCGACUCUUCUACCACCUCCCUCGGCAGUCGUCACAGAGACACGUUCGACUCGGGAUUACGUAUCAACCUCGGGUCACGCACCCUUCGUGUAAGAAGACUGGUGUGUCGAACGGUCUGUGUGUCUCGCGCACAGCCGUCCUCGUGUGGUGGCCCUCUCAAACCGGGCCCCGAACCUUCAAGUUAAACUUGUCCGGAGGUUUUGACCCUUGUCCCGACGUCGGGGUCUGCUUAGAGGUCCGUCGAAGACACUCGAGAGUACAAAGGACGAAGGUUGGACCGGUCCCUAACGUUCGAACGCACCGAAAGAACGAAAGGGCGAAGACCCGAAUCCGAUGGGCCCUCCGGGUCUUCACACACUUGUGUUCCUUAUCGAUCCCCAGCCCCACCUUAGUUUAUUAAGGAAUAAAUAUAAAGUCCCUAGUGCAUCGAACGGGGAAAAAAUUAACAGGUAAAGCACCUCACGGAUUCUAGCGGGGGUAAAGUCGGAACAACUUACCUGACUAUUCUGAAAGACGAAGCAUACUAUCAAUUGGAAACGGUUAUUGGUCACAUUUUCCGAAGCCACCACUAUAAACGAAGAAACACAGAAUAGAGAAGGGUUUUAUCUUCCACUACUAACCUCUGGGAUUAAUGGAACAUAGAACACCUUUAGAACGAUAUACUUUCACAUUGUUUUUACGUCGUCGAGUGUCAUCGCAUAGUAAACAUCUUUCCUUUUUAGUAUCCGGCCCGCACCACCGAGUGCGGAUAUUAGGGUCAUGAAACCCUCCGGCUCCGCCCACCUAGUGAACUCCAGUCCUCAAACUCUGGUCGGACUGGUUGUACCACUUUGGGAUAGAGAUGGUUUUUAUGUUUUAAUCGGACUACACCACCACCCGUGGACGUUAGGGUCGAUGAACCCUCCGACUCCCGUCCUCUUAGUGAACUUGGACCCUCCGUCUCCAACGUAACUCGGUUCUAGCACGGUGACGUGAGAUCGGACCCUUUGUUCUCACUUUGAGGCAGAGUUUUUUUUUUUUUUUUUUUUUUUUUUCUUCCUUUUCAGCAUUAUCGAUCUAGAAAGACUCUGGGUUCUCAAUCACAGUUCUGUUAUUUAAUCGACAAGACGUCGUUCAUAAAUUAUAAAGUCACAAAUCUUAGUCACAUACACCGUGUAAGUCCGACUCCGGUCCACAAUCCUCUUUGACCUGACUCUUGCACCUAUCUGCCCGUAACCGGUACCAUCUCUGGUUCUUUCCUGUACUGAUCAGUAAAGUCCUUGGAAUCAGUACCCUGUACCUCCUCCAUGUUGUCCCGAUUCAAACCUUCGCAUCUCUGGGCGAUCUGCCCGUCACACCUUCAGAGUCCCCCUCCCCGUCUGUCACUUCUACCGGACCUGAUUCCGUAAUCGUCACCCUUUCCGUACCACACCUGUGUACCCUUCCGUAAAACCUCAACUUUAGUUGUCCUGAACCCUCCUUACACAUUUCUUAUGGCCACAUAUCGAGAGGCUAAUUCUCUCUGUUUCGUAACCUCCUCAACUUUGGAACUUAAACUCUGCAGUUCCCUUACAGUCACCCCUUCACAGGGUAUCUGUCAACUUUUACUCUUGUACCCAGAGUCCUCCCUCCAGUACUACCUCUAUGCUUGAACGCGUAUAAAACAUACACAAAUCUUAAUUACGGAACUCCUAUAUACCUUUAUGUAUUUGAAUUACCUUGUUAAGGAGAUAAACUUCCCUGUCUUUUUCUCUUCUCGGUCGGUCUCUAAGAUUCUCCCGUCCCUCUCUGUCUCUCCGUCGACUCCCUUCCCCUGCCCUAUUUUGAUUUGUCUCCCCGACCCACACCACCGAAUGUGGACAUUAGGAUCGUGAAACCCUCCGGCUCCGCCUACCGAGUGGACUCCAGUCCUCAAGCUCUGGUCGGACUGGCUGUACCACUUUGGGGCAGAGAUGAUUUUUAUGUUUUAUAAUCGGCCCACACCACCGUCCGUGGACAUCAGAGUCGAUGAGCCCUCCGACUCCGUCCUCUUAGCGAACUUGGGUCCUCCGCCUCCAACGCCACUCGGUUCUAGCGUGGUAACGUGAGGUCGGACCCGCUGUUCCUGUUCUGAGGUACAAUUUUGUUUUUUUUGUUUUUGUUCUUUUGGAUUUGUCUCCCUGGUAAAAUUUUUUGUUCGUUCUUUAGUUAUCGUAGACUUCGGUGUCUCCUCCUUGUUGACUCCUCAACCUCCUGCAGUAAACGCAGAUUGUUAAGUCUCCAAGAAGUAUUCGAAGUCCUCUCCGUUCUCACCUUGUGUCUAAUCUUACAAACUCUUCACUGGUCCUUACUUCUUCUGUGUUACAACCUAAAAUUGGUUGCGAAGACUUUUAAGUCCAAAUUUCCCGUCCUCUCGUUCACAACUCUCUUUUCUAAAAUCCUACUAGUCUAUGUCUAGAUAUUCGUCGACUUUCUUUCUGUGACCACACCGACCUGUUGACCUCCAUCUUCUCUUAUACCAAUAAAUCAGAUGGAAGCGAGAAGUUUUACUAGUAAGAUAAAUAAAUAUUAAGGUUUUGUUUAUGUACAGCACUAGGUCCGAGAGGCUACUAGGGUCAACUGGACAGAAGAAUUAGAAUCUCGGUGUGACGCAAAAGAAAAGAAAAGAAAGAAAAAAAAAAAAAAAAAAACUCUGUCUCAGAGUGAGACAGUGGGUCCGACCUCACGUUACCGCACUAGAGUCGAGUGACGUUGGAGACAGAGGGUCCAAGUUCACUAAGAACACGGAGUCGGAGGACUCAUCGACCCUGAUGUCCACGUGUGGUGGUGCGAGCCGAUUAAAAACAUCAAAAUCGUCUCUACCCUAAAACGGCACAACCGGUCCGACCAGAGCUUGAUGACUGGAGUUCACUAGGCGGGUGGAACUGGAGGGUUUCACGACCAUAAUGUCCGUACUCGGUGGCGUGGGCCGGUGUGACAUAAAGAAUAUCAUAUGGCGUUGACCAAAAAUUGUAGUCGAUAUAAAAGAUAGACGUAAAAUUCUUUACUUGUAUAAAGGAAAAACAAGACCGCCACAAAACUUUAAUCAAUAAAGAGAACGAAGAAAGAACUAAAGUCACAUAAGUAGCUCUAAAUCGUCGGUCUUUACAAAACCAUUGUCUUUUGUUACACUACUUUUAUCGUCUGAAACCUGAGCGGUCUCUAUAGUUGUUAUAUCUGAUAAUGUUUUUCUGGUGGUUACAUUCAGCUACCGUCAUUGUGUCACCCGUCCCCGCCCCCACUCCGAGUCUUACAAGGUCCUUCUUUCCGGCAGUUACAACUCUCGACCCACCCUACCGACCCCUGGGUAAGGGGACGGGGCUAAGGGCAAGAAAACUGAAUGAUAAGUGUUUGAGAGUUAUACGUUUAAAUCGGAGAUAAUACAGUUAAAAUCAUUUACACUUUGUGAAUAUAUGUCUUAUUAGUCGUUGGCGAUCCUAAAAGAAUACCAAGAGUAGUUCUUGAAAGUAUCGUUUUUGAUGUCGAACCUUCAAUGACCAAAUUAAAAACGGAUUAUUGACCAGUUCCUCGUAGACACACGAUCCCUCUAUUUCCUAUCUUAGGUUCCUCUACCGUAAAAUAAUUGCCGGGUCUGGACACGUAGAGUGUGUAACAAGUACCAGGAGUAACCCUGACUAAAGACGAGAUAACUGACUGAUCAUUUUUGGCUCUUAUAGUCGAGAAUUUGUCCCGUAUCGGGAUAACUCGGACGAUUCUAUUUAAGAAAAUUUAUAUAAAUCAAAAACGUAAAAGGAGAUGUAAACGUCCCCGCCGAAGGUCAGUUCACCUACCGAGGUCUUCGGGACAAACUAUCUCAUAUGUGAGUAGUCUCACUACACACUCAUUGAGAGAAAAGAGACCGAAAAAGGACCCGAACUCGACGUUUUUAUGACAUGCAUGAAGUGGAAAGAAGGAAGAAAUCACCGACGACGUAAAGUGUGUAAGCAUCUUCCACGUCCUCGACCGGAAUCUUUCCUGUCUAAAAUACCAUCCGACUAUUGGUUACGAGACAAUGAUUAGACGGACCGAAGUUUCUCGUGUCUUCCACCUUGACGACUGGAGGGGGACGGUCUCGCCUUCAGGAAGGGAACUUGUAUAAGUACCUACACGUUGAUGUUUCGCCAAUAGAUUAAGCGGUUCGAGAACCGUACAAGAAGUGAGGUAAUUUCCUCAUUAGGACCUCGAAAAGGGUGAAUGCUCAUCAAACAGUAUAAAGGGAGAUUGGGUCUAAACAGGAAUUUCUCACCUCGACUCACUCUACACCAGGUCCGACCCCUGGAGGUGUCCCAGAUGAGAGAUACAAAUAGGGAGUUGUUUUUCCAGACUAGAACGAAACCGUAGGAACUAUCGUAAGAUCUUUGUGUCAUCUUAUAAAGAUAAUACUAUAUGACUGUUUUGGUCACCCCAGUCCGAGGUUGACUAUAAAAUCUAAACUUUUAAGUCAACUUCCGACACACGUCACUGAGUAUGGACAUUAGUUAGGGUCGUGAAACCCUCCCGUUCCGCCCACCUAGUGCUCCAGUCCUCUAGUUCCGGUAGGACCGGUUGUACCACUUUGGGGCAGAGAUGAUUUUGAUGUUUUUAAUCGACCCGCAUCAAUACGCACAGACAUUAGAGGUGAUGAACCCUCCGACUCCGUCCUCUUAGCGAACUUGGACCCUCAGUCUCCAACGUCACUCGACUCUAACACGGUGACGUGAGGUCGGACCGUUGUCUCGCUCUGAGACAGACCCCUUUUUUUUUAGUGAACUUGAUAAAAAAUAAACAUACUCGUCCUCCUCAAGACCCAUCCGUAAUUAAGACACGAUGGUAUCAACCAGGAGAGUUGUUAGGAUUUUUUUUCUGUACUGAUAGGGUAAAAACGACACUCGUUGACUCCGUGUCUCCGACAAGACGGACAGGACACGACGACGAAAACGAGACAUCUUUUGACGCCUCACUUUGUGGUGGUAGCUCAUGUCUUCCAACUCAAAGGUCUUGCUGGUACUACAUCGAUUUGGACCGAGAGAGUCGAACGAGGAGGGUCUCUAACUCGGAGGACUUGAACCGUGUCCUUCAGGUUUAGAGACUUCUCAGUUCACAUUUAUUUAAUACCGGACACUCUACACAAGUCAAAACAACACACGUUGAGUAGACCCCGUACACUAAGGAGUAGGAUUGGGGUCGGGUCACGACUAACGGAAACGCUAGAAUCAUUCAAGGUCUCGGAGACACGUCGUCUACAAGGCGGUCGGUGUGUCCCGUCGACACUAGGACGCCUCAACCGAACGACCGGAAUAAGACAGUUGACGGGUAGGACCAUCUAGUGUUGGGAACCCAGUCCGUGUAUUCCUCAACCUUUCCUCGCAUUUCCGAAACUUUGACUCUUUGACUCUAGGAACGUAACGAUUGUGGUGUAAAUUCUGUUCGUCGAGAUAAGGUCUCACUACCGUCAAACGGAAAAACAGAUAACUACCUUUUAAGGUAGUCGUGUAGGGGCACAGUAGUAGUAAGCCCCUACGAGAACGUCCCGUCCUUUCUCGUGUAUCCUCCUUGACGUCCUCCCGGGUAAACAGAAACUUGAAGUCUUCACUCCUCCACAAAUACAGAGUCGACCCGCACAAAUCCAAAACCGUUGCACCUACCCAAUCAUUACGGCACGAAAGAGGAAAACAACGUCGACCAGGAAGCCCCACAAUUACACCCUCUAGAAGUGAAAUCCCCCGAGCGGGAUGGGUCCCUAAGGGCACCUCCUUGAAAAAUUCGACGACUUCCUUCCUGUGUCUUACCUAUUCGGUCGGUUGACGUGGUUGCUUGACAUUCCCGACAACAGAAAGGACGGCCACGGGGUCACCUGAACGGUGUGGUCAUUAUGGAGAGGACUACAUAGAGCAAAAACUUCCGGGGACCAAAGGAUUUGUACGAGAUUCUUCUUACCGACUUCGAGAGACCCGAGUUAGGUCUCGACCCUAUGUAUCGCUGUGGCUGUUGGUAAUGAACAGACUCUCUUUCUUGUAAUAAGACUCAUACCUCUCCCGAAACCUAGUCUCCCACAGACCGACGGACCGACUCCCGAGGACUGAAACGUCUCGGUCGUCCUCACCAGAAGGACCCGGUGACACGACGUGGAAGACGCCAGAGGGCACCUCACUGUCCUUCUGGGUGCCCAGUCCUUUGUUCGAUCUUUCGGCGCCCCGGCGGGACGUCCCACAUCCUAAUUCCUUGGUUGUGUCGGAAAGGGACCACCAACACGGACCGGGGGCGGACCGGGGUAGCACCGGUCAUCUCUUAGCCACAAAGGUCUUGAAGAGCUUGGUAACUUUUAACGGUAAUGUCUAACUGCGGUUGGUGUAAAGGAGUCUCGCUUCCUUGAGCACAAACCAAUGGAUCCAGAGUGAACACAAAAUCACGUCUCUUAAUUUGUACACAGGUCCGCGGGAGGAAUGACAUGGUCUAGACGGACAUUUUGGUACUUGACCAAACAUCGUUUUGGACGGAGUGUGAAAUUCACCUCAAUACAACACAAACACUGCACACGGACCACGUUAUCUUAGUCACGAAACUUUCCUCAGAGAGACGGAGGACGGAGUUGGGGAGGUCCUAAUUGAUUCUUCUCACUAACAGGGUCUUUGACGCCAGAUAACACAUAGUAAAGUACCCCUAAAAUAUAGUCAUUAGGGCACUCACGAAAAGCCACAUGGCACCUACAGACUACUUACCGGUGUAAAAUAUCGUAUAAUAUAUUUCCGUAAAUAACACGAGAAACAGUAAGGAUAACAAAAAAAAGAAAACAUUGCAUCUCCUAGACAGCUUUGGGUUUUAGUUCUAUUCUGGACCCUUCGAUUCGGAUAGAUUCUCAAUUAGUCCUUCAAUCACACGUCGGGUCACCACCGUCUAAUUAAGUAGUUUUUGAACUUCAACAUCAAAAGUUUAAAAUAAAUUAAAAAAAAAUUGAGUCCUUCGACACAGUUGAUCUUAGUAAUUCUGGGUUUCGUGGCCCGUCUAUUUAUCACCUCGACGAAACCACGACCCGUCCCACAGUCCCCUCCCUUCUGACCUCUGGUCGGGUACCUUUAUGCGUAAAAGGAAGUCGGAGGUUUCGUAGAAAUCCCACACUGCGGUAACACUCUACAGUGACACCGGGUCCCAAUGGUCCCUUUUGUGUAUCGACACAGAAAGAACUACCGAAGCUACGGAAAGAUUGUACAAAAACAUUCAGUUUCACGGAAAGCCUCCUUGACCGUCCCUUCGAAAACCCUUUCACUAAGUACUGGGGGAUUAGAUCAACGAACCUUCCAAGACUACGUAAAAGGAUUAAAUGUGGUGCAGGGGUAUAACGGAUAAUUUUGACUGAUAUUGGUGCAUGGGUCACGUAUACUUUAAUUAAGUUCCUUUAGGUAAAAAGGGUCCAUGUACUACUACUCCCUGACAACCGUACGUCACGGGAGGGUCUCUGGUUGCAAGUUCGUCAACCAUCUUCUGAACCUAGCUUAAGAGUGAGAGUGUUGGUUACUCCAUUCUUGAAGGAAGAUCUUCGGGGAACAGGAACCAACAGAACACUCUGUACGCAUCACAAAAUGUGUGUGUGAGGGGACAACCGACAACCAACCUCAGACACCAGAACAAAUAAGAAAAAGGUAUCCCAGUCUAUCAAGUUGAUACCCAAGGAGAGUUUAGUACUAAAAAGAGUCUUGAAGUAAAACACUCAAGACUGAGUACUUUGGUUUCUGUCUCCCUGUAGGGGCUCCGACGGAAGUCACAUCGACGACCACCUCGUCAGGCCCCAUACACCCUCUCACCCUUUCCCCUUCGUCAUAAGUGAACGUAAAACCACACGUACCCUUUUUCGAACCUAAGGACACGUUCAAACUAAGACACGAAACCAGUAAUCACCCAUUUGACUAUUACAAGCAGUAGUAAACGAACUACCUUAUGUUACUUCAAAAGAUUGUGGUCGAAGACAAUGGUGUCAUGAUAGGAUACACUAGGACAACCAUUACGAUAUACGGAACGUCGGAGAAAGAUCCACAUAUAUUUGUAUGUGACAAAAGAUGUUACUCGUUGAAUGUACUAAAAAUGUAUUUUUGUACAUGGAAAACAAUUUUAUAAAUAAAAGGGAUUUUAUAAAUACGAGAGCGGACAUUAGGGUCGUAAAACCCUUCGGCUCCUCCCGUCUAGUGGACUCCGGUCCUCAAGCUCUCGUCGGACCGGUUGUACCGCUUUGGGACAGAGAUGAUUUUUAUGUUUUUAAUCAACCUACACCACCAUACACGGACAUUAGGGUCGAUGAAUCCUCCGCUCCAUCCCCUUAGCGAACUUGGGUCCUCCACUUCAAACGUCACUGACUCUAACGCGGUGACGUGAGGUCAGACCCUCUGUCUCGUUCUGAAGUAGAGUUUUUCUUUUAUUAUUAUUAAAUACUAGGAACGGUUGUUUUAUUUGUGAGCAGACAGUGAGUGACACGUUUAAAUCGGUACAGUCACCGAGGAAGUUAUACGUCUAUCUCACGGAAAAUAUUAAUACCUUUCGUAUACGAGACUCGUCCUUUCUACUAUUUGGGUAGUUCAGAUCAGUUUAGAAUUCUAUCUCUUUAACAAUUACUUACAUAAAACUCUAUAAAUUACUCCUACGUGUUAUCACAAGAAAAUGUGUCCUUUGAUUGAGGUUUGGUACGUUAACAGAGUUGUUCUUUUUUCAAUUUCAGGGGGUUCAUAAAAUCUUCCUUUUAUUAUGUGAAUUAAAGACUAAAUCCUUUAUCAAAAUCUCACUAAAAAAUUUUUCAUUAUUAGUUUACAUCACUAUACUUCAGAAUCGAGUCGUCGAAAUAGAAUACGCAGACUGACACCGGACACGACCUAUUUCCUUCUCUAACGUGAAUUUACUUAUGUCGACUGGAAGUCUUCAACUUUCCUUUCCUUGCCAAGUUCCCCCCCUUCUUUGGUUGAAAGAAGAAGACGGUUUUAACAACAAAGAUCAUAUUCAAGGAAAUUGACAUCUGAACCUUAGAUGACUAUAGGGACAAAAAAAGGAUAGUCUAGACUUUCAAAUACCGAAGUAACUCUUUGACCCUUUUCAACCAGUCCGCGUCACCGAGUACGGACAUUAGGGUCGUGAAACCCUCCGGCUCCGUCCGCCUAGUACUCCAGUCCUCAAGGUCUGGUCGGACCGGUUGUACCACUUUGGGACAGAGAUGAUUUCUAUGUUUUUUAAUCGGCCCGCACAACCACACGUGGACAUUAGGGUCGAUGAGGCCCUCCGACUCCGUCCUCUCAGUGAACUUGGCCCCUCCGCCUCCAACGUCACUCGGCUCUAGUACGGUAACGUAAGGUCGGAACCGCUGUCUCGCUCUGAGGCAGAGUUUUUUUUUUUUUUAUUUUUAUUUUUUCUUUCUUUGGCCCUUUUCGUGAUUUCAAGAUAAAAUUACUAGAGUACAGAUACGAGUUUCACUAAAUAAAUAUAUAAAUGUACAUCUCACCCAGGCAACUAUGACUUUAAACAUAGAUCAUGGGAUUUUAUUUUUUCGUCUUACGGUAUAACAGACCACCUAUAUUUUUAGCUUCAAAGAAAGGAAGACUUUUAGUAAUGGUAUACGAGUUCUUUUUGCCAAGGUAAAUCCUGUUUUAAAGCAAAAAUAGUAACAUUCGUUUUUCAAGAGAAAACUACACCACCCGCACAAACAAAGGUCAACACACCAAUUACGACUACAACAACCUUGACUAUGUAAGGGGAAGACCCUACGACCCUACCCCUGAGAAAGAGAACGGUUGGGACCACUACUUAAUCUCCCAAAACACACACACACACACACACACACACACACACAGAAAUUUUUACAGAUCAACGGUUGUAAGGUACCCGAGAAAAGACUAUUGUGACUCCGACAAACACGACACCAGACGUGAAAAACGGGGGAGAGUCGUUUUGGUGUACAGUAUCUUAUCAACAACCGAAGACCUACACACUCGUCUUGACGGGGUGACACGGUCGGGUCACCUCCGUCUCUCUGGGUGUUCAAGGGUUAAAUCUUUCGAAAAGUAUCGAAGUCUUGUCCCCAGCCGUUGACGAAAGACAUUUCCCGGUCCCUCAUUUAUAAAAGUCGAAACGGCCGGGACACCAGAGACAACGUUGAAGCGGUGACAUCGGAGUUUCAUCGGUGUCUGUUAUACAUUUAUCUACACAAGAUCAGACAGAAGAUCAUUUUAAAAUACCUAGGACUUUAACCUUAAAAUAUAUUAACAUAUAUUUAAAAUAAGUAAAAUUAGGAUAUUCUAUAAGAAGAAGAAAACUAAAAAAAAAAGUUGGCGAAUGGUUACAAUUUCUGGUAGAAAUCGGGAGUCCGGUAUGUUUCAGCAGACACCCGUGGGUUCAGCCUCCUUCACAGUGGGACCCCACUAGGUCUCCCGAAAAACGUCGUGGUCGUGACCUACGGAACCCCUCGUUUCCUGUGAAAGACUUAGAGCUUGGAAGUUUUGAAACUUUGAAUUGGCUAUAAAAGGACUUCAAAGGAAAUUGUCACGUAAUACCUAAAUUGUAUGUACUCAUACAGAUUCGGAAAAAACUUGGACAAAUGUAAAAGUUGAGCCUCUCGAAGACUCUCAUUAGUCAAUGUAGACAAUUUAAUGGGUGACUUACUUCUUCAUAAGGGGAAGUUAAUAGGGGCUUUGAUGUUAUCAUUUUACAUUAAGUCUUUUAUUUAUAAGUAUCAGAGUUGAUGAAUUUCCCCCAGACCCCUGGGUGUUGUACAAUGGCCAAAAGUAAAACGACCCCGAGCGUAAACUUCGUUCCCGAGAUCACUCCUCCACCACAUCUGAGUCGCCCAAUAAAUCCAGGCACACUUCGGCUCAACGGACGGGUCGUGGAUAUCGAGUUGAUCCAAAAUAACAAGAGAUGGACAGUUAUCAACUAAAUACUACCUAAGGUUCUCUUUUCGAUUCCUGUCGGACCCCAUGUAGUCUGCACCAGAGUCCCUCCAGAAGCACCUUCAGUCCACCCGACCCAGAGACAAGUGGAAGAUCCCCAGAGGACAGGACAGGGUGCAGGUUAUGGGUGUAGAGUUCUCAAACACAAACUUUAUUUUGAGAAGAGAAGGGAAGAAAGUCCUUAUGAACCUGGAGUCAGUCGGAGAGCUUGGCAUAAGUGGAACAAUAGGACUGGGUUCUACUUUAUUUUGCAGAGAGAAGGGAAGAAAGUCCUUAUGAACCUGGAGUCGGUUGGAGAGCUUGUCAUAAGUGGAUCAAUGGGACUGUGUUCUUCAAGAACAAGAAGUCCUCUACUAAGACAAAAAAGAGGUCUGGGGUACGGAAUGCUUGGUACGGAAGGAGUCAUAGGUGUGUAUUUGCCGUCACAAUUUUGUACUUACUGACACAGACGGACAGGGGUUUGUCCUGUCGUGACCCUUGGAUCGAUGUGACUCGUCCCUCUGGUACGGAGGGUCUCGAACAACAGAGGUGAACAUAUAUACCUAGUCUCCUCAUUUAUUAACCUUUUCAUUAGUCGUAUACACAUUUCUAAAUAUGUCAACUUUUGAACAUUAGAAGGGGUCCUCCUCUUCUUCCAAAGACCUCGUCACCUGACGGUGUUCGGUGGUACAUUGGGGAGAGUGGACGGCACGCAUGACCGACACCUGGUCAUCCUGAGUUCCACCUGCACGCAAGACGGAAGGAACAAUUAAAACAUUAUUAACCUCUUCUAAAUACAGUCGUGUGUGAAUGUCUCGUGUUUACGUCAUAUAUCCACGACCUACAUACAUUUAUAUAAGUUUAAUACAUAUUUAUAUAUAAUAUAUAAAUGUUCCUCAAUAAAAAACAUAACUAAAAUUUACCUACAGGGUUACGUGGAUCUUUUAACCAGAGAGAAAAAAAUUAUCGAUAAACGAUUUACGACAAGAAUGUGUAUUAAAGAAUUAAAAGUGGCUCGUCUCCACCUUUUUAUGAAAACGAAAGUCCCUUUUACCAUAUUGCAAUUAAAUAAUUAUUUAACCAUUAUAUGUUUUGUUAAUUAGUAAAUAUCAAAAAAAACAUUAAAUUCACCGUAAAGAUACGUCCGUCGUGUCGUCUGAUCAAUUAGAUAACGAACCUGAAUUGAUCAAUAGUCUAGGAAACUUUUCUCUUAUAAAUGUUAUAUACUGAUUAAACCCCUUUUACUUCAAAACUAAAUAAACACAAAUUUACGACGACAGUCUGCUAACAAGAAUCUGGAGGAUUUACGGGGUAUAAUUUUCUUGAGUAAGUAUCCUUCCACAAAGUAAAACCACACGUUGGGACAGUAAUGCAGUUGCGUUGCAGAUUGACCUGAAGGGUUCUAUUUACCAUGGUCGCAGGAGAAUUUUCUACGGAAUUAGGUAAGGAACUCCUGUCUGGAAUCAACUUUACUAUCGUCUUACACGAAGAGAGACCGUCGACCGGAAGACGAAGACUCAACGUGUAAUUAGUCUAAUCGGACAUAAGAGAAGUCACUUAAAACUAUUACCGAAGGUCUGAGAAACCGCAACCUCUGCGGACAAUCCUAGAAGUUCAGGGUAGUAUCUUUUAACUUUGUGUCUCAACAAGACGACUAUCAAAACCCCUAUGCAGGUAGAAAAAUUCCCUAACGAAAGUAGAUUAAGACCGUCCUGGAGUGGUUUUCUAGGUCGGAGUAUGGAUGUAGUCUGUUUUAUAGCGGCAACAAGGAAGACAUGAUUUCAUAACACAAAACGAAACCUUUGUGGGUGAGUGAAACGUUAUCGGCACGUUCUACUUACGUCUAAUGUGACUAGAAUACACAAUGUUUUAACCUCUUUCAUAAAUUAUUUUGGACAAUUAAAAAUAUGACUGUUAUUUUUACAAAGAUGUCUAUAAUUACAAUUGUUCUGUUUUAUUUACAGUGCGUUGAAUAAAAAAAUUA\n",
            "120010\n"
          ]
        }
      ]
    },
    {
      "cell_type": "code",
      "source": [
        "# Найдем вхождение старт-кодона в последовательности мРНК и отбросим все что до старт-кодона\n",
        "str(m_rna).find('AUG')"
      ],
      "metadata": {
        "colab": {
          "base_uri": "https://localhost:8080/"
        },
        "id": "NxaX6RlbxqFv",
        "outputId": "af6f09d0-601b-419c-d436-cf29114501ff"
      },
      "execution_count": 22,
      "outputs": [
        {
          "output_type": "execute_result",
          "data": {
            "text/plain": [
              "118"
            ]
          },
          "metadata": {},
          "execution_count": 22
        }
      ]
    },
    {
      "cell_type": "code",
      "source": [
        "# Отображение последовательности по триплетам\n",
        "def show_in_triplets(seq):\n",
        "  triplets = re.sub('(.{3})', r'\\1 ', str(seq)).split(' ')\n",
        "  return triplets"
      ],
      "metadata": {
        "id": "U00NoMQux1Rm"
      },
      "execution_count": 23,
      "outputs": []
    },
    {
      "cell_type": "code",
      "source": [
        "import re"
      ],
      "metadata": {
        "id": "wV9P5_Vbx-cX"
      },
      "execution_count": 25,
      "outputs": []
    },
    {
      "cell_type": "code",
      "source": [
        "show_in_triplets(m_rna[110:125])"
      ],
      "metadata": {
        "colab": {
          "base_uri": "https://localhost:8080/"
        },
        "id": "zVY_pjOsx6R1",
        "outputId": "e5cfae0a-323a-4bb0-98e0-55cd8cf092a2"
      },
      "execution_count": 27,
      "outputs": [
        {
          "output_type": "execute_result",
          "data": {
            "text/plain": [
              "['UAC', 'GCC', 'GCA', 'UGG', 'ACC', '']"
            ]
          },
          "metadata": {},
          "execution_count": 27
        }
      ]
    },
    {
      "cell_type": "code",
      "source": [
        "m_rna_start_translation = m_rna[118::]\n",
        "m_rna_start_translation"
      ],
      "metadata": {
        "colab": {
          "base_uri": "https://localhost:8080/"
        },
        "id": "fXa_-GfCySTT",
        "outputId": "200f62bd-f00b-449a-c44f-8f9d78cd78e6"
      },
      "execution_count": 28,
      "outputs": [
        {
          "output_type": "execute_result",
          "data": {
            "text/plain": [
              "Seq('AUGGACCGGGCCGCGCCGCUGACGAGAGGCCCGACCGCCCCCGGCCGGCGCUCG...UUA')"
            ]
          },
          "metadata": {},
          "execution_count": 28
        }
      ]
    },
    {
      "cell_type": "code",
      "source": [
        "len(m_rna_start_translation)"
      ],
      "metadata": {
        "colab": {
          "base_uri": "https://localhost:8080/"
        },
        "id": "m7IuI7fCyWSq",
        "outputId": "5d7310dd-0ee2-4fe2-dc6d-aa1fb8670655"
      },
      "execution_count": 29,
      "outputs": [
        {
          "output_type": "execute_result",
          "data": {
            "text/plain": [
              "120010"
            ]
          },
          "metadata": {},
          "execution_count": 29
        }
      ]
    },
    {
      "cell_type": "markdown",
      "source": [
        "Произведем трансляцию РНК в белок."
      ],
      "metadata": {
        "id": "UDtcEOEQ36BX"
      }
    },
    {
      "cell_type": "code",
      "source": [
        "import warnings\n",
        "warnings.filterwarnings('ignore')"
      ],
      "metadata": {
        "id": "sOSkTFRIy2BH"
      },
      "execution_count": 31,
      "outputs": []
    },
    {
      "cell_type": "code",
      "source": [
        "protein = Seq(m_rna_start_translation).translate()\n",
        "protein"
      ],
      "metadata": {
        "colab": {
          "base_uri": "https://localhost:8080/"
        },
        "id": "L7Ef8QcWyih8",
        "outputId": "2063a75b-57c5-4bb3-8b65-d880e142f91a"
      },
      "execution_count": 32,
      "outputs": [
        {
          "output_type": "execute_result",
          "data": {
            "text/plain": [
              "Seq('MDRAAPLTRGPTAPGRRSGPPGLRRRTDARDSEALSARFKPPPLRFGLRKEGEQ...KKI')"
            ]
          },
          "metadata": {},
          "execution_count": 32
        }
      ]
    },
    {
      "cell_type": "code",
      "source": [
        "len(protein)"
      ],
      "metadata": {
        "colab": {
          "base_uri": "https://localhost:8080/"
        },
        "id": "8d88N4NXy536",
        "outputId": "2b41160a-abfc-4991-fa4f-4240d0536801"
      },
      "execution_count": 33,
      "outputs": [
        {
          "output_type": "execute_result",
          "data": {
            "text/plain": [
              "40003"
            ]
          },
          "metadata": {},
          "execution_count": 33
        }
      ]
    },
    {
      "cell_type": "code",
      "source": [
        "# Добавим последовательность белка в таблицу\n",
        "df['prot.seq.example'] = str(protein)"
      ],
      "metadata": {
        "id": "HBy9RSZyzagb"
      },
      "execution_count": 34,
      "outputs": []
    },
    {
      "cell_type": "code",
      "source": [
        "# Сохраняем полученную последовательность белка в файл\n",
        "record = SeqRecord(protein, id=\"FGFR2 Gene ID: 2263\", description=\"translated Human fibroblast growth factor receptor 2 protein sequence\")\n",
        "outputname = '2263_FGFR2_protein.fasta'\n",
        "SeqIO.write(record, outputname, 'fasta')"
      ],
      "metadata": {
        "colab": {
          "base_uri": "https://localhost:8080/"
        },
        "id": "Atpjh2oMzeAh",
        "outputId": "2e2a7a4a-0c15-41dc-f35f-9413088aab89"
      },
      "execution_count": 35,
      "outputs": [
        {
          "output_type": "execute_result",
          "data": {
            "text/plain": [
              "1"
            ]
          },
          "metadata": {},
          "execution_count": 35
        }
      ]
    },
    {
      "cell_type": "code",
      "source": [
        "# Получим список баз которым можно обратиться через модуль `Entrez`\n",
        "handle = Entrez.einfo()\n",
        "record = Entrez.read(handle)\n",
        "handle.close()\n",
        "record"
      ],
      "metadata": {
        "colab": {
          "base_uri": "https://localhost:8080/"
        },
        "id": "NxT3ajknzicc",
        "outputId": "08b21be5-fd61-4243-b7ed-91dfd5fc16c2"
      },
      "execution_count": 36,
      "outputs": [
        {
          "output_type": "execute_result",
          "data": {
            "text/plain": [
              "{'DbList': ['pubmed', 'protein', 'nuccore', 'ipg', 'nucleotide', 'structure', 'genome', 'annotinfo', 'assembly', 'bioproject', 'biosample', 'blastdbinfo', 'books', 'cdd', 'clinvar', 'gap', 'gapplus', 'grasp', 'dbvar', 'gene', 'gds', 'geoprofiles', 'medgen', 'mesh', 'nlmcatalog', 'omim', 'orgtrack', 'pmc', 'popset', 'proteinclusters', 'pcassay', 'protfam', 'pccompound', 'pcsubstance', 'seqannot', 'snp', 'sra', 'taxonomy', 'biocollections', 'gtr']}"
            ]
          },
          "metadata": {},
          "execution_count": 36
        }
      ]
    },
    {
      "cell_type": "code",
      "source": [
        "# Получаем список транскрипций по имени гена из базы `nuccore`\n",
        "handle = Entrez.esearch(db=\"nuccore\",\n",
        "                        term='FGFR2[Gene Name] AND \"homo sapiens\"[Organism] AND RefSeq[Keyword]',\n",
        "                        # usehistory=\"y\",\n",
        "                        retmax=30)\n",
        "record = Entrez.read(handle)\n",
        "handle.close()\n",
        "record"
      ],
      "metadata": {
        "colab": {
          "base_uri": "https://localhost:8080/"
        },
        "id": "BpigS7Juzmic",
        "outputId": "d22ecae2-c7a0-494c-e4b0-3c2638253d7e"
      },
      "execution_count": 37,
      "outputs": [
        {
          "output_type": "execute_result",
          "data": {
            "text/plain": [
              "{'Count': '38', 'RetMax': '30', 'RetStart': '0', 'IdList': ['1890284386', '1889443442', '1771805607', '1677501539', '394025691', '222144230', '2324154561', '1701948118', '1889498142', '1677539445', '1677531698', '1677529853', '222144232', '1004170713', '568815588', '2194973501', '2462517776', '2462517774', '2462517772', '2462517770', '2462517768', '2462517766', '2462517764', '2462517762', '2462517760', '2462517758', '2462517756', '2217276108', '2217276107', '2217276106'], 'TranslationSet': [{'From': '\"homo sapiens\"[Organism]', 'To': '\"Homo sapiens\"[Organism]'}], 'TranslationStack': [{'Term': 'FGFR2[Gene Name]', 'Field': 'Gene Name', 'Count': '5815', 'Explode': 'N'}, {'Term': '\"Homo sapiens\"[Organism]', 'Field': 'Organism', 'Count': '28552463', 'Explode': 'Y'}, 'AND', {'Term': 'RefSeq[Keyword]', 'Field': 'Keyword', 'Count': '112048652', 'Explode': 'N'}, 'AND'], 'QueryTranslation': 'FGFR2[Gene Name] AND \"Homo sapiens\"[Organism] AND RefSeq[Keyword]'}"
            ]
          },
          "metadata": {},
          "execution_count": 37
        }
      ]
    },
    {
      "cell_type": "code",
      "source": [
        "transcript_id_list = record['IdList']\n",
        "transcript_id_list"
      ],
      "metadata": {
        "colab": {
          "base_uri": "https://localhost:8080/"
        },
        "id": "oy78eNjNzot4",
        "outputId": "ff143f6b-1162-4c13-beb4-be17e540581e"
      },
      "execution_count": 38,
      "outputs": [
        {
          "output_type": "execute_result",
          "data": {
            "text/plain": [
              "['1890284386', '1889443442', '1771805607', '1677501539', '394025691', '222144230', '2324154561', '1701948118', '1889498142', '1677539445', '1677531698', '1677529853', '222144232', '1004170713', '568815588', '2194973501', '2462517776', '2462517774', '2462517772', '2462517770', '2462517768', '2462517766', '2462517764', '2462517762', '2462517760', '2462517758', '2462517756', '2217276108', '2217276107', '2217276106']"
            ]
          },
          "metadata": {},
          "execution_count": 38
        }
      ]
    },
    {
      "cell_type": "code",
      "source": [
        "# Выгрузим информацию обо всех транскрипциях гена из `transcript_id_list`\n",
        "def get_transcriptions_info(transcript_id_list):\n",
        "  transcript_info = []\n",
        "  for i in transcript_id_list:\n",
        "    handle = Entrez.efetch(db=\"nuccore\",\n",
        "                           id=i,\n",
        "                           rettype = 'gb',\n",
        "                           retmode = 'text')\n",
        "    info = SeqIO.read(handle, 'gb')\n",
        "    if str(info.name).find('NC') and str(info.name).find('NG'):\n",
        "      transcript_info.append({'id':info.id, 'name':info.name, 'seq':info.seq, 'description':info.description})\n",
        "    # print(info.name)\n",
        "    # print(info.seq)\n",
        "  return transcript_info"
      ],
      "metadata": {
        "id": "7Z2fG19vzsg6"
      },
      "execution_count": 39,
      "outputs": []
    },
    {
      "cell_type": "code",
      "source": [
        "transcriptions_list = get_transcriptions_info(transcript_id_list)"
      ],
      "metadata": {
        "id": "QUNExcLhzvsu"
      },
      "execution_count": 40,
      "outputs": []
    },
    {
      "cell_type": "code",
      "source": [
        "for transcript in transcriptions_list:\n",
        "  print(transcript)"
      ],
      "metadata": {
        "colab": {
          "base_uri": "https://localhost:8080/"
        },
        "id": "uXfMdKMfz6Ne",
        "outputId": "f5158084-22b3-44f1-e121-9ae27cb11530"
      },
      "execution_count": 41,
      "outputs": [
        {
          "output_type": "stream",
          "name": "stdout",
          "text": [
            "{'id': 'NM_001320654.2', 'name': 'NM_001320654', 'seq': Seq('ACAGACTCTCCCGCAGAACTGACCCCAGCAAGAAGCCTTTGGGAGCAGTAGAGA...TAA'), 'description': 'Homo sapiens fibroblast growth factor receptor 2 (FGFR2), transcript variant 15, mRNA'}\n",
            "{'id': 'NM_001144916.2', 'name': 'NM_001144916', 'seq': Seq('GAGCACACATTGCCTCACTGAAGTGGCTGCACGTATCTGAGTCCTGTAGCTACT...TAA'), 'description': 'Homo sapiens fibroblast growth factor receptor 2 (FGFR2), transcript variant 6, mRNA'}\n",
            "{'id': 'NM_000141.5', 'name': 'NM_000141', 'seq': Seq('GAGAGCGCGGTGGAGAGCCGAGCGGGCGGGCGGCGGGTGCGGAGCGGGCGAGGG...TAA'), 'description': 'Homo sapiens fibroblast growth factor receptor 2 (FGFR2), transcript variant 1, mRNA'}\n",
            "{'id': 'NM_001144919.2', 'name': 'NM_001144919', 'seq': Seq('GAGAGCGCGGTGGAGAGCCGAGCGGGCGGGCGGCGGGTGCGGAGCGGGCGAGGG...AAA'), 'description': 'Homo sapiens fibroblast growth factor receptor 2 (FGFR2), transcript variant 9, mRNA'}\n",
            "{'id': 'NM_023029.2', 'name': 'NM_023029', 'seq': Seq('TGACTGCAGCAGCAGCGGCAGCGCCTCGGTTCCTGAGCCCACCGCAGGCTGAAG...AAA'), 'description': 'Homo sapiens fibroblast growth factor receptor 2 (FGFR2), transcript variant 11, mRNA'}\n",
            "{'id': 'NM_001144913.1', 'name': 'NM_001144913', 'seq': Seq('TGACTGCAGCAGCAGCGGCAGCGCCTCGGTTCCTGAGCCCACCGCAGGCTGAAG...AAA'), 'description': 'Homo sapiens fibroblast growth factor receptor 2 (FGFR2), transcript variant 3, mRNA'}\n",
            "{'id': 'NM_022970.4', 'name': 'NM_022970', 'seq': Seq('GAGAGCGCGGTGGAGAGCCGAGCGGGCGGGCGGCGGGTGCGGAGCGGGCGAGGG...TAA'), 'description': 'Homo sapiens fibroblast growth factor receptor 2 (FGFR2), transcript variant 2, mRNA'}\n",
            "{'id': 'NR_073009.2', 'name': 'NR_073009', 'seq': Seq('GAGAGCGCGGTGGAGAGCCGAGCGGGCGGGCGGCGGGTGCGGAGCGGGCGAGGG...TAA'), 'description': 'Homo sapiens fibroblast growth factor receptor 2 (FGFR2), transcript variant 14, non-coding RNA'}\n",
            "{'id': 'NM_001144915.2', 'name': 'NM_001144915', 'seq': Seq('AATTTGTTGAGGAATTTCCCCCTAGCCTTGACCCCTTGACAGCTCCCGCTCCTA...TAA'), 'description': 'Homo sapiens fibroblast growth factor receptor 2 (FGFR2), transcript variant 5, mRNA'}\n",
            "{'id': 'NM_001144918.2', 'name': 'NM_001144918', 'seq': Seq('GAGAGCGCGGTGGAGAGCCGAGCGGGCGGGCGGCGGGTGCGGAGCGGGCGAGGG...TAA'), 'description': 'Homo sapiens fibroblast growth factor receptor 2 (FGFR2), transcript variant 8, mRNA'}\n",
            "{'id': 'NM_001144917.2', 'name': 'NM_001144917', 'seq': Seq('GAGAGCGCGGTGGAGAGCCGAGCGGGCGGGCGGCGGGTGCGGAGCGGGCGAGGG...TAA'), 'description': 'Homo sapiens fibroblast growth factor receptor 2 (FGFR2), transcript variant 7, mRNA'}\n",
            "{'id': 'NM_001320658.2', 'name': 'NM_001320658', 'seq': Seq('GAGAGCGCGGTGGAGAGCCGAGCGGGCGGGCGGCGGGTGCGGAGCGGGCGAGGG...TAA'), 'description': 'Homo sapiens fibroblast growth factor receptor 2 (FGFR2), transcript variant 16, mRNA'}\n",
            "{'id': 'NM_001144914.1', 'name': 'NM_001144914', 'seq': Seq('TGACTGCAGCAGCAGCGGCAGCGCCTCGGTTCCTGAGCCCACCGCAGGCTGAAG...AAA'), 'description': 'Homo sapiens fibroblast growth factor receptor 2 (FGFR2), transcript variant 4, mRNA'}\n",
            "{'id': 'XM_054365174.1', 'name': 'XM_054365174', 'seq': Seq('GGCGGCGGCTGGAGGAGAGCGCGGTGGAGAGCCGAGCGGGCGGGCGGCGGGTGC...TAA'), 'description': 'PREDICTED: Homo sapiens fibroblast growth factor receptor 2 (FGFR2), transcript variant X11, mRNA'}\n",
            "{'id': 'XM_054365173.1', 'name': 'XM_054365173', 'seq': Seq('GGCGGCGGCTGGAGGAGAGCGCGGTGGAGAGCCGAGCGGGCGGGCGGCGGGTGC...ATA'), 'description': 'PREDICTED: Homo sapiens fibroblast growth factor receptor 2 (FGFR2), transcript variant X10, mRNA'}\n",
            "{'id': 'XM_054365172.1', 'name': 'XM_054365172', 'seq': Seq('GGCGGCGGCTGGAGGAGAGCGCGGTGGAGAGCCGAGCGGGCGGGCGGCGGGTGC...ATA'), 'description': 'PREDICTED: Homo sapiens fibroblast growth factor receptor 2 (FGFR2), transcript variant X9, mRNA'}\n",
            "{'id': 'XM_054365171.1', 'name': 'XM_054365171', 'seq': Seq('GGCGGCGGCTGGAGGAGAGCGCGGTGGAGAGCCGAGCGGGCGGGCGGCGGGTGC...ATA'), 'description': 'PREDICTED: Homo sapiens fibroblast growth factor receptor 2 (FGFR2), transcript variant X8, mRNA'}\n",
            "{'id': 'XM_054365170.1', 'name': 'XM_054365170', 'seq': Seq('GGCGGCGGCTGGAGGAGAGCGCGGTGGAGAGCCGAGCGGGCGGGCGGCGGGTGC...ATA'), 'description': 'PREDICTED: Homo sapiens fibroblast growth factor receptor 2 (FGFR2), transcript variant X7, mRNA'}\n",
            "{'id': 'XM_054365169.1', 'name': 'XM_054365169', 'seq': Seq('GGCGGCGGCTGGAGGAGAGCGCGGTGGAGAGCCGAGCGGGCGGGCGGCGGGTGC...ATA'), 'description': 'PREDICTED: Homo sapiens fibroblast growth factor receptor 2 (FGFR2), transcript variant X6, mRNA'}\n",
            "{'id': 'XM_054365168.1', 'name': 'XM_054365168', 'seq': Seq('GGCGGCGGCTGGAGGAGAGCGCGGTGGAGAGCCGAGCGGGCGGGCGGCGGGTGC...ATA'), 'description': 'PREDICTED: Homo sapiens fibroblast growth factor receptor 2 (FGFR2), transcript variant X5, mRNA'}\n",
            "{'id': 'XM_054365167.1', 'name': 'XM_054365167', 'seq': Seq('GGCGGCGGCTGGAGGAGAGCGCGGTGGAGAGCCGAGCGGGCGGGCGGCGGGTGC...TAA'), 'description': 'PREDICTED: Homo sapiens fibroblast growth factor receptor 2 (FGFR2), transcript variant X4, mRNA'}\n",
            "{'id': 'XM_054365166.1', 'name': 'XM_054365166', 'seq': Seq('GGCGGCGGCTGGAGGAGAGCGCGGTGGAGAGCCGAGCGGGCGGGCGGCGGGTGC...TAA'), 'description': 'PREDICTED: Homo sapiens fibroblast growth factor receptor 2 (FGFR2), transcript variant X3, mRNA'}\n",
            "{'id': 'XM_054365165.1', 'name': 'XM_054365165', 'seq': Seq('GGCGGCGGCTGGAGGAGAGCGCGGTGGAGAGCCGAGCGGGCGGGCGGCGGGTGC...TAA'), 'description': 'PREDICTED: Homo sapiens fibroblast growth factor receptor 2 (FGFR2), transcript variant X2, mRNA'}\n",
            "{'id': 'XM_054365164.1', 'name': 'XM_054365164', 'seq': Seq('GGCGGCGGCTGGAGGAGAGCGCGGTGGAGAGCCGAGCGGGCGGGCGGCGGGTGC...ATA'), 'description': 'PREDICTED: Homo sapiens fibroblast growth factor receptor 2 (FGFR2), transcript variant X1, mRNA'}\n",
            "{'id': 'XM_017015925.3', 'name': 'XM_017015925', 'seq': Seq('GGCGGCGGCTGGAGGAGAGCGCGGTGGAGAGCCGAGCGGGCGGGCGGCGGGTGC...TAA'), 'description': 'PREDICTED: Homo sapiens fibroblast growth factor receptor 2 (FGFR2), transcript variant X11, mRNA'}\n",
            "{'id': 'XM_017015924.3', 'name': 'XM_017015924', 'seq': Seq('GGCGGCGGCTGGAGGAGAGCGCGGTGGAGAGCCGAGCGGGCGGGCGGCGGGTGC...ATA'), 'description': 'PREDICTED: Homo sapiens fibroblast growth factor receptor 2 (FGFR2), transcript variant X10, mRNA'}\n",
            "{'id': 'XM_024447891.2', 'name': 'XM_024447891', 'seq': Seq('GGCGGCGGCTGGAGGAGAGCGCGGTGGAGAGCCGAGCGGGCGGGCGGCGGGTGC...ATA'), 'description': 'PREDICTED: Homo sapiens fibroblast growth factor receptor 2 (FGFR2), transcript variant X9, mRNA'}\n"
          ]
        }
      ]
    },
    {
      "cell_type": "code",
      "source": [
        "# Находим самую длинную транскрипцию\n",
        "def find_longest_transcript(transcriptions_list):\n",
        "  max = 0\n",
        "  for i in transcriptions_list:\n",
        "    if len(i.get('seq')) > max:\n",
        "      max = len(i.get('seq'))\n",
        "  return max, i.get('name'), i.get('seq'), i.get('description')"
      ],
      "metadata": {
        "id": "4CU8tFXr0Cj4"
      },
      "execution_count": 42,
      "outputs": []
    },
    {
      "cell_type": "code",
      "source": [
        "longest_transcript = find_longest_transcript(transcriptions_list)\n",
        "longest_transcript"
      ],
      "metadata": {
        "colab": {
          "base_uri": "https://localhost:8080/"
        },
        "id": "EG4oK28M0D_o",
        "outputId": "c034d9f6-390b-48d6-b85a-04976cacceba"
      },
      "execution_count": 43,
      "outputs": [
        {
          "output_type": "execute_result",
          "data": {
            "text/plain": [
              "(4733,\n",
              " 'XM_024447891',\n",
              " Seq('GGCGGCGGCTGGAGGAGAGCGCGGTGGAGAGCCGAGCGGGCGGGCGGCGGGTGC...ATA'),\n",
              " 'PREDICTED: Homo sapiens fibroblast growth factor receptor 2 (FGFR2), transcript variant X9, mRNA')"
            ]
          },
          "metadata": {},
          "execution_count": 43
        }
      ]
    },
    {
      "cell_type": "code",
      "source": [
        "longest_transcript[2].transcribe().translate()"
      ],
      "metadata": {
        "colab": {
          "base_uri": "https://localhost:8080/"
        },
        "id": "3MhgAZMe0Hzq",
        "outputId": "c5b65233-079a-4b17-9369-f3465cdc5caa"
      },
      "execution_count": 44,
      "outputs": [
        {
          "output_type": "execute_result",
          "data": {
            "text/plain": [
              "Seq('GGGWRRARWRAERAGGGCGAGEGARAAATKLGRRGAACGVPGPARRLLSGLAGA...FF*')"
            ]
          },
          "metadata": {},
          "execution_count": 44
        }
      ]
    },
    {
      "cell_type": "code",
      "source": [
        "# Переведем нуклеотидную последовательность самой длинной транскрипции в белок\n",
        "long_trans_protein = longest_transcript[2].transcribe().translate()\n",
        "long_trans_protein"
      ],
      "metadata": {
        "colab": {
          "base_uri": "https://localhost:8080/"
        },
        "id": "VzZJnHBT0LN_",
        "outputId": "b9f0e8b1-4367-463e-b39a-1902f97c600e"
      },
      "execution_count": 45,
      "outputs": [
        {
          "output_type": "execute_result",
          "data": {
            "text/plain": [
              "Seq('GGGWRRARWRAERAGGGCGAGEGARAAATKLGRRGAACGVPGPARRLLSGLAGA...FF*')"
            ]
          },
          "metadata": {},
          "execution_count": 45
        }
      ]
    },
    {
      "cell_type": "code",
      "source": [
        "# Добавим сведения о транскрипциях в таблицу\n",
        "df['gr_acid_num'] = len(long_trans_protein)\n",
        "df['num_of_transcripts'] = len(transcriptions_list)\n",
        "df.T"
      ],
      "metadata": {
        "colab": {
          "base_uri": "https://localhost:8080/",
          "height": 426
        },
        "id": "c6MlZ2XS0QGQ",
        "outputId": "9fd7a19d-0a15-426d-df09-747c3ad04ed8"
      },
      "execution_count": 47,
      "outputs": [
        {
          "output_type": "execute_result",
          "data": {
            "text/plain": [
              "                                                                    0\n",
              "gene_name                                                       FGFR2\n",
              "gene_id                                                          2263\n",
              "interval_from                                               121478330\n",
              "interval_to                                                 121598458\n",
              "gi_id                                                       568815588\n",
              "nucleotide                                               NC_000010.11\n",
              "strand                                                          minus\n",
              "accession                                                   NC_000010\n",
              "version                                                            11\n",
              "prot.seq.example    MDRAAPLTRGPTAPGRRSGPPGLRRRTDARDSEALSARFKPPPLRF...\n",
              "gr_acid_num                                                      1432\n",
              "num_of_transcripts                                                 27"
            ],
            "text/html": [
              "\n",
              "  <div id=\"df-67d9bfcb-e9f8-46c8-93bb-18789108e0f7\" class=\"colab-df-container\">\n",
              "    <div>\n",
              "<style scoped>\n",
              "    .dataframe tbody tr th:only-of-type {\n",
              "        vertical-align: middle;\n",
              "    }\n",
              "\n",
              "    .dataframe tbody tr th {\n",
              "        vertical-align: top;\n",
              "    }\n",
              "\n",
              "    .dataframe thead th {\n",
              "        text-align: right;\n",
              "    }\n",
              "</style>\n",
              "<table border=\"1\" class=\"dataframe\">\n",
              "  <thead>\n",
              "    <tr style=\"text-align: right;\">\n",
              "      <th></th>\n",
              "      <th>0</th>\n",
              "    </tr>\n",
              "  </thead>\n",
              "  <tbody>\n",
              "    <tr>\n",
              "      <th>gene_name</th>\n",
              "      <td>FGFR2</td>\n",
              "    </tr>\n",
              "    <tr>\n",
              "      <th>gene_id</th>\n",
              "      <td>2263</td>\n",
              "    </tr>\n",
              "    <tr>\n",
              "      <th>interval_from</th>\n",
              "      <td>121478330</td>\n",
              "    </tr>\n",
              "    <tr>\n",
              "      <th>interval_to</th>\n",
              "      <td>121598458</td>\n",
              "    </tr>\n",
              "    <tr>\n",
              "      <th>gi_id</th>\n",
              "      <td>568815588</td>\n",
              "    </tr>\n",
              "    <tr>\n",
              "      <th>nucleotide</th>\n",
              "      <td>NC_000010.11</td>\n",
              "    </tr>\n",
              "    <tr>\n",
              "      <th>strand</th>\n",
              "      <td>minus</td>\n",
              "    </tr>\n",
              "    <tr>\n",
              "      <th>accession</th>\n",
              "      <td>NC_000010</td>\n",
              "    </tr>\n",
              "    <tr>\n",
              "      <th>version</th>\n",
              "      <td>11</td>\n",
              "    </tr>\n",
              "    <tr>\n",
              "      <th>prot.seq.example</th>\n",
              "      <td>MDRAAPLTRGPTAPGRRSGPPGLRRRTDARDSEALSARFKPPPLRF...</td>\n",
              "    </tr>\n",
              "    <tr>\n",
              "      <th>gr_acid_num</th>\n",
              "      <td>1432</td>\n",
              "    </tr>\n",
              "    <tr>\n",
              "      <th>num_of_transcripts</th>\n",
              "      <td>27</td>\n",
              "    </tr>\n",
              "  </tbody>\n",
              "</table>\n",
              "</div>\n",
              "    <div class=\"colab-df-buttons\">\n",
              "\n",
              "  <div class=\"colab-df-container\">\n",
              "    <button class=\"colab-df-convert\" onclick=\"convertToInteractive('df-67d9bfcb-e9f8-46c8-93bb-18789108e0f7')\"\n",
              "            title=\"Convert this dataframe to an interactive table.\"\n",
              "            style=\"display:none;\">\n",
              "\n",
              "  <svg xmlns=\"http://www.w3.org/2000/svg\" height=\"24px\" viewBox=\"0 -960 960 960\">\n",
              "    <path d=\"M120-120v-720h720v720H120Zm60-500h600v-160H180v160Zm220 220h160v-160H400v160Zm0 220h160v-160H400v160ZM180-400h160v-160H180v160Zm440 0h160v-160H620v160ZM180-180h160v-160H180v160Zm440 0h160v-160H620v160Z\"/>\n",
              "  </svg>\n",
              "    </button>\n",
              "\n",
              "  <style>\n",
              "    .colab-df-container {\n",
              "      display:flex;\n",
              "      gap: 12px;\n",
              "    }\n",
              "\n",
              "    .colab-df-convert {\n",
              "      background-color: #E8F0FE;\n",
              "      border: none;\n",
              "      border-radius: 50%;\n",
              "      cursor: pointer;\n",
              "      display: none;\n",
              "      fill: #1967D2;\n",
              "      height: 32px;\n",
              "      padding: 0 0 0 0;\n",
              "      width: 32px;\n",
              "    }\n",
              "\n",
              "    .colab-df-convert:hover {\n",
              "      background-color: #E2EBFA;\n",
              "      box-shadow: 0px 1px 2px rgba(60, 64, 67, 0.3), 0px 1px 3px 1px rgba(60, 64, 67, 0.15);\n",
              "      fill: #174EA6;\n",
              "    }\n",
              "\n",
              "    .colab-df-buttons div {\n",
              "      margin-bottom: 4px;\n",
              "    }\n",
              "\n",
              "    [theme=dark] .colab-df-convert {\n",
              "      background-color: #3B4455;\n",
              "      fill: #D2E3FC;\n",
              "    }\n",
              "\n",
              "    [theme=dark] .colab-df-convert:hover {\n",
              "      background-color: #434B5C;\n",
              "      box-shadow: 0px 1px 3px 1px rgba(0, 0, 0, 0.15);\n",
              "      filter: drop-shadow(0px 1px 2px rgba(0, 0, 0, 0.3));\n",
              "      fill: #FFFFFF;\n",
              "    }\n",
              "  </style>\n",
              "\n",
              "    <script>\n",
              "      const buttonEl =\n",
              "        document.querySelector('#df-67d9bfcb-e9f8-46c8-93bb-18789108e0f7 button.colab-df-convert');\n",
              "      buttonEl.style.display =\n",
              "        google.colab.kernel.accessAllowed ? 'block' : 'none';\n",
              "\n",
              "      async function convertToInteractive(key) {\n",
              "        const element = document.querySelector('#df-67d9bfcb-e9f8-46c8-93bb-18789108e0f7');\n",
              "        const dataTable =\n",
              "          await google.colab.kernel.invokeFunction('convertToInteractive',\n",
              "                                                    [key], {});\n",
              "        if (!dataTable) return;\n",
              "\n",
              "        const docLinkHtml = 'Like what you see? Visit the ' +\n",
              "          '<a target=\"_blank\" href=https://colab.research.google.com/notebooks/data_table.ipynb>data table notebook</a>'\n",
              "          + ' to learn more about interactive tables.';\n",
              "        element.innerHTML = '';\n",
              "        dataTable['output_type'] = 'display_data';\n",
              "        await google.colab.output.renderOutput(dataTable, element);\n",
              "        const docLink = document.createElement('div');\n",
              "        docLink.innerHTML = docLinkHtml;\n",
              "        element.appendChild(docLink);\n",
              "      }\n",
              "    </script>\n",
              "  </div>\n",
              "\n",
              "\n",
              "<div id=\"df-7be8bc89-a156-4d41-b3e2-d515c19b18db\">\n",
              "  <button class=\"colab-df-quickchart\" onclick=\"quickchart('df-7be8bc89-a156-4d41-b3e2-d515c19b18db')\"\n",
              "            title=\"Suggest charts\"\n",
              "            style=\"display:none;\">\n",
              "\n",
              "<svg xmlns=\"http://www.w3.org/2000/svg\" height=\"24px\"viewBox=\"0 0 24 24\"\n",
              "     width=\"24px\">\n",
              "    <g>\n",
              "        <path d=\"M19 3H5c-1.1 0-2 .9-2 2v14c0 1.1.9 2 2 2h14c1.1 0 2-.9 2-2V5c0-1.1-.9-2-2-2zM9 17H7v-7h2v7zm4 0h-2V7h2v10zm4 0h-2v-4h2v4z\"/>\n",
              "    </g>\n",
              "</svg>\n",
              "  </button>\n",
              "\n",
              "<style>\n",
              "  .colab-df-quickchart {\n",
              "      --bg-color: #E8F0FE;\n",
              "      --fill-color: #1967D2;\n",
              "      --hover-bg-color: #E2EBFA;\n",
              "      --hover-fill-color: #174EA6;\n",
              "      --disabled-fill-color: #AAA;\n",
              "      --disabled-bg-color: #DDD;\n",
              "  }\n",
              "\n",
              "  [theme=dark] .colab-df-quickchart {\n",
              "      --bg-color: #3B4455;\n",
              "      --fill-color: #D2E3FC;\n",
              "      --hover-bg-color: #434B5C;\n",
              "      --hover-fill-color: #FFFFFF;\n",
              "      --disabled-bg-color: #3B4455;\n",
              "      --disabled-fill-color: #666;\n",
              "  }\n",
              "\n",
              "  .colab-df-quickchart {\n",
              "    background-color: var(--bg-color);\n",
              "    border: none;\n",
              "    border-radius: 50%;\n",
              "    cursor: pointer;\n",
              "    display: none;\n",
              "    fill: var(--fill-color);\n",
              "    height: 32px;\n",
              "    padding: 0;\n",
              "    width: 32px;\n",
              "  }\n",
              "\n",
              "  .colab-df-quickchart:hover {\n",
              "    background-color: var(--hover-bg-color);\n",
              "    box-shadow: 0 1px 2px rgba(60, 64, 67, 0.3), 0 1px 3px 1px rgba(60, 64, 67, 0.15);\n",
              "    fill: var(--button-hover-fill-color);\n",
              "  }\n",
              "\n",
              "  .colab-df-quickchart-complete:disabled,\n",
              "  .colab-df-quickchart-complete:disabled:hover {\n",
              "    background-color: var(--disabled-bg-color);\n",
              "    fill: var(--disabled-fill-color);\n",
              "    box-shadow: none;\n",
              "  }\n",
              "\n",
              "  .colab-df-spinner {\n",
              "    border: 2px solid var(--fill-color);\n",
              "    border-color: transparent;\n",
              "    border-bottom-color: var(--fill-color);\n",
              "    animation:\n",
              "      spin 1s steps(1) infinite;\n",
              "  }\n",
              "\n",
              "  @keyframes spin {\n",
              "    0% {\n",
              "      border-color: transparent;\n",
              "      border-bottom-color: var(--fill-color);\n",
              "      border-left-color: var(--fill-color);\n",
              "    }\n",
              "    20% {\n",
              "      border-color: transparent;\n",
              "      border-left-color: var(--fill-color);\n",
              "      border-top-color: var(--fill-color);\n",
              "    }\n",
              "    30% {\n",
              "      border-color: transparent;\n",
              "      border-left-color: var(--fill-color);\n",
              "      border-top-color: var(--fill-color);\n",
              "      border-right-color: var(--fill-color);\n",
              "    }\n",
              "    40% {\n",
              "      border-color: transparent;\n",
              "      border-right-color: var(--fill-color);\n",
              "      border-top-color: var(--fill-color);\n",
              "    }\n",
              "    60% {\n",
              "      border-color: transparent;\n",
              "      border-right-color: var(--fill-color);\n",
              "    }\n",
              "    80% {\n",
              "      border-color: transparent;\n",
              "      border-right-color: var(--fill-color);\n",
              "      border-bottom-color: var(--fill-color);\n",
              "    }\n",
              "    90% {\n",
              "      border-color: transparent;\n",
              "      border-bottom-color: var(--fill-color);\n",
              "    }\n",
              "  }\n",
              "</style>\n",
              "\n",
              "  <script>\n",
              "    async function quickchart(key) {\n",
              "      const quickchartButtonEl =\n",
              "        document.querySelector('#' + key + ' button');\n",
              "      quickchartButtonEl.disabled = true;  // To prevent multiple clicks.\n",
              "      quickchartButtonEl.classList.add('colab-df-spinner');\n",
              "      try {\n",
              "        const charts = await google.colab.kernel.invokeFunction(\n",
              "            'suggestCharts', [key], {});\n",
              "      } catch (error) {\n",
              "        console.error('Error during call to suggestCharts:', error);\n",
              "      }\n",
              "      quickchartButtonEl.classList.remove('colab-df-spinner');\n",
              "      quickchartButtonEl.classList.add('colab-df-quickchart-complete');\n",
              "    }\n",
              "    (() => {\n",
              "      let quickchartButtonEl =\n",
              "        document.querySelector('#df-7be8bc89-a156-4d41-b3e2-d515c19b18db button');\n",
              "      quickchartButtonEl.style.display =\n",
              "        google.colab.kernel.accessAllowed ? 'block' : 'none';\n",
              "    })();\n",
              "  </script>\n",
              "</div>\n",
              "    </div>\n",
              "  </div>\n"
            ],
            "application/vnd.google.colaboratory.intrinsic+json": {
              "type": "dataframe",
              "summary": "{\n  \"name\": \"df\",\n  \"rows\": 12,\n  \"fields\": [\n    {\n      \"column\": 0,\n      \"properties\": {\n        \"dtype\": \"string\",\n        \"num_unique_values\": 12,\n        \"samples\": [\n          1432,\n          \"MDRAAPLTRGPTAPGRRSGPPGLRRRTDARDSEALSARFKPPPLRFGLRKEGEQGV*APVGRPQYGREEASDPMRTSGPPNRGRFWVPGEKTQTSTRGVGARAAKEVGLGAPRAPVVSSASSQR*VPLAARSAEPLEAVGPCTRGALGPCGPRGRRPAPRAFLIVTPPARHRRETPTYPLPPPPTHDCRPQDLQDGDDGGRSTTVDEDRNCGGRDSLGPPA*GRLTRAKRLGSRLPAFQADGHRVGASGQGPQ*RLHGVGTQDP*RHGRSGTPLGKKPSPGDPTPATVGHPHRYRSPP*RPLRCRGHGPAGSGRRRQPRPPSRHADPDPPLDLAEKDQADGRDGVADPLQLSRPLKIERASKKSRCPGATPFFGSRDAPRPRLGAPGAWTASSGRAPGGRRQREERGARERLARGLGGRKEG*VILDGNFRLDESLSPVGNTQTTLCDSCKF*GNRGTRV*GHLEGGPS*VKVDFSDKSNLSFR*SAGREKGTLQLILRLKRLEKSRGSSPSFCPIKSVCLLSSRRDFPPPPPLVGVRRAFKTNLRS*FGPPETPGPSHTQKTLKLNNSLKGDRNWGTVEGEDESRPLFIPPEFASLPRRETSSACDN*KDYTLDGSLFCGPLGSPARSSPV*WGIHLRVSPPVT*PDGRTSRPQNPYSTI*LLGSCPDRTPGEASVREGRTVRRTETPVRTRLHFYLAPRPPALLGR*SPSHC*GGRTSDSSLKGKFPFLFVRPRK*PRV*GPS*YHNFRPSALTPAVAVRPGHKGCGSDPWINRTDPPAWYENR*PHSLTRLDSGIQRRKVSKPLPRRHPKPGPLPTLRLKITVDRPTTLPNSKSPRGTGGKRRTSVPPRRPVPVHPLVRPLPRTPLWRRS*ILTRTSAQSPSFKGT*DVYESFSYSYKHMKGGCTYIFI*ALIEDSEN*FSFLFNSPF*KVR*TFVYVCGTCVCGTCVCVARMCVWYVRVCGTCVCV*RVYEKNENDT*CGKVDTIETSSPKEIRRKPLLHRIRKGRR*KQESVSIFLVKNTTLNPSEVVTTLGYCIELCSSPMYFLHLKSLKT*FPEGRWGSESFTPSKDTKCLRLRTLTTRGRTLTKLVRDFKHVK*HGNQCLS*LT*ISTNLI*FERTF*EKGNLVYPLVL*FNSQEKIEYETFKSVIQTYTFQ*PG*CMVLILNVLNVVVIII*GRNK*S*T*TSQRSGKMSPTSVNRRDLTVNQCPLPLSPKLQEKPSRRNLRDVNTSEKHSPTNRLLTFCEEVNFYLGLFTFDHP*KTSEGP*EN*NDQRKEGFSLSLPPSDEWRSGRLYASTLV*GGCQIERFRVNLILFPCSNQYGWARKN*TKTSTGTLIPVQRRRVTPATSAITYHLLSCVTE*LHRRA*TQDIDDKIETKNFHTKIFLIGVCKDTWPDHHSGP*DSTPTFLNRLLLFLETNACKLSDFLPK*GEPDLTKP*PLLRD*AVRERKSLTSSSPSRSQGLGWRPTSVTRIRYGHLLHTSTLIAGVPLYLLLAPNHGIGTSRPQQSRRTSTSGTVGTGTGPGGSQINSYGVISVFHSVN*SEKSKQNPKQTPV*QFRTKS*SMGT*HLPRRFSWSSTREPRAVPSRLLSSRKRRRDVRPTISNHQRTTHTKRHDPLPLSTLNRK*VTGSLDTFPTWNPPTYSRDQRGS**G*RMLHFLTIKACSTW*FSLTVVDFTTVE*K*QIPLFFKDFKSCLSLRTVES*KKIGNIKYYEFVT**CLTV*DQIHLNFHLHGPLEEVEALGGS*CPVRGHSVETFKLKVPHSG*CS*CTPT**VESSKPWREGRETSVALGSEMNHDVTLDSSHPL*PSTQ*KAHH*ALILPSRVVSSGELLGQTPLRWTTDGPKSLGVVRLTTDPIRLDETLV*STHPTYLSCEWVTPSDPLLSLGSEEST*SCQILPPNAGRLYSQDSLYPRGPSGVREQ*LPTPGFVNSGLR*HTLTP*KAMCLPTVEILIVHTTVEGRRDPSLRPSSNTDSEHIDVDVRLIP*RRTTKHDPVVLLTLNVTTT*KCPESTFSLFQGPKTFSTDMQKLKRLLILPTKALTTKRELTHRAVFDSFDSTLKDATPEILVGSNPFLTVKSKTEKSRRNNTQIKLYFTFYQGLLNKMT*IKNFLQILTHMYVPPCPLRLPSLAPFPASRGSLRNTFLNVGCYTHNNLRPDELDPRHLREYLVLPPATSRPLKSIIKQLQENT*KYPNIKGTRYSSKRRS*YSTFSFLQNLLPRFGPFLLRNLFICSGSGVKGKDSRLPNSSTRNPREVIISNL*LQESSED*EGGFPTIL*R*TGPVFLVNRVPDRRSFVAHVPEQRQQRSLDPCTQKGQGTRPTRSTVLQFFVDPKTSVNSSFNKNLPPPGTTKVLRHKRKTSQG*RGVDNQIMTGD*TRDSGQEDNVLKRNHSLH*SFQ*LNIYSFLKNCRLLPESKSETRPLNLLSLSLSLTRTHTHTRAHAHARTHGHGDR*SRGTNLDDIETNRHSRWNWKTRGSRIEHSEKPND*INLRVKSITDNLSSFYTDSSRSFFGPGIVISQEKKTGESLSNTNQ*NRNTL*HSIVYSIVYSIYSKQKTCARLYHRHPNPGELTEFFY*RSSKIKNYKV*FILKRSTSK*QLKENQ*VTISRGRLLTFVPITELPPVRSYGS**DN*L*YL*TSDQFELMGLSPVENESSRRTVTVDETN*FSNNCNYRRNKCGWVILDFTFPKSWDVGINERVGGVSH*DFSLLDFFLHQTHR*KTVRRLSTTRGPGCTQPGLKSSSLQLLS*MCLWRDSV*KGHTKFRKQSS*HLRYYNWYA*INVQFSFLLSYIGVWFSLTKFY*KTKHNRRRNKKLYSQL*ILN*H*TINRNLVPE*EPVNLVYVRMRQFMCYFMCKK*SYISQSVKYLVLGTNYNEYLVFRPFGSLDHEHSKI*PRETKFKPHIHTQRQNRQIKLVNFLSRE*YGYRGVVRYSFLK*GKFRKTGSTPTLKCFGVVRLYSTKIIV*IVY*CTDTLLTPAQI*PSQNKLQASKLFYIGDQKVKRLTTNPQTNRSH*QFLREIRSNGNVKVPSLKISNFLLYPLTKNPRTDNSIHPLYRPHDER*HDQAKSGPPVETSVKSLIKNLQKIR*GVY*D*VIQNTLTRFTNTRDKKKGTLY*NRKPKNKQKQKTLSQN*TVGPTSCYHVNMGVT*QFAPSDMGA*GPDFPRRLEDSSTLMSGPIKNFYKASIPQSGTTSPTRG*GPSEPEGFTTLMFTLGGVDRIGIQNVKKGRKTT*GILNL*KRHRVL*ISTEMKKIERIVTLRTTTISMG*KWCGRRRD*TEESHQTSS*TPVQEKKKFKSKIKSKPPCTLPNNTSI*AQYPQATCLTK*WVHNSGHGLSIKKTRRERRVGGRWEFIWSHRQQEKKHKYSKVVNRG*IFTLIRHKPKDINQITIPITGDRGRYKNVFCTRTRKNTDVS*DTTYT*CKRNRLDNDYS*IHLRYRNDNTYHDVTCKHTYTEIPSY*I*GDPYMGHYPNDPAYHQDENGETH*RCAERC**PD*T*G*LSYIHKGKETLEWS*IIKNCKIIIGKTEHTLP*SSTKTKRKEITTRKKKYTTTLHIYRRKLFTDTGNR*KIHQ*TKREHLNSRNIYDL*SRNNLRIKCL*NRVMHPTDK*DNYQRKRHVFENSN*SRVNS*KRKQR*RKLQKQYFRNG*GYRSYHITDSTEGPKISKPKL*IQKEGRTPLKNIYHIPSPVEVRRRTPIGQ*GRGK*LIPQKRGNEQK*SKQLLVYQHPHAIHTPE*RPER*DKVTRCTDKNMVMVRQNQWHRGVISNFSPLHYGGRNNKNES*RNR*VSDSRKFLSRLTCSTTCPVTPLGSAELLQRKTLSVFSVKNVQRERSDTKHTPSTEDKYIEVREW*IYKYVFILSNPVRYR*ELLTHSSFYPHEI*KSLKPKPFGHGTFSKVYDLHIK*GETL*HSLRRGNT*NRCSTVRVFED*EKLSWFSPPIRQHIRKEIGEQIDFLPFKVK*SLTLRVYISKSNTTYTKYSSDFYRIFLLRLSKFLLLFPT*INILNTSRKEPLLS*DSRLQLFEI*LIALIKAWELEDIMIYTG*TYGLSNDNLKGITGQHYKIFIGL*LFRLTHIDTTHIHESPHMIFYLQF**RYQFKSKI*ETCGNFKSKSQLSP*RGFLHTDGIPRKNRTIRRT*RWLRTT*RWTDVICVLTYI*HL*IFTKFKFW*V*KFSCS*KTRKLDLRHSR*EFLS*LILVKPTVHHTKDLCI*LSPLNWNPPSKLREMIDDYDTKVFSIYWRDSESLS*IELPTYTSNLRLLYISGMT*RTGSHPQVIYD*RRDRVKDSCKGPGCSTNEML*WL*RTWLFYK*DVTYHY*QTTLRKCN*FYILTEIRDLNRLGKIIEPENVQGT*NLYPSRTTNVRFTKFQL*KKGETTFFSQRRDIIIVVCV*STPCYIKPFSQKTNFEVLCFMRRCNGNPGRFL*PLPNTLANPTPRPTSPQYPSQPHHALPLPNTLANPTPRPTSPNTLANPTPRPTSPQYPSQPHHALPLPIP*QTPPHALPLPNTLVNPTPHPTSPQYPNQPHPTPYLSPIP*PTPPHTLPLPNTLANPTPRPTSPQYPSQPHHALPLPNTLANPTPHPTSPQYPREAHPTPYLSPIP*PTPPHALPLPNTLANPTPHPTSPQYPIQPHPTPYLSPIP*PTPPHATPHKTKTGPTSPLEVLYHTSRNGTNGHHWRGLVRIYSKNRRTFPRVPLTLPWVS*LHLSSTCS*TCTMGIPPMNHPVRYFIPVIPTPVQRNRVRNSTTTTTTTTTIDRW*ITHGQYQPETRSMKLYIIESRIIGSCRTQKDKNKIPVPLTLRTPSSLRRSWSSNHSHPGPETHLHNHILFKGKKDSSS*KKKTTSYTTGE*ERI*TAN**FGQSL*RPTKTKKECVGMA*EDFCKLLFKVCYFYKLLI*NTKKILPKTTVH*ITFLRLGLTTVPLVTL*PRVNHQVRRGVASSGIVLPDRRQRATTYSVESSRPAGVNKEQGLRRRPNRITDDWESTTVNL*YSSKRRVLKTKC*PILQFRMDVSVWGHEP*GCLTPVPLFVVPDGLGRLQ*KDVSNPPL*FFRFFLF*GSYFSGFRLCG*EEGQNRSFPQESPFFLRSLTSGKNFVRF*SNHKFLFFT*GHGRLHIHLAPTKSVDLKQEPMDMSSTSCESPRSVKVHPQLKTSFQHLKEKEKKEKNTLSQRTRQWVRPHVTTLEPSDVGDGAPKFAKRTESQISSTLMSTRGGAGRLT*KSSRPQSGTTRA*ELEPTRWVESEGFTTLMSTLGGVDRHLKN*SSTTFKGRI*TSRGTLLLKVSNRLRSTIFVLKI*RPINDTKETQKSR*TRGLLKTLDDTRSKTPLPYRSLLVNSPPLSENSLLTFLLPDPDPRHRVRTLGS*NSPAPPA*YSTPQTLIGPVVPLCTRDDFYVFNRPPPPSVDIRVHEPPASVLLETWTLRLQSHSTLVR*RKVGPAVPL*DRVFIFFFSFIYLFLFFTSRSRSVSTSKTLPFRTRPPYTGYKSSRVPDPDTSTTTTTKKKKKKKKIYVPERDK*HSGSDLTSPR*CRVT*DLEDPSSPEGWNRKTHRR*YPRPTKKKKERKKEKKKKTISTQE*TTGRTRV*GPEFARRVEPEGLTTLVSTIGGVDSDQKGNSSTVGGPKGSFGWT*RSNWE*SWSVERTIQLGTGHSTKRSRIGETTGNDRSGQLQLPPPRLRQLTYARRPESPGRRGEDTPRTGTSTPLTPPASSRRAAGGPA*THPVKSDEG*RKDNDGD*PSQRTVQLHLRLSTGLPPVPSVRSTPVLP*DGGGSTERTPYGTGSFGCKHPRPRVGKTLDFEGRLTTKPPNTLHH*EVSNKQKNFENGDTFIRQTSSLLSN*HYRGRELHLTGLNYTQSQETES*GTPSQKERRRFVSSFH*GHRGWTEGTQDATFWSTLAQGGWASVTPLGKEVQ*G*VD*RRPRGPVLRHGSPQTCPKLYDRSGLEPLGVRLASLGKFTPSGRQRVRGRRRRSKRLPTLRRLP*SAPV*TSETSSQPWL*DDSLLSGSGNLVERFVMGVFQDSTLSSSVGTGGPY*ELEGKRKHRNR*NFHKEISLSRVTPSRTRYPNPLLQFALDL*IDWKVPVCPVCIGDLIRGK*LTNVVIVPPLEQGRRRRSSVSIVIHTVPLTGTFGRRPYSVRNPIRETLRPVGGVERHCVRESRHLTHSVSTPLRTGTKPQTSQ*EPYDTPIPFNRPRTRDDPKSRVPLRHHTMTRGVRL*SMRVYTTYLLIIFHKILRCPEKHLICP*YVPTTITT*SVLEVYKSETLVRSLGVNPLNIHYSG*TSELSFGQNFSLLTLISESVPTFFVRRPVNAGHLSLGPDGRTGPDSTSYPWGVMEVGGRSYSSRTRVCTGSEIYMSPEGSVGN*HRNTTGTGRRPS*PLQKEKRFRTETPSRHTPTGSTVQVMTVSAQSFRVGTCDLDLKNITPRTWSS*SGVDTLYFLQSGVDVRMTGS*KKTKKENSV*KREQQVRPHVTVLEPSDVGDGGFKFTKRTESEGSSTLISEDGGLDRLKT*KSSLSQSDTTGPTRDGGPEFTGWTEPEGFTTLMSAFGVAGRLGRRNLHPRSFDRI*LVHQNACHFRLFVT*LGMRSGRGMWKTHLTRPLRLTETDTYRISDLSCSTLVTSQNYP*P*KCLLDNLDPTYPRTVRRLDPPEHPSPLSRVHLSIRSHSLSPYTPNLVGSELRGTTRNPK*ERLKPHQTRKNFLISSTRKVF*GDPQTPPMFSAWYPLPNPRNVSRTPPDLLWTPYVKTDMKESLDSKDSPYPDYPLPHTPD*SPSRSPFLPEVPAEPRTRRQVTTLREVAHSLLRPPPPPPTSSERTKPMLETSVGPIHKGGGPVHLYTWMFVPELTVDAPPPPFSVCTGPLTLRPFPGLLGLHLKTHIGTYVLPTVPSSLKDLSALQEELYKDRYSCVCVYMRGRPSSYDWLLLIGG*DTIPNSLSGPRDGGGESKGLEGVTLLDRSVGTKKRTNRLLTPKVGLPERLPSTHSRSVTRPTEDTG*SK**QGRGS*TEFQYAKHSPYQSHSHCPDKPQRERERERERYIYIYI*KKKKKKKNSTSERDSRSDLVSPH*NRVTLKAEGPSSLRGRSRRAHRP*YPRTVVRVD*KHKNYLYPRGVQPVRPELEDWNLLGGRSRRVSRP*CPYSVVRAGTRHGNCGGRKRLLSGLFPVFTPVSE*RFPGTLRTPYRQTTLSTK**NILLLSTETDS*Q*S*VPYLHKTLVSQVKVLTSSVT*VKCLTVETSR*EVGF*PSNFRSV*DK*GSGGTLGGCTENYFPKRGLVTQGSSGLPDLYMVERDDTGRSHKSLPSSEPDPTGPSVRVSEE*HVGSAPHVLKLYRTLHS*IKDPRCTRLPDSETLYERLVF*AK*INK*KTLPQSENNGSNLPSPH*SRVPLEVAGPSSLRGRSGRNHRP*CPHTVVRAD*NIKIISAPKRYNQSDQNLRGLESTRWEEPEGFTTLMSTLGDAGRKIKKFNNNKNK*INKKTLLQSETVGRPHVTVLEPSDVGDGGTKFAKRTESEGSSTLMSPRGGTDRIKNIKIISTPKWYNRSDENLRTGVH*VGGAGRFHDPNVRTRWREPVLS*NFKNTFVSTGIDPQIRVS*LSYGRRITR*SLKSEYFILKLCAQPWSLFWKGDT*KKTSCDSTCRLL*SSFRSPYDCFVPHA*R*HPPL*PSVPLSEESFT*ESEK*DTRKNKRVPVVILKKVCTSR*VVQRVSV*IYYTPHTDLYIKNYQWYNLCNRY*GRLLILVLGQTSKTSLGRWRRLRRQSTTMAVGTIAGPSKVRAEHRWSVGLLTNLSLLTWESRTHE*TTNNETEEKQEAKIQPS*RAPSLESGNITRLINREGAGEFLVHHGYGIFQRQTTLLKPEERSAENVSPPKLLQTRRRPTEATTHVSGVPSRTFPPTKTEVTALR*RK*KIKLIIIIIIKTLPQIKTVGPTSRHHARPE*RWGRRA*VR*EDGVEGHIDPDVRVWWYG*IKNTKIISAPKQNNRSGQSLRTGVH*VDGPGGFHDHNVCTRWRGPEVTEIKKDDYSRLRSLWV*HGILSPPTREGLWDRTSLERRQGCLSLNP*LVTPEE*P*PAPVMSCRRSDSPGQPPMTWSLLSPPVNERYTKHTSLIHRCKRRPDTKRTSL*PSGCRDVGTVNETCSTVLHTLPWPLASGKMMGRASRGQCHEHPQGRHGGPCLPKEGRWVLGLSCTEGPHEDWTEKRDGEGERGEGKGRERRRTEGEERRGRETKRGKEKEQRQRGEEKGGEGEKVGRQRRSPQTSP*RKRERRRTSLHKSLTCGD*NLLPLWSHPTQGPAGVA*EP*SY*ICNLFCGRDPLGSFPN*TLFITSLDTATIFDEKRRNCQI*TAGKRHFTNLPRSESKG*TRDKRKPAVKFLVCPFQISVCNIFHCQTSRR*RPNRCISQWTLSNGKGLGKRQS*QSSVGRATLPTLQVDLHTSLQCIQCRKKLKMF*RGRTPIEVCVAPKKRETNEYLSI*VRRTPITVRHTTVYQTTPRASQSVGDGVKEREGSVSRILEGSLLSYQKNPFLPVQFRP**VSSTRLRTTISMINK*TQKKNKLCQSEYSGSDLTLPYQSRVTLEVEDPIC*EETESEGLSTLMSVYGGAGRLKNINYLYPKWYNHSDQSLKTRVH*VSETRGFHDFNVRTR*HGPDE*IKTSVQEQSDTVGPSLRHRASIESRRRPRVR*KDGVGGHIDPDVHK***GPKKKKKKSKKHLSPRMIQGIRPELEDWSSLRGWSWRVSRP*HPYWTTRTG*IKN*STCSWTERVKIS*FCQLKKKIKKKLYLKTRTTGPTSRYRTRVEWCWRSKTQVR*EDGVGGLIDPDIRTRWYGSIKT*ESSLPQRGTTGPTRA*GLESTRRAKPEGFTTLMFVLGGAGRSAKTNKQTNKQTKISSTNTGPRHRWWTLGS*NPPPPST*RTRLLKL*PDPLHHFGTEMILCCCCCFKGPHYRTWTLG**GLRLRPLSELGSSTSNVTRL*RGDVRSDPLSL*GRVFFFFFFFSGPCHRVRTLGS*NPPTPPA*CSTPLVLVGPVVPLWVGQR*FFLWFLIGPHHRPRTSGSMSPPTPSTYRTWALHLERHSVLAR*REVGPAVSV*GRVFFFLFFPTNDCATTMKGS*TLKTLF*VHLR*LEIRRPDVITPVPSSLLTTRHRVLPLNHGTNKWSKSFVTVSNRL**HFERTKKS*KLSITLFMYLCIRDRHLRRLSRKHVSFRRRPWKRGNAKPSSTPSTTRHVGTT*ACPFHFSYGVVTLFHLGPSRVY*YFPQYM*RTP*ETRKCLVRHVGPPQSLSNR*VPPTGLNPSGETCTSVSPKRLTGPRRVGPRSSHVDTPTCTSRVPHVQTSLTRRPVQWTS*VWVFSSIRDTCRLPGFLCPSLSRRR*LGRQSTNTRTGGPAPTETIHSTHDPGRPTRTPR*PTGPSDGHTVNRGGVAYRGGVGTERRMNVGGEK*EGLEKERTHK*VRKRDCTRTSQKTLWVPIMTVQMISVATRGFTRETLYW*LPHLPPQERKSQMVLSSMTKL*NFCPTELKIPICSNRVTT*NPPL*NDRNFEPIDLLSKLDQNDPSFRQNHAVQ*N*QVTLP*GHFSET*TSIVRFTRPTRVTECGY*GRETLRLRPSSAPVLKFWSYRLYHLRQRVFLCFFNRPTPPRADIRVDEPSDSVLLVNLDPPPPTPLGSSTVT*GRTHCLVLRQSFFFFSFLFFSFLFLWVYKTLIGDF*HHEFFSAVRRRRNFSLSLSLSVIGLYNINY*SK*KQPSNLRMVIIWS*THENGTLSTPCGPVFQFVLTSPHP*VPK*EKSRSRRGKWSVEGTGRGLFCVQERQGT*RKILSCTIRSSSLWGSKSF*NPK*LKSTSFPKSYFCESKFLSFSM*Y*GGNGPLSKKRRSVNVYGTNRKKKEKKGDYLRIS*GDALYPCTNVE*TPSPTSSNHTPRVHGRDTPSLRNDEDESPTGPLVKTDSPFM*GIVKTTERLVHYNSIICN**NTGSD*VTFK*DCTTHDKVVTQQPLDPEFPVDQERNRSTVSPTWLSQTPGKSRVQLT*TLRSYNPHPLPGSKPWSDLGTAEEEEEYKEKERKKTNQRYQIS*R*SVS*VGVKLNWSELSGRDSRKFDSRVVENLKRNRK*RVEFTDKKPLQRD*QNMLSLTL*KTFPF*RL*HPERPVSQRQRY*LETGTLCVFVAVCYSLPVPAQDYFETNVFVRRRPNRAPGSRRWRTVPWSGGDGDDTHGHGTVQEEGLRIRSCDIKNI*NIDSRQWGWYYLRGVHVPEIEQRRTTPRRSYPNNISSVRHLLMTHSFVYNLCIGRAVDPKGTKPHVNRYNVNRR*KEENNTKRETQVHDQP*TPNRTYGNHYGGTLRGPEDTPTTTTTTPPKEQGLRTPGTRKVSP*LCV*LN*SQRTPSKQEDSPQIRFVNGN*DGTKPRQSHDPSKRKRSGP*DPG*V*RVTSLLSEEEPGSTGRVDRRGRQQ*LFTVTTGELRSPLQHTQPRNTQVRARRIDP*HWNKLYRYTDGSSYPSHRPSCLLVLWVRKRDPRTTEAPLYPT*VLLYHVGYSTVSPVHIPPPPPSVTRRRVPLTTFH*G*CLLGRTKPRTSHLLSLLSLLPDRDVFFGPCTHHPQPLVPP*VETAHLSPRVSWVAEVKSWGHSRCL*RNVDRPVKREKQKPQFRRSENSKTLLSSRVEWVVS*SRDLAVS*LDLYSRVLLRPTVF*NISLGNQKELKLCKVKFFEPEPRCLVQIVFIISHIHTHRVSVQSACLHILSRKNVYFVWCYCLKTSIMSRSCETVS*ICKRTPYKKVRYQTKQRFRGILHL*FSPV*KTPIGDQREGL*RTEGPRTPLHLRTTPVNVSFLSKRTLIRPEVTGNNLQERRGRKGRQRQKREGGKTSRWLVYGLESWSSHAPTRSPQRSPRDGQLSTAALVNLIPTPREPRVVILSRITPHERLFPAVRISEAGDTNMTVILTSVTLNHEVPLTVSTQPGGRDTREKRHR*CKKTGSLFHHSRD*H*PTVRMSKYQKL*EETLDHVVFPASNSYYLKNTCFIVKRILSCENKFIYVRKKKKKNMVTVETVNLISQL*TYEF*RLSK*SQTQREVLKEDTSLALSCPGETPAQISRRKSYNQLLLFPVCP*LKTIPS*RKKFLWGV*LSNYNLFLRNPRCVNHLNSPRTYDKLRTLGQEYIG*NIGQIYRTFVFCNS*YCIWLTVVPPF*IR*F**N*LLLGSEKRSQGPNN*NDTSSRVNIY*RWKNETFFV*VPYTRKRMSTVE*ASTTPTVATTPSKTVTLVIVVLIH*RAEATRGSLLVPPFKTDSGQKNS*EDAVRHRAPGTERGDTDERTESLDSYLVTTTCRKR*QTGKKSTVTSKQKVSSMMKRKELKGKRETEEG*VSVFLSSWYIVEPKGTLVTNTNQIRSPHTDPVNG*EREGRVTRYKPTVLSPSPTTTGNRPLPGPYVSCRGIVS**TRFYS**GSHSLGRRMLCVEYDSLLLPAHGMKHLVLTFPSVPTERITPGTCDSRLYPLR*MNAPSCTASENLDPLDPNLERGVEDSTSKVKTRNQRNILPSLLLL**KTPTILLMYSRINISRVFSPTNVYK*VMCFMLYRNERKRLLNRSYKDFTNMYPITLRDECTI*DVKRIFLKSVKPCKFVPDSLYGVGRLNTYIYIKKGSTSEQDSGSDLTSPR*NRVTLDVEGPSSLRGRSRRAH*S*CPRTVMWTD*KHKNHLYPKVVQPIRPELENWNTKWTEPEGFTTLMSAVGGTGRIKYIKIISVPKWYNRSDQNLRTGVH*VGGVGGLHDPNVHTR*RGPL*NKKARQSPGVVLFLLPCF*RVY*KGLCTYRTGQ*L*GWSYHVDKVNYLDVTVVIVGFTHQLKSHTLVCHTSEMSNRRN*IILRTFKESTEKYRTTQ*TNIVTHKVTNIHSFK*MGKWMIFYRADPWQRVRTLGS*NTPAPPT**TLVFKLWSNRLYRFRDRDDFYVSNRFTSPRTDIRVDEPSDSVLLVNLGPTPPTSLSSSVVT*GRTDPLSHSEVEFFFFLFETTKVQNCQRLFRRCL*KHAQKHPCIKS**NPFTIPHTNDLIHSSHTNLNILWWIDGTFHRRGKT*GWSLLTLKDNEV**ATRTTRPKTGKTIHTLP*NNKIKFKETTVYYTS*KSILINGRYIEETTLQTIPATG*KINPTNKRMTAQYSQETYKTYCQEIM*RKRLSKRGVDTERKSKRTVTENVSSLKIQSTSDQKENTYHGNHNMDFTVVGWVPVDLKEDTMEDPHNNKT*NINTHIR*NSIKNISYIPHTHLSEKSDTYRSPRP**TTFLTGNPKKKKKKLYPQSENNGSDLALPR*SRVASGTEGPSSLRGRSRRTHRP*CPCTMVWGD*NIKIISAPKRYNQSDQTLRAGVH*TDGAGGFHDPNVHTR*RGPDRRISFFYFIYNHPRSLFTQ*IHF*I*TGTQRIVDPVFSL*NQPRQK*KTVLLRIPSPRVSFQGPGRRSRSGLLRELYV*ESKEESG*RSL*DPD*D*V*LYALGDRILNVHLQTGLTLE*QSPEQAFCHLLFHSPS*KTLNMVGRFLQ***Q*IIFRDYSPRTVSGEKKKKKKKKPLPQNETTGPTSRHHDRAE*RSRRRAQVR*EDGVGGLIDPDVHGWWCGPIKKHKKSSLPQGGTIGLTRARGLEH*TSGAGGFHDPNVRTRCRGPGE*RKPVTETVLRPPFLRLPDVICPRHDRRPRQVRWLLG*STSLINKNEITYLLTPNRSFSSRRKVNIRTTDSRRIPVLPPPHSYEHVHKCREVKMTYTHGSDT*LCSLRQSNQKPTDPLTQQDQQPMDGLSSNGTLVHFVILRCRSIPNVLSVRLTKSS*YTTPGIRNVTLVTRIDGSRVRLPGPPSRGYTTYGWLSHERYGSGTFVPRKH*SRAYCR*DGDFTHETSLIPDHNRHGPSMTTLLHGDKPQTLCNLR*ISLSPRIDR*TGDGRQSH*SDQTKCPRRTPPTLIRRHQTHLSPYGAGPINRSVLSPATVILLKNGGVHSLRTGLIIPFNVFVV*ET*KSVDLL*VHRSN*RNHGRLTDFYGDPTQTYKKKSLKLFTTRSLGHNYHCKNPKKLKKKKKKKRGKPNSVTFKSRHRRSTFLYNVQ*GRRLNDLITRLKQPIVFFRSSRRTISQKI*DMSHAFRTHGLCYRFYCYFLISSPRHRVPTLGS*NPPAPSA*CSSPQALVGPVIPL*GRDDFIFLIGPNHRPRTPTPSS**TWALHLQRHSALTR*RGVGPAVSL*GRVFFFFCFLT*IIVVQHVRNFLGRYPTKLTRKIQPKK*CLHVP*ETSIKSSTDRLLECTMVVIYKGSPCQDTTVMFGPTVLYYDNVYGEPRCVKEVFLSTSKYTIKNFT*VQLPKLPNS*IGKRIFSYSIDQERKGSMIHTITQ*TVVDPSTYMGKQAP*K*QRSNKATNYKDFSNSESKTLLVLPAFQVQVTN*APFTTSLST*F*ERRFHQERELTTLFFIKR*NQSKDNSGRLRV*GTVPLSDKKNLHGSLLLPSIGL*GLSKVTNWTAIVKFQWKQD*P*K*TISRIQPLSSEESTQLQRSLTFLVIVIIFVVFWVCPKRLKIFKGNITFVVVIQPNPVVSSSVDIKVDQPSGFVLLAHMGPQTLIGALVSFWRRDVFYFLIGPHHRVRTSGSMNPPSPPS*WTRVLQFRRHSTPTW*RHVGPVASFWDREFFFFFDENHKIVFMTTTTR*VTNLTYRKSQRRNQFVVSVTNLFKGNFRLEPLRVPD*PDDHPSQESEHQLNEPKLLYIKTNLRTDQSFKNYSKEFRCLYGGVLV*E*V*RHKTI*TKENQIWFDFRLDVPSPLETL*KGDSPQFRKFTGLITIKIFGINI*ALSPKSPRNLSNTLN*ILDLVRHKNFKKRRYFYVNRQ*PPAPSVFRT*KLN*WYPLKFPVRPHQLPCDESLDLYPDRSRAGDRHTGTSLVNWKDLL*L**SATRSTSGSRENHVGPLY*GTKRKFSNPAQETKNQGLSLSLSLSLSLSHLIFGIHSRNSTRSQNHPRPGRRIPKSDSNLTSQFSLVY*DGKQLS*LWTDRVSMDLSYKLDRPWN*SR**SKISISKIISR*AGR*AGR*VGR*VGRLLRTHG*GIRFLLRSTWEVHGMTTTSRSLPHKKSCLCDYNLRV*IVFLPRDSFLLNRDPTLIISDTTSGNFLQRHPNI*REIE*RRIF*RQQNFILR*IIIMITRY*QCHIFYYYSSIRYTTTTLN*LPYPN*LTPIQTDKKLVE*ES*TTNPLVVRTPWIM*SSRFLQSRFPWYGE*LQLNKGNVHLITVSKTYGNLQIWCAEIID*NSGEKYVEIPYISSPFEYTGIERLSKLTN*LTN*LTLSQNENSGSDLTLPY*SRVTLETEDPSSLRGRSGRDHRP*CRYAVVQVD*KRKNHLCPKVVQPVRPEPEDWSPLGGWSRRVSDPNVRTRWRGPDV*VKSILTTHL*GQFVDDTCSD*RRSHLEIKPCTQGRGLLSTISTSARNHIFPEGIHLLGQDSRTYHKQRSTKRQEPSGTVKVHTGKVDVFVCLLCSDDYFLCVIPIEYHNNKKI*NV*VPSVFRSHKILLDNILIFSQGRPAPSSADIRVVKPSDSVHLVLQSSRSGRTDFATLGPILPLWDRDDFYVFFFFFLIGPYHRPWTSGSMSPPTPSSYRTWALRLERHSVLAR*REVGPVVSFCDRVFFLFFFFLKEGRA*FK*FV*TLEL*ISLRHTTTLQSSVVPPRPVCTLGPTSQHGPKKYHRGLEPRDSGSTRRDVGMGRHTDTDTKRLRLKYPHRNY*LYSGLPSPMDGL*GRCNKVESGI**GLRGSVSTPNGYPTTVSSPDVSTRTRPGQGPDNV*VGTEPGHSRLFLL*GSRKSI*GEKKIPCIFSTDYHTFVYRQLKKIHFFFSVRCPSRVVINYNRLSQ*RNYKSIKYTYPITQMNLFTVLTSVDCRTPYEK*IQSKHLQKHITVSSNKQNTRVTKEKSPTPTPT*KDSSSKILLSNNFNKVIYGPGLSEPYLPLVHEGPLGSFLIHANTRKLWVSVYRWVQRLR*PKFPSLSRGQGRKRRKEKKRGPKLSKRGEG*QSRSIPTWI*GSETVNLFVSLFLCRTGTFL*SRDGNCCPKFSFALPINPIHKPTSLKLRTNMGLRPTIHFP*E*GVPARDVGILSPLKIYT*SLFRGRIPVKRNPNT*HTRQQVRSEVVFIRINT*SEDVTSSGTTTDKVSLCP*NQ**NDSVFVYTLINLTTCHLQDLSFFPPAHGTGSDRKGLKSEFVV*PPSMPKVGAPLRRRRIVTSHPNFYHPRP*SDYTKFRTDVEKVRNTENRPMN*RDTESKG*TFGSNTITERTTS*HF*LHNCTFLRNSSRTVSSSKVSHHQ*AVIIVCTS*MSP*DRTTTPKINLFYMK*NTKF*KKN*NFLVNINTESPCRPPVLKLYSKLTIGGEFNSNPPHHPNTVSIGGNLSLKKKLIFSIIHKSLCQKKKQTNKHIFKTLYMLTERPNKII*SYC*I**LTGISFRGYLFNYPENSC*TKMITHIH**IIHTVRFY*IKTS*LDSVNIYNKYTNILS*NFVLNRTLIKDRSSCSLSSPEFVKKKKEGQPSVLGRERPWKTSRST*SEDFYKRFTFIMGF*IFYRIVNVRFALLEWTNLK*VPPLRQVVICKIMTKGFVLVV*PGCVFSTFSPRYDTDAGCDSSKRRVGPPWVTVGTPPTFCPSSNSSS*RNLRCSILIRKSCSVKNVKTNK*INVKKKRYLRARQRVRPHGTTLEPSDVGGRGSKFAKRTESEGSSTLMSTHGGTERLKNIDIVSAPKWHNRSYQN*RTGALGGRSRRVSQP*CPHSVLRVGM*KQIKNFTSFQSSLIFLMKLFLVINSVNGYSPKL*FFFIMGPERTLKFHVKGKHNKKYTPLKLLSSQLSTLRQKIYEISHILILPTPQTLRSHIKGTVSS*RTYHSPEPNL*PHTLYYVIPSHAPLLSPLDDRRNFLRTLVQCVTVL*NQSSEGSLKL*PSTEGRLRARTRRSETSR*IVCN*LVGHTVRVRTRDPSTLPLRTGVEVPRESGQVVLSVSS*DRYPPCVQTNFNVLVQRRVPTCTFPL*PNRKPSYSSFLQSFPKSRLNLPFYRVFLSLP*RFNKSYLPLLTLLTRILFLTSFGILL*ETT*TLYSPV*SMDNDVLFNGVPYHRNSL*IME*QRT*SLLPHRIDPEGRGRQSVLTFVPSQLRLQSNLPN*PLP*RVHQRQS*VKERLPESRSD*QPTPDG*QGTVCPEKYPVDDSSPTRFLLGLSLSRPSVFSLGKHWITTFPVGGENEKR**FVL*SLLQRVPGLTVLCSPSGLG*TLLTYHPPYLLREIESGVQEMSVHPS*GVIVVTPQVLTQSAQKLCGRSEIEVVTTSIYSEERWIFTGRWEKTLKNLSISRNFLIKEDVFKNGKTKL*IFNCRSPVLSLLLPLSDTHSKILAYHPSLVHFVNTPSRRSSTHDNFELSSL*NQQKVLRMNHHLRPPSPTKQEDKNQVRNLVYATLSFQPGKFSLEKLFFFNS*STPLRPIFPSQFGDFSAGDPNKNWWFTKDFECINYVKVTK*IYVRLTLLPPVLGPPID*NS*FCRNIYSCFSSTTPRSLGTRVLFTLAVVIIPLPRKTFRLNH*CLYDSLILPDYSFTTD*KLSTSSHN**LRL*SDLLLVDTRFSFYS*GSSFGNRTGTPHVYWFH*NNIVRLGKDLPFPLP*SHTPCFWILYKTKWFFFFFFFFFFFSGFRRLPVCKPTSHDRTRRGKTKRPPLSDTDIPPRRTLQPGDQRLHQSDPTSSRKVLSSP*LASKTSTVFENL*GDSGFPKALNFSFLCKE*RTLPRKSMDSVVEAITTQFGWGPGPQ*PRVSPSKGGHPEGVPLEEPTDTGRKRSLSGTTPDWFRLKPLLPGTTTQKRDYKRSNGCI*ISLHGDPTRVTVTLG*RNPPTPSS*YTPVLVFWLNPLYHSGGKDVF*IW*STRIITSGHQGR*VRRLHPPSELGSSNPDVPRH*YGDVRSDLLSPSETVFFFFLFFPWKRVN*SPLI*Q*K*GAVKEFSFLWINFESPGL*ID*VRTEDR*TVKRNKIKIKNSDSKREQRVRPHVTVLESCDIGDGGPKFAKRTESECSSTLMSTGGGVGRLKHKNHLYPKVVQPVRPELEDWSSPGGRNRRRSRP*CPYSMTWAG*TVK*ITSSFYSSKGSM*KGLSFMDFLKKFVYTQ*RR*KEKGNIKTSKVFDTNTKPPDR*SKKDGQIPNPWSRR*GT*CRTKLYRTYTPDISLLPSVFFVLFQFLLILYTVFRVKVSLLVILINLKPSSQNK*FLGYDSVGIH*FLV***KFHVLVSERPTIIIH*LYYHFLNLVLR*RD*YE*GPENAVRTGTRSKKSRDTGS*GTEFYPSNRLIRTREVRDSWY*IIIVVAHRSR*REEFVVVSKKKKKKLFLQWKYRSIKCPESCQ*R*ITSFRSSTDSINYLVELRVEEASINKSVSPKNFW*KIR*SFTDVSGSL*RPVSRVSCTDTLTVSSGVATHNVPKSKGTSGSRLSFRNNSYLVHIKSRFFSTKNFENNISDDLTNKTSYPINLNVKDPINESTVKFLKNYFTIRIRCSYKSPSLVLIT*IVVQI*NTSKKKSLL*SRN*GVVRQKLLLCPYTNIIGCKYLTRGRSTEWSTEGTSFNESGRCRVSPSVTIKRENVNSRTGWGWSIHRVDGKPGCTKTWS*IRERFDERSLHQGTKHFCDNDNLLFVLLSLPRGFRTFLDRVPYVNSRFNPYTTTRKLKVLETPNK*TNKNSVSGRYNASDLTSPCLYRVTSELEDPSSLGGRSRRTHRSWCPRTVV*TD*KFKKHLCPRVNQRV*PKLVHSSSLGGWSWRVS*P*CPNSVTRVDQYSKNVNNTIIYVLYFRW*IQ**FKSSVINVSTTTRW*W**KF*KSREVCL*NMGNSSFMSKGEGVTWTIGDWMKNTDT*TDKTHGIYSL*SYKKENTDRIK*IVFR*V*HRT*F*NKEKYRLNIR*HTYMVKKKKKKNSASK*DNGSDLTSPRWNRVTLEAEGPSSLKGRSRRTHTLMSTSGGTGRLKT*KSSLSQSGTTSPTRARGLER*VGGVGGFHDPNVRTR*HGPGCKTNR*VDYY**TQRRWKTDNTYR*HR*PHVHRQGQERYSKRPYMDPHLNVLVYRKQTKRFRFYPF*HCKNFSIQVVRHLQDGVGGNTRGCSLPGDSFVPNNIK*RVEETSLGHQQMARLPSQRR*PGLLV*RAGTRDLWRTFRLKNIVTTSNS*LSTNGGVDVPPLVVVHGDRNCTFQSTVFTKVFPTEVQGVRGRLSPPDPTLLF*NT*KTKNKTKLCLRVRQWVRPHVTVLESSDVRDRGPKFAKRTESEDSSTLMSVDDGTD*LKI*KSSLSQSGTTGPTGA*GQEFTRRAEPEGFTTLMSALGDVDRLKNVKLPLSGQLT*LDKYPTHGDTSGPNVL*RQKDPFNPRL*PPSFRTLIERL*CTCVARWTVSYFET*WKTYK*DEQ*LVDS*TFTDLKKRYTFHL*VHCRTQKLESGKWKVTPQNHSCLI*M*GSTVDSHRTLNYP*NPLTSIVFLRLFGQTRWNTETHLSHTLQVP*AKNII*TLKSGKTKSDETKL*LYNKIFSEITCIKTSGTRGQDNEPSTFYYYLRCF*TGTRPFFFSARTQPTTS*RRE*PKTQTKRSR*PRRPPSMITY**IPRQNNMKKQHTQL*RQTNFPSLFFFHPLWVLG*RINIFHVTIVKPYKRKTKIDTNISPNMKVKIYVEIPPFTQTKKEKKFI*P*YLIDKK*IVIDKLLWNGPDLYYEVRKILISDATNLLER*SSMSYLIRKNYRERNCQKTRMFVTNFVVKTSTRNFINTIKDTRSKDLHLN*SSFFYTRRLKLSMVVQ*NVFPKRVKYKGKS*P*KIKGCVSGS*LIVTRKIKNN*STTYCHRVITKLNVKGLAITPIRRKVYK*PINVREKRLSFLPHTRKPD*PFS*HRDF*TP*IFVRNIYNAAFSPKKSK*DLEVYLYLITFFWGFETRKQTVEIFQLITSKNRTIIRW*LVTIL*GMFSQVVRVTTT*ILVGKPFTMSSILNPVI*FMTSLPHSFIYNCRDVPRYN*IMVLKTYLSLWDKPLTRRVTFL*KYLQLNNYKHHVEVLHL*VSRARELLPRTYLTVPGSLSELDWYRGPQFFSLVTRFDVYGSKLHSRLSPLQGRDTSSPSRGKPYEVHGLDLGPCSFCNCQTYPRSLSVIGTNSRIPVL*TRPRVS*LINVVPIYDLMYRTTAPLGTDVGIQWTVY*PRGIRFSLSKDNGNSRTPLPSQRKTQTPGVHFSSSNMDTQGTRIVLLRQHRGSLGPKSIP*E*RDLLNRRYRGGGSLLCKTYLPRIERIPLCAIVQQTQDNVQMPSWFSSFAQKQYVISER*QLVYGHLSKKTVCKMDAVTPSQRVVVEVRQSETLMEASTATDVVGSFHRLVLIELSDEHETIPPSSGWK*VTRKDSDSHYSSLEQNLESSSWRWDVSTERILTHRLYFWHREVTREA*RIETTVRLVTATKRFTCRRDGRTKISPHQCSTKRNKRSKNIVSTRTSTRRT*TKNALIGFL*TLRVPYRVFQSTLRTLLSIPIIRN*QIKK*SKVTSRNRFCGHLLLNLSLSL*FRSLGLLCSTT*NTIPFESVQTFKLRYLYKLFVPLLYSYRRETHNYHGTHPQCCRLKVYTTNRNFSEFFKHLPAYMLNSKHS*VTAV*TLRPIKRLLVHIDKSVLVSTLPV*LQGSTLKNSVGLL*TLDTRGILFT*SMPSCLPNLVTDRISFTSDIYNQDVPRHYGISDSEGSPTRLTIERTGTGNHGPTDHKSEGPVNRRGSPREFR*YHCLGATCDGL*GRLDLYSYKRSVHKWYYYYYQK*RVLRITVNS*ILNPLRRYGKNGGSRRKI*FFRVMNHKTRS*QFIGGNETRKVHALVVTSE*YLSHQGRLFPLIWTHHLLLMPR*LVCMVDLQHPLKRRGAHRRRMVG*ERTEQTFVLAIQDKEGIQSPLNQVRIRKMIVKCSDEDSRLL*DKRSVGPKYSKRTRSTKGSQ*THFTCTILYRL*NLRL**DFYN*PVHFSHVYTTSSGNQNFLFVVKGLSR*HLPVDFSFPFPDS*LGHRPTFFHLQLPGSEGSVLSVICHG*VTDKDRR*RRHVSLGTYTRIFM*KQSHVSIHPVKLICNFWWSGQQNL*VQRRVQNGHYYPETTLITSFLQRHRTS*RLYTLRWVLYEVTTSYRPILGKVHPR*KRERTVHGTESWTVELGRKPNRRGFMSNDRRRHLS*VKCECKTALH*QPLRCSGVVGDTETFASQRM*YRTRTHGS**STHPEEVIL*KLLPLGQCITLTGFSVIFLLGFRTNWFNVSKPINFKIQLTFHLF**N*KTVQFTLT*MLCETESFVLYW**R*TYIRKSLLSQISF*TQNKKSSEVHFKLSRNLLQLGYL*VFSHSKSRERGISFVHRTKNHS*WYKSIKCFVCFSLHCEFKLFFY*L*TQP*LCDI*VTSFSYTEPEMDPRTHMAYTAF**R*IPFSLKPDLQDLWIKTLIH*ITPFFINSISSENPNIETYPDV**VIRPDPGKIRSTSVYRR*GQTRERISFKIQLNNTFCKFSGSGVEGKLERPPSRDTSGL*RESQIPTLNLTRRLITLTRQITIRGPLVRTTFLAY*VTTLHLSRTSHTSLRLSPD*YSV*TL*RVDLCPVITVLRPTLIGNFELRLLKGSELGRNIYLRFSVTSFSVKVISTFTLYESRDEFWDH*RNAS*LFYS*LSRFLRVYLHVPTVSKTCRVVHLCFS*VRIRHLKTIGCPGLHYVTTHYCRKVGGETKCLLVFGKGSLSLQGKNGCKKPQNKNKDTMYLTPSL*YFVVLPTLEK*L*EGTFP*GYS*NYIFGTLNSL*EHKILICRSVTTHIPFTKVNTLGKILGPN*E*F*LW**KVDK*RSLLITLRGAKPLTPLLFYPRGFHRHRGPPPLGSGSK**LTMVSGPKTDSRTVTLRCYDPTE*RERNTGFYFLDLEYLQSCFFRRIRHLTCRPNRHRYGPRGSLNPV**IEKTPRQNSSHFSLTTMNGVRILPT*SKGSHGDCLMIFD*PNFVFFR*ENVKTSDF*VLIPQPFKVRGEGRRPSTGTEHLRGEVRDGGRSTSVQE*HTEF*RKTEGEHSCGQ*PKSRVAFRSYSIGTIKIEFMKTFLEKEVYSSVRIKGSESCTCMEEFPVGSRVM*SMLRSQPNRLLL*SDRPSTGRCLRPKEGRFGPKKTPNLT*KLSKIIRVSLQNNLFVLR*NPDPYHRVWTLDREPLRLRPSSGFQSSISGRTSCTTLEQR*FLCF*SAHTTTRGR*GR*ALRLHPLNEIGPSTSTITRF*YGNVRSDPSFSL*GRVFSFFFRPAPPSVDIRVVKPSGSVRLVLQSSSSGRTGCTTLGQRWFLCF*WVPTTVHGH*GR*VLRLRPLSELASSVSNVTRL*HGNVRSDPLFHSEAEFFFFFFFFSVKPWMSAPVSDCNCKGRLQRWKLITTVVPVGL*LNRQPERPLPTPQTPELQVPQPKKCGWGGEGVKRHLLQVQVDPIH*TIHSRTSSVRPRPRR*THKRCG*TYLRGTRGSPEEVNYK*HHTKSSLTVSG*DSSTTTVGWDESQETTSSVLHALFLPWNFLINEKE*VHLLNRNLALNNEENP*GQDVKVSGSPYSSKNGP*TIKPPFHVTFTFTTETKTVPVYTEER*GTQKTLSQNETTGPTSCHRTRTE*LWRRRVQVH*EDGDRGLINPNIRTRWYGSIKNIKNHLYPKVVQPVRPELVDRTSLGGRSRRVSRF*CPYSVARARK*SN*KVFKQGGRTGVGKFTFDIRRPSTTNPRVVSGVQ*RPTQSVVMVGTELPPSSRTVTVDRELYLDNIESGSVLSCVGLSRVLRHGLASGGSPHTSSYFAENKVRD*LFELTPQLWTFPQNPRKPSGRGHLLPPYRL*QLTNPVGDRVLLFPRSHYRLDPGPLPPCRLREFGVDLTLQT*QRTQPLFHHQFIYFFATGSIN*LDN*VMTSTVLSQ*GRVNEHYLPT*SQSRR*CDTEDLP*KQRHTLFLTDTTVVNLLY*DVQVSAIL*LSDW*WKIQQYEHGQGPCSRAEASRDTPRLELRRTESPKDRSRVN*KV*GLKRRSLKKR*RTRLTF*TTGWDCARDVRSRSQRFRVASPRLSGRQLFPNPTARSITQCRCRKDSPE*INCLVPWPRLNSSFVEGKRRKHRGRR*SRTRIFGSDSVCWGFPEMRHGLRERPPSPPLMHLSPQFKTKVGTIEIPESFPYLGDSESKERTFYPTTDKGTS*YPSSSTILSVAKIYYHGTLTISNNTQPGYEGERRGLSRHVGLG*DYFPPQSGQERRSYL*SFEGNHR*QITRKLTMFRRKVRTKCCP*GPPFPTNHRRSSEVCMTDRLCLRGRLDWGRSSETLVHHKTPTVEGPHPRPCAVGPTPYHLETLQSKKQCKRRPMGNRKRGGNSFLRNN*RKLRTSPGPTPPTSLPIINQTVN*NRKVNTTPVSPTSSQF*FNYRMSKYILLQWTSKSTPTPSLFRRRQSRTRLFERYFTVKSLPSFSHVITRP*IAPKIVAHDLTLLVFCQIIQRI*TSKHQEL*RLRLRSLISKRDLSK*VHRNSCRRKHLAFWSQPFKILCLRTRQRVRPPVTVLEPGDVGGRGPKFTKRTESEDHRP*YPPVVVRTD*KHKNHLYLKVIQRVRSELEDWSLLDGRVRRASRP*CPYSVAWTGRLRTILHSHLTTHKKGKIFYTDNQTKVPKGEGILWADNISTRSTNQTKVSVSSILRHPKMDVHPTRGMNL*TFPP*SLGDTQKVLSTSLHPQTPFIYRFPQPQRHPSNKTKEKTLLCLLRYSVTLGVTKPNLPLLSRLERSTLKHINDSTSPIKR*ELRAPCECVGNTPALPLSVNLLHIPKREYLKESSVKLQLLVFNPTFKDLELP*G*KREKEFRRPNVLREFVPTVLKTGRVYSYV*MSSLPRGLYKG*PSPSNTRKLSVCNL**DHPRKPLIRDNLFP*KVK*PSHM*DLTLTFHFLNREI*NVKPAHTTECGL*GHETLRLRPPSKL*SSNSGRTGCTIFG*R*FFMFLIGPHHNTRTLGSMSPPTPSS**TCTLRLQRHSTLTR*REV*PTVSL*GRVFVCFF*FYNF*SVRSTTCGHQGQ*DLRLRPLNEHGPSVSKVTRL*HGNVRSDPLSRSEVEFYLFI*NVKPDFFVLVRHTL*EWLTSIPP*PRPRTELRRVDRTCHSSRHRKPNFRKH*TH**NFKEKSSTT*IFIDLGTNKSQRLKVEVLLFTLNNKSESTIRIVSLRKEQTSLPDFRK*RRAWRDPRFVPYTLSTRTI*KI*RDLLSEKSTTSNYFGRS*KCYL*GDTDV*S*RK*E*SPVIREESAYIMLSKLV*FVILTTRLENKRSFFLGCRCSKQV*INHP*THL*KDPV*TFPTN*PSKNYLKSVCKISIPRNE*TSPTTETASRGDTKPKIEETFSKLSSMRLTLKWVTLFSHMD*GPVIFSCLKRSSFLCKRRGLPLGRYVCGRLLERKDFLQRGDTVHRRRLRDCTEGPYLRESTQMESRSPPSDPLTADSKCSHSFGFVLDPSLEDGSHTPSPLSFRE*LI*PVPVIWSD*LFHPKGTGIFN*NK*DSITVETIQRKNFFLTPFYMYCILYGDIGKNLHIK*M*FM*VKQNVNSNNK*RS*KGSRGLVLRKIVFSG*SLHLNRIIERPMVS*KSRPL*KTSVSRVSQNL*TPHLLCVGMRTLSGFFWV*LWVDHLR*VGVRFIMSDIVINPFHDYYVGHCN*SLP*NGGGRNQKGPGLGSVVK*EKK*SSSFVFP*SPQNEDRKVSHVGGIQ*NTEITTSLL*SKNGFVQTRRLK*ERRFSAHTKSPSPSGSAKTF*RLSVYRSVFYACGPTGLSLLLSCFARTRFGHSLFPVVWSLEGVFTQICFVLSTKTHGS*GRVSR*DPPLFGSMTDTRGPEKDFHQKDRQYRKGKRRLVKIKTGRKHD*KSSTSFEA*RPFCFVLSLGLL*IGQSELTQSTSELFRYLSKMININRTPEIVQDPRSLKSLETSRRRRRIIGTEYD*PNHAKIRCFRWWRMRNLFSIRPKSFS*ESTKVNRRFSVLQEREKSRNRNDSLTVKPPFH*FKTKIKFLSRSLQ*VRGMYLPPDSRPLTDKGLVMTLEAH*AQRTTH*RPLSTETLPRNTVHDGLKTPLYESSGHTRPFGR*DTN*LNIHIKFSDQEED*GPYVQMTRTSVLRRAEPPVKNTGNDTVSFSTSREYSFV**YRSPPDRTIF*SYQLIVSK*ETVSP*KKERERERERELLLENLPSSDTKGRRQKSTQYRGSMSRPELSRVGL*S*ESSTRKTKSSHL*TSFPRSGSHSLSLATLSYIKNFVKSDTNDAQINHLGVRSSRRLTGPSSPAWET*RKVRQN*TLSVSVEG**ENFQE*NKVQVRDT*TLDDLESCR*EYTHIYINFNVICLLDE*SDKRYTNRVRETFFLLDKIYYRLSICTIFS*NGF*HLGRTGRTTSSTLKTIVYLLLYLIVTRNQRAGLYYVVP*EKYSQTTFFQRLNSPNQTGPWPLQGPPLLCTRETQ*QGKQRRHHGRPGPVLPPGVRRVGRRSRW*TWDGSGAKKSSILSSGPRQ*VNDK*QRLQESLRLPTT*RLPKLSSSRRKPSTTVGPGKRFCRSGGGG*TNSRLLFQRFL*FRTTPLYFVLWMTEKFL*NLL*EIPK*NMTSVDIIQTFCHIPKIMSC*DERQKDGLHSFPPPPHLHQFSNKTYSTLLNFST*VLTFAHCKPYDIKRLRYCNLVTFEPHTHTHTHTHTHTHTHICIGPIVTLLNY*PRVVVKLVFLLF*RRDITRDGHNGVTDLRDGFGPRPVSTVRPTFVSNKCPVVPNHDVRVTNEHFAK*SLFIQILSPEPNFESTRPNTVNSKILETKILIYTSG*HL*IEFCVGVMCVCTYMFTF*PFASVPYLTMISSVKTHFLIWKNDKRSTYPRIKHWNRPS*IGSPVEGEHDTSENHPPDPSSPRTQTSTRLN*DGKGVPTPVDPNLVWSQ*RATPVQGPHRSVDDPDWSSERPRVGTQ*HTRSLVPKVDCRLPRVETLKDGWLWSSELKSKKRVGCTRYIPVYLLKKRRGHRNRNITLLYLQTFHYPLRPYFTRFSLVIVKKKEKFLVVVRIRHFS*TCTRPRTGCLR*STTKLDFPGYYIYR*QD*TTKVGSRTTKSPCHVSVGTTRLDRLKRSKGSQQKIVTSNPITMGVDPLLLSLLRPFTSGQPYLNISTYLCTNTKHTENCLDTSFQGHSNMLF*SIVRPPDHQ*IKKNKIK*NNNVLTIRTLDGRVDSKKRKDSAPE*DNGSDLTLPY*HRVTSELKDPSSVREWSQGSWTLMSVRGGTDRLKT**TSLSLERYNGSDQGVRTGVR*EDAVGSFKTLIRVSVLGDADQKLIQKSHVMQQQLISVLRHVVQRSQTSRTK*L*NTEN*R*VVKEGTGSGTVGGKARN*NTYAT*IYGV*SPQSVTDRKTLIGQSES*YRRCNSV*RGKGGRSTDLS*GNTYIGVTFLIRKPSVNLTKVKNR*QLPRR*LYPHV*D*RQENLFISSP*RPRIPSRQKLKNSLEV*QKVPPT**NIRVVVTRPQGHRGVGTAVNRKKKKEG*DCPQYTIEEHQN*TLRGLEQTKRKEITNHCNSLKSMWITGKHRTSLRINSGIG*KGTHNEL*TPQSTHQRSCGTELTEVFSKRLWRRIDLSSERSVFYSPT*ETTLAQELPLSPFCSLRSFIKTLW*RRENIPSDFVSVLNLWS*RNTK*VTV*PYSILCR*TRKSLTVSHCGL*VVSRFTHLFLTYLPHLRCYFST*GNN*FRQVLKPEIRNQIKNFVSNLQKSLVESLHDLGSHHRVQTLGSLNPPVPST*RTRILKLWSGPLYYFRRKIFCKLSVDPHHRQRTSGSMSPPTPTS*WTRTLRLRRHSALVR*REVGPVTSLWGRLFSFFLHNPLYTDNFGKNHKSHRNFNQNSKRTLQFEHQLHSKTLIEFILFTSSKGGDGKQ*I*QSHLKEGHK*STVTCRLLDPTLFKKRVKRFIHKKNVPSARPSEETSAKTISTPVSQ*SFHSRSSELRKDRTPVTVGRPVVSNK*PESKRVGVRRKEGREVVSLAEWPGRRFGLTAVYGGVTSLLCISNRRSKCHYGSGCRSPSSCTFSCRHLCPGCPTGWSSKSSTPERLRFPWVLTPEEVPKPVSKKLKDNLNSLLLREKTDRSSLTRFLNCLVM*TIILKSSLDTSSPS**FEPLLDDLNLSLIKSINSRDSSVCKSESTRRYFHL*HYETGGIPPTRLIYPTSPTFLETSEFRNTVTTNNETTTKDNYPVILG*NHRCKIFVKPKKKIVFVLFCFGTGNFR*VSTKSVI*DPV*RRGHFTTCSFYRKGGIKNKRSGVKVS*TEKKSRSKREVL*LLSPSIQTCRPRIEERMVRRVQINEYLLLTGILLVRRSSWYPLGRFLKVGYFTRVVDY*GS*FP*PFSTGWTPGWAG*VNR*RVWEDGKRGGPERQQVVT*LKQEILGVGKLRRQICITSNKRTPHNHHPGICYDSGRTNRQYNKRTQTRS*APIYQGYVFTTETSYTGSAYDPLYIHSRG*YIPSGWSDGPSDRTVLSFHCYESKNRKKFFFRPISSTFLNHETL*RPSNILLRTPEPYKYY*KEATTSTILRSSVPFYGCCKFHERG*RRSLIGGGGGSKIQQGRPTRTNPTCKG***RVIVVNFVCEGTDKLCPVNS*SSQTEEDEVQKSLYNRSTLNKLFRSKETNVPTRNTQRQELEQRGLNSPRVELLT**PAMISVFQLKNPNSTECRFTNNYFSLFRVKKTNGSTTNEGKEKQLRYIPFYHSVFIFIGLGPLVLLEGGVNQGCPGPPTHSTGRPEYTSHNRILCR*IYLDGKGEPPSDVGCPGLGRTGRPVV*KPFGGDLRLVSCPVLLPGDTQLKKVRKLTHVHILHFGHTTARTPPLDQSQRGTESQHPKHLPDVSLRGSPVVGDFGGHAAEHQGVGGGVSKDTADRKRKRREQKIRRPQLWCLFL*LQEI*ALH*KLLRPLICTNRPLR*PYRKVRRTNCQDGPYMTRKRDPKKGKRTN*RYFNCVEDNSLYRGK*ERISIFFTIFTRESLFF*RNL*VCVTLGCECKY*FPLKWEFWTSLEYKNHSVTRLHI*SGRGKENSLFNGNETILSFIK*E*SLR*NDFRTYTKITKVG*NIKIALHLSPYTYLLGPLAVETYSLRVFVTQRMEPLATERRTTLSYLKAKRK*RFVRGR*NPNYNKDGVSLYL**RRDNGFVTTTDLEIGCRDKITLKEL*FVTGETT*TEKQ*RKHFDVSDTKRSNTTR*GQ*LRNKNLMSRMDVRIKCRSFLFYLAK*KHDNDDSQN**NVHKKTNFTYSKVIMVT*AKRKTTLRRDTYKRNFVSLQRIQLRTKINVMT*DTTD*P*RIGQTDCHDRELILTSNSFCDKPLCDEHLPSSS*FFFSL*PSTIFLHDLIH*YTYECVLWKYKKEILFSTSLYCYIGLYIFEFSNNFL*Y*KYIIPRLPRYNIR*VRHINYVTKQIPDLP*FLKWF*KSLVG*STCSQSIP*HK*AQFNRTPQKETFSDGYILTS*Q*QRNLCFHP*QL*SLKK*TKRKCLLVLSIRKVTPMSTSRR*LYRLFYTGVSDGTR*PTVGE*PNVHG*LRSLSLMDPGPPVYYLGTNK*K*TLKNPSGGTELLPAAENQGNQHDTTQSDHTIEIPDE*TRRRTLDVRSRTFSFPLMSKGSDGPLSVNDVSPEELADIPPLSVGHGLLLVLVLRSEVVGRPTRVRLVCIGGRLCPLSFIYFSNFFK*GGGTGSVEHLEQETKLR*LKTLEGTRSLRPHYEPPVGQSQTSNLSDQYHATNLVTPGQGSRSFLL*QS*SFD*SS*PLLTSV*GDTHKLV*VHVAREASKSV*AQDTRLWKKFYSYL*ANPEYGDHAFSEIQETE*KISVLVIEYGTPT*T*QTKFDNVLLKDVS*NRIGETLNVILTYVDNTE*QSSSVHTDT*IIIL*TYLGRCLTKIGG*TRNHQRKTNTHGGLTKLKRNPLYPVLPRRPHLVSGRIHPPCPLRSREKTNKCLYLRLPSTSTSCKCFRKL*TKTISKENFIVHFVV*VTEIKSHIKSFYMPHEQF*SLRKQSRGL*EQVSRTYPGP*T*NVFGIPLKSYVKLFEVQLRSVRRGP*SPSLL*KTCSVILPNPWSTSRHQNLTQTNKCWVEV*GPTYPGTIEEISVQSSSRKKHLCLLS*ISHTVRIRLLV*HNCRTFSPRTTQCRRWFLRQQ*NSLY**KEPRSFRFYSGQPVGQRSSQVRTLLRMYQR**KKDYPFLPLKTSVEH*TVSIR*RGINRVVEKKTLTILRKEK*IISSHSTGILGGLSRCQ*HKRKGSRSTEKK*QVDSYVKLFLS*TFI*RTPT*ELLILLPSVTFNCILTRFNSLIYI*VYVMVNIKKKFS*VGPARTTECGH*GRETLRLRAPSGLQSSSSGRSD*LYNFGAEMIFMFLIDPHHHVRTSGSTNPPTPSS**TWTLHLQRYSVLVW*REVGPVVLILRQKFFFLSLKSDSTRKKERRDTMVSLVVSRKEKKKGGRK*ISSIK*FTPHI*SNVHSVSDSVSGHQGSNKLPFTDIRIEVSSDFALLGNLGPQVLVGLVVSL*G*VFCFVLFCFVFGFHPFFSFTLTEHKSSRLLILSSSPFPRLWSRDLFM*RRSN*INPPYNCVESRKMYRFTPCNNLEVFLTK*SCVPGKPSLSLRIAHRPIFSQ*PDLDLTFRGLSGRLCNYCLVYGVPTVRTEMDSEISLHSSYPTKIRKYSGEK*DTTGQRRSCVPSESQRYRD*ERERLWVCVCRRVSPGSQVGTREKSCSFQPKSKEDTQKGRTVNN*T*SE*PHCVCKVKYNKKTRFYKKRSWFLL*GTLVKDHSHLKNSETYVYQLLPLR*KPTTLRLPSTVEGHRKLPPSTV*VTVPNPWHGL*RVGEGEETTGRSIYSGCCRSGLSP*KHSHNQDHVHTTCRSLVTLRRKHSISPVVMKDTKGV*LTHHPLPHPHPPPTSRLL*LLRTNPLHATTTQTT*SKCSSCSQRKRPRTSKVSHPTSKLTEYQPRQVYLSRGHVECGRE*RQSYHVLRRPTKKKTKKV*NQSGRVDDYIHPTFGLFLVLV*PTAPSTDIRVVKPSGSVRLVDVSPQDLVGPVVYHFGVEVIFYVFNRPTPLRTDIRVDEPFDSVLLVILGPPSPTSLDSSAVT*GRNHCLTMRQSVFILFYFILFYFI*FPSLPMENIVMKTPFTV*GPLQSLSWFYFPLLASPTEPPPYTLSHRSRVQVTITRSLYTV*GPSPYLQDEGLRANDGPSTCSTRPL*ET*NQLVHQIWNGRGLL*TH*SHQCLLN*P*TGKYTRGVGGTGIKRRGKRGESRRFPVLSNGF*TGPGTDYARELVSVA*TPTTQYRDYPNECLRVPFRTPSVSERYPLFTHRLLDGTD*WI*NNTSLIFTLKSSETSK*SPWVERHHFRKTNRYPLTTRSEYNLVFIQLRSEHKNTPFHQTSDSQCPGQTVRHQVHTNSQDPSFVCL*LSREEGPCRNEDERDKRLFRGDLPFKLSHISLL*QSGPRHRVWTLGS*NPPAAST*WTPVLKLWSDWSHYFGTQMIFMF*STRTTMYGH*GR*TLRLRPLSELGPSAPNVTRF*HGPITLTLRQSLVFFFFFFFFSFLCLL*QRTTGKFFFPFFFL*RSELEGIHDTFTCFSCK*IFELNTVYDLSKAFHSFTLTSDTFMYEFFFTDGSKPSPFCQMISQAQLTNIH*VNSDCSLIQF*PILTLRP*LQRSILNFLFLLILKHVFFSLKLSRFLHLPKVSTRHPQ*TPRTKSPFYGSFCTSGCPLTGRVLARFGGCVRARTSPSLTSLSVGIKYRGLP*NFRIIFTYLHFNSIWSHLSR*FKISKNLKRAKEWEKGAKHKNIFIKGPNM*IRLRGMK*TCFKGIQ*EEHLE*KF*DYYYCYFNYFRKNK*IKIRKVNFSTVYF*KSSVRQTPYHIYVHLKTVPKHLRLRKPQYPLGISPLEV*LTI*KEKTPLGIRYKQ*SWENDRSKGGRDSTKGLRT*EVEDE*SWGRVGTVTRLPE*IV*SVRVIPYRRRQSEITVTQ*KDQRVSNCHVSSEPYATPNQDCWGLYGFRHLRVLEINFTTS*TYT*HM*ESI*ISKDHYGHY*LRNIYDTFINNMT*QKINIKF*QHNNKK*LIESL*KLDTNQLWYLRLGCLYLLTDIECVSWWDPRFARFNGSLFTETDKRV*TRRLLRFP*FSFITSQPSSVIDSRITVRIVIREVVKKKGSKIVV*LRHVNLDKDRGEKKKLYLRTRQRV*RHVTVVEPSGVGDGGSKFVKRTESEGSSTPMSVSGGTGRLKR*KSSLSQSGTTSPTRA*GLESSRRVEPKGFTILMSTLGETDRGQNKNCLLLWVQIFPIH*RVSSVSLTHEFDPVPGTVRLACQGTITSTSPTSDGLRPGVQHLLLVSFPSLP*PTTGVASYVSTVFWIGPSSSFPAFVTRTFKSE*NLQSYKVRIREAKEKATSTESSLGIIRFFIKTIYFMKKILYFLNVCVPVF*VYQIFQDFILHKRWGRELRIRETGVH**RFREYIGRSLQIHGNKSVERHPVDGRGVG*DTRSDYSRH*KSLLRVFGSVRRRRRPTIAVGPDARVR*RISQG*GDN*RRRIRGVSP*DL*P*VTTPRCDVRYVSHKTDMLDGLGPVNAFSRVTIRRKKKKKKLCLRTRQRVRPHDTTLESSDVGDGGPKFAKRTESEGSSTLMSADGGVG*VKKIKIISIPKWYNRSDQSLRTGVH*TGEGGGFHDSNAALGGADRPAKNDQTDLEERVL*EFVFQGDVTHH*KRTSTPS*KSSGRIRTFVDA*IRRCRVPGLRLT*SSCLSKPLRSNRQFGRGLRKTRDIHLELYKDTWLRLTFRTTRDFQGPKTTQGVCSNRVMSLQPMVYRP*NFNRQSRSHPEYGSDTGVTPRPA*GVLVGVNGRAEKGERRR*TNTLGL*THTPRVEVLITKKSRAKIL*NWYVTYLQRV**TYYFKSLLTGDGFLTYLPSPSRVHAKFSIILKIHFLPGEEIKL*LLLKD*DFTKRRGLDKNP*KNLKVGRNSLQTQMFPL*VSKSLSCPGDQGTLFSGPGWDTFK*GGFKQVDLSQKRSH*LPQTFV*VLMIGGPVSASSVSGPTRSTDEPLPSTN*SVRTREPGFRTSTKSYSVTSSSDTSLILTHQ*EFSPEGHTRHTQKKKGIFGRFPVTI*ILY**NSLCDFT*SYLFFH*ATSGHMTVHPLLKRTHQYPFPHKRKVTTK*GAQIT*PKTLASVLRRVKVTYRTGSYSKVFLTPLCFLPGVTTPDPNKTQFP*ASMTYRRCKFRILRKELYKVKCKGFCLLYTISVKGFSKAS*SIRVVTRY*AHQTLP*VIGPEVMSTSMLVFP*LLRSLLTDVQEFTERPP*SCLSFKCNTSLPYLFKVSFWTCILVF*TYFRP*RT*PPVSSI*GHQKIKPKTEDGRGLGKERF*AMRPTRDRLKVGRVYLGPNVDTET*NIGPKPTQVEEVLEVVGRPLLLLCGEKLPSVGVRPSPEAHT*RSPGFYPQRFSIHS*REPVQGPTSESIFTPIT*L*KKNTGNRCFQNHTTTVVLILT*RFIG*GPFLFLPKFFFLLRNFRLDERGPTRGFFYRRPIVKNSQTR*V*GSLPYFHLNRLNILSRL*DRKPMILF*QETSEDTSLIYVLYLPEFLAMGHNDKSNQ*LQYNPTFRSLYHGL*IKDTRYYKRNNLLCLHTVSLQISFIPVDPPQPRCIENQSELEVHDLEATRRKLRTETVCHRPVGAHSVD*ETLSKSILLPPPSLEGPDSSQEPNTLKRKVKGSAPPLDPRDLTFGVVLVAHPVPQSPVLNSRIGSRRSVPGWGSRRNTFLHVTSNIPTGE*RPHEKQQCRTLMPFHLYD**RRSVCDLIRELNEYSSMGQTEL*KSSRSLIYVKSTHGYV*TFTFLFEKVSD*TTRDKPSLSIEYTDRED*N*VHYSVVKTKGSRLNLYTWQSILTY*HTYNKPISQLPSLKVN*TYDITFLVSE*VNK*VSSVQLTCK*PPRGLFCVSYQRNGHPTPLYLQRTLEAVGIKHTLIYVSIQVHV*GYIY*LDPSTLV*NSLTSKAQIRYQKRWTLWCQLSPSDIHGLTMEGGPHGTHTF*THDL*SFVTNRVCIHLV*RLLTSDKSSSNNLASVFNMFLS*QYEHHRSATLYLIGKKVTFINKRRFYNLN*KQDPSLFYWSRIVYDGNQKYDVKTFDNT*MEFMTNDYRRGTKRHNTNSIFLGISIHKVSENAKQPKTLRVPVIYR*AGYTYLEH*NL*IKHHK*NLKEVTIKIHQYS*KFEYSFFFRG*KILKEKSFFNL*GTLRKFSV*DIEPFLTLVF*VTINLLLKFRW*NVPVFLFLSELQKRNSVRFNVYKLTEF*FSRRDRESFRLVA*SFLWKGFLLFGSYGYTLNYRQGGH*L*EILQ*SFYESAHTWDSE*SRYTIREVRNHSATF*KYKSRP*RE*CGVVVYDTRLGDKCVNPTVTRSGTLFQRNPFTSTAFVTLNCFCSGSSASGTGTSTTFHSPLRPPSPSPTHLSE*FFQGKHRTLEIVPCPSLSCINWIPNSSKAIFSRRACLINRTRHT*IFLFGQNNLSPSEDVSQ*ETEEEALVLRSKRDIKIHESLIVECILT*IIDPQPHNLNPEFGIEMFMFF*TQKPPLLLCIPSSFGRENALLVSSLL*PDPLSESSTLPHLS*SRPRLGGPCVFVNGTLHLQHNTNTLTLVKMQLEGWDEVRVQVS*IS*KLVIE*AGRHKKILFSISLDSVIFRRTSLEPFF*GTAHKGCKGPSLRVGTLYHDPYSVRETSIRNRKKTPKSTLSVV*GGFPFIVRPETVVLHVKQKTQKIFRQIDSLRVPFDLTKLYKGWNLGLRPLLVTRQNGVHSTVVTDSVGDRRMVPVHTPPGSEE*RKPP*RPKRLPRVSMYPITFFPPDPQEKENTTGPTVGRDIPVSSYNQGFGNTAQERMSGADTEGGRSTGHRGRKCM*SHLKRVCQ*T*LEGKHFDFLTNVVPRIGTGIK*KKNFLWV*KGMT*SNSTSRVPFQNGESS*ILFD*RSGAYTLDTVRTNFNVSPSNTLKRILPLTSRETLR*SSASGNGRVLRVRVCKYRDKYPLADLGGALRDSRSSPTQFLRTSPRSDITKLYRDGSQRSDQSPWYFKPHQKTLRNLYRLLL**STRSFLNRNHSLRGREQD*EPG*PGGHSRNCVSLRQGTHPETGKELFYSLY*TF*KRLRL*VKVRQS*FRNR*LSSTGTQSPLLD*TLIRMTSIYYGVSFWKD*TTVSTSTTSTNPLCSYSI*KNLGRVSYHSSSFLT*AGL*DVKLT**NLYRPEGLGRGSRGTHVQISRKILGVTFYKDRYLCFFPDTGMDPRSPFLPRPLKPKLPDLPRRQRSSIGPPPKPFPSEEYKNKTFTILSKQSYSRIQNQLFKKGILSLTS*V*NDTQCLPTRGFLSNFLLFRHTSLCNKRDPLSLGPKKVTYK*P*NFS*TIH*SFELLRIETESLKRTSRYIINHLKKTFPSSIYKI*KHPAYQKQR*RAQTVSSLFRHDLHVFTYLDRRTVILN*WVCPPSVLNRTSDIRRLGLGYGTSLITCAHIPLYMSLQVTDDKQYRLWTFVYGYVYSLTYLFHTTQICYVIYVDTFPY*TKTKIFGLSKVFLLHTHFLQRF*ILEIISKYTNFYYIMNNLSILLGFPISPP*VTKGSPASTVVLSLSLLVQLTQRHGKLR*YWFPNK**NLSNISIKIHTKRHTILKKKKEEEKKKKKNSVSERDNGSDVTSPH*SRVMSEVEDPSSLRGQSRRVHRP*YPHTVVRVD*KHKNHLCSKAIRPVRPELEDRSTLGGRSRRHSRP*CLYSVVRVGDIQFEIFFFFFVPNIIDFYKTT*RVPLWDLREKSLEEKKELSRRDTVSTHTEISVGGSYGGSGLRWALPHEDTVIGTRTPRLLEVPEPQYVDGRPVSVPHEPKGFSLRKCKMNRPTLG*FLQKFLLSVKPVRVNDLVRERTEHVGPFINNAIRVNSNYLTNFGFVGVFGYRSDVSTRLFYGEETLSWYTLKGALSREVHPLPTKISGGN*AY*KKERKKKKNSK*IKHQ*LKNLYLKSTNHKTQTIP*FIRFSFPVCFPIKSLERRTSRRK*NGANRPLGDTNLQPVQGTPPDGRKVRTVNGTLNFVKSIRLSSICPRVYRSLRKTYWVLREQSGCVSLRLPASTEDTSPPGTRMDVTSNNVTVLKEPRGFSTLGDQPHVGDSDPQTQRTSQCLSSEVPRYGQCGGSGRLVSLTSLSSLPTWSRDERPVYPCTGSRWGTRPTKKERKFVRPHGTVLVSSDVGTGGPKSTRRVELEDSSTLMLLHGGTDRFKTQKTKNKTISAPKRKKEKLNSF*NFCKKVLSNLKF*KSLEKAYF*RVIYPKPFD*FVSKLKTLTQMHVHAHTRTYIPSNG*INRRSLLVCLGLVPCKLFYSEGLQSQSFLFLTTPLPRSIFPRLLC*GFTFSP*DLT*DTQPLPPVKNLSCKHSQETYT*HIIMTNIKT*SQLKRPPPLSP*TTSSLCDFLTLNTS*SLRTSSQNSPGRYFILVR*VIGFTHTHTPVHPVLYLCRSLTHPHCSFGSSPPMSDTVGRKRRRHLRRIYSDPSHRVDIRRIKL*DQN**GTGWTHPLSPSSKRGSSHHDDPLYTILPTESVK*FRKL*MRISWGLQSTGTSPRGRFTGLLCIRNWRTPFLVPTVILFN*HLHPYFYSNIFL*LFPRYLLCPPIPE*VRSCDVKRQ*RYLRRLPLLLLVNHEVFTESDDEHTTYPSDSGTVSTTTKPDPRQPRFLWLFSTTRLQPV*NENPITYLTNLSSLSFSLVPTEDLKVELFDLPPRRRFRPS*TLSPDPVPRI*THLLGSSRTRIDSVGSPLLLLRRPSSSRDSHPIVDPPSFPSTLKFGTRTCLSRRLFEPSPLIFGLQSRTLLRV*ISN*LSWSLSSPPARPCRTRHPFSPVPRVSGVYPRSPSSPVHHLGAASLTTLRAHNSGPGSPSPPWGRVGSGLLGLEEGQNLDRLSFDSLLETIRPVYVGKLAPSCLHGYNFTTLLSLIAIIINDWGGPLRLVEGPWHRLVNCIS*NASGVLLGLYPP*T*G*HTPSCYSFVVLTKLWSTQSS*VYRSEDSSPEHPDFSPHRPGSGSRGPGGESTEDESTPGIERDLTPFWLL*GAPPAHSPTNHGVTPE*QRCNLLSGSIFPITYPEILYRTKVSVNDLRWTSIPGSYPNFYLHLLLQFVPGERSRDEGFYLPNKNFHLLLLGPFPRPGPKGCG*GSVTPRYPNTLWTNGLPSPFSLDN*CSNDYMTQVDTSRDPANSTCVSRTGGRRKSTHTCTHTHALTHSQPHPQPLTSVSSLFCGTTYIVTLIHYPINSECVKYFRNDKNRV*CD*NEKIGLGFGSIGSFTIWTRQTKSKNKNSVPE*DSGPTSRHRTRTE*RRNRRTQVH*EGGVGGLNDPDVRTWWCGPIKNHLCPKMVWYNRSDQNLRTGVH*TGGVGGFHDPNVRTR*RGPGLVKKKKKPTLSQIEKTAPTSSHRDRAE*RRRRRVQDR*EDGVGGFIDPDVRERWCGPIKKHKNHLYPKATQSVPPEVEDWSPRRTEPEGFTTLLSTLGGASRTRQKNHFGVEGVDILPIL**VQYPTASLSYSSRYDPCPV*QM*YPYNQKEGNHWVTGSGYLVV*QGPGINIFYQSRDTTSCRL*GHLLPLNRTETNERKRAHTQGSEENKLGLRPQTTKDRGPYSLPVRSETESDSSTTSLGSRHRDTFDSGLRINLGSRTLRVRRLVCRTVCVSRAQPSSCGGPLKPGPEPSS*TCPEVLTLVPTSGSA*RSVEDTREYKGRRLDRSLTFERTERTKGRRPESDGPSGSSHTCVPYRSPAPP*FIKE*I*SP*CIERGKN*QVKHLTDSSGGKVGTTYLTILKDEAYYQLETVIGHIFRSHHYKRRNTE*RRVLSSTTNLWD*WNIEHL*NDILSHCFYVVECHRIVNIFPF*YPARTTECGY*GHETLRLRPPSELQSSNSGRTGCTTLG*RWFLCFNRTTPPPVDVRVDEPSDSRPLSELGPSVSNVTRF*HGDVRSDPLFSL*GRVFFFFFFFFLPFQHYRSRKTLGSQSQFCYLIDKTSFINYKVTNLSHIHRVSPTPVHNPL*PDSCTYLPVTGTISGSFLY*SVKSLESVPCTSSMLSRFKPSHLWAICPSHLQSPPPRLSLLPDLIP*SSPFPYHTCVPFRKTSTLVVLNPPYTFLMATYREANSLCFVTSSTLELKLCSSLTVTPSQGICQLLLLYPESSLQYYLYA*TRIKHTQILITELLYTFMYLNYLVKEINFPVFFSSRSVSKILPSLSVSPSTPFPCPILICLPDPHHRMWTLGS*NPPAPPTEWTPVLKLWSDWLYHFGAEMIFMFYNRPTPPSVDIRVDEPSDSVLLANLGPPPPTPLGSSVVT*GRTRCSCSEVQFCFFCFCSFGFVSLVKFFVRSLVIVDFGVSSLLTPQPPAVNADC*VSKKYSKSSPFSPCV*SYKLFTGPYFFCVTT*NWLRRLLSPNFPSSRSQLSFLKSY*SMSRYSSTFFL*PHRPVDLHLLLYQ*IRWKREVLLVR*INIKVLFMYSTRSERLLGSTGQKN*NLGVTQKKRKERKKKKKKLCLRVRQWVRPHVTALESSDVGDRGSKFTKNTESEDSSTLMSTCGGASRLKTSKSSLP*NGTTGPTRA**LEFTRRVELEGFTTIMSVLGGVGRCDIKNIIWR*PKIVVDIKDRRKILYLYKGKTRPPQNFNQ*RERRKN*SHISSSKSSVFTKPLSFVTLLLSSET*AVSIVVISDNVFLVVTFSYRHCVTRPRPHSESYKVLLSGSYNSRPTLPTPG*GDGAKGKKTE**VFESYTFKSEIIQLKSFTLCEYMSY*SLAILKEYQE*FLKVSFLMSNLQ*PN*KRIIDQFLVDTRSLYFLS*VPLP*NNCRVWTRRVCNKYQE*P*LKTR*LTDHFWLL*SRICPVSG*LGRFYLRKFI*IKNVKGDVNVPAEGQFTYRGLRDKLSHM*VVSLHTH*EKRDRKRTRTRRFYDMHEVERRKKSPTT*SV*ASSTSSTGIFPV*NTIRLLVTRQ*LDGPKFLVSSTLTTGGGRSRLQEGNLYKYLHVDVSPID*AVREPYKK*GNFLIRTSKRVNAHQTV*REIGSKQEFLTSTHSTPGPTPGGVPDERYK*GVVFPD*NETVGTIVRSLCHLIKIILYDCFGHPSPRLTIKSKLLSQLPTHVTEYGH*LGS*NPPVPPT*CSSPLVPVGPVVPLWGRDDFDVFNRPASIRTDIRGDEPSDSVLLANLDPQSPTSLDSNTVT*GRTVVSL*DRPLFF**T**KINILVLLKTHP*LRHDGINQESC*DFFSVLIG*KRHSLTPCLRQDGQDTTTKTRHLLTPHFVVVAHVFQLKGLAGTTSIWTERVERGGSLTRRT*TVSFRFRDFSVHIYLIPDTLHKSKQHTLSRPRTLRSRIGVGSRLTETLESFKVSETRRLQGGRCVPSTLGRLNRTTGIRQLTGRTI*CWEPSPCIPQPFLAFPKL*LFDSRNVTIVV*ILFVEIRSHYRQTEKQITTF*GSRVGAQ***APTRTSRPFSCILLDVLPGKQKLEVFTPPQIQSRPAQIQNRCTYPIITARKRKTTSTRKPHNYTL*K*NPPSGMGP*GHLLEKFDDFLPVSYLFGRLTWLLDIPDNRKDGHGVT*TVWSLWRGLHRAKTSGDQRICTRFFLPTSRDPS*VSTLCIAVAVGNEQTLFLVIRLIPLPKPSLPQTDGPTPED*NVSVVLTRRTR*HDVEDARGHLTVLLGAQSFVRSFGAPAGRPTS*FLGCVGKGPPTRTGGGPG*HRSSLSHKGLEELGNF*R*CLTAVGVKESRFLEHKPMDPE*TQNHVS*FVHRSAGGMTWSRRTFWYLTKHRFGRSVKFTSIQHKHCTRTTLS*SRNFPQRDGGRSWGGPN*FFSLTGSLTPDNT**STPKI*SLGHSRKATWHLQTTYRCKISYNIFP*ITRETVRITKKRKHCIS*TALGFSSILDPSIRIDSQLVLQSHVGSPPSN*VVFELQHQKFKIN*KKIESFDTVDLSNSGFRGPSIYHLDETTTRPTVPSLLTSGRVPLCVKGSRRFRRNPTLR*HSTVTPGPNGPFCVSTQKELPKLRKDCTKTFSFTESLLDRPFENPFTKYWGIRSTNLPRLRKRIKCGAGV*RIILTDIGAWVTYTLIKFL*VKRVHVLLLPDNRTSREGLWLQVRQPSSEPSLRVRVLVTPFLKEDLRGTGTNRTLCTHHKMCV*GDNRQPTSDTRTNKKKVSQSIKLIPKESLVLKRVLK*NTQD*VLWFLSPCRGSDGSHIDDHLVRPHTPSHPFPFVISERKTTRTLFRT*GHVQTKTRNQ*SPI*LLQAVVNELPYVTSKDCGRRQWCHDRIH*DNHYDIRNVGERSTYICM*QKMLLVECTKNVFLYMENNFINKRDFINTRADIRVVKPFGSSRLVDSGPQALVGPVVPLWDRDDFYVFNQPTPPYTDIRVDESSAPSP*RTWVLHFKRH*L*RGDVRSDPLSRSEVEFFFYYY*ILGTVVLFVSRQ*VTRLNRYSHRGSYTSISRKILIPFVYETRPFYYLGSSDQFRILSL*QLLT*NSINYSYVLSQENVSFD*GLVR*QSCSFFNFRGFIKSSFYYVN*RLNPLSKSH*KIFHY*FTSLYFRIESSK*NTQTDTGHDLFPSLT*IYLCRLEVFNFPFLAKFPPFFG*KKKTVLTTKIIFKEIDI*TLDDYRDKKRIV*TFKYRSNSLTLFNQSASPSTDIRVVKPSGSVRLVLQSSRSGRTGCTTLGQR*FLCFLIGPHNHTWTLGSMRPSDSVLSVNLAPPPPTSLGSSTVT*GRNRCLALRQSFFFFYFYFFFLWPFS*FQDKITRVQIRVSLNKYINVHLTQATMTLNIDHGILFFRLTV*QTTYIFSFKERKTFSNGIRVLFAKVNPVLKQK**HSFFKRKLHHPHKQRSTHQLRLQQP*LCKGKTLRPYP*ERERLGPLLNLPKHTHTHTHTHTQKFLQINGCKVPEKRLL*LRQTRHQT*KTGESRFGVQYLINNRRPTHSS*RGDTVGSPPSLWVFKG*IFRKVSKSCPQPLTKDISRSLIYKSRNGRDTRDNVEAVTSEFHRCLLYIYLHKIRQKIILKYLGL*P*NILTYI*NK*N*DIL*EEEN*KKKLANGYNFW*KSGVRYVSADTRGFSLLHSGTPLGLPKNVVVVTYGTPRFL*KT*SLEVLKL*IGYKRTSKEIVT*YLNCMYSYRFGKNLDKCKS*ASRRLSLVNVDNLMGDLLLHKGKLIGALMLSFYIKSFIYKYQS**ISPRPLGVVQWPKVKRPRA*TSFPRSLLHHI*VAQ*IQAHFGSTDGSWISS*SKITRDGQLSTKYYLRFSFRFLSDPM*SAPESLQKHLQSTRPRDKWKIPRGQDRVQVMGVEFSNTNFILRREGKKVLMNLESVGELGISGTIGLGSTLFCREKGRKSL*TWSRLESLS*VDQWDCVLQEQEVLY*DKKEVWGTECLVRKES*VCICRHNFVLTDTDGQGFVLS*PLDRCDSSLWYGGSRTTEVNIYT*SPHLLTFSLVVYTFLNMSTFEH*KGSSSSSKDLVT*RCSVVHWGEWTARMTDTWSS*VPPARKTEGTIKTLLTSSKYSRV*MSRVYVIYPRPTYIYISLIHIYI*YINVPQ*KT*LKFTYRVTWIF*PERKKLSINDLRQECVLKN*KWLVSTFL*KRKSLLPYCN*III*PLYVLLISKYQKKH*IHRKDTSVVSSDQLDNEPELINSLGNFSLINVIY*LNPFYFKTK*TQIYDDSLLTRIWRIYGV*FS*VSILPQSKTTRWDSNAVALQIDLKGSIYHGRRRIFYGIR*GTPVWNQLYYRLTRRETVDRKTKTQRVISLIGHKRSHLKLLPKV*ETATSADNPRSSG*YLLTLCLNKTTIKTPMQVEKFPNESRLRPSWSGFLGRSMDVVCFIAATRKT*FHNTKRNLCG*VKRYRHVLLTSNVTRIHNVLTSFINYFGQLKI*LLFLQRCL*LQLFCFIYSALNKKI\",\n          \"FGFR2\"\n        ],\n        \"semantic_type\": \"\",\n        \"description\": \"\"\n      }\n    }\n  ]\n}"
            }
          },
          "metadata": {},
          "execution_count": 47
        }
      ]
    },
    {
      "cell_type": "code",
      "source": [
        "# Получаем список ID всех missense мутаций по  ID гена из базы `snp`\n",
        "handle = Entrez.esearch(db=\"snp\",\n",
        "                        term='2263[Gene ID] AND \"homo sapiens\"[Organism] AND \"pathogenic\"[Clinical Significance] AND \"missense variant\"[Function Class]',\n",
        "                        # usehistory=\"y\",\n",
        "                        retmax=100)\n",
        "record = Entrez.read(handle)\n",
        "handle.close()\n",
        "record"
      ],
      "metadata": {
        "colab": {
          "base_uri": "https://localhost:8080/"
        },
        "id": "Hm2iQ5q70ViL",
        "outputId": "8c22896a-9b99-4710-b1b9-28ae8a0d4b3b"
      },
      "execution_count": 48,
      "outputs": [
        {
          "output_type": "execute_result",
          "data": {
            "text/plain": [
              "{'Count': '49', 'RetMax': '49', 'RetStart': '0', 'IdList': ['2134256250', '1850289942', '1847510893', '1845559552', '1589722765', '1564919048', '1554928884', '1554927408', '1434545235', '1358919643', '1274989878', '1057519047', '1057519044', '1057519043', '1057519040', '1057519039', '1057519037', '1057519036', '776587763', '387907372', '387906678', '387906677', '387906676', '281865420', '121918510', '121918509', '121918508', '121918507', '121918506', '121918505', '121918504', '121918502', '121918501', '121918500', '121918499', '121918497', '121918496', '121918495', '121918494', '121918493', '121918492', '121918490', '121918489', '121918488', '121918487', '121913478', '121913477', '79184941', '77543610'], 'TranslationSet': [], 'TranslationStack': [{'Term': '2263[Gene ID]', 'Field': 'Gene ID', 'Count': '51388', 'Explode': 'N'}, {'Term': '\"homo sapiens\"[Organism]', 'Field': 'Organism', 'Count': '1116839409', 'Explode': 'Y'}, 'AND', {'Term': '\"pathogenic\"[Clinical Significance]', 'Field': 'Clinical Significance', 'Count': '130269', 'Explode': 'N'}, 'AND', {'Term': '\"missense variant\"[Function Class]', 'Field': 'Function Class', 'Count': '10256260', 'Explode': 'N'}, 'AND'], 'QueryTranslation': '2263[Gene ID] AND \"homo sapiens\"[Organism] AND \"pathogenic\"[Clinical Significance] AND \"missense variant\"[Function Class]'}"
            ]
          },
          "metadata": {},
          "execution_count": 48
        }
      ]
    },
    {
      "cell_type": "code",
      "source": [
        "rs_list = record['IdList']\n",
        "rs_list"
      ],
      "metadata": {
        "colab": {
          "base_uri": "https://localhost:8080/"
        },
        "id": "NEdbJdmz0f7E",
        "outputId": "3a206800-d6a0-495c-80dd-fd753e140e39"
      },
      "execution_count": 49,
      "outputs": [
        {
          "output_type": "execute_result",
          "data": {
            "text/plain": [
              "['2134256250', '1850289942', '1847510893', '1845559552', '1589722765', '1564919048', '1554928884', '1554927408', '1434545235', '1358919643', '1274989878', '1057519047', '1057519044', '1057519043', '1057519040', '1057519039', '1057519037', '1057519036', '776587763', '387907372', '387906678', '387906677', '387906676', '281865420', '121918510', '121918509', '121918508', '121918507', '121918506', '121918505', '121918504', '121918502', '121918501', '121918500', '121918499', '121918497', '121918496', '121918495', '121918494', '121918493', '121918492', '121918490', '121918489', '121918488', '121918487', '121913478', '121913477', '79184941', '77543610']"
            ]
          },
          "metadata": {},
          "execution_count": 49
        }
      ]
    },
    {
      "cell_type": "code",
      "source": [
        "# Получаем информацию по каждой мутации из списка\n",
        "def get_snp_rs_info(rs_list):\n",
        "  snp_rs_info = []\n",
        "  for i in rs_list:\n",
        "    handle = Entrez.esearch(db=\"snp\", term=\"rs\" + i)\n",
        "    record = Entrez.read(handle)\n",
        "    handle.close()\n",
        "    idlist = record[\"IdList\"]\n",
        "    if len(idlist) > 0:\n",
        "        handle = Entrez.esummary(db=\"snp\", id=\",\".join(idlist))\n",
        "        result = Entrez.read(handle)\n",
        "        handle.close()\n",
        "        snp_info = result['DocumentSummarySet']['DocumentSummary'][0]\n",
        "        snp_rs_info.append({'SNP_ID':snp_info['SNP_ID'], 'GENES':snp_info['GENES'], 'ACC':snp_info['ACC'], 'SPDI':snp_info['SPDI']})\n",
        "  return snp_rs_info"
      ],
      "metadata": {
        "id": "ZJTj6pH90jD4"
      },
      "execution_count": 50,
      "outputs": []
    },
    {
      "cell_type": "code",
      "source": [
        "# Возьмем небольшое количество ID из предыдущего запроса\n",
        "rs_tiny = rs_list[5 : 7]\n",
        "rs_tiny"
      ],
      "metadata": {
        "colab": {
          "base_uri": "https://localhost:8080/"
        },
        "id": "MlLZI57x0pEB",
        "outputId": "c515c955-b2cc-4961-b7fd-723850d32632"
      },
      "execution_count": 51,
      "outputs": [
        {
          "output_type": "execute_result",
          "data": {
            "text/plain": [
              "['1564919048', '1554928884']"
            ]
          },
          "metadata": {},
          "execution_count": 51
        }
      ]
    },
    {
      "cell_type": "code",
      "source": [
        "rs_sample = get_snp_rs_info(rs_tiny)\n",
        "rs_sample"
      ],
      "metadata": {
        "colab": {
          "base_uri": "https://localhost:8080/"
        },
        "id": "U3DcXkXa0q4D",
        "outputId": "56d92abf-ff32-4ff5-a17c-3579547e4e62"
      },
      "execution_count": 53,
      "outputs": [
        {
          "output_type": "execute_result",
          "data": {
            "text/plain": [
              "[{'SNP_ID': '1564919048',\n",
              "  'GENES': [{'NAME': 'FGFR2', 'GENE_ID': '2263'}],\n",
              "  'ACC': 'NC_000010.11',\n",
              "  'SPDI': 'NC_000010.11:121520105:C:A,NC_000010.11:121520105:C:G,NC_000010.11:121520105:C:T'},\n",
              " {'SNP_ID': '1554928884',\n",
              "  'GENES': [{'NAME': 'FGFR2', 'GENE_ID': '2263'}],\n",
              "  'ACC': 'NC_000010.11',\n",
              "  'SPDI': 'NC_000010.11:121517383:T:A,NC_000010.11:121517383:T:C'}]"
            ]
          },
          "metadata": {},
          "execution_count": 53
        }
      ]
    },
    {
      "cell_type": "code",
      "source": [
        "# Добавим сведения о количестве missense мутаций FGFR2 в таблицу\n",
        "df['rs'] = len(rs_list)\n",
        "df.T"
      ],
      "metadata": {
        "colab": {
          "base_uri": "https://localhost:8080/",
          "height": 457
        },
        "id": "DwnE7VvO02w9",
        "outputId": "59746358-b453-4010-ccf7-c0c393ee24d2"
      },
      "execution_count": 54,
      "outputs": [
        {
          "output_type": "execute_result",
          "data": {
            "text/plain": [
              "                                                                    0\n",
              "gene_name                                                       FGFR2\n",
              "gene_id                                                          2263\n",
              "interval_from                                               121478330\n",
              "interval_to                                                 121598458\n",
              "gi_id                                                       568815588\n",
              "nucleotide                                               NC_000010.11\n",
              "strand                                                          minus\n",
              "accession                                                   NC_000010\n",
              "version                                                            11\n",
              "prot.seq.example    MDRAAPLTRGPTAPGRRSGPPGLRRRTDARDSEALSARFKPPPLRF...\n",
              "gr_acid_num                                                      1432\n",
              "num_of_transcripts                                                 27\n",
              "rs                                                                 49"
            ],
            "text/html": [
              "\n",
              "  <div id=\"df-27ab5442-5b22-4247-95eb-c26b7d1b891b\" class=\"colab-df-container\">\n",
              "    <div>\n",
              "<style scoped>\n",
              "    .dataframe tbody tr th:only-of-type {\n",
              "        vertical-align: middle;\n",
              "    }\n",
              "\n",
              "    .dataframe tbody tr th {\n",
              "        vertical-align: top;\n",
              "    }\n",
              "\n",
              "    .dataframe thead th {\n",
              "        text-align: right;\n",
              "    }\n",
              "</style>\n",
              "<table border=\"1\" class=\"dataframe\">\n",
              "  <thead>\n",
              "    <tr style=\"text-align: right;\">\n",
              "      <th></th>\n",
              "      <th>0</th>\n",
              "    </tr>\n",
              "  </thead>\n",
              "  <tbody>\n",
              "    <tr>\n",
              "      <th>gene_name</th>\n",
              "      <td>FGFR2</td>\n",
              "    </tr>\n",
              "    <tr>\n",
              "      <th>gene_id</th>\n",
              "      <td>2263</td>\n",
              "    </tr>\n",
              "    <tr>\n",
              "      <th>interval_from</th>\n",
              "      <td>121478330</td>\n",
              "    </tr>\n",
              "    <tr>\n",
              "      <th>interval_to</th>\n",
              "      <td>121598458</td>\n",
              "    </tr>\n",
              "    <tr>\n",
              "      <th>gi_id</th>\n",
              "      <td>568815588</td>\n",
              "    </tr>\n",
              "    <tr>\n",
              "      <th>nucleotide</th>\n",
              "      <td>NC_000010.11</td>\n",
              "    </tr>\n",
              "    <tr>\n",
              "      <th>strand</th>\n",
              "      <td>minus</td>\n",
              "    </tr>\n",
              "    <tr>\n",
              "      <th>accession</th>\n",
              "      <td>NC_000010</td>\n",
              "    </tr>\n",
              "    <tr>\n",
              "      <th>version</th>\n",
              "      <td>11</td>\n",
              "    </tr>\n",
              "    <tr>\n",
              "      <th>prot.seq.example</th>\n",
              "      <td>MDRAAPLTRGPTAPGRRSGPPGLRRRTDARDSEALSARFKPPPLRF...</td>\n",
              "    </tr>\n",
              "    <tr>\n",
              "      <th>gr_acid_num</th>\n",
              "      <td>1432</td>\n",
              "    </tr>\n",
              "    <tr>\n",
              "      <th>num_of_transcripts</th>\n",
              "      <td>27</td>\n",
              "    </tr>\n",
              "    <tr>\n",
              "      <th>rs</th>\n",
              "      <td>49</td>\n",
              "    </tr>\n",
              "  </tbody>\n",
              "</table>\n",
              "</div>\n",
              "    <div class=\"colab-df-buttons\">\n",
              "\n",
              "  <div class=\"colab-df-container\">\n",
              "    <button class=\"colab-df-convert\" onclick=\"convertToInteractive('df-27ab5442-5b22-4247-95eb-c26b7d1b891b')\"\n",
              "            title=\"Convert this dataframe to an interactive table.\"\n",
              "            style=\"display:none;\">\n",
              "\n",
              "  <svg xmlns=\"http://www.w3.org/2000/svg\" height=\"24px\" viewBox=\"0 -960 960 960\">\n",
              "    <path d=\"M120-120v-720h720v720H120Zm60-500h600v-160H180v160Zm220 220h160v-160H400v160Zm0 220h160v-160H400v160ZM180-400h160v-160H180v160Zm440 0h160v-160H620v160ZM180-180h160v-160H180v160Zm440 0h160v-160H620v160Z\"/>\n",
              "  </svg>\n",
              "    </button>\n",
              "\n",
              "  <style>\n",
              "    .colab-df-container {\n",
              "      display:flex;\n",
              "      gap: 12px;\n",
              "    }\n",
              "\n",
              "    .colab-df-convert {\n",
              "      background-color: #E8F0FE;\n",
              "      border: none;\n",
              "      border-radius: 50%;\n",
              "      cursor: pointer;\n",
              "      display: none;\n",
              "      fill: #1967D2;\n",
              "      height: 32px;\n",
              "      padding: 0 0 0 0;\n",
              "      width: 32px;\n",
              "    }\n",
              "\n",
              "    .colab-df-convert:hover {\n",
              "      background-color: #E2EBFA;\n",
              "      box-shadow: 0px 1px 2px rgba(60, 64, 67, 0.3), 0px 1px 3px 1px rgba(60, 64, 67, 0.15);\n",
              "      fill: #174EA6;\n",
              "    }\n",
              "\n",
              "    .colab-df-buttons div {\n",
              "      margin-bottom: 4px;\n",
              "    }\n",
              "\n",
              "    [theme=dark] .colab-df-convert {\n",
              "      background-color: #3B4455;\n",
              "      fill: #D2E3FC;\n",
              "    }\n",
              "\n",
              "    [theme=dark] .colab-df-convert:hover {\n",
              "      background-color: #434B5C;\n",
              "      box-shadow: 0px 1px 3px 1px rgba(0, 0, 0, 0.15);\n",
              "      filter: drop-shadow(0px 1px 2px rgba(0, 0, 0, 0.3));\n",
              "      fill: #FFFFFF;\n",
              "    }\n",
              "  </style>\n",
              "\n",
              "    <script>\n",
              "      const buttonEl =\n",
              "        document.querySelector('#df-27ab5442-5b22-4247-95eb-c26b7d1b891b button.colab-df-convert');\n",
              "      buttonEl.style.display =\n",
              "        google.colab.kernel.accessAllowed ? 'block' : 'none';\n",
              "\n",
              "      async function convertToInteractive(key) {\n",
              "        const element = document.querySelector('#df-27ab5442-5b22-4247-95eb-c26b7d1b891b');\n",
              "        const dataTable =\n",
              "          await google.colab.kernel.invokeFunction('convertToInteractive',\n",
              "                                                    [key], {});\n",
              "        if (!dataTable) return;\n",
              "\n",
              "        const docLinkHtml = 'Like what you see? Visit the ' +\n",
              "          '<a target=\"_blank\" href=https://colab.research.google.com/notebooks/data_table.ipynb>data table notebook</a>'\n",
              "          + ' to learn more about interactive tables.';\n",
              "        element.innerHTML = '';\n",
              "        dataTable['output_type'] = 'display_data';\n",
              "        await google.colab.output.renderOutput(dataTable, element);\n",
              "        const docLink = document.createElement('div');\n",
              "        docLink.innerHTML = docLinkHtml;\n",
              "        element.appendChild(docLink);\n",
              "      }\n",
              "    </script>\n",
              "  </div>\n",
              "\n",
              "\n",
              "<div id=\"df-4c2b2baf-7ae0-45db-aaf1-1635f5b0f099\">\n",
              "  <button class=\"colab-df-quickchart\" onclick=\"quickchart('df-4c2b2baf-7ae0-45db-aaf1-1635f5b0f099')\"\n",
              "            title=\"Suggest charts\"\n",
              "            style=\"display:none;\">\n",
              "\n",
              "<svg xmlns=\"http://www.w3.org/2000/svg\" height=\"24px\"viewBox=\"0 0 24 24\"\n",
              "     width=\"24px\">\n",
              "    <g>\n",
              "        <path d=\"M19 3H5c-1.1 0-2 .9-2 2v14c0 1.1.9 2 2 2h14c1.1 0 2-.9 2-2V5c0-1.1-.9-2-2-2zM9 17H7v-7h2v7zm4 0h-2V7h2v10zm4 0h-2v-4h2v4z\"/>\n",
              "    </g>\n",
              "</svg>\n",
              "  </button>\n",
              "\n",
              "<style>\n",
              "  .colab-df-quickchart {\n",
              "      --bg-color: #E8F0FE;\n",
              "      --fill-color: #1967D2;\n",
              "      --hover-bg-color: #E2EBFA;\n",
              "      --hover-fill-color: #174EA6;\n",
              "      --disabled-fill-color: #AAA;\n",
              "      --disabled-bg-color: #DDD;\n",
              "  }\n",
              "\n",
              "  [theme=dark] .colab-df-quickchart {\n",
              "      --bg-color: #3B4455;\n",
              "      --fill-color: #D2E3FC;\n",
              "      --hover-bg-color: #434B5C;\n",
              "      --hover-fill-color: #FFFFFF;\n",
              "      --disabled-bg-color: #3B4455;\n",
              "      --disabled-fill-color: #666;\n",
              "  }\n",
              "\n",
              "  .colab-df-quickchart {\n",
              "    background-color: var(--bg-color);\n",
              "    border: none;\n",
              "    border-radius: 50%;\n",
              "    cursor: pointer;\n",
              "    display: none;\n",
              "    fill: var(--fill-color);\n",
              "    height: 32px;\n",
              "    padding: 0;\n",
              "    width: 32px;\n",
              "  }\n",
              "\n",
              "  .colab-df-quickchart:hover {\n",
              "    background-color: var(--hover-bg-color);\n",
              "    box-shadow: 0 1px 2px rgba(60, 64, 67, 0.3), 0 1px 3px 1px rgba(60, 64, 67, 0.15);\n",
              "    fill: var(--button-hover-fill-color);\n",
              "  }\n",
              "\n",
              "  .colab-df-quickchart-complete:disabled,\n",
              "  .colab-df-quickchart-complete:disabled:hover {\n",
              "    background-color: var(--disabled-bg-color);\n",
              "    fill: var(--disabled-fill-color);\n",
              "    box-shadow: none;\n",
              "  }\n",
              "\n",
              "  .colab-df-spinner {\n",
              "    border: 2px solid var(--fill-color);\n",
              "    border-color: transparent;\n",
              "    border-bottom-color: var(--fill-color);\n",
              "    animation:\n",
              "      spin 1s steps(1) infinite;\n",
              "  }\n",
              "\n",
              "  @keyframes spin {\n",
              "    0% {\n",
              "      border-color: transparent;\n",
              "      border-bottom-color: var(--fill-color);\n",
              "      border-left-color: var(--fill-color);\n",
              "    }\n",
              "    20% {\n",
              "      border-color: transparent;\n",
              "      border-left-color: var(--fill-color);\n",
              "      border-top-color: var(--fill-color);\n",
              "    }\n",
              "    30% {\n",
              "      border-color: transparent;\n",
              "      border-left-color: var(--fill-color);\n",
              "      border-top-color: var(--fill-color);\n",
              "      border-right-color: var(--fill-color);\n",
              "    }\n",
              "    40% {\n",
              "      border-color: transparent;\n",
              "      border-right-color: var(--fill-color);\n",
              "      border-top-color: var(--fill-color);\n",
              "    }\n",
              "    60% {\n",
              "      border-color: transparent;\n",
              "      border-right-color: var(--fill-color);\n",
              "    }\n",
              "    80% {\n",
              "      border-color: transparent;\n",
              "      border-right-color: var(--fill-color);\n",
              "      border-bottom-color: var(--fill-color);\n",
              "    }\n",
              "    90% {\n",
              "      border-color: transparent;\n",
              "      border-bottom-color: var(--fill-color);\n",
              "    }\n",
              "  }\n",
              "</style>\n",
              "\n",
              "  <script>\n",
              "    async function quickchart(key) {\n",
              "      const quickchartButtonEl =\n",
              "        document.querySelector('#' + key + ' button');\n",
              "      quickchartButtonEl.disabled = true;  // To prevent multiple clicks.\n",
              "      quickchartButtonEl.classList.add('colab-df-spinner');\n",
              "      try {\n",
              "        const charts = await google.colab.kernel.invokeFunction(\n",
              "            'suggestCharts', [key], {});\n",
              "      } catch (error) {\n",
              "        console.error('Error during call to suggestCharts:', error);\n",
              "      }\n",
              "      quickchartButtonEl.classList.remove('colab-df-spinner');\n",
              "      quickchartButtonEl.classList.add('colab-df-quickchart-complete');\n",
              "    }\n",
              "    (() => {\n",
              "      let quickchartButtonEl =\n",
              "        document.querySelector('#df-4c2b2baf-7ae0-45db-aaf1-1635f5b0f099 button');\n",
              "      quickchartButtonEl.style.display =\n",
              "        google.colab.kernel.accessAllowed ? 'block' : 'none';\n",
              "    })();\n",
              "  </script>\n",
              "</div>\n",
              "    </div>\n",
              "  </div>\n"
            ],
            "application/vnd.google.colaboratory.intrinsic+json": {
              "type": "dataframe",
              "summary": "{\n  \"name\": \"df\",\n  \"rows\": 13,\n  \"fields\": [\n    {\n      \"column\": 0,\n      \"properties\": {\n        \"dtype\": \"string\",\n        \"num_unique_values\": 13,\n        \"samples\": [\n          27,\n          \"MDRAAPLTRGPTAPGRRSGPPGLRRRTDARDSEALSARFKPPPLRFGLRKEGEQGV*APVGRPQYGREEASDPMRTSGPPNRGRFWVPGEKTQTSTRGVGARAAKEVGLGAPRAPVVSSASSQR*VPLAARSAEPLEAVGPCTRGALGPCGPRGRRPAPRAFLIVTPPARHRRETPTYPLPPPPTHDCRPQDLQDGDDGGRSTTVDEDRNCGGRDSLGPPA*GRLTRAKRLGSRLPAFQADGHRVGASGQGPQ*RLHGVGTQDP*RHGRSGTPLGKKPSPGDPTPATVGHPHRYRSPP*RPLRCRGHGPAGSGRRRQPRPPSRHADPDPPLDLAEKDQADGRDGVADPLQLSRPLKIERASKKSRCPGATPFFGSRDAPRPRLGAPGAWTASSGRAPGGRRQREERGARERLARGLGGRKEG*VILDGNFRLDESLSPVGNTQTTLCDSCKF*GNRGTRV*GHLEGGPS*VKVDFSDKSNLSFR*SAGREKGTLQLILRLKRLEKSRGSSPSFCPIKSVCLLSSRRDFPPPPPLVGVRRAFKTNLRS*FGPPETPGPSHTQKTLKLNNSLKGDRNWGTVEGEDESRPLFIPPEFASLPRRETSSACDN*KDYTLDGSLFCGPLGSPARSSPV*WGIHLRVSPPVT*PDGRTSRPQNPYSTI*LLGSCPDRTPGEASVREGRTVRRTETPVRTRLHFYLAPRPPALLGR*SPSHC*GGRTSDSSLKGKFPFLFVRPRK*PRV*GPS*YHNFRPSALTPAVAVRPGHKGCGSDPWINRTDPPAWYENR*PHSLTRLDSGIQRRKVSKPLPRRHPKPGPLPTLRLKITVDRPTTLPNSKSPRGTGGKRRTSVPPRRPVPVHPLVRPLPRTPLWRRS*ILTRTSAQSPSFKGT*DVYESFSYSYKHMKGGCTYIFI*ALIEDSEN*FSFLFNSPF*KVR*TFVYVCGTCVCGTCVCVARMCVWYVRVCGTCVCV*RVYEKNENDT*CGKVDTIETSSPKEIRRKPLLHRIRKGRR*KQESVSIFLVKNTTLNPSEVVTTLGYCIELCSSPMYFLHLKSLKT*FPEGRWGSESFTPSKDTKCLRLRTLTTRGRTLTKLVRDFKHVK*HGNQCLS*LT*ISTNLI*FERTF*EKGNLVYPLVL*FNSQEKIEYETFKSVIQTYTFQ*PG*CMVLILNVLNVVVIII*GRNK*S*T*TSQRSGKMSPTSVNRRDLTVNQCPLPLSPKLQEKPSRRNLRDVNTSEKHSPTNRLLTFCEEVNFYLGLFTFDHP*KTSEGP*EN*NDQRKEGFSLSLPPSDEWRSGRLYASTLV*GGCQIERFRVNLILFPCSNQYGWARKN*TKTSTGTLIPVQRRRVTPATSAITYHLLSCVTE*LHRRA*TQDIDDKIETKNFHTKIFLIGVCKDTWPDHHSGP*DSTPTFLNRLLLFLETNACKLSDFLPK*GEPDLTKP*PLLRD*AVRERKSLTSSSPSRSQGLGWRPTSVTRIRYGHLLHTSTLIAGVPLYLLLAPNHGIGTSRPQQSRRTSTSGTVGTGTGPGGSQINSYGVISVFHSVN*SEKSKQNPKQTPV*QFRTKS*SMGT*HLPRRFSWSSTREPRAVPSRLLSSRKRRRDVRPTISNHQRTTHTKRHDPLPLSTLNRK*VTGSLDTFPTWNPPTYSRDQRGS**G*RMLHFLTIKACSTW*FSLTVVDFTTVE*K*QIPLFFKDFKSCLSLRTVES*KKIGNIKYYEFVT**CLTV*DQIHLNFHLHGPLEEVEALGGS*CPVRGHSVETFKLKVPHSG*CS*CTPT**VESSKPWREGRETSVALGSEMNHDVTLDSSHPL*PSTQ*KAHH*ALILPSRVVSSGELLGQTPLRWTTDGPKSLGVVRLTTDPIRLDETLV*STHPTYLSCEWVTPSDPLLSLGSEEST*SCQILPPNAGRLYSQDSLYPRGPSGVREQ*LPTPGFVNSGLR*HTLTP*KAMCLPTVEILIVHTTVEGRRDPSLRPSSNTDSEHIDVDVRLIP*RRTTKHDPVVLLTLNVTTT*KCPESTFSLFQGPKTFSTDMQKLKRLLILPTKALTTKRELTHRAVFDSFDSTLKDATPEILVGSNPFLTVKSKTEKSRRNNTQIKLYFTFYQGLLNKMT*IKNFLQILTHMYVPPCPLRLPSLAPFPASRGSLRNTFLNVGCYTHNNLRPDELDPRHLREYLVLPPATSRPLKSIIKQLQENT*KYPNIKGTRYSSKRRS*YSTFSFLQNLLPRFGPFLLRNLFICSGSGVKGKDSRLPNSSTRNPREVIISNL*LQESSED*EGGFPTIL*R*TGPVFLVNRVPDRRSFVAHVPEQRQQRSLDPCTQKGQGTRPTRSTVLQFFVDPKTSVNSSFNKNLPPPGTTKVLRHKRKTSQG*RGVDNQIMTGD*TRDSGQEDNVLKRNHSLH*SFQ*LNIYSFLKNCRLLPESKSETRPLNLLSLSLSLTRTHTHTRAHAHARTHGHGDR*SRGTNLDDIETNRHSRWNWKTRGSRIEHSEKPND*INLRVKSITDNLSSFYTDSSRSFFGPGIVISQEKKTGESLSNTNQ*NRNTL*HSIVYSIVYSIYSKQKTCARLYHRHPNPGELTEFFY*RSSKIKNYKV*FILKRSTSK*QLKENQ*VTISRGRLLTFVPITELPPVRSYGS**DN*L*YL*TSDQFELMGLSPVENESSRRTVTVDETN*FSNNCNYRRNKCGWVILDFTFPKSWDVGINERVGGVSH*DFSLLDFFLHQTHR*KTVRRLSTTRGPGCTQPGLKSSSLQLLS*MCLWRDSV*KGHTKFRKQSS*HLRYYNWYA*INVQFSFLLSYIGVWFSLTKFY*KTKHNRRRNKKLYSQL*ILN*H*TINRNLVPE*EPVNLVYVRMRQFMCYFMCKK*SYISQSVKYLVLGTNYNEYLVFRPFGSLDHEHSKI*PRETKFKPHIHTQRQNRQIKLVNFLSRE*YGYRGVVRYSFLK*GKFRKTGSTPTLKCFGVVRLYSTKIIV*IVY*CTDTLLTPAQI*PSQNKLQASKLFYIGDQKVKRLTTNPQTNRSH*QFLREIRSNGNVKVPSLKISNFLLYPLTKNPRTDNSIHPLYRPHDER*HDQAKSGPPVETSVKSLIKNLQKIR*GVY*D*VIQNTLTRFTNTRDKKKGTLY*NRKPKNKQKQKTLSQN*TVGPTSCYHVNMGVT*QFAPSDMGA*GPDFPRRLEDSSTLMSGPIKNFYKASIPQSGTTSPTRG*GPSEPEGFTTLMFTLGGVDRIGIQNVKKGRKTT*GILNL*KRHRVL*ISTEMKKIERIVTLRTTTISMG*KWCGRRRD*TEESHQTSS*TPVQEKKKFKSKIKSKPPCTLPNNTSI*AQYPQATCLTK*WVHNSGHGLSIKKTRRERRVGGRWEFIWSHRQQEKKHKYSKVVNRG*IFTLIRHKPKDINQITIPITGDRGRYKNVFCTRTRKNTDVS*DTTYT*CKRNRLDNDYS*IHLRYRNDNTYHDVTCKHTYTEIPSY*I*GDPYMGHYPNDPAYHQDENGETH*RCAERC**PD*T*G*LSYIHKGKETLEWS*IIKNCKIIIGKTEHTLP*SSTKTKRKEITTRKKKYTTTLHIYRRKLFTDTGNR*KIHQ*TKREHLNSRNIYDL*SRNNLRIKCL*NRVMHPTDK*DNYQRKRHVFENSN*SRVNS*KRKQR*RKLQKQYFRNG*GYRSYHITDSTEGPKISKPKL*IQKEGRTPLKNIYHIPSPVEVRRRTPIGQ*GRGK*LIPQKRGNEQK*SKQLLVYQHPHAIHTPE*RPER*DKVTRCTDKNMVMVRQNQWHRGVISNFSPLHYGGRNNKNES*RNR*VSDSRKFLSRLTCSTTCPVTPLGSAELLQRKTLSVFSVKNVQRERSDTKHTPSTEDKYIEVREW*IYKYVFILSNPVRYR*ELLTHSSFYPHEI*KSLKPKPFGHGTFSKVYDLHIK*GETL*HSLRRGNT*NRCSTVRVFED*EKLSWFSPPIRQHIRKEIGEQIDFLPFKVK*SLTLRVYISKSNTTYTKYSSDFYRIFLLRLSKFLLLFPT*INILNTSRKEPLLS*DSRLQLFEI*LIALIKAWELEDIMIYTG*TYGLSNDNLKGITGQHYKIFIGL*LFRLTHIDTTHIHESPHMIFYLQF**RYQFKSKI*ETCGNFKSKSQLSP*RGFLHTDGIPRKNRTIRRT*RWLRTT*RWTDVICVLTYI*HL*IFTKFKFW*V*KFSCS*KTRKLDLRHSR*EFLS*LILVKPTVHHTKDLCI*LSPLNWNPPSKLREMIDDYDTKVFSIYWRDSESLS*IELPTYTSNLRLLYISGMT*RTGSHPQVIYD*RRDRVKDSCKGPGCSTNEML*WL*RTWLFYK*DVTYHY*QTTLRKCN*FYILTEIRDLNRLGKIIEPENVQGT*NLYPSRTTNVRFTKFQL*KKGETTFFSQRRDIIIVVCV*STPCYIKPFSQKTNFEVLCFMRRCNGNPGRFL*PLPNTLANPTPRPTSPQYPSQPHHALPLPNTLANPTPRPTSPNTLANPTPRPTSPQYPSQPHHALPLPIP*QTPPHALPLPNTLVNPTPHPTSPQYPNQPHPTPYLSPIP*PTPPHTLPLPNTLANPTPRPTSPQYPSQPHHALPLPNTLANPTPHPTSPQYPREAHPTPYLSPIP*PTPPHALPLPNTLANPTPHPTSPQYPIQPHPTPYLSPIP*PTPPHATPHKTKTGPTSPLEVLYHTSRNGTNGHHWRGLVRIYSKNRRTFPRVPLTLPWVS*LHLSSTCS*TCTMGIPPMNHPVRYFIPVIPTPVQRNRVRNSTTTTTTTTTIDRW*ITHGQYQPETRSMKLYIIESRIIGSCRTQKDKNKIPVPLTLRTPSSLRRSWSSNHSHPGPETHLHNHILFKGKKDSSS*KKKTTSYTTGE*ERI*TAN**FGQSL*RPTKTKKECVGMA*EDFCKLLFKVCYFYKLLI*NTKKILPKTTVH*ITFLRLGLTTVPLVTL*PRVNHQVRRGVASSGIVLPDRRQRATTYSVESSRPAGVNKEQGLRRRPNRITDDWESTTVNL*YSSKRRVLKTKC*PILQFRMDVSVWGHEP*GCLTPVPLFVVPDGLGRLQ*KDVSNPPL*FFRFFLF*GSYFSGFRLCG*EEGQNRSFPQESPFFLRSLTSGKNFVRF*SNHKFLFFT*GHGRLHIHLAPTKSVDLKQEPMDMSSTSCESPRSVKVHPQLKTSFQHLKEKEKKEKNTLSQRTRQWVRPHVTTLEPSDVGDGAPKFAKRTESQISSTLMSTRGGAGRLT*KSSRPQSGTTRA*ELEPTRWVESEGFTTLMSTLGGVDRHLKN*SSTTFKGRI*TSRGTLLLKVSNRLRSTIFVLKI*RPINDTKETQKSR*TRGLLKTLDDTRSKTPLPYRSLLVNSPPLSENSLLTFLLPDPDPRHRVRTLGS*NSPAPPA*YSTPQTLIGPVVPLCTRDDFYVFNRPPPPSVDIRVHEPPASVLLETWTLRLQSHSTLVR*RKVGPAVPL*DRVFIFFFSFIYLFLFFTSRSRSVSTSKTLPFRTRPPYTGYKSSRVPDPDTSTTTTTKKKKKKKKIYVPERDK*HSGSDLTSPR*CRVT*DLEDPSSPEGWNRKTHRR*YPRPTKKKKERKKEKKKKTISTQE*TTGRTRV*GPEFARRVEPEGLTTLVSTIGGVDSDQKGNSSTVGGPKGSFGWT*RSNWE*SWSVERTIQLGTGHSTKRSRIGETTGNDRSGQLQLPPPRLRQLTYARRPESPGRRGEDTPRTGTSTPLTPPASSRRAAGGPA*THPVKSDEG*RKDNDGD*PSQRTVQLHLRLSTGLPPVPSVRSTPVLP*DGGGSTERTPYGTGSFGCKHPRPRVGKTLDFEGRLTTKPPNTLHH*EVSNKQKNFENGDTFIRQTSSLLSN*HYRGRELHLTGLNYTQSQETES*GTPSQKERRRFVSSFH*GHRGWTEGTQDATFWSTLAQGGWASVTPLGKEVQ*G*VD*RRPRGPVLRHGSPQTCPKLYDRSGLEPLGVRLASLGKFTPSGRQRVRGRRRRSKRLPTLRRLP*SAPV*TSETSSQPWL*DDSLLSGSGNLVERFVMGVFQDSTLSSSVGTGGPY*ELEGKRKHRNR*NFHKEISLSRVTPSRTRYPNPLLQFALDL*IDWKVPVCPVCIGDLIRGK*LTNVVIVPPLEQGRRRRSSVSIVIHTVPLTGTFGRRPYSVRNPIRETLRPVGGVERHCVRESRHLTHSVSTPLRTGTKPQTSQ*EPYDTPIPFNRPRTRDDPKSRVPLRHHTMTRGVRL*SMRVYTTYLLIIFHKILRCPEKHLICP*YVPTTITT*SVLEVYKSETLVRSLGVNPLNIHYSG*TSELSFGQNFSLLTLISESVPTFFVRRPVNAGHLSLGPDGRTGPDSTSYPWGVMEVGGRSYSSRTRVCTGSEIYMSPEGSVGN*HRNTTGTGRRPS*PLQKEKRFRTETPSRHTPTGSTVQVMTVSAQSFRVGTCDLDLKNITPRTWSS*SGVDTLYFLQSGVDVRMTGS*KKTKKENSV*KREQQVRPHVTVLEPSDVGDGGFKFTKRTESEGSSTLISEDGGLDRLKT*KSSLSQSDTTGPTRDGGPEFTGWTEPEGFTTLMSAFGVAGRLGRRNLHPRSFDRI*LVHQNACHFRLFVT*LGMRSGRGMWKTHLTRPLRLTETDTYRISDLSCSTLVTSQNYP*P*KCLLDNLDPTYPRTVRRLDPPEHPSPLSRVHLSIRSHSLSPYTPNLVGSELRGTTRNPK*ERLKPHQTRKNFLISSTRKVF*GDPQTPPMFSAWYPLPNPRNVSRTPPDLLWTPYVKTDMKESLDSKDSPYPDYPLPHTPD*SPSRSPFLPEVPAEPRTRRQVTTLREVAHSLLRPPPPPPTSSERTKPMLETSVGPIHKGGGPVHLYTWMFVPELTVDAPPPPFSVCTGPLTLRPFPGLLGLHLKTHIGTYVLPTVPSSLKDLSALQEELYKDRYSCVCVYMRGRPSSYDWLLLIGG*DTIPNSLSGPRDGGGESKGLEGVTLLDRSVGTKKRTNRLLTPKVGLPERLPSTHSRSVTRPTEDTG*SK**QGRGS*TEFQYAKHSPYQSHSHCPDKPQRERERERERYIYIYI*KKKKKKKNSTSERDSRSDLVSPH*NRVTLKAEGPSSLRGRSRRAHRP*YPRTVVRVD*KHKNYLYPRGVQPVRPELEDWNLLGGRSRRVSRP*CPYSVVRAGTRHGNCGGRKRLLSGLFPVFTPVSE*RFPGTLRTPYRQTTLSTK**NILLLSTETDS*Q*S*VPYLHKTLVSQVKVLTSSVT*VKCLTVETSR*EVGF*PSNFRSV*DK*GSGGTLGGCTENYFPKRGLVTQGSSGLPDLYMVERDDTGRSHKSLPSSEPDPTGPSVRVSEE*HVGSAPHVLKLYRTLHS*IKDPRCTRLPDSETLYERLVF*AK*INK*KTLPQSENNGSNLPSPH*SRVPLEVAGPSSLRGRSGRNHRP*CPHTVVRAD*NIKIISAPKRYNQSDQNLRGLESTRWEEPEGFTTLMSTLGDAGRKIKKFNNNKNK*INKKTLLQSETVGRPHVTVLEPSDVGDGGTKFAKRTESEGSSTLMSPRGGTDRIKNIKIISTPKWYNRSDENLRTGVH*VGGAGRFHDPNVRTRWREPVLS*NFKNTFVSTGIDPQIRVS*LSYGRRITR*SLKSEYFILKLCAQPWSLFWKGDT*KKTSCDSTCRLL*SSFRSPYDCFVPHA*R*HPPL*PSVPLSEESFT*ESEK*DTRKNKRVPVVILKKVCTSR*VVQRVSV*IYYTPHTDLYIKNYQWYNLCNRY*GRLLILVLGQTSKTSLGRWRRLRRQSTTMAVGTIAGPSKVRAEHRWSVGLLTNLSLLTWESRTHE*TTNNETEEKQEAKIQPS*RAPSLESGNITRLINREGAGEFLVHHGYGIFQRQTTLLKPEERSAENVSPPKLLQTRRRPTEATTHVSGVPSRTFPPTKTEVTALR*RK*KIKLIIIIIIKTLPQIKTVGPTSRHHARPE*RWGRRA*VR*EDGVEGHIDPDVRVWWYG*IKNTKIISAPKQNNRSGQSLRTGVH*VDGPGGFHDHNVCTRWRGPEVTEIKKDDYSRLRSLWV*HGILSPPTREGLWDRTSLERRQGCLSLNP*LVTPEE*P*PAPVMSCRRSDSPGQPPMTWSLLSPPVNERYTKHTSLIHRCKRRPDTKRTSL*PSGCRDVGTVNETCSTVLHTLPWPLASGKMMGRASRGQCHEHPQGRHGGPCLPKEGRWVLGLSCTEGPHEDWTEKRDGEGERGEGKGRERRRTEGEERRGRETKRGKEKEQRQRGEEKGGEGEKVGRQRRSPQTSP*RKRERRRTSLHKSLTCGD*NLLPLWSHPTQGPAGVA*EP*SY*ICNLFCGRDPLGSFPN*TLFITSLDTATIFDEKRRNCQI*TAGKRHFTNLPRSESKG*TRDKRKPAVKFLVCPFQISVCNIFHCQTSRR*RPNRCISQWTLSNGKGLGKRQS*QSSVGRATLPTLQVDLHTSLQCIQCRKKLKMF*RGRTPIEVCVAPKKRETNEYLSI*VRRTPITVRHTTVYQTTPRASQSVGDGVKEREGSVSRILEGSLLSYQKNPFLPVQFRP**VSSTRLRTTISMINK*TQKKNKLCQSEYSGSDLTLPYQSRVTLEVEDPIC*EETESEGLSTLMSVYGGAGRLKNINYLYPKWYNHSDQSLKTRVH*VSETRGFHDFNVRTR*HGPDE*IKTSVQEQSDTVGPSLRHRASIESRRRPRVR*KDGVGGHIDPDVHK***GPKKKKKKSKKHLSPRMIQGIRPELEDWSSLRGWSWRVSRP*HPYWTTRTG*IKN*STCSWTERVKIS*FCQLKKKIKKKLYLKTRTTGPTSRYRTRVEWCWRSKTQVR*EDGVGGLIDPDIRTRWYGSIKT*ESSLPQRGTTGPTRA*GLESTRRAKPEGFTTLMFVLGGAGRSAKTNKQTNKQTKISSTNTGPRHRWWTLGS*NPPPPST*RTRLLKL*PDPLHHFGTEMILCCCCCFKGPHYRTWTLG**GLRLRPLSELGSSTSNVTRL*RGDVRSDPLSL*GRVFFFFFFFSGPCHRVRTLGS*NPPTPPA*CSTPLVLVGPVVPLWVGQR*FFLWFLIGPHHRPRTSGSMSPPTPSTYRTWALHLERHSVLAR*REVGPAVSV*GRVFFFLFFPTNDCATTMKGS*TLKTLF*VHLR*LEIRRPDVITPVPSSLLTTRHRVLPLNHGTNKWSKSFVTVSNRL**HFERTKKS*KLSITLFMYLCIRDRHLRRLSRKHVSFRRRPWKRGNAKPSSTPSTTRHVGTT*ACPFHFSYGVVTLFHLGPSRVY*YFPQYM*RTP*ETRKCLVRHVGPPQSLSNR*VPPTGLNPSGETCTSVSPKRLTGPRRVGPRSSHVDTPTCTSRVPHVQTSLTRRPVQWTS*VWVFSSIRDTCRLPGFLCPSLSRRR*LGRQSTNTRTGGPAPTETIHSTHDPGRPTRTPR*PTGPSDGHTVNRGGVAYRGGVGTERRMNVGGEK*EGLEKERTHK*VRKRDCTRTSQKTLWVPIMTVQMISVATRGFTRETLYW*LPHLPPQERKSQMVLSSMTKL*NFCPTELKIPICSNRVTT*NPPL*NDRNFEPIDLLSKLDQNDPSFRQNHAVQ*N*QVTLP*GHFSET*TSIVRFTRPTRVTECGY*GRETLRLRPSSAPVLKFWSYRLYHLRQRVFLCFFNRPTPPRADIRVDEPSDSVLLVNLDPPPPTPLGSSTVT*GRTHCLVLRQSFFFFSFLFFSFLFLWVYKTLIGDF*HHEFFSAVRRRRNFSLSLSLSVIGLYNINY*SK*KQPSNLRMVIIWS*THENGTLSTPCGPVFQFVLTSPHP*VPK*EKSRSRRGKWSVEGTGRGLFCVQERQGT*RKILSCTIRSSSLWGSKSF*NPK*LKSTSFPKSYFCESKFLSFSM*Y*GGNGPLSKKRRSVNVYGTNRKKKEKKGDYLRIS*GDALYPCTNVE*TPSPTSSNHTPRVHGRDTPSLRNDEDESPTGPLVKTDSPFM*GIVKTTERLVHYNSIICN**NTGSD*VTFK*DCTTHDKVVTQQPLDPEFPVDQERNRSTVSPTWLSQTPGKSRVQLT*TLRSYNPHPLPGSKPWSDLGTAEEEEEYKEKERKKTNQRYQIS*R*SVS*VGVKLNWSELSGRDSRKFDSRVVENLKRNRK*RVEFTDKKPLQRD*QNMLSLTL*KTFPF*RL*HPERPVSQRQRY*LETGTLCVFVAVCYSLPVPAQDYFETNVFVRRRPNRAPGSRRWRTVPWSGGDGDDTHGHGTVQEEGLRIRSCDIKNI*NIDSRQWGWYYLRGVHVPEIEQRRTTPRRSYPNNISSVRHLLMTHSFVYNLCIGRAVDPKGTKPHVNRYNVNRR*KEENNTKRETQVHDQP*TPNRTYGNHYGGTLRGPEDTPTTTTTTPPKEQGLRTPGTRKVSP*LCV*LN*SQRTPSKQEDSPQIRFVNGN*DGTKPRQSHDPSKRKRSGP*DPG*V*RVTSLLSEEEPGSTGRVDRRGRQQ*LFTVTTGELRSPLQHTQPRNTQVRARRIDP*HWNKLYRYTDGSSYPSHRPSCLLVLWVRKRDPRTTEAPLYPT*VLLYHVGYSTVSPVHIPPPPPSVTRRRVPLTTFH*G*CLLGRTKPRTSHLLSLLSLLPDRDVFFGPCTHHPQPLVPP*VETAHLSPRVSWVAEVKSWGHSRCL*RNVDRPVKREKQKPQFRRSENSKTLLSSRVEWVVS*SRDLAVS*LDLYSRVLLRPTVF*NISLGNQKELKLCKVKFFEPEPRCLVQIVFIISHIHTHRVSVQSACLHILSRKNVYFVWCYCLKTSIMSRSCETVS*ICKRTPYKKVRYQTKQRFRGILHL*FSPV*KTPIGDQREGL*RTEGPRTPLHLRTTPVNVSFLSKRTLIRPEVTGNNLQERRGRKGRQRQKREGGKTSRWLVYGLESWSSHAPTRSPQRSPRDGQLSTAALVNLIPTPREPRVVILSRITPHERLFPAVRISEAGDTNMTVILTSVTLNHEVPLTVSTQPGGRDTREKRHR*CKKTGSLFHHSRD*H*PTVRMSKYQKL*EETLDHVVFPASNSYYLKNTCFIVKRILSCENKFIYVRKKKKKNMVTVETVNLISQL*TYEF*RLSK*SQTQREVLKEDTSLALSCPGETPAQISRRKSYNQLLLFPVCP*LKTIPS*RKKFLWGV*LSNYNLFLRNPRCVNHLNSPRTYDKLRTLGQEYIG*NIGQIYRTFVFCNS*YCIWLTVVPPF*IR*F**N*LLLGSEKRSQGPNN*NDTSSRVNIY*RWKNETFFV*VPYTRKRMSTVE*ASTTPTVATTPSKTVTLVIVVLIH*RAEATRGSLLVPPFKTDSGQKNS*EDAVRHRAPGTERGDTDERTESLDSYLVTTTCRKR*QTGKKSTVTSKQKVSSMMKRKELKGKRETEEG*VSVFLSSWYIVEPKGTLVTNTNQIRSPHTDPVNG*EREGRVTRYKPTVLSPSPTTTGNRPLPGPYVSCRGIVS**TRFYS**GSHSLGRRMLCVEYDSLLLPAHGMKHLVLTFPSVPTERITPGTCDSRLYPLR*MNAPSCTASENLDPLDPNLERGVEDSTSKVKTRNQRNILPSLLLL**KTPTILLMYSRINISRVFSPTNVYK*VMCFMLYRNERKRLLNRSYKDFTNMYPITLRDECTI*DVKRIFLKSVKPCKFVPDSLYGVGRLNTYIYIKKGSTSEQDSGSDLTSPR*NRVTLDVEGPSSLRGRSRRAH*S*CPRTVMWTD*KHKNHLYPKVVQPIRPELENWNTKWTEPEGFTTLMSAVGGTGRIKYIKIISVPKWYNRSDQNLRTGVH*VGGVGGLHDPNVHTR*RGPL*NKKARQSPGVVLFLLPCF*RVY*KGLCTYRTGQ*L*GWSYHVDKVNYLDVTVVIVGFTHQLKSHTLVCHTSEMSNRRN*IILRTFKESTEKYRTTQ*TNIVTHKVTNIHSFK*MGKWMIFYRADPWQRVRTLGS*NTPAPPT**TLVFKLWSNRLYRFRDRDDFYVSNRFTSPRTDIRVDEPSDSVLLVNLGPTPPTSLSSSVVT*GRTDPLSHSEVEFFFFLFETTKVQNCQRLFRRCL*KHAQKHPCIKS**NPFTIPHTNDLIHSSHTNLNILWWIDGTFHRRGKT*GWSLLTLKDNEV**ATRTTRPKTGKTIHTLP*NNKIKFKETTVYYTS*KSILINGRYIEETTLQTIPATG*KINPTNKRMTAQYSQETYKTYCQEIM*RKRLSKRGVDTERKSKRTVTENVSSLKIQSTSDQKENTYHGNHNMDFTVVGWVPVDLKEDTMEDPHNNKT*NINTHIR*NSIKNISYIPHTHLSEKSDTYRSPRP**TTFLTGNPKKKKKKLYPQSENNGSDLALPR*SRVASGTEGPSSLRGRSRRTHRP*CPCTMVWGD*NIKIISAPKRYNQSDQTLRAGVH*TDGAGGFHDPNVHTR*RGPDRRISFFYFIYNHPRSLFTQ*IHF*I*TGTQRIVDPVFSL*NQPRQK*KTVLLRIPSPRVSFQGPGRRSRSGLLRELYV*ESKEESG*RSL*DPD*D*V*LYALGDRILNVHLQTGLTLE*QSPEQAFCHLLFHSPS*KTLNMVGRFLQ***Q*IIFRDYSPRTVSGEKKKKKKKKPLPQNETTGPTSRHHDRAE*RSRRRAQVR*EDGVGGLIDPDVHGWWCGPIKKHKKSSLPQGGTIGLTRARGLEH*TSGAGGFHDPNVRTRCRGPGE*RKPVTETVLRPPFLRLPDVICPRHDRRPRQVRWLLG*STSLINKNEITYLLTPNRSFSSRRKVNIRTTDSRRIPVLPPPHSYEHVHKCREVKMTYTHGSDT*LCSLRQSNQKPTDPLTQQDQQPMDGLSSNGTLVHFVILRCRSIPNVLSVRLTKSS*YTTPGIRNVTLVTRIDGSRVRLPGPPSRGYTTYGWLSHERYGSGTFVPRKH*SRAYCR*DGDFTHETSLIPDHNRHGPSMTTLLHGDKPQTLCNLR*ISLSPRIDR*TGDGRQSH*SDQTKCPRRTPPTLIRRHQTHLSPYGAGPINRSVLSPATVILLKNGGVHSLRTGLIIPFNVFVV*ET*KSVDLL*VHRSN*RNHGRLTDFYGDPTQTYKKKSLKLFTTRSLGHNYHCKNPKKLKKKKKKKRGKPNSVTFKSRHRRSTFLYNVQ*GRRLNDLITRLKQPIVFFRSSRRTISQKI*DMSHAFRTHGLCYRFYCYFLISSPRHRVPTLGS*NPPAPSA*CSSPQALVGPVIPL*GRDDFIFLIGPNHRPRTPTPSS**TWALHLQRHSALTR*RGVGPAVSL*GRVFFFFCFLT*IIVVQHVRNFLGRYPTKLTRKIQPKK*CLHVP*ETSIKSSTDRLLECTMVVIYKGSPCQDTTVMFGPTVLYYDNVYGEPRCVKEVFLSTSKYTIKNFT*VQLPKLPNS*IGKRIFSYSIDQERKGSMIHTITQ*TVVDPSTYMGKQAP*K*QRSNKATNYKDFSNSESKTLLVLPAFQVQVTN*APFTTSLST*F*ERRFHQERELTTLFFIKR*NQSKDNSGRLRV*GTVPLSDKKNLHGSLLLPSIGL*GLSKVTNWTAIVKFQWKQD*P*K*TISRIQPLSSEESTQLQRSLTFLVIVIIFVVFWVCPKRLKIFKGNITFVVVIQPNPVVSSSVDIKVDQPSGFVLLAHMGPQTLIGALVSFWRRDVFYFLIGPHHRVRTSGSMNPPSPPS*WTRVLQFRRHSTPTW*RHVGPVASFWDREFFFFFDENHKIVFMTTTTR*VTNLTYRKSQRRNQFVVSVTNLFKGNFRLEPLRVPD*PDDHPSQESEHQLNEPKLLYIKTNLRTDQSFKNYSKEFRCLYGGVLV*E*V*RHKTI*TKENQIWFDFRLDVPSPLETL*KGDSPQFRKFTGLITIKIFGINI*ALSPKSPRNLSNTLN*ILDLVRHKNFKKRRYFYVNRQ*PPAPSVFRT*KLN*WYPLKFPVRPHQLPCDESLDLYPDRSRAGDRHTGTSLVNWKDLL*L**SATRSTSGSRENHVGPLY*GTKRKFSNPAQETKNQGLSLSLSLSLSLSHLIFGIHSRNSTRSQNHPRPGRRIPKSDSNLTSQFSLVY*DGKQLS*LWTDRVSMDLSYKLDRPWN*SR**SKISISKIISR*AGR*AGR*VGR*VGRLLRTHG*GIRFLLRSTWEVHGMTTTSRSLPHKKSCLCDYNLRV*IVFLPRDSFLLNRDPTLIISDTTSGNFLQRHPNI*REIE*RRIF*RQQNFILR*IIIMITRY*QCHIFYYYSSIRYTTTTLN*LPYPN*LTPIQTDKKLVE*ES*TTNPLVVRTPWIM*SSRFLQSRFPWYGE*LQLNKGNVHLITVSKTYGNLQIWCAEIID*NSGEKYVEIPYISSPFEYTGIERLSKLTN*LTN*LTLSQNENSGSDLTLPY*SRVTLETEDPSSLRGRSGRDHRP*CRYAVVQVD*KRKNHLCPKVVQPVRPEPEDWSPLGGWSRRVSDPNVRTRWRGPDV*VKSILTTHL*GQFVDDTCSD*RRSHLEIKPCTQGRGLLSTISTSARNHIFPEGIHLLGQDSRTYHKQRSTKRQEPSGTVKVHTGKVDVFVCLLCSDDYFLCVIPIEYHNNKKI*NV*VPSVFRSHKILLDNILIFSQGRPAPSSADIRVVKPSDSVHLVLQSSRSGRTDFATLGPILPLWDRDDFYVFFFFFLIGPYHRPWTSGSMSPPTPSSYRTWALRLERHSVLAR*REVGPVVSFCDRVFFLFFFFLKEGRA*FK*FV*TLEL*ISLRHTTTLQSSVVPPRPVCTLGPTSQHGPKKYHRGLEPRDSGSTRRDVGMGRHTDTDTKRLRLKYPHRNY*LYSGLPSPMDGL*GRCNKVESGI**GLRGSVSTPNGYPTTVSSPDVSTRTRPGQGPDNV*VGTEPGHSRLFLL*GSRKSI*GEKKIPCIFSTDYHTFVYRQLKKIHFFFSVRCPSRVVINYNRLSQ*RNYKSIKYTYPITQMNLFTVLTSVDCRTPYEK*IQSKHLQKHITVSSNKQNTRVTKEKSPTPTPT*KDSSSKILLSNNFNKVIYGPGLSEPYLPLVHEGPLGSFLIHANTRKLWVSVYRWVQRLR*PKFPSLSRGQGRKRRKEKKRGPKLSKRGEG*QSRSIPTWI*GSETVNLFVSLFLCRTGTFL*SRDGNCCPKFSFALPINPIHKPTSLKLRTNMGLRPTIHFP*E*GVPARDVGILSPLKIYT*SLFRGRIPVKRNPNT*HTRQQVRSEVVFIRINT*SEDVTSSGTTTDKVSLCP*NQ**NDSVFVYTLINLTTCHLQDLSFFPPAHGTGSDRKGLKSEFVV*PPSMPKVGAPLRRRRIVTSHPNFYHPRP*SDYTKFRTDVEKVRNTENRPMN*RDTESKG*TFGSNTITERTTS*HF*LHNCTFLRNSSRTVSSSKVSHHQ*AVIIVCTS*MSP*DRTTTPKINLFYMK*NTKF*KKN*NFLVNINTESPCRPPVLKLYSKLTIGGEFNSNPPHHPNTVSIGGNLSLKKKLIFSIIHKSLCQKKKQTNKHIFKTLYMLTERPNKII*SYC*I**LTGISFRGYLFNYPENSC*TKMITHIH**IIHTVRFY*IKTS*LDSVNIYNKYTNILS*NFVLNRTLIKDRSSCSLSSPEFVKKKKEGQPSVLGRERPWKTSRST*SEDFYKRFTFIMGF*IFYRIVNVRFALLEWTNLK*VPPLRQVVICKIMTKGFVLVV*PGCVFSTFSPRYDTDAGCDSSKRRVGPPWVTVGTPPTFCPSSNSSS*RNLRCSILIRKSCSVKNVKTNK*INVKKKRYLRARQRVRPHGTTLEPSDVGGRGSKFAKRTESEGSSTLMSTHGGTERLKNIDIVSAPKWHNRSYQN*RTGALGGRSRRVSQP*CPHSVLRVGM*KQIKNFTSFQSSLIFLMKLFLVINSVNGYSPKL*FFFIMGPERTLKFHVKGKHNKKYTPLKLLSSQLSTLRQKIYEISHILILPTPQTLRSHIKGTVSS*RTYHSPEPNL*PHTLYYVIPSHAPLLSPLDDRRNFLRTLVQCVTVL*NQSSEGSLKL*PSTEGRLRARTRRSETSR*IVCN*LVGHTVRVRTRDPSTLPLRTGVEVPRESGQVVLSVSS*DRYPPCVQTNFNVLVQRRVPTCTFPL*PNRKPSYSSFLQSFPKSRLNLPFYRVFLSLP*RFNKSYLPLLTLLTRILFLTSFGILL*ETT*TLYSPV*SMDNDVLFNGVPYHRNSL*IME*QRT*SLLPHRIDPEGRGRQSVLTFVPSQLRLQSNLPN*PLP*RVHQRQS*VKERLPESRSD*QPTPDG*QGTVCPEKYPVDDSSPTRFLLGLSLSRPSVFSLGKHWITTFPVGGENEKR**FVL*SLLQRVPGLTVLCSPSGLG*TLLTYHPPYLLREIESGVQEMSVHPS*GVIVVTPQVLTQSAQKLCGRSEIEVVTTSIYSEERWIFTGRWEKTLKNLSISRNFLIKEDVFKNGKTKL*IFNCRSPVLSLLLPLSDTHSKILAYHPSLVHFVNTPSRRSSTHDNFELSSL*NQQKVLRMNHHLRPPSPTKQEDKNQVRNLVYATLSFQPGKFSLEKLFFFNS*STPLRPIFPSQFGDFSAGDPNKNWWFTKDFECINYVKVTK*IYVRLTLLPPVLGPPID*NS*FCRNIYSCFSSTTPRSLGTRVLFTLAVVIIPLPRKTFRLNH*CLYDSLILPDYSFTTD*KLSTSSHN**LRL*SDLLLVDTRFSFYS*GSSFGNRTGTPHVYWFH*NNIVRLGKDLPFPLP*SHTPCFWILYKTKWFFFFFFFFFFFSGFRRLPVCKPTSHDRTRRGKTKRPPLSDTDIPPRRTLQPGDQRLHQSDPTSSRKVLSSP*LASKTSTVFENL*GDSGFPKALNFSFLCKE*RTLPRKSMDSVVEAITTQFGWGPGPQ*PRVSPSKGGHPEGVPLEEPTDTGRKRSLSGTTPDWFRLKPLLPGTTTQKRDYKRSNGCI*ISLHGDPTRVTVTLG*RNPPTPSS*YTPVLVFWLNPLYHSGGKDVF*IW*STRIITSGHQGR*VRRLHPPSELGSSNPDVPRH*YGDVRSDLLSPSETVFFFFLFFPWKRVN*SPLI*Q*K*GAVKEFSFLWINFESPGL*ID*VRTEDR*TVKRNKIKIKNSDSKREQRVRPHVTVLESCDIGDGGPKFAKRTESECSSTLMSTGGGVGRLKHKNHLYPKVVQPVRPELEDWSSPGGRNRRRSRP*CPYSMTWAG*TVK*ITSSFYSSKGSM*KGLSFMDFLKKFVYTQ*RR*KEKGNIKTSKVFDTNTKPPDR*SKKDGQIPNPWSRR*GT*CRTKLYRTYTPDISLLPSVFFVLFQFLLILYTVFRVKVSLLVILINLKPSSQNK*FLGYDSVGIH*FLV***KFHVLVSERPTIIIH*LYYHFLNLVLR*RD*YE*GPENAVRTGTRSKKSRDTGS*GTEFYPSNRLIRTREVRDSWY*IIIVVAHRSR*REEFVVVSKKKKKKLFLQWKYRSIKCPESCQ*R*ITSFRSSTDSINYLVELRVEEASINKSVSPKNFW*KIR*SFTDVSGSL*RPVSRVSCTDTLTVSSGVATHNVPKSKGTSGSRLSFRNNSYLVHIKSRFFSTKNFENNISDDLTNKTSYPINLNVKDPINESTVKFLKNYFTIRIRCSYKSPSLVLIT*IVVQI*NTSKKKSLL*SRN*GVVRQKLLLCPYTNIIGCKYLTRGRSTEWSTEGTSFNESGRCRVSPSVTIKRENVNSRTGWGWSIHRVDGKPGCTKTWS*IRERFDERSLHQGTKHFCDNDNLLFVLLSLPRGFRTFLDRVPYVNSRFNPYTTTRKLKVLETPNK*TNKNSVSGRYNASDLTSPCLYRVTSELEDPSSLGGRSRRTHRSWCPRTVV*TD*KFKKHLCPRVNQRV*PKLVHSSSLGGWSWRVS*P*CPNSVTRVDQYSKNVNNTIIYVLYFRW*IQ**FKSSVINVSTTTRW*W**KF*KSREVCL*NMGNSSFMSKGEGVTWTIGDWMKNTDT*TDKTHGIYSL*SYKKENTDRIK*IVFR*V*HRT*F*NKEKYRLNIR*HTYMVKKKKKKNSASK*DNGSDLTSPRWNRVTLEAEGPSSLKGRSRRTHTLMSTSGGTGRLKT*KSSLSQSGTTSPTRARGLER*VGGVGGFHDPNVRTR*HGPGCKTNR*VDYY**TQRRWKTDNTYR*HR*PHVHRQGQERYSKRPYMDPHLNVLVYRKQTKRFRFYPF*HCKNFSIQVVRHLQDGVGGNTRGCSLPGDSFVPNNIK*RVEETSLGHQQMARLPSQRR*PGLLV*RAGTRDLWRTFRLKNIVTTSNS*LSTNGGVDVPPLVVVHGDRNCTFQSTVFTKVFPTEVQGVRGRLSPPDPTLLF*NT*KTKNKTKLCLRVRQWVRPHVTVLESSDVRDRGPKFAKRTESEDSSTLMSVDDGTD*LKI*KSSLSQSGTTGPTGA*GQEFTRRAEPEGFTTLMSALGDVDRLKNVKLPLSGQLT*LDKYPTHGDTSGPNVL*RQKDPFNPRL*PPSFRTLIERL*CTCVARWTVSYFET*WKTYK*DEQ*LVDS*TFTDLKKRYTFHL*VHCRTQKLESGKWKVTPQNHSCLI*M*GSTVDSHRTLNYP*NPLTSIVFLRLFGQTRWNTETHLSHTLQVP*AKNII*TLKSGKTKSDETKL*LYNKIFSEITCIKTSGTRGQDNEPSTFYYYLRCF*TGTRPFFFSARTQPTTS*RRE*PKTQTKRSR*PRRPPSMITY**IPRQNNMKKQHTQL*RQTNFPSLFFFHPLWVLG*RINIFHVTIVKPYKRKTKIDTNISPNMKVKIYVEIPPFTQTKKEKKFI*P*YLIDKK*IVIDKLLWNGPDLYYEVRKILISDATNLLER*SSMSYLIRKNYRERNCQKTRMFVTNFVVKTSTRNFINTIKDTRSKDLHLN*SSFFYTRRLKLSMVVQ*NVFPKRVKYKGKS*P*KIKGCVSGS*LIVTRKIKNN*STTYCHRVITKLNVKGLAITPIRRKVYK*PINVREKRLSFLPHTRKPD*PFS*HRDF*TP*IFVRNIYNAAFSPKKSK*DLEVYLYLITFFWGFETRKQTVEIFQLITSKNRTIIRW*LVTIL*GMFSQVVRVTTT*ILVGKPFTMSSILNPVI*FMTSLPHSFIYNCRDVPRYN*IMVLKTYLSLWDKPLTRRVTFL*KYLQLNNYKHHVEVLHL*VSRARELLPRTYLTVPGSLSELDWYRGPQFFSLVTRFDVYGSKLHSRLSPLQGRDTSSPSRGKPYEVHGLDLGPCSFCNCQTYPRSLSVIGTNSRIPVL*TRPRVS*LINVVPIYDLMYRTTAPLGTDVGIQWTVY*PRGIRFSLSKDNGNSRTPLPSQRKTQTPGVHFSSSNMDTQGTRIVLLRQHRGSLGPKSIP*E*RDLLNRRYRGGGSLLCKTYLPRIERIPLCAIVQQTQDNVQMPSWFSSFAQKQYVISER*QLVYGHLSKKTVCKMDAVTPSQRVVVEVRQSETLMEASTATDVVGSFHRLVLIELSDEHETIPPSSGWK*VTRKDSDSHYSSLEQNLESSSWRWDVSTERILTHRLYFWHREVTREA*RIETTVRLVTATKRFTCRRDGRTKISPHQCSTKRNKRSKNIVSTRTSTRRT*TKNALIGFL*TLRVPYRVFQSTLRTLLSIPIIRN*QIKK*SKVTSRNRFCGHLLLNLSLSL*FRSLGLLCSTT*NTIPFESVQTFKLRYLYKLFVPLLYSYRRETHNYHGTHPQCCRLKVYTTNRNFSEFFKHLPAYMLNSKHS*VTAV*TLRPIKRLLVHIDKSVLVSTLPV*LQGSTLKNSVGLL*TLDTRGILFT*SMPSCLPNLVTDRISFTSDIYNQDVPRHYGISDSEGSPTRLTIERTGTGNHGPTDHKSEGPVNRRGSPREFR*YHCLGATCDGL*GRLDLYSYKRSVHKWYYYYYQK*RVLRITVNS*ILNPLRRYGKNGGSRRKI*FFRVMNHKTRS*QFIGGNETRKVHALVVTSE*YLSHQGRLFPLIWTHHLLLMPR*LVCMVDLQHPLKRRGAHRRRMVG*ERTEQTFVLAIQDKEGIQSPLNQVRIRKMIVKCSDEDSRLL*DKRSVGPKYSKRTRSTKGSQ*THFTCTILYRL*NLRL**DFYN*PVHFSHVYTTSSGNQNFLFVVKGLSR*HLPVDFSFPFPDS*LGHRPTFFHLQLPGSEGSVLSVICHG*VTDKDRR*RRHVSLGTYTRIFM*KQSHVSIHPVKLICNFWWSGQQNL*VQRRVQNGHYYPETTLITSFLQRHRTS*RLYTLRWVLYEVTTSYRPILGKVHPR*KRERTVHGTESWTVELGRKPNRRGFMSNDRRRHLS*VKCECKTALH*QPLRCSGVVGDTETFASQRM*YRTRTHGS**STHPEEVIL*KLLPLGQCITLTGFSVIFLLGFRTNWFNVSKPINFKIQLTFHLF**N*KTVQFTLT*MLCETESFVLYW**R*TYIRKSLLSQISF*TQNKKSSEVHFKLSRNLLQLGYL*VFSHSKSRERGISFVHRTKNHS*WYKSIKCFVCFSLHCEFKLFFY*L*TQP*LCDI*VTSFSYTEPEMDPRTHMAYTAF**R*IPFSLKPDLQDLWIKTLIH*ITPFFINSISSENPNIETYPDV**VIRPDPGKIRSTSVYRR*GQTRERISFKIQLNNTFCKFSGSGVEGKLERPPSRDTSGL*RESQIPTLNLTRRLITLTRQITIRGPLVRTTFLAY*VTTLHLSRTSHTSLRLSPD*YSV*TL*RVDLCPVITVLRPTLIGNFELRLLKGSELGRNIYLRFSVTSFSVKVISTFTLYESRDEFWDH*RNAS*LFYS*LSRFLRVYLHVPTVSKTCRVVHLCFS*VRIRHLKTIGCPGLHYVTTHYCRKVGGETKCLLVFGKGSLSLQGKNGCKKPQNKNKDTMYLTPSL*YFVVLPTLEK*L*EGTFP*GYS*NYIFGTLNSL*EHKILICRSVTTHIPFTKVNTLGKILGPN*E*F*LW**KVDK*RSLLITLRGAKPLTPLLFYPRGFHRHRGPPPLGSGSK**LTMVSGPKTDSRTVTLRCYDPTE*RERNTGFYFLDLEYLQSCFFRRIRHLTCRPNRHRYGPRGSLNPV**IEKTPRQNSSHFSLTTMNGVRILPT*SKGSHGDCLMIFD*PNFVFFR*ENVKTSDF*VLIPQPFKVRGEGRRPSTGTEHLRGEVRDGGRSTSVQE*HTEF*RKTEGEHSCGQ*PKSRVAFRSYSIGTIKIEFMKTFLEKEVYSSVRIKGSESCTCMEEFPVGSRVM*SMLRSQPNRLLL*SDRPSTGRCLRPKEGRFGPKKTPNLT*KLSKIIRVSLQNNLFVLR*NPDPYHRVWTLDREPLRLRPSSGFQSSISGRTSCTTLEQR*FLCF*SAHTTTRGR*GR*ALRLHPLNEIGPSTSTITRF*YGNVRSDPSFSL*GRVFSFFFRPAPPSVDIRVVKPSGSVRLVLQSSSSGRTGCTTLGQRWFLCF*WVPTTVHGH*GR*VLRLRPLSELASSVSNVTRL*HGNVRSDPLFHSEAEFFFFFFFFSVKPWMSAPVSDCNCKGRLQRWKLITTVVPVGL*LNRQPERPLPTPQTPELQVPQPKKCGWGGEGVKRHLLQVQVDPIH*TIHSRTSSVRPRPRR*THKRCG*TYLRGTRGSPEEVNYK*HHTKSSLTVSG*DSSTTTVGWDESQETTSSVLHALFLPWNFLINEKE*VHLLNRNLALNNEENP*GQDVKVSGSPYSSKNGP*TIKPPFHVTFTFTTETKTVPVYTEER*GTQKTLSQNETTGPTSCHRTRTE*LWRRRVQVH*EDGDRGLINPNIRTRWYGSIKNIKNHLYPKVVQPVRPELVDRTSLGGRSRRVSRF*CPYSVARARK*SN*KVFKQGGRTGVGKFTFDIRRPSTTNPRVVSGVQ*RPTQSVVMVGTELPPSSRTVTVDRELYLDNIESGSVLSCVGLSRVLRHGLASGGSPHTSSYFAENKVRD*LFELTPQLWTFPQNPRKPSGRGHLLPPYRL*QLTNPVGDRVLLFPRSHYRLDPGPLPPCRLREFGVDLTLQT*QRTQPLFHHQFIYFFATGSIN*LDN*VMTSTVLSQ*GRVNEHYLPT*SQSRR*CDTEDLP*KQRHTLFLTDTTVVNLLY*DVQVSAIL*LSDW*WKIQQYEHGQGPCSRAEASRDTPRLELRRTESPKDRSRVN*KV*GLKRRSLKKR*RTRLTF*TTGWDCARDVRSRSQRFRVASPRLSGRQLFPNPTARSITQCRCRKDSPE*INCLVPWPRLNSSFVEGKRRKHRGRR*SRTRIFGSDSVCWGFPEMRHGLRERPPSPPLMHLSPQFKTKVGTIEIPESFPYLGDSESKERTFYPTTDKGTS*YPSSSTILSVAKIYYHGTLTISNNTQPGYEGERRGLSRHVGLG*DYFPPQSGQERRSYL*SFEGNHR*QITRKLTMFRRKVRTKCCP*GPPFPTNHRRSSEVCMTDRLCLRGRLDWGRSSETLVHHKTPTVEGPHPRPCAVGPTPYHLETLQSKKQCKRRPMGNRKRGGNSFLRNN*RKLRTSPGPTPPTSLPIINQTVN*NRKVNTTPVSPTSSQF*FNYRMSKYILLQWTSKSTPTPSLFRRRQSRTRLFERYFTVKSLPSFSHVITRP*IAPKIVAHDLTLLVFCQIIQRI*TSKHQEL*RLRLRSLISKRDLSK*VHRNSCRRKHLAFWSQPFKILCLRTRQRVRPPVTVLEPGDVGGRGPKFTKRTESEDHRP*YPPVVVRTD*KHKNHLYLKVIQRVRSELEDWSLLDGRVRRASRP*CPYSVAWTGRLRTILHSHLTTHKKGKIFYTDNQTKVPKGEGILWADNISTRSTNQTKVSVSSILRHPKMDVHPTRGMNL*TFPP*SLGDTQKVLSTSLHPQTPFIYRFPQPQRHPSNKTKEKTLLCLLRYSVTLGVTKPNLPLLSRLERSTLKHINDSTSPIKR*ELRAPCECVGNTPALPLSVNLLHIPKREYLKESSVKLQLLVFNPTFKDLELP*G*KREKEFRRPNVLREFVPTVLKTGRVYSYV*MSSLPRGLYKG*PSPSNTRKLSVCNL**DHPRKPLIRDNLFP*KVK*PSHM*DLTLTFHFLNREI*NVKPAHTTECGL*GHETLRLRPPSKL*SSNSGRTGCTIFG*R*FFMFLIGPHHNTRTLGSMSPPTPSS**TCTLRLQRHSTLTR*REV*PTVSL*GRVFVCFF*FYNF*SVRSTTCGHQGQ*DLRLRPLNEHGPSVSKVTRL*HGNVRSDPLSRSEVEFYLFI*NVKPDFFVLVRHTL*EWLTSIPP*PRPRTELRRVDRTCHSSRHRKPNFRKH*TH**NFKEKSSTT*IFIDLGTNKSQRLKVEVLLFTLNNKSESTIRIVSLRKEQTSLPDFRK*RRAWRDPRFVPYTLSTRTI*KI*RDLLSEKSTTSNYFGRS*KCYL*GDTDV*S*RK*E*SPVIREESAYIMLSKLV*FVILTTRLENKRSFFLGCRCSKQV*INHP*THL*KDPV*TFPTN*PSKNYLKSVCKISIPRNE*TSPTTETASRGDTKPKIEETFSKLSSMRLTLKWVTLFSHMD*GPVIFSCLKRSSFLCKRRGLPLGRYVCGRLLERKDFLQRGDTVHRRRLRDCTEGPYLRESTQMESRSPPSDPLTADSKCSHSFGFVLDPSLEDGSHTPSPLSFRE*LI*PVPVIWSD*LFHPKGTGIFN*NK*DSITVETIQRKNFFLTPFYMYCILYGDIGKNLHIK*M*FM*VKQNVNSNNK*RS*KGSRGLVLRKIVFSG*SLHLNRIIERPMVS*KSRPL*KTSVSRVSQNL*TPHLLCVGMRTLSGFFWV*LWVDHLR*VGVRFIMSDIVINPFHDYYVGHCN*SLP*NGGGRNQKGPGLGSVVK*EKK*SSSFVFP*SPQNEDRKVSHVGGIQ*NTEITTSLL*SKNGFVQTRRLK*ERRFSAHTKSPSPSGSAKTF*RLSVYRSVFYACGPTGLSLLLSCFARTRFGHSLFPVVWSLEGVFTQICFVLSTKTHGS*GRVSR*DPPLFGSMTDTRGPEKDFHQKDRQYRKGKRRLVKIKTGRKHD*KSSTSFEA*RPFCFVLSLGLL*IGQSELTQSTSELFRYLSKMININRTPEIVQDPRSLKSLETSRRRRRIIGTEYD*PNHAKIRCFRWWRMRNLFSIRPKSFS*ESTKVNRRFSVLQEREKSRNRNDSLTVKPPFH*FKTKIKFLSRSLQ*VRGMYLPPDSRPLTDKGLVMTLEAH*AQRTTH*RPLSTETLPRNTVHDGLKTPLYESSGHTRPFGR*DTN*LNIHIKFSDQEED*GPYVQMTRTSVLRRAEPPVKNTGNDTVSFSTSREYSFV**YRSPPDRTIF*SYQLIVSK*ETVSP*KKERERERERELLLENLPSSDTKGRRQKSTQYRGSMSRPELSRVGL*S*ESSTRKTKSSHL*TSFPRSGSHSLSLATLSYIKNFVKSDTNDAQINHLGVRSSRRLTGPSSPAWET*RKVRQN*TLSVSVEG**ENFQE*NKVQVRDT*TLDDLESCR*EYTHIYINFNVICLLDE*SDKRYTNRVRETFFLLDKIYYRLSICTIFS*NGF*HLGRTGRTTSSTLKTIVYLLLYLIVTRNQRAGLYYVVP*EKYSQTTFFQRLNSPNQTGPWPLQGPPLLCTRETQ*QGKQRRHHGRPGPVLPPGVRRVGRRSRW*TWDGSGAKKSSILSSGPRQ*VNDK*QRLQESLRLPTT*RLPKLSSSRRKPSTTVGPGKRFCRSGGGG*TNSRLLFQRFL*FRTTPLYFVLWMTEKFL*NLL*EIPK*NMTSVDIIQTFCHIPKIMSC*DERQKDGLHSFPPPPHLHQFSNKTYSTLLNFST*VLTFAHCKPYDIKRLRYCNLVTFEPHTHTHTHTHTHTHTHICIGPIVTLLNY*PRVVVKLVFLLF*RRDITRDGHNGVTDLRDGFGPRPVSTVRPTFVSNKCPVVPNHDVRVTNEHFAK*SLFIQILSPEPNFESTRPNTVNSKILETKILIYTSG*HL*IEFCVGVMCVCTYMFTF*PFASVPYLTMISSVKTHFLIWKNDKRSTYPRIKHWNRPS*IGSPVEGEHDTSENHPPDPSSPRTQTSTRLN*DGKGVPTPVDPNLVWSQ*RATPVQGPHRSVDDPDWSSERPRVGTQ*HTRSLVPKVDCRLPRVETLKDGWLWSSELKSKKRVGCTRYIPVYLLKKRRGHRNRNITLLYLQTFHYPLRPYFTRFSLVIVKKKEKFLVVVRIRHFS*TCTRPRTGCLR*STTKLDFPGYYIYR*QD*TTKVGSRTTKSPCHVSVGTTRLDRLKRSKGSQQKIVTSNPITMGVDPLLLSLLRPFTSGQPYLNISTYLCTNTKHTENCLDTSFQGHSNMLF*SIVRPPDHQ*IKKNKIK*NNNVLTIRTLDGRVDSKKRKDSAPE*DNGSDLTLPY*HRVTSELKDPSSVREWSQGSWTLMSVRGGTDRLKT**TSLSLERYNGSDQGVRTGVR*EDAVGSFKTLIRVSVLGDADQKLIQKSHVMQQQLISVLRHVVQRSQTSRTK*L*NTEN*R*VVKEGTGSGTVGGKARN*NTYAT*IYGV*SPQSVTDRKTLIGQSES*YRRCNSV*RGKGGRSTDLS*GNTYIGVTFLIRKPSVNLTKVKNR*QLPRR*LYPHV*D*RQENLFISSP*RPRIPSRQKLKNSLEV*QKVPPT**NIRVVVTRPQGHRGVGTAVNRKKKKEG*DCPQYTIEEHQN*TLRGLEQTKRKEITNHCNSLKSMWITGKHRTSLRINSGIG*KGTHNEL*TPQSTHQRSCGTELTEVFSKRLWRRIDLSSERSVFYSPT*ETTLAQELPLSPFCSLRSFIKTLW*RRENIPSDFVSVLNLWS*RNTK*VTV*PYSILCR*TRKSLTVSHCGL*VVSRFTHLFLTYLPHLRCYFST*GNN*FRQVLKPEIRNQIKNFVSNLQKSLVESLHDLGSHHRVQTLGSLNPPVPST*RTRILKLWSGPLYYFRRKIFCKLSVDPHHRQRTSGSMSPPTPTS*WTRTLRLRRHSALVR*REVGPVTSLWGRLFSFFLHNPLYTDNFGKNHKSHRNFNQNSKRTLQFEHQLHSKTLIEFILFTSSKGGDGKQ*I*QSHLKEGHK*STVTCRLLDPTLFKKRVKRFIHKKNVPSARPSEETSAKTISTPVSQ*SFHSRSSELRKDRTPVTVGRPVVSNK*PESKRVGVRRKEGREVVSLAEWPGRRFGLTAVYGGVTSLLCISNRRSKCHYGSGCRSPSSCTFSCRHLCPGCPTGWSSKSSTPERLRFPWVLTPEEVPKPVSKKLKDNLNSLLLREKTDRSSLTRFLNCLVM*TIILKSSLDTSSPS**FEPLLDDLNLSLIKSINSRDSSVCKSESTRRYFHL*HYETGGIPPTRLIYPTSPTFLETSEFRNTVTTNNETTTKDNYPVILG*NHRCKIFVKPKKKIVFVLFCFGTGNFR*VSTKSVI*DPV*RRGHFTTCSFYRKGGIKNKRSGVKVS*TEKKSRSKREVL*LLSPSIQTCRPRIEERMVRRVQINEYLLLTGILLVRRSSWYPLGRFLKVGYFTRVVDY*GS*FP*PFSTGWTPGWAG*VNR*RVWEDGKRGGPERQQVVT*LKQEILGVGKLRRQICITSNKRTPHNHHPGICYDSGRTNRQYNKRTQTRS*APIYQGYVFTTETSYTGSAYDPLYIHSRG*YIPSGWSDGPSDRTVLSFHCYESKNRKKFFFRPISSTFLNHETL*RPSNILLRTPEPYKYY*KEATTSTILRSSVPFYGCCKFHERG*RRSLIGGGGGSKIQQGRPTRTNPTCKG***RVIVVNFVCEGTDKLCPVNS*SSQTEEDEVQKSLYNRSTLNKLFRSKETNVPTRNTQRQELEQRGLNSPRVELLT**PAMISVFQLKNPNSTECRFTNNYFSLFRVKKTNGSTTNEGKEKQLRYIPFYHSVFIFIGLGPLVLLEGGVNQGCPGPPTHSTGRPEYTSHNRILCR*IYLDGKGEPPSDVGCPGLGRTGRPVV*KPFGGDLRLVSCPVLLPGDTQLKKVRKLTHVHILHFGHTTARTPPLDQSQRGTESQHPKHLPDVSLRGSPVVGDFGGHAAEHQGVGGGVSKDTADRKRKRREQKIRRPQLWCLFL*LQEI*ALH*KLLRPLICTNRPLR*PYRKVRRTNCQDGPYMTRKRDPKKGKRTN*RYFNCVEDNSLYRGK*ERISIFFTIFTRESLFF*RNL*VCVTLGCECKY*FPLKWEFWTSLEYKNHSVTRLHI*SGRGKENSLFNGNETILSFIK*E*SLR*NDFRTYTKITKVG*NIKIALHLSPYTYLLGPLAVETYSLRVFVTQRMEPLATERRTTLSYLKAKRK*RFVRGR*NPNYNKDGVSLYL**RRDNGFVTTTDLEIGCRDKITLKEL*FVTGETT*TEKQ*RKHFDVSDTKRSNTTR*GQ*LRNKNLMSRMDVRIKCRSFLFYLAK*KHDNDDSQN**NVHKKTNFTYSKVIMVT*AKRKTTLRRDTYKRNFVSLQRIQLRTKINVMT*DTTD*P*RIGQTDCHDRELILTSNSFCDKPLCDEHLPSSS*FFFSL*PSTIFLHDLIH*YTYECVLWKYKKEILFSTSLYCYIGLYIFEFSNNFL*Y*KYIIPRLPRYNIR*VRHINYVTKQIPDLP*FLKWF*KSLVG*STCSQSIP*HK*AQFNRTPQKETFSDGYILTS*Q*QRNLCFHP*QL*SLKK*TKRKCLLVLSIRKVTPMSTSRR*LYRLFYTGVSDGTR*PTVGE*PNVHG*LRSLSLMDPGPPVYYLGTNK*K*TLKNPSGGTELLPAAENQGNQHDTTQSDHTIEIPDE*TRRRTLDVRSRTFSFPLMSKGSDGPLSVNDVSPEELADIPPLSVGHGLLLVLVLRSEVVGRPTRVRLVCIGGRLCPLSFIYFSNFFK*GGGTGSVEHLEQETKLR*LKTLEGTRSLRPHYEPPVGQSQTSNLSDQYHATNLVTPGQGSRSFLL*QS*SFD*SS*PLLTSV*GDTHKLV*VHVAREASKSV*AQDTRLWKKFYSYL*ANPEYGDHAFSEIQETE*KISVLVIEYGTPT*T*QTKFDNVLLKDVS*NRIGETLNVILTYVDNTE*QSSSVHTDT*IIIL*TYLGRCLTKIGG*TRNHQRKTNTHGGLTKLKRNPLYPVLPRRPHLVSGRIHPPCPLRSREKTNKCLYLRLPSTSTSCKCFRKL*TKTISKENFIVHFVV*VTEIKSHIKSFYMPHEQF*SLRKQSRGL*EQVSRTYPGP*T*NVFGIPLKSYVKLFEVQLRSVRRGP*SPSLL*KTCSVILPNPWSTSRHQNLTQTNKCWVEV*GPTYPGTIEEISVQSSSRKKHLCLLS*ISHTVRIRLLV*HNCRTFSPRTTQCRRWFLRQQ*NSLY**KEPRSFRFYSGQPVGQRSSQVRTLLRMYQR**KKDYPFLPLKTSVEH*TVSIR*RGINRVVEKKTLTILRKEK*IISSHSTGILGGLSRCQ*HKRKGSRSTEKK*QVDSYVKLFLS*TFI*RTPT*ELLILLPSVTFNCILTRFNSLIYI*VYVMVNIKKKFS*VGPARTTECGH*GRETLRLRAPSGLQSSSSGRSD*LYNFGAEMIFMFLIDPHHHVRTSGSTNPPTPSS**TWTLHLQRYSVLVW*REVGPVVLILRQKFFFLSLKSDSTRKKERRDTMVSLVVSRKEKKKGGRK*ISSIK*FTPHI*SNVHSVSDSVSGHQGSNKLPFTDIRIEVSSDFALLGNLGPQVLVGLVVSL*G*VFCFVLFCFVFGFHPFFSFTLTEHKSSRLLILSSSPFPRLWSRDLFM*RRSN*INPPYNCVESRKMYRFTPCNNLEVFLTK*SCVPGKPSLSLRIAHRPIFSQ*PDLDLTFRGLSGRLCNYCLVYGVPTVRTEMDSEISLHSSYPTKIRKYSGEK*DTTGQRRSCVPSESQRYRD*ERERLWVCVCRRVSPGSQVGTREKSCSFQPKSKEDTQKGRTVNN*T*SE*PHCVCKVKYNKKTRFYKKRSWFLL*GTLVKDHSHLKNSETYVYQLLPLR*KPTTLRLPSTVEGHRKLPPSTV*VTVPNPWHGL*RVGEGEETTGRSIYSGCCRSGLSP*KHSHNQDHVHTTCRSLVTLRRKHSISPVVMKDTKGV*LTHHPLPHPHPPPTSRLL*LLRTNPLHATTTQTT*SKCSSCSQRKRPRTSKVSHPTSKLTEYQPRQVYLSRGHVECGRE*RQSYHVLRRPTKKKTKKV*NQSGRVDDYIHPTFGLFLVLV*PTAPSTDIRVVKPSGSVRLVDVSPQDLVGPVVYHFGVEVIFYVFNRPTPLRTDIRVDEPFDSVLLVILGPPSPTSLDSSAVT*GRNHCLTMRQSVFILFYFILFYFI*FPSLPMENIVMKTPFTV*GPLQSLSWFYFPLLASPTEPPPYTLSHRSRVQVTITRSLYTV*GPSPYLQDEGLRANDGPSTCSTRPL*ET*NQLVHQIWNGRGLL*TH*SHQCLLN*P*TGKYTRGVGGTGIKRRGKRGESRRFPVLSNGF*TGPGTDYARELVSVA*TPTTQYRDYPNECLRVPFRTPSVSERYPLFTHRLLDGTD*WI*NNTSLIFTLKSSETSK*SPWVERHHFRKTNRYPLTTRSEYNLVFIQLRSEHKNTPFHQTSDSQCPGQTVRHQVHTNSQDPSFVCL*LSREEGPCRNEDERDKRLFRGDLPFKLSHISLL*QSGPRHRVWTLGS*NPPAAST*WTPVLKLWSDWSHYFGTQMIFMF*STRTTMYGH*GR*TLRLRPLSELGPSAPNVTRF*HGPITLTLRQSLVFFFFFFFFSFLCLL*QRTTGKFFFPFFFL*RSELEGIHDTFTCFSCK*IFELNTVYDLSKAFHSFTLTSDTFMYEFFFTDGSKPSPFCQMISQAQLTNIH*VNSDCSLIQF*PILTLRP*LQRSILNFLFLLILKHVFFSLKLSRFLHLPKVSTRHPQ*TPRTKSPFYGSFCTSGCPLTGRVLARFGGCVRARTSPSLTSLSVGIKYRGLP*NFRIIFTYLHFNSIWSHLSR*FKISKNLKRAKEWEKGAKHKNIFIKGPNM*IRLRGMK*TCFKGIQ*EEHLE*KF*DYYYCYFNYFRKNK*IKIRKVNFSTVYF*KSSVRQTPYHIYVHLKTVPKHLRLRKPQYPLGISPLEV*LTI*KEKTPLGIRYKQ*SWENDRSKGGRDSTKGLRT*EVEDE*SWGRVGTVTRLPE*IV*SVRVIPYRRRQSEITVTQ*KDQRVSNCHVSSEPYATPNQDCWGLYGFRHLRVLEINFTTS*TYT*HM*ESI*ISKDHYGHY*LRNIYDTFINNMT*QKINIKF*QHNNKK*LIESL*KLDTNQLWYLRLGCLYLLTDIECVSWWDPRFARFNGSLFTETDKRV*TRRLLRFP*FSFITSQPSSVIDSRITVRIVIREVVKKKGSKIVV*LRHVNLDKDRGEKKKLYLRTRQRV*RHVTVVEPSGVGDGGSKFVKRTESEGSSTPMSVSGGTGRLKR*KSSLSQSGTTSPTRA*GLESSRRVEPKGFTILMSTLGETDRGQNKNCLLLWVQIFPIH*RVSSVSLTHEFDPVPGTVRLACQGTITSTSPTSDGLRPGVQHLLLVSFPSLP*PTTGVASYVSTVFWIGPSSSFPAFVTRTFKSE*NLQSYKVRIREAKEKATSTESSLGIIRFFIKTIYFMKKILYFLNVCVPVF*VYQIFQDFILHKRWGRELRIRETGVH**RFREYIGRSLQIHGNKSVERHPVDGRGVG*DTRSDYSRH*KSLLRVFGSVRRRRRPTIAVGPDARVR*RISQG*GDN*RRRIRGVSP*DL*P*VTTPRCDVRYVSHKTDMLDGLGPVNAFSRVTIRRKKKKKKLCLRTRQRVRPHDTTLESSDVGDGGPKFAKRTESEGSSTLMSADGGVG*VKKIKIISIPKWYNRSDQSLRTGVH*TGEGGGFHDSNAALGGADRPAKNDQTDLEERVL*EFVFQGDVTHH*KRTSTPS*KSSGRIRTFVDA*IRRCRVPGLRLT*SSCLSKPLRSNRQFGRGLRKTRDIHLELYKDTWLRLTFRTTRDFQGPKTTQGVCSNRVMSLQPMVYRP*NFNRQSRSHPEYGSDTGVTPRPA*GVLVGVNGRAEKGERRR*TNTLGL*THTPRVEVLITKKSRAKIL*NWYVTYLQRV**TYYFKSLLTGDGFLTYLPSPSRVHAKFSIILKIHFLPGEEIKL*LLLKD*DFTKRRGLDKNP*KNLKVGRNSLQTQMFPL*VSKSLSCPGDQGTLFSGPGWDTFK*GGFKQVDLSQKRSH*LPQTFV*VLMIGGPVSASSVSGPTRSTDEPLPSTN*SVRTREPGFRTSTKSYSVTSSSDTSLILTHQ*EFSPEGHTRHTQKKKGIFGRFPVTI*ILY**NSLCDFT*SYLFFH*ATSGHMTVHPLLKRTHQYPFPHKRKVTTK*GAQIT*PKTLASVLRRVKVTYRTGSYSKVFLTPLCFLPGVTTPDPNKTQFP*ASMTYRRCKFRILRKELYKVKCKGFCLLYTISVKGFSKAS*SIRVVTRY*AHQTLP*VIGPEVMSTSMLVFP*LLRSLLTDVQEFTERPP*SCLSFKCNTSLPYLFKVSFWTCILVF*TYFRP*RT*PPVSSI*GHQKIKPKTEDGRGLGKERF*AMRPTRDRLKVGRVYLGPNVDTET*NIGPKPTQVEEVLEVVGRPLLLLCGEKLPSVGVRPSPEAHT*RSPGFYPQRFSIHS*REPVQGPTSESIFTPIT*L*KKNTGNRCFQNHTTTVVLILT*RFIG*GPFLFLPKFFFLLRNFRLDERGPTRGFFYRRPIVKNSQTR*V*GSLPYFHLNRLNILSRL*DRKPMILF*QETSEDTSLIYVLYLPEFLAMGHNDKSNQ*LQYNPTFRSLYHGL*IKDTRYYKRNNLLCLHTVSLQISFIPVDPPQPRCIENQSELEVHDLEATRRKLRTETVCHRPVGAHSVD*ETLSKSILLPPPSLEGPDSSQEPNTLKRKVKGSAPPLDPRDLTFGVVLVAHPVPQSPVLNSRIGSRRSVPGWGSRRNTFLHVTSNIPTGE*RPHEKQQCRTLMPFHLYD**RRSVCDLIRELNEYSSMGQTEL*KSSRSLIYVKSTHGYV*TFTFLFEKVSD*TTRDKPSLSIEYTDRED*N*VHYSVVKTKGSRLNLYTWQSILTY*HTYNKPISQLPSLKVN*TYDITFLVSE*VNK*VSSVQLTCK*PPRGLFCVSYQRNGHPTPLYLQRTLEAVGIKHTLIYVSIQVHV*GYIY*LDPSTLV*NSLTSKAQIRYQKRWTLWCQLSPSDIHGLTMEGGPHGTHTF*THDL*SFVTNRVCIHLV*RLLTSDKSSSNNLASVFNMFLS*QYEHHRSATLYLIGKKVTFINKRRFYNLN*KQDPSLFYWSRIVYDGNQKYDVKTFDNT*MEFMTNDYRRGTKRHNTNSIFLGISIHKVSENAKQPKTLRVPVIYR*AGYTYLEH*NL*IKHHK*NLKEVTIKIHQYS*KFEYSFFFRG*KILKEKSFFNL*GTLRKFSV*DIEPFLTLVF*VTINLLLKFRW*NVPVFLFLSELQKRNSVRFNVYKLTEF*FSRRDRESFRLVA*SFLWKGFLLFGSYGYTLNYRQGGH*L*EILQ*SFYESAHTWDSE*SRYTIREVRNHSATF*KYKSRP*RE*CGVVVYDTRLGDKCVNPTVTRSGTLFQRNPFTSTAFVTLNCFCSGSSASGTGTSTTFHSPLRPPSPSPTHLSE*FFQGKHRTLEIVPCPSLSCINWIPNSSKAIFSRRACLINRTRHT*IFLFGQNNLSPSEDVSQ*ETEEEALVLRSKRDIKIHESLIVECILT*IIDPQPHNLNPEFGIEMFMFF*TQKPPLLLCIPSSFGRENALLVSSLL*PDPLSESSTLPHLS*SRPRLGGPCVFVNGTLHLQHNTNTLTLVKMQLEGWDEVRVQVS*IS*KLVIE*AGRHKKILFSISLDSVIFRRTSLEPFF*GTAHKGCKGPSLRVGTLYHDPYSVRETSIRNRKKTPKSTLSVV*GGFPFIVRPETVVLHVKQKTQKIFRQIDSLRVPFDLTKLYKGWNLGLRPLLVTRQNGVHSTVVTDSVGDRRMVPVHTPPGSEE*RKPP*RPKRLPRVSMYPITFFPPDPQEKENTTGPTVGRDIPVSSYNQGFGNTAQERMSGADTEGGRSTGHRGRKCM*SHLKRVCQ*T*LEGKHFDFLTNVVPRIGTGIK*KKNFLWV*KGMT*SNSTSRVPFQNGESS*ILFD*RSGAYTLDTVRTNFNVSPSNTLKRILPLTSRETLR*SSASGNGRVLRVRVCKYRDKYPLADLGGALRDSRSSPTQFLRTSPRSDITKLYRDGSQRSDQSPWYFKPHQKTLRNLYRLLL**STRSFLNRNHSLRGREQD*EPG*PGGHSRNCVSLRQGTHPETGKELFYSLY*TF*KRLRL*VKVRQS*FRNR*LSSTGTQSPLLD*TLIRMTSIYYGVSFWKD*TTVSTSTTSTNPLCSYSI*KNLGRVSYHSSSFLT*AGL*DVKLT**NLYRPEGLGRGSRGTHVQISRKILGVTFYKDRYLCFFPDTGMDPRSPFLPRPLKPKLPDLPRRQRSSIGPPPKPFPSEEYKNKTFTILSKQSYSRIQNQLFKKGILSLTS*V*NDTQCLPTRGFLSNFLLFRHTSLCNKRDPLSLGPKKVTYK*P*NFS*TIH*SFELLRIETESLKRTSRYIINHLKKTFPSSIYKI*KHPAYQKQR*RAQTVSSLFRHDLHVFTYLDRRTVILN*WVCPPSVLNRTSDIRRLGLGYGTSLITCAHIPLYMSLQVTDDKQYRLWTFVYGYVYSLTYLFHTTQICYVIYVDTFPY*TKTKIFGLSKVFLLHTHFLQRF*ILEIISKYTNFYYIMNNLSILLGFPISPP*VTKGSPASTVVLSLSLLVQLTQRHGKLR*YWFPNK**NLSNISIKIHTKRHTILKKKKEEEKKKKKNSVSERDNGSDVTSPH*SRVMSEVEDPSSLRGQSRRVHRP*YPHTVVRVD*KHKNHLCSKAIRPVRPELEDRSTLGGRSRRHSRP*CLYSVVRVGDIQFEIFFFFFVPNIIDFYKTT*RVPLWDLREKSLEEKKELSRRDTVSTHTEISVGGSYGGSGLRWALPHEDTVIGTRTPRLLEVPEPQYVDGRPVSVPHEPKGFSLRKCKMNRPTLG*FLQKFLLSVKPVRVNDLVRERTEHVGPFINNAIRVNSNYLTNFGFVGVFGYRSDVSTRLFYGEETLSWYTLKGALSREVHPLPTKISGGN*AY*KKERKKKKNSK*IKHQ*LKNLYLKSTNHKTQTIP*FIRFSFPVCFPIKSLERRTSRRK*NGANRPLGDTNLQPVQGTPPDGRKVRTVNGTLNFVKSIRLSSICPRVYRSLRKTYWVLREQSGCVSLRLPASTEDTSPPGTRMDVTSNNVTVLKEPRGFSTLGDQPHVGDSDPQTQRTSQCLSSEVPRYGQCGGSGRLVSLTSLSSLPTWSRDERPVYPCTGSRWGTRPTKKERKFVRPHGTVLVSSDVGTGGPKSTRRVELEDSSTLMLLHGGTDRFKTQKTKNKTISAPKRKKEKLNSF*NFCKKVLSNLKF*KSLEKAYF*RVIYPKPFD*FVSKLKTLTQMHVHAHTRTYIPSNG*INRRSLLVCLGLVPCKLFYSEGLQSQSFLFLTTPLPRSIFPRLLC*GFTFSP*DLT*DTQPLPPVKNLSCKHSQETYT*HIIMTNIKT*SQLKRPPPLSP*TTSSLCDFLTLNTS*SLRTSSQNSPGRYFILVR*VIGFTHTHTPVHPVLYLCRSLTHPHCSFGSSPPMSDTVGRKRRRHLRRIYSDPSHRVDIRRIKL*DQN**GTGWTHPLSPSSKRGSSHHDDPLYTILPTESVK*FRKL*MRISWGLQSTGTSPRGRFTGLLCIRNWRTPFLVPTVILFN*HLHPYFYSNIFL*LFPRYLLCPPIPE*VRSCDVKRQ*RYLRRLPLLLLVNHEVFTESDDEHTTYPSDSGTVSTTTKPDPRQPRFLWLFSTTRLQPV*NENPITYLTNLSSLSFSLVPTEDLKVELFDLPPRRRFRPS*TLSPDPVPRI*THLLGSSRTRIDSVGSPLLLLRRPSSSRDSHPIVDPPSFPSTLKFGTRTCLSRRLFEPSPLIFGLQSRTLLRV*ISN*LSWSLSSPPARPCRTRHPFSPVPRVSGVYPRSPSSPVHHLGAASLTTLRAHNSGPGSPSPPWGRVGSGLLGLEEGQNLDRLSFDSLLETIRPVYVGKLAPSCLHGYNFTTLLSLIAIIINDWGGPLRLVEGPWHRLVNCIS*NASGVLLGLYPP*T*G*HTPSCYSFVVLTKLWSTQSS*VYRSEDSSPEHPDFSPHRPGSGSRGPGGESTEDESTPGIERDLTPFWLL*GAPPAHSPTNHGVTPE*QRCNLLSGSIFPITYPEILYRTKVSVNDLRWTSIPGSYPNFYLHLLLQFVPGERSRDEGFYLPNKNFHLLLLGPFPRPGPKGCG*GSVTPRYPNTLWTNGLPSPFSLDN*CSNDYMTQVDTSRDPANSTCVSRTGGRRKSTHTCTHTHALTHSQPHPQPLTSVSSLFCGTTYIVTLIHYPINSECVKYFRNDKNRV*CD*NEKIGLGFGSIGSFTIWTRQTKSKNKNSVPE*DSGPTSRHRTRTE*RRNRRTQVH*EGGVGGLNDPDVRTWWCGPIKNHLCPKMVWYNRSDQNLRTGVH*TGGVGGFHDPNVRTR*RGPGLVKKKKKPTLSQIEKTAPTSSHRDRAE*RRRRRVQDR*EDGVGGFIDPDVRERWCGPIKKHKNHLYPKATQSVPPEVEDWSPRRTEPEGFTTLLSTLGGASRTRQKNHFGVEGVDILPIL**VQYPTASLSYSSRYDPCPV*QM*YPYNQKEGNHWVTGSGYLVV*QGPGINIFYQSRDTTSCRL*GHLLPLNRTETNERKRAHTQGSEENKLGLRPQTTKDRGPYSLPVRSETESDSSTTSLGSRHRDTFDSGLRINLGSRTLRVRRLVCRTVCVSRAQPSSCGGPLKPGPEPSS*TCPEVLTLVPTSGSA*RSVEDTREYKGRRLDRSLTFERTERTKGRRPESDGPSGSSHTCVPYRSPAPP*FIKE*I*SP*CIERGKN*QVKHLTDSSGGKVGTTYLTILKDEAYYQLETVIGHIFRSHHYKRRNTE*RRVLSSTTNLWD*WNIEHL*NDILSHCFYVVECHRIVNIFPF*YPARTTECGY*GHETLRLRPPSELQSSNSGRTGCTTLG*RWFLCFNRTTPPPVDVRVDEPSDSRPLSELGPSVSNVTRF*HGDVRSDPLFSL*GRVFFFFFFFFLPFQHYRSRKTLGSQSQFCYLIDKTSFINYKVTNLSHIHRVSPTPVHNPL*PDSCTYLPVTGTISGSFLY*SVKSLESVPCTSSMLSRFKPSHLWAICPSHLQSPPPRLSLLPDLIP*SSPFPYHTCVPFRKTSTLVVLNPPYTFLMATYREANSLCFVTSSTLELKLCSSLTVTPSQGICQLLLLYPESSLQYYLYA*TRIKHTQILITELLYTFMYLNYLVKEINFPVFFSSRSVSKILPSLSVSPSTPFPCPILICLPDPHHRMWTLGS*NPPAPPTEWTPVLKLWSDWLYHFGAEMIFMFYNRPTPPSVDIRVDEPSDSVLLANLGPPPPTPLGSSVVT*GRTRCSCSEVQFCFFCFCSFGFVSLVKFFVRSLVIVDFGVSSLLTPQPPAVNADC*VSKKYSKSSPFSPCV*SYKLFTGPYFFCVTT*NWLRRLLSPNFPSSRSQLSFLKSY*SMSRYSSTFFL*PHRPVDLHLLLYQ*IRWKREVLLVR*INIKVLFMYSTRSERLLGSTGQKN*NLGVTQKKRKERKKKKKKLCLRVRQWVRPHVTALESSDVGDRGSKFTKNTESEDSSTLMSTCGGASRLKTSKSSLP*NGTTGPTRA**LEFTRRVELEGFTTIMSVLGGVGRCDIKNIIWR*PKIVVDIKDRRKILYLYKGKTRPPQNFNQ*RERRKN*SHISSSKSSVFTKPLSFVTLLLSSET*AVSIVVISDNVFLVVTFSYRHCVTRPRPHSESYKVLLSGSYNSRPTLPTPG*GDGAKGKKTE**VFESYTFKSEIIQLKSFTLCEYMSY*SLAILKEYQE*FLKVSFLMSNLQ*PN*KRIIDQFLVDTRSLYFLS*VPLP*NNCRVWTRRVCNKYQE*P*LKTR*LTDHFWLL*SRICPVSG*LGRFYLRKFI*IKNVKGDVNVPAEGQFTYRGLRDKLSHM*VVSLHTH*EKRDRKRTRTRRFYDMHEVERRKKSPTT*SV*ASSTSSTGIFPV*NTIRLLVTRQ*LDGPKFLVSSTLTTGGGRSRLQEGNLYKYLHVDVSPID*AVREPYKK*GNFLIRTSKRVNAHQTV*REIGSKQEFLTSTHSTPGPTPGGVPDERYK*GVVFPD*NETVGTIVRSLCHLIKIILYDCFGHPSPRLTIKSKLLSQLPTHVTEYGH*LGS*NPPVPPT*CSSPLVPVGPVVPLWGRDDFDVFNRPASIRTDIRGDEPSDSVLLANLDPQSPTSLDSNTVT*GRTVVSL*DRPLFF**T**KINILVLLKTHP*LRHDGINQESC*DFFSVLIG*KRHSLTPCLRQDGQDTTTKTRHLLTPHFVVVAHVFQLKGLAGTTSIWTERVERGGSLTRRT*TVSFRFRDFSVHIYLIPDTLHKSKQHTLSRPRTLRSRIGVGSRLTETLESFKVSETRRLQGGRCVPSTLGRLNRTTGIRQLTGRTI*CWEPSPCIPQPFLAFPKL*LFDSRNVTIVV*ILFVEIRSHYRQTEKQITTF*GSRVGAQ***APTRTSRPFSCILLDVLPGKQKLEVFTPPQIQSRPAQIQNRCTYPIITARKRKTTSTRKPHNYTL*K*NPPSGMGP*GHLLEKFDDFLPVSYLFGRLTWLLDIPDNRKDGHGVT*TVWSLWRGLHRAKTSGDQRICTRFFLPTSRDPS*VSTLCIAVAVGNEQTLFLVIRLIPLPKPSLPQTDGPTPED*NVSVVLTRRTR*HDVEDARGHLTVLLGAQSFVRSFGAPAGRPTS*FLGCVGKGPPTRTGGGPG*HRSSLSHKGLEELGNF*R*CLTAVGVKESRFLEHKPMDPE*TQNHVS*FVHRSAGGMTWSRRTFWYLTKHRFGRSVKFTSIQHKHCTRTTLS*SRNFPQRDGGRSWGGPN*FFSLTGSLTPDNT**STPKI*SLGHSRKATWHLQTTYRCKISYNIFP*ITRETVRITKKRKHCIS*TALGFSSILDPSIRIDSQLVLQSHVGSPPSN*VVFELQHQKFKIN*KKIESFDTVDLSNSGFRGPSIYHLDETTTRPTVPSLLTSGRVPLCVKGSRRFRRNPTLR*HSTVTPGPNGPFCVSTQKELPKLRKDCTKTFSFTESLLDRPFENPFTKYWGIRSTNLPRLRKRIKCGAGV*RIILTDIGAWVTYTLIKFL*VKRVHVLLLPDNRTSREGLWLQVRQPSSEPSLRVRVLVTPFLKEDLRGTGTNRTLCTHHKMCV*GDNRQPTSDTRTNKKKVSQSIKLIPKESLVLKRVLK*NTQD*VLWFLSPCRGSDGSHIDDHLVRPHTPSHPFPFVISERKTTRTLFRT*GHVQTKTRNQ*SPI*LLQAVVNELPYVTSKDCGRRQWCHDRIH*DNHYDIRNVGERSTYICM*QKMLLVECTKNVFLYMENNFINKRDFINTRADIRVVKPFGSSRLVDSGPQALVGPVVPLWDRDDFYVFNQPTPPYTDIRVDESSAPSP*RTWVLHFKRH*L*RGDVRSDPLSRSEVEFFFYYY*ILGTVVLFVSRQ*VTRLNRYSHRGSYTSISRKILIPFVYETRPFYYLGSSDQFRILSL*QLLT*NSINYSYVLSQENVSFD*GLVR*QSCSFFNFRGFIKSSFYYVN*RLNPLSKSH*KIFHY*FTSLYFRIESSK*NTQTDTGHDLFPSLT*IYLCRLEVFNFPFLAKFPPFFG*KKKTVLTTKIIFKEIDI*TLDDYRDKKRIV*TFKYRSNSLTLFNQSASPSTDIRVVKPSGSVRLVLQSSRSGRTGCTTLGQR*FLCFLIGPHNHTWTLGSMRPSDSVLSVNLAPPPPTSLGSSTVT*GRNRCLALRQSFFFFYFYFFFLWPFS*FQDKITRVQIRVSLNKYINVHLTQATMTLNIDHGILFFRLTV*QTTYIFSFKERKTFSNGIRVLFAKVNPVLKQK**HSFFKRKLHHPHKQRSTHQLRLQQP*LCKGKTLRPYP*ERERLGPLLNLPKHTHTHTHTHTQKFLQINGCKVPEKRLL*LRQTRHQT*KTGESRFGVQYLINNRRPTHSS*RGDTVGSPPSLWVFKG*IFRKVSKSCPQPLTKDISRSLIYKSRNGRDTRDNVEAVTSEFHRCLLYIYLHKIRQKIILKYLGL*P*NILTYI*NK*N*DIL*EEEN*KKKLANGYNFW*KSGVRYVSADTRGFSLLHSGTPLGLPKNVVVVTYGTPRFL*KT*SLEVLKL*IGYKRTSKEIVT*YLNCMYSYRFGKNLDKCKS*ASRRLSLVNVDNLMGDLLLHKGKLIGALMLSFYIKSFIYKYQS**ISPRPLGVVQWPKVKRPRA*TSFPRSLLHHI*VAQ*IQAHFGSTDGSWISS*SKITRDGQLSTKYYLRFSFRFLSDPM*SAPESLQKHLQSTRPRDKWKIPRGQDRVQVMGVEFSNTNFILRREGKKVLMNLESVGELGISGTIGLGSTLFCREKGRKSL*TWSRLESLS*VDQWDCVLQEQEVLY*DKKEVWGTECLVRKES*VCICRHNFVLTDTDGQGFVLS*PLDRCDSSLWYGGSRTTEVNIYT*SPHLLTFSLVVYTFLNMSTFEH*KGSSSSSKDLVT*RCSVVHWGEWTARMTDTWSS*VPPARKTEGTIKTLLTSSKYSRV*MSRVYVIYPRPTYIYISLIHIYI*YINVPQ*KT*LKFTYRVTWIF*PERKKLSINDLRQECVLKN*KWLVSTFL*KRKSLLPYCN*III*PLYVLLISKYQKKH*IHRKDTSVVSSDQLDNEPELINSLGNFSLINVIY*LNPFYFKTK*TQIYDDSLLTRIWRIYGV*FS*VSILPQSKTTRWDSNAVALQIDLKGSIYHGRRRIFYGIR*GTPVWNQLYYRLTRRETVDRKTKTQRVISLIGHKRSHLKLLPKV*ETATSADNPRSSG*YLLTLCLNKTTIKTPMQVEKFPNESRLRPSWSGFLGRSMDVVCFIAATRKT*FHNTKRNLCG*VKRYRHVLLTSNVTRIHNVLTSFINYFGQLKI*LLFLQRCL*LQLFCFIYSALNKKI\",\n          \"FGFR2\"\n        ],\n        \"semantic_type\": \"\",\n        \"description\": \"\"\n      }\n    }\n  ]\n}"
            }
          },
          "metadata": {},
          "execution_count": 54
        }
      ]
    },
    {
      "cell_type": "code",
      "source": [
        "# Создаем копию оригинального гена\n",
        "mutable_seq = MutableSeq(minus_strand_seq)\n",
        "mutable_seq"
      ],
      "metadata": {
        "colab": {
          "base_uri": "https://localhost:8080/"
        },
        "id": "ojhJ8Cje09ga",
        "outputId": "2302b289-8fb0-4bac-9726-b72e9c42046a"
      },
      "execution_count": 55,
      "outputs": [
        {
          "output_type": "execute_result",
          "data": {
            "text/plain": [
              "MutableSeq('CCGCCGCCGACCTCCTCTCGCGCCACCTCTCGGCTCGCCCGCCCGCCGCCCACG...TTA')"
            ]
          },
          "metadata": {},
          "execution_count": 55
        }
      ]
    },
    {
      "cell_type": "code",
      "source": [
        "# Найдем старт кодон\n",
        "def find_start_codon_dna(mutable_seq):\n",
        "  return str(mutable_seq).find('ATG')"
      ],
      "metadata": {
        "id": "zXNWvwSH0-wd"
      },
      "execution_count": 56,
      "outputs": []
    },
    {
      "cell_type": "code",
      "source": [
        "# Выделим последовательность гена после старт кодона\n",
        "start = find_start_codon_dna(mutable_seq)\n",
        "semantic_seq = mutable_seq[start::]\n",
        "semantic_seq"
      ],
      "metadata": {
        "colab": {
          "base_uri": "https://localhost:8080/"
        },
        "id": "YXx9leRx1DdR",
        "outputId": "1d2885d6-672f-4b8d-9887-b465eacd2286"
      },
      "execution_count": 57,
      "outputs": [
        {
          "output_type": "execute_result",
          "data": {
            "text/plain": [
              "MutableSeq('ATGGACCGGGCCGCGCCGCTGACGAGAGGCCCGACCGCCCCCGGCCGGCGCTCG...TTA')"
            ]
          },
          "metadata": {},
          "execution_count": 57
        }
      ]
    },
    {
      "cell_type": "markdown",
      "source": [
        "Старт кодон находится в 118-120 положении ДНК. Участок 118-306 нуклеотид ДНК будем использовать для мутаций синонимичной замены, миссенс и нонсенс мутаций"
      ],
      "metadata": {
        "id": "HUAELwBD1IKz"
      }
    },
    {
      "cell_type": "code",
      "source": [
        "# Отобразим исходную последовательность белка\n",
        "semantic_seq.transcribe().translate()"
      ],
      "metadata": {
        "colab": {
          "base_uri": "https://localhost:8080/"
        },
        "id": "eDTNfTRF1I9K",
        "outputId": "99b23196-f9a0-46d0-cf40-37364750bf59"
      },
      "execution_count": 58,
      "outputs": [
        {
          "output_type": "execute_result",
          "data": {
            "text/plain": [
              "MutableSeq('MDRAAPLTRGPTAPGRRSGPPGLRRRTDARDSEALSARFKPPPLRFGLRKEGEQ...KKI')"
            ]
          },
          "metadata": {},
          "execution_count": 58
        }
      ]
    },
    {
      "cell_type": "markdown",
      "source": [
        "**True Silence mutation**\n",
        "\n",
        "Для данной мутации мы заменим первый триплет в начале последовательности нашего гена."
      ],
      "metadata": {
        "id": "FWaIacOn1R3B"
      }
    },
    {
      "cell_type": "code",
      "source": [
        "# Скопируем исходный ген в новую переменную\n",
        "true_silence_seq = mutable_seq"
      ],
      "metadata": {
        "id": "UL8j44Y21WCd"
      },
      "execution_count": 59,
      "outputs": []
    },
    {
      "cell_type": "code",
      "source": [
        "# Отобразим нужный участок последовательности нуклеотидов\n",
        "true_silence_seq[0:9]"
      ],
      "metadata": {
        "colab": {
          "base_uri": "https://localhost:8080/"
        },
        "id": "wT_J3ONT1bHH",
        "outputId": "e5ebc976-bcd8-4dab-a153-e9a1f4e0f0d2"
      },
      "execution_count": 60,
      "outputs": [
        {
          "output_type": "execute_result",
          "data": {
            "text/plain": [
              "MutableSeq('CCGCCGCCG')"
            ]
          },
          "metadata": {},
          "execution_count": 60
        }
      ]
    },
    {
      "cell_type": "code",
      "source": [
        "# Заменим первые три нуклеотида последовательноси 'CCG' на 'TCT'\n",
        "true_silence_seq[0:3] = \"TCT\"\n",
        "true_silence_seq[0:9]"
      ],
      "metadata": {
        "colab": {
          "base_uri": "https://localhost:8080/"
        },
        "id": "IxQwpR4a1jMj",
        "outputId": "7af3de46-8e7a-4152-a2e1-9f66506e905a"
      },
      "execution_count": 61,
      "outputs": [
        {
          "output_type": "execute_result",
          "data": {
            "text/plain": [
              "MutableSeq('TCTCCGCCG')"
            ]
          },
          "metadata": {},
          "execution_count": 61
        }
      ]
    },
    {
      "cell_type": "code",
      "source": [
        "# Отобразим последовательность белка после изменений (старт кодон в 118 положении)\n",
        "start = find_start_codon_dna(true_silence_seq)\n",
        "true_silence_seq[start::].transcribe().translate()"
      ],
      "metadata": {
        "colab": {
          "base_uri": "https://localhost:8080/"
        },
        "id": "nQlwVibj1p5K",
        "outputId": "b57dbc65-1014-41d0-b87d-4cf6a7eceba4"
      },
      "execution_count": 62,
      "outputs": [
        {
          "output_type": "execute_result",
          "data": {
            "text/plain": [
              "MutableSeq('MDRAAPLTRGPTAPGRRSGPPGLRRRTDARDSEALSARFKPPPLRFGLRKEGEQ...KKI')"
            ]
          },
          "metadata": {},
          "execution_count": 62
        }
      ]
    },
    {
      "cell_type": "code",
      "source": [
        "# Сравним белковые последовательности до и после изменений\n",
        "semantic_seq.transcribe().translate() == true_silence_seq[start::].transcribe().translate()"
      ],
      "metadata": {
        "colab": {
          "base_uri": "https://localhost:8080/"
        },
        "id": "3pwaF6qH1vRI",
        "outputId": "362132d1-ec70-4f33-d3d9-6107a9c8aab6"
      },
      "execution_count": 63,
      "outputs": [
        {
          "output_type": "execute_result",
          "data": {
            "text/plain": [
              "True"
            ]
          },
          "metadata": {},
          "execution_count": 63
        }
      ]
    },
    {
      "cell_type": "markdown",
      "source": [
        "**Synonimic mutation**\n",
        "\n",
        "Для этой и последующих мутаций возьмем участок гена после старт-кодона. Для этого найдем в нуклеотидной последовательности гена позицию первого вхождения триплета ATG (AUG в мРНК)"
      ],
      "metadata": {
        "id": "fiFen7mE10GX"
      }
    },
    {
      "cell_type": "code",
      "source": [
        "# Скопируем исходный ген в новую переменную\n",
        "synonimic_seq = semantic_seq\n",
        "synonimic_seq"
      ],
      "metadata": {
        "colab": {
          "base_uri": "https://localhost:8080/"
        },
        "id": "gpOXy7km13Sg",
        "outputId": "bb20d776-2b9d-42d1-c083-29a82d58a0b9"
      },
      "execution_count": 64,
      "outputs": [
        {
          "output_type": "execute_result",
          "data": {
            "text/plain": [
              "MutableSeq('ATGGACCGGGCCGCGCCGCTGACGAGAGGCCCGACCGCCCCCGGCCGGCGCTCG...TTA')"
            ]
          },
          "metadata": {},
          "execution_count": 64
        }
      ]
    },
    {
      "cell_type": "markdown",
      "source": [
        "Для удобства отобразим участок нуклеотидной последовательности по триплетам, обозначим старт и стоп кодоны в коде ДНК, укажем позиции нуклеотидов (1-я буква триплета) и соответствующих им аминокислот"
      ],
      "metadata": {
        "id": "KrM1hcw22AEY"
      }
    },
    {
      "cell_type": "code",
      "source": [
        "# Функция отображения ДНК по триплетам\n",
        "def view_triplets_dna(string):\n",
        "  protein_seq_pos_num = 0\n",
        "  dna_seq = 0\n",
        "  codons = [string[i:i+3] for i in range(0, len(string), 3)]\n",
        "  for triplet in codons:\n",
        "    if triplet == 'ATG':\n",
        "      print(f'{protein_seq_pos_num}  {dna_seq}  {triplet}  <<<---START CODON')\n",
        "    elif triplet == 'TAG' or triplet == 'TGA' or triplet == 'TAA':\n",
        "      print(f'{protein_seq_pos_num}  {dna_seq}  {triplet}  <<<---STOP CODON')\n",
        "    else:\n",
        "      print(f'{protein_seq_pos_num}  {dna_seq}  {triplet}')\n",
        "    dna_seq += 3\n",
        "    protein_seq_pos_num += 1"
      ],
      "metadata": {
        "id": "XXSPGGNq16N3"
      },
      "execution_count": 65,
      "outputs": []
    },
    {
      "cell_type": "code",
      "source": [
        "show_in_triplets(synonimic_seq[:60])"
      ],
      "metadata": {
        "colab": {
          "base_uri": "https://localhost:8080/"
        },
        "id": "oxoymeA_2OU-",
        "outputId": "6914f0d5-626f-49c8-ce50-8d7200e2c85c"
      },
      "execution_count": 69,
      "outputs": [
        {
          "output_type": "execute_result",
          "data": {
            "text/plain": [
              "['ATG',\n",
              " 'GAC',\n",
              " 'CGG',\n",
              " 'GCC',\n",
              " 'GCG',\n",
              " 'CCG',\n",
              " 'CTG',\n",
              " 'ACG',\n",
              " 'AGA',\n",
              " 'GGC',\n",
              " 'CCG',\n",
              " 'ACC',\n",
              " 'GCC',\n",
              " 'CCC',\n",
              " 'GGC',\n",
              " 'CGG',\n",
              " 'CGC',\n",
              " 'TCG',\n",
              " 'GGG',\n",
              " 'CCC',\n",
              " '']"
            ]
          },
          "metadata": {},
          "execution_count": 69
        }
      ]
    },
    {
      "cell_type": "code",
      "source": [
        "view_triplets_dna(synonimic_seq[:189])"
      ],
      "metadata": {
        "colab": {
          "base_uri": "https://localhost:8080/"
        },
        "id": "TTS344km2jLo",
        "outputId": "8e199946-62f2-4d9e-fd85-a608964d7aec"
      },
      "execution_count": 70,
      "outputs": [
        {
          "output_type": "stream",
          "name": "stdout",
          "text": [
            "0  0  ATG  <<<---START CODON\n",
            "1  3  GAC\n",
            "2  6  CGG\n",
            "3  9  GCC\n",
            "4  12  GCG\n",
            "5  15  CCG\n",
            "6  18  CTG\n",
            "7  21  ACG\n",
            "8  24  AGA\n",
            "9  27  GGC\n",
            "10  30  CCG\n",
            "11  33  ACC\n",
            "12  36  GCC\n",
            "13  39  CCC\n",
            "14  42  GGC\n",
            "15  45  CGG\n",
            "16  48  CGC\n",
            "17  51  TCG\n",
            "18  54  GGG\n",
            "19  57  CCC\n",
            "20  60  CCG\n",
            "21  63  GGG\n",
            "22  66  CTC\n",
            "23  69  CGG\n",
            "24  72  CGT\n",
            "25  75  CGA\n",
            "26  78  ACG\n",
            "27  81  GAC\n",
            "28  84  GCG\n",
            "29  87  CGA\n",
            "30  90  GAC\n",
            "31  93  TCG\n",
            "32  96  GAA\n",
            "33  99  GCG\n",
            "34  102  TTG\n",
            "35  105  AGC\n",
            "36  108  GCT\n",
            "37  111  CGT\n",
            "38  114  TTC\n",
            "39  117  AAA\n",
            "40  120  CCA\n",
            "41  123  CCT\n",
            "42  126  CCG\n",
            "43  129  TTG\n",
            "44  132  CGG\n",
            "45  135  TTC\n",
            "46  138  GGA\n",
            "47  141  CTC\n",
            "48  144  AGG\n",
            "49  147  AAA\n",
            "50  150  GAA\n",
            "51  153  GGA\n",
            "52  156  GAG\n",
            "53  159  CAA\n",
            "54  162  GGG\n",
            "55  165  GTT\n",
            "56  168  TAG  <<<---STOP CODON\n",
            "57  171  GCT\n",
            "58  174  CCC\n",
            "59  177  GTC\n",
            "60  180  GGG\n",
            "61  183  CGC\n",
            "62  186  CCG\n"
          ]
        }
      ]
    },
    {
      "cell_type": "code",
      "source": [
        "synonimic_seq[:189]"
      ],
      "metadata": {
        "colab": {
          "base_uri": "https://localhost:8080/"
        },
        "id": "7DwHqyfF2qAZ",
        "outputId": "9862b177-4c08-49d0-f9fa-5a4de86d91c4"
      },
      "execution_count": 71,
      "outputs": [
        {
          "output_type": "execute_result",
          "data": {
            "text/plain": [
              "MutableSeq('ATGGACCGGGCCGCGCCGCTGACGAGAGGCCCGACCGCCCCCGGCCGGCGCTCG...CCG')"
            ]
          },
          "metadata": {},
          "execution_count": 71
        }
      ]
    },
    {
      "cell_type": "code",
      "source": [
        "synonimic_seq[:189].transcribe().translate()"
      ],
      "metadata": {
        "colab": {
          "base_uri": "https://localhost:8080/"
        },
        "id": "wiY50PNB2raK",
        "outputId": "b838cd48-e340-44e1-fe73-dc3089d0204c"
      },
      "execution_count": 72,
      "outputs": [
        {
          "output_type": "execute_result",
          "data": {
            "text/plain": [
              "MutableSeq('MDRAAPLTRGPTAPGRRSGPPGLRRRTDARDSEALSARFKPPPLRFGLRKEGEQ...GRP')"
            ]
          },
          "metadata": {},
          "execution_count": 72
        }
      ]
    },
    {
      "cell_type": "markdown",
      "source": [
        "Как мы видим в начале аминокислотной последовательности белка есть несколько аминокислот 'Аланин'. Посмотрим их кодоны и попробуем заменить так, чтобы аминокислотная последовательность не изменилась"
      ],
      "metadata": {
        "id": "7h8TWQmD2xHr"
      }
    },
    {
      "cell_type": "code",
      "source": [
        "# Отобразим нужный участок последовательности нуклеотидов\n",
        "synonimic_seq[:15]"
      ],
      "metadata": {
        "colab": {
          "base_uri": "https://localhost:8080/"
        },
        "id": "xqdKnqzu2yB7",
        "outputId": "5d0788b1-4bf2-4be4-dbc4-9b370302ce7e"
      },
      "execution_count": 73,
      "outputs": [
        {
          "output_type": "execute_result",
          "data": {
            "text/plain": [
              "MutableSeq('ATGGACCGGGCCGCG')"
            ]
          },
          "metadata": {},
          "execution_count": 73
        }
      ]
    },
    {
      "cell_type": "code",
      "source": [
        "# Отобразим белковую последовательность выбранного участка\n",
        "synonimic_seq[0:21].transcribe().translate()"
      ],
      "metadata": {
        "colab": {
          "base_uri": "https://localhost:8080/"
        },
        "id": "1XydSToD24gp",
        "outputId": "fbaeb37d-511f-40b4-8562-7ac2a0e44756"
      },
      "execution_count": 74,
      "outputs": [
        {
          "output_type": "execute_result",
          "data": {
            "text/plain": [
              "MutableSeq('MDRAAPL')"
            ]
          },
          "metadata": {},
          "execution_count": 74
        }
      ]
    },
    {
      "cell_type": "markdown",
      "source": [
        "Аминокислота 'Аланин' кодируется одним из четырех триплетов: 'GCT', 'GCC', 'GCA' или 'GCG'. Заменим 2 триплета 'GCC' и 'GCG' в положении 9-14 на 'GCA' и 'GCT'."
      ],
      "metadata": {
        "id": "mDoSPQja2938"
      }
    },
    {
      "cell_type": "code",
      "source": [
        "# Заменим последовательность нуклеотидов\n",
        "synonimic_seq[9:12] = \"GCA\"\n",
        "synonimic_seq[12:15] = \"GCT\"\n",
        "synonimic_seq[:15]"
      ],
      "metadata": {
        "colab": {
          "base_uri": "https://localhost:8080/"
        },
        "id": "Z0M7hX3s3AZs",
        "outputId": "ef549890-1ae2-4b0a-baa5-cdc48ca126bb"
      },
      "execution_count": 75,
      "outputs": [
        {
          "output_type": "execute_result",
          "data": {
            "text/plain": [
              "MutableSeq('ATGGACCGGGCAGCT')"
            ]
          },
          "metadata": {},
          "execution_count": 75
        }
      ]
    },
    {
      "cell_type": "code",
      "source": [
        "# Отобразим мутантную последовательность белка\n",
        "synonimic_seq[:21].transcribe().translate()"
      ],
      "metadata": {
        "colab": {
          "base_uri": "https://localhost:8080/"
        },
        "id": "zsRrvIm23E54",
        "outputId": "3c28310f-8068-44fa-c781-6a64a69d5148"
      },
      "execution_count": 76,
      "outputs": [
        {
          "output_type": "execute_result",
          "data": {
            "text/plain": [
              "MutableSeq('MDRAAPL')"
            ]
          },
          "metadata": {},
          "execution_count": 76
        }
      ]
    },
    {
      "cell_type": "code",
      "source": [
        "# Сравним белковые последовательности до и после изменений\n",
        "semantic_seq.transcribe().translate() == synonimic_seq.transcribe().translate()"
      ],
      "metadata": {
        "colab": {
          "base_uri": "https://localhost:8080/"
        },
        "id": "yrmGeBSO3H1X",
        "outputId": "bff3f2cf-c629-4c76-e48b-5c6af024a12e"
      },
      "execution_count": 77,
      "outputs": [
        {
          "output_type": "execute_result",
          "data": {
            "text/plain": [
              "True"
            ]
          },
          "metadata": {},
          "execution_count": 77
        }
      ]
    },
    {
      "cell_type": "markdown",
      "source": [
        "**Вывод:** не смотря на изменение кода ДНК, аминокислотный состав белка остался тем же"
      ],
      "metadata": {
        "id": "WLfguYCB3OWR"
      }
    },
    {
      "cell_type": "markdown",
      "source": [
        "**Missense mutation**"
      ],
      "metadata": {
        "id": "fUrIxrCG3cba"
      }
    },
    {
      "cell_type": "code",
      "source": [
        "# Скопируем исходный ген в новую переменную и отбросим нуклеотиды до старт-кодона\n",
        "missense_seq = semantic_seq\n",
        "missense_seq"
      ],
      "metadata": {
        "colab": {
          "base_uri": "https://localhost:8080/"
        },
        "id": "bBBXliyG3ZZ4",
        "outputId": "38e87740-6719-49bf-9a6a-9e094056b926"
      },
      "execution_count": 78,
      "outputs": [
        {
          "output_type": "execute_result",
          "data": {
            "text/plain": [
              "MutableSeq('ATGGACCGGGCAGCTCCGCTGACGAGAGGCCCGACCGCCCCCGGCCGGCGCTCG...TTA')"
            ]
          },
          "metadata": {},
          "execution_count": 78
        }
      ]
    },
    {
      "cell_type": "code",
      "source": [
        "# Отобразим нужный участок последовательности нуклеотидов\n",
        "missense_seq[:33]"
      ],
      "metadata": {
        "colab": {
          "base_uri": "https://localhost:8080/"
        },
        "id": "jBxdMJZI3lS4",
        "outputId": "85c95699-a75e-43b6-97ab-dbe6dd8efa94"
      },
      "execution_count": 79,
      "outputs": [
        {
          "output_type": "execute_result",
          "data": {
            "text/plain": [
              "MutableSeq('ATGGACCGGGCAGCTCCGCTGACGAGAGGCCCG')"
            ]
          },
          "metadata": {},
          "execution_count": 79
        }
      ]
    },
    {
      "cell_type": "code",
      "source": [
        "# Отобразим белковую последовательность выбранного участка\n",
        "missense_seq[:33].transcribe().translate()"
      ],
      "metadata": {
        "colab": {
          "base_uri": "https://localhost:8080/"
        },
        "id": "WMWV-xyw3nWH",
        "outputId": "fe6882c4-599d-41d5-e4ab-0e61dab48be4"
      },
      "execution_count": 80,
      "outputs": [
        {
          "output_type": "execute_result",
          "data": {
            "text/plain": [
              "MutableSeq('MDRAAPLTRGP')"
            ]
          },
          "metadata": {},
          "execution_count": 80
        }
      ]
    },
    {
      "cell_type": "markdown",
      "source": [
        "**Вывод:** для missense-мутации заменим аминокислоту 'Аргинин' в 9-м положении на 'Аспарагиновую кислоту'. Для этого поменяем триплет 'AGA' [24-26] на 'GAC'"
      ],
      "metadata": {
        "id": "YRyNWHg33s7Q"
      }
    },
    {
      "cell_type": "code",
      "source": [
        "# Заменим последовательность нуклеотидов\n",
        "missense_seq[24:27] = \"GAC\"\n",
        "missense_seq[:27]"
      ],
      "metadata": {
        "colab": {
          "base_uri": "https://localhost:8080/"
        },
        "id": "TsIChM9J3xs0",
        "outputId": "c5fea741-f44c-4431-d76a-0cbefa0465b0"
      },
      "execution_count": 81,
      "outputs": [
        {
          "output_type": "execute_result",
          "data": {
            "text/plain": [
              "MutableSeq('ATGGACCGGGCAGCTCCGCTGACGGAC')"
            ]
          },
          "metadata": {},
          "execution_count": 81
        }
      ]
    },
    {
      "cell_type": "code",
      "source": [
        "# Отобразим мутантную последовательность белка\n",
        "missense_seq[:33].transcribe().translate()"
      ],
      "metadata": {
        "colab": {
          "base_uri": "https://localhost:8080/"
        },
        "id": "BOvcvrII34v9",
        "outputId": "27181867-a2b0-457a-9064-c9633a3a154d"
      },
      "execution_count": 82,
      "outputs": [
        {
          "output_type": "execute_result",
          "data": {
            "text/plain": [
              "MutableSeq('MDRAAPLTDGP')"
            ]
          },
          "metadata": {},
          "execution_count": 82
        }
      ]
    },
    {
      "cell_type": "markdown",
      "source": [
        "**Nonsense mutation**"
      ],
      "metadata": {
        "id": "H2j4-2Ul38M3"
      }
    },
    {
      "cell_type": "code",
      "source": [
        "# Скопируем исходный ген в новую переменную и отбросим нуклеотиды до старт-кодона\n",
        "nonsense_seq = semantic_seq\n",
        "nonsense_seq"
      ],
      "metadata": {
        "colab": {
          "base_uri": "https://localhost:8080/"
        },
        "id": "IeL1iDvb396L",
        "outputId": "508a2082-384f-456c-8fc8-e8637454e94d"
      },
      "execution_count": 83,
      "outputs": [
        {
          "output_type": "execute_result",
          "data": {
            "text/plain": [
              "MutableSeq('ATGGACCGGGCAGCTCCGCTGACGGACGGCCCGACCGCCCCCGGCCGGCGCTCG...TTA')"
            ]
          },
          "metadata": {},
          "execution_count": 83
        }
      ]
    },
    {
      "cell_type": "code",
      "source": [
        "# Отобразим нужный участок последовательности нуклеотидов\n",
        "nonsense_seq[:51]"
      ],
      "metadata": {
        "colab": {
          "base_uri": "https://localhost:8080/"
        },
        "id": "VHrBzgrZ4EzC",
        "outputId": "99155af6-eece-4d1f-bdf6-af61922056ae"
      },
      "execution_count": 84,
      "outputs": [
        {
          "output_type": "execute_result",
          "data": {
            "text/plain": [
              "MutableSeq('ATGGACCGGGCAGCTCCGCTGACGGACGGCCCGACCGCCCCCGGCCGGCGC')"
            ]
          },
          "metadata": {},
          "execution_count": 84
        }
      ]
    },
    {
      "cell_type": "code",
      "source": [
        "# Отобразим белковую последовательность выбранного участка\n",
        "nonsense_seq[:51].transcribe().translate()"
      ],
      "metadata": {
        "colab": {
          "base_uri": "https://localhost:8080/"
        },
        "id": "wSRJ7wHQ4JRP",
        "outputId": "40886b4b-882b-4918-b173-a20b1b867500"
      },
      "execution_count": 85,
      "outputs": [
        {
          "output_type": "execute_result",
          "data": {
            "text/plain": [
              "MutableSeq('MDRAAPLTDGPTAPGRR')"
            ]
          },
          "metadata": {},
          "execution_count": 85
        }
      ]
    },
    {
      "cell_type": "code",
      "source": [
        "# Заменим последовательность нуклеотидов 'CCG' [30-32] на 'TAA'\n",
        "nonsense_seq[30:33] = \"TAA\"\n",
        "nonsense_seq[:33]"
      ],
      "metadata": {
        "colab": {
          "base_uri": "https://localhost:8080/"
        },
        "id": "aKuUqIqg4NTu",
        "outputId": "98cca966-7bd8-49ac-ca20-4596d72c030c"
      },
      "execution_count": 86,
      "outputs": [
        {
          "output_type": "execute_result",
          "data": {
            "text/plain": [
              "MutableSeq('ATGGACCGGGCAGCTCCGCTGACGGACGGCTAA')"
            ]
          },
          "metadata": {},
          "execution_count": 86
        }
      ]
    },
    {
      "cell_type": "code",
      "source": [
        "# Отобразим мутантную последовательность белка\n",
        "nonsense_seq[:51].transcribe().translate()"
      ],
      "metadata": {
        "colab": {
          "base_uri": "https://localhost:8080/"
        },
        "id": "oO2woKhI4Rpt",
        "outputId": "056fef04-62b5-4915-bd65-f8b3a0a1ad52"
      },
      "execution_count": 87,
      "outputs": [
        {
          "output_type": "execute_result",
          "data": {
            "text/plain": [
              "MutableSeq('MDRAAPLTDG*TAPGRR')"
            ]
          },
          "metadata": {},
          "execution_count": 87
        }
      ]
    },
    {
      "cell_type": "markdown",
      "source": [
        "**Вывод:** в 11-м положении белковой последовательности вместо аминокислоты 'Пролин' (P) появился стоп-кодон. Теперь синтез белка останавливается в этом месте"
      ],
      "metadata": {
        "id": "ezc5ZeGA4Usq"
      }
    },
    {
      "cell_type": "markdown",
      "source": [
        "**Проверка:**"
      ],
      "metadata": {
        "id": "F-VPjsuF4iMb"
      }
    },
    {
      "cell_type": "code",
      "source": [
        "t =   Seq('CCG')\n",
        "t.transcribe().translate()"
      ],
      "metadata": {
        "colab": {
          "base_uri": "https://localhost:8080/"
        },
        "id": "rLGSx5hW4huK",
        "outputId": "5e32640d-fe73-4840-bfb2-c27a65847103"
      },
      "execution_count": 88,
      "outputs": [
        {
          "output_type": "execute_result",
          "data": {
            "text/plain": [
              "Seq('P')"
            ]
          },
          "metadata": {},
          "execution_count": 88
        }
      ]
    },
    {
      "cell_type": "code",
      "source": [
        "t =   Seq('CCCGACGUACGCCGCAUG')\n",
        "t.translate()"
      ],
      "metadata": {
        "colab": {
          "base_uri": "https://localhost:8080/"
        },
        "id": "fcEM-9Po4c0g",
        "outputId": "f54f2c4c-2565-442b-d6bd-6df9ebdf172a"
      },
      "execution_count": 89,
      "outputs": [
        {
          "output_type": "execute_result",
          "data": {
            "text/plain": [
              "Seq('PDVRRM')"
            ]
          },
          "metadata": {},
          "execution_count": 89
        }
      ]
    },
    {
      "cell_type": "code",
      "source": [
        "# Добавим сведения о 3D-структуре FGFR2 в таблицу\n",
        "df['3d_structure_known'] = 'Yes'\n",
        "df.T"
      ],
      "metadata": {
        "colab": {
          "base_uri": "https://localhost:8080/",
          "height": 488
        },
        "id": "-3-Gf17g4akt",
        "outputId": "48ee2a6c-a572-4ddd-ed9e-4161d6933191"
      },
      "execution_count": 90,
      "outputs": [
        {
          "output_type": "execute_result",
          "data": {
            "text/plain": [
              "                                                                    0\n",
              "gene_name                                                       FGFR2\n",
              "gene_id                                                          2263\n",
              "interval_from                                               121478330\n",
              "interval_to                                                 121598458\n",
              "gi_id                                                       568815588\n",
              "nucleotide                                               NC_000010.11\n",
              "strand                                                          minus\n",
              "accession                                                   NC_000010\n",
              "version                                                            11\n",
              "prot.seq.example    MDRAAPLTRGPTAPGRRSGPPGLRRRTDARDSEALSARFKPPPLRF...\n",
              "gr_acid_num                                                      1432\n",
              "num_of_transcripts                                                 27\n",
              "rs                                                                 49\n",
              "3d_structure_known                                                Yes"
            ],
            "text/html": [
              "\n",
              "  <div id=\"df-ddc31f2c-62fb-4575-b4d8-59fa1c55be4b\" class=\"colab-df-container\">\n",
              "    <div>\n",
              "<style scoped>\n",
              "    .dataframe tbody tr th:only-of-type {\n",
              "        vertical-align: middle;\n",
              "    }\n",
              "\n",
              "    .dataframe tbody tr th {\n",
              "        vertical-align: top;\n",
              "    }\n",
              "\n",
              "    .dataframe thead th {\n",
              "        text-align: right;\n",
              "    }\n",
              "</style>\n",
              "<table border=\"1\" class=\"dataframe\">\n",
              "  <thead>\n",
              "    <tr style=\"text-align: right;\">\n",
              "      <th></th>\n",
              "      <th>0</th>\n",
              "    </tr>\n",
              "  </thead>\n",
              "  <tbody>\n",
              "    <tr>\n",
              "      <th>gene_name</th>\n",
              "      <td>FGFR2</td>\n",
              "    </tr>\n",
              "    <tr>\n",
              "      <th>gene_id</th>\n",
              "      <td>2263</td>\n",
              "    </tr>\n",
              "    <tr>\n",
              "      <th>interval_from</th>\n",
              "      <td>121478330</td>\n",
              "    </tr>\n",
              "    <tr>\n",
              "      <th>interval_to</th>\n",
              "      <td>121598458</td>\n",
              "    </tr>\n",
              "    <tr>\n",
              "      <th>gi_id</th>\n",
              "      <td>568815588</td>\n",
              "    </tr>\n",
              "    <tr>\n",
              "      <th>nucleotide</th>\n",
              "      <td>NC_000010.11</td>\n",
              "    </tr>\n",
              "    <tr>\n",
              "      <th>strand</th>\n",
              "      <td>minus</td>\n",
              "    </tr>\n",
              "    <tr>\n",
              "      <th>accession</th>\n",
              "      <td>NC_000010</td>\n",
              "    </tr>\n",
              "    <tr>\n",
              "      <th>version</th>\n",
              "      <td>11</td>\n",
              "    </tr>\n",
              "    <tr>\n",
              "      <th>prot.seq.example</th>\n",
              "      <td>MDRAAPLTRGPTAPGRRSGPPGLRRRTDARDSEALSARFKPPPLRF...</td>\n",
              "    </tr>\n",
              "    <tr>\n",
              "      <th>gr_acid_num</th>\n",
              "      <td>1432</td>\n",
              "    </tr>\n",
              "    <tr>\n",
              "      <th>num_of_transcripts</th>\n",
              "      <td>27</td>\n",
              "    </tr>\n",
              "    <tr>\n",
              "      <th>rs</th>\n",
              "      <td>49</td>\n",
              "    </tr>\n",
              "    <tr>\n",
              "      <th>3d_structure_known</th>\n",
              "      <td>Yes</td>\n",
              "    </tr>\n",
              "  </tbody>\n",
              "</table>\n",
              "</div>\n",
              "    <div class=\"colab-df-buttons\">\n",
              "\n",
              "  <div class=\"colab-df-container\">\n",
              "    <button class=\"colab-df-convert\" onclick=\"convertToInteractive('df-ddc31f2c-62fb-4575-b4d8-59fa1c55be4b')\"\n",
              "            title=\"Convert this dataframe to an interactive table.\"\n",
              "            style=\"display:none;\">\n",
              "\n",
              "  <svg xmlns=\"http://www.w3.org/2000/svg\" height=\"24px\" viewBox=\"0 -960 960 960\">\n",
              "    <path d=\"M120-120v-720h720v720H120Zm60-500h600v-160H180v160Zm220 220h160v-160H400v160Zm0 220h160v-160H400v160ZM180-400h160v-160H180v160Zm440 0h160v-160H620v160ZM180-180h160v-160H180v160Zm440 0h160v-160H620v160Z\"/>\n",
              "  </svg>\n",
              "    </button>\n",
              "\n",
              "  <style>\n",
              "    .colab-df-container {\n",
              "      display:flex;\n",
              "      gap: 12px;\n",
              "    }\n",
              "\n",
              "    .colab-df-convert {\n",
              "      background-color: #E8F0FE;\n",
              "      border: none;\n",
              "      border-radius: 50%;\n",
              "      cursor: pointer;\n",
              "      display: none;\n",
              "      fill: #1967D2;\n",
              "      height: 32px;\n",
              "      padding: 0 0 0 0;\n",
              "      width: 32px;\n",
              "    }\n",
              "\n",
              "    .colab-df-convert:hover {\n",
              "      background-color: #E2EBFA;\n",
              "      box-shadow: 0px 1px 2px rgba(60, 64, 67, 0.3), 0px 1px 3px 1px rgba(60, 64, 67, 0.15);\n",
              "      fill: #174EA6;\n",
              "    }\n",
              "\n",
              "    .colab-df-buttons div {\n",
              "      margin-bottom: 4px;\n",
              "    }\n",
              "\n",
              "    [theme=dark] .colab-df-convert {\n",
              "      background-color: #3B4455;\n",
              "      fill: #D2E3FC;\n",
              "    }\n",
              "\n",
              "    [theme=dark] .colab-df-convert:hover {\n",
              "      background-color: #434B5C;\n",
              "      box-shadow: 0px 1px 3px 1px rgba(0, 0, 0, 0.15);\n",
              "      filter: drop-shadow(0px 1px 2px rgba(0, 0, 0, 0.3));\n",
              "      fill: #FFFFFF;\n",
              "    }\n",
              "  </style>\n",
              "\n",
              "    <script>\n",
              "      const buttonEl =\n",
              "        document.querySelector('#df-ddc31f2c-62fb-4575-b4d8-59fa1c55be4b button.colab-df-convert');\n",
              "      buttonEl.style.display =\n",
              "        google.colab.kernel.accessAllowed ? 'block' : 'none';\n",
              "\n",
              "      async function convertToInteractive(key) {\n",
              "        const element = document.querySelector('#df-ddc31f2c-62fb-4575-b4d8-59fa1c55be4b');\n",
              "        const dataTable =\n",
              "          await google.colab.kernel.invokeFunction('convertToInteractive',\n",
              "                                                    [key], {});\n",
              "        if (!dataTable) return;\n",
              "\n",
              "        const docLinkHtml = 'Like what you see? Visit the ' +\n",
              "          '<a target=\"_blank\" href=https://colab.research.google.com/notebooks/data_table.ipynb>data table notebook</a>'\n",
              "          + ' to learn more about interactive tables.';\n",
              "        element.innerHTML = '';\n",
              "        dataTable['output_type'] = 'display_data';\n",
              "        await google.colab.output.renderOutput(dataTable, element);\n",
              "        const docLink = document.createElement('div');\n",
              "        docLink.innerHTML = docLinkHtml;\n",
              "        element.appendChild(docLink);\n",
              "      }\n",
              "    </script>\n",
              "  </div>\n",
              "\n",
              "\n",
              "<div id=\"df-673bd3c6-b551-4e0a-a0d9-39d77a7f4b8d\">\n",
              "  <button class=\"colab-df-quickchart\" onclick=\"quickchart('df-673bd3c6-b551-4e0a-a0d9-39d77a7f4b8d')\"\n",
              "            title=\"Suggest charts\"\n",
              "            style=\"display:none;\">\n",
              "\n",
              "<svg xmlns=\"http://www.w3.org/2000/svg\" height=\"24px\"viewBox=\"0 0 24 24\"\n",
              "     width=\"24px\">\n",
              "    <g>\n",
              "        <path d=\"M19 3H5c-1.1 0-2 .9-2 2v14c0 1.1.9 2 2 2h14c1.1 0 2-.9 2-2V5c0-1.1-.9-2-2-2zM9 17H7v-7h2v7zm4 0h-2V7h2v10zm4 0h-2v-4h2v4z\"/>\n",
              "    </g>\n",
              "</svg>\n",
              "  </button>\n",
              "\n",
              "<style>\n",
              "  .colab-df-quickchart {\n",
              "      --bg-color: #E8F0FE;\n",
              "      --fill-color: #1967D2;\n",
              "      --hover-bg-color: #E2EBFA;\n",
              "      --hover-fill-color: #174EA6;\n",
              "      --disabled-fill-color: #AAA;\n",
              "      --disabled-bg-color: #DDD;\n",
              "  }\n",
              "\n",
              "  [theme=dark] .colab-df-quickchart {\n",
              "      --bg-color: #3B4455;\n",
              "      --fill-color: #D2E3FC;\n",
              "      --hover-bg-color: #434B5C;\n",
              "      --hover-fill-color: #FFFFFF;\n",
              "      --disabled-bg-color: #3B4455;\n",
              "      --disabled-fill-color: #666;\n",
              "  }\n",
              "\n",
              "  .colab-df-quickchart {\n",
              "    background-color: var(--bg-color);\n",
              "    border: none;\n",
              "    border-radius: 50%;\n",
              "    cursor: pointer;\n",
              "    display: none;\n",
              "    fill: var(--fill-color);\n",
              "    height: 32px;\n",
              "    padding: 0;\n",
              "    width: 32px;\n",
              "  }\n",
              "\n",
              "  .colab-df-quickchart:hover {\n",
              "    background-color: var(--hover-bg-color);\n",
              "    box-shadow: 0 1px 2px rgba(60, 64, 67, 0.3), 0 1px 3px 1px rgba(60, 64, 67, 0.15);\n",
              "    fill: var(--button-hover-fill-color);\n",
              "  }\n",
              "\n",
              "  .colab-df-quickchart-complete:disabled,\n",
              "  .colab-df-quickchart-complete:disabled:hover {\n",
              "    background-color: var(--disabled-bg-color);\n",
              "    fill: var(--disabled-fill-color);\n",
              "    box-shadow: none;\n",
              "  }\n",
              "\n",
              "  .colab-df-spinner {\n",
              "    border: 2px solid var(--fill-color);\n",
              "    border-color: transparent;\n",
              "    border-bottom-color: var(--fill-color);\n",
              "    animation:\n",
              "      spin 1s steps(1) infinite;\n",
              "  }\n",
              "\n",
              "  @keyframes spin {\n",
              "    0% {\n",
              "      border-color: transparent;\n",
              "      border-bottom-color: var(--fill-color);\n",
              "      border-left-color: var(--fill-color);\n",
              "    }\n",
              "    20% {\n",
              "      border-color: transparent;\n",
              "      border-left-color: var(--fill-color);\n",
              "      border-top-color: var(--fill-color);\n",
              "    }\n",
              "    30% {\n",
              "      border-color: transparent;\n",
              "      border-left-color: var(--fill-color);\n",
              "      border-top-color: var(--fill-color);\n",
              "      border-right-color: var(--fill-color);\n",
              "    }\n",
              "    40% {\n",
              "      border-color: transparent;\n",
              "      border-right-color: var(--fill-color);\n",
              "      border-top-color: var(--fill-color);\n",
              "    }\n",
              "    60% {\n",
              "      border-color: transparent;\n",
              "      border-right-color: var(--fill-color);\n",
              "    }\n",
              "    80% {\n",
              "      border-color: transparent;\n",
              "      border-right-color: var(--fill-color);\n",
              "      border-bottom-color: var(--fill-color);\n",
              "    }\n",
              "    90% {\n",
              "      border-color: transparent;\n",
              "      border-bottom-color: var(--fill-color);\n",
              "    }\n",
              "  }\n",
              "</style>\n",
              "\n",
              "  <script>\n",
              "    async function quickchart(key) {\n",
              "      const quickchartButtonEl =\n",
              "        document.querySelector('#' + key + ' button');\n",
              "      quickchartButtonEl.disabled = true;  // To prevent multiple clicks.\n",
              "      quickchartButtonEl.classList.add('colab-df-spinner');\n",
              "      try {\n",
              "        const charts = await google.colab.kernel.invokeFunction(\n",
              "            'suggestCharts', [key], {});\n",
              "      } catch (error) {\n",
              "        console.error('Error during call to suggestCharts:', error);\n",
              "      }\n",
              "      quickchartButtonEl.classList.remove('colab-df-spinner');\n",
              "      quickchartButtonEl.classList.add('colab-df-quickchart-complete');\n",
              "    }\n",
              "    (() => {\n",
              "      let quickchartButtonEl =\n",
              "        document.querySelector('#df-673bd3c6-b551-4e0a-a0d9-39d77a7f4b8d button');\n",
              "      quickchartButtonEl.style.display =\n",
              "        google.colab.kernel.accessAllowed ? 'block' : 'none';\n",
              "    })();\n",
              "  </script>\n",
              "</div>\n",
              "    </div>\n",
              "  </div>\n"
            ],
            "application/vnd.google.colaboratory.intrinsic+json": {
              "type": "dataframe",
              "summary": "{\n  \"name\": \"df\",\n  \"rows\": 14,\n  \"fields\": [\n    {\n      \"column\": 0,\n      \"properties\": {\n        \"dtype\": \"string\",\n        \"num_unique_values\": 14,\n        \"samples\": [\n          \"MDRAAPLTRGPTAPGRRSGPPGLRRRTDARDSEALSARFKPPPLRFGLRKEGEQGV*APVGRPQYGREEASDPMRTSGPPNRGRFWVPGEKTQTSTRGVGARAAKEVGLGAPRAPVVSSASSQR*VPLAARSAEPLEAVGPCTRGALGPCGPRGRRPAPRAFLIVTPPARHRRETPTYPLPPPPTHDCRPQDLQDGDDGGRSTTVDEDRNCGGRDSLGPPA*GRLTRAKRLGSRLPAFQADGHRVGASGQGPQ*RLHGVGTQDP*RHGRSGTPLGKKPSPGDPTPATVGHPHRYRSPP*RPLRCRGHGPAGSGRRRQPRPPSRHADPDPPLDLAEKDQADGRDGVADPLQLSRPLKIERASKKSRCPGATPFFGSRDAPRPRLGAPGAWTASSGRAPGGRRQREERGARERLARGLGGRKEG*VILDGNFRLDESLSPVGNTQTTLCDSCKF*GNRGTRV*GHLEGGPS*VKVDFSDKSNLSFR*SAGREKGTLQLILRLKRLEKSRGSSPSFCPIKSVCLLSSRRDFPPPPPLVGVRRAFKTNLRS*FGPPETPGPSHTQKTLKLNNSLKGDRNWGTVEGEDESRPLFIPPEFASLPRRETSSACDN*KDYTLDGSLFCGPLGSPARSSPV*WGIHLRVSPPVT*PDGRTSRPQNPYSTI*LLGSCPDRTPGEASVREGRTVRRTETPVRTRLHFYLAPRPPALLGR*SPSHC*GGRTSDSSLKGKFPFLFVRPRK*PRV*GPS*YHNFRPSALTPAVAVRPGHKGCGSDPWINRTDPPAWYENR*PHSLTRLDSGIQRRKVSKPLPRRHPKPGPLPTLRLKITVDRPTTLPNSKSPRGTGGKRRTSVPPRRPVPVHPLVRPLPRTPLWRRS*ILTRTSAQSPSFKGT*DVYESFSYSYKHMKGGCTYIFI*ALIEDSEN*FSFLFNSPF*KVR*TFVYVCGTCVCGTCVCVARMCVWYVRVCGTCVCV*RVYEKNENDT*CGKVDTIETSSPKEIRRKPLLHRIRKGRR*KQESVSIFLVKNTTLNPSEVVTTLGYCIELCSSPMYFLHLKSLKT*FPEGRWGSESFTPSKDTKCLRLRTLTTRGRTLTKLVRDFKHVK*HGNQCLS*LT*ISTNLI*FERTF*EKGNLVYPLVL*FNSQEKIEYETFKSVIQTYTFQ*PG*CMVLILNVLNVVVIII*GRNK*S*T*TSQRSGKMSPTSVNRRDLTVNQCPLPLSPKLQEKPSRRNLRDVNTSEKHSPTNRLLTFCEEVNFYLGLFTFDHP*KTSEGP*EN*NDQRKEGFSLSLPPSDEWRSGRLYASTLV*GGCQIERFRVNLILFPCSNQYGWARKN*TKTSTGTLIPVQRRRVTPATSAITYHLLSCVTE*LHRRA*TQDIDDKIETKNFHTKIFLIGVCKDTWPDHHSGP*DSTPTFLNRLLLFLETNACKLSDFLPK*GEPDLTKP*PLLRD*AVRERKSLTSSSPSRSQGLGWRPTSVTRIRYGHLLHTSTLIAGVPLYLLLAPNHGIGTSRPQQSRRTSTSGTVGTGTGPGGSQINSYGVISVFHSVN*SEKSKQNPKQTPV*QFRTKS*SMGT*HLPRRFSWSSTREPRAVPSRLLSSRKRRRDVRPTISNHQRTTHTKRHDPLPLSTLNRK*VTGSLDTFPTWNPPTYSRDQRGS**G*RMLHFLTIKACSTW*FSLTVVDFTTVE*K*QIPLFFKDFKSCLSLRTVES*KKIGNIKYYEFVT**CLTV*DQIHLNFHLHGPLEEVEALGGS*CPVRGHSVETFKLKVPHSG*CS*CTPT**VESSKPWREGRETSVALGSEMNHDVTLDSSHPL*PSTQ*KAHH*ALILPSRVVSSGELLGQTPLRWTTDGPKSLGVVRLTTDPIRLDETLV*STHPTYLSCEWVTPSDPLLSLGSEEST*SCQILPPNAGRLYSQDSLYPRGPSGVREQ*LPTPGFVNSGLR*HTLTP*KAMCLPTVEILIVHTTVEGRRDPSLRPSSNTDSEHIDVDVRLIP*RRTTKHDPVVLLTLNVTTT*KCPESTFSLFQGPKTFSTDMQKLKRLLILPTKALTTKRELTHRAVFDSFDSTLKDATPEILVGSNPFLTVKSKTEKSRRNNTQIKLYFTFYQGLLNKMT*IKNFLQILTHMYVPPCPLRLPSLAPFPASRGSLRNTFLNVGCYTHNNLRPDELDPRHLREYLVLPPATSRPLKSIIKQLQENT*KYPNIKGTRYSSKRRS*YSTFSFLQNLLPRFGPFLLRNLFICSGSGVKGKDSRLPNSSTRNPREVIISNL*LQESSED*EGGFPTIL*R*TGPVFLVNRVPDRRSFVAHVPEQRQQRSLDPCTQKGQGTRPTRSTVLQFFVDPKTSVNSSFNKNLPPPGTTKVLRHKRKTSQG*RGVDNQIMTGD*TRDSGQEDNVLKRNHSLH*SFQ*LNIYSFLKNCRLLPESKSETRPLNLLSLSLSLTRTHTHTRAHAHARTHGHGDR*SRGTNLDDIETNRHSRWNWKTRGSRIEHSEKPND*INLRVKSITDNLSSFYTDSSRSFFGPGIVISQEKKTGESLSNTNQ*NRNTL*HSIVYSIVYSIYSKQKTCARLYHRHPNPGELTEFFY*RSSKIKNYKV*FILKRSTSK*QLKENQ*VTISRGRLLTFVPITELPPVRSYGS**DN*L*YL*TSDQFELMGLSPVENESSRRTVTVDETN*FSNNCNYRRNKCGWVILDFTFPKSWDVGINERVGGVSH*DFSLLDFFLHQTHR*KTVRRLSTTRGPGCTQPGLKSSSLQLLS*MCLWRDSV*KGHTKFRKQSS*HLRYYNWYA*INVQFSFLLSYIGVWFSLTKFY*KTKHNRRRNKKLYSQL*ILN*H*TINRNLVPE*EPVNLVYVRMRQFMCYFMCKK*SYISQSVKYLVLGTNYNEYLVFRPFGSLDHEHSKI*PRETKFKPHIHTQRQNRQIKLVNFLSRE*YGYRGVVRYSFLK*GKFRKTGSTPTLKCFGVVRLYSTKIIV*IVY*CTDTLLTPAQI*PSQNKLQASKLFYIGDQKVKRLTTNPQTNRSH*QFLREIRSNGNVKVPSLKISNFLLYPLTKNPRTDNSIHPLYRPHDER*HDQAKSGPPVETSVKSLIKNLQKIR*GVY*D*VIQNTLTRFTNTRDKKKGTLY*NRKPKNKQKQKTLSQN*TVGPTSCYHVNMGVT*QFAPSDMGA*GPDFPRRLEDSSTLMSGPIKNFYKASIPQSGTTSPTRG*GPSEPEGFTTLMFTLGGVDRIGIQNVKKGRKTT*GILNL*KRHRVL*ISTEMKKIERIVTLRTTTISMG*KWCGRRRD*TEESHQTSS*TPVQEKKKFKSKIKSKPPCTLPNNTSI*AQYPQATCLTK*WVHNSGHGLSIKKTRRERRVGGRWEFIWSHRQQEKKHKYSKVVNRG*IFTLIRHKPKDINQITIPITGDRGRYKNVFCTRTRKNTDVS*DTTYT*CKRNRLDNDYS*IHLRYRNDNTYHDVTCKHTYTEIPSY*I*GDPYMGHYPNDPAYHQDENGETH*RCAERC**PD*T*G*LSYIHKGKETLEWS*IIKNCKIIIGKTEHTLP*SSTKTKRKEITTRKKKYTTTLHIYRRKLFTDTGNR*KIHQ*TKREHLNSRNIYDL*SRNNLRIKCL*NRVMHPTDK*DNYQRKRHVFENSN*SRVNS*KRKQR*RKLQKQYFRNG*GYRSYHITDSTEGPKISKPKL*IQKEGRTPLKNIYHIPSPVEVRRRTPIGQ*GRGK*LIPQKRGNEQK*SKQLLVYQHPHAIHTPE*RPER*DKVTRCTDKNMVMVRQNQWHRGVISNFSPLHYGGRNNKNES*RNR*VSDSRKFLSRLTCSTTCPVTPLGSAELLQRKTLSVFSVKNVQRERSDTKHTPSTEDKYIEVREW*IYKYVFILSNPVRYR*ELLTHSSFYPHEI*KSLKPKPFGHGTFSKVYDLHIK*GETL*HSLRRGNT*NRCSTVRVFED*EKLSWFSPPIRQHIRKEIGEQIDFLPFKVK*SLTLRVYISKSNTTYTKYSSDFYRIFLLRLSKFLLLFPT*INILNTSRKEPLLS*DSRLQLFEI*LIALIKAWELEDIMIYTG*TYGLSNDNLKGITGQHYKIFIGL*LFRLTHIDTTHIHESPHMIFYLQF**RYQFKSKI*ETCGNFKSKSQLSP*RGFLHTDGIPRKNRTIRRT*RWLRTT*RWTDVICVLTYI*HL*IFTKFKFW*V*KFSCS*KTRKLDLRHSR*EFLS*LILVKPTVHHTKDLCI*LSPLNWNPPSKLREMIDDYDTKVFSIYWRDSESLS*IELPTYTSNLRLLYISGMT*RTGSHPQVIYD*RRDRVKDSCKGPGCSTNEML*WL*RTWLFYK*DVTYHY*QTTLRKCN*FYILTEIRDLNRLGKIIEPENVQGT*NLYPSRTTNVRFTKFQL*KKGETTFFSQRRDIIIVVCV*STPCYIKPFSQKTNFEVLCFMRRCNGNPGRFL*PLPNTLANPTPRPTSPQYPSQPHHALPLPNTLANPTPRPTSPNTLANPTPRPTSPQYPSQPHHALPLPIP*QTPPHALPLPNTLVNPTPHPTSPQYPNQPHPTPYLSPIP*PTPPHTLPLPNTLANPTPRPTSPQYPSQPHHALPLPNTLANPTPHPTSPQYPREAHPTPYLSPIP*PTPPHALPLPNTLANPTPHPTSPQYPIQPHPTPYLSPIP*PTPPHATPHKTKTGPTSPLEVLYHTSRNGTNGHHWRGLVRIYSKNRRTFPRVPLTLPWVS*LHLSSTCS*TCTMGIPPMNHPVRYFIPVIPTPVQRNRVRNSTTTTTTTTTIDRW*ITHGQYQPETRSMKLYIIESRIIGSCRTQKDKNKIPVPLTLRTPSSLRRSWSSNHSHPGPETHLHNHILFKGKKDSSS*KKKTTSYTTGE*ERI*TAN**FGQSL*RPTKTKKECVGMA*EDFCKLLFKVCYFYKLLI*NTKKILPKTTVH*ITFLRLGLTTVPLVTL*PRVNHQVRRGVASSGIVLPDRRQRATTYSVESSRPAGVNKEQGLRRRPNRITDDWESTTVNL*YSSKRRVLKTKC*PILQFRMDVSVWGHEP*GCLTPVPLFVVPDGLGRLQ*KDVSNPPL*FFRFFLF*GSYFSGFRLCG*EEGQNRSFPQESPFFLRSLTSGKNFVRF*SNHKFLFFT*GHGRLHIHLAPTKSVDLKQEPMDMSSTSCESPRSVKVHPQLKTSFQHLKEKEKKEKNTLSQRTRQWVRPHVTTLEPSDVGDGAPKFAKRTESQISSTLMSTRGGAGRLT*KSSRPQSGTTRA*ELEPTRWVESEGFTTLMSTLGGVDRHLKN*SSTTFKGRI*TSRGTLLLKVSNRLRSTIFVLKI*RPINDTKETQKSR*TRGLLKTLDDTRSKTPLPYRSLLVNSPPLSENSLLTFLLPDPDPRHRVRTLGS*NSPAPPA*YSTPQTLIGPVVPLCTRDDFYVFNRPPPPSVDIRVHEPPASVLLETWTLRLQSHSTLVR*RKVGPAVPL*DRVFIFFFSFIYLFLFFTSRSRSVSTSKTLPFRTRPPYTGYKSSRVPDPDTSTTTTTKKKKKKKKIYVPERDK*HSGSDLTSPR*CRVT*DLEDPSSPEGWNRKTHRR*YPRPTKKKKERKKEKKKKTISTQE*TTGRTRV*GPEFARRVEPEGLTTLVSTIGGVDSDQKGNSSTVGGPKGSFGWT*RSNWE*SWSVERTIQLGTGHSTKRSRIGETTGNDRSGQLQLPPPRLRQLTYARRPESPGRRGEDTPRTGTSTPLTPPASSRRAAGGPA*THPVKSDEG*RKDNDGD*PSQRTVQLHLRLSTGLPPVPSVRSTPVLP*DGGGSTERTPYGTGSFGCKHPRPRVGKTLDFEGRLTTKPPNTLHH*EVSNKQKNFENGDTFIRQTSSLLSN*HYRGRELHLTGLNYTQSQETES*GTPSQKERRRFVSSFH*GHRGWTEGTQDATFWSTLAQGGWASVTPLGKEVQ*G*VD*RRPRGPVLRHGSPQTCPKLYDRSGLEPLGVRLASLGKFTPSGRQRVRGRRRRSKRLPTLRRLP*SAPV*TSETSSQPWL*DDSLLSGSGNLVERFVMGVFQDSTLSSSVGTGGPY*ELEGKRKHRNR*NFHKEISLSRVTPSRTRYPNPLLQFALDL*IDWKVPVCPVCIGDLIRGK*LTNVVIVPPLEQGRRRRSSVSIVIHTVPLTGTFGRRPYSVRNPIRETLRPVGGVERHCVRESRHLTHSVSTPLRTGTKPQTSQ*EPYDTPIPFNRPRTRDDPKSRVPLRHHTMTRGVRL*SMRVYTTYLLIIFHKILRCPEKHLICP*YVPTTITT*SVLEVYKSETLVRSLGVNPLNIHYSG*TSELSFGQNFSLLTLISESVPTFFVRRPVNAGHLSLGPDGRTGPDSTSYPWGVMEVGGRSYSSRTRVCTGSEIYMSPEGSVGN*HRNTTGTGRRPS*PLQKEKRFRTETPSRHTPTGSTVQVMTVSAQSFRVGTCDLDLKNITPRTWSS*SGVDTLYFLQSGVDVRMTGS*KKTKKENSV*KREQQVRPHVTVLEPSDVGDGGFKFTKRTESEGSSTLISEDGGLDRLKT*KSSLSQSDTTGPTRDGGPEFTGWTEPEGFTTLMSAFGVAGRLGRRNLHPRSFDRI*LVHQNACHFRLFVT*LGMRSGRGMWKTHLTRPLRLTETDTYRISDLSCSTLVTSQNYP*P*KCLLDNLDPTYPRTVRRLDPPEHPSPLSRVHLSIRSHSLSPYTPNLVGSELRGTTRNPK*ERLKPHQTRKNFLISSTRKVF*GDPQTPPMFSAWYPLPNPRNVSRTPPDLLWTPYVKTDMKESLDSKDSPYPDYPLPHTPD*SPSRSPFLPEVPAEPRTRRQVTTLREVAHSLLRPPPPPPTSSERTKPMLETSVGPIHKGGGPVHLYTWMFVPELTVDAPPPPFSVCTGPLTLRPFPGLLGLHLKTHIGTYVLPTVPSSLKDLSALQEELYKDRYSCVCVYMRGRPSSYDWLLLIGG*DTIPNSLSGPRDGGGESKGLEGVTLLDRSVGTKKRTNRLLTPKVGLPERLPSTHSRSVTRPTEDTG*SK**QGRGS*TEFQYAKHSPYQSHSHCPDKPQRERERERERYIYIYI*KKKKKKKNSTSERDSRSDLVSPH*NRVTLKAEGPSSLRGRSRRAHRP*YPRTVVRVD*KHKNYLYPRGVQPVRPELEDWNLLGGRSRRVSRP*CPYSVVRAGTRHGNCGGRKRLLSGLFPVFTPVSE*RFPGTLRTPYRQTTLSTK**NILLLSTETDS*Q*S*VPYLHKTLVSQVKVLTSSVT*VKCLTVETSR*EVGF*PSNFRSV*DK*GSGGTLGGCTENYFPKRGLVTQGSSGLPDLYMVERDDTGRSHKSLPSSEPDPTGPSVRVSEE*HVGSAPHVLKLYRTLHS*IKDPRCTRLPDSETLYERLVF*AK*INK*KTLPQSENNGSNLPSPH*SRVPLEVAGPSSLRGRSGRNHRP*CPHTVVRAD*NIKIISAPKRYNQSDQNLRGLESTRWEEPEGFTTLMSTLGDAGRKIKKFNNNKNK*INKKTLLQSETVGRPHVTVLEPSDVGDGGTKFAKRTESEGSSTLMSPRGGTDRIKNIKIISTPKWYNRSDENLRTGVH*VGGAGRFHDPNVRTRWREPVLS*NFKNTFVSTGIDPQIRVS*LSYGRRITR*SLKSEYFILKLCAQPWSLFWKGDT*KKTSCDSTCRLL*SSFRSPYDCFVPHA*R*HPPL*PSVPLSEESFT*ESEK*DTRKNKRVPVVILKKVCTSR*VVQRVSV*IYYTPHTDLYIKNYQWYNLCNRY*GRLLILVLGQTSKTSLGRWRRLRRQSTTMAVGTIAGPSKVRAEHRWSVGLLTNLSLLTWESRTHE*TTNNETEEKQEAKIQPS*RAPSLESGNITRLINREGAGEFLVHHGYGIFQRQTTLLKPEERSAENVSPPKLLQTRRRPTEATTHVSGVPSRTFPPTKTEVTALR*RK*KIKLIIIIIIKTLPQIKTVGPTSRHHARPE*RWGRRA*VR*EDGVEGHIDPDVRVWWYG*IKNTKIISAPKQNNRSGQSLRTGVH*VDGPGGFHDHNVCTRWRGPEVTEIKKDDYSRLRSLWV*HGILSPPTREGLWDRTSLERRQGCLSLNP*LVTPEE*P*PAPVMSCRRSDSPGQPPMTWSLLSPPVNERYTKHTSLIHRCKRRPDTKRTSL*PSGCRDVGTVNETCSTVLHTLPWPLASGKMMGRASRGQCHEHPQGRHGGPCLPKEGRWVLGLSCTEGPHEDWTEKRDGEGERGEGKGRERRRTEGEERRGRETKRGKEKEQRQRGEEKGGEGEKVGRQRRSPQTSP*RKRERRRTSLHKSLTCGD*NLLPLWSHPTQGPAGVA*EP*SY*ICNLFCGRDPLGSFPN*TLFITSLDTATIFDEKRRNCQI*TAGKRHFTNLPRSESKG*TRDKRKPAVKFLVCPFQISVCNIFHCQTSRR*RPNRCISQWTLSNGKGLGKRQS*QSSVGRATLPTLQVDLHTSLQCIQCRKKLKMF*RGRTPIEVCVAPKKRETNEYLSI*VRRTPITVRHTTVYQTTPRASQSVGDGVKEREGSVSRILEGSLLSYQKNPFLPVQFRP**VSSTRLRTTISMINK*TQKKNKLCQSEYSGSDLTLPYQSRVTLEVEDPIC*EETESEGLSTLMSVYGGAGRLKNINYLYPKWYNHSDQSLKTRVH*VSETRGFHDFNVRTR*HGPDE*IKTSVQEQSDTVGPSLRHRASIESRRRPRVR*KDGVGGHIDPDVHK***GPKKKKKKSKKHLSPRMIQGIRPELEDWSSLRGWSWRVSRP*HPYWTTRTG*IKN*STCSWTERVKIS*FCQLKKKIKKKLYLKTRTTGPTSRYRTRVEWCWRSKTQVR*EDGVGGLIDPDIRTRWYGSIKT*ESSLPQRGTTGPTRA*GLESTRRAKPEGFTTLMFVLGGAGRSAKTNKQTNKQTKISSTNTGPRHRWWTLGS*NPPPPST*RTRLLKL*PDPLHHFGTEMILCCCCCFKGPHYRTWTLG**GLRLRPLSELGSSTSNVTRL*RGDVRSDPLSL*GRVFFFFFFFSGPCHRVRTLGS*NPPTPPA*CSTPLVLVGPVVPLWVGQR*FFLWFLIGPHHRPRTSGSMSPPTPSTYRTWALHLERHSVLAR*REVGPAVSV*GRVFFFLFFPTNDCATTMKGS*TLKTLF*VHLR*LEIRRPDVITPVPSSLLTTRHRVLPLNHGTNKWSKSFVTVSNRL**HFERTKKS*KLSITLFMYLCIRDRHLRRLSRKHVSFRRRPWKRGNAKPSSTPSTTRHVGTT*ACPFHFSYGVVTLFHLGPSRVY*YFPQYM*RTP*ETRKCLVRHVGPPQSLSNR*VPPTGLNPSGETCTSVSPKRLTGPRRVGPRSSHVDTPTCTSRVPHVQTSLTRRPVQWTS*VWVFSSIRDTCRLPGFLCPSLSRRR*LGRQSTNTRTGGPAPTETIHSTHDPGRPTRTPR*PTGPSDGHTVNRGGVAYRGGVGTERRMNVGGEK*EGLEKERTHK*VRKRDCTRTSQKTLWVPIMTVQMISVATRGFTRETLYW*LPHLPPQERKSQMVLSSMTKL*NFCPTELKIPICSNRVTT*NPPL*NDRNFEPIDLLSKLDQNDPSFRQNHAVQ*N*QVTLP*GHFSET*TSIVRFTRPTRVTECGY*GRETLRLRPSSAPVLKFWSYRLYHLRQRVFLCFFNRPTPPRADIRVDEPSDSVLLVNLDPPPPTPLGSSTVT*GRTHCLVLRQSFFFFSFLFFSFLFLWVYKTLIGDF*HHEFFSAVRRRRNFSLSLSLSVIGLYNINY*SK*KQPSNLRMVIIWS*THENGTLSTPCGPVFQFVLTSPHP*VPK*EKSRSRRGKWSVEGTGRGLFCVQERQGT*RKILSCTIRSSSLWGSKSF*NPK*LKSTSFPKSYFCESKFLSFSM*Y*GGNGPLSKKRRSVNVYGTNRKKKEKKGDYLRIS*GDALYPCTNVE*TPSPTSSNHTPRVHGRDTPSLRNDEDESPTGPLVKTDSPFM*GIVKTTERLVHYNSIICN**NTGSD*VTFK*DCTTHDKVVTQQPLDPEFPVDQERNRSTVSPTWLSQTPGKSRVQLT*TLRSYNPHPLPGSKPWSDLGTAEEEEEYKEKERKKTNQRYQIS*R*SVS*VGVKLNWSELSGRDSRKFDSRVVENLKRNRK*RVEFTDKKPLQRD*QNMLSLTL*KTFPF*RL*HPERPVSQRQRY*LETGTLCVFVAVCYSLPVPAQDYFETNVFVRRRPNRAPGSRRWRTVPWSGGDGDDTHGHGTVQEEGLRIRSCDIKNI*NIDSRQWGWYYLRGVHVPEIEQRRTTPRRSYPNNISSVRHLLMTHSFVYNLCIGRAVDPKGTKPHVNRYNVNRR*KEENNTKRETQVHDQP*TPNRTYGNHYGGTLRGPEDTPTTTTTTPPKEQGLRTPGTRKVSP*LCV*LN*SQRTPSKQEDSPQIRFVNGN*DGTKPRQSHDPSKRKRSGP*DPG*V*RVTSLLSEEEPGSTGRVDRRGRQQ*LFTVTTGELRSPLQHTQPRNTQVRARRIDP*HWNKLYRYTDGSSYPSHRPSCLLVLWVRKRDPRTTEAPLYPT*VLLYHVGYSTVSPVHIPPPPPSVTRRRVPLTTFH*G*CLLGRTKPRTSHLLSLLSLLPDRDVFFGPCTHHPQPLVPP*VETAHLSPRVSWVAEVKSWGHSRCL*RNVDRPVKREKQKPQFRRSENSKTLLSSRVEWVVS*SRDLAVS*LDLYSRVLLRPTVF*NISLGNQKELKLCKVKFFEPEPRCLVQIVFIISHIHTHRVSVQSACLHILSRKNVYFVWCYCLKTSIMSRSCETVS*ICKRTPYKKVRYQTKQRFRGILHL*FSPV*KTPIGDQREGL*RTEGPRTPLHLRTTPVNVSFLSKRTLIRPEVTGNNLQERRGRKGRQRQKREGGKTSRWLVYGLESWSSHAPTRSPQRSPRDGQLSTAALVNLIPTPREPRVVILSRITPHERLFPAVRISEAGDTNMTVILTSVTLNHEVPLTVSTQPGGRDTREKRHR*CKKTGSLFHHSRD*H*PTVRMSKYQKL*EETLDHVVFPASNSYYLKNTCFIVKRILSCENKFIYVRKKKKKNMVTVETVNLISQL*TYEF*RLSK*SQTQREVLKEDTSLALSCPGETPAQISRRKSYNQLLLFPVCP*LKTIPS*RKKFLWGV*LSNYNLFLRNPRCVNHLNSPRTYDKLRTLGQEYIG*NIGQIYRTFVFCNS*YCIWLTVVPPF*IR*F**N*LLLGSEKRSQGPNN*NDTSSRVNIY*RWKNETFFV*VPYTRKRMSTVE*ASTTPTVATTPSKTVTLVIVVLIH*RAEATRGSLLVPPFKTDSGQKNS*EDAVRHRAPGTERGDTDERTESLDSYLVTTTCRKR*QTGKKSTVTSKQKVSSMMKRKELKGKRETEEG*VSVFLSSWYIVEPKGTLVTNTNQIRSPHTDPVNG*EREGRVTRYKPTVLSPSPTTTGNRPLPGPYVSCRGIVS**TRFYS**GSHSLGRRMLCVEYDSLLLPAHGMKHLVLTFPSVPTERITPGTCDSRLYPLR*MNAPSCTASENLDPLDPNLERGVEDSTSKVKTRNQRNILPSLLLL**KTPTILLMYSRINISRVFSPTNVYK*VMCFMLYRNERKRLLNRSYKDFTNMYPITLRDECTI*DVKRIFLKSVKPCKFVPDSLYGVGRLNTYIYIKKGSTSEQDSGSDLTSPR*NRVTLDVEGPSSLRGRSRRAH*S*CPRTVMWTD*KHKNHLYPKVVQPIRPELENWNTKWTEPEGFTTLMSAVGGTGRIKYIKIISVPKWYNRSDQNLRTGVH*VGGVGGLHDPNVHTR*RGPL*NKKARQSPGVVLFLLPCF*RVY*KGLCTYRTGQ*L*GWSYHVDKVNYLDVTVVIVGFTHQLKSHTLVCHTSEMSNRRN*IILRTFKESTEKYRTTQ*TNIVTHKVTNIHSFK*MGKWMIFYRADPWQRVRTLGS*NTPAPPT**TLVFKLWSNRLYRFRDRDDFYVSNRFTSPRTDIRVDEPSDSVLLVNLGPTPPTSLSSSVVT*GRTDPLSHSEVEFFFFLFETTKVQNCQRLFRRCL*KHAQKHPCIKS**NPFTIPHTNDLIHSSHTNLNILWWIDGTFHRRGKT*GWSLLTLKDNEV**ATRTTRPKTGKTIHTLP*NNKIKFKETTVYYTS*KSILINGRYIEETTLQTIPATG*KINPTNKRMTAQYSQETYKTYCQEIM*RKRLSKRGVDTERKSKRTVTENVSSLKIQSTSDQKENTYHGNHNMDFTVVGWVPVDLKEDTMEDPHNNKT*NINTHIR*NSIKNISYIPHTHLSEKSDTYRSPRP**TTFLTGNPKKKKKKLYPQSENNGSDLALPR*SRVASGTEGPSSLRGRSRRTHRP*CPCTMVWGD*NIKIISAPKRYNQSDQTLRAGVH*TDGAGGFHDPNVHTR*RGPDRRISFFYFIYNHPRSLFTQ*IHF*I*TGTQRIVDPVFSL*NQPRQK*KTVLLRIPSPRVSFQGPGRRSRSGLLRELYV*ESKEESG*RSL*DPD*D*V*LYALGDRILNVHLQTGLTLE*QSPEQAFCHLLFHSPS*KTLNMVGRFLQ***Q*IIFRDYSPRTVSGEKKKKKKKKPLPQNETTGPTSRHHDRAE*RSRRRAQVR*EDGVGGLIDPDVHGWWCGPIKKHKKSSLPQGGTIGLTRARGLEH*TSGAGGFHDPNVRTRCRGPGE*RKPVTETVLRPPFLRLPDVICPRHDRRPRQVRWLLG*STSLINKNEITYLLTPNRSFSSRRKVNIRTTDSRRIPVLPPPHSYEHVHKCREVKMTYTHGSDT*LCSLRQSNQKPTDPLTQQDQQPMDGLSSNGTLVHFVILRCRSIPNVLSVRLTKSS*YTTPGIRNVTLVTRIDGSRVRLPGPPSRGYTTYGWLSHERYGSGTFVPRKH*SRAYCR*DGDFTHETSLIPDHNRHGPSMTTLLHGDKPQTLCNLR*ISLSPRIDR*TGDGRQSH*SDQTKCPRRTPPTLIRRHQTHLSPYGAGPINRSVLSPATVILLKNGGVHSLRTGLIIPFNVFVV*ET*KSVDLL*VHRSN*RNHGRLTDFYGDPTQTYKKKSLKLFTTRSLGHNYHCKNPKKLKKKKKKKRGKPNSVTFKSRHRRSTFLYNVQ*GRRLNDLITRLKQPIVFFRSSRRTISQKI*DMSHAFRTHGLCYRFYCYFLISSPRHRVPTLGS*NPPAPSA*CSSPQALVGPVIPL*GRDDFIFLIGPNHRPRTPTPSS**TWALHLQRHSALTR*RGVGPAVSL*GRVFFFFCFLT*IIVVQHVRNFLGRYPTKLTRKIQPKK*CLHVP*ETSIKSSTDRLLECTMVVIYKGSPCQDTTVMFGPTVLYYDNVYGEPRCVKEVFLSTSKYTIKNFT*VQLPKLPNS*IGKRIFSYSIDQERKGSMIHTITQ*TVVDPSTYMGKQAP*K*QRSNKATNYKDFSNSESKTLLVLPAFQVQVTN*APFTTSLST*F*ERRFHQERELTTLFFIKR*NQSKDNSGRLRV*GTVPLSDKKNLHGSLLLPSIGL*GLSKVTNWTAIVKFQWKQD*P*K*TISRIQPLSSEESTQLQRSLTFLVIVIIFVVFWVCPKRLKIFKGNITFVVVIQPNPVVSSSVDIKVDQPSGFVLLAHMGPQTLIGALVSFWRRDVFYFLIGPHHRVRTSGSMNPPSPPS*WTRVLQFRRHSTPTW*RHVGPVASFWDREFFFFFDENHKIVFMTTTTR*VTNLTYRKSQRRNQFVVSVTNLFKGNFRLEPLRVPD*PDDHPSQESEHQLNEPKLLYIKTNLRTDQSFKNYSKEFRCLYGGVLV*E*V*RHKTI*TKENQIWFDFRLDVPSPLETL*KGDSPQFRKFTGLITIKIFGINI*ALSPKSPRNLSNTLN*ILDLVRHKNFKKRRYFYVNRQ*PPAPSVFRT*KLN*WYPLKFPVRPHQLPCDESLDLYPDRSRAGDRHTGTSLVNWKDLL*L**SATRSTSGSRENHVGPLY*GTKRKFSNPAQETKNQGLSLSLSLSLSLSHLIFGIHSRNSTRSQNHPRPGRRIPKSDSNLTSQFSLVY*DGKQLS*LWTDRVSMDLSYKLDRPWN*SR**SKISISKIISR*AGR*AGR*VGR*VGRLLRTHG*GIRFLLRSTWEVHGMTTTSRSLPHKKSCLCDYNLRV*IVFLPRDSFLLNRDPTLIISDTTSGNFLQRHPNI*REIE*RRIF*RQQNFILR*IIIMITRY*QCHIFYYYSSIRYTTTTLN*LPYPN*LTPIQTDKKLVE*ES*TTNPLVVRTPWIM*SSRFLQSRFPWYGE*LQLNKGNVHLITVSKTYGNLQIWCAEIID*NSGEKYVEIPYISSPFEYTGIERLSKLTN*LTN*LTLSQNENSGSDLTLPY*SRVTLETEDPSSLRGRSGRDHRP*CRYAVVQVD*KRKNHLCPKVVQPVRPEPEDWSPLGGWSRRVSDPNVRTRWRGPDV*VKSILTTHL*GQFVDDTCSD*RRSHLEIKPCTQGRGLLSTISTSARNHIFPEGIHLLGQDSRTYHKQRSTKRQEPSGTVKVHTGKVDVFVCLLCSDDYFLCVIPIEYHNNKKI*NV*VPSVFRSHKILLDNILIFSQGRPAPSSADIRVVKPSDSVHLVLQSSRSGRTDFATLGPILPLWDRDDFYVFFFFFLIGPYHRPWTSGSMSPPTPSSYRTWALRLERHSVLAR*REVGPVVSFCDRVFFLFFFFLKEGRA*FK*FV*TLEL*ISLRHTTTLQSSVVPPRPVCTLGPTSQHGPKKYHRGLEPRDSGSTRRDVGMGRHTDTDTKRLRLKYPHRNY*LYSGLPSPMDGL*GRCNKVESGI**GLRGSVSTPNGYPTTVSSPDVSTRTRPGQGPDNV*VGTEPGHSRLFLL*GSRKSI*GEKKIPCIFSTDYHTFVYRQLKKIHFFFSVRCPSRVVINYNRLSQ*RNYKSIKYTYPITQMNLFTVLTSVDCRTPYEK*IQSKHLQKHITVSSNKQNTRVTKEKSPTPTPT*KDSSSKILLSNNFNKVIYGPGLSEPYLPLVHEGPLGSFLIHANTRKLWVSVYRWVQRLR*PKFPSLSRGQGRKRRKEKKRGPKLSKRGEG*QSRSIPTWI*GSETVNLFVSLFLCRTGTFL*SRDGNCCPKFSFALPINPIHKPTSLKLRTNMGLRPTIHFP*E*GVPARDVGILSPLKIYT*SLFRGRIPVKRNPNT*HTRQQVRSEVVFIRINT*SEDVTSSGTTTDKVSLCP*NQ**NDSVFVYTLINLTTCHLQDLSFFPPAHGTGSDRKGLKSEFVV*PPSMPKVGAPLRRRRIVTSHPNFYHPRP*SDYTKFRTDVEKVRNTENRPMN*RDTESKG*TFGSNTITERTTS*HF*LHNCTFLRNSSRTVSSSKVSHHQ*AVIIVCTS*MSP*DRTTTPKINLFYMK*NTKF*KKN*NFLVNINTESPCRPPVLKLYSKLTIGGEFNSNPPHHPNTVSIGGNLSLKKKLIFSIIHKSLCQKKKQTNKHIFKTLYMLTERPNKII*SYC*I**LTGISFRGYLFNYPENSC*TKMITHIH**IIHTVRFY*IKTS*LDSVNIYNKYTNILS*NFVLNRTLIKDRSSCSLSSPEFVKKKKEGQPSVLGRERPWKTSRST*SEDFYKRFTFIMGF*IFYRIVNVRFALLEWTNLK*VPPLRQVVICKIMTKGFVLVV*PGCVFSTFSPRYDTDAGCDSSKRRVGPPWVTVGTPPTFCPSSNSSS*RNLRCSILIRKSCSVKNVKTNK*INVKKKRYLRARQRVRPHGTTLEPSDVGGRGSKFAKRTESEGSSTLMSTHGGTERLKNIDIVSAPKWHNRSYQN*RTGALGGRSRRVSQP*CPHSVLRVGM*KQIKNFTSFQSSLIFLMKLFLVINSVNGYSPKL*FFFIMGPERTLKFHVKGKHNKKYTPLKLLSSQLSTLRQKIYEISHILILPTPQTLRSHIKGTVSS*RTYHSPEPNL*PHTLYYVIPSHAPLLSPLDDRRNFLRTLVQCVTVL*NQSSEGSLKL*PSTEGRLRARTRRSETSR*IVCN*LVGHTVRVRTRDPSTLPLRTGVEVPRESGQVVLSVSS*DRYPPCVQTNFNVLVQRRVPTCTFPL*PNRKPSYSSFLQSFPKSRLNLPFYRVFLSLP*RFNKSYLPLLTLLTRILFLTSFGILL*ETT*TLYSPV*SMDNDVLFNGVPYHRNSL*IME*QRT*SLLPHRIDPEGRGRQSVLTFVPSQLRLQSNLPN*PLP*RVHQRQS*VKERLPESRSD*QPTPDG*QGTVCPEKYPVDDSSPTRFLLGLSLSRPSVFSLGKHWITTFPVGGENEKR**FVL*SLLQRVPGLTVLCSPSGLG*TLLTYHPPYLLREIESGVQEMSVHPS*GVIVVTPQVLTQSAQKLCGRSEIEVVTTSIYSEERWIFTGRWEKTLKNLSISRNFLIKEDVFKNGKTKL*IFNCRSPVLSLLLPLSDTHSKILAYHPSLVHFVNTPSRRSSTHDNFELSSL*NQQKVLRMNHHLRPPSPTKQEDKNQVRNLVYATLSFQPGKFSLEKLFFFNS*STPLRPIFPSQFGDFSAGDPNKNWWFTKDFECINYVKVTK*IYVRLTLLPPVLGPPID*NS*FCRNIYSCFSSTTPRSLGTRVLFTLAVVIIPLPRKTFRLNH*CLYDSLILPDYSFTTD*KLSTSSHN**LRL*SDLLLVDTRFSFYS*GSSFGNRTGTPHVYWFH*NNIVRLGKDLPFPLP*SHTPCFWILYKTKWFFFFFFFFFFFSGFRRLPVCKPTSHDRTRRGKTKRPPLSDTDIPPRRTLQPGDQRLHQSDPTSSRKVLSSP*LASKTSTVFENL*GDSGFPKALNFSFLCKE*RTLPRKSMDSVVEAITTQFGWGPGPQ*PRVSPSKGGHPEGVPLEEPTDTGRKRSLSGTTPDWFRLKPLLPGTTTQKRDYKRSNGCI*ISLHGDPTRVTVTLG*RNPPTPSS*YTPVLVFWLNPLYHSGGKDVF*IW*STRIITSGHQGR*VRRLHPPSELGSSNPDVPRH*YGDVRSDLLSPSETVFFFFLFFPWKRVN*SPLI*Q*K*GAVKEFSFLWINFESPGL*ID*VRTEDR*TVKRNKIKIKNSDSKREQRVRPHVTVLESCDIGDGGPKFAKRTESECSSTLMSTGGGVGRLKHKNHLYPKVVQPVRPELEDWSSPGGRNRRRSRP*CPYSMTWAG*TVK*ITSSFYSSKGSM*KGLSFMDFLKKFVYTQ*RR*KEKGNIKTSKVFDTNTKPPDR*SKKDGQIPNPWSRR*GT*CRTKLYRTYTPDISLLPSVFFVLFQFLLILYTVFRVKVSLLVILINLKPSSQNK*FLGYDSVGIH*FLV***KFHVLVSERPTIIIH*LYYHFLNLVLR*RD*YE*GPENAVRTGTRSKKSRDTGS*GTEFYPSNRLIRTREVRDSWY*IIIVVAHRSR*REEFVVVSKKKKKKLFLQWKYRSIKCPESCQ*R*ITSFRSSTDSINYLVELRVEEASINKSVSPKNFW*KIR*SFTDVSGSL*RPVSRVSCTDTLTVSSGVATHNVPKSKGTSGSRLSFRNNSYLVHIKSRFFSTKNFENNISDDLTNKTSYPINLNVKDPINESTVKFLKNYFTIRIRCSYKSPSLVLIT*IVVQI*NTSKKKSLL*SRN*GVVRQKLLLCPYTNIIGCKYLTRGRSTEWSTEGTSFNESGRCRVSPSVTIKRENVNSRTGWGWSIHRVDGKPGCTKTWS*IRERFDERSLHQGTKHFCDNDNLLFVLLSLPRGFRTFLDRVPYVNSRFNPYTTTRKLKVLETPNK*TNKNSVSGRYNASDLTSPCLYRVTSELEDPSSLGGRSRRTHRSWCPRTVV*TD*KFKKHLCPRVNQRV*PKLVHSSSLGGWSWRVS*P*CPNSVTRVDQYSKNVNNTIIYVLYFRW*IQ**FKSSVINVSTTTRW*W**KF*KSREVCL*NMGNSSFMSKGEGVTWTIGDWMKNTDT*TDKTHGIYSL*SYKKENTDRIK*IVFR*V*HRT*F*NKEKYRLNIR*HTYMVKKKKKKNSASK*DNGSDLTSPRWNRVTLEAEGPSSLKGRSRRTHTLMSTSGGTGRLKT*KSSLSQSGTTSPTRARGLER*VGGVGGFHDPNVRTR*HGPGCKTNR*VDYY**TQRRWKTDNTYR*HR*PHVHRQGQERYSKRPYMDPHLNVLVYRKQTKRFRFYPF*HCKNFSIQVVRHLQDGVGGNTRGCSLPGDSFVPNNIK*RVEETSLGHQQMARLPSQRR*PGLLV*RAGTRDLWRTFRLKNIVTTSNS*LSTNGGVDVPPLVVVHGDRNCTFQSTVFTKVFPTEVQGVRGRLSPPDPTLLF*NT*KTKNKTKLCLRVRQWVRPHVTVLESSDVRDRGPKFAKRTESEDSSTLMSVDDGTD*LKI*KSSLSQSGTTGPTGA*GQEFTRRAEPEGFTTLMSALGDVDRLKNVKLPLSGQLT*LDKYPTHGDTSGPNVL*RQKDPFNPRL*PPSFRTLIERL*CTCVARWTVSYFET*WKTYK*DEQ*LVDS*TFTDLKKRYTFHL*VHCRTQKLESGKWKVTPQNHSCLI*M*GSTVDSHRTLNYP*NPLTSIVFLRLFGQTRWNTETHLSHTLQVP*AKNII*TLKSGKTKSDETKL*LYNKIFSEITCIKTSGTRGQDNEPSTFYYYLRCF*TGTRPFFFSARTQPTTS*RRE*PKTQTKRSR*PRRPPSMITY**IPRQNNMKKQHTQL*RQTNFPSLFFFHPLWVLG*RINIFHVTIVKPYKRKTKIDTNISPNMKVKIYVEIPPFTQTKKEKKFI*P*YLIDKK*IVIDKLLWNGPDLYYEVRKILISDATNLLER*SSMSYLIRKNYRERNCQKTRMFVTNFVVKTSTRNFINTIKDTRSKDLHLN*SSFFYTRRLKLSMVVQ*NVFPKRVKYKGKS*P*KIKGCVSGS*LIVTRKIKNN*STTYCHRVITKLNVKGLAITPIRRKVYK*PINVREKRLSFLPHTRKPD*PFS*HRDF*TP*IFVRNIYNAAFSPKKSK*DLEVYLYLITFFWGFETRKQTVEIFQLITSKNRTIIRW*LVTIL*GMFSQVVRVTTT*ILVGKPFTMSSILNPVI*FMTSLPHSFIYNCRDVPRYN*IMVLKTYLSLWDKPLTRRVTFL*KYLQLNNYKHHVEVLHL*VSRARELLPRTYLTVPGSLSELDWYRGPQFFSLVTRFDVYGSKLHSRLSPLQGRDTSSPSRGKPYEVHGLDLGPCSFCNCQTYPRSLSVIGTNSRIPVL*TRPRVS*LINVVPIYDLMYRTTAPLGTDVGIQWTVY*PRGIRFSLSKDNGNSRTPLPSQRKTQTPGVHFSSSNMDTQGTRIVLLRQHRGSLGPKSIP*E*RDLLNRRYRGGGSLLCKTYLPRIERIPLCAIVQQTQDNVQMPSWFSSFAQKQYVISER*QLVYGHLSKKTVCKMDAVTPSQRVVVEVRQSETLMEASTATDVVGSFHRLVLIELSDEHETIPPSSGWK*VTRKDSDSHYSSLEQNLESSSWRWDVSTERILTHRLYFWHREVTREA*RIETTVRLVTATKRFTCRRDGRTKISPHQCSTKRNKRSKNIVSTRTSTRRT*TKNALIGFL*TLRVPYRVFQSTLRTLLSIPIIRN*QIKK*SKVTSRNRFCGHLLLNLSLSL*FRSLGLLCSTT*NTIPFESVQTFKLRYLYKLFVPLLYSYRRETHNYHGTHPQCCRLKVYTTNRNFSEFFKHLPAYMLNSKHS*VTAV*TLRPIKRLLVHIDKSVLVSTLPV*LQGSTLKNSVGLL*TLDTRGILFT*SMPSCLPNLVTDRISFTSDIYNQDVPRHYGISDSEGSPTRLTIERTGTGNHGPTDHKSEGPVNRRGSPREFR*YHCLGATCDGL*GRLDLYSYKRSVHKWYYYYYQK*RVLRITVNS*ILNPLRRYGKNGGSRRKI*FFRVMNHKTRS*QFIGGNETRKVHALVVTSE*YLSHQGRLFPLIWTHHLLLMPR*LVCMVDLQHPLKRRGAHRRRMVG*ERTEQTFVLAIQDKEGIQSPLNQVRIRKMIVKCSDEDSRLL*DKRSVGPKYSKRTRSTKGSQ*THFTCTILYRL*NLRL**DFYN*PVHFSHVYTTSSGNQNFLFVVKGLSR*HLPVDFSFPFPDS*LGHRPTFFHLQLPGSEGSVLSVICHG*VTDKDRR*RRHVSLGTYTRIFM*KQSHVSIHPVKLICNFWWSGQQNL*VQRRVQNGHYYPETTLITSFLQRHRTS*RLYTLRWVLYEVTTSYRPILGKVHPR*KRERTVHGTESWTVELGRKPNRRGFMSNDRRRHLS*VKCECKTALH*QPLRCSGVVGDTETFASQRM*YRTRTHGS**STHPEEVIL*KLLPLGQCITLTGFSVIFLLGFRTNWFNVSKPINFKIQLTFHLF**N*KTVQFTLT*MLCETESFVLYW**R*TYIRKSLLSQISF*TQNKKSSEVHFKLSRNLLQLGYL*VFSHSKSRERGISFVHRTKNHS*WYKSIKCFVCFSLHCEFKLFFY*L*TQP*LCDI*VTSFSYTEPEMDPRTHMAYTAF**R*IPFSLKPDLQDLWIKTLIH*ITPFFINSISSENPNIETYPDV**VIRPDPGKIRSTSVYRR*GQTRERISFKIQLNNTFCKFSGSGVEGKLERPPSRDTSGL*RESQIPTLNLTRRLITLTRQITIRGPLVRTTFLAY*VTTLHLSRTSHTSLRLSPD*YSV*TL*RVDLCPVITVLRPTLIGNFELRLLKGSELGRNIYLRFSVTSFSVKVISTFTLYESRDEFWDH*RNAS*LFYS*LSRFLRVYLHVPTVSKTCRVVHLCFS*VRIRHLKTIGCPGLHYVTTHYCRKVGGETKCLLVFGKGSLSLQGKNGCKKPQNKNKDTMYLTPSL*YFVVLPTLEK*L*EGTFP*GYS*NYIFGTLNSL*EHKILICRSVTTHIPFTKVNTLGKILGPN*E*F*LW**KVDK*RSLLITLRGAKPLTPLLFYPRGFHRHRGPPPLGSGSK**LTMVSGPKTDSRTVTLRCYDPTE*RERNTGFYFLDLEYLQSCFFRRIRHLTCRPNRHRYGPRGSLNPV**IEKTPRQNSSHFSLTTMNGVRILPT*SKGSHGDCLMIFD*PNFVFFR*ENVKTSDF*VLIPQPFKVRGEGRRPSTGTEHLRGEVRDGGRSTSVQE*HTEF*RKTEGEHSCGQ*PKSRVAFRSYSIGTIKIEFMKTFLEKEVYSSVRIKGSESCTCMEEFPVGSRVM*SMLRSQPNRLLL*SDRPSTGRCLRPKEGRFGPKKTPNLT*KLSKIIRVSLQNNLFVLR*NPDPYHRVWTLDREPLRLRPSSGFQSSISGRTSCTTLEQR*FLCF*SAHTTTRGR*GR*ALRLHPLNEIGPSTSTITRF*YGNVRSDPSFSL*GRVFSFFFRPAPPSVDIRVVKPSGSVRLVLQSSSSGRTGCTTLGQRWFLCF*WVPTTVHGH*GR*VLRLRPLSELASSVSNVTRL*HGNVRSDPLFHSEAEFFFFFFFFSVKPWMSAPVSDCNCKGRLQRWKLITTVVPVGL*LNRQPERPLPTPQTPELQVPQPKKCGWGGEGVKRHLLQVQVDPIH*TIHSRTSSVRPRPRR*THKRCG*TYLRGTRGSPEEVNYK*HHTKSSLTVSG*DSSTTTVGWDESQETTSSVLHALFLPWNFLINEKE*VHLLNRNLALNNEENP*GQDVKVSGSPYSSKNGP*TIKPPFHVTFTFTTETKTVPVYTEER*GTQKTLSQNETTGPTSCHRTRTE*LWRRRVQVH*EDGDRGLINPNIRTRWYGSIKNIKNHLYPKVVQPVRPELVDRTSLGGRSRRVSRF*CPYSVARARK*SN*KVFKQGGRTGVGKFTFDIRRPSTTNPRVVSGVQ*RPTQSVVMVGTELPPSSRTVTVDRELYLDNIESGSVLSCVGLSRVLRHGLASGGSPHTSSYFAENKVRD*LFELTPQLWTFPQNPRKPSGRGHLLPPYRL*QLTNPVGDRVLLFPRSHYRLDPGPLPPCRLREFGVDLTLQT*QRTQPLFHHQFIYFFATGSIN*LDN*VMTSTVLSQ*GRVNEHYLPT*SQSRR*CDTEDLP*KQRHTLFLTDTTVVNLLY*DVQVSAIL*LSDW*WKIQQYEHGQGPCSRAEASRDTPRLELRRTESPKDRSRVN*KV*GLKRRSLKKR*RTRLTF*TTGWDCARDVRSRSQRFRVASPRLSGRQLFPNPTARSITQCRCRKDSPE*INCLVPWPRLNSSFVEGKRRKHRGRR*SRTRIFGSDSVCWGFPEMRHGLRERPPSPPLMHLSPQFKTKVGTIEIPESFPYLGDSESKERTFYPTTDKGTS*YPSSSTILSVAKIYYHGTLTISNNTQPGYEGERRGLSRHVGLG*DYFPPQSGQERRSYL*SFEGNHR*QITRKLTMFRRKVRTKCCP*GPPFPTNHRRSSEVCMTDRLCLRGRLDWGRSSETLVHHKTPTVEGPHPRPCAVGPTPYHLETLQSKKQCKRRPMGNRKRGGNSFLRNN*RKLRTSPGPTPPTSLPIINQTVN*NRKVNTTPVSPTSSQF*FNYRMSKYILLQWTSKSTPTPSLFRRRQSRTRLFERYFTVKSLPSFSHVITRP*IAPKIVAHDLTLLVFCQIIQRI*TSKHQEL*RLRLRSLISKRDLSK*VHRNSCRRKHLAFWSQPFKILCLRTRQRVRPPVTVLEPGDVGGRGPKFTKRTESEDHRP*YPPVVVRTD*KHKNHLYLKVIQRVRSELEDWSLLDGRVRRASRP*CPYSVAWTGRLRTILHSHLTTHKKGKIFYTDNQTKVPKGEGILWADNISTRSTNQTKVSVSSILRHPKMDVHPTRGMNL*TFPP*SLGDTQKVLSTSLHPQTPFIYRFPQPQRHPSNKTKEKTLLCLLRYSVTLGVTKPNLPLLSRLERSTLKHINDSTSPIKR*ELRAPCECVGNTPALPLSVNLLHIPKREYLKESSVKLQLLVFNPTFKDLELP*G*KREKEFRRPNVLREFVPTVLKTGRVYSYV*MSSLPRGLYKG*PSPSNTRKLSVCNL**DHPRKPLIRDNLFP*KVK*PSHM*DLTLTFHFLNREI*NVKPAHTTECGL*GHETLRLRPPSKL*SSNSGRTGCTIFG*R*FFMFLIGPHHNTRTLGSMSPPTPSS**TCTLRLQRHSTLTR*REV*PTVSL*GRVFVCFF*FYNF*SVRSTTCGHQGQ*DLRLRPLNEHGPSVSKVTRL*HGNVRSDPLSRSEVEFYLFI*NVKPDFFVLVRHTL*EWLTSIPP*PRPRTELRRVDRTCHSSRHRKPNFRKH*TH**NFKEKSSTT*IFIDLGTNKSQRLKVEVLLFTLNNKSESTIRIVSLRKEQTSLPDFRK*RRAWRDPRFVPYTLSTRTI*KI*RDLLSEKSTTSNYFGRS*KCYL*GDTDV*S*RK*E*SPVIREESAYIMLSKLV*FVILTTRLENKRSFFLGCRCSKQV*INHP*THL*KDPV*TFPTN*PSKNYLKSVCKISIPRNE*TSPTTETASRGDTKPKIEETFSKLSSMRLTLKWVTLFSHMD*GPVIFSCLKRSSFLCKRRGLPLGRYVCGRLLERKDFLQRGDTVHRRRLRDCTEGPYLRESTQMESRSPPSDPLTADSKCSHSFGFVLDPSLEDGSHTPSPLSFRE*LI*PVPVIWSD*LFHPKGTGIFN*NK*DSITVETIQRKNFFLTPFYMYCILYGDIGKNLHIK*M*FM*VKQNVNSNNK*RS*KGSRGLVLRKIVFSG*SLHLNRIIERPMVS*KSRPL*KTSVSRVSQNL*TPHLLCVGMRTLSGFFWV*LWVDHLR*VGVRFIMSDIVINPFHDYYVGHCN*SLP*NGGGRNQKGPGLGSVVK*EKK*SSSFVFP*SPQNEDRKVSHVGGIQ*NTEITTSLL*SKNGFVQTRRLK*ERRFSAHTKSPSPSGSAKTF*RLSVYRSVFYACGPTGLSLLLSCFARTRFGHSLFPVVWSLEGVFTQICFVLSTKTHGS*GRVSR*DPPLFGSMTDTRGPEKDFHQKDRQYRKGKRRLVKIKTGRKHD*KSSTSFEA*RPFCFVLSLGLL*IGQSELTQSTSELFRYLSKMININRTPEIVQDPRSLKSLETSRRRRRIIGTEYD*PNHAKIRCFRWWRMRNLFSIRPKSFS*ESTKVNRRFSVLQEREKSRNRNDSLTVKPPFH*FKTKIKFLSRSLQ*VRGMYLPPDSRPLTDKGLVMTLEAH*AQRTTH*RPLSTETLPRNTVHDGLKTPLYESSGHTRPFGR*DTN*LNIHIKFSDQEED*GPYVQMTRTSVLRRAEPPVKNTGNDTVSFSTSREYSFV**YRSPPDRTIF*SYQLIVSK*ETVSP*KKERERERERELLLENLPSSDTKGRRQKSTQYRGSMSRPELSRVGL*S*ESSTRKTKSSHL*TSFPRSGSHSLSLATLSYIKNFVKSDTNDAQINHLGVRSSRRLTGPSSPAWET*RKVRQN*TLSVSVEG**ENFQE*NKVQVRDT*TLDDLESCR*EYTHIYINFNVICLLDE*SDKRYTNRVRETFFLLDKIYYRLSICTIFS*NGF*HLGRTGRTTSSTLKTIVYLLLYLIVTRNQRAGLYYVVP*EKYSQTTFFQRLNSPNQTGPWPLQGPPLLCTRETQ*QGKQRRHHGRPGPVLPPGVRRVGRRSRW*TWDGSGAKKSSILSSGPRQ*VNDK*QRLQESLRLPTT*RLPKLSSSRRKPSTTVGPGKRFCRSGGGG*TNSRLLFQRFL*FRTTPLYFVLWMTEKFL*NLL*EIPK*NMTSVDIIQTFCHIPKIMSC*DERQKDGLHSFPPPPHLHQFSNKTYSTLLNFST*VLTFAHCKPYDIKRLRYCNLVTFEPHTHTHTHTHTHTHTHICIGPIVTLLNY*PRVVVKLVFLLF*RRDITRDGHNGVTDLRDGFGPRPVSTVRPTFVSNKCPVVPNHDVRVTNEHFAK*SLFIQILSPEPNFESTRPNTVNSKILETKILIYTSG*HL*IEFCVGVMCVCTYMFTF*PFASVPYLTMISSVKTHFLIWKNDKRSTYPRIKHWNRPS*IGSPVEGEHDTSENHPPDPSSPRTQTSTRLN*DGKGVPTPVDPNLVWSQ*RATPVQGPHRSVDDPDWSSERPRVGTQ*HTRSLVPKVDCRLPRVETLKDGWLWSSELKSKKRVGCTRYIPVYLLKKRRGHRNRNITLLYLQTFHYPLRPYFTRFSLVIVKKKEKFLVVVRIRHFS*TCTRPRTGCLR*STTKLDFPGYYIYR*QD*TTKVGSRTTKSPCHVSVGTTRLDRLKRSKGSQQKIVTSNPITMGVDPLLLSLLRPFTSGQPYLNISTYLCTNTKHTENCLDTSFQGHSNMLF*SIVRPPDHQ*IKKNKIK*NNNVLTIRTLDGRVDSKKRKDSAPE*DNGSDLTLPY*HRVTSELKDPSSVREWSQGSWTLMSVRGGTDRLKT**TSLSLERYNGSDQGVRTGVR*EDAVGSFKTLIRVSVLGDADQKLIQKSHVMQQQLISVLRHVVQRSQTSRTK*L*NTEN*R*VVKEGTGSGTVGGKARN*NTYAT*IYGV*SPQSVTDRKTLIGQSES*YRRCNSV*RGKGGRSTDLS*GNTYIGVTFLIRKPSVNLTKVKNR*QLPRR*LYPHV*D*RQENLFISSP*RPRIPSRQKLKNSLEV*QKVPPT**NIRVVVTRPQGHRGVGTAVNRKKKKEG*DCPQYTIEEHQN*TLRGLEQTKRKEITNHCNSLKSMWITGKHRTSLRINSGIG*KGTHNEL*TPQSTHQRSCGTELTEVFSKRLWRRIDLSSERSVFYSPT*ETTLAQELPLSPFCSLRSFIKTLW*RRENIPSDFVSVLNLWS*RNTK*VTV*PYSILCR*TRKSLTVSHCGL*VVSRFTHLFLTYLPHLRCYFST*GNN*FRQVLKPEIRNQIKNFVSNLQKSLVESLHDLGSHHRVQTLGSLNPPVPST*RTRILKLWSGPLYYFRRKIFCKLSVDPHHRQRTSGSMSPPTPTS*WTRTLRLRRHSALVR*REVGPVTSLWGRLFSFFLHNPLYTDNFGKNHKSHRNFNQNSKRTLQFEHQLHSKTLIEFILFTSSKGGDGKQ*I*QSHLKEGHK*STVTCRLLDPTLFKKRVKRFIHKKNVPSARPSEETSAKTISTPVSQ*SFHSRSSELRKDRTPVTVGRPVVSNK*PESKRVGVRRKEGREVVSLAEWPGRRFGLTAVYGGVTSLLCISNRRSKCHYGSGCRSPSSCTFSCRHLCPGCPTGWSSKSSTPERLRFPWVLTPEEVPKPVSKKLKDNLNSLLLREKTDRSSLTRFLNCLVM*TIILKSSLDTSSPS**FEPLLDDLNLSLIKSINSRDSSVCKSESTRRYFHL*HYETGGIPPTRLIYPTSPTFLETSEFRNTVTTNNETTTKDNYPVILG*NHRCKIFVKPKKKIVFVLFCFGTGNFR*VSTKSVI*DPV*RRGHFTTCSFYRKGGIKNKRSGVKVS*TEKKSRSKREVL*LLSPSIQTCRPRIEERMVRRVQINEYLLLTGILLVRRSSWYPLGRFLKVGYFTRVVDY*GS*FP*PFSTGWTPGWAG*VNR*RVWEDGKRGGPERQQVVT*LKQEILGVGKLRRQICITSNKRTPHNHHPGICYDSGRTNRQYNKRTQTRS*APIYQGYVFTTETSYTGSAYDPLYIHSRG*YIPSGWSDGPSDRTVLSFHCYESKNRKKFFFRPISSTFLNHETL*RPSNILLRTPEPYKYY*KEATTSTILRSSVPFYGCCKFHERG*RRSLIGGGGGSKIQQGRPTRTNPTCKG***RVIVVNFVCEGTDKLCPVNS*SSQTEEDEVQKSLYNRSTLNKLFRSKETNVPTRNTQRQELEQRGLNSPRVELLT**PAMISVFQLKNPNSTECRFTNNYFSLFRVKKTNGSTTNEGKEKQLRYIPFYHSVFIFIGLGPLVLLEGGVNQGCPGPPTHSTGRPEYTSHNRILCR*IYLDGKGEPPSDVGCPGLGRTGRPVV*KPFGGDLRLVSCPVLLPGDTQLKKVRKLTHVHILHFGHTTARTPPLDQSQRGTESQHPKHLPDVSLRGSPVVGDFGGHAAEHQGVGGGVSKDTADRKRKRREQKIRRPQLWCLFL*LQEI*ALH*KLLRPLICTNRPLR*PYRKVRRTNCQDGPYMTRKRDPKKGKRTN*RYFNCVEDNSLYRGK*ERISIFFTIFTRESLFF*RNL*VCVTLGCECKY*FPLKWEFWTSLEYKNHSVTRLHI*SGRGKENSLFNGNETILSFIK*E*SLR*NDFRTYTKITKVG*NIKIALHLSPYTYLLGPLAVETYSLRVFVTQRMEPLATERRTTLSYLKAKRK*RFVRGR*NPNYNKDGVSLYL**RRDNGFVTTTDLEIGCRDKITLKEL*FVTGETT*TEKQ*RKHFDVSDTKRSNTTR*GQ*LRNKNLMSRMDVRIKCRSFLFYLAK*KHDNDDSQN**NVHKKTNFTYSKVIMVT*AKRKTTLRRDTYKRNFVSLQRIQLRTKINVMT*DTTD*P*RIGQTDCHDRELILTSNSFCDKPLCDEHLPSSS*FFFSL*PSTIFLHDLIH*YTYECVLWKYKKEILFSTSLYCYIGLYIFEFSNNFL*Y*KYIIPRLPRYNIR*VRHINYVTKQIPDLP*FLKWF*KSLVG*STCSQSIP*HK*AQFNRTPQKETFSDGYILTS*Q*QRNLCFHP*QL*SLKK*TKRKCLLVLSIRKVTPMSTSRR*LYRLFYTGVSDGTR*PTVGE*PNVHG*LRSLSLMDPGPPVYYLGTNK*K*TLKNPSGGTELLPAAENQGNQHDTTQSDHTIEIPDE*TRRRTLDVRSRTFSFPLMSKGSDGPLSVNDVSPEELADIPPLSVGHGLLLVLVLRSEVVGRPTRVRLVCIGGRLCPLSFIYFSNFFK*GGGTGSVEHLEQETKLR*LKTLEGTRSLRPHYEPPVGQSQTSNLSDQYHATNLVTPGQGSRSFLL*QS*SFD*SS*PLLTSV*GDTHKLV*VHVAREASKSV*AQDTRLWKKFYSYL*ANPEYGDHAFSEIQETE*KISVLVIEYGTPT*T*QTKFDNVLLKDVS*NRIGETLNVILTYVDNTE*QSSSVHTDT*IIIL*TYLGRCLTKIGG*TRNHQRKTNTHGGLTKLKRNPLYPVLPRRPHLVSGRIHPPCPLRSREKTNKCLYLRLPSTSTSCKCFRKL*TKTISKENFIVHFVV*VTEIKSHIKSFYMPHEQF*SLRKQSRGL*EQVSRTYPGP*T*NVFGIPLKSYVKLFEVQLRSVRRGP*SPSLL*KTCSVILPNPWSTSRHQNLTQTNKCWVEV*GPTYPGTIEEISVQSSSRKKHLCLLS*ISHTVRIRLLV*HNCRTFSPRTTQCRRWFLRQQ*NSLY**KEPRSFRFYSGQPVGQRSSQVRTLLRMYQR**KKDYPFLPLKTSVEH*TVSIR*RGINRVVEKKTLTILRKEK*IISSHSTGILGGLSRCQ*HKRKGSRSTEKK*QVDSYVKLFLS*TFI*RTPT*ELLILLPSVTFNCILTRFNSLIYI*VYVMVNIKKKFS*VGPARTTECGH*GRETLRLRAPSGLQSSSSGRSD*LYNFGAEMIFMFLIDPHHHVRTSGSTNPPTPSS**TWTLHLQRYSVLVW*REVGPVVLILRQKFFFLSLKSDSTRKKERRDTMVSLVVSRKEKKKGGRK*ISSIK*FTPHI*SNVHSVSDSVSGHQGSNKLPFTDIRIEVSSDFALLGNLGPQVLVGLVVSL*G*VFCFVLFCFVFGFHPFFSFTLTEHKSSRLLILSSSPFPRLWSRDLFM*RRSN*INPPYNCVESRKMYRFTPCNNLEVFLTK*SCVPGKPSLSLRIAHRPIFSQ*PDLDLTFRGLSGRLCNYCLVYGVPTVRTEMDSEISLHSSYPTKIRKYSGEK*DTTGQRRSCVPSESQRYRD*ERERLWVCVCRRVSPGSQVGTREKSCSFQPKSKEDTQKGRTVNN*T*SE*PHCVCKVKYNKKTRFYKKRSWFLL*GTLVKDHSHLKNSETYVYQLLPLR*KPTTLRLPSTVEGHRKLPPSTV*VTVPNPWHGL*RVGEGEETTGRSIYSGCCRSGLSP*KHSHNQDHVHTTCRSLVTLRRKHSISPVVMKDTKGV*LTHHPLPHPHPPPTSRLL*LLRTNPLHATTTQTT*SKCSSCSQRKRPRTSKVSHPTSKLTEYQPRQVYLSRGHVECGRE*RQSYHVLRRPTKKKTKKV*NQSGRVDDYIHPTFGLFLVLV*PTAPSTDIRVVKPSGSVRLVDVSPQDLVGPVVYHFGVEVIFYVFNRPTPLRTDIRVDEPFDSVLLVILGPPSPTSLDSSAVT*GRNHCLTMRQSVFILFYFILFYFI*FPSLPMENIVMKTPFTV*GPLQSLSWFYFPLLASPTEPPPYTLSHRSRVQVTITRSLYTV*GPSPYLQDEGLRANDGPSTCSTRPL*ET*NQLVHQIWNGRGLL*TH*SHQCLLN*P*TGKYTRGVGGTGIKRRGKRGESRRFPVLSNGF*TGPGTDYARELVSVA*TPTTQYRDYPNECLRVPFRTPSVSERYPLFTHRLLDGTD*WI*NNTSLIFTLKSSETSK*SPWVERHHFRKTNRYPLTTRSEYNLVFIQLRSEHKNTPFHQTSDSQCPGQTVRHQVHTNSQDPSFVCL*LSREEGPCRNEDERDKRLFRGDLPFKLSHISLL*QSGPRHRVWTLGS*NPPAAST*WTPVLKLWSDWSHYFGTQMIFMF*STRTTMYGH*GR*TLRLRPLSELGPSAPNVTRF*HGPITLTLRQSLVFFFFFFFFSFLCLL*QRTTGKFFFPFFFL*RSELEGIHDTFTCFSCK*IFELNTVYDLSKAFHSFTLTSDTFMYEFFFTDGSKPSPFCQMISQAQLTNIH*VNSDCSLIQF*PILTLRP*LQRSILNFLFLLILKHVFFSLKLSRFLHLPKVSTRHPQ*TPRTKSPFYGSFCTSGCPLTGRVLARFGGCVRARTSPSLTSLSVGIKYRGLP*NFRIIFTYLHFNSIWSHLSR*FKISKNLKRAKEWEKGAKHKNIFIKGPNM*IRLRGMK*TCFKGIQ*EEHLE*KF*DYYYCYFNYFRKNK*IKIRKVNFSTVYF*KSSVRQTPYHIYVHLKTVPKHLRLRKPQYPLGISPLEV*LTI*KEKTPLGIRYKQ*SWENDRSKGGRDSTKGLRT*EVEDE*SWGRVGTVTRLPE*IV*SVRVIPYRRRQSEITVTQ*KDQRVSNCHVSSEPYATPNQDCWGLYGFRHLRVLEINFTTS*TYT*HM*ESI*ISKDHYGHY*LRNIYDTFINNMT*QKINIKF*QHNNKK*LIESL*KLDTNQLWYLRLGCLYLLTDIECVSWWDPRFARFNGSLFTETDKRV*TRRLLRFP*FSFITSQPSSVIDSRITVRIVIREVVKKKGSKIVV*LRHVNLDKDRGEKKKLYLRTRQRV*RHVTVVEPSGVGDGGSKFVKRTESEGSSTPMSVSGGTGRLKR*KSSLSQSGTTSPTRA*GLESSRRVEPKGFTILMSTLGETDRGQNKNCLLLWVQIFPIH*RVSSVSLTHEFDPVPGTVRLACQGTITSTSPTSDGLRPGVQHLLLVSFPSLP*PTTGVASYVSTVFWIGPSSSFPAFVTRTFKSE*NLQSYKVRIREAKEKATSTESSLGIIRFFIKTIYFMKKILYFLNVCVPVF*VYQIFQDFILHKRWGRELRIRETGVH**RFREYIGRSLQIHGNKSVERHPVDGRGVG*DTRSDYSRH*KSLLRVFGSVRRRRRPTIAVGPDARVR*RISQG*GDN*RRRIRGVSP*DL*P*VTTPRCDVRYVSHKTDMLDGLGPVNAFSRVTIRRKKKKKKLCLRTRQRVRPHDTTLESSDVGDGGPKFAKRTESEGSSTLMSADGGVG*VKKIKIISIPKWYNRSDQSLRTGVH*TGEGGGFHDSNAALGGADRPAKNDQTDLEERVL*EFVFQGDVTHH*KRTSTPS*KSSGRIRTFVDA*IRRCRVPGLRLT*SSCLSKPLRSNRQFGRGLRKTRDIHLELYKDTWLRLTFRTTRDFQGPKTTQGVCSNRVMSLQPMVYRP*NFNRQSRSHPEYGSDTGVTPRPA*GVLVGVNGRAEKGERRR*TNTLGL*THTPRVEVLITKKSRAKIL*NWYVTYLQRV**TYYFKSLLTGDGFLTYLPSPSRVHAKFSIILKIHFLPGEEIKL*LLLKD*DFTKRRGLDKNP*KNLKVGRNSLQTQMFPL*VSKSLSCPGDQGTLFSGPGWDTFK*GGFKQVDLSQKRSH*LPQTFV*VLMIGGPVSASSVSGPTRSTDEPLPSTN*SVRTREPGFRTSTKSYSVTSSSDTSLILTHQ*EFSPEGHTRHTQKKKGIFGRFPVTI*ILY**NSLCDFT*SYLFFH*ATSGHMTVHPLLKRTHQYPFPHKRKVTTK*GAQIT*PKTLASVLRRVKVTYRTGSYSKVFLTPLCFLPGVTTPDPNKTQFP*ASMTYRRCKFRILRKELYKVKCKGFCLLYTISVKGFSKAS*SIRVVTRY*AHQTLP*VIGPEVMSTSMLVFP*LLRSLLTDVQEFTERPP*SCLSFKCNTSLPYLFKVSFWTCILVF*TYFRP*RT*PPVSSI*GHQKIKPKTEDGRGLGKERF*AMRPTRDRLKVGRVYLGPNVDTET*NIGPKPTQVEEVLEVVGRPLLLLCGEKLPSVGVRPSPEAHT*RSPGFYPQRFSIHS*REPVQGPTSESIFTPIT*L*KKNTGNRCFQNHTTTVVLILT*RFIG*GPFLFLPKFFFLLRNFRLDERGPTRGFFYRRPIVKNSQTR*V*GSLPYFHLNRLNILSRL*DRKPMILF*QETSEDTSLIYVLYLPEFLAMGHNDKSNQ*LQYNPTFRSLYHGL*IKDTRYYKRNNLLCLHTVSLQISFIPVDPPQPRCIENQSELEVHDLEATRRKLRTETVCHRPVGAHSVD*ETLSKSILLPPPSLEGPDSSQEPNTLKRKVKGSAPPLDPRDLTFGVVLVAHPVPQSPVLNSRIGSRRSVPGWGSRRNTFLHVTSNIPTGE*RPHEKQQCRTLMPFHLYD**RRSVCDLIRELNEYSSMGQTEL*KSSRSLIYVKSTHGYV*TFTFLFEKVSD*TTRDKPSLSIEYTDRED*N*VHYSVVKTKGSRLNLYTWQSILTY*HTYNKPISQLPSLKVN*TYDITFLVSE*VNK*VSSVQLTCK*PPRGLFCVSYQRNGHPTPLYLQRTLEAVGIKHTLIYVSIQVHV*GYIY*LDPSTLV*NSLTSKAQIRYQKRWTLWCQLSPSDIHGLTMEGGPHGTHTF*THDL*SFVTNRVCIHLV*RLLTSDKSSSNNLASVFNMFLS*QYEHHRSATLYLIGKKVTFINKRRFYNLN*KQDPSLFYWSRIVYDGNQKYDVKTFDNT*MEFMTNDYRRGTKRHNTNSIFLGISIHKVSENAKQPKTLRVPVIYR*AGYTYLEH*NL*IKHHK*NLKEVTIKIHQYS*KFEYSFFFRG*KILKEKSFFNL*GTLRKFSV*DIEPFLTLVF*VTINLLLKFRW*NVPVFLFLSELQKRNSVRFNVYKLTEF*FSRRDRESFRLVA*SFLWKGFLLFGSYGYTLNYRQGGH*L*EILQ*SFYESAHTWDSE*SRYTIREVRNHSATF*KYKSRP*RE*CGVVVYDTRLGDKCVNPTVTRSGTLFQRNPFTSTAFVTLNCFCSGSSASGTGTSTTFHSPLRPPSPSPTHLSE*FFQGKHRTLEIVPCPSLSCINWIPNSSKAIFSRRACLINRTRHT*IFLFGQNNLSPSEDVSQ*ETEEEALVLRSKRDIKIHESLIVECILT*IIDPQPHNLNPEFGIEMFMFF*TQKPPLLLCIPSSFGRENALLVSSLL*PDPLSESSTLPHLS*SRPRLGGPCVFVNGTLHLQHNTNTLTLVKMQLEGWDEVRVQVS*IS*KLVIE*AGRHKKILFSISLDSVIFRRTSLEPFF*GTAHKGCKGPSLRVGTLYHDPYSVRETSIRNRKKTPKSTLSVV*GGFPFIVRPETVVLHVKQKTQKIFRQIDSLRVPFDLTKLYKGWNLGLRPLLVTRQNGVHSTVVTDSVGDRRMVPVHTPPGSEE*RKPP*RPKRLPRVSMYPITFFPPDPQEKENTTGPTVGRDIPVSSYNQGFGNTAQERMSGADTEGGRSTGHRGRKCM*SHLKRVCQ*T*LEGKHFDFLTNVVPRIGTGIK*KKNFLWV*KGMT*SNSTSRVPFQNGESS*ILFD*RSGAYTLDTVRTNFNVSPSNTLKRILPLTSRETLR*SSASGNGRVLRVRVCKYRDKYPLADLGGALRDSRSSPTQFLRTSPRSDITKLYRDGSQRSDQSPWYFKPHQKTLRNLYRLLL**STRSFLNRNHSLRGREQD*EPG*PGGHSRNCVSLRQGTHPETGKELFYSLY*TF*KRLRL*VKVRQS*FRNR*LSSTGTQSPLLD*TLIRMTSIYYGVSFWKD*TTVSTSTTSTNPLCSYSI*KNLGRVSYHSSSFLT*AGL*DVKLT**NLYRPEGLGRGSRGTHVQISRKILGVTFYKDRYLCFFPDTGMDPRSPFLPRPLKPKLPDLPRRQRSSIGPPPKPFPSEEYKNKTFTILSKQSYSRIQNQLFKKGILSLTS*V*NDTQCLPTRGFLSNFLLFRHTSLCNKRDPLSLGPKKVTYK*P*NFS*TIH*SFELLRIETESLKRTSRYIINHLKKTFPSSIYKI*KHPAYQKQR*RAQTVSSLFRHDLHVFTYLDRRTVILN*WVCPPSVLNRTSDIRRLGLGYGTSLITCAHIPLYMSLQVTDDKQYRLWTFVYGYVYSLTYLFHTTQICYVIYVDTFPY*TKTKIFGLSKVFLLHTHFLQRF*ILEIISKYTNFYYIMNNLSILLGFPISPP*VTKGSPASTVVLSLSLLVQLTQRHGKLR*YWFPNK**NLSNISIKIHTKRHTILKKKKEEEKKKKKNSVSERDNGSDVTSPH*SRVMSEVEDPSSLRGQSRRVHRP*YPHTVVRVD*KHKNHLCSKAIRPVRPELEDRSTLGGRSRRHSRP*CLYSVVRVGDIQFEIFFFFFVPNIIDFYKTT*RVPLWDLREKSLEEKKELSRRDTVSTHTEISVGGSYGGSGLRWALPHEDTVIGTRTPRLLEVPEPQYVDGRPVSVPHEPKGFSLRKCKMNRPTLG*FLQKFLLSVKPVRVNDLVRERTEHVGPFINNAIRVNSNYLTNFGFVGVFGYRSDVSTRLFYGEETLSWYTLKGALSREVHPLPTKISGGN*AY*KKERKKKKNSK*IKHQ*LKNLYLKSTNHKTQTIP*FIRFSFPVCFPIKSLERRTSRRK*NGANRPLGDTNLQPVQGTPPDGRKVRTVNGTLNFVKSIRLSSICPRVYRSLRKTYWVLREQSGCVSLRLPASTEDTSPPGTRMDVTSNNVTVLKEPRGFSTLGDQPHVGDSDPQTQRTSQCLSSEVPRYGQCGGSGRLVSLTSLSSLPTWSRDERPVYPCTGSRWGTRPTKKERKFVRPHGTVLVSSDVGTGGPKSTRRVELEDSSTLMLLHGGTDRFKTQKTKNKTISAPKRKKEKLNSF*NFCKKVLSNLKF*KSLEKAYF*RVIYPKPFD*FVSKLKTLTQMHVHAHTRTYIPSNG*INRRSLLVCLGLVPCKLFYSEGLQSQSFLFLTTPLPRSIFPRLLC*GFTFSP*DLT*DTQPLPPVKNLSCKHSQETYT*HIIMTNIKT*SQLKRPPPLSP*TTSSLCDFLTLNTS*SLRTSSQNSPGRYFILVR*VIGFTHTHTPVHPVLYLCRSLTHPHCSFGSSPPMSDTVGRKRRRHLRRIYSDPSHRVDIRRIKL*DQN**GTGWTHPLSPSSKRGSSHHDDPLYTILPTESVK*FRKL*MRISWGLQSTGTSPRGRFTGLLCIRNWRTPFLVPTVILFN*HLHPYFYSNIFL*LFPRYLLCPPIPE*VRSCDVKRQ*RYLRRLPLLLLVNHEVFTESDDEHTTYPSDSGTVSTTTKPDPRQPRFLWLFSTTRLQPV*NENPITYLTNLSSLSFSLVPTEDLKVELFDLPPRRRFRPS*TLSPDPVPRI*THLLGSSRTRIDSVGSPLLLLRRPSSSRDSHPIVDPPSFPSTLKFGTRTCLSRRLFEPSPLIFGLQSRTLLRV*ISN*LSWSLSSPPARPCRTRHPFSPVPRVSGVYPRSPSSPVHHLGAASLTTLRAHNSGPGSPSPPWGRVGSGLLGLEEGQNLDRLSFDSLLETIRPVYVGKLAPSCLHGYNFTTLLSLIAIIINDWGGPLRLVEGPWHRLVNCIS*NASGVLLGLYPP*T*G*HTPSCYSFVVLTKLWSTQSS*VYRSEDSSPEHPDFSPHRPGSGSRGPGGESTEDESTPGIERDLTPFWLL*GAPPAHSPTNHGVTPE*QRCNLLSGSIFPITYPEILYRTKVSVNDLRWTSIPGSYPNFYLHLLLQFVPGERSRDEGFYLPNKNFHLLLLGPFPRPGPKGCG*GSVTPRYPNTLWTNGLPSPFSLDN*CSNDYMTQVDTSRDPANSTCVSRTGGRRKSTHTCTHTHALTHSQPHPQPLTSVSSLFCGTTYIVTLIHYPINSECVKYFRNDKNRV*CD*NEKIGLGFGSIGSFTIWTRQTKSKNKNSVPE*DSGPTSRHRTRTE*RRNRRTQVH*EGGVGGLNDPDVRTWWCGPIKNHLCPKMVWYNRSDQNLRTGVH*TGGVGGFHDPNVRTR*RGPGLVKKKKKPTLSQIEKTAPTSSHRDRAE*RRRRRVQDR*EDGVGGFIDPDVRERWCGPIKKHKNHLYPKATQSVPPEVEDWSPRRTEPEGFTTLLSTLGGASRTRQKNHFGVEGVDILPIL**VQYPTASLSYSSRYDPCPV*QM*YPYNQKEGNHWVTGSGYLVV*QGPGINIFYQSRDTTSCRL*GHLLPLNRTETNERKRAHTQGSEENKLGLRPQTTKDRGPYSLPVRSETESDSSTTSLGSRHRDTFDSGLRINLGSRTLRVRRLVCRTVCVSRAQPSSCGGPLKPGPEPSS*TCPEVLTLVPTSGSA*RSVEDTREYKGRRLDRSLTFERTERTKGRRPESDGPSGSSHTCVPYRSPAPP*FIKE*I*SP*CIERGKN*QVKHLTDSSGGKVGTTYLTILKDEAYYQLETVIGHIFRSHHYKRRNTE*RRVLSSTTNLWD*WNIEHL*NDILSHCFYVVECHRIVNIFPF*YPARTTECGY*GHETLRLRPPSELQSSNSGRTGCTTLG*RWFLCFNRTTPPPVDVRVDEPSDSRPLSELGPSVSNVTRF*HGDVRSDPLFSL*GRVFFFFFFFFLPFQHYRSRKTLGSQSQFCYLIDKTSFINYKVTNLSHIHRVSPTPVHNPL*PDSCTYLPVTGTISGSFLY*SVKSLESVPCTSSMLSRFKPSHLWAICPSHLQSPPPRLSLLPDLIP*SSPFPYHTCVPFRKTSTLVVLNPPYTFLMATYREANSLCFVTSSTLELKLCSSLTVTPSQGICQLLLLYPESSLQYYLYA*TRIKHTQILITELLYTFMYLNYLVKEINFPVFFSSRSVSKILPSLSVSPSTPFPCPILICLPDPHHRMWTLGS*NPPAPPTEWTPVLKLWSDWLYHFGAEMIFMFYNRPTPPSVDIRVDEPSDSVLLANLGPPPPTPLGSSVVT*GRTRCSCSEVQFCFFCFCSFGFVSLVKFFVRSLVIVDFGVSSLLTPQPPAVNADC*VSKKYSKSSPFSPCV*SYKLFTGPYFFCVTT*NWLRRLLSPNFPSSRSQLSFLKSY*SMSRYSSTFFL*PHRPVDLHLLLYQ*IRWKREVLLVR*INIKVLFMYSTRSERLLGSTGQKN*NLGVTQKKRKERKKKKKKLCLRVRQWVRPHVTALESSDVGDRGSKFTKNTESEDSSTLMSTCGGASRLKTSKSSLP*NGTTGPTRA**LEFTRRVELEGFTTIMSVLGGVGRCDIKNIIWR*PKIVVDIKDRRKILYLYKGKTRPPQNFNQ*RERRKN*SHISSSKSSVFTKPLSFVTLLLSSET*AVSIVVISDNVFLVVTFSYRHCVTRPRPHSESYKVLLSGSYNSRPTLPTPG*GDGAKGKKTE**VFESYTFKSEIIQLKSFTLCEYMSY*SLAILKEYQE*FLKVSFLMSNLQ*PN*KRIIDQFLVDTRSLYFLS*VPLP*NNCRVWTRRVCNKYQE*P*LKTR*LTDHFWLL*SRICPVSG*LGRFYLRKFI*IKNVKGDVNVPAEGQFTYRGLRDKLSHM*VVSLHTH*EKRDRKRTRTRRFYDMHEVERRKKSPTT*SV*ASSTSSTGIFPV*NTIRLLVTRQ*LDGPKFLVSSTLTTGGGRSRLQEGNLYKYLHVDVSPID*AVREPYKK*GNFLIRTSKRVNAHQTV*REIGSKQEFLTSTHSTPGPTPGGVPDERYK*GVVFPD*NETVGTIVRSLCHLIKIILYDCFGHPSPRLTIKSKLLSQLPTHVTEYGH*LGS*NPPVPPT*CSSPLVPVGPVVPLWGRDDFDVFNRPASIRTDIRGDEPSDSVLLANLDPQSPTSLDSNTVT*GRTVVSL*DRPLFF**T**KINILVLLKTHP*LRHDGINQESC*DFFSVLIG*KRHSLTPCLRQDGQDTTTKTRHLLTPHFVVVAHVFQLKGLAGTTSIWTERVERGGSLTRRT*TVSFRFRDFSVHIYLIPDTLHKSKQHTLSRPRTLRSRIGVGSRLTETLESFKVSETRRLQGGRCVPSTLGRLNRTTGIRQLTGRTI*CWEPSPCIPQPFLAFPKL*LFDSRNVTIVV*ILFVEIRSHYRQTEKQITTF*GSRVGAQ***APTRTSRPFSCILLDVLPGKQKLEVFTPPQIQSRPAQIQNRCTYPIITARKRKTTSTRKPHNYTL*K*NPPSGMGP*GHLLEKFDDFLPVSYLFGRLTWLLDIPDNRKDGHGVT*TVWSLWRGLHRAKTSGDQRICTRFFLPTSRDPS*VSTLCIAVAVGNEQTLFLVIRLIPLPKPSLPQTDGPTPED*NVSVVLTRRTR*HDVEDARGHLTVLLGAQSFVRSFGAPAGRPTS*FLGCVGKGPPTRTGGGPG*HRSSLSHKGLEELGNF*R*CLTAVGVKESRFLEHKPMDPE*TQNHVS*FVHRSAGGMTWSRRTFWYLTKHRFGRSVKFTSIQHKHCTRTTLS*SRNFPQRDGGRSWGGPN*FFSLTGSLTPDNT**STPKI*SLGHSRKATWHLQTTYRCKISYNIFP*ITRETVRITKKRKHCIS*TALGFSSILDPSIRIDSQLVLQSHVGSPPSN*VVFELQHQKFKIN*KKIESFDTVDLSNSGFRGPSIYHLDETTTRPTVPSLLTSGRVPLCVKGSRRFRRNPTLR*HSTVTPGPNGPFCVSTQKELPKLRKDCTKTFSFTESLLDRPFENPFTKYWGIRSTNLPRLRKRIKCGAGV*RIILTDIGAWVTYTLIKFL*VKRVHVLLLPDNRTSREGLWLQVRQPSSEPSLRVRVLVTPFLKEDLRGTGTNRTLCTHHKMCV*GDNRQPTSDTRTNKKKVSQSIKLIPKESLVLKRVLK*NTQD*VLWFLSPCRGSDGSHIDDHLVRPHTPSHPFPFVISERKTTRTLFRT*GHVQTKTRNQ*SPI*LLQAVVNELPYVTSKDCGRRQWCHDRIH*DNHYDIRNVGERSTYICM*QKMLLVECTKNVFLYMENNFINKRDFINTRADIRVVKPFGSSRLVDSGPQALVGPVVPLWDRDDFYVFNQPTPPYTDIRVDESSAPSP*RTWVLHFKRH*L*RGDVRSDPLSRSEVEFFFYYY*ILGTVVLFVSRQ*VTRLNRYSHRGSYTSISRKILIPFVYETRPFYYLGSSDQFRILSL*QLLT*NSINYSYVLSQENVSFD*GLVR*QSCSFFNFRGFIKSSFYYVN*RLNPLSKSH*KIFHY*FTSLYFRIESSK*NTQTDTGHDLFPSLT*IYLCRLEVFNFPFLAKFPPFFG*KKKTVLTTKIIFKEIDI*TLDDYRDKKRIV*TFKYRSNSLTLFNQSASPSTDIRVVKPSGSVRLVLQSSRSGRTGCTTLGQR*FLCFLIGPHNHTWTLGSMRPSDSVLSVNLAPPPPTSLGSSTVT*GRNRCLALRQSFFFFYFYFFFLWPFS*FQDKITRVQIRVSLNKYINVHLTQATMTLNIDHGILFFRLTV*QTTYIFSFKERKTFSNGIRVLFAKVNPVLKQK**HSFFKRKLHHPHKQRSTHQLRLQQP*LCKGKTLRPYP*ERERLGPLLNLPKHTHTHTHTHTQKFLQINGCKVPEKRLL*LRQTRHQT*KTGESRFGVQYLINNRRPTHSS*RGDTVGSPPSLWVFKG*IFRKVSKSCPQPLTKDISRSLIYKSRNGRDTRDNVEAVTSEFHRCLLYIYLHKIRQKIILKYLGL*P*NILTYI*NK*N*DIL*EEEN*KKKLANGYNFW*KSGVRYVSADTRGFSLLHSGTPLGLPKNVVVVTYGTPRFL*KT*SLEVLKL*IGYKRTSKEIVT*YLNCMYSYRFGKNLDKCKS*ASRRLSLVNVDNLMGDLLLHKGKLIGALMLSFYIKSFIYKYQS**ISPRPLGVVQWPKVKRPRA*TSFPRSLLHHI*VAQ*IQAHFGSTDGSWISS*SKITRDGQLSTKYYLRFSFRFLSDPM*SAPESLQKHLQSTRPRDKWKIPRGQDRVQVMGVEFSNTNFILRREGKKVLMNLESVGELGISGTIGLGSTLFCREKGRKSL*TWSRLESLS*VDQWDCVLQEQEVLY*DKKEVWGTECLVRKES*VCICRHNFVLTDTDGQGFVLS*PLDRCDSSLWYGGSRTTEVNIYT*SPHLLTFSLVVYTFLNMSTFEH*KGSSSSSKDLVT*RCSVVHWGEWTARMTDTWSS*VPPARKTEGTIKTLLTSSKYSRV*MSRVYVIYPRPTYIYISLIHIYI*YINVPQ*KT*LKFTYRVTWIF*PERKKLSINDLRQECVLKN*KWLVSTFL*KRKSLLPYCN*III*PLYVLLISKYQKKH*IHRKDTSVVSSDQLDNEPELINSLGNFSLINVIY*LNPFYFKTK*TQIYDDSLLTRIWRIYGV*FS*VSILPQSKTTRWDSNAVALQIDLKGSIYHGRRRIFYGIR*GTPVWNQLYYRLTRRETVDRKTKTQRVISLIGHKRSHLKLLPKV*ETATSADNPRSSG*YLLTLCLNKTTIKTPMQVEKFPNESRLRPSWSGFLGRSMDVVCFIAATRKT*FHNTKRNLCG*VKRYRHVLLTSNVTRIHNVLTSFINYFGQLKI*LLFLQRCL*LQLFCFIYSALNKKI\",\n          27,\n          \"FGFR2\"\n        ],\n        \"semantic_type\": \"\",\n        \"description\": \"\"\n      }\n    }\n  ]\n}"
            }
          },
          "metadata": {},
          "execution_count": 90
        }
      ]
    }
  ]
}